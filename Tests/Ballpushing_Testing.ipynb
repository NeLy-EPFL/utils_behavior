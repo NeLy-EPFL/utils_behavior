{
 "cells": [
  {
   "cell_type": "code",
   "execution_count": 1,
   "metadata": {},
   "outputs": [],
   "source": [
    "from utils_behavior import Ballpushing_utils\n",
    "\n",
    "from utils_behavior import Sleap_utils\n",
    "\n",
    "from pathlib import Path\n",
    "\n",
    "import pandas as pd\n",
    "\n",
    "import importlib"
   ]
  },
  {
   "cell_type": "code",
   "execution_count": 4,
   "metadata": {},
   "outputs": [
    {
     "data": {
      "text/plain": [
       "<module 'utils_behavior.Ballpushing_utils' from '/home/durrieu/utils_behavior/utils_behavior/Ballpushing_utils.py'>"
      ]
     },
     "execution_count": 4,
     "metadata": {},
     "output_type": "execute_result"
    }
   ],
   "source": [
    "importlib.reload(Ballpushing_utils)"
   ]
  },
  {
   "cell_type": "code",
   "execution_count": 11,
   "metadata": {},
   "outputs": [],
   "source": [
    "TestFly_path = Path(\"/mnt/upramdya_data/MD/MultiMazeRecorder/Videos/240531_MagnetBlock_Videos_Tracked/arena4/corridor4/\")"
   ]
  },
  {
   "cell_type": "code",
   "execution_count": 8,
   "metadata": {},
   "outputs": [],
   "source": [
    "# F1 exp\n",
    "TestFly_path = Path(\"/mnt/upramdya_data/MD/F1_Tracks/Videos/240821_F1_3mm_ends_Videos_Checked/arena4/Left\")\n"
   ]
  },
  {
   "cell_type": "code",
   "execution_count": 2,
   "metadata": {},
   "outputs": [],
   "source": [
    "TestSlp = Sleap_utils.Sleap_Tracks(\"/mnt/upramdya_data/MD/F1_Tracks/Videos/240821_F1_3mm_ends_Videos_Checked/arena4/Left/arena4_left_tracked_ball_processed.000_arena4_left.analysis.h5\")"
   ]
  },
  {
   "cell_type": "code",
   "execution_count": 11,
   "metadata": {},
   "outputs": [
    {
     "data": {
      "text/html": [
       "<div>\n",
       "<style scoped>\n",
       "    .dataframe tbody tr th:only-of-type {\n",
       "        vertical-align: middle;\n",
       "    }\n",
       "\n",
       "    .dataframe tbody tr th {\n",
       "        vertical-align: top;\n",
       "    }\n",
       "\n",
       "    .dataframe thead th {\n",
       "        text-align: right;\n",
       "    }\n",
       "</style>\n",
       "<table border=\"1\" class=\"dataframe\">\n",
       "  <thead>\n",
       "    <tr style=\"text-align: right;\">\n",
       "      <th></th>\n",
       "      <th>frame</th>\n",
       "      <th>time</th>\n",
       "      <th>object</th>\n",
       "      <th>x_centre</th>\n",
       "      <th>y_centre</th>\n",
       "    </tr>\n",
       "  </thead>\n",
       "  <tbody>\n",
       "    <tr>\n",
       "      <th>0</th>\n",
       "      <td>1</td>\n",
       "      <td>0.034483</td>\n",
       "      <td>object_1</td>\n",
       "      <td>46.395609</td>\n",
       "      <td>294.419014</td>\n",
       "    </tr>\n",
       "    <tr>\n",
       "      <th>1</th>\n",
       "      <td>2</td>\n",
       "      <td>0.068966</td>\n",
       "      <td>object_1</td>\n",
       "      <td>46.393454</td>\n",
       "      <td>294.419055</td>\n",
       "    </tr>\n",
       "    <tr>\n",
       "      <th>2</th>\n",
       "      <td>3</td>\n",
       "      <td>0.103448</td>\n",
       "      <td>object_1</td>\n",
       "      <td>46.391299</td>\n",
       "      <td>294.419096</td>\n",
       "    </tr>\n",
       "    <tr>\n",
       "      <th>3</th>\n",
       "      <td>4</td>\n",
       "      <td>0.137931</td>\n",
       "      <td>object_1</td>\n",
       "      <td>46.389143</td>\n",
       "      <td>294.419138</td>\n",
       "    </tr>\n",
       "    <tr>\n",
       "      <th>4</th>\n",
       "      <td>5</td>\n",
       "      <td>0.172414</td>\n",
       "      <td>object_1</td>\n",
       "      <td>46.386988</td>\n",
       "      <td>294.419179</td>\n",
       "    </tr>\n",
       "    <tr>\n",
       "      <th>...</th>\n",
       "      <td>...</td>\n",
       "      <td>...</td>\n",
       "      <td>...</td>\n",
       "      <td>...</td>\n",
       "      <td>...</td>\n",
       "    </tr>\n",
       "    <tr>\n",
       "      <th>261001</th>\n",
       "      <td>261002</td>\n",
       "      <td>9000.068966</td>\n",
       "      <td>object_1</td>\n",
       "      <td>47.371253</td>\n",
       "      <td>175.920539</td>\n",
       "    </tr>\n",
       "    <tr>\n",
       "      <th>261002</th>\n",
       "      <td>261003</td>\n",
       "      <td>9000.103448</td>\n",
       "      <td>object_1</td>\n",
       "      <td>47.371249</td>\n",
       "      <td>175.920624</td>\n",
       "    </tr>\n",
       "    <tr>\n",
       "      <th>261003</th>\n",
       "      <td>261004</td>\n",
       "      <td>9000.137931</td>\n",
       "      <td>object_1</td>\n",
       "      <td>47.371244</td>\n",
       "      <td>175.920710</td>\n",
       "    </tr>\n",
       "    <tr>\n",
       "      <th>261004</th>\n",
       "      <td>261005</td>\n",
       "      <td>9000.172414</td>\n",
       "      <td>object_1</td>\n",
       "      <td>47.371240</td>\n",
       "      <td>175.920796</td>\n",
       "    </tr>\n",
       "    <tr>\n",
       "      <th>261005</th>\n",
       "      <td>261006</td>\n",
       "      <td>9000.206897</td>\n",
       "      <td>object_1</td>\n",
       "      <td>47.371236</td>\n",
       "      <td>175.920881</td>\n",
       "    </tr>\n",
       "  </tbody>\n",
       "</table>\n",
       "<p>261006 rows × 5 columns</p>\n",
       "</div>"
      ],
      "text/plain": [
       "         frame         time    object   x_centre    y_centre\n",
       "0            1     0.034483  object_1  46.395609  294.419014\n",
       "1            2     0.068966  object_1  46.393454  294.419055\n",
       "2            3     0.103448  object_1  46.391299  294.419096\n",
       "3            4     0.137931  object_1  46.389143  294.419138\n",
       "4            5     0.172414  object_1  46.386988  294.419179\n",
       "...        ...          ...       ...        ...         ...\n",
       "261001  261002  9000.068966  object_1  47.371253  175.920539\n",
       "261002  261003  9000.103448  object_1  47.371249  175.920624\n",
       "261003  261004  9000.137931  object_1  47.371244  175.920710\n",
       "261004  261005  9000.172414  object_1  47.371240  175.920796\n",
       "261005  261006  9000.206897  object_1  47.371236  175.920881\n",
       "\n",
       "[261006 rows x 5 columns]"
      ]
     },
     "execution_count": 11,
     "metadata": {},
     "output_type": "execute_result"
    }
   ],
   "source": [
    "TestSlp.objects[0].object_data"
   ]
  },
  {
   "cell_type": "code",
   "execution_count": null,
   "metadata": {},
   "outputs": [
    {
     "ename": "AttributeError",
     "evalue": "'Sleap_Tracks' object has no attribute 'dataset'",
     "output_type": "error",
     "traceback": [
      "\u001b[0;31m---------------------------------------------------------------------------\u001b[0m",
      "\u001b[0;31mAttributeError\u001b[0m                            Traceback (most recent call last)",
      "Cell \u001b[0;32mIn[12], line 1\u001b[0m\n\u001b[0;32m----> 1\u001b[0m \u001b[43mTestSlp\u001b[49m\u001b[38;5;241;43m.\u001b[39;49m\u001b[43mdataset\u001b[49m\n",
      "\u001b[0;31mAttributeError\u001b[0m: 'Sleap_Tracks' object has no attribute 'dataset'"
     ]
    }
   ],
   "source": []
  },
  {
   "cell_type": "code",
   "execution_count": 18,
   "metadata": {},
   "outputs": [
    {
     "data": {
      "text/plain": [
       "<property at 0x73991db47ba0>"
      ]
     },
     "execution_count": 18,
     "metadata": {},
     "output_type": "execute_result"
    }
   ],
   "source": [
    "TestSlp.objects[0].centre"
   ]
  },
  {
   "cell_type": "code",
   "execution_count": 18,
   "metadata": {},
   "outputs": [
    {
     "data": {
      "text/plain": [
       "<module 'utils_behavior.Ballpushing_utils' from '/home/durrieu/utils_behavior/utils_behavior/Ballpushing_utils.py'>"
      ]
     },
     "execution_count": 18,
     "metadata": {},
     "output_type": "execute_result"
    }
   ],
   "source": [
    "importlib.reload(Ballpushing_utils)"
   ]
  },
  {
   "cell_type": "code",
   "execution_count": 19,
   "metadata": {},
   "outputs": [],
   "source": [
    "TestFly = Ballpushing_utils.Fly(TestFly_path, as_individual=True)"
   ]
  },
  {
   "cell_type": "code",
   "execution_count": 20,
   "metadata": {},
   "outputs": [
    {
     "data": {
      "text/plain": [
       "{'Date': '240821',\n",
       " 'Genotype': 'PR',\n",
       " 'Period': 'AM10',\n",
       " 'FeedingState': 'starved_noWater',\n",
       " 'Orientation': 'std',\n",
       " 'Light': 'on',\n",
       " 'Crossing': '1',\n",
       " 'Pretraining': 'y',\n",
       " 'Unlocked': 'yy',\n",
       " '': ''}"
      ]
     },
     "execution_count": 20,
     "metadata": {},
     "output_type": "execute_result"
    }
   ],
   "source": [
    "TestFly.arena_metadata"
   ]
  },
  {
   "cell_type": "code",
   "execution_count": 21,
   "metadata": {},
   "outputs": [
    {
     "data": {
      "text/plain": [
       "'pretrained_unlocked'"
      ]
     },
     "execution_count": 21,
     "metadata": {},
     "output_type": "execute_result"
    }
   ],
   "source": [
    "TestFly.F1_condition"
   ]
  },
  {
   "cell_type": "code",
   "execution_count": 7,
   "metadata": {},
   "outputs": [
    {
     "data": {
      "text/html": [
       "<div>\n",
       "<style scoped>\n",
       "    .dataframe tbody tr th:only-of-type {\n",
       "        vertical-align: middle;\n",
       "    }\n",
       "\n",
       "    .dataframe tbody tr th {\n",
       "        vertical-align: top;\n",
       "    }\n",
       "\n",
       "    .dataframe thead th {\n",
       "        text-align: right;\n",
       "    }\n",
       "</style>\n",
       "<table border=\"1\" class=\"dataframe\">\n",
       "  <thead>\n",
       "    <tr style=\"text-align: right;\">\n",
       "      <th></th>\n",
       "      <th>frame</th>\n",
       "      <th>time</th>\n",
       "      <th>object</th>\n",
       "      <th>x_thorax</th>\n",
       "      <th>y_thorax</th>\n",
       "      <th>adjusted_time</th>\n",
       "    </tr>\n",
       "  </thead>\n",
       "  <tbody>\n",
       "    <tr>\n",
       "      <th>0</th>\n",
       "      <td>1</td>\n",
       "      <td>0.034483</td>\n",
       "      <td>fly_1</td>\n",
       "      <td>46.995866</td>\n",
       "      <td>515.760397</td>\n",
       "      <td>-3795.241379</td>\n",
       "    </tr>\n",
       "    <tr>\n",
       "      <th>1</th>\n",
       "      <td>2</td>\n",
       "      <td>0.068966</td>\n",
       "      <td>fly_1</td>\n",
       "      <td>46.995750</td>\n",
       "      <td>515.733990</td>\n",
       "      <td>-3795.206897</td>\n",
       "    </tr>\n",
       "    <tr>\n",
       "      <th>2</th>\n",
       "      <td>3</td>\n",
       "      <td>0.103448</td>\n",
       "      <td>fly_1</td>\n",
       "      <td>46.995635</td>\n",
       "      <td>515.707583</td>\n",
       "      <td>-3795.172414</td>\n",
       "    </tr>\n",
       "    <tr>\n",
       "      <th>3</th>\n",
       "      <td>4</td>\n",
       "      <td>0.137931</td>\n",
       "      <td>fly_1</td>\n",
       "      <td>46.995519</td>\n",
       "      <td>515.681175</td>\n",
       "      <td>-3795.137931</td>\n",
       "    </tr>\n",
       "    <tr>\n",
       "      <th>4</th>\n",
       "      <td>5</td>\n",
       "      <td>0.172414</td>\n",
       "      <td>fly_1</td>\n",
       "      <td>46.995403</td>\n",
       "      <td>515.654768</td>\n",
       "      <td>-3795.103448</td>\n",
       "    </tr>\n",
       "    <tr>\n",
       "      <th>...</th>\n",
       "      <td>...</td>\n",
       "      <td>...</td>\n",
       "      <td>...</td>\n",
       "      <td>...</td>\n",
       "      <td>...</td>\n",
       "      <td>...</td>\n",
       "    </tr>\n",
       "    <tr>\n",
       "      <th>261001</th>\n",
       "      <td>261002</td>\n",
       "      <td>9000.068966</td>\n",
       "      <td>fly_1</td>\n",
       "      <td>45.539764</td>\n",
       "      <td>500.960535</td>\n",
       "      <td>5204.793103</td>\n",
       "    </tr>\n",
       "    <tr>\n",
       "      <th>261002</th>\n",
       "      <td>261003</td>\n",
       "      <td>9000.103448</td>\n",
       "      <td>fly_1</td>\n",
       "      <td>45.546520</td>\n",
       "      <td>500.943661</td>\n",
       "      <td>5204.827586</td>\n",
       "    </tr>\n",
       "    <tr>\n",
       "      <th>261003</th>\n",
       "      <td>261004</td>\n",
       "      <td>9000.137931</td>\n",
       "      <td>fly_1</td>\n",
       "      <td>45.553275</td>\n",
       "      <td>500.926787</td>\n",
       "      <td>5204.862069</td>\n",
       "    </tr>\n",
       "    <tr>\n",
       "      <th>261004</th>\n",
       "      <td>261005</td>\n",
       "      <td>9000.172414</td>\n",
       "      <td>fly_1</td>\n",
       "      <td>45.560030</td>\n",
       "      <td>500.909913</td>\n",
       "      <td>5204.896552</td>\n",
       "    </tr>\n",
       "    <tr>\n",
       "      <th>261005</th>\n",
       "      <td>261006</td>\n",
       "      <td>9000.206897</td>\n",
       "      <td>fly_1</td>\n",
       "      <td>45.566785</td>\n",
       "      <td>500.893039</td>\n",
       "      <td>5204.931034</td>\n",
       "    </tr>\n",
       "  </tbody>\n",
       "</table>\n",
       "<p>261006 rows × 6 columns</p>\n",
       "</div>"
      ],
      "text/plain": [
       "         frame         time object   x_thorax    y_thorax  adjusted_time\n",
       "0            1     0.034483  fly_1  46.995866  515.760397   -3795.241379\n",
       "1            2     0.068966  fly_1  46.995750  515.733990   -3795.206897\n",
       "2            3     0.103448  fly_1  46.995635  515.707583   -3795.172414\n",
       "3            4     0.137931  fly_1  46.995519  515.681175   -3795.137931\n",
       "4            5     0.172414  fly_1  46.995403  515.654768   -3795.103448\n",
       "...        ...          ...    ...        ...         ...            ...\n",
       "261001  261002  9000.068966  fly_1  45.539764  500.960535    5204.793103\n",
       "261002  261003  9000.103448  fly_1  45.546520  500.943661    5204.827586\n",
       "261003  261004  9000.137931  fly_1  45.553275  500.926787    5204.862069\n",
       "261004  261005  9000.172414  fly_1  45.560030  500.909913    5204.896552\n",
       "261005  261006  9000.206897  fly_1  45.566785  500.893039    5204.931034\n",
       "\n",
       "[261006 rows x 6 columns]"
      ]
     },
     "execution_count": 7,
     "metadata": {},
     "output_type": "execute_result"
    }
   ],
   "source": [
    "TestFly.flytrack.objects[0].dataset"
   ]
  },
  {
   "cell_type": "code",
   "execution_count": 8,
   "metadata": {},
   "outputs": [
    {
     "data": {
      "text/html": [
       "<div>\n",
       "<style scoped>\n",
       "    .dataframe tbody tr th:only-of-type {\n",
       "        vertical-align: middle;\n",
       "    }\n",
       "\n",
       "    .dataframe tbody tr th {\n",
       "        vertical-align: top;\n",
       "    }\n",
       "\n",
       "    .dataframe thead th {\n",
       "        text-align: right;\n",
       "    }\n",
       "</style>\n",
       "<table border=\"1\" class=\"dataframe\">\n",
       "  <thead>\n",
       "    <tr style=\"text-align: right;\">\n",
       "      <th></th>\n",
       "      <th>frame</th>\n",
       "      <th>time</th>\n",
       "      <th>object</th>\n",
       "      <th>x_centre</th>\n",
       "      <th>y_centre</th>\n",
       "      <th>euclidean_distance</th>\n",
       "    </tr>\n",
       "  </thead>\n",
       "  <tbody>\n",
       "    <tr>\n",
       "      <th>0</th>\n",
       "      <td>1</td>\n",
       "      <td>0.034483</td>\n",
       "      <td>ball_2</td>\n",
       "      <td>239.203365</td>\n",
       "      <td>430.395402</td>\n",
       "      <td>0.000000</td>\n",
       "    </tr>\n",
       "    <tr>\n",
       "      <th>1</th>\n",
       "      <td>2</td>\n",
       "      <td>0.068966</td>\n",
       "      <td>ball_2</td>\n",
       "      <td>239.203280</td>\n",
       "      <td>430.395488</td>\n",
       "      <td>0.000121</td>\n",
       "    </tr>\n",
       "    <tr>\n",
       "      <th>2</th>\n",
       "      <td>3</td>\n",
       "      <td>0.103448</td>\n",
       "      <td>ball_2</td>\n",
       "      <td>239.203196</td>\n",
       "      <td>430.395575</td>\n",
       "      <td>0.000241</td>\n",
       "    </tr>\n",
       "    <tr>\n",
       "      <th>3</th>\n",
       "      <td>4</td>\n",
       "      <td>0.137931</td>\n",
       "      <td>ball_2</td>\n",
       "      <td>239.203112</td>\n",
       "      <td>430.395661</td>\n",
       "      <td>0.000362</td>\n",
       "    </tr>\n",
       "    <tr>\n",
       "      <th>4</th>\n",
       "      <td>5</td>\n",
       "      <td>0.172414</td>\n",
       "      <td>ball_2</td>\n",
       "      <td>239.203028</td>\n",
       "      <td>430.395747</td>\n",
       "      <td>0.000482</td>\n",
       "    </tr>\n",
       "    <tr>\n",
       "      <th>...</th>\n",
       "      <td>...</td>\n",
       "      <td>...</td>\n",
       "      <td>...</td>\n",
       "      <td>...</td>\n",
       "      <td>...</td>\n",
       "      <td>...</td>\n",
       "    </tr>\n",
       "    <tr>\n",
       "      <th>261001</th>\n",
       "      <td>261002</td>\n",
       "      <td>9000.068966</td>\n",
       "      <td>ball_2</td>\n",
       "      <td>235.933383</td>\n",
       "      <td>477.956923</td>\n",
       "      <td>47.673799</td>\n",
       "    </tr>\n",
       "    <tr>\n",
       "      <th>261002</th>\n",
       "      <td>261003</td>\n",
       "      <td>9000.103448</td>\n",
       "      <td>ball_2</td>\n",
       "      <td>235.933577</td>\n",
       "      <td>477.956769</td>\n",
       "      <td>47.673631</td>\n",
       "    </tr>\n",
       "    <tr>\n",
       "      <th>261003</th>\n",
       "      <td>261004</td>\n",
       "      <td>9000.137931</td>\n",
       "      <td>ball_2</td>\n",
       "      <td>235.933772</td>\n",
       "      <td>477.956614</td>\n",
       "      <td>47.673463</td>\n",
       "    </tr>\n",
       "    <tr>\n",
       "      <th>261004</th>\n",
       "      <td>261005</td>\n",
       "      <td>9000.172414</td>\n",
       "      <td>ball_2</td>\n",
       "      <td>235.933966</td>\n",
       "      <td>477.956459</td>\n",
       "      <td>47.673296</td>\n",
       "    </tr>\n",
       "    <tr>\n",
       "      <th>261005</th>\n",
       "      <td>261006</td>\n",
       "      <td>9000.206897</td>\n",
       "      <td>ball_2</td>\n",
       "      <td>235.934161</td>\n",
       "      <td>477.956304</td>\n",
       "      <td>47.673128</td>\n",
       "    </tr>\n",
       "  </tbody>\n",
       "</table>\n",
       "<p>261006 rows × 6 columns</p>\n",
       "</div>"
      ],
      "text/plain": [
       "         frame         time  object    x_centre    y_centre  \\\n",
       "0            1     0.034483  ball_2  239.203365  430.395402   \n",
       "1            2     0.068966  ball_2  239.203280  430.395488   \n",
       "2            3     0.103448  ball_2  239.203196  430.395575   \n",
       "3            4     0.137931  ball_2  239.203112  430.395661   \n",
       "4            5     0.172414  ball_2  239.203028  430.395747   \n",
       "...        ...          ...     ...         ...         ...   \n",
       "261001  261002  9000.068966  ball_2  235.933383  477.956923   \n",
       "261002  261003  9000.103448  ball_2  235.933577  477.956769   \n",
       "261003  261004  9000.137931  ball_2  235.933772  477.956614   \n",
       "261004  261005  9000.172414  ball_2  235.933966  477.956459   \n",
       "261005  261006  9000.206897  ball_2  235.934161  477.956304   \n",
       "\n",
       "        euclidean_distance  \n",
       "0                 0.000000  \n",
       "1                 0.000121  \n",
       "2                 0.000241  \n",
       "3                 0.000362  \n",
       "4                 0.000482  \n",
       "...                    ...  \n",
       "261001           47.673799  \n",
       "261002           47.673631  \n",
       "261003           47.673463  \n",
       "261004           47.673296  \n",
       "261005           47.673128  \n",
       "\n",
       "[261006 rows x 6 columns]"
      ]
     },
     "execution_count": 8,
     "metadata": {},
     "output_type": "execute_result"
    }
   ],
   "source": [
    "TestFly.balltrack.objects[1].dataset"
   ]
  },
  {
   "cell_type": "code",
   "execution_count": 10,
   "metadata": {},
   "outputs": [
    {
     "data": {
      "image/png": "[encoded data removed]",
      "text/plain": [
       "<Figure size 640x480 with 1 Axes>"
      ]
     },
     "metadata": {},
     "output_type": "display_data"
    }
   ],
   "source": [
    "# Plot the second ball relative position across adjusted time\n",
    "\n",
    "Adjusted_time = TestFly.flytrack.objects[0].dataset['adjusted_time']\n",
    "\n",
    "Ball_position = TestFly.balltrack.objects[1].dataset['euclidean_distance']\n",
    "\n",
    "# Plot the second ball relative position across adjusted time\n",
    "import seaborn as sns\n",
    "import matplotlib.pyplot as plt\n",
    "\n",
    "plt.figure()\n",
    "sns.lineplot(x=Adjusted_time, y=Ball_position)\n",
    "plt.show()"
   ]
  },
  {
   "cell_type": "code",
   "execution_count": null,
   "metadata": {},
   "outputs": [],
   "source": []
  },
  {
   "cell_type": "code",
   "execution_count": 24,
   "metadata": {},
   "outputs": [],
   "source": [
    "# Let's make 2 annotated videos for each push / pull event\n",
    "\n",
    "# First, let's get the push / pull events\n",
    "\n",
    "pushes = TestFly.metrics[\"fly_1_ball_1\"][\"events_direction\"][0]\n",
    "\n",
    "pulls = TestFly.metrics[\"fly_1_ball_1\"][\"events_direction\"][1]"
   ]
  },
  {
   "cell_type": "code",
   "execution_count": 172,
   "metadata": {},
   "outputs": [
    {
     "name": "stdout",
     "output_type": "stream",
     "text": [
      "No CUDA devices found, falling back to CPU processing.\n"
     ]
    },
    {
     "name": "stderr",
     "output_type": "stream",
     "text": [
      "Processing frames: 100%|██████████| 219/219 [00:05<00:00, 37.80it/s]\n"
     ]
    },
    {
     "name": "stdout",
     "output_type": "stream",
     "text": [
      "No CUDA devices found, falling back to CPU processing.\n"
     ]
    },
    {
     "name": "stderr",
     "output_type": "stream",
     "text": [
      "Processing frames: 100%|██████████| 389/389 [00:09<00:00, 38.91it/s]\n"
     ]
    },
    {
     "name": "stdout",
     "output_type": "stream",
     "text": [
      "No CUDA devices found, falling back to CPU processing.\n"
     ]
    },
    {
     "name": "stderr",
     "output_type": "stream",
     "text": [
      "Processing frames: 100%|██████████| 585/585 [00:15<00:00, 38.98it/s]\n"
     ]
    },
    {
     "name": "stdout",
     "output_type": "stream",
     "text": [
      "No CUDA devices found, falling back to CPU processing.\n"
     ]
    },
    {
     "name": "stderr",
     "output_type": "stream",
     "text": [
      "Processing frames: 100%|██████████| 111/111 [00:03<00:00, 33.20it/s]\n"
     ]
    }
   ],
   "source": [
    "# Now for the two first pushes and pulls, let's make the videos\n",
    "\n",
    "for push in pushes[:2]:\n",
    "    TestFly.flytrack.generate_annotated_video(save=True, output_path = f\"/mnt/upramdya_data/MD/Other_Videos/Events_annotation/push{push}.mp4\"\n",
    "    , start = push[0], end = push[1])\n",
    "for pull in pulls[:2]:\n",
    "    TestFly.flytrack.generate_annotated_video(save=True, output_path = f\"/mnt/upramdya_data/MD/Other_Videos/Events_annotation/pull{pull}.mp4\"\n",
    "    , start = pull[0], end = pull[1])\n",
    "    \n",
    "    "
   ]
  },
  {
   "cell_type": "code",
   "execution_count": 159,
   "metadata": {},
   "outputs": [
    {
     "data": {
      "text/plain": [
       "([[np.int64(53651), np.int64(53869), np.int64(218)],\n",
       "  [np.int64(56493), np.int64(56603), np.int64(110)],\n",
       "  [np.int64(59233), np.int64(59302), np.int64(69)],\n",
       "  [np.int64(59711), np.int64(60034), np.int64(323)],\n",
       "  [np.int64(62187), np.int64(62274), np.int64(87)],\n",
       "  [np.int64(66494), np.int64(66807), np.int64(313)],\n",
       "  [np.int64(69427), np.int64(70538), np.int64(1111)]],\n",
       " [[np.int64(54166), np.int64(54554), np.int64(388)],\n",
       "  [np.int64(55126), np.int64(55710), np.int64(584)],\n",
       "  [np.int64(56022), np.int64(56101), np.int64(79)],\n",
       "  [np.int64(56889), np.int64(57498), np.int64(609)],\n",
       "  [np.int64(58541), np.int64(58654), np.int64(113)],\n",
       "  [np.int64(60964), np.int64(61259), np.int64(295)],\n",
       "  [np.int64(64498), np.int64(64575), np.int64(77)],\n",
       "  [np.int64(67637), np.int64(68002), np.int64(365)],\n",
       "  [np.int64(68769), np.int64(69006), np.int64(237)],\n",
       "  [np.int64(142259), np.int64(142486), np.int64(227)],\n",
       "  [np.int64(145511), np.int64(145866), np.int64(355)]])"
      ]
     },
     "execution_count": 159,
     "metadata": {},
     "output_type": "execute_result"
    }
   ],
   "source": [
    "TestFly.metrics[\"fly_1_ball_1\"][\"events_direction\"]"
   ]
  },
  {
   "cell_type": "code",
   "execution_count": 98,
   "metadata": {},
   "outputs": [
    {
     "data": {
      "text/plain": [
       "2704.0"
      ]
     },
     "execution_count": 98,
     "metadata": {},
     "output_type": "execute_result"
    }
   ],
   "source": [
    "78416 / 29"
   ]
  },
  {
   "cell_type": "code",
   "execution_count": 99,
   "metadata": {},
   "outputs": [
    {
     "data": {
      "text/plain": [
       "45.06666666666667"
      ]
     },
     "execution_count": 99,
     "metadata": {},
     "output_type": "execute_result"
    }
   ],
   "source": [
    "2704 / 60"
   ]
  },
  {
   "cell_type": "code",
   "execution_count": 100,
   "metadata": {},
   "outputs": [
    {
     "data": {
      "text/plain": [
       "'starved_noWater'"
      ]
     },
     "execution_count": 100,
     "metadata": {},
     "output_type": "execute_result"
    }
   ],
   "source": [
    "TestFly.FeedingState"
   ]
  },
  {
   "cell_type": "code",
   "execution_count": 101,
   "metadata": {},
   "outputs": [
    {
     "data": {
      "text/plain": [
       "{1: {1: [[np.int64(52980), np.int64(53066), np.int64(86)],\n",
       "   [np.int64(53651), np.int64(53869), np.int64(218)],\n",
       "   [np.int64(54166), np.int64(54554), np.int64(388)],\n",
       "   [np.int64(55126), np.int64(55710), np.int64(584)],\n",
       "   [np.int64(56022), np.int64(56101), np.int64(79)],\n",
       "   [np.int64(56493), np.int64(56603), np.int64(110)],\n",
       "   [np.int64(56889), np.int64(57498), np.int64(609)],\n",
       "   [np.int64(58191), np.int64(58289), np.int64(98)],\n",
       "   [np.int64(58541), np.int64(58654), np.int64(113)],\n",
       "   [np.int64(59233), np.int64(59302), np.int64(69)],\n",
       "   [np.int64(59711), np.int64(60034), np.int64(323)],\n",
       "   [np.int64(60964), np.int64(61259), np.int64(295)],\n",
       "   [np.int64(62187), np.int64(62274), np.int64(87)],\n",
       "   [np.int64(63039), np.int64(63100), np.int64(61)],\n",
       "   [np.int64(63554), np.int64(63620), np.int64(66)],\n",
       "   [np.int64(64498), np.int64(64575), np.int64(77)],\n",
       "   [np.int64(65043), np.int64(65159), np.int64(116)],\n",
       "   [np.int64(65870), np.int64(66007), np.int64(137)],\n",
       "   [np.int64(66494), np.int64(66807), np.int64(313)],\n",
       "   [np.int64(67637), np.int64(68002), np.int64(365)],\n",
       "   [np.int64(68769), np.int64(69006), np.int64(237)],\n",
       "   [np.int64(69427), np.int64(70538), np.int64(1111)],\n",
       "   [np.int64(72017), np.int64(72217), np.int64(200)],\n",
       "   [np.int64(78416), np.int64(78777), np.int64(361)],\n",
       "   [np.int64(79562), np.int64(79649), np.int64(87)],\n",
       "   [np.int64(79987), np.int64(80211), np.int64(224)],\n",
       "   [np.int64(83167), np.int64(83279), np.int64(112)],\n",
       "   [np.int64(84766), np.int64(84862), np.int64(96)],\n",
       "   [np.int64(85329), np.int64(85396), np.int64(67)],\n",
       "   [np.int64(88215), np.int64(88446), np.int64(231)],\n",
       "   [np.int64(92091), np.int64(92161), np.int64(70)],\n",
       "   [np.int64(93609), np.int64(93718), np.int64(109)],\n",
       "   [np.int64(97803), np.int64(97986), np.int64(183)],\n",
       "   [np.int64(99524), np.int64(99596), np.int64(72)],\n",
       "   [np.int64(103334), np.int64(103610), np.int64(276)],\n",
       "   [np.int64(105021), np.int64(105153), np.int64(132)],\n",
       "   [np.int64(106417), np.int64(107185), np.int64(768)],\n",
       "   [np.int64(113626), np.int64(113932), np.int64(306)],\n",
       "   [np.int64(115173), np.int64(115237), np.int64(64)],\n",
       "   [np.int64(118636), np.int64(118717), np.int64(81)],\n",
       "   [np.int64(121037), np.int64(121146), np.int64(109)],\n",
       "   [np.int64(122403), np.int64(122497), np.int64(94)],\n",
       "   [np.int64(124444), np.int64(125177), np.int64(733)],\n",
       "   [np.int64(125503), np.int64(125698), np.int64(195)],\n",
       "   [np.int64(132525), np.int64(132649), np.int64(124)],\n",
       "   [np.int64(138276), np.int64(138371), np.int64(95)],\n",
       "   [np.int64(138887), np.int64(139047), np.int64(160)],\n",
       "   [np.int64(142259), np.int64(142486), np.int64(227)],\n",
       "   [np.int64(145511), np.int64(145866), np.int64(355)],\n",
       "   [np.int64(149906), np.int64(150000), np.int64(94)],\n",
       "   [np.int64(151292), np.int64(151557), np.int64(265)],\n",
       "   [np.int64(154751), np.int64(154949), np.int64(198)]]}}"
      ]
     },
     "execution_count": 101,
     "metadata": {},
     "output_type": "execute_result"
    }
   ],
   "source": [
    "TestFly.interaction_events"
   ]
  },
  {
   "cell_type": "code",
   "execution_count": 102,
   "metadata": {},
   "outputs": [
    {
     "name": "stdout",
     "output_type": "stream",
     "text": [
      "Number of events for 1: 1\n"
     ]
    },
    {
     "data": {
      "text/plain": [
       "{1: 1}"
      ]
     },
     "execution_count": 102,
     "metadata": {},
     "output_type": "execute_result"
    }
   ],
   "source": [
    "TestFly.get_events_number()"
   ]
  },
  {
   "cell_type": "code",
   "execution_count": 106,
   "metadata": {},
   "outputs": [
    {
     "data": {
      "text/plain": [
       "{'final_event': ([np.int64(78416), np.int64(78777), np.int64(361)], 23),\n",
       " 'significant_events': [[np.int64(53651), np.int64(53869), np.int64(218)],\n",
       "  [np.int64(54166), np.int64(54554), np.int64(388)],\n",
       "  [np.int64(55126), np.int64(55710), np.int64(584)],\n",
       "  [np.int64(56022), np.int64(56101), np.int64(79)],\n",
       "  [np.int64(56493), np.int64(56603), np.int64(110)],\n",
       "  [np.int64(56889), np.int64(57498), np.int64(609)],\n",
       "  [np.int64(58541), np.int64(58654), np.int64(113)],\n",
       "  [np.int64(59233), np.int64(59302), np.int64(69)],\n",
       "  [np.int64(59711), np.int64(60034), np.int64(323)],\n",
       "  [np.int64(60964), np.int64(61259), np.int64(295)],\n",
       "  [np.int64(62187), np.int64(62274), np.int64(87)],\n",
       "  [np.int64(64498), np.int64(64575), np.int64(77)],\n",
       "  [np.int64(66494), np.int64(66807), np.int64(313)],\n",
       "  [np.int64(67637), np.int64(68002), np.int64(365)],\n",
       "  [np.int64(68769), np.int64(69006), np.int64(237)],\n",
       "  [np.int64(69427), np.int64(70538), np.int64(1111)],\n",
       "  [np.int64(142259), np.int64(142486), np.int64(227)],\n",
       "  [np.int64(145511), np.int64(145866), np.int64(355)]],\n",
       " 'breaks': [(0, np.int64(52980), np.int64(52980)),\n",
       "  (np.int64(53066), np.int64(53651), np.int64(585)),\n",
       "  (np.int64(53869), np.int64(54166), np.int64(297)),\n",
       "  (np.int64(54554), np.int64(55126), np.int64(572)),\n",
       "  (np.int64(55710), np.int64(56022), np.int64(312)),\n",
       "  (np.int64(56101), np.int64(56493), np.int64(392)),\n",
       "  (np.int64(56603), np.int64(56889), np.int64(286)),\n",
       "  (np.int64(57498), np.int64(58191), np.int64(693)),\n",
       "  (np.int64(58289), np.int64(58541), np.int64(252)),\n",
       "  (np.int64(58654), np.int64(59233), np.int64(579)),\n",
       "  (np.int64(59302), np.int64(59711), np.int64(409)),\n",
       "  (np.int64(60034), np.int64(60964), np.int64(930)),\n",
       "  (np.int64(61259), np.int64(62187), np.int64(928)),\n",
       "  (np.int64(62274), np.int64(63039), np.int64(765)),\n",
       "  (np.int64(63100), np.int64(63554), np.int64(454)),\n",
       "  (np.int64(63620), np.int64(64498), np.int64(878)),\n",
       "  (np.int64(64575), np.int64(65043), np.int64(468)),\n",
       "  (np.int64(65159), np.int64(65870), np.int64(711)),\n",
       "  (np.int64(66007), np.int64(66494), np.int64(487)),\n",
       "  (np.int64(66807), np.int64(67637), np.int64(830)),\n",
       "  (np.int64(68002), np.int64(68769), np.int64(767)),\n",
       "  (np.int64(69006), np.int64(69427), np.int64(421)),\n",
       "  (np.int64(70538), np.int64(72017), np.int64(1479)),\n",
       "  (np.int64(72217), np.int64(78416), np.int64(6199)),\n",
       "  (np.int64(78777), np.int64(79562), np.int64(785)),\n",
       "  (np.int64(79649), np.int64(79987), np.int64(338)),\n",
       "  (np.int64(80211), np.int64(83167), np.int64(2956)),\n",
       "  (np.int64(83279), np.int64(84766), np.int64(1487)),\n",
       "  (np.int64(84862), np.int64(85329), np.int64(467)),\n",
       "  (np.int64(85396), np.int64(88215), np.int64(2819)),\n",
       "  (np.int64(88446), np.int64(92091), np.int64(3645)),\n",
       "  (np.int64(92161), np.int64(93609), np.int64(1448)),\n",
       "  (np.int64(93718), np.int64(97803), np.int64(4085)),\n",
       "  (np.int64(97986), np.int64(99524), np.int64(1538)),\n",
       "  (np.int64(99596), np.int64(103334), np.int64(3738)),\n",
       "  (np.int64(103610), np.int64(105021), np.int64(1411)),\n",
       "  (np.int64(105153), np.int64(106417), np.int64(1264)),\n",
       "  (np.int64(107185), np.int64(113626), np.int64(6441)),\n",
       "  (np.int64(113932), np.int64(115173), np.int64(1241)),\n",
       "  (np.int64(115237), np.int64(118636), np.int64(3399)),\n",
       "  (np.int64(118717), np.int64(121037), np.int64(2320)),\n",
       "  (np.int64(121146), np.int64(122403), np.int64(1257)),\n",
       "  (np.int64(122497), np.int64(124444), np.int64(1947)),\n",
       "  (np.int64(125177), np.int64(125503), np.int64(326)),\n",
       "  (np.int64(125698), np.int64(132525), np.int64(6827)),\n",
       "  (np.int64(132649), np.int64(138276), np.int64(5627)),\n",
       "  (np.int64(138371), np.int64(138887), np.int64(516)),\n",
       "  (np.int64(139047), np.int64(142259), np.int64(3212)),\n",
       "  (np.int64(142486), np.int64(145511), np.int64(3025)),\n",
       "  (np.int64(145866), np.int64(149906), np.int64(4040)),\n",
       "  (np.int64(150000), np.int64(151292), np.int64(1292)),\n",
       "  (np.int64(151557), np.int64(154751), np.int64(3194)),\n",
       "  (np.int64(154949), 156603, np.int64(1654))],\n",
       " 'cumulated_breaks_duration': np.int64(144973),\n",
       " 'events_direction': ([[np.int64(53651), np.int64(53869), np.int64(218)],\n",
       "   [np.int64(56493), np.int64(56603), np.int64(110)],\n",
       "   [np.int64(59233), np.int64(59302), np.int64(69)],\n",
       "   [np.int64(59711), np.int64(60034), np.int64(323)],\n",
       "   [np.int64(62187), np.int64(62274), np.int64(87)],\n",
       "   [np.int64(66494), np.int64(66807), np.int64(313)],\n",
       "   [np.int64(69427), np.int64(70538), np.int64(1111)]],\n",
       "  [[np.int64(54166), np.int64(54554), np.int64(388)],\n",
       "   [np.int64(55126), np.int64(55710), np.int64(584)],\n",
       "   [np.int64(56022), np.int64(56101), np.int64(79)],\n",
       "   [np.int64(56889), np.int64(57498), np.int64(609)],\n",
       "   [np.int64(58541), np.int64(58654), np.int64(113)],\n",
       "   [np.int64(60964), np.int64(61259), np.int64(295)],\n",
       "   [np.int64(64498), np.int64(64575), np.int64(77)],\n",
       "   [np.int64(67637), np.int64(68002), np.int64(365)],\n",
       "   [np.int64(68769), np.int64(69006), np.int64(237)],\n",
       "   [np.int64(142259), np.int64(142486), np.int64(227)],\n",
       "   [np.int64(145511), np.int64(145866), np.int64(355)]])}"
      ]
     },
     "execution_count": 106,
     "metadata": {},
     "output_type": "execute_result"
    }
   ],
   "source": [
    "TestFly.metrics[\"fly_1_ball_1\"]"
   ]
  },
  {
   "cell_type": "code",
   "execution_count": 115,
   "metadata": {},
   "outputs": [
    {
     "data": {
      "text/plain": [
       "np.int64(78416)"
      ]
     },
     "execution_count": 115,
     "metadata": {},
     "output_type": "execute_result"
    }
   ],
   "source": [
    "final_event[0][0]"
   ]
  },
  {
   "cell_type": "code",
   "execution_count": 141,
   "metadata": {},
   "outputs": [
    {
     "name": "stdout",
     "output_type": "stream",
     "text": [
      "No CUDA devices found, falling back to CPU processing.\n"
     ]
    },
    {
     "name": "stderr",
     "output_type": "stream",
     "text": [
      "Processing frames: 100%|██████████| 610/610 [00:15<00:00, 38.82it/s]\n"
     ]
    }
   ],
   "source": [
    "# Make an annotated video of the final event of the fly\n",
    "final_event = TestFly.metrics[\"fly_1_ball_1\"][\"final_event\"]\n",
    "\n",
    "TestFly.balltrack.generate_annotated_video(\n",
    "    save=True,\n",
    "    output_path = \"/mnt/upramdya_data/MD/Other_Videos/Events_annotation/final_event.mp4\",\n",
    "    start=final_event[0][0],\n",
    "    end = final_event[0][1]\n",
    ")\n"
   ]
  },
  {
   "cell_type": "code",
   "execution_count": 121,
   "metadata": {},
   "outputs": [
    {
     "data": {
      "text/plain": [
       "{1: {1: [[np.int64(52980), np.int64(53066), np.int64(86)],\n",
       "   [np.int64(53651), np.int64(53869), np.int64(218)],\n",
       "   [np.int64(54166), np.int64(54554), np.int64(388)],\n",
       "   [np.int64(55126), np.int64(55710), np.int64(584)],\n",
       "   [np.int64(56022), np.int64(56101), np.int64(79)],\n",
       "   [np.int64(56493), np.int64(56603), np.int64(110)],\n",
       "   [np.int64(56889), np.int64(57498), np.int64(609)],\n",
       "   [np.int64(58191), np.int64(58289), np.int64(98)],\n",
       "   [np.int64(58541), np.int64(58654), np.int64(113)],\n",
       "   [np.int64(59233), np.int64(59302), np.int64(69)],\n",
       "   [np.int64(59711), np.int64(60034), np.int64(323)],\n",
       "   [np.int64(60964), np.int64(61259), np.int64(295)],\n",
       "   [np.int64(62187), np.int64(62274), np.int64(87)],\n",
       "   [np.int64(63039), np.int64(63100), np.int64(61)],\n",
       "   [np.int64(63554), np.int64(63620), np.int64(66)],\n",
       "   [np.int64(64498), np.int64(64575), np.int64(77)],\n",
       "   [np.int64(65043), np.int64(65159), np.int64(116)],\n",
       "   [np.int64(65870), np.int64(66007), np.int64(137)],\n",
       "   [np.int64(66494), np.int64(66807), np.int64(313)],\n",
       "   [np.int64(67637), np.int64(68002), np.int64(365)],\n",
       "   [np.int64(68769), np.int64(69006), np.int64(237)],\n",
       "   [np.int64(69427), np.int64(70538), np.int64(1111)],\n",
       "   [np.int64(72017), np.int64(72217), np.int64(200)],\n",
       "   [np.int64(78416), np.int64(78777), np.int64(361)],\n",
       "   [np.int64(79562), np.int64(79649), np.int64(87)],\n",
       "   [np.int64(79987), np.int64(80211), np.int64(224)],\n",
       "   [np.int64(83167), np.int64(83279), np.int64(112)],\n",
       "   [np.int64(84766), np.int64(84862), np.int64(96)],\n",
       "   [np.int64(85329), np.int64(85396), np.int64(67)],\n",
       "   [np.int64(88215), np.int64(88446), np.int64(231)],\n",
       "   [np.int64(92091), np.int64(92161), np.int64(70)],\n",
       "   [np.int64(93609), np.int64(93718), np.int64(109)],\n",
       "   [np.int64(97803), np.int64(97986), np.int64(183)],\n",
       "   [np.int64(99524), np.int64(99596), np.int64(72)],\n",
       "   [np.int64(103334), np.int64(103610), np.int64(276)],\n",
       "   [np.int64(105021), np.int64(105153), np.int64(132)],\n",
       "   [np.int64(106417), np.int64(107185), np.int64(768)],\n",
       "   [np.int64(113626), np.int64(113932), np.int64(306)],\n",
       "   [np.int64(115173), np.int64(115237), np.int64(64)],\n",
       "   [np.int64(118636), np.int64(118717), np.int64(81)],\n",
       "   [np.int64(121037), np.int64(121146), np.int64(109)],\n",
       "   [np.int64(122403), np.int64(122497), np.int64(94)],\n",
       "   [np.int64(124444), np.int64(125177), np.int64(733)],\n",
       "   [np.int64(125503), np.int64(125698), np.int64(195)],\n",
       "   [np.int64(132525), np.int64(132649), np.int64(124)],\n",
       "   [np.int64(138276), np.int64(138371), np.int64(95)],\n",
       "   [np.int64(138887), np.int64(139047), np.int64(160)],\n",
       "   [np.int64(142259), np.int64(142486), np.int64(227)],\n",
       "   [np.int64(145511), np.int64(145866), np.int64(355)],\n",
       "   [np.int64(149906), np.int64(150000), np.int64(94)],\n",
       "   [np.int64(151292), np.int64(151557), np.int64(265)],\n",
       "   [np.int64(154751), np.int64(154949), np.int64(198)]]}}"
      ]
     },
     "execution_count": 121,
     "metadata": {},
     "output_type": "execute_result"
    }
   ],
   "source": [
    "TestFly.interaction_events"
   ]
  },
  {
   "cell_type": "code",
   "execution_count": 125,
   "metadata": {},
   "outputs": [
    {
     "data": {
      "text/plain": [
       "[19, 20, 21, 22, 23]"
      ]
     },
     "execution_count": 125,
     "metadata": {},
     "output_type": "execute_result"
    }
   ],
   "source": [
    "# Plot the ball position during the final event and the 4 previous events\n",
    "\n",
    "final_event_idx = final_event[1]\n",
    "\n",
    "events = TestFly.interaction_events[1][1]\n",
    " \n",
    "events_idx = [final_event_idx - 4, final_event_idx - 3, final_event_idx - 2, final_event_idx - 1, final_event_idx]\n",
    "\n",
    "events_idx"
   ]
  },
  {
   "cell_type": "code",
   "execution_count": 126,
   "metadata": {},
   "outputs": [
    {
     "data": {
      "text/plain": [
       "[np.int64(67637), np.int64(68002), np.int64(365)]"
      ]
     },
     "execution_count": 126,
     "metadata": {},
     "output_type": "execute_result"
    }
   ],
   "source": [
    "events[19]"
   ]
  },
  {
   "cell_type": "code",
   "execution_count": 129,
   "metadata": {},
   "outputs": [
    {
     "name": "stdout",
     "output_type": "stream",
     "text": [
      "No CUDA devices found, falling back to CPU processing.\n"
     ]
    },
    {
     "name": "stderr",
     "output_type": "stream",
     "text": [
      "Processing frames: 100%|██████████| 366/366 [00:09<00:00, 37.77it/s]\n"
     ]
    },
    {
     "name": "stdout",
     "output_type": "stream",
     "text": [
      "No CUDA devices found, falling back to CPU processing.\n"
     ]
    },
    {
     "name": "stderr",
     "output_type": "stream",
     "text": [
      "Processing frames: 100%|██████████| 238/238 [00:06<00:00, 36.93it/s]\n"
     ]
    },
    {
     "name": "stdout",
     "output_type": "stream",
     "text": [
      "No CUDA devices found, falling back to CPU processing.\n"
     ]
    },
    {
     "name": "stderr",
     "output_type": "stream",
     "text": [
      "Processing frames: 100%|██████████| 1112/1112 [00:32<00:00, 34.37it/s]\n"
     ]
    },
    {
     "name": "stdout",
     "output_type": "stream",
     "text": [
      "No CUDA devices found, falling back to CPU processing.\n"
     ]
    },
    {
     "name": "stderr",
     "output_type": "stream",
     "text": [
      "Processing frames: 100%|██████████| 201/201 [00:05<00:00, 35.84it/s]\n"
     ]
    },
    {
     "name": "stdout",
     "output_type": "stream",
     "text": [
      "No CUDA devices found, falling back to CPU processing.\n"
     ]
    },
    {
     "name": "stderr",
     "output_type": "stream",
     "text": [
      "Processing frames: 100%|██████████| 362/362 [00:09<00:00, 37.90it/s]\n"
     ]
    }
   ],
   "source": [
    "for i in events_idx:\n",
    "    TestFly.balltrack.generate_annotated_video(\n",
    "        start=events[i][0],\n",
    "        end=events[i][1],\n",
    "        save=True,\n",
    "        output_path = f\"/mnt/upramdya_data/MD/Other_Videos/Events_annotation/event_{i}.mp4\"\n",
    "    )"
   ]
  },
  {
   "cell_type": "code",
   "execution_count": null,
   "metadata": {},
   "outputs": [],
   "source": []
  },
  {
   "cell_type": "code",
   "execution_count": 130,
   "metadata": {},
   "outputs": [
    {
     "data": {
      "text/html": [
       "<div>\n",
       "<style scoped>\n",
       "    .dataframe tbody tr th:only-of-type {\n",
       "        vertical-align: middle;\n",
       "    }\n",
       "\n",
       "    .dataframe tbody tr th {\n",
       "        vertical-align: top;\n",
       "    }\n",
       "\n",
       "    .dataframe thead th {\n",
       "        text-align: right;\n",
       "    }\n",
       "</style>\n",
       "<table border=\"1\" class=\"dataframe\">\n",
       "  <thead>\n",
       "    <tr style=\"text-align: right;\">\n",
       "      <th></th>\n",
       "      <th>frame</th>\n",
       "      <th>time</th>\n",
       "      <th>object</th>\n",
       "      <th>x_centre</th>\n",
       "      <th>y_centre</th>\n",
       "    </tr>\n",
       "  </thead>\n",
       "  <tbody>\n",
       "    <tr>\n",
       "      <th>0</th>\n",
       "      <td>1</td>\n",
       "      <td>0.034483</td>\n",
       "      <td>ball_1</td>\n",
       "      <td>48.438969</td>\n",
       "      <td>337.431762</td>\n",
       "    </tr>\n",
       "    <tr>\n",
       "      <th>1</th>\n",
       "      <td>2</td>\n",
       "      <td>0.068966</td>\n",
       "      <td>ball_1</td>\n",
       "      <td>48.439048</td>\n",
       "      <td>337.431753</td>\n",
       "    </tr>\n",
       "    <tr>\n",
       "      <th>2</th>\n",
       "      <td>3</td>\n",
       "      <td>0.103448</td>\n",
       "      <td>ball_1</td>\n",
       "      <td>48.439126</td>\n",
       "      <td>337.431744</td>\n",
       "    </tr>\n",
       "    <tr>\n",
       "      <th>3</th>\n",
       "      <td>4</td>\n",
       "      <td>0.137931</td>\n",
       "      <td>ball_1</td>\n",
       "      <td>48.439205</td>\n",
       "      <td>337.431736</td>\n",
       "    </tr>\n",
       "    <tr>\n",
       "      <th>4</th>\n",
       "      <td>5</td>\n",
       "      <td>0.172414</td>\n",
       "      <td>ball_1</td>\n",
       "      <td>48.439284</td>\n",
       "      <td>337.431727</td>\n",
       "    </tr>\n",
       "    <tr>\n",
       "      <th>...</th>\n",
       "      <td>...</td>\n",
       "      <td>...</td>\n",
       "      <td>...</td>\n",
       "      <td>...</td>\n",
       "      <td>...</td>\n",
       "    </tr>\n",
       "    <tr>\n",
       "      <th>156598</th>\n",
       "      <td>156599</td>\n",
       "      <td>5399.965517</td>\n",
       "      <td>ball_1</td>\n",
       "      <td>47.108495</td>\n",
       "      <td>115.377940</td>\n",
       "    </tr>\n",
       "    <tr>\n",
       "      <th>156599</th>\n",
       "      <td>156600</td>\n",
       "      <td>5400.000000</td>\n",
       "      <td>ball_1</td>\n",
       "      <td>47.103990</td>\n",
       "      <td>115.382139</td>\n",
       "    </tr>\n",
       "    <tr>\n",
       "      <th>156600</th>\n",
       "      <td>156601</td>\n",
       "      <td>5400.034483</td>\n",
       "      <td>ball_1</td>\n",
       "      <td>47.099485</td>\n",
       "      <td>115.386337</td>\n",
       "    </tr>\n",
       "    <tr>\n",
       "      <th>156601</th>\n",
       "      <td>156602</td>\n",
       "      <td>5400.068966</td>\n",
       "      <td>ball_1</td>\n",
       "      <td>47.094980</td>\n",
       "      <td>115.390535</td>\n",
       "    </tr>\n",
       "    <tr>\n",
       "      <th>156602</th>\n",
       "      <td>156603</td>\n",
       "      <td>5400.103448</td>\n",
       "      <td>ball_1</td>\n",
       "      <td>47.090475</td>\n",
       "      <td>115.394733</td>\n",
       "    </tr>\n",
       "  </tbody>\n",
       "</table>\n",
       "<p>156603 rows × 5 columns</p>\n",
       "</div>"
      ],
      "text/plain": [
       "         frame         time  object   x_centre    y_centre\n",
       "0            1     0.034483  ball_1  48.438969  337.431762\n",
       "1            2     0.068966  ball_1  48.439048  337.431753\n",
       "2            3     0.103448  ball_1  48.439126  337.431744\n",
       "3            4     0.137931  ball_1  48.439205  337.431736\n",
       "4            5     0.172414  ball_1  48.439284  337.431727\n",
       "...        ...          ...     ...        ...         ...\n",
       "156598  156599  5399.965517  ball_1  47.108495  115.377940\n",
       "156599  156600  5400.000000  ball_1  47.103990  115.382139\n",
       "156600  156601  5400.034483  ball_1  47.099485  115.386337\n",
       "156601  156602  5400.068966  ball_1  47.094980  115.390535\n",
       "156602  156603  5400.103448  ball_1  47.090475  115.394733\n",
       "\n",
       "[156603 rows x 5 columns]"
      ]
     },
     "execution_count": 130,
     "metadata": {},
     "output_type": "execute_result"
    }
   ],
   "source": [
    "# Plot the ball positions\n",
    "\n",
    "positions = TestFly.balltrack.dataset\n",
    "\n",
    "positions"
   ]
  },
  {
   "cell_type": "code",
   "execution_count": 131,
   "metadata": {},
   "outputs": [
    {
     "data": {
      "image/png": "[encoded data removed]",
      "text/plain": [
       "<Figure size 640x480 with 1 Axes>"
      ]
     },
     "metadata": {},
     "output_type": "display_data"
    }
   ],
   "source": [
    "# Plot the y_centre of the ball over time\n",
    "\n",
    "import matplotlib.pyplot as plt\n",
    "\n",
    "plt.plot(positions[\"y_centre\"])\n",
    "plt.show()"
   ]
  },
  {
   "cell_type": "code",
   "execution_count": 132,
   "metadata": {},
   "outputs": [],
   "source": [
    "# Generate relative positions based on the y_centre\n",
    "\n",
    "positions[\"y_relative\"] = abs(positions[\"y_centre\"] - positions[\"y_centre\"].iloc[0])"
   ]
  },
  {
   "cell_type": "code",
   "execution_count": 133,
   "metadata": {},
   "outputs": [
    {
     "data": {
      "image/png": "[encoded data removed]",
      "text/plain": [
       "<Figure size 640x480 with 1 Axes>"
      ]
     },
     "metadata": {},
     "output_type": "display_data"
    }
   ],
   "source": [
    "plt.plot(positions[\"y_relative\"])\n",
    "plt.show()"
   ]
  },
  {
   "cell_type": "code",
   "execution_count": 134,
   "metadata": {},
   "outputs": [],
   "source": [
    "# get max relative position\n",
    "\n",
    "max_relative = positions[\"y_relative\"].max()"
   ]
  },
  {
   "cell_type": "code",
   "execution_count": 35,
   "metadata": {},
   "outputs": [],
   "source": [
    "TestFly.fly_skeleton"
   ]
  },
  {
   "cell_type": "code",
   "execution_count": 53,
   "metadata": {},
   "outputs": [
    {
     "data": {
      "text/plain": [
       "{'training': ([np.int64(1190), np.int64(1327), np.int64(137)], 1)}"
      ]
     },
     "execution_count": 53,
     "metadata": {},
     "output_type": "execute_result"
    }
   ],
   "source": [
    "TestFly.get_final_event()"
   ]
  },
  {
   "cell_type": "code",
   "execution_count": 54,
   "metadata": {},
   "outputs": [
    {
     "data": {
      "text/plain": [
       "{'training': ([[np.int64(407), np.int64(575), np.int64(168)],\n",
       "   [np.int64(4505), np.int64(4994), np.int64(489)],\n",
       "   [np.int64(54024), np.int64(54403), np.int64(379)],\n",
       "   [np.int64(75614), np.int64(76629), np.int64(1015)],\n",
       "   [np.int64(82840), np.int64(83400), np.int64(560)],\n",
       "   [np.int64(88671), np.int64(88894), np.int64(223)],\n",
       "   [np.int64(94103), np.int64(96361), np.int64(2258)]],\n",
       "  [[np.int64(1848), np.int64(1961), np.int64(113)],\n",
       "   [np.int64(58404), np.int64(59573), np.int64(1169)],\n",
       "   [np.int64(87235), np.int64(88421), np.int64(1186)]])}"
      ]
     },
     "execution_count": 54,
     "metadata": {},
     "output_type": "execute_result"
    }
   ],
   "source": [
    "TestFly.find_events_direction()"
   ]
  },
  {
   "cell_type": "code",
   "execution_count": 46,
   "metadata": {},
   "outputs": [
    {
     "data": {
      "text/plain": [
       "<module 'utils_behavior.Ballpushing_utils' from '/home/durrieu/utils_behavior/utils_behavior/Ballpushing_utils.py'>"
      ]
     },
     "execution_count": 46,
     "metadata": {},
     "output_type": "execute_result"
    }
   ],
   "source": [
    "importlib.reload(Ballpushing_utils)"
   ]
  },
  {
   "cell_type": "code",
   "execution_count": 47,
   "metadata": {},
   "outputs": [
    {
     "name": "stdout",
     "output_type": "stream",
     "text": [
      "Processing fly 1/1\n",
      "smoothing tracks\n",
      "Loaded SLEAP tracking file: /mnt/upramdya_data/MD/F1_Tracks/Videos/240821_F1_3mm_ends_Videos_Checked/arena6/Right/arena6_right_rotated_tracked_fly.000_arena6_right_rotated.analysis.h5\n",
      "N° of objects: 1\n",
      "Nodes: ['thorax']\n",
      "Video FPS: 29.0\n",
      "Processing ball 1/2\n",
      "smoothing tracks\n",
      "Processing ball 2/2\n",
      "smoothing tracks\n",
      "Loaded SLEAP tracking file: /mnt/upramdya_data/MD/F1_Tracks/Videos/240821_F1_3mm_ends_Videos_Checked/arena6/Right/arena6_right_rotated_tracked_ball_processed.000_arena6_right_rotated.analysis.h5\n",
      "N° of objects: 2\n",
      "Nodes: ['centre']\n",
      "Video FPS: 29.0\n",
      "Processing ball index: 1\n",
      "Non-NaN xfly count: 261006, Non-NaN xball count: 261006\n",
      "Initial separation: 176.94497394316858\n",
      "Processing ball index: 2\n",
      "Non-NaN xfly count: 261006, Non-NaN xball count: 0\n",
      "No valid tracking data for xfly or xball for 2\n",
      "Final data_dict keys: ['generalisation']\n",
      "Processing ball type: generalisation\n",
      "        yball       xball        yfly       xfly  Frame      time  ball_idx  \\\n",
      "0  420.198693  230.618558  499.093777  53.673584      1  0.034483         1   \n",
      "1  420.198823  230.617242  499.102395  53.662504      2  0.068966         1   \n",
      "2  420.198952  230.615925  499.111013  53.651423      3  0.103448         1   \n",
      "3  420.199082  230.614609  499.119631  53.640343      4  0.137931         1   \n",
      "4  420.199212  230.613293  499.128249  53.629262      5  0.172414         1   \n",
      "\n",
      "   yfly_relative  yball_relative       ball_type  \n",
      "0       0.000000       78.895084  generalisation  \n",
      "1       0.008618       78.894954  generalisation  \n",
      "2       0.017236       78.894825  generalisation  \n",
      "3       0.025854       78.894695  generalisation  \n",
      "4       0.034472       78.894565  generalisation  \n",
      "Final events_dict: {}\n",
      "start_y: 499.0937770765598, type: <class 'numpy.float64'>\n",
      "240821_F1_3mm_ends_Videos_Checked_arena6_Right is alive based on movement.\n",
      "False\n",
      "Interaction events keys: dict_keys([])\n",
      "Annotating events for ball type: generalisation\n"
     ]
    },
    {
     "ename": "KeyError",
     "evalue": "'generalisation'",
     "output_type": "error",
     "traceback": [
      "\u001b[0;31m---------------------------------------------------------------------------\u001b[0m",
      "\u001b[0;31mKeyError\u001b[0m                                  Traceback (most recent call last)",
      "Cell \u001b[0;32mIn[47], line 1\u001b[0m\n\u001b[0;32m----> 1\u001b[0m TestFly_F1 \u001b[38;5;241m=\u001b[39m \u001b[43mBallpushing_utils\u001b[49m\u001b[38;5;241;43m.\u001b[39;49m\u001b[43mFly\u001b[49m\u001b[43m(\u001b[49m\u001b[38;5;124;43m\"\u001b[39;49m\u001b[38;5;124;43m/mnt/upramdya_data/MD/F1_Tracks/Videos/240821_F1_3mm_ends_Videos_Checked/arena6/Right\u001b[39;49m\u001b[38;5;124;43m\"\u001b[39;49m\u001b[43m,\u001b[49m\u001b[43m \u001b[49m\u001b[43mas_individual\u001b[49m\u001b[38;5;241;43m=\u001b[39;49m\u001b[38;5;28;43;01mTrue\u001b[39;49;00m\u001b[43m)\u001b[49m\n",
      "File \u001b[0;32m~/utils_behavior/utils_behavior/Ballpushing_utils.py:358\u001b[0m, in \u001b[0;36mFly.__init__\u001b[0;34m(self, directory, experiment, as_individual)\u001b[0m\n\u001b[1;32m    355\u001b[0m \u001b[38;5;28mprint\u001b[39m(\u001b[38;5;28mself\u001b[39m\u001b[38;5;241m.\u001b[39mdead_or_empty)\n\u001b[1;32m    357\u001b[0m \u001b[38;5;28;01mif\u001b[39;00m \u001b[38;5;129;01mnot\u001b[39;00m \u001b[38;5;28mself\u001b[39m\u001b[38;5;241m.\u001b[39mdead_or_empty:\n\u001b[0;32m--> 358\u001b[0m     \u001b[38;5;28;43mself\u001b[39;49m\u001b[38;5;241;43m.\u001b[39;49m\u001b[43mannotate_events\u001b[49m\u001b[43m(\u001b[49m\u001b[43m)\u001b[49m\n\u001b[1;32m    360\u001b[0m \u001b[38;5;28mself\u001b[39m\u001b[38;5;241m.\u001b[39mexit_time \u001b[38;5;241m=\u001b[39m \u001b[38;5;28mself\u001b[39m\u001b[38;5;241m.\u001b[39mget_exit_time()\n",
      "File \u001b[0;32m~/utils_behavior/utils_behavior/Ballpushing_utils.py:943\u001b[0m, in \u001b[0;36mFly.annotate_events\u001b[0;34m(self)\u001b[0m\n\u001b[1;32m    940\u001b[0m \u001b[38;5;28mprint\u001b[39m(\u001b[38;5;124m\"\u001b[39m\u001b[38;5;124mAnnotating events for ball type:\u001b[39m\u001b[38;5;124m\"\u001b[39m, ball_type)\n\u001b[1;32m    941\u001b[0m flyball_positions[\u001b[38;5;124m\"\u001b[39m\u001b[38;5;124mevent\u001b[39m\u001b[38;5;124m\"\u001b[39m] \u001b[38;5;241m=\u001b[39m \u001b[38;5;28;01mNone\u001b[39;00m\n\u001b[0;32m--> 943\u001b[0m \u001b[38;5;28;01mfor\u001b[39;00m i, event \u001b[38;5;129;01min\u001b[39;00m \u001b[38;5;28menumerate\u001b[39m(\u001b[38;5;28;43mself\u001b[39;49m\u001b[38;5;241;43m.\u001b[39;49m\u001b[43minteraction_events\u001b[49m\u001b[43m[\u001b[49m\u001b[43mball_type\u001b[49m\u001b[43m]\u001b[49m, start\u001b[38;5;241m=\u001b[39m\u001b[38;5;241m1\u001b[39m):\n\u001b[1;32m    944\u001b[0m     start, end \u001b[38;5;241m=\u001b[39m event[\u001b[38;5;241m0\u001b[39m], event[\u001b[38;5;241m1\u001b[39m]\n\u001b[1;32m    946\u001b[0m     flyball_positions\u001b[38;5;241m.\u001b[39mloc[start:end, \u001b[38;5;124m\"\u001b[39m\u001b[38;5;124mevent\u001b[39m\u001b[38;5;124m\"\u001b[39m] \u001b[38;5;241m=\u001b[39m i\n",
      "\u001b[0;31mKeyError\u001b[0m: 'generalisation'"
     ]
    }
   ],
   "source": [
    "TestFly_F1 = Ballpushing_utils.Fly(\"/mnt/upramdya_data/MD/F1_Tracks/Videos/240821_F1_3mm_ends_Videos_Checked/arena6/Right\", as_individual=True)"
   ]
  },
  {
   "cell_type": "code",
   "execution_count": 23,
   "metadata": {},
   "outputs": [
    {
     "name": "stdout",
     "output_type": "stream",
     "text": [
      "Processing object 1/2\n",
      "smoothing tracks\n",
      "Processing object 2/2\n",
      "smoothing tracks\n",
      "Loaded SLEAP tracking file: /mnt/upramdya_data/MD/F1_Tracks/Videos/240821_F1_3mm_ends_Videos_Checked/arena6/Right/arena6_right_rotated_tracked_ball_processed.000_arena6_right_rotated.analysis.h5\n",
      "N° of objects: 2\n",
      "Nodes: ['centre']\n",
      "Video FPS: 29.0\n"
     ]
    }
   ],
   "source": [
    "# Load the sleaptrack for the ball for this fly\n",
    "\n",
    "Slp_test = Sleap_utils.Sleap_Tracks(\"/mnt/upramdya_data/MD/F1_Tracks/Videos/240821_F1_3mm_ends_Videos_Checked/arena6/Right/arena6_right_rotated_tracked_ball_processed.000_arena6_right_rotated.analysis.h5\")"
   ]
  },
  {
   "cell_type": "code",
   "execution_count": 24,
   "metadata": {},
   "outputs": [],
   "source": [
    "Slp_data = Slp_test.dataset"
   ]
  },
  {
   "cell_type": "code",
   "execution_count": 91,
   "metadata": {},
   "outputs": [
    {
     "data": {
      "text/plain": [
       "{'training': [[np.int64(1462), np.int64(1530), np.int64(68)],\n",
       "  [np.int64(2095), np.int64(2303), np.int64(208)],\n",
       "  [np.int64(10405), np.int64(10715), np.int64(310)],\n",
       "  [np.int64(13479), np.int64(13544), np.int64(65)],\n",
       "  [np.int64(15629), np.int64(15854), np.int64(225)],\n",
       "  [np.int64(25725), np.int64(25807), np.int64(82)],\n",
       "  [np.int64(26775), np.int64(26844), np.int64(69)],\n",
       "  [np.int64(28589), np.int64(28685), np.int64(96)],\n",
       "  [np.int64(31717), np.int64(31822), np.int64(105)],\n",
       "  [np.int64(32033), np.int64(32147), np.int64(114)],\n",
       "  [np.int64(32855), np.int64(33147), np.int64(292)],\n",
       "  [np.int64(34537), np.int64(34715), np.int64(178)],\n",
       "  [np.int64(36221), np.int64(36490), np.int64(269)],\n",
       "  [np.int64(38106), np.int64(38195), np.int64(89)],\n",
       "  [np.int64(38465), np.int64(38592), np.int64(127)],\n",
       "  [np.int64(38827), np.int64(38891), np.int64(64)],\n",
       "  [np.int64(41289), np.int64(42055), np.int64(766)],\n",
       "  [np.int64(43416), np.int64(43479), np.int64(63)],\n",
       "  [np.int64(44527), np.int64(44787), np.int64(260)],\n",
       "  [np.int64(46654), np.int64(46736), np.int64(82)],\n",
       "  [np.int64(47919), np.int64(48239), np.int64(320)],\n",
       "  [np.int64(49148), np.int64(49230), np.int64(82)],\n",
       "  [np.int64(49543), np.int64(49701), np.int64(158)],\n",
       "  [np.int64(51029), np.int64(51159), np.int64(130)],\n",
       "  [np.int64(51993), np.int64(52090), np.int64(97)],\n",
       "  [np.int64(52865), np.int64(53713), np.int64(848)],\n",
       "  [np.int64(55060), np.int64(55414), np.int64(354)],\n",
       "  [np.int64(56631), np.int64(56799), np.int64(168)],\n",
       "  [np.int64(58411), np.int64(58996), np.int64(585)],\n",
       "  [np.int64(59184), np.int64(59329), np.int64(145)],\n",
       "  [np.int64(60315), np.int64(60910), np.int64(595)],\n",
       "  [np.int64(62475), np.int64(62806), np.int64(331)],\n",
       "  [np.int64(63025), np.int64(63427), np.int64(402)],\n",
       "  [np.int64(63810), np.int64(64017), np.int64(207)],\n",
       "  [np.int64(64450), np.int64(64531), np.int64(81)],\n",
       "  [np.int64(64749), np.int64(64825), np.int64(76)],\n",
       "  [np.int64(65199), np.int64(65294), np.int64(95)],\n",
       "  [np.int64(66409), np.int64(67283), np.int64(874)],\n",
       "  [np.int64(67815), np.int64(68053), np.int64(238)],\n",
       "  [np.int64(68802), np.int64(68867), np.int64(65)],\n",
       "  [np.int64(69285), np.int64(69631), np.int64(346)],\n",
       "  [np.int64(69794), np.int64(70066), np.int64(272)],\n",
       "  [np.int64(70420), np.int64(71661), np.int64(1241)],\n",
       "  [np.int64(72118), np.int64(72414), np.int64(296)],\n",
       "  [np.int64(72580), np.int64(72811), np.int64(231)],\n",
       "  [np.int64(74366), np.int64(74495), np.int64(129)],\n",
       "  [np.int64(75098), np.int64(75368), np.int64(270)],\n",
       "  [np.int64(76146), np.int64(76525), np.int64(379)],\n",
       "  [np.int64(77973), np.int64(78081), np.int64(108)],\n",
       "  [np.int64(79216), np.int64(79308), np.int64(92)],\n",
       "  [np.int64(81932), np.int64(82109), np.int64(177)],\n",
       "  [np.int64(83579), np.int64(84001), np.int64(422)],\n",
       "  [np.int64(85202), np.int64(85274), np.int64(72)],\n",
       "  [np.int64(86044), np.int64(86542), np.int64(498)],\n",
       "  [np.int64(87811), np.int64(87932), np.int64(121)],\n",
       "  [np.int64(88164), np.int64(88781), np.int64(617)],\n",
       "  [np.int64(91120), np.int64(92258), np.int64(1138)],\n",
       "  [np.int64(92498), np.int64(92781), np.int64(283)],\n",
       "  [np.int64(93222), np.int64(93801), np.int64(579)],\n",
       "  [np.int64(94378), np.int64(95026), np.int64(648)],\n",
       "  [np.int64(98252), np.int64(98626), np.int64(374)],\n",
       "  [np.int64(101765), np.int64(101908), np.int64(143)],\n",
       "  [np.int64(102030), np.int64(102134), np.int64(104)],\n",
       "  [np.int64(104967), np.int64(105044), np.int64(77)],\n",
       "  [np.int64(105317), np.int64(105433), np.int64(116)],\n",
       "  [np.int64(120326), np.int64(120398), np.int64(72)],\n",
       "  [np.int64(123113), np.int64(123291), np.int64(178)],\n",
       "  [np.int64(130256), np.int64(130446), np.int64(190)],\n",
       "  [np.int64(131805), np.int64(131975), np.int64(170)],\n",
       "  [np.int64(135615), np.int64(135816), np.int64(201)],\n",
       "  [np.int64(138963), np.int64(139214), np.int64(251)],\n",
       "  [np.int64(140184), np.int64(140297), np.int64(113)],\n",
       "  [np.int64(140535), np.int64(141371), np.int64(836)],\n",
       "  [np.int64(141732), np.int64(141916), np.int64(184)],\n",
       "  [np.int64(146127), np.int64(146262), np.int64(135)],\n",
       "  [np.int64(146569), np.int64(146799), np.int64(230)],\n",
       "  [np.int64(150560), np.int64(150715), np.int64(155)],\n",
       "  [np.int64(160935), np.int64(161060), np.int64(125)],\n",
       "  [np.int64(165119), np.int64(165570), np.int64(451)],\n",
       "  [np.int64(167827), np.int64(168148), np.int64(321)],\n",
       "  [np.int64(180317), np.int64(180458), np.int64(141)],\n",
       "  [np.int64(186132), np.int64(186216), np.int64(84)],\n",
       "  [np.int64(188991), np.int64(189118), np.int64(127)],\n",
       "  [np.int64(199093), np.int64(199201), np.int64(108)],\n",
       "  [np.int64(201690), np.int64(202045), np.int64(355)],\n",
       "  [np.int64(207373), np.int64(207930), np.int64(557)],\n",
       "  [np.int64(208532), np.int64(208832), np.int64(300)],\n",
       "  [np.int64(214979), np.int64(215646), np.int64(667)],\n",
       "  [np.int64(224121), np.int64(224552), np.int64(431)],\n",
       "  [np.int64(227569), np.int64(227694), np.int64(125)],\n",
       "  [np.int64(229733), np.int64(229838), np.int64(105)],\n",
       "  [np.int64(234851), np.int64(234933), np.int64(82)],\n",
       "  [np.int64(237124), np.int64(237233), np.int64(109)],\n",
       "  [np.int64(239380), np.int64(239471), np.int64(91)],\n",
       "  [np.int64(240211), np.int64(240621), np.int64(410)],\n",
       "  [np.int64(242524), np.int64(242598), np.int64(74)],\n",
       "  [np.int64(246107), np.int64(246223), np.int64(116)],\n",
       "  [np.int64(249937), np.int64(250132), np.int64(195)],\n",
       "  [np.int64(257408), np.int64(257510), np.int64(102)]],\n",
       " 'generalisation': [[np.int64(96290), np.int64(96391), np.int64(101)],\n",
       "  [np.int64(106822), np.int64(107109), np.int64(287)],\n",
       "  [np.int64(109066), np.int64(109149), np.int64(83)],\n",
       "  [np.int64(109438), np.int64(109771), np.int64(333)],\n",
       "  [np.int64(113385), np.int64(113476), np.int64(91)],\n",
       "  [np.int64(118247), np.int64(118317), np.int64(70)],\n",
       "  [np.int64(125922), np.int64(126016), np.int64(94)],\n",
       "  [np.int64(128134), np.int64(128240), np.int64(106)],\n",
       "  [np.int64(142757), np.int64(143210), np.int64(453)],\n",
       "  [np.int64(144688), np.int64(144935), np.int64(247)],\n",
       "  [np.int64(149177), np.int64(149249), np.int64(72)],\n",
       "  [np.int64(149800), np.int64(149956), np.int64(156)],\n",
       "  [np.int64(150936), np.int64(151212), np.int64(276)],\n",
       "  [np.int64(154980), np.int64(155147), np.int64(167)],\n",
       "  [np.int64(168682), np.int64(168826), np.int64(144)],\n",
       "  [np.int64(169258), np.int64(169425), np.int64(167)],\n",
       "  [np.int64(170879), np.int64(170941), np.int64(62)],\n",
       "  [np.int64(171438), np.int64(171852), np.int64(414)],\n",
       "  [np.int64(189857), np.int64(190013), np.int64(156)],\n",
       "  [np.int64(211371), np.int64(211503), np.int64(132)],\n",
       "  [np.int64(243947), np.int64(244026), np.int64(79)],\n",
       "  [np.int64(254394), np.int64(254462), np.int64(68)],\n",
       "  [np.int64(254664), np.int64(254858), np.int64(194)],\n",
       "  [np.int64(258084), np.int64(258226), np.int64(142)]]}"
      ]
     },
     "execution_count": 91,
     "metadata": {},
     "output_type": "execute_result"
    }
   ],
   "source": [
    "TestFly_F1.find_interaction_events()"
   ]
  },
  {
   "cell_type": "code",
   "execution_count": 94,
   "metadata": {},
   "outputs": [
    {
     "data": {
      "text/plain": [
       "{'training': ({10: np.float64(1059.1333333333334),\n",
       "   20: np.float64(1096.9666666666667),\n",
       "   50: np.float64(3061.633333333333)},\n",
       "  {10: nan, 20: nan, 50: nan}),\n",
       " 'generalisation': ({10: np.float64(5189.133333333333),\n",
       "   20: np.float64(5233.5),\n",
       "   50: np.float64(5644.9)},\n",
       "  {10: np.float64(2020.0333333333333),\n",
       "   20: np.float64(2064.4),\n",
       "   50: np.float64(2475.7999999999997)})}"
      ]
     },
     "execution_count": 94,
     "metadata": {},
     "output_type": "execute_result"
    }
   ],
   "source": [
    "TestFly_F1.find_adjusted_time([10, 20, 50])"
   ]
  },
  {
   "cell_type": "code",
   "execution_count": 47,
   "metadata": {},
   "outputs": [
    {
     "data": {
      "text/plain": [
       "<module 'utils_behavior.Ballpushing_utils' from '/home/durrieu/utils_behavior/utils_behavior/Ballpushing_utils.py'>"
      ]
     },
     "execution_count": 47,
     "metadata": {},
     "output_type": "execute_result"
    }
   ],
   "source": [
    "importlib.reload(Ballpushing_utils)"
   ]
  },
  {
   "cell_type": "code",
   "execution_count": 48,
   "metadata": {},
   "outputs": [],
   "source": [
    "# 2 min with threadpool"
   ]
  },
  {
   "cell_type": "code",
   "execution_count": null,
   "metadata": {},
   "outputs": [],
   "source": []
  },
  {
   "cell_type": "code",
   "execution_count": 49,
   "metadata": {},
   "outputs": [
    {
     "name": "stdout",
     "output_type": "stream",
     "text": [
      "Loading fly from /mnt/upramdya_data/MD/F1_Tracks/Videos/240821_F1_3mm_ends_Videos_Checked/arena2/Right\n",
      "Loading fly from /mnt/upramdya_data/MD/F1_Tracks/Videos/240821_F1_3mm_ends_Videos_Checked/arena2/Left\n",
      "Loading fly from /mnt/upramdya_data/MD/F1_Tracks/Videos/240821_F1_3mm_ends_Videos_Checked/arena7/Right\n",
      "Loading fly from /mnt/upramdya_data/MD/F1_Tracks/Videos/240821_F1_3mm_ends_Videos_Checked/arena7/Left\n",
      "Loading fly from /mnt/upramdya_data/MD/F1_Tracks/Videos/240821_F1_3mm_ends_Videos_Checked/arena6/Right\n",
      "Loading fly from /mnt/upramdya_data/MD/F1_Tracks/Videos/240821_F1_3mm_ends_Videos_Checked/arena6/Left\n",
      "Loading fly from /mnt/upramdya_data/MD/F1_Tracks/Videos/240821_F1_3mm_ends_Videos_Checked/arena5/Right\n",
      "Loading fly from /mnt/upramdya_data/MD/F1_Tracks/Videos/240821_F1_3mm_ends_Videos_Checked/arena5/Left\n",
      "Loading fly from /mnt/upramdya_data/MD/F1_Tracks/Videos/240821_F1_3mm_ends_Videos_Checked/arena8/Right\n",
      "Loading fly from /mnt/upramdya_data/MD/F1_Tracks/Videos/240821_F1_3mm_ends_Videos_Checked/arena8/Left\n",
      "Loading fly from /mnt/upramdya_data/MD/F1_Tracks/Videos/240821_F1_3mm_ends_Videos_Checked/arena3/Right\n",
      "Loading fly from /mnt/upramdya_data/MD/F1_Tracks/Videos/240821_F1_3mm_ends_Videos_Checked/arena3/Left\n",
      "Loading fly from /mnt/upramdya_data/MD/F1_Tracks/Videos/240821_F1_3mm_ends_Videos_Checked/arena4/Right\n",
      "Loading fly from /mnt/upramdya_data/MD/F1_Tracks/Videos/240821_F1_3mm_ends_Videos_Checked/arena4/Left\n",
      "Loading fly from /mnt/upramdya_data/MD/F1_Tracks/Videos/240821_F1_3mm_ends_Videos_Checked/arena1/Right\n",
      "Loading fly from /mnt/upramdya_data/MD/F1_Tracks/Videos/240821_F1_3mm_ends_Videos_Checked/arena1/Left\n",
      "Loading fly from /mnt/upramdya_data/MD/F1_Tracks/Videos/240821_F1_3mm_ends_Videos_Checked/arena9/Right\n",
      "Loading fly from /mnt/upramdya_data/MD/F1_Tracks/Videos/240821_F1_3mm_ends_Videos_Checked/arena9/Left\n"
     ]
    },
    {
     "ename": "IndexError",
     "evalue": "list index out of range",
     "output_type": "error",
     "traceback": [
      "\u001b[0;31m---------------------------------------------------------------------------\u001b[0m",
      "\u001b[0;31mIndexError\u001b[0m                                Traceback (most recent call last)",
      "Cell \u001b[0;32mIn[49], line 1\u001b[0m\n\u001b[0;32m----> 1\u001b[0m TestExp_F1 \u001b[38;5;241m=\u001b[39m \u001b[43mBallpushing_utils\u001b[49m\u001b[38;5;241;43m.\u001b[39;49m\u001b[43mExperiment\u001b[49m\u001b[43m(\u001b[49m\u001b[38;5;124;43m\"\u001b[39;49m\u001b[38;5;124;43m/mnt/upramdya_data/MD/F1_Tracks/Videos/240821_F1_3mm_ends_Videos_Checked\u001b[39;49m\u001b[38;5;124;43m\"\u001b[39;49m\u001b[43m)\u001b[49m\n",
      "File \u001b[0;32m~/utils_behavior/utils_behavior/Ballpushing_utils.py:1572\u001b[0m, in \u001b[0;36mExperiment.__init__\u001b[0;34m(self, directory, metadata_only)\u001b[0m\n\u001b[1;32m   1570\u001b[0m \u001b[38;5;66;03m# If metadata_only is True, don't load the flies\u001b[39;00m\n\u001b[1;32m   1571\u001b[0m \u001b[38;5;28;01mif\u001b[39;00m \u001b[38;5;129;01mnot\u001b[39;00m metadata_only:\n\u001b[0;32m-> 1572\u001b[0m     \u001b[38;5;28mself\u001b[39m\u001b[38;5;241m.\u001b[39mflies \u001b[38;5;241m=\u001b[39m \u001b[38;5;28;43mself\u001b[39;49m\u001b[38;5;241;43m.\u001b[39;49m\u001b[43mload_flies\u001b[49m\u001b[43m(\u001b[49m\u001b[43m)\u001b[49m\n\u001b[1;32m   1574\u001b[0m \u001b[38;5;66;03m# Check if the experiment directory contains a grid image and if there is \"corridor\" in sub subfolder names. if no grid, generate it\u001b[39;00m\n\u001b[1;32m   1575\u001b[0m \u001b[38;5;28;01mif\u001b[39;00m \u001b[38;5;129;01mnot\u001b[39;00m (\u001b[38;5;28mself\u001b[39m\u001b[38;5;241m.\u001b[39mdirectory \u001b[38;5;241m/\u001b[39m \u001b[38;5;124m\"\u001b[39m\u001b[38;5;124mgrid.png\u001b[39m\u001b[38;5;124m\"\u001b[39m)\u001b[38;5;241m.\u001b[39mexists() \u001b[38;5;129;01mand\u001b[39;00m \u001b[38;5;28many\u001b[39m(\n\u001b[1;32m   1576\u001b[0m     \u001b[38;5;124m\"\u001b[39m\u001b[38;5;124mcorridor\u001b[39m\u001b[38;5;124m\"\u001b[39m \u001b[38;5;129;01min\u001b[39;00m \u001b[38;5;28mstr\u001b[39m(subdir) \u001b[38;5;28;01mfor\u001b[39;00m subdir \u001b[38;5;129;01min\u001b[39;00m \u001b[38;5;28mself\u001b[39m\u001b[38;5;241m.\u001b[39mdirectory\u001b[38;5;241m.\u001b[39mrglob(\u001b[38;5;124m\"\u001b[39m\u001b[38;5;124m*\u001b[39m\u001b[38;5;124m\"\u001b[39m)\n\u001b[1;32m   1577\u001b[0m ):\n",
      "File \u001b[0;32m~/utils_behavior/utils_behavior/Ballpushing_utils.py:1690\u001b[0m, in \u001b[0;36mExperiment.load_flies\u001b[0;34m(self)\u001b[0m\n\u001b[1;32m   1688\u001b[0m futures \u001b[38;5;241m=\u001b[39m [executor\u001b[38;5;241m.\u001b[39msubmit(load_fly, mp4_file) \u001b[38;5;28;01mfor\u001b[39;00m mp4_file \u001b[38;5;129;01min\u001b[39;00m mp4_files]\n\u001b[1;32m   1689\u001b[0m \u001b[38;5;28;01mfor\u001b[39;00m future \u001b[38;5;129;01min\u001b[39;00m as_completed(futures):\n\u001b[0;32m-> 1690\u001b[0m     fly \u001b[38;5;241m=\u001b[39m \u001b[43mfuture\u001b[49m\u001b[38;5;241;43m.\u001b[39;49m\u001b[43mresult\u001b[49m\u001b[43m(\u001b[49m\u001b[43m)\u001b[49m\n\u001b[1;32m   1691\u001b[0m     \u001b[38;5;28;01mif\u001b[39;00m fly \u001b[38;5;129;01mis\u001b[39;00m \u001b[38;5;129;01mnot\u001b[39;00m \u001b[38;5;28;01mNone\u001b[39;00m:\n\u001b[1;32m   1692\u001b[0m         flies\u001b[38;5;241m.\u001b[39mappend(fly)\n",
      "File \u001b[0;32m~/miniforge3/envs/tracking_analysis/lib/python3.12/concurrent/futures/_base.py:449\u001b[0m, in \u001b[0;36mFuture.result\u001b[0;34m(self, timeout)\u001b[0m\n\u001b[1;32m    447\u001b[0m     \u001b[38;5;28;01mraise\u001b[39;00m CancelledError()\n\u001b[1;32m    448\u001b[0m \u001b[38;5;28;01melif\u001b[39;00m \u001b[38;5;28mself\u001b[39m\u001b[38;5;241m.\u001b[39m_state \u001b[38;5;241m==\u001b[39m FINISHED:\n\u001b[0;32m--> 449\u001b[0m     \u001b[38;5;28;01mreturn\u001b[39;00m \u001b[38;5;28;43mself\u001b[39;49m\u001b[38;5;241;43m.\u001b[39;49m\u001b[43m__get_result\u001b[49m\u001b[43m(\u001b[49m\u001b[43m)\u001b[49m\n\u001b[1;32m    451\u001b[0m \u001b[38;5;28mself\u001b[39m\u001b[38;5;241m.\u001b[39m_condition\u001b[38;5;241m.\u001b[39mwait(timeout)\n\u001b[1;32m    453\u001b[0m \u001b[38;5;28;01mif\u001b[39;00m \u001b[38;5;28mself\u001b[39m\u001b[38;5;241m.\u001b[39m_state \u001b[38;5;129;01min\u001b[39;00m [CANCELLED, CANCELLED_AND_NOTIFIED]:\n",
      "File \u001b[0;32m~/miniforge3/envs/tracking_analysis/lib/python3.12/concurrent/futures/_base.py:401\u001b[0m, in \u001b[0;36mFuture.__get_result\u001b[0;34m(self)\u001b[0m\n\u001b[1;32m    399\u001b[0m \u001b[38;5;28;01mif\u001b[39;00m \u001b[38;5;28mself\u001b[39m\u001b[38;5;241m.\u001b[39m_exception:\n\u001b[1;32m    400\u001b[0m     \u001b[38;5;28;01mtry\u001b[39;00m:\n\u001b[0;32m--> 401\u001b[0m         \u001b[38;5;28;01mraise\u001b[39;00m \u001b[38;5;28mself\u001b[39m\u001b[38;5;241m.\u001b[39m_exception\n\u001b[1;32m    402\u001b[0m     \u001b[38;5;28;01mfinally\u001b[39;00m:\n\u001b[1;32m    403\u001b[0m         \u001b[38;5;66;03m# Break a reference cycle with the exception in self._exception\u001b[39;00m\n\u001b[1;32m    404\u001b[0m         \u001b[38;5;28mself\u001b[39m \u001b[38;5;241m=\u001b[39m \u001b[38;5;28;01mNone\u001b[39;00m\n",
      "File \u001b[0;32m~/miniforge3/envs/tracking_analysis/lib/python3.12/concurrent/futures/thread.py:58\u001b[0m, in \u001b[0;36m_WorkItem.run\u001b[0;34m(self)\u001b[0m\n\u001b[1;32m     55\u001b[0m     \u001b[38;5;28;01mreturn\u001b[39;00m\n\u001b[1;32m     57\u001b[0m \u001b[38;5;28;01mtry\u001b[39;00m:\n\u001b[0;32m---> 58\u001b[0m     result \u001b[38;5;241m=\u001b[39m \u001b[38;5;28;43mself\u001b[39;49m\u001b[38;5;241;43m.\u001b[39;49m\u001b[43mfn\u001b[49m\u001b[43m(\u001b[49m\u001b[38;5;241;43m*\u001b[39;49m\u001b[38;5;28;43mself\u001b[39;49m\u001b[38;5;241;43m.\u001b[39;49m\u001b[43margs\u001b[49m\u001b[43m,\u001b[49m\u001b[43m \u001b[49m\u001b[38;5;241;43m*\u001b[39;49m\u001b[38;5;241;43m*\u001b[39;49m\u001b[38;5;28;43mself\u001b[39;49m\u001b[38;5;241;43m.\u001b[39;49m\u001b[43mkwargs\u001b[49m\u001b[43m)\u001b[49m\n\u001b[1;32m     59\u001b[0m \u001b[38;5;28;01mexcept\u001b[39;00m \u001b[38;5;167;01mBaseException\u001b[39;00m \u001b[38;5;28;01mas\u001b[39;00m exc:\n\u001b[1;32m     60\u001b[0m     \u001b[38;5;28mself\u001b[39m\u001b[38;5;241m.\u001b[39mfuture\u001b[38;5;241m.\u001b[39mset_exception(exc)\n",
      "File \u001b[0;32m~/utils_behavior/utils_behavior/Ballpushing_utils.py:1678\u001b[0m, in \u001b[0;36mExperiment.load_flies.<locals>.load_fly\u001b[0;34m(mp4_file)\u001b[0m\n\u001b[1;32m   1676\u001b[0m \u001b[38;5;28mprint\u001b[39m(\u001b[38;5;124mf\u001b[39m\u001b[38;5;124m\"\u001b[39m\u001b[38;5;124mLoading fly from \u001b[39m\u001b[38;5;132;01m{\u001b[39;00mmp4_file\u001b[38;5;241m.\u001b[39mparent\u001b[38;5;132;01m}\u001b[39;00m\u001b[38;5;124m\"\u001b[39m)\n\u001b[1;32m   1677\u001b[0m \u001b[38;5;28;01mtry\u001b[39;00m:\n\u001b[0;32m-> 1678\u001b[0m     fly \u001b[38;5;241m=\u001b[39m \u001b[43mFly\u001b[49m\u001b[43m(\u001b[49m\u001b[43mmp4_file\u001b[49m\u001b[38;5;241;43m.\u001b[39;49m\u001b[43mparent\u001b[49m\u001b[43m,\u001b[49m\u001b[43m \u001b[49m\u001b[43mexperiment\u001b[49m\u001b[38;5;241;43m=\u001b[39;49m\u001b[38;5;28;43mself\u001b[39;49m\u001b[43m)\u001b[49m\n\u001b[1;32m   1679\u001b[0m     \u001b[38;5;28;01mif\u001b[39;00m fly\u001b[38;5;241m.\u001b[39mvalid_data:\n\u001b[1;32m   1680\u001b[0m         \u001b[38;5;28;01mreturn\u001b[39;00m fly\n",
      "File \u001b[0;32m~/utils_behavior/utils_behavior/Ballpushing_utils.py:417\u001b[0m, in \u001b[0;36mFly.__init__\u001b[0;34m(self, directory, experiment, as_individual, time_range, success_cutoff)\u001b[0m\n\u001b[1;32m    413\u001b[0m \u001b[38;5;66;03m# Compute the metrics for the fly\u001b[39;00m\n\u001b[1;32m    415\u001b[0m \u001b[38;5;28mself\u001b[39m\u001b[38;5;241m.\u001b[39mmetrics \u001b[38;5;241m=\u001b[39m {}\n\u001b[0;32m--> 417\u001b[0m \u001b[38;5;28;43mself\u001b[39;49m\u001b[38;5;241;43m.\u001b[39;49m\u001b[43mcompute_metrics\u001b[49m\u001b[43m(\u001b[49m\u001b[43m)\u001b[49m\n\u001b[1;32m    419\u001b[0m \u001b[38;5;28mself\u001b[39m\u001b[38;5;241m.\u001b[39mtraining_ball_distances, \u001b[38;5;28mself\u001b[39m\u001b[38;5;241m.\u001b[39mtest_ball_distances \u001b[38;5;241m=\u001b[39m \u001b[38;5;28mself\u001b[39m\u001b[38;5;241m.\u001b[39mget_F1_ball_distances()\n",
      "File \u001b[0;32m~/utils_behavior/utils_behavior/Ballpushing_utils.py:855\u001b[0m, in \u001b[0;36mFly.compute_metrics\u001b[0;34m(self)\u001b[0m\n\u001b[1;32m    853\u001b[0m max_event \u001b[38;5;241m=\u001b[39m \u001b[38;5;28mself\u001b[39m\u001b[38;5;241m.\u001b[39mget_max_event(fly_idx, ball_idx)\n\u001b[1;32m    854\u001b[0m significant_events \u001b[38;5;241m=\u001b[39m \u001b[38;5;28mself\u001b[39m\u001b[38;5;241m.\u001b[39mget_significant_events(fly_idx, ball_idx)\n\u001b[0;32m--> 855\u001b[0m aha_moment \u001b[38;5;241m=\u001b[39m \u001b[38;5;28;43mself\u001b[39;49m\u001b[38;5;241;43m.\u001b[39;49m\u001b[43mget_aha_moment\u001b[49m\u001b[43m(\u001b[49m\u001b[43mfly_idx\u001b[49m\u001b[43m,\u001b[49m\u001b[43m \u001b[49m\u001b[43mball_idx\u001b[49m\u001b[43m)\u001b[49m\n\u001b[1;32m    856\u001b[0m breaks \u001b[38;5;241m=\u001b[39m \u001b[38;5;28mself\u001b[39m\u001b[38;5;241m.\u001b[39mfind_breaks(fly_idx, ball_idx)\n\u001b[1;32m    857\u001b[0m events_direction \u001b[38;5;241m=\u001b[39m \u001b[38;5;28mself\u001b[39m\u001b[38;5;241m.\u001b[39mfind_events_direction(fly_idx, ball_idx)\n",
      "File \u001b[0;32m~/utils_behavior/utils_behavior/Ballpushing_utils.py:1154\u001b[0m, in \u001b[0;36mFly.get_aha_moment\u001b[0;34m(self, fly_idx, ball_idx, distance)\u001b[0m\n\u001b[1;32m   1146\u001b[0m ball_data \u001b[38;5;241m=\u001b[39m \u001b[38;5;28mself\u001b[39m\u001b[38;5;241m.\u001b[39mballtrack\u001b[38;5;241m.\u001b[39mobjects[ball_idx]\u001b[38;5;241m.\u001b[39mdataset\n\u001b[1;32m   1148\u001b[0m aha_moment \u001b[38;5;241m=\u001b[39m [\n\u001b[1;32m   1149\u001b[0m     (event, i)\n\u001b[1;32m   1150\u001b[0m     \u001b[38;5;28;01mfor\u001b[39;00m i, event \u001b[38;5;129;01min\u001b[39;00m \u001b[38;5;28menumerate\u001b[39m(\u001b[38;5;28mself\u001b[39m\u001b[38;5;241m.\u001b[39minteraction_events[fly_idx][ball_idx])\n\u001b[1;32m   1151\u001b[0m     \u001b[38;5;28;01mif\u001b[39;00m \u001b[38;5;28mself\u001b[39m\u001b[38;5;241m.\u001b[39mcheck_yball_variation(event, ball_data, threshold\u001b[38;5;241m=\u001b[39mdistance)\n\u001b[1;32m   1152\u001b[0m ]\n\u001b[0;32m-> 1154\u001b[0m \u001b[38;5;28;01mreturn\u001b[39;00m \u001b[43maha_moment\u001b[49m\u001b[43m[\u001b[49m\u001b[38;5;241;43m0\u001b[39;49m\u001b[43m]\u001b[49m\n",
      "\u001b[0;31mIndexError\u001b[0m: list index out of range"
     ]
    }
   ],
   "source": [
    "TestExp_F1 = Ballpushing_utils.Experiment(\"/mnt/upramdya_data/MD/F1_Tracks/Videos/240821_F1_3mm_ends_Videos_Checked\")"
   ]
  },
  {
   "cell_type": "code",
   "execution_count": 39,
   "metadata": {},
   "outputs": [
    {
     "name": "stdout",
     "output_type": "stream",
     "text": [
      "Aha moment: None\n"
     ]
    }
   ],
   "source": [
    "TroubleFly = Ballpushing_utils.Fly(\n",
    "    \"/mnt/upramdya_data/MD/F1_Tracks/Videos/240821_F1_3mm_ends_Videos_Checked/arena1/Right\",\n",
    "    as_individual=True,\n",
    ")"
   ]
  },
  {
   "cell_type": "code",
   "execution_count": 16,
   "metadata": {},
   "outputs": [
    {
     "data": {
      "text/plain": [
       "{'fly_0_ball_0': {'nb_events': 120,\n",
       "  'max_event': ([np.int64(114445), np.int64(114882), np.int64(437)], 74),\n",
       "  'max_event_time': array([3946.37931034, 3961.44827586,   15.06896552]),\n",
       "  'final_event': ([np.int64(114445), np.int64(114882), np.int64(437)], 74),\n",
       "  'final_event_time': array([3946.37931034, 3961.44827586,   15.06896552]),\n",
       "  'significant_events': [[np.int64(27124), np.int64(27184), np.int64(60)],\n",
       "   [np.int64(30305), np.int64(30396), np.int64(91)],\n",
       "   [np.int64(30543), np.int64(30802), np.int64(259)],\n",
       "   [np.int64(38969), np.int64(39184), np.int64(215)],\n",
       "   [np.int64(44909), np.int64(45157), np.int64(248)],\n",
       "   [np.int64(51267), np.int64(51577), np.int64(310)],\n",
       "   [np.int64(54624), np.int64(54875), np.int64(251)],\n",
       "   [np.int64(55138), np.int64(55543), np.int64(405)],\n",
       "   [np.int64(55694), np.int64(56071), np.int64(377)],\n",
       "   [np.int64(61292), np.int64(61481), np.int64(189)],\n",
       "   [np.int64(63306), np.int64(63545), np.int64(239)],\n",
       "   [np.int64(65909), np.int64(66161), np.int64(252)],\n",
       "   [np.int64(66380), np.int64(66592), np.int64(212)],\n",
       "   [np.int64(73280), np.int64(73593), np.int64(313)],\n",
       "   [np.int64(74595), np.int64(74796), np.int64(201)],\n",
       "   [np.int64(75978), np.int64(76162), np.int64(184)],\n",
       "   [np.int64(76388), np.int64(76593), np.int64(205)],\n",
       "   [np.int64(77129), np.int64(77382), np.int64(253)],\n",
       "   [np.int64(79831), np.int64(80433), np.int64(602)],\n",
       "   [np.int64(80927), np.int64(81147), np.int64(220)],\n",
       "   [np.int64(83998), np.int64(84232), np.int64(234)],\n",
       "   [np.int64(84837), np.int64(85138), np.int64(301)],\n",
       "   [np.int64(85569), np.int64(85778), np.int64(209)],\n",
       "   [np.int64(89102), np.int64(89325), np.int64(223)],\n",
       "   [np.int64(89490), np.int64(89639), np.int64(149)],\n",
       "   [np.int64(91445), np.int64(91774), np.int64(329)],\n",
       "   [np.int64(92788), np.int64(93144), np.int64(356)],\n",
       "   [np.int64(93972), np.int64(94259), np.int64(287)],\n",
       "   [np.int64(101129), np.int64(101308), np.int64(179)],\n",
       "   [np.int64(102466), np.int64(102698), np.int64(232)],\n",
       "   [np.int64(105691), np.int64(106068), np.int64(377)],\n",
       "   [np.int64(106802), np.int64(106867), np.int64(65)],\n",
       "   [np.int64(107789), np.int64(107853), np.int64(64)],\n",
       "   [np.int64(128418), np.int64(129033), np.int64(615)],\n",
       "   [np.int64(133321), np.int64(133699), np.int64(378)],\n",
       "   [np.int64(139591), np.int64(139886), np.int64(295)],\n",
       "   [np.int64(144858), np.int64(145043), np.int64(185)],\n",
       "   [np.int64(148257), np.int64(148496), np.int64(239)],\n",
       "   [np.int64(149124), np.int64(149801), np.int64(677)],\n",
       "   [np.int64(150230), np.int64(150739), np.int64(509)],\n",
       "   [np.int64(155000), np.int64(155330), np.int64(330)],\n",
       "   [np.int64(163860), np.int64(164179), np.int64(319)],\n",
       "   [np.int64(175921), np.int64(176593), np.int64(672)],\n",
       "   [np.int64(178835), np.int64(179125), np.int64(290)],\n",
       "   [np.int64(185873), np.int64(186140), np.int64(267)],\n",
       "   [np.int64(202468), np.int64(203333), np.int64(865)],\n",
       "   [np.int64(203459), np.int64(207001), np.int64(3542)],\n",
       "   [np.int64(207229), np.int64(211077), np.int64(3848)]],\n",
       "  'nb_significant_events': 48,\n",
       "  'first_significant_event': [np.int64(27124), np.int64(27184), np.int64(60)],\n",
       "  'first_significant_event_time': np.float64(935.3103448275862),\n",
       "  'aha_moment': np.int64(27124),\n",
       "  'aha_moment_time': np.float64(935.3103448275862),\n",
       "  'insight_effect': np.float64(0.0),\n",
       "  'breaks': [(0, np.int64(8914), np.int64(8914)),\n",
       "   (np.int64(9189), np.int64(9584), np.int64(395)),\n",
       "   (np.int64(9913), np.int64(13609), np.int64(3696)),\n",
       "   (np.int64(13814), np.int64(24145), np.int64(10331)),\n",
       "   (np.int64(24205), np.int64(27124), np.int64(2919)),\n",
       "   (np.int64(27184), np.int64(28785), np.int64(1601)),\n",
       "   (np.int64(28904), np.int64(30305), np.int64(1401)),\n",
       "   (np.int64(30396), np.int64(30543), np.int64(147)),\n",
       "   (np.int64(30802), np.int64(34136), np.int64(3334)),\n",
       "   (np.int64(34311), np.int64(35226), np.int64(915)),\n",
       "   (np.int64(35349), np.int64(36557), np.int64(1208)),\n",
       "   (np.int64(36706), np.int64(36995), np.int64(289)),\n",
       "   (np.int64(37162), np.int64(38280), np.int64(1118)),\n",
       "   (np.int64(38439), np.int64(38969), np.int64(530)),\n",
       "   (np.int64(39184), np.int64(40107), np.int64(923)),\n",
       "   (np.int64(40239), np.int64(42199), np.int64(1960)),\n",
       "   (np.int64(42281), np.int64(42991), np.int64(710)),\n",
       "   (np.int64(43061), np.int64(43401), np.int64(340)),\n",
       "   (np.int64(43517), np.int64(43713), np.int64(196)),\n",
       "   (np.int64(43852), np.int64(44909), np.int64(1057)),\n",
       "   (np.int64(45157), np.int64(47639), np.int64(2482)),\n",
       "   (np.int64(47762), np.int64(48316), np.int64(554)),\n",
       "   (np.int64(48419), np.int64(49826), np.int64(1407)),\n",
       "   (np.int64(49935), np.int64(50232), np.int64(297)),\n",
       "   (np.int64(50312), np.int64(50645), np.int64(333)),\n",
       "   (np.int64(50712), np.int64(51267), np.int64(555)),\n",
       "   (np.int64(51577), np.int64(53347), np.int64(1770)),\n",
       "   (np.int64(53528), np.int64(54624), np.int64(1096)),\n",
       "   (np.int64(54875), np.int64(55138), np.int64(263)),\n",
       "   (np.int64(55543), np.int64(55694), np.int64(151)),\n",
       "   (np.int64(56071), np.int64(57549), np.int64(1478)),\n",
       "   (np.int64(57613), np.int64(59335), np.int64(1722)),\n",
       "   (np.int64(59436), np.int64(61292), np.int64(1856)),\n",
       "   (np.int64(61481), np.int64(61737), np.int64(256)),\n",
       "   (np.int64(61865), np.int64(62869), np.int64(1004)),\n",
       "   (np.int64(63026), np.int64(63306), np.int64(280)),\n",
       "   (np.int64(63545), np.int64(65909), np.int64(2364)),\n",
       "   (np.int64(66161), np.int64(66380), np.int64(219)),\n",
       "   (np.int64(66592), np.int64(68884), np.int64(2292)),\n",
       "   (np.int64(69038), np.int64(71256), np.int64(2218)),\n",
       "   (np.int64(71425), np.int64(71807), np.int64(382)),\n",
       "   (np.int64(72097), np.int64(73280), np.int64(1183)),\n",
       "   (np.int64(73593), np.int64(74595), np.int64(1002)),\n",
       "   (np.int64(74796), np.int64(75978), np.int64(1182)),\n",
       "   (np.int64(76162), np.int64(76388), np.int64(226)),\n",
       "   (np.int64(76593), np.int64(77129), np.int64(536)),\n",
       "   (np.int64(77382), np.int64(77933), np.int64(551)),\n",
       "   (np.int64(78014), np.int64(78866), np.int64(852)),\n",
       "   (np.int64(79068), np.int64(79252), np.int64(184)),\n",
       "   (np.int64(79447), np.int64(79831), np.int64(384)),\n",
       "   (np.int64(80433), np.int64(80927), np.int64(494)),\n",
       "   (np.int64(81147), np.int64(81972), np.int64(825)),\n",
       "   (np.int64(82051), np.int64(82271), np.int64(220)),\n",
       "   (np.int64(82427), np.int64(83998), np.int64(1571)),\n",
       "   (np.int64(84232), np.int64(84837), np.int64(605)),\n",
       "   (np.int64(85138), np.int64(85569), np.int64(431)),\n",
       "   (np.int64(85778), np.int64(87778), np.int64(2000)),\n",
       "   (np.int64(87995), np.int64(88640), np.int64(645)),\n",
       "   (np.int64(88743), np.int64(89102), np.int64(359)),\n",
       "   (np.int64(89325), np.int64(89490), np.int64(165)),\n",
       "   (np.int64(89639), np.int64(90069), np.int64(430)),\n",
       "   (np.int64(90622), np.int64(90922), np.int64(300)),\n",
       "   (np.int64(91073), np.int64(91445), np.int64(372)),\n",
       "   (np.int64(91774), np.int64(92788), np.int64(1014)),\n",
       "   (np.int64(93144), np.int64(93972), np.int64(828)),\n",
       "   (np.int64(94259), np.int64(94585), np.int64(326)),\n",
       "   (np.int64(94697), np.int64(96568), np.int64(1871)),\n",
       "   (np.int64(96756), np.int64(97448), np.int64(692)),\n",
       "   (np.int64(97548), np.int64(101129), np.int64(3581)),\n",
       "   (np.int64(101308), np.int64(102466), np.int64(1158)),\n",
       "   (np.int64(102698), np.int64(104728), np.int64(2030)),\n",
       "   (np.int64(104912), np.int64(105691), np.int64(779)),\n",
       "   (np.int64(106068), np.int64(106802), np.int64(734)),\n",
       "   (np.int64(106867), np.int64(107789), np.int64(922)),\n",
       "   (np.int64(107853), np.int64(114445), np.int64(6592)),\n",
       "   (np.int64(114882), np.int64(115702), np.int64(820)),\n",
       "   (np.int64(115840), np.int64(118688), np.int64(2848)),\n",
       "   (np.int64(118748), np.int64(119753), np.int64(1005)),\n",
       "   (np.int64(119856), np.int64(121668), np.int64(1812)),\n",
       "   (np.int64(122044), np.int64(122570), np.int64(526)),\n",
       "   (np.int64(122652), np.int64(123108), np.int64(456)),\n",
       "   (np.int64(123232), np.int64(123673), np.int64(441)),\n",
       "   (np.int64(123940), np.int64(126516), np.int64(2576)),\n",
       "   (np.int64(126780), np.int64(128418), np.int64(1638)),\n",
       "   (np.int64(129033), np.int64(131186), np.int64(2153)),\n",
       "   (np.int64(131341), np.int64(132506), np.int64(1165)),\n",
       "   (np.int64(133026), np.int64(133321), np.int64(295)),\n",
       "   (np.int64(133699), np.int64(137618), np.int64(3919)),\n",
       "   (np.int64(137730), np.int64(139591), np.int64(1861)),\n",
       "   (np.int64(139886), np.int64(140122), np.int64(236)),\n",
       "   (np.int64(140425), np.int64(141693), np.int64(1268)),\n",
       "   (np.int64(141860), np.int64(144858), np.int64(2998)),\n",
       "   (np.int64(145043), np.int64(148257), np.int64(3214)),\n",
       "   (np.int64(148496), np.int64(148704), np.int64(208)),\n",
       "   (np.int64(148914), np.int64(149124), np.int64(210)),\n",
       "   (np.int64(149801), np.int64(150230), np.int64(429)),\n",
       "   (np.int64(150739), np.int64(155000), np.int64(4261)),\n",
       "   (np.int64(155330), np.int64(160801), np.int64(5471)),\n",
       "   (np.int64(161010), np.int64(163860), np.int64(2850)),\n",
       "   (np.int64(164179), np.int64(167062), np.int64(2883)),\n",
       "   (np.int64(167338), np.int64(170763), np.int64(3425)),\n",
       "   (np.int64(170959), np.int64(172570), np.int64(1611)),\n",
       "   (np.int64(172837), np.int64(173618), np.int64(781)),\n",
       "   (np.int64(174101), np.int64(175921), np.int64(1820)),\n",
       "   (np.int64(176593), np.int64(177078), np.int64(485)),\n",
       "   (np.int64(177438), np.int64(178835), np.int64(1397)),\n",
       "   (np.int64(179125), np.int64(181220), np.int64(2095)),\n",
       "   (np.int64(181975), np.int64(183453), np.int64(1478)),\n",
       "   (np.int64(183569), np.int64(184342), np.int64(773)),\n",
       "   (np.int64(184612), np.int64(185873), np.int64(1261)),\n",
       "   (np.int64(186140), np.int64(186781), np.int64(641)),\n",
       "   (np.int64(186948), np.int64(187311), np.int64(363)),\n",
       "   (np.int64(188067), np.int64(188712), np.int64(645)),\n",
       "   (np.int64(188869), np.int64(190576), np.int64(1707)),\n",
       "   (np.int64(190722), np.int64(202468), np.int64(11746)),\n",
       "   (np.int64(203333), np.int64(203459), np.int64(126)),\n",
       "   (np.int64(207001), np.int64(207229), np.int64(228)),\n",
       "   (np.int64(211077), np.int64(214165), np.int64(3088)),\n",
       "   (np.int64(214685), np.int64(216177), np.int64(1492)),\n",
       "   (np.int64(217606), np.int64(247577), np.int64(29971)),\n",
       "   (np.int64(247695), 261006, np.int64(13311))],\n",
       "  'cumulated_breaks_duration': np.int64(223994),\n",
       "  'events_direction': ([[np.int64(38969), np.int64(39184), np.int64(215)],\n",
       "    [np.int64(44909), np.int64(45157), np.int64(248)],\n",
       "    [np.int64(61292), np.int64(61481), np.int64(189)],\n",
       "    [np.int64(63306), np.int64(63545), np.int64(239)],\n",
       "    [np.int64(76388), np.int64(76593), np.int64(205)],\n",
       "    [np.int64(80927), np.int64(81147), np.int64(220)],\n",
       "    [np.int64(89490), np.int64(89639), np.int64(149)],\n",
       "    [np.int64(91445), np.int64(91774), np.int64(329)],\n",
       "    [np.int64(92788), np.int64(93144), np.int64(356)],\n",
       "    [np.int64(102466), np.int64(102698), np.int64(232)],\n",
       "    [np.int64(144858), np.int64(145043), np.int64(185)],\n",
       "    [np.int64(148257), np.int64(148496), np.int64(239)],\n",
       "    [np.int64(149124), np.int64(149801), np.int64(677)],\n",
       "    [np.int64(175921), np.int64(176593), np.int64(672)],\n",
       "    [np.int64(202468), np.int64(203333), np.int64(865)]],\n",
       "   [[np.int64(27124), np.int64(27184), np.int64(60)],\n",
       "    [np.int64(30305), np.int64(30396), np.int64(91)],\n",
       "    [np.int64(30543), np.int64(30802), np.int64(259)],\n",
       "    [np.int64(51267), np.int64(51577), np.int64(310)],\n",
       "    [np.int64(54624), np.int64(54875), np.int64(251)],\n",
       "    [np.int64(55138), np.int64(55543), np.int64(405)],\n",
       "    [np.int64(55694), np.int64(56071), np.int64(377)],\n",
       "    [np.int64(65909), np.int64(66161), np.int64(252)],\n",
       "    [np.int64(66380), np.int64(66592), np.int64(212)],\n",
       "    [np.int64(73280), np.int64(73593), np.int64(313)],\n",
       "    [np.int64(74595), np.int64(74796), np.int64(201)],\n",
       "    [np.int64(75978), np.int64(76162), np.int64(184)],\n",
       "    [np.int64(77129), np.int64(77382), np.int64(253)],\n",
       "    [np.int64(79831), np.int64(80433), np.int64(602)],\n",
       "    [np.int64(83998), np.int64(84232), np.int64(234)],\n",
       "    [np.int64(84837), np.int64(85138), np.int64(301)],\n",
       "    [np.int64(85569), np.int64(85778), np.int64(209)],\n",
       "    [np.int64(89102), np.int64(89325), np.int64(223)],\n",
       "    [np.int64(93972), np.int64(94259), np.int64(287)],\n",
       "    [np.int64(101129), np.int64(101308), np.int64(179)],\n",
       "    [np.int64(105691), np.int64(106068), np.int64(377)],\n",
       "    [np.int64(106802), np.int64(106867), np.int64(65)],\n",
       "    [np.int64(107789), np.int64(107853), np.int64(64)],\n",
       "    [np.int64(128418), np.int64(129033), np.int64(615)],\n",
       "    [np.int64(133321), np.int64(133699), np.int64(378)],\n",
       "    [np.int64(139591), np.int64(139886), np.int64(295)],\n",
       "    [np.int64(150230), np.int64(150739), np.int64(509)],\n",
       "    [np.int64(155000), np.int64(155330), np.int64(330)],\n",
       "    [np.int64(163860), np.int64(164179), np.int64(319)],\n",
       "    [np.int64(178835), np.int64(179125), np.int64(290)],\n",
       "    [np.int64(185873), np.int64(186140), np.int64(267)],\n",
       "    [np.int64(203459), np.int64(207001), np.int64(3542)],\n",
       "    [np.int64(207229), np.int64(211077), np.int64(3848)]]),\n",
       "  'pushed': 15,\n",
       "  'pulled': 33,\n",
       "  'pulling_ratio': 0.6875,\n",
       "  'interaction_proportion': np.float64(0.14180516922982614),\n",
       "  'distance_moved': np.float64(42435490.38593846)},\n",
       " 'fly_0_ball_1': {'nb_events': 55,\n",
       "  'max_event': ([np.int64(197062), np.int64(197340), np.int64(278)], 41),\n",
       "  'max_event_time': array([6795.24137931, 6804.82758621,    9.5862069 ]),\n",
       "  'final_event': ([np.int64(114445), np.int64(114882), np.int64(437)], 74),\n",
       "  'final_event_time': array([3946.37931034, 3961.44827586,   15.06896552]),\n",
       "  'significant_events': [[np.int64(116587), np.int64(116743), np.int64(156)],\n",
       "   [np.int64(135918), np.int64(136049), np.int64(131)],\n",
       "   [np.int64(192311), np.int64(192988), np.int64(677)],\n",
       "   [np.int64(197062), np.int64(197340), np.int64(278)],\n",
       "   [np.int64(211662), np.int64(213193), np.int64(1531)],\n",
       "   [np.int64(217847), np.int64(218583), np.int64(736)],\n",
       "   [np.int64(219231), np.int64(220299), np.int64(1068)],\n",
       "   [np.int64(220891), np.int64(223510), np.int64(2619)],\n",
       "   [np.int64(225591), np.int64(227234), np.int64(1643)],\n",
       "   [np.int64(227677), np.int64(234270), np.int64(6593)]],\n",
       "  'nb_significant_events': 10,\n",
       "  'first_significant_event': [np.int64(116587),\n",
       "   np.int64(116743),\n",
       "   np.int64(156)],\n",
       "  'first_significant_event_time': np.float64(4020.2413793103447),\n",
       "  'aha_moment': np.int64(192311),\n",
       "  'aha_moment_time': np.float64(6631.413793103448),\n",
       "  'insight_effect': np.float64(0.2130553458446833),\n",
       "  'breaks': [(0, np.int64(108697), np.int64(108697)),\n",
       "   (np.int64(108820), np.int64(111155), np.int64(2335)),\n",
       "   (np.int64(111774), np.int64(112096), np.int64(322)),\n",
       "   (np.int64(112189), np.int64(113159), np.int64(970)),\n",
       "   (np.int64(113224), np.int64(116587), np.int64(3363)),\n",
       "   (np.int64(116743), np.int64(118239), np.int64(1496)),\n",
       "   (np.int64(118328), np.int64(127014), np.int64(8686)),\n",
       "   (np.int64(127093), np.int64(129726), np.int64(2633)),\n",
       "   (np.int64(129917), np.int64(133929), np.int64(4012)),\n",
       "   (np.int64(134135), np.int64(135918), np.int64(1783)),\n",
       "   (np.int64(136049), np.int64(136381), np.int64(332)),\n",
       "   (np.int64(136445), np.int64(137975), np.int64(1530)),\n",
       "   (np.int64(138061), np.int64(139052), np.int64(991)),\n",
       "   (np.int64(139144), np.int64(142511), np.int64(3367)),\n",
       "   (np.int64(142666), np.int64(144358), np.int64(1692)),\n",
       "   (np.int64(144531), np.int64(145498), np.int64(967)),\n",
       "   (np.int64(145638), np.int64(146677), np.int64(1039)),\n",
       "   (np.int64(146751), np.int64(151796), np.int64(5045)),\n",
       "   (np.int64(152416), np.int64(153423), np.int64(1007)),\n",
       "   (np.int64(153738), np.int64(156147), np.int64(2409)),\n",
       "   (np.int64(156277), np.int64(156717), np.int64(440)),\n",
       "   (np.int64(156852), np.int64(157387), np.int64(535)),\n",
       "   (np.int64(157487), np.int64(157808), np.int64(321)),\n",
       "   (np.int64(157941), np.int64(158621), np.int64(680)),\n",
       "   (np.int64(158765), np.int64(159148), np.int64(383)),\n",
       "   (np.int64(159707), np.int64(162797), np.int64(3090)),\n",
       "   (np.int64(162911), np.int64(163303), np.int64(392)),\n",
       "   (np.int64(163426), np.int64(164991), np.int64(1565)),\n",
       "   (np.int64(165313), np.int64(165723), np.int64(410)),\n",
       "   (np.int64(165830), np.int64(167564), np.int64(1734)),\n",
       "   (np.int64(167711), np.int64(168134), np.int64(423)),\n",
       "   (np.int64(168311), np.int64(171449), np.int64(3138)),\n",
       "   (np.int64(171593), np.int64(174362), np.int64(2769)),\n",
       "   (np.int64(174580), np.int64(178200), np.int64(3620)),\n",
       "   (np.int64(178377), np.int64(180034), np.int64(1657)),\n",
       "   (np.int64(180119), np.int64(189213), np.int64(9094)),\n",
       "   (np.int64(189741), np.int64(192311), np.int64(2570)),\n",
       "   (np.int64(192988), np.int64(193946), np.int64(958)),\n",
       "   (np.int64(194136), np.int64(194750), np.int64(614)),\n",
       "   (np.int64(194930), np.int64(195596), np.int64(666)),\n",
       "   (np.int64(195731), np.int64(196343), np.int64(612)),\n",
       "   (np.int64(196455), np.int64(197062), np.int64(607)),\n",
       "   (np.int64(197340), np.int64(197984), np.int64(644)),\n",
       "   (np.int64(198119), np.int64(198849), np.int64(730)),\n",
       "   (np.int64(199077), np.int64(200130), np.int64(1053)),\n",
       "   (np.int64(201555), np.int64(211662), np.int64(10107)),\n",
       "   (np.int64(213193), np.int64(217847), np.int64(4654)),\n",
       "   (np.int64(218583), np.int64(219231), np.int64(648)),\n",
       "   (np.int64(220299), np.int64(220891), np.int64(592)),\n",
       "   (np.int64(223510), np.int64(223848), np.int64(338)),\n",
       "   (np.int64(224297), np.int64(225591), np.int64(1294)),\n",
       "   (np.int64(227234), np.int64(227677), np.int64(443)),\n",
       "   (np.int64(234270), np.int64(235419), np.int64(1149)),\n",
       "   (np.int64(241807), np.int64(245904), np.int64(4097)),\n",
       "   (np.int64(246241), np.int64(247943), np.int64(1702)),\n",
       "   (np.int64(258112), 261006, np.int64(2894))],\n",
       "  'cumulated_breaks_duration': np.int64(219299),\n",
       "  'events_direction': ([[np.int64(116587), np.int64(116743), np.int64(156)],\n",
       "    [np.int64(135918), np.int64(136049), np.int64(131)],\n",
       "    [np.int64(192311), np.int64(192988), np.int64(677)],\n",
       "    [np.int64(197062), np.int64(197340), np.int64(278)],\n",
       "    [np.int64(217847), np.int64(218583), np.int64(736)],\n",
       "    [np.int64(220891), np.int64(223510), np.int64(2619)],\n",
       "    [np.int64(227677), np.int64(234270), np.int64(6593)]],\n",
       "   [[np.int64(211662), np.int64(213193), np.int64(1531)],\n",
       "    [np.int64(219231), np.int64(220299), np.int64(1068)],\n",
       "    [np.int64(225591), np.int64(227234), np.int64(1643)]]),\n",
       "  'pushed': 7,\n",
       "  'pulled': 3,\n",
       "  'pulling_ratio': 0.3,\n",
       "  'interaction_proportion': np.float64(0.159793261457591),\n",
       "  'distance_moved': np.float64(6031626.427367555)}}"
      ]
     },
     "execution_count": 16,
     "metadata": {},
     "output_type": "execute_result"
    }
   ],
   "source": [
    "TroubleFly.metrics"
   ]
  },
  {
   "cell_type": "code",
   "execution_count": 43,
   "metadata": {},
   "outputs": [
    {
     "name": "stdout",
     "output_type": "stream",
     "text": [
      "{'fly_0_ball_0': {'nb_events': 15, 'max_event': ([np.int64(47277), np.int64(47384), np.int64(107)], 1), 'max_event_time': array([1630.24137931, 1633.93103448,    3.68965517]), 'final_event': (None, None), 'final_event_time': None, 'significant_events': [], 'nb_significant_events': 0, 'first_significant_event': None, 'first_significant_event_time': None, 'aha_moment': None, 'aha_moment_time': None, 'insight_effect': None, 'breaks': [(0, np.int64(8833), np.int64(8833)), (np.int64(9014), np.int64(47277), np.int64(38263)), (np.int64(47384), np.int64(77008), np.int64(29624)), (np.int64(77132), np.int64(81573), np.int64(4441)), (np.int64(81643), np.int64(86737), np.int64(5094)), (np.int64(86808), np.int64(88003), np.int64(1195)), (np.int64(88090), np.int64(91548), np.int64(3458)), (np.int64(91633), np.int64(105682), np.int64(14049)), (np.int64(106278), np.int64(109755), np.int64(3477)), (np.int64(109890), np.int64(110810), np.int64(920)), (np.int64(110994), np.int64(116928), np.int64(5934)), (np.int64(117068), np.int64(119287), np.int64(2219)), (np.int64(119453), np.int64(130916), np.int64(11463)), (np.int64(131086), np.int64(157784), np.int64(26698)), (np.int64(158957), np.int64(161143), np.int64(2186)), (np.int64(162038), 261006, np.int64(98968))], 'cumulated_breaks_duration': np.int64(256822), 'events_direction': ([], []), 'pushed': 0, 'pulled': 0, 'pulling_ratio': None, 'interaction_proportion': np.float64(0.01603028282874723), 'distance_moved': np.float64(10063447.206625812)}}\n",
      "{'fly_0_ball_0': {'nb_events': 20, 'max_event': ([np.int64(121328), np.int64(134074), np.int64(12746)], 0), 'max_event_time': array([4183.72413793, 4623.24137931,  439.51724138]), 'final_event': (None, None), 'final_event_time': None, 'significant_events': [], 'nb_significant_events': 0, 'first_significant_event': None, 'first_significant_event_time': None, 'aha_moment': None, 'aha_moment_time': None, 'insight_effect': None, 'breaks': [(0, np.int64(121328), np.int64(121328)), (np.int64(134074), np.int64(137961), np.int64(3887)), (np.int64(139167), np.int64(140509), np.int64(1342)), (np.int64(141341), np.int64(141967), np.int64(626)), (np.int64(142198), np.int64(144091), np.int64(1893)), (np.int64(144654), np.int64(146796), np.int64(2142)), (np.int64(147177), np.int64(197328), np.int64(50151)), (np.int64(197590), np.int64(225895), np.int64(28305)), (np.int64(226102), np.int64(228554), np.int64(2452)), (np.int64(229727), np.int64(230532), np.int64(805)), (np.int64(231042), np.int64(231611), np.int64(569)), (np.int64(231813), np.int64(246080), np.int64(14267)), (np.int64(248433), np.int64(249342), np.int64(909)), (np.int64(249675), np.int64(250145), np.int64(470)), (np.int64(250875), np.int64(251641), np.int64(766)), (np.int64(252684), np.int64(256131), np.int64(3447)), (np.int64(256553), np.int64(257056), np.int64(503)), (np.int64(257270), np.int64(257874), np.int64(604)), (np.int64(258023), np.int64(258833), np.int64(810)), (np.int64(259420), np.int64(260271), np.int64(851)), (np.int64(261005), 261006, np.int64(1))], 'cumulated_breaks_duration': np.int64(236128), 'events_direction': ([], []), 'pushed': 0, 'pulled': 0, 'pulling_ratio': None, 'interaction_proportion': np.float64(0.09531581649463997), 'distance_moved': np.float64(247469.87641062326)}}\n",
      "{'fly_0_ball_0': {'nb_events': 22, 'max_event': ([np.int64(177524), np.int64(177690), np.int64(166)], 16), 'max_event_time': array([6.12151724e+03, 6.12724138e+03, 5.72413793e+00]), 'final_event': (None, None), 'final_event_time': None, 'significant_events': [[np.int64(177524), np.int64(177690), np.int64(166)]], 'nb_significant_events': 1, 'first_significant_event': [np.int64(177524), np.int64(177690), np.int64(166)], 'first_significant_event_time': np.float64(6121.517241379311), 'aha_moment': [np.int64(177524), np.int64(177690), np.int64(166)], 'aha_moment_time': np.float64(6121.517241379311), 'insight_effect': np.float64(0.0), 'breaks': [(0, np.int64(25818), np.int64(25818)), (np.int64(25897), np.int64(26587), np.int64(690)), (np.int64(26957), np.int64(28185), np.int64(1228)), (np.int64(28276), np.int64(43494), np.int64(15218)), (np.int64(43559), np.int64(47966), np.int64(4407)), (np.int64(48052), np.int64(58345), np.int64(10293)), (np.int64(58486), np.int64(68362), np.int64(9876)), (np.int64(68520), np.int64(79380), np.int64(10860)), (np.int64(79478), np.int64(96532), np.int64(17054)), (np.int64(96619), np.int64(103454), np.int64(6835)), (np.int64(103575), np.int64(118312), np.int64(14737)), (np.int64(118967), np.int64(125154), np.int64(6187)), (np.int64(125420), np.int64(129246), np.int64(3826)), (np.int64(129307), np.int64(147892), np.int64(18585)), (np.int64(147951), np.int64(148565), np.int64(614)), (np.int64(148801), np.int64(171542), np.int64(22741)), (np.int64(171626), np.int64(177524), np.int64(5898)), (np.int64(177690), np.int64(181649), np.int64(3959)), (np.int64(181818), np.int64(194011), np.int64(12193)), (np.int64(194237), np.int64(219872), np.int64(25635)), (np.int64(220045), np.int64(225146), np.int64(5101)), (np.int64(225280), np.int64(236180), np.int64(10900)), (np.int64(236260), 261006, np.int64(24746))], 'cumulated_breaks_duration': np.int64(257401), 'events_direction': ([[np.int64(177524), np.int64(177690), np.int64(166)]], []), 'pushed': 1, 'pulled': 0, 'pulling_ratio': 0.0, 'interaction_proportion': np.float64(0.013811943020466962), 'distance_moved': np.float64(8805640.233702635)}}\n",
      "{'fly_0_ball_0': {'nb_events': 0, 'max_event': (None, None), 'max_event_time': None, 'final_event': (None, None), 'final_event_time': None, 'significant_events': [], 'nb_significant_events': 0, 'first_significant_event': None, 'first_significant_event_time': None, 'aha_moment': None, 'aha_moment_time': None, 'insight_effect': None, 'breaks': [(0, 261006, 261006)], 'cumulated_breaks_duration': 261006, 'events_direction': ([], []), 'pushed': 0, 'pulled': 0, 'pulling_ratio': None, 'interaction_proportion': 0.0, 'distance_moved': np.float64(230422.70213576258)}}\n",
      "{'fly_0_ball_0': {'nb_events': 40, 'max_event': ([np.int64(112376), np.int64(112468), np.int64(92)], 19), 'max_event_time': array([3.87503448e+03, 3.87820690e+03, 3.17241379e+00]), 'final_event': (None, None), 'final_event_time': None, 'significant_events': [[np.int64(15915), np.int64(16062), np.int64(147)], [np.int64(56759), np.int64(57094), np.int64(335)], [np.int64(91842), np.int64(91940), np.int64(98)], [np.int64(252165), np.int64(252255), np.int64(90)]], 'nb_significant_events': 4, 'first_significant_event': [np.int64(15915), np.int64(16062), np.int64(147)], 'first_significant_event_time': np.float64(548.7931034482758), 'aha_moment': [np.int64(56759), np.int64(57094), np.int64(335)], 'aha_moment_time': np.float64(1957.2068965517242), 'insight_effect': np.float64(0.33301571108243105), 'breaks': [(0, np.int64(2424), np.int64(2424)), (np.int64(2649), np.int64(4128), np.int64(1479)), (np.int64(4451), np.int64(5226), np.int64(775)), (np.int64(5304), np.int64(6442), np.int64(1138)), (np.int64(6629), np.int64(8697), np.int64(2068)), (np.int64(8912), np.int64(9253), np.int64(341)), (np.int64(9445), np.int64(10384), np.int64(939)), (np.int64(10458), np.int64(13627), np.int64(3169)), (np.int64(13819), np.int64(15915), np.int64(2096)), (np.int64(16062), np.int64(30317), np.int64(14255)), (np.int64(30451), np.int64(37873), np.int64(7422)), (np.int64(37939), np.int64(48140), np.int64(10201)), (np.int64(48232), np.int64(48890), np.int64(658)), (np.int64(48964), np.int64(56759), np.int64(7795)), (np.int64(57094), np.int64(75894), np.int64(18800)), (np.int64(75966), np.int64(80806), np.int64(4840)), (np.int64(80873), np.int64(83676), np.int64(2803)), (np.int64(83839), np.int64(87041), np.int64(3202)), (np.int64(87122), np.int64(91842), np.int64(4720)), (np.int64(91940), np.int64(112376), np.int64(20436)), (np.int64(112468), np.int64(118921), np.int64(6453)), (np.int64(119023), np.int64(121075), np.int64(2052)), (np.int64(121201), np.int64(133641), np.int64(12440)), (np.int64(133769), np.int64(135621), np.int64(1852)), (np.int64(135713), np.int64(163614), np.int64(27901)), (np.int64(163733), np.int64(174985), np.int64(11252)), (np.int64(175052), np.int64(219838), np.int64(44786)), (np.int64(219959), np.int64(221294), np.int64(1335)), (np.int64(221407), np.int64(222874), np.int64(1467)), (np.int64(222947), np.int64(234077), np.int64(11130)), (np.int64(234269), np.int64(235577), np.int64(1308)), (np.int64(235844), np.int64(236006), np.int64(162)), (np.int64(236384), np.int64(238817), np.int64(2433)), (np.int64(239157), np.int64(243985), np.int64(4828)), (np.int64(244138), np.int64(252165), np.int64(8027)), (np.int64(252255), np.int64(252783), np.int64(528)), (np.int64(252973), np.int64(256045), np.int64(3072)), (np.int64(256153), np.int64(256983), np.int64(830)), (np.int64(257084), np.int64(259099), np.int64(2015)), (np.int64(259595), np.int64(260363), np.int64(768)), (np.int64(260699), 261006, np.int64(307))], 'cumulated_breaks_duration': np.int64(254507), 'events_direction': ([[np.int64(15915), np.int64(16062), np.int64(147)], [np.int64(91842), np.int64(91940), np.int64(98)], [np.int64(252165), np.int64(252255), np.int64(90)]], [[np.int64(56759), np.int64(57094), np.int64(335)]]), 'pushed': 3, 'pulled': 1, 'pulling_ratio': 0.25, 'interaction_proportion': np.float64(0.02489981073232033), 'distance_moved': np.float64(18401644.959510148)}}\n",
      "{'fly_0_ball_0': {'nb_events': 21, 'max_event': ([np.int64(180303), np.int64(180449), np.int64(146)], 13), 'max_event_time': array([6.21734483e+03, 6.22237931e+03, 5.03448276e+00]), 'final_event': (None, None), 'final_event_time': None, 'significant_events': [[np.int64(53553), np.int64(53833), np.int64(280)]], 'nb_significant_events': 1, 'first_significant_event': [np.int64(53553), np.int64(53833), np.int64(280)], 'first_significant_event_time': np.float64(1846.655172413793), 'aha_moment': [np.int64(53553), np.int64(53833), np.int64(280)], 'aha_moment_time': np.float64(1846.655172413793), 'insight_effect': np.float64(0.0), 'breaks': [(0, np.int64(28418), np.int64(28418)), (np.int64(28486), np.int64(29996), np.int64(1510)), (np.int64(30232), np.int64(32127), np.int64(1895)), (np.int64(32213), np.int64(32479), np.int64(266)), (np.int64(32588), np.int64(33967), np.int64(1379)), (np.int64(34184), np.int64(35141), np.int64(957)), (np.int64(35230), np.int64(40248), np.int64(5018)), (np.int64(40439), np.int64(40956), np.int64(517)), (np.int64(41257), np.int64(44539), np.int64(3282)), (np.int64(44632), np.int64(45108), np.int64(476)), (np.int64(45194), np.int64(46273), np.int64(1079)), (np.int64(46352), np.int64(53553), np.int64(7201)), (np.int64(53833), np.int64(73140), np.int64(19307)), (np.int64(73227), np.int64(180303), np.int64(107076)), (np.int64(180449), np.int64(192212), np.int64(11763)), (np.int64(192505), np.int64(199243), np.int64(6738)), (np.int64(200286), np.int64(232407), np.int64(32121)), (np.int64(232724), np.int64(245040), np.int64(12316)), (np.int64(246028), np.int64(247777), np.int64(1749)), (np.int64(248499), np.int64(250736), np.int64(2237)), (np.int64(252187), np.int64(253174), np.int64(987)), (np.int64(260502), 261006, np.int64(504))], 'cumulated_breaks_duration': np.int64(246796), 'events_direction': ([[np.int64(53553), np.int64(53833), np.int64(280)]], []), 'pushed': 1, 'pulled': 0, 'pulling_ratio': 0.0, 'interaction_proportion': np.float64(0.054443192876792106), 'distance_moved': np.float64(15532144.782425703)}}\n",
      "{'fly_0_ball_0': {'nb_events': 38, 'max_event': ([np.int64(18170), np.int64(18271), np.int64(101)], 0), 'max_event_time': array([626.55172414, 630.03448276,   3.48275862]), 'final_event': (None, None), 'final_event_time': None, 'significant_events': [], 'nb_significant_events': 0, 'first_significant_event': None, 'first_significant_event_time': None, 'aha_moment': None, 'aha_moment_time': None, 'insight_effect': None, 'breaks': [(0, np.int64(18170), np.int64(18170)), (np.int64(18271), np.int64(26544), np.int64(8273)), (np.int64(26700), np.int64(40466), np.int64(13766)), (np.int64(40618), np.int64(58708), np.int64(18090)), (np.int64(58785), np.int64(70156), np.int64(11371)), (np.int64(70279), np.int64(77631), np.int64(7352)), (np.int64(77839), np.int64(79570), np.int64(1731)), (np.int64(79713), np.int64(80064), np.int64(351)), (np.int64(80187), np.int64(81180), np.int64(993)), (np.int64(81697), np.int64(82299), np.int64(602)), (np.int64(82536), np.int64(83115), np.int64(579)), (np.int64(83210), np.int64(86966), np.int64(3756)), (np.int64(87205), np.int64(90014), np.int64(2809)), (np.int64(90156), np.int64(94323), np.int64(4167)), (np.int64(94524), np.int64(96670), np.int64(2146)), (np.int64(96859), np.int64(97233), np.int64(374)), (np.int64(97504), np.int64(97847), np.int64(343)), (np.int64(98277), np.int64(98745), np.int64(468)), (np.int64(99127), np.int64(99716), np.int64(589)), (np.int64(99934), np.int64(100322), np.int64(388)), (np.int64(100665), np.int64(101787), np.int64(1122)), (np.int64(102009), np.int64(103252), np.int64(1243)), (np.int64(103386), np.int64(105175), np.int64(1789)), (np.int64(105472), np.int64(106037), np.int64(565)), (np.int64(106235), np.int64(106700), np.int64(465)), (np.int64(106902), np.int64(107681), np.int64(779)), (np.int64(107912), np.int64(111828), np.int64(3916)), (np.int64(112108), np.int64(115647), np.int64(3539)), (np.int64(115865), np.int64(116365), np.int64(500)), (np.int64(117345), np.int64(118006), np.int64(661)), (np.int64(118291), np.int64(118894), np.int64(603)), (np.int64(119165), np.int64(119754), np.int64(589)), (np.int64(119977), np.int64(120579), np.int64(602)), (np.int64(120769), np.int64(134293), np.int64(13524)), (np.int64(134649), np.int64(136541), np.int64(1892)), (np.int64(136954), np.int64(148752), np.int64(11798)), (np.int64(149104), np.int64(149515), np.int64(411)), (np.int64(149676), np.int64(150384), np.int64(708)), (np.int64(150580), 261006, np.int64(110426))], 'cumulated_breaks_duration': np.int64(251450), 'events_direction': ([], []), 'pushed': 0, 'pulled': 0, 'pulling_ratio': None, 'interaction_proportion': np.float64(0.036612185160494394), 'distance_moved': np.float64(1214869.4830390005)}}\n",
      "{'fly_0_ball_0': {'nb_events': 76, 'max_event': ([np.int64(152045), np.int64(152166), np.int64(121)], 62), 'max_event_time': array([5.24293103e+03, 5.24710345e+03, 4.17241379e+00]), 'final_event': ([np.int64(152045), np.int64(152166), np.int64(121)], 62), 'final_event_time': array([5.24293103e+03, 5.24710345e+03, 4.17241379e+00]), 'significant_events': [[np.int64(7272), np.int64(7391), np.int64(119)], [np.int64(33537), np.int64(34864), np.int64(1327)], [np.int64(53007), np.int64(53411), np.int64(404)], [np.int64(128044), np.int64(128320), np.int64(276)], [np.int64(129374), np.int64(129579), np.int64(205)], [np.int64(149441), np.int64(149592), np.int64(151)]], 'nb_significant_events': 6, 'first_significant_event': [np.int64(7272), np.int64(7391), np.int64(119)], 'first_significant_event_time': np.float64(250.75862068965517), 'aha_moment': [np.int64(149441), np.int64(149592), np.int64(151)], 'aha_moment_time': np.float64(5153.137931034483), 'insight_effect': np.float64(4.997755677695429), 'breaks': [(0, np.int64(7272), np.int64(7272)), (np.int64(7391), np.int64(8664), np.int64(1273)), (np.int64(8967), np.int64(12071), np.int64(3104)), (np.int64(12320), np.int64(13439), np.int64(1119)), (np.int64(13693), np.int64(14585), np.int64(892)), (np.int64(14953), np.int64(15395), np.int64(442)), (np.int64(16186), np.int64(16308), np.int64(122)), (np.int64(16769), np.int64(17189), np.int64(420)), (np.int64(17266), np.int64(17852), np.int64(586)), (np.int64(17970), np.int64(18497), np.int64(527)), (np.int64(18594), np.int64(20712), np.int64(2118)), (np.int64(21030), np.int64(23927), np.int64(2897)), (np.int64(24030), np.int64(25337), np.int64(1307)), (np.int64(25420), np.int64(25758), np.int64(338)), (np.int64(25824), np.int64(26165), np.int64(341)), (np.int64(26266), np.int64(27063), np.int64(797)), (np.int64(27362), np.int64(28405), np.int64(1043)), (np.int64(28495), np.int64(29662), np.int64(1167)), (np.int64(29837), np.int64(30174), np.int64(337)), (np.int64(30427), np.int64(30907), np.int64(480)), (np.int64(31257), np.int64(33537), np.int64(2280)), (np.int64(34864), np.int64(38305), np.int64(3441)), (np.int64(38424), np.int64(39029), np.int64(605)), (np.int64(39142), np.int64(40554), np.int64(1412)), (np.int64(40728), np.int64(43558), np.int64(2830)), (np.int64(43675), np.int64(43990), np.int64(315)), (np.int64(44077), np.int64(45093), np.int64(1016)), (np.int64(45337), np.int64(45817), np.int64(480)), (np.int64(45997), np.int64(46678), np.int64(681)), (np.int64(46928), np.int64(48010), np.int64(1082)), (np.int64(48122), np.int64(49116), np.int64(994)), (np.int64(49187), np.int64(49474), np.int64(287)), (np.int64(49543), np.int64(50245), np.int64(702)), (np.int64(50306), np.int64(51403), np.int64(1097)), (np.int64(51584), np.int64(53007), np.int64(1423)), (np.int64(53411), np.int64(54458), np.int64(1047)), (np.int64(54520), np.int64(57518), np.int64(2998)), (np.int64(57696), np.int64(58373), np.int64(677)), (np.int64(58540), np.int64(59386), np.int64(846)), (np.int64(59592), np.int64(62457), np.int64(2865)), (np.int64(62522), np.int64(71440), np.int64(8918)), (np.int64(71989), np.int64(82686), np.int64(10697)), (np.int64(82865), np.int64(87874), np.int64(5009)), (np.int64(87943), np.int64(88257), np.int64(314)), (np.int64(88405), np.int64(90463), np.int64(2058)), (np.int64(90861), np.int64(93654), np.int64(2793)), (np.int64(93780), np.int64(94440), np.int64(660)), (np.int64(94546), np.int64(97956), np.int64(3410)), (np.int64(98252), np.int64(100191), np.int64(1939)), (np.int64(100260), np.int64(106306), np.int64(6046)), (np.int64(106404), np.int64(107305), np.int64(901)), (np.int64(107379), np.int64(108416), np.int64(1037)), (np.int64(108518), np.int64(116404), np.int64(7886)), (np.int64(116510), np.int64(121747), np.int64(5237)), (np.int64(121811), np.int64(126902), np.int64(5091)), (np.int64(126968), np.int64(128044), np.int64(1076)), (np.int64(128320), np.int64(128632), np.int64(312)), (np.int64(128781), np.int64(129374), np.int64(593)), (np.int64(129579), np.int64(134023), np.int64(4444)), (np.int64(134149), np.int64(138795), np.int64(4646)), (np.int64(138948), np.int64(141962), np.int64(3014)), (np.int64(142026), np.int64(149441), np.int64(7415)), (np.int64(149592), np.int64(152045), np.int64(2453)), (np.int64(152166), np.int64(156761), np.int64(4595)), (np.int64(156845), np.int64(157963), np.int64(1118)), (np.int64(158085), np.int64(169665), np.int64(11580)), (np.int64(169756), np.int64(191917), np.int64(22161)), (np.int64(192005), np.int64(196897), np.int64(4892)), (np.int64(197055), np.int64(205260), np.int64(8205)), (np.int64(205544), np.int64(211312), np.int64(5768)), (np.int64(211372), np.int64(218922), np.int64(7550)), (np.int64(218997), np.int64(225225), np.int64(6228)), (np.int64(225415), np.int64(236407), np.int64(10992)), (np.int64(236477), np.int64(244259), np.int64(7782)), (np.int64(244379), np.int64(254415), np.int64(10036)), (np.int64(254526), np.int64(256710), np.int64(2184)), (np.int64(256835), 261006, np.int64(4171))], 'cumulated_breaks_duration': np.int64(246871), 'events_direction': ([[np.int64(128044), np.int64(128320), np.int64(276)], [np.int64(129374), np.int64(129579), np.int64(205)]], [[np.int64(7272), np.int64(7391), np.int64(119)], [np.int64(33537), np.int64(34864), np.int64(1327)], [np.int64(53007), np.int64(53411), np.int64(404)], [np.int64(149441), np.int64(149592), np.int64(151)]]), 'pushed': 2, 'pulled': 4, 'pulling_ratio': 0.6666666666666666, 'interaction_proportion': np.float64(0.05415584316069363), 'distance_moved': np.float64(29351235.4444186)}, 'fly_0_ball_1': {'nb_events': 35, 'max_event': ([np.int64(144635), np.int64(144888), np.int64(253)], 9), 'max_event_time': array([4987.4137931 , 4996.13793103,    8.72413793]), 'final_event': (None, None), 'final_event_time': None, 'significant_events': [[np.int64(145735), np.int64(146375), np.int64(640)], [np.int64(152708), np.int64(152883), np.int64(175)], [np.int64(184192), np.int64(184268), np.int64(76)], [np.int64(193468), np.int64(193612), np.int64(144)], [np.int64(194031), np.int64(194283), np.int64(252)]], 'nb_significant_events': 5, 'first_significant_event': [np.int64(145735), np.int64(146375), np.int64(640)], 'first_significant_event_time': np.float64(5025.3448275862065), 'aha_moment': None, 'aha_moment_time': None, 'insight_effect': None, 'breaks': [(0, np.int64(109104), np.int64(109104)), (np.int64(109328), np.int64(112011), np.int64(2683)), (np.int64(112124), np.int64(113429), np.int64(1305)), (np.int64(113679), np.int64(117618), np.int64(3939)), (np.int64(117754), np.int64(118377), np.int64(623)), (np.int64(118639), np.int64(123873), np.int64(5234)), (np.int64(123954), np.int64(125483), np.int64(1529)), (np.int64(125563), np.int64(135102), np.int64(9539)), (np.int64(135173), np.int64(143701), np.int64(8528)), (np.int64(143781), np.int64(144635), np.int64(854)), (np.int64(144888), np.int64(145735), np.int64(847)), (np.int64(146375), np.int64(148397), np.int64(2022)), (np.int64(148703), np.int64(152708), np.int64(4005)), (np.int64(152883), np.int64(153198), np.int64(315)), (np.int64(153277), np.int64(153961), np.int64(684)), (np.int64(154044), np.int64(154757), np.int64(713)), (np.int64(155068), np.int64(177728), np.int64(22660)), (np.int64(177838), np.int64(178754), np.int64(916)), (np.int64(178972), np.int64(179447), np.int64(475)), (np.int64(179562), np.int64(184192), np.int64(4630)), (np.int64(184268), np.int64(186693), np.int64(2425)), (np.int64(186794), np.int64(192555), np.int64(5761)), (np.int64(192832), np.int64(193468), np.int64(636)), (np.int64(193612), np.int64(194031), np.int64(419)), (np.int64(194283), np.int64(198541), np.int64(4258)), (np.int64(198609), np.int64(199426), np.int64(817)), (np.int64(199668), np.int64(201397), np.int64(1729)), (np.int64(201850), np.int64(205957), np.int64(4107)), (np.int64(206049), np.int64(220446), np.int64(14397)), (np.int64(220512), np.int64(229392), np.int64(8880)), (np.int64(229453), np.int64(229889), np.int64(436)), (np.int64(230014), np.int64(230894), np.int64(880)), (np.int64(231396), np.int64(237462), np.int64(6066)), (np.int64(237575), np.int64(238254), np.int64(679)), (np.int64(238711), np.int64(239160), np.int64(449)), (np.int64(239272), 261006, np.int64(21734))], 'cumulated_breaks_duration': np.int64(254278), 'events_direction': ([[np.int64(193468), np.int64(193612), np.int64(144)]], [[np.int64(145735), np.int64(146375), np.int64(640)], [np.int64(152708), np.int64(152883), np.int64(175)], [np.int64(184192), np.int64(184268), np.int64(76)], [np.int64(194031), np.int64(194283), np.int64(252)]]), 'pushed': 1, 'pulled': 4, 'pulling_ratio': 0.8, 'interaction_proportion': np.float64(0.02577718519880769), 'distance_moved': np.float64(1988689.8114251418)}}\n",
      "{'fly_0_ball_0': {'nb_events': 79, 'max_event': ([np.int64(162417), np.int64(162547), np.int64(130)], 48), 'max_event_time': array([5.60058621e+03, 5.60506897e+03, 4.48275862e+00]), 'final_event': (None, None), 'final_event_time': None, 'significant_events': [[np.int64(41434), np.int64(41671), np.int64(237)], [np.int64(43699), np.int64(43811), np.int64(112)], [np.int64(46803), np.int64(47647), np.int64(844)], [np.int64(64730), np.int64(65012), np.int64(282)], [np.int64(161648), np.int64(162032), np.int64(384)], [np.int64(162417), np.int64(162547), np.int64(130)], [np.int64(201661), np.int64(202125), np.int64(464)], [np.int64(203027), np.int64(203577), np.int64(550)], [np.int64(217164), np.int64(217287), np.int64(123)], [np.int64(227608), np.int64(227924), np.int64(316)], [np.int64(255534), np.int64(256121), np.int64(587)], [np.int64(257595), np.int64(257948), np.int64(353)]], 'nb_significant_events': 12, 'first_significant_event': [np.int64(41434), np.int64(41671), np.int64(237)], 'first_significant_event_time': np.float64(1428.7586206896551), 'aha_moment': [np.int64(64730), np.int64(65012), np.int64(282)], 'aha_moment_time': np.float64(2232.0689655172414), 'insight_effect': np.float64(0.32958705685274553), 'breaks': [(0, np.int64(40914), np.int64(40914)), (np.int64(41227), np.int64(41434), np.int64(207)), (np.int64(41671), np.int64(41958), np.int64(287)), (np.int64(42437), np.int64(42597), np.int64(160)), (np.int64(42765), np.int64(43072), np.int64(307)), (np.int64(43381), np.int64(43699), np.int64(318)), (np.int64(43811), np.int64(44243), np.int64(432)), (np.int64(44592), np.int64(45009), np.int64(417)), (np.int64(45190), np.int64(45426), np.int64(236)), (np.int64(45559), np.int64(45770), np.int64(211)), (np.int64(46011), np.int64(46488), np.int64(477)), (np.int64(46627), np.int64(46803), np.int64(176)), (np.int64(47647), np.int64(48426), np.int64(779)), (np.int64(49379), np.int64(49980), np.int64(601)), (np.int64(50173), np.int64(62864), np.int64(12691)), (np.int64(63024), np.int64(64730), np.int64(1706)), (np.int64(65012), np.int64(65154), np.int64(142)), (np.int64(65241), np.int64(67146), np.int64(1905)), (np.int64(67952), np.int64(69741), np.int64(1789)), (np.int64(70145), np.int64(70471), np.int64(326)), (np.int64(71152), np.int64(71491), np.int64(339)), (np.int64(71795), np.int64(72012), np.int64(217)), (np.int64(72137), np.int64(72470), np.int64(333)), (np.int64(72839), np.int64(73390), np.int64(551)), (np.int64(73760), np.int64(81256), np.int64(7496)), (np.int64(81342), np.int64(81599), np.int64(257)), (np.int64(81678), np.int64(82580), np.int64(902)), (np.int64(82718), np.int64(83067), np.int64(349)), (np.int64(83508), np.int64(84697), np.int64(1189)), (np.int64(84820), np.int64(84989), np.int64(169)), (np.int64(85613), np.int64(85863), np.int64(250)), (np.int64(86225), np.int64(86403), np.int64(178)), (np.int64(86639), np.int64(142027), np.int64(55388)), (np.int64(142199), np.int64(142825), np.int64(626)), (np.int64(142980), np.int64(145415), np.int64(2435)), (np.int64(145689), np.int64(145859), np.int64(170)), (np.int64(145986), np.int64(146340), np.int64(354)), (np.int64(146449), np.int64(146741), np.int64(292)), (np.int64(147065), np.int64(147242), np.int64(177)), (np.int64(147384), np.int64(147530), np.int64(146)), (np.int64(147686), np.int64(147865), np.int64(179)), (np.int64(149016), np.int64(149181), np.int64(165)), (np.int64(149316), np.int64(156796), np.int64(7480)), (np.int64(157441), np.int64(158485), np.int64(1044)), (np.int64(158657), np.int64(159158), np.int64(501)), (np.int64(159529), np.int64(160623), np.int64(1094)), (np.int64(160847), np.int64(161032), np.int64(185)), (np.int64(161422), np.int64(161648), np.int64(226)), (np.int64(162032), np.int64(162417), np.int64(385)), (np.int64(162547), np.int64(184332), np.int64(21785)), (np.int64(184466), np.int64(186299), np.int64(1833)), (np.int64(186410), np.int64(186528), np.int64(118)), (np.int64(186730), np.int64(188077), np.int64(1347)), (np.int64(188250), np.int64(188505), np.int64(255)), (np.int64(188698), np.int64(188854), np.int64(156)), (np.int64(189004), np.int64(189355), np.int64(351)), (np.int64(189489), np.int64(189631), np.int64(142)), (np.int64(189983), np.int64(190132), np.int64(149)), (np.int64(190650), np.int64(191654), np.int64(1004)), (np.int64(191993), np.int64(200827), np.int64(8834)), (np.int64(201053), np.int64(201224), np.int64(171)), (np.int64(201509), np.int64(201661), np.int64(152)), (np.int64(202125), np.int64(203027), np.int64(902)), (np.int64(203577), np.int64(217164), np.int64(13587)), (np.int64(217287), np.int64(219458), np.int64(2171)), (np.int64(219631), np.int64(221081), np.int64(1450)), (np.int64(221153), np.int64(221563), np.int64(410)), (np.int64(221662), np.int64(223977), np.int64(2315)), (np.int64(224130), np.int64(224272), np.int64(142)), (np.int64(224979), np.int64(225348), np.int64(369)), (np.int64(225674), np.int64(226100), np.int64(426)), (np.int64(226233), np.int64(227160), np.int64(927)), (np.int64(227483), np.int64(227608), np.int64(125)), (np.int64(227924), np.int64(252794), np.int64(24870)), (np.int64(253004), np.int64(254086), np.int64(1082)), (np.int64(254166), np.int64(254381), np.int64(215)), (np.int64(255089), np.int64(255534), np.int64(445)), (np.int64(256121), np.int64(257595), np.int64(1474)), (np.int64(257948), np.int64(259845), np.int64(1897)), (np.int64(260149), 261006, np.int64(857))], 'cumulated_breaks_duration': np.int64(237119), 'events_direction': ([[np.int64(46803), np.int64(47647), np.int64(844)], [np.int64(64730), np.int64(65012), np.int64(282)], [np.int64(217164), np.int64(217287), np.int64(123)], [np.int64(227608), np.int64(227924), np.int64(316)], [np.int64(257595), np.int64(257948), np.int64(353)]], [[np.int64(41434), np.int64(41671), np.int64(237)], [np.int64(43699), np.int64(43811), np.int64(112)], [np.int64(161648), np.int64(162032), np.int64(384)], [np.int64(162417), np.int64(162547), np.int64(130)], [np.int64(201661), np.int64(202125), np.int64(464)], [np.int64(203027), np.int64(203577), np.int64(550)], [np.int64(255534), np.int64(256121), np.int64(587)]]), 'pushed': 5, 'pulled': 7, 'pulling_ratio': 0.5833333333333334, 'interaction_proportion': np.float64(0.09151896891259205), 'distance_moved': np.float64(12685469.510100106)}}\n",
      "{'fly_0_ball_0': {'nb_events': 32, 'max_event': ([np.int64(109613), np.int64(261005), np.int64(151392)], 31), 'max_event_time': array([3779.75862069, 9000.17241379, 5220.4137931 ]), 'final_event': ([np.int64(109613), np.int64(261005), np.int64(151392)], 31), 'final_event_time': array([3779.75862069, 9000.17241379, 5220.4137931 ]), 'significant_events': [[np.int64(45905), np.int64(46758), np.int64(853)], [np.int64(56997), np.int64(57290), np.int64(293)], [np.int64(66595), np.int64(67091), np.int64(496)], [np.int64(67285), np.int64(68369), np.int64(1084)], [np.int64(68540), np.int64(70006), np.int64(1466)], [np.int64(72638), np.int64(73402), np.int64(764)], [np.int64(73819), np.int64(74644), np.int64(825)], [np.int64(95020), np.int64(98262), np.int64(3242)], [np.int64(99368), np.int64(102230), np.int64(2862)], [np.int64(102456), np.int64(106891), np.int64(4435)], [np.int64(109613), np.int64(261005), np.int64(151392)]], 'nb_significant_events': 11, 'first_significant_event': [np.int64(45905), np.int64(46758), np.int64(853)], 'first_significant_event_time': np.float64(1582.9310344827586), 'aha_moment': [np.int64(45905), np.int64(46758), np.int64(853)], 'aha_moment_time': np.float64(1582.9310344827586), 'insight_effect': np.float64(0.0), 'breaks': [(0, np.int64(20109), np.int64(20109)), (np.int64(20320), np.int64(23150), np.int64(2830)), (np.int64(23386), np.int64(27924), np.int64(4538)), (np.int64(28029), np.int64(30088), np.int64(2059)), (np.int64(30158), np.int64(34640), np.int64(4482)), (np.int64(35023), np.int64(36173), np.int64(1150)), (np.int64(36274), np.int64(37997), np.int64(1723)), (np.int64(38058), np.int64(41265), np.int64(3207)), (np.int64(41497), np.int64(45905), np.int64(4408)), (np.int64(46758), np.int64(50662), np.int64(3904)), (np.int64(50951), np.int64(53337), np.int64(2386)), (np.int64(53594), np.int64(54490), np.int64(896)), (np.int64(54657), np.int64(56997), np.int64(2340)), (np.int64(57290), np.int64(60141), np.int64(2851)), (np.int64(60291), np.int64(66595), np.int64(6304)), (np.int64(67091), np.int64(67285), np.int64(194)), (np.int64(68369), np.int64(68540), np.int64(171)), (np.int64(70006), np.int64(70543), np.int64(537)), (np.int64(70832), np.int64(72638), np.int64(1806)), (np.int64(73402), np.int64(73819), np.int64(417)), (np.int64(74644), np.int64(74928), np.int64(284)), (np.int64(75309), np.int64(76028), np.int64(719)), (np.int64(78056), np.int64(78539), np.int64(483)), (np.int64(80092), np.int64(82765), np.int64(2673)), (np.int64(84239), np.int64(84360), np.int64(121)), (np.int64(85162), np.int64(85736), np.int64(574)), (np.int64(86339), np.int64(88781), np.int64(2442)), (np.int64(89080), np.int64(89284), np.int64(204)), (np.int64(89614), np.int64(95020), np.int64(5406)), (np.int64(98262), np.int64(99368), np.int64(1106)), (np.int64(102230), np.int64(102456), np.int64(226)), (np.int64(106891), np.int64(109613), np.int64(2722)), (np.int64(261005), 261006, np.int64(1))], 'cumulated_breaks_duration': np.int64(83273), 'events_direction': ([[np.int64(45905), np.int64(46758), np.int64(853)], [np.int64(56997), np.int64(57290), np.int64(293)], [np.int64(67285), np.int64(68369), np.int64(1084)], [np.int64(99368), np.int64(102230), np.int64(2862)], [np.int64(102456), np.int64(106891), np.int64(4435)], [np.int64(109613), np.int64(261005), np.int64(151392)]], [[np.int64(66595), np.int64(67091), np.int64(496)], [np.int64(68540), np.int64(70006), np.int64(1466)], [np.int64(72638), np.int64(73402), np.int64(764)], [np.int64(73819), np.int64(74644), np.int64(825)], [np.int64(95020), np.int64(98262), np.int64(3242)]]), 'pushed': 6, 'pulled': 5, 'pulling_ratio': 0.45454545454545453, 'interaction_proportion': np.float64(0.6809536945510831), 'distance_moved': np.float64(6361993.333513403)}, 'fly_0_ball_1': {'nb_events': 0, 'max_event': (None, None), 'max_event_time': None, 'final_event': (None, None), 'final_event_time': None, 'significant_events': [], 'nb_significant_events': 0, 'first_significant_event': None, 'first_significant_event_time': None, 'aha_moment': None, 'aha_moment_time': None, 'insight_effect': None, 'breaks': [(0, 261006, 261006)], 'cumulated_breaks_duration': 261006, 'events_direction': ([], []), 'pushed': 0, 'pulled': 0, 'pulling_ratio': None, 'interaction_proportion': 0.0, 'distance_moved': np.float64(384127.1491419052)}}\n",
      "{'fly_0_ball_0': {'nb_events': 64, 'max_event': ([np.int64(108603), np.int64(108745), np.int64(142)], 48), 'max_event_time': array([3744.93103448, 3749.82758621,    4.89655172]), 'final_event': ([np.int64(108603), np.int64(108745), np.int64(142)], 48), 'final_event_time': array([3744.93103448, 3749.82758621,    4.89655172]), 'significant_events': [[np.int64(2467), np.int64(2638), np.int64(171)], [np.int64(26536), np.int64(26637), np.int64(101)], [np.int64(236432), np.int64(236656), np.int64(224)], [np.int64(250526), np.int64(250587), np.int64(61)]], 'nb_significant_events': 4, 'first_significant_event': [np.int64(2467), np.int64(2638), np.int64(171)], 'first_significant_event_time': np.float64(85.06896551724138), 'aha_moment': None, 'aha_moment_time': None, 'insight_effect': None, 'breaks': [(0, np.int64(884), np.int64(884)), (np.int64(1125), np.int64(2467), np.int64(1342)), (np.int64(2638), np.int64(6467), np.int64(3829)), (np.int64(6534), np.int64(6910), np.int64(376)), (np.int64(7028), np.int64(12241), np.int64(5213)), (np.int64(12449), np.int64(14032), np.int64(1583)), (np.int64(14237), np.int64(16456), np.int64(2219)), (np.int64(16638), np.int64(17637), np.int64(999)), (np.int64(17822), np.int64(18481), np.int64(659)), (np.int64(18573), np.int64(19826), np.int64(1253)), (np.int64(19939), np.int64(22978), np.int64(3039)), (np.int64(23101), np.int64(24325), np.int64(1224)), (np.int64(24437), np.int64(24733), np.int64(296)), (np.int64(24858), np.int64(26021), np.int64(1163)), (np.int64(26178), np.int64(26536), np.int64(358)), (np.int64(26637), np.int64(27852), np.int64(1215)), (np.int64(28007), np.int64(31883), np.int64(3876)), (np.int64(31963), np.int64(32473), np.int64(510)), (np.int64(32624), np.int64(34341), np.int64(1717)), (np.int64(34520), np.int64(34935), np.int64(415)), (np.int64(34996), np.int64(38066), np.int64(3070)), (np.int64(38206), np.int64(40053), np.int64(1847)), (np.int64(40202), np.int64(40983), np.int64(781)), (np.int64(41176), np.int64(41554), np.int64(378)), (np.int64(41720), np.int64(43144), np.int64(1424)), (np.int64(43232), np.int64(43755), np.int64(523)), (np.int64(43874), np.int64(44269), np.int64(395)), (np.int64(44473), np.int64(44692), np.int64(219)), (np.int64(44924), np.int64(48392), np.int64(3468)), (np.int64(48470), np.int64(48812), np.int64(342)), (np.int64(48918), np.int64(51162), np.int64(2244)), (np.int64(51324), np.int64(56034), np.int64(4710)), (np.int64(56132), np.int64(58947), np.int64(2815)), (np.int64(59018), np.int64(60387), np.int64(1369)), (np.int64(60560), np.int64(61639), np.int64(1079)), (np.int64(61827), np.int64(66458), np.int64(4631)), (np.int64(66530), np.int64(66786), np.int64(256)), (np.int64(67042), np.int64(70429), np.int64(3387)), (np.int64(70524), np.int64(70905), np.int64(381)), (np.int64(71095), np.int64(72185), np.int64(1090)), (np.int64(72336), np.int64(75015), np.int64(2679)), (np.int64(75128), np.int64(83448), np.int64(8320)), (np.int64(83633), np.int64(84675), np.int64(1042)), (np.int64(84738), np.int64(93130), np.int64(8392)), (np.int64(93224), np.int64(94018), np.int64(794)), (np.int64(94156), np.int64(102719), np.int64(8563)), (np.int64(102869), np.int64(107098), np.int64(4229)), (np.int64(107250), np.int64(107749), np.int64(499)), (np.int64(107865), np.int64(108603), np.int64(738)), (np.int64(108745), np.int64(116569), np.int64(7824)), (np.int64(116647), np.int64(161178), np.int64(44531)), (np.int64(161237), np.int64(164739), np.int64(3502)), (np.int64(164895), np.int64(171915), np.int64(7020)), (np.int64(171988), np.int64(181148), np.int64(9160)), (np.int64(181281), np.int64(184243), np.int64(2962)), (np.int64(184387), np.int64(195073), np.int64(10686)), (np.int64(195141), np.int64(195471), np.int64(330)), (np.int64(195545), np.int64(202893), np.int64(7348)), (np.int64(202994), np.int64(208334), np.int64(5340)), (np.int64(208443), np.int64(213166), np.int64(4723)), (np.int64(213357), np.int64(213584), np.int64(227)), (np.int64(213710), np.int64(218767), np.int64(5057)), (np.int64(218866), np.int64(236432), np.int64(17566)), (np.int64(236656), np.int64(250526), np.int64(13870)), (np.int64(250587), 261006, np.int64(10419))], 'cumulated_breaks_duration': np.int64(252400), 'events_direction': ([[np.int64(26536), np.int64(26637), np.int64(101)]], [[np.int64(2467), np.int64(2638), np.int64(171)], [np.int64(236432), np.int64(236656), np.int64(224)], [np.int64(250526), np.int64(250587), np.int64(61)]]), 'pushed': 1, 'pulled': 3, 'pulling_ratio': 0.75, 'interaction_proportion': np.float64(0.03297242208991364), 'distance_moved': np.float64(29136293.087413616)}, 'fly_0_ball_1': {'nb_events': 36, 'max_event': ([np.int64(191787), np.int64(191875), np.int64(88)], 24), 'max_event_time': array([6.61334483e+03, 6.61637931e+03, 3.03448276e+00]), 'final_event': (None, None), 'final_event_time': None, 'significant_events': [[np.int64(110976), np.int64(111995), np.int64(1019)], [np.int64(112908), np.int64(113401), np.int64(493)], [np.int64(124217), np.int64(124631), np.int64(414)], [np.int64(167062), np.int64(167249), np.int64(187)], [np.int64(167748), np.int64(167869), np.int64(121)], [np.int64(254741), np.int64(255084), np.int64(343)]], 'nb_significant_events': 6, 'first_significant_event': [np.int64(110976), np.int64(111995), np.int64(1019)], 'first_significant_event_time': np.float64(3826.7586206896553), 'aha_moment': None, 'aha_moment_time': None, 'insight_effect': None, 'breaks': [(0, np.int64(110976), np.int64(110976)), (np.int64(111995), np.int64(112908), np.int64(913)), (np.int64(113401), np.int64(114547), np.int64(1146)), (np.int64(114745), np.int64(117467), np.int64(2722)), (np.int64(117664), np.int64(118726), np.int64(1062)), (np.int64(118811), np.int64(124217), np.int64(5406)), (np.int64(124631), np.int64(125493), np.int64(862)), (np.int64(125785), np.int64(126271), np.int64(486)), (np.int64(126394), np.int64(129549), np.int64(3155)), (np.int64(129684), np.int64(131047), np.int64(1363)), (np.int64(131202), np.int64(139338), np.int64(8136)), (np.int64(139505), np.int64(141810), np.int64(2305)), (np.int64(142256), np.int64(142773), np.int64(517)), (np.int64(142889), np.int64(165437), np.int64(22548)), (np.int64(165629), np.int64(166196), np.int64(567)), (np.int64(166303), np.int64(167062), np.int64(759)), (np.int64(167249), np.int64(167748), np.int64(499)), (np.int64(167869), np.int64(174700), np.int64(6831)), (np.int64(174886), np.int64(175322), np.int64(436)), (np.int64(175435), np.int64(176382), np.int64(947)), (np.int64(176441), np.int64(176799), np.int64(358)), (np.int64(176873), np.int64(186992), np.int64(10119)), (np.int64(187075), np.int64(190128), np.int64(3053)), (np.int64(190314), np.int64(191127), np.int64(813)), (np.int64(191337), np.int64(191787), np.int64(450)), (np.int64(191875), np.int64(193374), np.int64(1499)), (np.int64(193492), np.int64(195856), np.int64(2364)), (np.int64(196042), np.int64(197158), np.int64(1116)), (np.int64(197315), np.int64(198240), np.int64(925)), (np.int64(198347), np.int64(198943), np.int64(596)), (np.int64(199104), np.int64(200206), np.int64(1102)), (np.int64(200397), np.int64(201532), np.int64(1135)), (np.int64(201593), np.int64(238412), np.int64(36819)), (np.int64(238580), np.int64(239925), np.int64(1345)), (np.int64(240070), np.int64(253474), np.int64(13404)), (np.int64(253640), np.int64(254741), np.int64(1101)), (np.int64(255084), 261006, np.int64(5922))], 'cumulated_breaks_duration': np.int64(253757), 'events_direction': ([[np.int64(112908), np.int64(113401), np.int64(493)], [np.int64(167062), np.int64(167249), np.int64(187)], [np.int64(167748), np.int64(167869), np.int64(121)]], [[np.int64(110976), np.int64(111995), np.int64(1019)], [np.int64(124217), np.int64(124631), np.int64(414)], [np.int64(254741), np.int64(255084), np.int64(343)]]), 'pushed': 3, 'pulled': 3, 'pulling_ratio': 0.5, 'interaction_proportion': np.float64(0.027773307893305135), 'distance_moved': np.float64(8572532.007879289)}}\n",
      "{'fly_0_ball_0': {'nb_events': 169, 'max_event': ([np.int64(84508), np.int64(84836), np.int64(328)], 24), 'max_event_time': array([2914.06896552, 2925.37931034,   11.31034483]), 'final_event': (None, None), 'final_event_time': None, 'significant_events': [[np.int64(50696), np.int64(51283), np.int64(587)], [np.int64(53023), np.int64(53206), np.int64(183)], [np.int64(53573), np.int64(54003), np.int64(430)], [np.int64(73148), np.int64(73581), np.int64(433)]], 'nb_significant_events': 4, 'first_significant_event': [np.int64(50696), np.int64(51283), np.int64(587)], 'first_significant_event_time': np.float64(1748.1379310344828), 'aha_moment': None, 'aha_moment_time': None, 'insight_effect': None, 'breaks': [(0, np.int64(36950), np.int64(36950)), (np.int64(37080), np.int64(38535), np.int64(1455)), (np.int64(38654), np.int64(42856), np.int64(4202)), (np.int64(43357), np.int64(43800), np.int64(443)), (np.int64(43872), np.int64(47095), np.int64(3223)), (np.int64(47154), np.int64(48063), np.int64(909)), (np.int64(48206), np.int64(50696), np.int64(2490)), (np.int64(51283), np.int64(52445), np.int64(1162)), (np.int64(52629), np.int64(53023), np.int64(394)), (np.int64(53206), np.int64(53573), np.int64(367)), (np.int64(54003), np.int64(61279), np.int64(7276)), (np.int64(61363), np.int64(61894), np.int64(531)), (np.int64(62167), np.int64(62736), np.int64(569)), (np.int64(62897), np.int64(63328), np.int64(431)), (np.int64(63464), np.int64(63934), np.int64(470)), (np.int64(64267), np.int64(67790), np.int64(3523)), (np.int64(67994), np.int64(72149), np.int64(4155)), (np.int64(72352), np.int64(73148), np.int64(796)), (np.int64(73581), np.int64(74833), np.int64(1252)), (np.int64(74992), np.int64(76140), np.int64(1148)), (np.int64(76366), np.int64(76822), np.int64(456)), (np.int64(77193), np.int64(82176), np.int64(4983)), (np.int64(82449), np.int64(83041), np.int64(592)), (np.int64(83226), np.int64(83505), np.int64(279)), (np.int64(84084), np.int64(84508), np.int64(424)), (np.int64(84836), np.int64(85395), np.int64(559)), (np.int64(85814), np.int64(86168), np.int64(354)), (np.int64(86280), np.int64(86810), np.int64(530)), (np.int64(86916), np.int64(89922), np.int64(3006)), (np.int64(90056), np.int64(90374), np.int64(318)), (np.int64(90686), np.int64(91245), np.int64(559)), (np.int64(91463), np.int64(92836), np.int64(1373)), (np.int64(94177), np.int64(94500), np.int64(323)), (np.int64(94858), np.int64(95123), np.int64(265)), (np.int64(95760), np.int64(96422), np.int64(662)), (np.int64(97364), np.int64(98828), np.int64(1464)), (np.int64(99343), np.int64(99615), np.int64(272)), (np.int64(99982), np.int64(100276), np.int64(294)), (np.int64(100557), np.int64(100953), np.int64(396)), (np.int64(101645), np.int64(101969), np.int64(324)), (np.int64(102065), np.int64(102312), np.int64(247)), (np.int64(102651), np.int64(102995), np.int64(344)), (np.int64(103642), np.int64(114561), np.int64(10919)), (np.int64(114795), np.int64(115247), np.int64(452)), (np.int64(115439), np.int64(125058), np.int64(9619)), (np.int64(125280), np.int64(125519), np.int64(239)), (np.int64(125628), np.int64(126322), np.int64(694)), (np.int64(126487), np.int64(126637), np.int64(150)), (np.int64(127155), np.int64(127604), np.int64(449)), (np.int64(128150), np.int64(128553), np.int64(403)), (np.int64(128871), np.int64(129456), np.int64(585)), (np.int64(129677), np.int64(130024), np.int64(347)), (np.int64(130217), np.int64(130570), np.int64(353)), (np.int64(130812), np.int64(131994), np.int64(1182)), (np.int64(132250), np.int64(132510), np.int64(260)), (np.int64(132634), np.int64(133294), np.int64(660)), (np.int64(133583), np.int64(137301), np.int64(3718)), (np.int64(137411), np.int64(137862), np.int64(451)), (np.int64(137932), np.int64(138317), np.int64(385)), (np.int64(138394), np.int64(139219), np.int64(825)), (np.int64(139417), np.int64(139743), np.int64(326)), (np.int64(139878), np.int64(140380), np.int64(502)), (np.int64(140513), np.int64(140792), np.int64(279)), (np.int64(140924), np.int64(141234), np.int64(310)), (np.int64(141549), np.int64(141803), np.int64(254)), (np.int64(141963), np.int64(142253), np.int64(290)), (np.int64(142320), np.int64(143305), np.int64(985)), (np.int64(143402), np.int64(143792), np.int64(390)), (np.int64(143904), np.int64(144336), np.int64(432)), (np.int64(144566), np.int64(146699), np.int64(2133)), (np.int64(146970), np.int64(147459), np.int64(489)), (np.int64(147617), np.int64(151829), np.int64(4212)), (np.int64(151989), np.int64(157934), np.int64(5945)), (np.int64(158046), np.int64(158282), np.int64(236)), (np.int64(158370), np.int64(159104), np.int64(734)), (np.int64(159288), np.int64(159566), np.int64(278)), (np.int64(159716), np.int64(160181), np.int64(465)), (np.int64(160524), np.int64(161254), np.int64(730)), (np.int64(161506), np.int64(164798), np.int64(3292)), (np.int64(164926), np.int64(165228), np.int64(302)), (np.int64(165348), np.int64(166467), np.int64(1119)), (np.int64(166608), np.int64(166913), np.int64(305)), (np.int64(167064), np.int64(167348), np.int64(284)), (np.int64(167424), np.int64(167813), np.int64(389)), (np.int64(168144), np.int64(171552), np.int64(3408)), (np.int64(171925), np.int64(172304), np.int64(379)), (np.int64(172449), np.int64(172853), np.int64(404)), (np.int64(173285), np.int64(173622), np.int64(337)), (np.int64(173683), np.int64(173822), np.int64(139)), (np.int64(173982), np.int64(174260), np.int64(278)), (np.int64(174432), np.int64(174848), np.int64(416)), (np.int64(174948), np.int64(177915), np.int64(2967)), (np.int64(178090), np.int64(180272), np.int64(2182)), (np.int64(180638), np.int64(181186), np.int64(548)), (np.int64(181377), np.int64(181678), np.int64(301)), (np.int64(181961), np.int64(182489), np.int64(528)), (np.int64(182746), np.int64(183089), np.int64(343)), (np.int64(183314), np.int64(183751), np.int64(437)), (np.int64(183827), np.int64(185733), np.int64(1906)), (np.int64(186025), np.int64(187026), np.int64(1001)), (np.int64(187208), np.int64(187584), np.int64(376)), (np.int64(187700), np.int64(189531), np.int64(1831)), (np.int64(189699), np.int64(190032), np.int64(333)), (np.int64(190218), np.int64(190488), np.int64(270)), (np.int64(190983), np.int64(191229), np.int64(246)), (np.int64(191587), np.int64(191955), np.int64(368)), (np.int64(192100), np.int64(192546), np.int64(446)), (np.int64(192737), np.int64(193373), np.int64(636)), (np.int64(193502), np.int64(193783), np.int64(281)), (np.int64(193868), np.int64(198917), np.int64(5049)), (np.int64(199027), np.int64(199282), np.int64(255)), (np.int64(199525), np.int64(206049), np.int64(6524)), (np.int64(206690), np.int64(207238), np.int64(548)), (np.int64(207399), np.int64(207982), np.int64(583)), (np.int64(208142), np.int64(208428), np.int64(286)), (np.int64(208550), np.int64(208836), np.int64(286)), (np.int64(208942), np.int64(210069), np.int64(1127)), (np.int64(210253), np.int64(210492), np.int64(239)), (np.int64(210581), np.int64(210705), np.int64(124)), (np.int64(210800), np.int64(211746), np.int64(946)), (np.int64(212060), np.int64(212232), np.int64(172)), (np.int64(212865), np.int64(215015), np.int64(2150)), (np.int64(215153), np.int64(215456), np.int64(303)), (np.int64(215566), np.int64(215951), np.int64(385)), (np.int64(216038), np.int64(216293), np.int64(255)), (np.int64(216569), np.int64(216854), np.int64(285)), (np.int64(216933), np.int64(217105), np.int64(172)), (np.int64(217527), np.int64(217995), np.int64(468)), (np.int64(218101), np.int64(218268), np.int64(167)), (np.int64(218494), np.int64(221639), np.int64(3145)), (np.int64(221715), np.int64(221875), np.int64(160)), (np.int64(221968), np.int64(222299), np.int64(331)), (np.int64(222437), np.int64(222845), np.int64(408)), (np.int64(223111), np.int64(223599), np.int64(488)), (np.int64(223693), np.int64(224397), np.int64(704)), (np.int64(224686), np.int64(225868), np.int64(1182)), (np.int64(226133), np.int64(226475), np.int64(342)), (np.int64(226623), np.int64(227230), np.int64(607)), (np.int64(227680), np.int64(228134), np.int64(454)), (np.int64(228268), np.int64(228538), np.int64(270)), (np.int64(229262), np.int64(229572), np.int64(310)), (np.int64(229805), np.int64(231200), np.int64(1395)), (np.int64(231329), np.int64(231644), np.int64(315)), (np.int64(231755), np.int64(232062), np.int64(307)), (np.int64(232160), np.int64(232500), np.int64(340)), (np.int64(232818), np.int64(233052), np.int64(234)), (np.int64(233128), np.int64(233787), np.int64(659)), (np.int64(234057), np.int64(234747), np.int64(690)), (np.int64(234931), np.int64(236658), np.int64(1727)), (np.int64(237083), np.int64(237688), np.int64(605)), (np.int64(237844), np.int64(238599), np.int64(755)), (np.int64(239231), np.int64(239629), np.int64(398)), (np.int64(239759), np.int64(240374), np.int64(615)), (np.int64(240478), np.int64(240712), np.int64(234)), (np.int64(240881), np.int64(241585), np.int64(704)), (np.int64(241684), np.int64(243148), np.int64(1464)), (np.int64(243232), np.int64(243796), np.int64(564)), (np.int64(243918), np.int64(244810), np.int64(892)), (np.int64(244941), np.int64(250873), np.int64(5932)), (np.int64(251166), np.int64(251523), np.int64(357)), (np.int64(251673), np.int64(252045), np.int64(372)), (np.int64(252131), np.int64(252824), np.int64(693)), (np.int64(253029), np.int64(253476), np.int64(447)), (np.int64(253726), np.int64(254129), np.int64(403)), (np.int64(254394), np.int64(258136), np.int64(3742)), (np.int64(258315), np.int64(258695), np.int64(380)), (np.int64(259074), np.int64(259439), np.int64(365)), (np.int64(259578), np.int64(260087), np.int64(509)), (np.int64(260310), np.int64(260650), np.int64(340)), (np.int64(260829), 261006, np.int64(177))], 'cumulated_breaks_duration': np.int64(220843), 'events_direction': ([[np.int64(73148), np.int64(73581), np.int64(433)]], [[np.int64(50696), np.int64(51283), np.int64(587)], [np.int64(53023), np.int64(53206), np.int64(183)], [np.int64(53573), np.int64(54003), np.int64(430)]]), 'pushed': 1, 'pulled': 3, 'pulling_ratio': 0.75, 'interaction_proportion': np.float64(0.1538776886355103), 'distance_moved': np.float64(10378687.993775344)}}\n",
      "{'fly_0_ball_0': {'nb_events': 62, 'max_event': ([np.int64(118409), np.int64(118536), np.int64(127)], 41), 'max_event_time': array([4083.06896552, 4087.44827586,    4.37931034]), 'final_event': ([np.int64(110871), np.int64(111086), np.int64(215)], 39), 'final_event_time': array([3823.13793103, 3830.55172414,    7.4137931 ]), 'significant_events': [[np.int64(91706), np.int64(91908), np.int64(202)]], 'nb_significant_events': 1, 'first_significant_event': [np.int64(91706), np.int64(91908), np.int64(202)], 'first_significant_event_time': np.float64(3162.2758620689656), 'aha_moment': None, 'aha_moment_time': None, 'insight_effect': None, 'breaks': [(0, np.int64(25597), np.int64(25597)), (np.int64(25811), np.int64(37729), np.int64(11918)), (np.int64(37900), np.int64(39033), np.int64(1133)), (np.int64(39301), np.int64(40992), np.int64(1691)), (np.int64(41151), np.int64(42374), np.int64(1223)), (np.int64(42519), np.int64(44736), np.int64(2217)), (np.int64(44938), np.int64(46235), np.int64(1297)), (np.int64(46499), np.int64(50815), np.int64(4316)), (np.int64(50964), np.int64(55046), np.int64(4082)), (np.int64(55240), np.int64(56485), np.int64(1245)), (np.int64(56644), np.int64(57283), np.int64(639)), (np.int64(57543), np.int64(60339), np.int64(2796)), (np.int64(60530), np.int64(61801), np.int64(1271)), (np.int64(61901), np.int64(63028), np.int64(1127)), (np.int64(63181), np.int64(68043), np.int64(4862)), (np.int64(68209), np.int64(69984), np.int64(1775)), (np.int64(70068), np.int64(71136), np.int64(1068)), (np.int64(71210), np.int64(71497), np.int64(287)), (np.int64(71653), np.int64(72851), np.int64(1198)), (np.int64(72981), np.int64(75234), np.int64(2253)), (np.int64(75384), np.int64(75800), np.int64(416)), (np.int64(75894), np.int64(78805), np.int64(2911)), (np.int64(78956), np.int64(79869), np.int64(913)), (np.int64(80014), np.int64(80367), np.int64(353)), (np.int64(80616), np.int64(81508), np.int64(892)), (np.int64(81674), np.int64(82709), np.int64(1035)), (np.int64(82881), np.int64(85973), np.int64(3092)), (np.int64(86120), np.int64(87669), np.int64(1549)), (np.int64(87836), np.int64(90247), np.int64(2411)), (np.int64(90462), np.int64(90989), np.int64(527)), (np.int64(91208), np.int64(91706), np.int64(498)), (np.int64(91908), np.int64(92654), np.int64(746)), (np.int64(92785), np.int64(94459), np.int64(1674)), (np.int64(94565), np.int64(95762), np.int64(1197)), (np.int64(96178), np.int64(97607), np.int64(1429)), (np.int64(97748), np.int64(100114), np.int64(2366)), (np.int64(100201), np.int64(101145), np.int64(944)), (np.int64(101304), np.int64(103361), np.int64(2057)), (np.int64(103501), np.int64(107054), np.int64(3553)), (np.int64(107261), np.int64(110871), np.int64(3610)), (np.int64(111086), np.int64(113371), np.int64(2285)), (np.int64(113583), np.int64(118409), np.int64(4826)), (np.int64(118536), np.int64(130347), np.int64(11811)), (np.int64(130416), np.int64(132092), np.int64(1676)), (np.int64(132182), np.int64(133809), np.int64(1627)), (np.int64(134001), np.int64(136531), np.int64(2530)), (np.int64(136682), np.int64(138658), np.int64(1976)), (np.int64(138844), np.int64(144009), np.int64(5165)), (np.int64(144177), np.int64(165890), np.int64(21713)), (np.int64(166175), np.int64(171690), np.int64(5515)), (np.int64(171757), np.int64(174279), np.int64(2522)), (np.int64(174400), np.int64(188961), np.int64(14561)), (np.int64(189047), np.int64(191966), np.int64(2919)), (np.int64(192107), np.int64(194021), np.int64(1914)), (np.int64(194159), np.int64(197093), np.int64(2934)), (np.int64(197324), np.int64(205896), np.int64(8572)), (np.int64(206041), np.int64(208827), np.int64(2786)), (np.int64(208922), np.int64(212992), np.int64(4070)), (np.int64(213256), np.int64(215186), np.int64(1930)), (np.int64(215309), np.int64(219036), np.int64(3727)), (np.int64(219276), np.int64(237706), np.int64(18430)), (np.int64(237774), np.int64(260932), np.int64(23158)), (np.int64(261005), 261006, np.int64(1))], 'cumulated_breaks_duration': np.int64(250816), 'events_direction': ([[np.int64(91706), np.int64(91908), np.int64(202)]], []), 'pushed': 1, 'pulled': 0, 'pulling_ratio': 0.0, 'interaction_proportion': np.float64(0.03904124809391355), 'distance_moved': np.float64(35189219.81350714)}, 'fly_0_ball_1': {'nb_events': 51, 'max_event': ([np.int64(207136), np.int64(207241), np.int64(105)], 25), 'max_event_time': array([7.14262069e+03, 7.14624138e+03, 3.62068966e+00]), 'final_event': (None, None), 'final_event_time': None, 'significant_events': [[np.int64(124533), np.int64(124708), np.int64(175)], [np.int64(128155), np.int64(128382), np.int64(227)], [np.int64(139195), np.int64(139342), np.int64(147)], [np.int64(174579), np.int64(174741), np.int64(162)], [np.int64(255498), np.int64(255955), np.int64(457)]], 'nb_significant_events': 5, 'first_significant_event': [np.int64(124533), np.int64(124708), np.int64(175)], 'first_significant_event_time': np.float64(4294.241379310345), 'aha_moment': None, 'aha_moment_time': None, 'insight_effect': None, 'breaks': [(0, np.int64(116025), np.int64(116025)), (np.int64(116229), np.int64(124533), np.int64(8304)), (np.int64(124708), np.int64(124900), np.int64(192)), (np.int64(125076), np.int64(125473), np.int64(397)), (np.int64(125560), np.int64(126464), np.int64(904)), (np.int64(126653), np.int64(127305), np.int64(652)), (np.int64(127542), np.int64(128155), np.int64(613)), (np.int64(128382), np.int64(139195), np.int64(10813)), (np.int64(139342), np.int64(166847), np.int64(27505)), (np.int64(166964), np.int64(168474), np.int64(1510)), (np.int64(168597), np.int64(169041), np.int64(444)), (np.int64(169241), np.int64(174579), np.int64(5338)), (np.int64(174741), np.int64(179840), np.int64(5099)), (np.int64(179943), np.int64(180576), np.int64(633)), (np.int64(180648), np.int64(181174), np.int64(526)), (np.int64(181317), np.int64(181596), np.int64(279)), (np.int64(181761), np.int64(182041), np.int64(280)), (np.int64(182259), np.int64(184587), np.int64(2328)), (np.int64(184773), np.int64(186157), np.int64(1384)), (np.int64(186278), np.int64(186696), np.int64(418)), (np.int64(187263), np.int64(187582), np.int64(319)), (np.int64(187679), np.int64(187939), np.int64(260)), (np.int64(188184), np.int64(190194), np.int64(2010)), (np.int64(190306), np.int64(197790), np.int64(7484)), (np.int64(197877), np.int64(198655), np.int64(778)), (np.int64(198926), np.int64(207136), np.int64(8210)), (np.int64(207241), np.int64(207960), np.int64(719)), (np.int64(208142), np.int64(215478), np.int64(7336)), (np.int64(215705), np.int64(216225), np.int64(520)), (np.int64(216399), np.int64(216703), np.int64(304)), (np.int64(216877), np.int64(217298), np.int64(421)), (np.int64(217408), np.int64(219721), np.int64(2313)), (np.int64(219850), np.int64(220119), np.int64(269)), (np.int64(220290), np.int64(220875), np.int64(585)), (np.int64(221028), np.int64(224685), np.int64(3657)), (np.int64(224794), np.int64(225089), np.int64(295)), (np.int64(225223), np.int64(227668), np.int64(2445)), (np.int64(227898), np.int64(228370), np.int64(472)), (np.int64(228482), np.int64(229068), np.int64(586)), (np.int64(229337), np.int64(241926), np.int64(12589)), (np.int64(242077), np.int64(242361), np.int64(284)), (np.int64(242450), np.int64(242793), np.int64(343)), (np.int64(243193), np.int64(243574), np.int64(381)), (np.int64(243664), np.int64(248764), np.int64(5100)), (np.int64(248904), np.int64(249657), np.int64(753)), (np.int64(249769), np.int64(252207), np.int64(2438)), (np.int64(252371), np.int64(252627), np.int64(256)), (np.int64(252800), np.int64(253584), np.int64(784)), (np.int64(253734), np.int64(254648), np.int64(914)), (np.int64(254762), np.int64(255033), np.int64(271)), (np.int64(255183), np.int64(255498), np.int64(315)), (np.int64(255955), 261006, np.int64(5051))], 'cumulated_breaks_duration': np.int64(252106), 'events_direction': ([[np.int64(139195), np.int64(139342), np.int64(147)], [np.int64(174579), np.int64(174741), np.int64(162)]], [[np.int64(124533), np.int64(124708), np.int64(175)], [np.int64(128155), np.int64(128382), np.int64(227)], [np.int64(255498), np.int64(255955), np.int64(457)]]), 'pushed': 2, 'pulled': 3, 'pulling_ratio': 0.6, 'interaction_proportion': np.float64(0.03409883297701968), 'distance_moved': np.float64(8319948.089091347)}}\n",
      "{'fly_0_ball_0': {'nb_events': 133, 'max_event': ([np.int64(119558), np.int64(119620), np.int64(62)], 100), 'max_event_time': array([4.12268966e+03, 4.12482759e+03, 2.13793103e+00]), 'final_event': ([np.int64(119558), np.int64(119620), np.int64(62)], 100), 'final_event_time': array([4.12268966e+03, 4.12482759e+03, 2.13793103e+00]), 'significant_events': [[np.int64(57313), np.int64(57638), np.int64(325)], [np.int64(65739), np.int64(66114), np.int64(375)], [np.int64(66475), np.int64(66639), np.int64(164)], [np.int64(72459), np.int64(72862), np.int64(403)], [np.int64(77093), np.int64(77477), np.int64(384)], [np.int64(79969), np.int64(80117), np.int64(148)], [np.int64(80436), np.int64(80985), np.int64(549)], [np.int64(86271), np.int64(86624), np.int64(353)], [np.int64(87361), np.int64(87629), np.int64(268)], [np.int64(96154), np.int64(96328), np.int64(174)], [np.int64(100481), np.int64(100764), np.int64(283)], [np.int64(103825), np.int64(104062), np.int64(237)], [np.int64(107227), np.int64(107500), np.int64(273)], [np.int64(119993), np.int64(120126), np.int64(133)], [np.int64(153929), np.int64(154082), np.int64(153)], [np.int64(154349), np.int64(154536), np.int64(187)], [np.int64(162633), np.int64(162933), np.int64(300)], [np.int64(168996), np.int64(169068), np.int64(72)]], 'nb_significant_events': 18, 'first_significant_event': [np.int64(57313), np.int64(57638), np.int64(325)], 'first_significant_event_time': np.float64(1976.3103448275863), 'aha_moment': [np.int64(107227), np.int64(107500), np.int64(273)], 'aha_moment_time': np.float64(3697.4827586206898), 'insight_effect': np.float64(1.9877990930523395), 'breaks': [(0, np.int64(6162), np.int64(6162)), (np.int64(6305), np.int64(9107), np.int64(2802)), (np.int64(9208), np.int64(10667), np.int64(1459)), (np.int64(10881), np.int64(18523), np.int64(7642)), (np.int64(18625), np.int64(21321), np.int64(2696)), (np.int64(21421), np.int64(21833), np.int64(412)), (np.int64(21960), np.int64(27976), np.int64(6016)), (np.int64(28045), np.int64(29650), np.int64(1605)), (np.int64(29909), np.int64(30792), np.int64(883)), (np.int64(31029), np.int64(32784), np.int64(1755)), (np.int64(33044), np.int64(33536), np.int64(492)), (np.int64(33601), np.int64(34444), np.int64(843)), (np.int64(34577), np.int64(35487), np.int64(910)), (np.int64(35603), np.int64(36519), np.int64(916)), (np.int64(36617), np.int64(37249), np.int64(632)), (np.int64(37333), np.int64(38460), np.int64(1127)), (np.int64(38547), np.int64(39769), np.int64(1222)), (np.int64(39855), np.int64(40236), np.int64(381)), (np.int64(40423), np.int64(40860), np.int64(437)), (np.int64(41049), np.int64(41728), np.int64(679)), (np.int64(42462), np.int64(42950), np.int64(488)), (np.int64(43243), np.int64(43717), np.int64(474)), (np.int64(43791), np.int64(44305), np.int64(514)), (np.int64(45259), np.int64(46317), np.int64(1058)), (np.int64(46582), np.int64(46715), np.int64(133)), (np.int64(46975), np.int64(47803), np.int64(828)), (np.int64(47943), np.int64(48281), np.int64(338)), (np.int64(48340), np.int64(48656), np.int64(316)), (np.int64(48778), np.int64(49777), np.int64(999)), (np.int64(50057), np.int64(50439), np.int64(382)), (np.int64(50500), np.int64(52670), np.int64(2170)), (np.int64(52770), np.int64(53072), np.int64(302)), (np.int64(53269), np.int64(54305), np.int64(1036)), (np.int64(54435), np.int64(55560), np.int64(1125)), (np.int64(55806), np.int64(56760), np.int64(954)), (np.int64(56872), np.int64(57313), np.int64(441)), (np.int64(57638), np.int64(58137), np.int64(499)), (np.int64(58242), np.int64(58612), np.int64(370)), (np.int64(58694), np.int64(59042), np.int64(348)), (np.int64(59371), np.int64(59931), np.int64(560)), (np.int64(60083), np.int64(60534), np.int64(451)), (np.int64(60915), np.int64(61369), np.int64(454)), (np.int64(61442), np.int64(61877), np.int64(435)), (np.int64(62195), np.int64(62526), np.int64(331)), (np.int64(62597), np.int64(63081), np.int64(484)), (np.int64(63192), np.int64(63706), np.int64(514)), (np.int64(64006), np.int64(65205), np.int64(1199)), (np.int64(65435), np.int64(65739), np.int64(304)), (np.int64(66114), np.int64(66475), np.int64(361)), (np.int64(66639), np.int64(67071), np.int64(432)), (np.int64(67356), np.int64(68317), np.int64(961)), (np.int64(68611), np.int64(68959), np.int64(348)), (np.int64(69226), np.int64(69598), np.int64(372)), (np.int64(70166), np.int64(70533), np.int64(367)), (np.int64(70650), np.int64(71006), np.int64(356)), (np.int64(71320), np.int64(72459), np.int64(1139)), (np.int64(72862), np.int64(74100), np.int64(1238)), (np.int64(74280), np.int64(74626), np.int64(346)), (np.int64(74695), np.int64(76330), np.int64(1635)), (np.int64(76671), np.int64(77093), np.int64(422)), (np.int64(77477), np.int64(77806), np.int64(329)), (np.int64(77911), np.int64(78711), np.int64(800)), (np.int64(78800), np.int64(79625), np.int64(825)), (np.int64(79799), np.int64(79969), np.int64(170)), (np.int64(80117), np.int64(80436), np.int64(319)), (np.int64(80985), np.int64(82000), np.int64(1015)), (np.int64(82271), np.int64(82582), np.int64(311)), (np.int64(82882), np.int64(84037), np.int64(1155)), (np.int64(84627), np.int64(84921), np.int64(294)), (np.int64(84998), np.int64(85322), np.int64(324)), (np.int64(85545), np.int64(85824), np.int64(279)), (np.int64(85967), np.int64(86271), np.int64(304)), (np.int64(86624), np.int64(86966), np.int64(342)), (np.int64(87110), np.int64(87361), np.int64(251)), (np.int64(87629), np.int64(88141), np.int64(512)), (np.int64(88432), np.int64(88750), np.int64(318)), (np.int64(88866), np.int64(89140), np.int64(274)), (np.int64(89750), np.int64(91005), np.int64(1255)), (np.int64(91281), np.int64(91625), np.int64(344)), (np.int64(91726), np.int64(92124), np.int64(398)), (np.int64(92450), np.int64(92776), np.int64(326)), (np.int64(92944), np.int64(93883), np.int64(939)), (np.int64(93981), np.int64(94757), np.int64(776)), (np.int64(95020), np.int64(95320), np.int64(300)), (np.int64(95407), np.int64(95702), np.int64(295)), (np.int64(95814), np.int64(96154), np.int64(340)), (np.int64(96328), np.int64(96780), np.int64(452)), (np.int64(96977), np.int64(97290), np.int64(313)), (np.int64(97381), np.int64(98383), np.int64(1002)), (np.int64(98781), np.int64(99124), np.int64(343)), (np.int64(99448), np.int64(99720), np.int64(272)), (np.int64(100118), np.int64(100481), np.int64(363)), (np.int64(100764), np.int64(102325), np.int64(1561)), (np.int64(102757), np.int64(103190), np.int64(433)), (np.int64(103275), np.int64(103494), np.int64(219)), (np.int64(103578), np.int64(103825), np.int64(247)), (np.int64(104062), np.int64(104873), np.int64(811)), (np.int64(104968), np.int64(105262), np.int64(294)), (np.int64(105337), np.int64(106864), np.int64(1527)), (np.int64(106959), np.int64(107227), np.int64(268)), (np.int64(107500), np.int64(119558), np.int64(12058)), (np.int64(119620), np.int64(119993), np.int64(373)), (np.int64(120126), np.int64(121920), np.int64(1794)), (np.int64(122036), np.int64(123759), np.int64(1723)), (np.int64(123854), np.int64(124141), np.int64(287)), (np.int64(124201), np.int64(128843), np.int64(4642)), (np.int64(128938), np.int64(138378), np.int64(9440)), (np.int64(138677), np.int64(146235), np.int64(7558)), (np.int64(146330), np.int64(148748), np.int64(2418)), (np.int64(148852), np.int64(149976), np.int64(1124)), (np.int64(150094), np.int64(150695), np.int64(601)), (np.int64(150795), np.int64(153929), np.int64(3134)), (np.int64(154082), np.int64(154349), np.int64(267)), (np.int64(154536), np.int64(154823), np.int64(287)), (np.int64(154910), np.int64(159695), np.int64(4785)), (np.int64(160124), np.int64(162633), np.int64(2509)), (np.int64(162933), np.int64(168043), np.int64(5110)), (np.int64(168249), np.int64(168996), np.int64(747)), (np.int64(169068), np.int64(170153), np.int64(1085)), (np.int64(170365), np.int64(175767), np.int64(5402)), (np.int64(175949), np.int64(185711), np.int64(9762)), (np.int64(185833), np.int64(186516), np.int64(683)), (np.int64(186665), np.int64(191488), np.int64(4823)), (np.int64(191656), np.int64(196188), np.int64(4532)), (np.int64(196407), np.int64(199930), np.int64(3523)), (np.int64(200105), np.int64(213253), np.int64(13148)), (np.int64(213435), np.int64(215772), np.int64(2337)), (np.int64(215906), np.int64(219967), np.int64(4061)), (np.int64(220109), np.int64(235309), np.int64(15200)), (np.int64(235440), np.int64(236079), np.int64(639)), (np.int64(236151), np.int64(252272), np.int64(16121)), (np.int64(252525), np.int64(256657), np.int64(4132)), (np.int64(256770), np.int64(256965), np.int64(195)), (np.int64(257101), 261006, np.int64(3905))], 'cumulated_breaks_duration': np.int64(233860), 'events_direction': ([[np.int64(57313), np.int64(57638), np.int64(325)], [np.int64(65739), np.int64(66114), np.int64(375)], [np.int64(87361), np.int64(87629), np.int64(268)], [np.int64(96154), np.int64(96328), np.int64(174)], [np.int64(103825), np.int64(104062), np.int64(237)], [np.int64(107227), np.int64(107500), np.int64(273)], [np.int64(153929), np.int64(154082), np.int64(153)], [np.int64(162633), np.int64(162933), np.int64(300)]], [[np.int64(66475), np.int64(66639), np.int64(164)], [np.int64(72459), np.int64(72862), np.int64(403)], [np.int64(77093), np.int64(77477), np.int64(384)], [np.int64(79969), np.int64(80117), np.int64(148)], [np.int64(80436), np.int64(80985), np.int64(549)], [np.int64(86271), np.int64(86624), np.int64(353)], [np.int64(100481), np.int64(100764), np.int64(283)], [np.int64(119993), np.int64(120126), np.int64(133)], [np.int64(154349), np.int64(154536), np.int64(187)], [np.int64(168996), np.int64(169068), np.int64(72)]]), 'pushed': 8, 'pulled': 10, 'pulling_ratio': 0.5555555555555556, 'interaction_proportion': np.float64(0.10400527190945802), 'distance_moved': np.float64(28649878.494956315)}, 'fly_0_ball_1': {'nb_events': 15, 'max_event': ([np.int64(201784), np.int64(201993), np.int64(209)], 10), 'max_event_time': array([6958.06896552, 6965.27586207,    7.20689655]), 'final_event': (None, None), 'final_event_time': None, 'significant_events': [], 'nb_significant_events': 0, 'first_significant_event': None, 'first_significant_event_time': None, 'aha_moment': None, 'aha_moment_time': None, 'insight_effect': None, 'breaks': [(0, np.int64(112793), np.int64(112793)), (np.int64(113123), np.int64(125299), np.int64(12176)), (np.int64(125379), np.int64(126868), np.int64(1489)), (np.int64(126996), np.int64(127807), np.int64(811)), (np.int64(128029), np.int64(140286), np.int64(12257)), (np.int64(140402), np.int64(143933), np.int64(3531)), (np.int64(144021), np.int64(166544), np.int64(22523)), (np.int64(166624), np.int64(177461), np.int64(10837)), (np.int64(177606), np.int64(178331), np.int64(725)), (np.int64(178437), np.int64(178961), np.int64(524)), (np.int64(179021), np.int64(201784), np.int64(22763)), (np.int64(201993), np.int64(203075), np.int64(1082)), (np.int64(203218), np.int64(208583), np.int64(5365)), (np.int64(208647), np.int64(229341), np.int64(20694)), (np.int64(229435), np.int64(232969), np.int64(3534)), (np.int64(233093), 261006, np.int64(27913))], 'cumulated_breaks_duration': np.int64(259017), 'events_direction': ([], []), 'pushed': 0, 'pulled': 0, 'pulling_ratio': None, 'interaction_proportion': np.float64(0.007620514470931703), 'distance_moved': np.float64(5813140.734457008)}}\n",
      "{'fly_0_ball_0': {'nb_events': 110, 'max_event': (None, None), 'max_event_time': None, 'final_event': ([np.int64(94378), np.int64(95026), np.int64(648)], 64), 'final_event_time': array([3254.4137931 , 3276.75862069,   22.34482759]), 'significant_events': [[np.int64(31716), np.int64(31823), np.int64(107)], [np.int64(41289), np.int64(42055), np.int64(766)], [np.int64(44527), np.int64(44788), np.int64(261)], [np.int64(47919), np.int64(48239), np.int64(320)], [np.int64(52865), np.int64(53713), np.int64(848)], [np.int64(60315), np.int64(60910), np.int64(595)], [np.int64(62475), np.int64(62806), np.int64(331)], [np.int64(66409), np.int64(67339), np.int64(930)], [np.int64(68799), np.int64(68868), np.int64(69)], [np.int64(69285), np.int64(69631), np.int64(346)], [np.int64(69794), np.int64(70068), np.int64(274)], [np.int64(70420), np.int64(71661), np.int64(1241)], [np.int64(72577), np.int64(72813), np.int64(236)], [np.int64(76146), np.int64(76525), np.int64(379)], [np.int64(79779), np.int64(80660), np.int64(881)], [np.int64(91120), np.int64(92258), np.int64(1138)], [np.int64(92498), np.int64(92781), np.int64(283)], [np.int64(93222), np.int64(93839), np.int64(617)], [np.int64(94378), np.int64(95026), np.int64(648)], [np.int64(141732), np.int64(141919), np.int64(187)], [np.int64(160935), np.int64(161060), np.int64(125)], [np.int64(167817), np.int64(168190), np.int64(373)], [np.int64(199048), np.int64(199201), np.int64(153)], [np.int64(215397), np.int64(215660), np.int64(263)], [np.int64(229702), np.int64(229874), np.int64(172)], [np.int64(239370), np.int64(239499), np.int64(129)], [np.int64(240211), np.int64(240657), np.int64(446)], [np.int64(246107), np.int64(246261), np.int64(154)], [np.int64(257383), np.int64(257535), np.int64(152)]], 'nb_significant_events': 29, 'first_significant_event': [np.int64(31716), np.int64(31823), np.int64(107)], 'first_significant_event_time': np.float64(1093.655172413793), 'aha_moment': [np.int64(52865), np.int64(53713), np.int64(848)], 'aha_moment_time': np.float64(1822.9310344827586), 'insight_effect': np.float64(0.15723210463529844), 'breaks': [(0, np.int64(1462), np.int64(1462)), (np.int64(1530), np.int64(2095), np.int64(565)), (np.int64(2303), np.int64(10405), np.int64(8102)), (np.int64(10715), np.int64(13479), np.int64(2764)), (np.int64(13544), np.int64(15629), np.int64(2085)), (np.int64(15854), np.int64(25725), np.int64(9871)), (np.int64(25807), np.int64(26775), np.int64(968)), (np.int64(26844), np.int64(28589), np.int64(1745)), (np.int64(28685), np.int64(31716), np.int64(3031)), (np.int64(31823), np.int64(32031), np.int64(208)), (np.int64(32150), np.int64(32855), np.int64(705)), (np.int64(33147), np.int64(33913), np.int64(766)), (np.int64(34183), np.int64(34537), np.int64(354)), (np.int64(34715), np.int64(36221), np.int64(1506)), (np.int64(36490), np.int64(38106), np.int64(1616)), (np.int64(38195), np.int64(38465), np.int64(270)), (np.int64(38592), np.int64(38827), np.int64(235)), (np.int64(38891), np.int64(41289), np.int64(2398)), (np.int64(42055), np.int64(43416), np.int64(1361)), (np.int64(43479), np.int64(44527), np.int64(1048)), (np.int64(44788), np.int64(46654), np.int64(1866)), (np.int64(46736), np.int64(47919), np.int64(1183)), (np.int64(48239), np.int64(49148), np.int64(909)), (np.int64(49230), np.int64(49543), np.int64(313)), (np.int64(49701), np.int64(51029), np.int64(1328)), (np.int64(51159), np.int64(51993), np.int64(834)), (np.int64(52090), np.int64(52865), np.int64(775)), (np.int64(53713), np.int64(55060), np.int64(1347)), (np.int64(55414), np.int64(56024), np.int64(610)), (np.int64(56083), np.int64(56631), np.int64(548)), (np.int64(56799), np.int64(57537), np.int64(738)), (np.int64(57856), np.int64(58411), np.int64(555)), (np.int64(58996), np.int64(59184), np.int64(188)), (np.int64(59329), np.int64(60315), np.int64(986)), (np.int64(60910), np.int64(62475), np.int64(1565)), (np.int64(62806), np.int64(63025), np.int64(219)), (np.int64(63427), np.int64(63810), np.int64(383)), (np.int64(64017), np.int64(64450), np.int64(433)), (np.int64(64531), np.int64(64749), np.int64(218)), (np.int64(64825), np.int64(65199), np.int64(374)), (np.int64(65294), np.int64(66409), np.int64(1115)), (np.int64(67339), np.int64(67815), np.int64(476)), (np.int64(68053), np.int64(68412), np.int64(359)), (np.int64(68558), np.int64(68799), np.int64(241)), (np.int64(68868), np.int64(69285), np.int64(417)), (np.int64(69631), np.int64(69794), np.int64(163)), (np.int64(70068), np.int64(70420), np.int64(352)), (np.int64(71661), np.int64(72118), np.int64(457)), (np.int64(72414), np.int64(72577), np.int64(163)), (np.int64(72813), np.int64(74364), np.int64(1551)), (np.int64(74497), np.int64(75098), np.int64(601)), (np.int64(75368), np.int64(76146), np.int64(778)), (np.int64(76525), np.int64(77973), np.int64(1448)), (np.int64(78081), np.int64(79216), np.int64(1135)), (np.int64(79308), np.int64(79779), np.int64(471)), (np.int64(80660), np.int64(81932), np.int64(1272)), (np.int64(82109), np.int64(83579), np.int64(1470)), (np.int64(84001), np.int64(85202), np.int64(1201)), (np.int64(85274), np.int64(86044), np.int64(770)), (np.int64(86542), np.int64(87811), np.int64(1269)), (np.int64(87932), np.int64(88164), np.int64(232)), (np.int64(88781), np.int64(91120), np.int64(2339)), (np.int64(92258), np.int64(92498), np.int64(240)), (np.int64(92781), np.int64(93222), np.int64(441)), (np.int64(93839), np.int64(94378), np.int64(539)), (np.int64(95026), np.int64(98252), np.int64(3226)), (np.int64(98626), np.int64(101765), np.int64(3139)), (np.int64(101908), np.int64(102030), np.int64(122)), (np.int64(102134), np.int64(104967), np.int64(2833)), (np.int64(105044), np.int64(105317), np.int64(273)), (np.int64(105433), np.int64(120326), np.int64(14893)), (np.int64(120398), np.int64(123113), np.int64(2715)), (np.int64(123291), np.int64(130247), np.int64(6956)), (np.int64(130448), np.int64(131802), np.int64(1354)), (np.int64(131979), np.int64(135611), np.int64(3632)), (np.int64(135816), np.int64(138963), np.int64(3147)), (np.int64(139214), np.int64(140184), np.int64(970)), (np.int64(140297), np.int64(140535), np.int64(238)), (np.int64(141371), np.int64(141732), np.int64(361)), (np.int64(141919), np.int64(146127), np.int64(4208)), (np.int64(146262), np.int64(146569), np.int64(307)), (np.int64(146799), np.int64(150560), np.int64(3761)), (np.int64(150723), np.int64(157872), np.int64(7149)), (np.int64(157939), np.int64(160935), np.int64(2996)), (np.int64(161060), np.int64(165119), np.int64(4059)), (np.int64(165570), np.int64(167817), np.int64(2247)), (np.int64(168190), np.int64(179156), np.int64(10966)), (np.int64(179223), np.int64(180317), np.int64(1094)), (np.int64(180458), np.int64(183686), np.int64(3228)), (np.int64(183809), np.int64(186112), np.int64(2303)), (np.int64(186280), np.int64(188991), np.int64(2711)), (np.int64(189118), np.int64(190303), np.int64(1185)), (np.int64(190372), np.int64(194211), np.int64(3839)), (np.int64(194360), np.int64(199048), np.int64(4688)), (np.int64(199201), np.int64(201690), np.int64(2489)), (np.int64(202045), np.int64(207373), np.int64(5328)), (np.int64(207930), np.int64(208514), np.int64(584)), (np.int64(208835), np.int64(215397), np.int64(6562)), (np.int64(215660), np.int64(224121), np.int64(8461)), (np.int64(224552), np.int64(227569), np.int64(3017)), (np.int64(227694), np.int64(229702), np.int64(2008)), (np.int64(229874), np.int64(234851), np.int64(4977)), (np.int64(234933), np.int64(237124), np.int64(2191)), (np.int64(237233), np.int64(238783), np.int64(1550)), (np.int64(238883), np.int64(239370), np.int64(487)), (np.int64(239499), np.int64(240211), np.int64(712)), (np.int64(240657), np.int64(242495), np.int64(1838)), (np.int64(242630), np.int64(246107), np.int64(3477)), (np.int64(246261), np.int64(249937), np.int64(3676)), (np.int64(250132), np.int64(257383), np.int64(7251)), (np.int64(257535), 261006, np.int64(3471))], 'cumulated_breaks_duration': np.int64(232611), 'events_direction': ([[np.int64(31716), np.int64(31823), np.int64(107)], [np.int64(52865), np.int64(53713), np.int64(848)], [np.int64(68799), np.int64(68868), np.int64(69)], [np.int64(69285), np.int64(69631), np.int64(346)], [np.int64(76146), np.int64(76525), np.int64(379)], [np.int64(79779), np.int64(80660), np.int64(881)], [np.int64(91120), np.int64(92258), np.int64(1138)], [np.int64(93222), np.int64(93839), np.int64(617)], [np.int64(94378), np.int64(95026), np.int64(648)], [np.int64(141732), np.int64(141919), np.int64(187)], [np.int64(167817), np.int64(168190), np.int64(373)], [np.int64(199048), np.int64(199201), np.int64(153)], [np.int64(229702), np.int64(229874), np.int64(172)], [np.int64(257383), np.int64(257535), np.int64(152)]], [[np.int64(41289), np.int64(42055), np.int64(766)], [np.int64(44527), np.int64(44788), np.int64(261)], [np.int64(47919), np.int64(48239), np.int64(320)], [np.int64(60315), np.int64(60910), np.int64(595)], [np.int64(62475), np.int64(62806), np.int64(331)], [np.int64(66409), np.int64(67339), np.int64(930)], [np.int64(69794), np.int64(70068), np.int64(274)], [np.int64(70420), np.int64(71661), np.int64(1241)], [np.int64(72577), np.int64(72813), np.int64(236)], [np.int64(92498), np.int64(92781), np.int64(283)], [np.int64(160935), np.int64(161060), np.int64(125)], [np.int64(215397), np.int64(215660), np.int64(263)], [np.int64(239370), np.int64(239499), np.int64(129)], [np.int64(240211), np.int64(240657), np.int64(446)], [np.int64(246107), np.int64(246261), np.int64(154)]]), 'pushed': 14, 'pulled': 15, 'pulling_ratio': 0.5172413793103449, 'interaction_proportion': np.float64(0.10879060251488472), 'distance_moved': np.float64(33006525.649870377)}, 'fly_0_ball_1': {'nb_events': 24, 'max_event': ([np.int64(170879), np.int64(170941), np.int64(62)], 16), 'max_event_time': array([5.89237931e+03, 5.89451724e+03, 2.13793103e+00]), 'final_event': (None, None), 'final_event_time': None, 'significant_events': [[np.int64(142757), np.int64(143210), np.int64(453)], [np.int64(169258), np.int64(169425), np.int64(167)]], 'nb_significant_events': 2, 'first_significant_event': [np.int64(142757), np.int64(143210), np.int64(453)], 'first_significant_event_time': np.float64(4922.6551724137935), 'aha_moment': [np.int64(169258), np.int64(169425), np.int64(167)], 'aha_moment_time': np.float64(5836.482758620689), 'insight_effect': np.float64(0.9992470370557156), 'breaks': [(0, np.int64(96290), np.int64(96290)), (np.int64(96391), np.int64(106822), np.int64(10431)), (np.int64(107109), np.int64(109066), np.int64(1957)), (np.int64(109149), np.int64(109438), np.int64(289)), (np.int64(109771), np.int64(113385), np.int64(3614)), (np.int64(113476), np.int64(118247), np.int64(4771)), (np.int64(118317), np.int64(125922), np.int64(7605)), (np.int64(126016), np.int64(128134), np.int64(2118)), (np.int64(128240), np.int64(142757), np.int64(14517)), (np.int64(143210), np.int64(144688), np.int64(1478)), (np.int64(144935), np.int64(149177), np.int64(4242)), (np.int64(149249), np.int64(149800), np.int64(551)), (np.int64(149956), np.int64(150936), np.int64(980)), (np.int64(151212), np.int64(154980), np.int64(3768)), (np.int64(155147), np.int64(168682), np.int64(13535)), (np.int64(168826), np.int64(169258), np.int64(432)), (np.int64(169425), np.int64(170879), np.int64(1454)), (np.int64(170941), np.int64(171438), np.int64(497)), (np.int64(171852), np.int64(189857), np.int64(18005)), (np.int64(190013), np.int64(211371), np.int64(21358)), (np.int64(211503), np.int64(243947), np.int64(32444)), (np.int64(244026), np.int64(254394), np.int64(10368)), (np.int64(254462), np.int64(254664), np.int64(202)), (np.int64(254858), np.int64(258084), np.int64(3226)), (np.int64(258226), 261006, np.int64(2780))], 'cumulated_breaks_duration': np.int64(256912), 'events_direction': ([[np.int64(169258), np.int64(169425), np.int64(167)]], [[np.int64(142757), np.int64(143210), np.int64(453)]]), 'pushed': 1, 'pulled': 1, 'pulling_ratio': 0.5, 'interaction_proportion': np.float64(0.015685463169429054), 'distance_moved': np.float64(9207874.670023452)}}\n",
      "{'fly_0_ball_0': {'nb_events': 57, 'max_event': ([np.int64(222019), np.int64(222290), np.int64(271)], 50), 'max_event_time': array([7655.82758621, 7665.17241379,    9.34482759]), 'final_event': ([np.int64(196161), np.int64(196316), np.int64(155)], 49), 'final_event_time': array([6.76417241e+03, 6.76951724e+03, 5.34482759e+00]), 'significant_events': [[np.int64(196161), np.int64(196316), np.int64(155)], [np.int64(222019), np.int64(222290), np.int64(271)], [np.int64(248468), np.int64(248748), np.int64(280)]], 'nb_significant_events': 3, 'first_significant_event': [np.int64(196161), np.int64(196316), np.int64(155)], 'first_significant_event_time': np.float64(6764.172413793103), 'aha_moment': [np.int64(222019), np.int64(222290), np.int64(271)], 'aha_moment_time': np.float64(7655.827586206897), 'insight_effect': np.float64(0.4980611518655202), 'breaks': [(0, np.int64(6307), np.int64(6307)), (np.int64(6552), np.int64(11796), np.int64(5244)), (np.int64(12046), np.int64(15574), np.int64(3528)), (np.int64(15739), np.int64(16775), np.int64(1036)), (np.int64(16934), np.int64(17624), np.int64(690)), (np.int64(17724), np.int64(19151), np.int64(1427)), (np.int64(19362), np.int64(20049), np.int64(687)), (np.int64(20264), np.int64(21218), np.int64(954)), (np.int64(21306), np.int64(22272), np.int64(966)), (np.int64(22401), np.int64(22736), np.int64(335)), (np.int64(22807), np.int64(23117), np.int64(310)), (np.int64(23322), np.int64(24361), np.int64(1039)), (np.int64(24525), np.int64(25013), np.int64(488)), (np.int64(25249), np.int64(26215), np.int64(966)), (np.int64(26414), np.int64(27042), np.int64(628)), (np.int64(27170), np.int64(27565), np.int64(395)), (np.int64(27638), np.int64(28810), np.int64(1172)), (np.int64(29011), np.int64(31499), np.int64(2488)), (np.int64(31619), np.int64(32792), np.int64(1173)), (np.int64(33003), np.int64(33598), np.int64(595)), (np.int64(33716), np.int64(37725), np.int64(4009)), (np.int64(37879), np.int64(39328), np.int64(1449)), (np.int64(39542), np.int64(42074), np.int64(2532)), (np.int64(42143), np.int64(42771), np.int64(628)), (np.int64(42907), np.int64(43882), np.int64(975)), (np.int64(44080), np.int64(49529), np.int64(5449)), (np.int64(49762), np.int64(53672), np.int64(3910)), (np.int64(53761), np.int64(54690), np.int64(929)), (np.int64(54843), np.int64(57281), np.int64(2438)), (np.int64(57433), np.int64(58017), np.int64(584)), (np.int64(58140), np.int64(62456), np.int64(4316)), (np.int64(62547), np.int64(65897), np.int64(3350)), (np.int64(66021), np.int64(68859), np.int64(2838)), (np.int64(69011), np.int64(70539), np.int64(1528)), (np.int64(70634), np.int64(71430), np.int64(796)), (np.int64(71491), np.int64(72390), np.int64(899)), (np.int64(72456), np.int64(73647), np.int64(1191)), (np.int64(73785), np.int64(77483), np.int64(3698)), (np.int64(77573), np.int64(78676), np.int64(1103)), (np.int64(78783), np.int64(80152), np.int64(1369)), (np.int64(80280), np.int64(80873), np.int64(593)), (np.int64(80946), np.int64(84306), np.int64(3360)), (np.int64(84395), np.int64(85486), np.int64(1091)), (np.int64(85643), np.int64(97977), np.int64(12334)), (np.int64(98112), np.int64(100387), np.int64(2275)), (np.int64(100492), np.int64(105472), np.int64(4980)), (np.int64(105535), np.int64(140695), np.int64(35160)), (np.int64(140822), np.int64(154516), np.int64(13694)), (np.int64(154681), np.int64(177899), np.int64(23218)), (np.int64(177999), np.int64(196161), np.int64(18162)), (np.int64(196316), np.int64(222019), np.int64(25703)), (np.int64(222290), np.int64(223657), np.int64(1367)), (np.int64(223990), np.int64(235031), np.int64(11041)), (np.int64(235141), np.int64(243294), np.int64(8153)), (np.int64(243529), np.int64(248468), np.int64(4939)), (np.int64(248748), np.int64(251952), np.int64(3204)), (np.int64(252894), np.int64(257544), np.int64(4650)), (np.int64(257670), 261006, np.int64(3336))], 'cumulated_breaks_duration': np.int64(251679), 'events_direction': ([[np.int64(196161), np.int64(196316), np.int64(155)], [np.int64(222019), np.int64(222290), np.int64(271)]], [[np.int64(248468), np.int64(248748), np.int64(280)]]), 'pushed': 2, 'pulled': 1, 'pulling_ratio': 0.3333333333333333, 'interaction_proportion': np.float64(0.03573481069400703), 'distance_moved': np.float64(26562811.2635347)}, 'fly_0_ball_1': {'nb_events': 123, 'max_event': ([np.int64(160164), np.int64(161016), np.int64(852)], 19), 'max_event_time': array([5522.89655172, 5552.27586207,   29.37931034]), 'final_event': (None, None), 'final_event_time': None, 'significant_events': [[np.int64(160164), np.int64(161016), np.int64(852)], [np.int64(196942), np.int64(197148), np.int64(206)], [np.int64(203614), np.int64(203790), np.int64(176)]], 'nb_significant_events': 3, 'first_significant_event': [np.int64(160164), np.int64(161016), np.int64(852)], 'first_significant_event_time': np.float64(5522.896551724138), 'aha_moment': None, 'aha_moment_time': None, 'insight_effect': None, 'breaks': [(0, np.int64(129176), np.int64(129176)), (np.int64(129271), np.int64(129626), np.int64(355)), (np.int64(129724), np.int64(141617), np.int64(11893)), (np.int64(141726), np.int64(146548), np.int64(4822)), (np.int64(146735), np.int64(147012), np.int64(277)), (np.int64(147153), np.int64(147356), np.int64(203)), (np.int64(147498), np.int64(147811), np.int64(313)), (np.int64(148185), np.int64(150299), np.int64(2114)), (np.int64(150487), np.int64(150691), np.int64(204)), (np.int64(151607), np.int64(152063), np.int64(456)), (np.int64(152352), np.int64(152905), np.int64(553)), (np.int64(153062), np.int64(153281), np.int64(219)), (np.int64(153818), np.int64(156442), np.int64(2624)), (np.int64(156607), np.int64(156832), np.int64(225)), (np.int64(157008), np.int64(157236), np.int64(228)), (np.int64(157521), np.int64(158119), np.int64(598)), (np.int64(158287), np.int64(158743), np.int64(456)), (np.int64(158897), np.int64(159114), np.int64(217)), (np.int64(159291), np.int64(159526), np.int64(235)), (np.int64(159701), np.int64(160164), np.int64(463)), (np.int64(161016), np.int64(161210), np.int64(194)), (np.int64(161413), np.int64(161593), np.int64(180)), (np.int64(161667), np.int64(161793), np.int64(126)), (np.int64(161867), np.int64(163256), np.int64(1389)), (np.int64(163421), np.int64(165114), np.int64(1693)), (np.int64(165636), np.int64(166662), np.int64(1026)), (np.int64(166830), np.int64(167014), np.int64(184)), (np.int64(167108), np.int64(168624), np.int64(1516)), (np.int64(168865), np.int64(171260), np.int64(2395)), (np.int64(171404), np.int64(172792), np.int64(1388)), (np.int64(172989), np.int64(173163), np.int64(174)), (np.int64(173325), np.int64(173781), np.int64(456)), (np.int64(173961), np.int64(174587), np.int64(626)), (np.int64(174648), np.int64(174780), np.int64(132)), (np.int64(174848), np.int64(177377), np.int64(2529)), (np.int64(177572), np.int64(179127), np.int64(1555)), (np.int64(179497), np.int64(180264), np.int64(767)), (np.int64(180357), np.int64(180489), np.int64(132)), (np.int64(180973), np.int64(183300), np.int64(2327)), (np.int64(183504), np.int64(185373), np.int64(1869)), (np.int64(185455), np.int64(186179), np.int64(724)), (np.int64(186255), np.int64(186839), np.int64(584)), (np.int64(186913), np.int64(187103), np.int64(190)), (np.int64(187187), np.int64(190088), np.int64(2901)), (np.int64(190302), np.int64(191715), np.int64(1413)), (np.int64(191844), np.int64(191974), np.int64(130)), (np.int64(192045), np.int64(192509), np.int64(464)), (np.int64(192760), np.int64(192995), np.int64(235)), (np.int64(193197), np.int64(193408), np.int64(211)), (np.int64(193502), np.int64(193620), np.int64(118)), (np.int64(193723), np.int64(194263), np.int64(540)), (np.int64(194405), np.int64(194613), np.int64(208)), (np.int64(195011), np.int64(195205), np.int64(194)), (np.int64(195387), np.int64(196942), np.int64(1555)), (np.int64(197148), np.int64(197920), np.int64(772)), (np.int64(197992), np.int64(198294), np.int64(302)), (np.int64(198361), np.int64(198897), np.int64(536)), (np.int64(198981), np.int64(199112), np.int64(131)), (np.int64(199214), np.int64(199461), np.int64(247)), (np.int64(199682), np.int64(199925), np.int64(243)), (np.int64(199989), np.int64(200487), np.int64(498)), (np.int64(200630), np.int64(201137), np.int64(507)), (np.int64(201445), np.int64(201999), np.int64(554)), (np.int64(202118), np.int64(203614), np.int64(1496)), (np.int64(203790), np.int64(204553), np.int64(763)), (np.int64(204680), np.int64(206239), np.int64(1559)), (np.int64(206488), np.int64(206774), np.int64(286)), (np.int64(206879), np.int64(207143), np.int64(264)), (np.int64(207278), np.int64(207555), np.int64(277)), (np.int64(207827), np.int64(208388), np.int64(561)), (np.int64(208484), np.int64(209277), np.int64(793)), (np.int64(209400), np.int64(209695), np.int64(295)), (np.int64(209773), np.int64(213721), np.int64(3948)), (np.int64(213800), np.int64(214882), np.int64(1082)), (np.int64(215327), np.int64(215592), np.int64(265)), (np.int64(215706), np.int64(215978), np.int64(272)), (np.int64(216321), np.int64(216863), np.int64(542)), (np.int64(217095), np.int64(217460), np.int64(365)), (np.int64(217536), np.int64(218069), np.int64(533)), (np.int64(218381), np.int64(219505), np.int64(1124)), (np.int64(219680), np.int64(219979), np.int64(299)), (np.int64(220287), np.int64(220498), np.int64(211)), (np.int64(221253), np.int64(221761), np.int64(508)), (np.int64(221829), np.int64(225012), np.int64(3183)), (np.int64(225131), np.int64(225456), np.int64(325)), (np.int64(226025), np.int64(227258), np.int64(1233)), (np.int64(227471), np.int64(227748), np.int64(277)), (np.int64(227852), np.int64(228128), np.int64(276)), (np.int64(228218), np.int64(228435), np.int64(217)), (np.int64(229162), np.int64(229874), np.int64(712)), (np.int64(230128), np.int64(230970), np.int64(842)), (np.int64(231066), np.int64(231806), np.int64(740)), (np.int64(231903), np.int64(232116), np.int64(213)), (np.int64(232397), np.int64(232674), np.int64(277)), (np.int64(232777), np.int64(233325), np.int64(548)), (np.int64(233823), np.int64(235282), np.int64(1459)), (np.int64(235411), np.int64(235796), np.int64(385)), (np.int64(235906), np.int64(236152), np.int64(246)), (np.int64(236303), np.int64(236822), np.int64(519)), (np.int64(236909), np.int64(237203), np.int64(294)), (np.int64(237312), np.int64(237572), np.int64(260)), (np.int64(237679), np.int64(237952), np.int64(273)), (np.int64(238102), np.int64(238982), np.int64(880)), (np.int64(239222), np.int64(239726), np.int64(504)), (np.int64(239996), np.int64(240331), np.int64(335)), (np.int64(240482), np.int64(240789), np.int64(307)), (np.int64(240861), np.int64(241130), np.int64(269)), (np.int64(241298), np.int64(243682), np.int64(2384)), (np.int64(243789), np.int64(244355), np.int64(566)), (np.int64(244513), np.int64(244852), np.int64(339)), (np.int64(244951), np.int64(245209), np.int64(258)), (np.int64(245297), np.int64(245573), np.int64(276)), (np.int64(245768), np.int64(246591), np.int64(823)), (np.int64(246760), np.int64(248962), np.int64(2202)), (np.int64(249147), np.int64(249613), np.int64(466)), (np.int64(250046), np.int64(254304), np.int64(4258)), (np.int64(254444), np.int64(254710), np.int64(266)), (np.int64(254780), np.int64(254938), np.int64(158)), (np.int64(254998), np.int64(255468), np.int64(470)), (np.int64(255641), np.int64(255907), np.int64(266)), (np.int64(256003), np.int64(256333), np.int64(330)), (np.int64(256409), np.int64(259672), np.int64(3263)), (np.int64(259953), np.int64(260449), np.int64(496)), (np.int64(260509), 261006, np.int64(497))], 'cumulated_breaks_duration': np.int64(236881), 'events_direction': ([[np.int64(203614), np.int64(203790), np.int64(176)]], [[np.int64(160164), np.int64(161016), np.int64(852)], [np.int64(196942), np.int64(197148), np.int64(206)]]), 'pushed': 1, 'pulled': 2, 'pulling_ratio': 0.6666666666666666, 'interaction_proportion': np.float64(0.09243082534501122), 'distance_moved': np.float64(6417956.668376966)}}\n",
      "{'fly_0_ball_0': {'nb_events': 230, 'max_event': ([np.int64(36421), np.int64(36546), np.int64(125)], 9), 'max_event_time': array([1255.89655172, 1260.20689655,    4.31034483]), 'final_event': (None, None), 'final_event_time': None, 'significant_events': [[np.int64(58976), np.int64(59323), np.int64(347)]], 'nb_significant_events': 1, 'first_significant_event': [np.int64(58976), np.int64(59323), np.int64(347)], 'first_significant_event_time': np.float64(2033.655172413793), 'aha_moment': None, 'aha_moment_time': None, 'insight_effect': None, 'breaks': [(0, np.int64(20841), np.int64(20841)), (np.int64(20948), np.int64(24550), np.int64(3602)), (np.int64(24644), np.int64(26236), np.int64(1592)), (np.int64(26324), np.int64(30118), np.int64(3794)), (np.int64(30236), np.int64(33284), np.int64(3048)), (np.int64(33356), np.int64(33629), np.int64(273)), (np.int64(33695), np.int64(34466), np.int64(771)), (np.int64(34586), np.int64(34917), np.int64(331)), (np.int64(35168), np.int64(35415), np.int64(247)), (np.int64(35714), np.int64(36421), np.int64(707)), (np.int64(36546), np.int64(36997), np.int64(451)), (np.int64(37316), np.int64(38677), np.int64(1361)), (np.int64(38951), np.int64(39261), np.int64(310)), (np.int64(39460), np.int64(42043), np.int64(2583)), (np.int64(42200), np.int64(42520), np.int64(320)), (np.int64(42604), np.int64(43914), np.int64(1310)), (np.int64(44238), np.int64(44697), np.int64(459)), (np.int64(44933), np.int64(45228), np.int64(295)), (np.int64(45403), np.int64(46022), np.int64(619)), (np.int64(46132), np.int64(46764), np.int64(632)), (np.int64(46824), np.int64(47017), np.int64(193)), (np.int64(47120), np.int64(47417), np.int64(297)), (np.int64(47541), np.int64(50572), np.int64(3031)), (np.int64(50702), np.int64(51838), np.int64(1136)), (np.int64(52016), np.int64(52258), np.int64(242)), (np.int64(52475), np.int64(53008), np.int64(533)), (np.int64(53149), np.int64(53422), np.int64(273)), (np.int64(53755), np.int64(54063), np.int64(308)), (np.int64(54177), np.int64(54485), np.int64(308)), (np.int64(54608), np.int64(58210), np.int64(3602)), (np.int64(58744), np.int64(58976), np.int64(232)), (np.int64(59323), np.int64(59560), np.int64(237)), (np.int64(59694), np.int64(59960), np.int64(266)), (np.int64(60045), np.int64(60268), np.int64(223)), (np.int64(60445), np.int64(60678), np.int64(233)), (np.int64(61001), np.int64(61293), np.int64(292)), (np.int64(61504), np.int64(61748), np.int64(244)), (np.int64(61830), np.int64(62054), np.int64(224)), (np.int64(62160), np.int64(62762), np.int64(602)), (np.int64(62860), np.int64(63122), np.int64(262)), (np.int64(63229), np.int64(63870), np.int64(641)), (np.int64(64049), np.int64(64306), np.int64(257)), (np.int64(64393), np.int64(64637), np.int64(244)), (np.int64(64873), np.int64(66196), np.int64(1323)), (np.int64(66411), np.int64(66665), np.int64(254)), (np.int64(66752), np.int64(70728), np.int64(3976)), (np.int64(70933), np.int64(71390), np.int64(457)), (np.int64(71880), np.int64(72144), np.int64(264)), (np.int64(72290), np.int64(72738), np.int64(448)), (np.int64(72978), np.int64(73248), np.int64(270)), (np.int64(73340), np.int64(73750), np.int64(410)), (np.int64(74326), np.int64(74578), np.int64(252)), (np.int64(74770), np.int64(78837), np.int64(4067)), (np.int64(79069), np.int64(82232), np.int64(3163)), (np.int64(82364), np.int64(86127), np.int64(3763)), (np.int64(86298), np.int64(87908), np.int64(1610)), (np.int64(88118), np.int64(88351), np.int64(233)), (np.int64(88470), np.int64(89455), np.int64(985)), (np.int64(89668), np.int64(89947), np.int64(279)), (np.int64(90053), np.int64(90460), np.int64(407)), (np.int64(90530), np.int64(92695), np.int64(2165)), (np.int64(92754), np.int64(93079), np.int64(325)), (np.int64(93170), np.int64(93453), np.int64(283)), (np.int64(93576), np.int64(93889), np.int64(313)), (np.int64(93968), np.int64(94581), np.int64(613)), (np.int64(94696), np.int64(96034), np.int64(1338)), (np.int64(96242), np.int64(96550), np.int64(308)), (np.int64(96652), np.int64(97077), np.int64(425)), (np.int64(97154), np.int64(97427), np.int64(273)), (np.int64(97641), np.int64(98265), np.int64(624)), (np.int64(98370), np.int64(98544), np.int64(174)), (np.int64(98628), np.int64(98950), np.int64(322)), (np.int64(99040), np.int64(99551), np.int64(511)), (np.int64(99662), np.int64(99945), np.int64(283)), (np.int64(100148), np.int64(104660), np.int64(4512)), (np.int64(104729), np.int64(105079), np.int64(350)), (np.int64(105187), np.int64(105419), np.int64(232)), (np.int64(105514), np.int64(105776), np.int64(262)), (np.int64(105885), np.int64(107933), np.int64(2048)), (np.int64(108104), np.int64(108405), np.int64(301)), (np.int64(108815), np.int64(109072), np.int64(257)), (np.int64(109176), np.int64(110441), np.int64(1265)), (np.int64(110586), np.int64(113354), np.int64(2768)), (np.int64(113460), np.int64(115986), np.int64(2526)), (np.int64(116116), np.int64(116508), np.int64(392)), (np.int64(116568), np.int64(117227), np.int64(659)), (np.int64(117522), np.int64(117849), np.int64(327)), (np.int64(118084), np.int64(119463), np.int64(1379)), (np.int64(119532), np.int64(119781), np.int64(249)), (np.int64(119850), np.int64(120180), np.int64(330)), (np.int64(120271), np.int64(122098), np.int64(1827)), (np.int64(122236), np.int64(123230), np.int64(994)), (np.int64(123492), np.int64(123928), np.int64(436)), (np.int64(124087), np.int64(125591), np.int64(1504)), (np.int64(125846), np.int64(126142), np.int64(296)), (np.int64(126240), np.int64(126493), np.int64(253)), (np.int64(126628), np.int64(129091), np.int64(2463)), (np.int64(129382), np.int64(130054), np.int64(672)), (np.int64(130223), np.int64(135863), np.int64(5640)), (np.int64(135950), np.int64(138116), np.int64(2166)), (np.int64(138177), np.int64(140250), np.int64(2073)), (np.int64(140349), np.int64(140587), np.int64(238)), (np.int64(140687), np.int64(140914), np.int64(227)), (np.int64(140984), np.int64(144314), np.int64(3330)), (np.int64(144670), np.int64(144954), np.int64(284)), (np.int64(145038), np.int64(145274), np.int64(236)), (np.int64(145340), np.int64(147941), np.int64(2601)), (np.int64(148024), np.int64(148339), np.int64(315)), (np.int64(148675), np.int64(150831), np.int64(2156)), (np.int64(151040), np.int64(151268), np.int64(228)), (np.int64(151540), np.int64(152677), np.int64(1137)), (np.int64(152970), np.int64(153218), np.int64(248)), (np.int64(153289), np.int64(153907), np.int64(618)), (np.int64(154093), np.int64(154313), np.int64(220)), (np.int64(154401), np.int64(154699), np.int64(298)), (np.int64(154766), np.int64(155070), np.int64(304)), (np.int64(155707), np.int64(156154), np.int64(447)), (np.int64(156379), np.int64(156880), np.int64(501)), (np.int64(156962), np.int64(157577), np.int64(615)), (np.int64(157688), np.int64(157895), np.int64(207)), (np.int64(158096), np.int64(158616), np.int64(520)), (np.int64(159103), np.int64(160629), np.int64(1526)), (np.int64(160899), np.int64(162290), np.int64(1391)), (np.int64(162349), np.int64(164240), np.int64(1891)), (np.int64(164382), np.int64(164650), np.int64(268)), (np.int64(164850), np.int64(165236), np.int64(386)), (np.int64(165614), np.int64(166062), np.int64(448)), (np.int64(166123), np.int64(168854), np.int64(2731)), (np.int64(169037), np.int64(169839), np.int64(802)), (np.int64(169962), np.int64(170202), np.int64(240)), (np.int64(170423), np.int64(170639), np.int64(216)), (np.int64(170853), np.int64(172967), np.int64(2114)), (np.int64(173136), np.int64(175359), np.int64(2223)), (np.int64(175530), np.int64(176235), np.int64(705)), (np.int64(176375), np.int64(177067), np.int64(692)), (np.int64(177203), np.int64(177435), np.int64(232)), (np.int64(177522), np.int64(178081), np.int64(559)), (np.int64(178218), np.int64(178421), np.int64(203)), (np.int64(178549), np.int64(178785), np.int64(236)), (np.int64(178859), np.int64(179407), np.int64(548)), (np.int64(179496), np.int64(179722), np.int64(226)), (np.int64(179849), np.int64(181033), np.int64(1184)), (np.int64(181195), np.int64(181771), np.int64(576)), (np.int64(181894), np.int64(182099), np.int64(205)), (np.int64(182326), np.int64(184137), np.int64(1811)), (np.int64(184199), np.int64(184666), np.int64(467)), (np.int64(184744), np.int64(185010), np.int64(266)), (np.int64(185230), np.int64(186396), np.int64(1166)), (np.int64(186462), np.int64(186664), np.int64(202)), (np.int64(186730), np.int64(186935), np.int64(205)), (np.int64(187192), np.int64(187442), np.int64(250)), (np.int64(187560), np.int64(187804), np.int64(244)), (np.int64(188101), np.int64(189223), np.int64(1122)), (np.int64(189413), np.int64(189641), np.int64(228)), (np.int64(189833), np.int64(190054), np.int64(221)), (np.int64(190263), np.int64(191560), np.int64(1297)), (np.int64(191631), np.int64(192119), np.int64(488)), (np.int64(192233), np.int64(193897), np.int64(1664)), (np.int64(193990), np.int64(194288), np.int64(298)), (np.int64(194457), np.int64(195479), np.int64(1022)), (np.int64(195572), np.int64(195801), np.int64(229)), (np.int64(196026), np.int64(196600), np.int64(574)), (np.int64(196735), np.int64(197150), np.int64(415)), (np.int64(197459), np.int64(197704), np.int64(245)), (np.int64(197833), np.int64(198058), np.int64(225)), (np.int64(198201), np.int64(198766), np.int64(565)), (np.int64(199005), np.int64(199305), np.int64(300)), (np.int64(199516), np.int64(206396), np.int64(6880)), (np.int64(206485), np.int64(206883), np.int64(398)), (np.int64(206970), np.int64(207216), np.int64(246)), (np.int64(207313), np.int64(207566), np.int64(253)), (np.int64(208170), np.int64(210989), np.int64(2819)), (np.int64(211108), np.int64(212030), np.int64(922)), (np.int64(212235), np.int64(212477), np.int64(242)), (np.int64(212727), np.int64(212981), np.int64(254)), (np.int64(213073), np.int64(213395), np.int64(322)), (np.int64(213781), np.int64(214128), np.int64(347)), (np.int64(214204), np.int64(214612), np.int64(408)), (np.int64(214733), np.int64(214972), np.int64(239)), (np.int64(215107), np.int64(215299), np.int64(192)), (np.int64(215567), np.int64(215795), np.int64(228)), (np.int64(215898), np.int64(216194), np.int64(296)), (np.int64(216307), np.int64(217051), np.int64(744)), (np.int64(217425), np.int64(220084), np.int64(2659)), (np.int64(220350), np.int64(220559), np.int64(209)), (np.int64(220661), np.int64(221423), np.int64(762)), (np.int64(221671), np.int64(221888), np.int64(217)), (np.int64(221990), np.int64(224650), np.int64(2660)), (np.int64(224822), np.int64(225036), np.int64(214)), (np.int64(225108), np.int64(225670), np.int64(562)), (np.int64(225903), np.int64(226159), np.int64(256)), (np.int64(226247), np.int64(226527), np.int64(280)), (np.int64(227072), np.int64(227660), np.int64(588)), (np.int64(227811), np.int64(228040), np.int64(229)), (np.int64(228214), np.int64(228432), np.int64(218)), (np.int64(228519), np.int64(228733), np.int64(214)), (np.int64(228999), np.int64(229160), np.int64(161)), (np.int64(229232), np.int64(229715), np.int64(483)), (np.int64(229837), np.int64(230029), np.int64(192)), (np.int64(230166), np.int64(230435), np.int64(269)), (np.int64(230897), np.int64(232577), np.int64(1680)), (np.int64(232678), np.int64(233118), np.int64(440)), (np.int64(233248), np.int64(234297), np.int64(1049)), (np.int64(234704), np.int64(235259), np.int64(555)), (np.int64(235392), np.int64(235705), np.int64(313)), (np.int64(235930), np.int64(237116), np.int64(1186)), (np.int64(237303), np.int64(237605), np.int64(302)), (np.int64(237685), np.int64(237943), np.int64(258)), (np.int64(238011), np.int64(238225), np.int64(214)), (np.int64(238285), np.int64(238445), np.int64(160)), (np.int64(238504), np.int64(238770), np.int64(266)), (np.int64(238866), np.int64(239095), np.int64(229)), (np.int64(239418), np.int64(240109), np.int64(691)), (np.int64(240178), np.int64(240917), np.int64(739)), (np.int64(241138), np.int64(241397), np.int64(259)), (np.int64(241829), np.int64(242651), np.int64(822)), (np.int64(242917), np.int64(244254), np.int64(1337)), (np.int64(244446), np.int64(244665), np.int64(219)), (np.int64(245027), np.int64(245291), np.int64(264)), (np.int64(245517), np.int64(248518), np.int64(3001)), (np.int64(248603), np.int64(249498), np.int64(895)), (np.int64(249562), np.int64(249824), np.int64(262)), (np.int64(249960), np.int64(250826), np.int64(866)), (np.int64(250905), np.int64(251157), np.int64(252)), (np.int64(251228), np.int64(251469), np.int64(241)), (np.int64(251657), np.int64(252297), np.int64(640)), (np.int64(252506), np.int64(257585), np.int64(5079)), (np.int64(257661), np.int64(258052), np.int64(391)), (np.int64(258182), np.int64(258522), np.int64(340)), (np.int64(258626), np.int64(259397), np.int64(771)), (np.int64(259499), 261006, np.int64(1507))], 'cumulated_breaks_duration': np.int64(221752), 'events_direction': ([], [[np.int64(58976), np.int64(59323), np.int64(347)]]), 'pushed': 0, 'pulled': 1, 'pulling_ratio': 1.0, 'interaction_proportion': np.float64(0.15039501007639672), 'distance_moved': np.float64(12092108.649417114)}}\n",
      "{'fly_0_ball_0': {'nb_events': 120, 'max_event': ([np.int64(114445), np.int64(114882), np.int64(437)], 74), 'max_event_time': array([3946.37931034, 3961.44827586,   15.06896552]), 'final_event': ([np.int64(114445), np.int64(114882), np.int64(437)], 74), 'final_event_time': array([3946.37931034, 3961.44827586,   15.06896552]), 'significant_events': [[np.int64(27124), np.int64(27184), np.int64(60)], [np.int64(30305), np.int64(30396), np.int64(91)], [np.int64(30543), np.int64(30802), np.int64(259)], [np.int64(38969), np.int64(39184), np.int64(215)], [np.int64(44909), np.int64(45157), np.int64(248)], [np.int64(51267), np.int64(51577), np.int64(310)], [np.int64(54624), np.int64(54875), np.int64(251)], [np.int64(55138), np.int64(55543), np.int64(405)], [np.int64(55694), np.int64(56071), np.int64(377)], [np.int64(61292), np.int64(61481), np.int64(189)], [np.int64(63306), np.int64(63545), np.int64(239)], [np.int64(65909), np.int64(66161), np.int64(252)], [np.int64(66380), np.int64(66592), np.int64(212)], [np.int64(73280), np.int64(73593), np.int64(313)], [np.int64(74595), np.int64(74796), np.int64(201)], [np.int64(75978), np.int64(76162), np.int64(184)], [np.int64(76388), np.int64(76593), np.int64(205)], [np.int64(77129), np.int64(77382), np.int64(253)], [np.int64(79831), np.int64(80433), np.int64(602)], [np.int64(80927), np.int64(81147), np.int64(220)], [np.int64(83998), np.int64(84232), np.int64(234)], [np.int64(84837), np.int64(85138), np.int64(301)], [np.int64(85569), np.int64(85778), np.int64(209)], [np.int64(89102), np.int64(89325), np.int64(223)], [np.int64(89490), np.int64(89639), np.int64(149)], [np.int64(91445), np.int64(91774), np.int64(329)], [np.int64(92788), np.int64(93144), np.int64(356)], [np.int64(93972), np.int64(94259), np.int64(287)], [np.int64(101129), np.int64(101308), np.int64(179)], [np.int64(102466), np.int64(102698), np.int64(232)], [np.int64(105691), np.int64(106068), np.int64(377)], [np.int64(106802), np.int64(106867), np.int64(65)], [np.int64(107789), np.int64(107853), np.int64(64)], [np.int64(128418), np.int64(129033), np.int64(615)], [np.int64(133321), np.int64(133699), np.int64(378)], [np.int64(139591), np.int64(139886), np.int64(295)], [np.int64(144858), np.int64(145043), np.int64(185)], [np.int64(148257), np.int64(148496), np.int64(239)], [np.int64(149124), np.int64(149801), np.int64(677)], [np.int64(150230), np.int64(150739), np.int64(509)], [np.int64(155000), np.int64(155330), np.int64(330)], [np.int64(163860), np.int64(164179), np.int64(319)], [np.int64(175921), np.int64(176593), np.int64(672)], [np.int64(178835), np.int64(179125), np.int64(290)], [np.int64(185873), np.int64(186140), np.int64(267)], [np.int64(202468), np.int64(203333), np.int64(865)], [np.int64(203459), np.int64(207001), np.int64(3542)], [np.int64(207229), np.int64(211077), np.int64(3848)]], 'nb_significant_events': 48, 'first_significant_event': [np.int64(27124), np.int64(27184), np.int64(60)], 'first_significant_event_time': np.float64(935.3103448275862), 'aha_moment': [np.int64(27124), np.int64(27184), np.int64(60)], 'aha_moment_time': np.float64(935.3103448275862), 'insight_effect': np.float64(0.0), 'breaks': [(0, np.int64(8914), np.int64(8914)), (np.int64(9189), np.int64(9584), np.int64(395)), (np.int64(9913), np.int64(13609), np.int64(3696)), (np.int64(13814), np.int64(24145), np.int64(10331)), (np.int64(24205), np.int64(27124), np.int64(2919)), (np.int64(27184), np.int64(28785), np.int64(1601)), (np.int64(28904), np.int64(30305), np.int64(1401)), (np.int64(30396), np.int64(30543), np.int64(147)), (np.int64(30802), np.int64(34136), np.int64(3334)), (np.int64(34311), np.int64(35226), np.int64(915)), (np.int64(35349), np.int64(36557), np.int64(1208)), (np.int64(36706), np.int64(36995), np.int64(289)), (np.int64(37162), np.int64(38280), np.int64(1118)), (np.int64(38439), np.int64(38969), np.int64(530)), (np.int64(39184), np.int64(40107), np.int64(923)), (np.int64(40239), np.int64(42199), np.int64(1960)), (np.int64(42281), np.int64(42991), np.int64(710)), (np.int64(43061), np.int64(43401), np.int64(340)), (np.int64(43517), np.int64(43713), np.int64(196)), (np.int64(43852), np.int64(44909), np.int64(1057)), (np.int64(45157), np.int64(47639), np.int64(2482)), (np.int64(47762), np.int64(48316), np.int64(554)), (np.int64(48419), np.int64(49826), np.int64(1407)), (np.int64(49935), np.int64(50232), np.int64(297)), (np.int64(50312), np.int64(50645), np.int64(333)), (np.int64(50712), np.int64(51267), np.int64(555)), (np.int64(51577), np.int64(53347), np.int64(1770)), (np.int64(53528), np.int64(54624), np.int64(1096)), (np.int64(54875), np.int64(55138), np.int64(263)), (np.int64(55543), np.int64(55694), np.int64(151)), (np.int64(56071), np.int64(57549), np.int64(1478)), (np.int64(57613), np.int64(59335), np.int64(1722)), (np.int64(59436), np.int64(61292), np.int64(1856)), (np.int64(61481), np.int64(61737), np.int64(256)), (np.int64(61865), np.int64(62869), np.int64(1004)), (np.int64(63026), np.int64(63306), np.int64(280)), (np.int64(63545), np.int64(65909), np.int64(2364)), (np.int64(66161), np.int64(66380), np.int64(219)), (np.int64(66592), np.int64(68884), np.int64(2292)), (np.int64(69038), np.int64(71256), np.int64(2218)), (np.int64(71425), np.int64(71807), np.int64(382)), (np.int64(72097), np.int64(73280), np.int64(1183)), (np.int64(73593), np.int64(74595), np.int64(1002)), (np.int64(74796), np.int64(75978), np.int64(1182)), (np.int64(76162), np.int64(76388), np.int64(226)), (np.int64(76593), np.int64(77129), np.int64(536)), (np.int64(77382), np.int64(77933), np.int64(551)), (np.int64(78014), np.int64(78866), np.int64(852)), (np.int64(79068), np.int64(79252), np.int64(184)), (np.int64(79447), np.int64(79831), np.int64(384)), (np.int64(80433), np.int64(80927), np.int64(494)), (np.int64(81147), np.int64(81972), np.int64(825)), (np.int64(82051), np.int64(82271), np.int64(220)), (np.int64(82427), np.int64(83998), np.int64(1571)), (np.int64(84232), np.int64(84837), np.int64(605)), (np.int64(85138), np.int64(85569), np.int64(431)), (np.int64(85778), np.int64(87778), np.int64(2000)), (np.int64(87995), np.int64(88640), np.int64(645)), (np.int64(88743), np.int64(89102), np.int64(359)), (np.int64(89325), np.int64(89490), np.int64(165)), (np.int64(89639), np.int64(90069), np.int64(430)), (np.int64(90622), np.int64(90922), np.int64(300)), (np.int64(91073), np.int64(91445), np.int64(372)), (np.int64(91774), np.int64(92788), np.int64(1014)), (np.int64(93144), np.int64(93972), np.int64(828)), (np.int64(94259), np.int64(94585), np.int64(326)), (np.int64(94697), np.int64(96568), np.int64(1871)), (np.int64(96756), np.int64(97448), np.int64(692)), (np.int64(97548), np.int64(101129), np.int64(3581)), (np.int64(101308), np.int64(102466), np.int64(1158)), (np.int64(102698), np.int64(104728), np.int64(2030)), (np.int64(104912), np.int64(105691), np.int64(779)), (np.int64(106068), np.int64(106802), np.int64(734)), (np.int64(106867), np.int64(107789), np.int64(922)), (np.int64(107853), np.int64(114445), np.int64(6592)), (np.int64(114882), np.int64(115702), np.int64(820)), (np.int64(115840), np.int64(118688), np.int64(2848)), (np.int64(118748), np.int64(119753), np.int64(1005)), (np.int64(119856), np.int64(121668), np.int64(1812)), (np.int64(122044), np.int64(122570), np.int64(526)), (np.int64(122652), np.int64(123108), np.int64(456)), (np.int64(123232), np.int64(123673), np.int64(441)), (np.int64(123940), np.int64(126516), np.int64(2576)), (np.int64(126780), np.int64(128418), np.int64(1638)), (np.int64(129033), np.int64(131186), np.int64(2153)), (np.int64(131341), np.int64(132506), np.int64(1165)), (np.int64(133026), np.int64(133321), np.int64(295)), (np.int64(133699), np.int64(137618), np.int64(3919)), (np.int64(137730), np.int64(139591), np.int64(1861)), (np.int64(139886), np.int64(140122), np.int64(236)), (np.int64(140425), np.int64(141693), np.int64(1268)), (np.int64(141860), np.int64(144858), np.int64(2998)), (np.int64(145043), np.int64(148257), np.int64(3214)), (np.int64(148496), np.int64(148704), np.int64(208)), (np.int64(148914), np.int64(149124), np.int64(210)), (np.int64(149801), np.int64(150230), np.int64(429)), (np.int64(150739), np.int64(155000), np.int64(4261)), (np.int64(155330), np.int64(160801), np.int64(5471)), (np.int64(161010), np.int64(163860), np.int64(2850)), (np.int64(164179), np.int64(167062), np.int64(2883)), (np.int64(167338), np.int64(170763), np.int64(3425)), (np.int64(170959), np.int64(172570), np.int64(1611)), (np.int64(172837), np.int64(173618), np.int64(781)), (np.int64(174101), np.int64(175921), np.int64(1820)), (np.int64(176593), np.int64(177078), np.int64(485)), (np.int64(177438), np.int64(178835), np.int64(1397)), (np.int64(179125), np.int64(181220), np.int64(2095)), (np.int64(181975), np.int64(183453), np.int64(1478)), (np.int64(183569), np.int64(184342), np.int64(773)), (np.int64(184612), np.int64(185873), np.int64(1261)), (np.int64(186140), np.int64(186781), np.int64(641)), (np.int64(186948), np.int64(187311), np.int64(363)), (np.int64(188067), np.int64(188712), np.int64(645)), (np.int64(188869), np.int64(190576), np.int64(1707)), (np.int64(190722), np.int64(202468), np.int64(11746)), (np.int64(203333), np.int64(203459), np.int64(126)), (np.int64(207001), np.int64(207229), np.int64(228)), (np.int64(211077), np.int64(214165), np.int64(3088)), (np.int64(214685), np.int64(216177), np.int64(1492)), (np.int64(217606), np.int64(247577), np.int64(29971)), (np.int64(247695), 261006, np.int64(13311))], 'cumulated_breaks_duration': np.int64(223994), 'events_direction': ([[np.int64(38969), np.int64(39184), np.int64(215)], [np.int64(44909), np.int64(45157), np.int64(248)], [np.int64(61292), np.int64(61481), np.int64(189)], [np.int64(63306), np.int64(63545), np.int64(239)], [np.int64(76388), np.int64(76593), np.int64(205)], [np.int64(80927), np.int64(81147), np.int64(220)], [np.int64(89490), np.int64(89639), np.int64(149)], [np.int64(91445), np.int64(91774), np.int64(329)], [np.int64(92788), np.int64(93144), np.int64(356)], [np.int64(102466), np.int64(102698), np.int64(232)], [np.int64(144858), np.int64(145043), np.int64(185)], [np.int64(148257), np.int64(148496), np.int64(239)], [np.int64(149124), np.int64(149801), np.int64(677)], [np.int64(175921), np.int64(176593), np.int64(672)], [np.int64(202468), np.int64(203333), np.int64(865)]], [[np.int64(27124), np.int64(27184), np.int64(60)], [np.int64(30305), np.int64(30396), np.int64(91)], [np.int64(30543), np.int64(30802), np.int64(259)], [np.int64(51267), np.int64(51577), np.int64(310)], [np.int64(54624), np.int64(54875), np.int64(251)], [np.int64(55138), np.int64(55543), np.int64(405)], [np.int64(55694), np.int64(56071), np.int64(377)], [np.int64(65909), np.int64(66161), np.int64(252)], [np.int64(66380), np.int64(66592), np.int64(212)], [np.int64(73280), np.int64(73593), np.int64(313)], [np.int64(74595), np.int64(74796), np.int64(201)], [np.int64(75978), np.int64(76162), np.int64(184)], [np.int64(77129), np.int64(77382), np.int64(253)], [np.int64(79831), np.int64(80433), np.int64(602)], [np.int64(83998), np.int64(84232), np.int64(234)], [np.int64(84837), np.int64(85138), np.int64(301)], [np.int64(85569), np.int64(85778), np.int64(209)], [np.int64(89102), np.int64(89325), np.int64(223)], [np.int64(93972), np.int64(94259), np.int64(287)], [np.int64(101129), np.int64(101308), np.int64(179)], [np.int64(105691), np.int64(106068), np.int64(377)], [np.int64(106802), np.int64(106867), np.int64(65)], [np.int64(107789), np.int64(107853), np.int64(64)], [np.int64(128418), np.int64(129033), np.int64(615)], [np.int64(133321), np.int64(133699), np.int64(378)], [np.int64(139591), np.int64(139886), np.int64(295)], [np.int64(150230), np.int64(150739), np.int64(509)], [np.int64(155000), np.int64(155330), np.int64(330)], [np.int64(163860), np.int64(164179), np.int64(319)], [np.int64(178835), np.int64(179125), np.int64(290)], [np.int64(185873), np.int64(186140), np.int64(267)], [np.int64(203459), np.int64(207001), np.int64(3542)], [np.int64(207229), np.int64(211077), np.int64(3848)]]), 'pushed': 15, 'pulled': 33, 'pulling_ratio': 0.6875, 'interaction_proportion': np.float64(0.14180516922982614), 'distance_moved': np.float64(42435490.38593846)}, 'fly_0_ball_1': {'nb_events': 55, 'max_event': ([np.int64(197062), np.int64(197340), np.int64(278)], 41), 'max_event_time': array([6795.24137931, 6804.82758621,    9.5862069 ]), 'final_event': (None, None), 'final_event_time': None, 'significant_events': [[np.int64(116587), np.int64(116743), np.int64(156)], [np.int64(135918), np.int64(136049), np.int64(131)], [np.int64(192311), np.int64(192988), np.int64(677)], [np.int64(197062), np.int64(197340), np.int64(278)], [np.int64(211662), np.int64(213193), np.int64(1531)], [np.int64(217847), np.int64(218583), np.int64(736)], [np.int64(219231), np.int64(220299), np.int64(1068)], [np.int64(220891), np.int64(223510), np.int64(2619)], [np.int64(225591), np.int64(227234), np.int64(1643)], [np.int64(227677), np.int64(234270), np.int64(6593)]], 'nb_significant_events': 10, 'first_significant_event': [np.int64(116587), np.int64(116743), np.int64(156)], 'first_significant_event_time': np.float64(4020.2413793103447), 'aha_moment': [np.int64(192311), np.int64(192988), np.int64(677)], 'aha_moment_time': np.float64(6631.413793103448), 'insight_effect': np.float64(0.2130553458446833), 'breaks': [(0, np.int64(108697), np.int64(108697)), (np.int64(108820), np.int64(111155), np.int64(2335)), (np.int64(111774), np.int64(112096), np.int64(322)), (np.int64(112189), np.int64(113159), np.int64(970)), (np.int64(113224), np.int64(116587), np.int64(3363)), (np.int64(116743), np.int64(118239), np.int64(1496)), (np.int64(118328), np.int64(127014), np.int64(8686)), (np.int64(127093), np.int64(129726), np.int64(2633)), (np.int64(129917), np.int64(133929), np.int64(4012)), (np.int64(134135), np.int64(135918), np.int64(1783)), (np.int64(136049), np.int64(136381), np.int64(332)), (np.int64(136445), np.int64(137975), np.int64(1530)), (np.int64(138061), np.int64(139052), np.int64(991)), (np.int64(139144), np.int64(142511), np.int64(3367)), (np.int64(142666), np.int64(144358), np.int64(1692)), (np.int64(144531), np.int64(145498), np.int64(967)), (np.int64(145638), np.int64(146677), np.int64(1039)), (np.int64(146751), np.int64(151796), np.int64(5045)), (np.int64(152416), np.int64(153423), np.int64(1007)), (np.int64(153738), np.int64(156147), np.int64(2409)), (np.int64(156277), np.int64(156717), np.int64(440)), (np.int64(156852), np.int64(157387), np.int64(535)), (np.int64(157487), np.int64(157808), np.int64(321)), (np.int64(157941), np.int64(158621), np.int64(680)), (np.int64(158765), np.int64(159148), np.int64(383)), (np.int64(159707), np.int64(162797), np.int64(3090)), (np.int64(162911), np.int64(163303), np.int64(392)), (np.int64(163426), np.int64(164991), np.int64(1565)), (np.int64(165313), np.int64(165723), np.int64(410)), (np.int64(165830), np.int64(167564), np.int64(1734)), (np.int64(167711), np.int64(168134), np.int64(423)), (np.int64(168311), np.int64(171449), np.int64(3138)), (np.int64(171593), np.int64(174362), np.int64(2769)), (np.int64(174580), np.int64(178200), np.int64(3620)), (np.int64(178377), np.int64(180034), np.int64(1657)), (np.int64(180119), np.int64(189213), np.int64(9094)), (np.int64(189741), np.int64(192311), np.int64(2570)), (np.int64(192988), np.int64(193946), np.int64(958)), (np.int64(194136), np.int64(194750), np.int64(614)), (np.int64(194930), np.int64(195596), np.int64(666)), (np.int64(195731), np.int64(196343), np.int64(612)), (np.int64(196455), np.int64(197062), np.int64(607)), (np.int64(197340), np.int64(197984), np.int64(644)), (np.int64(198119), np.int64(198849), np.int64(730)), (np.int64(199077), np.int64(200130), np.int64(1053)), (np.int64(201555), np.int64(211662), np.int64(10107)), (np.int64(213193), np.int64(217847), np.int64(4654)), (np.int64(218583), np.int64(219231), np.int64(648)), (np.int64(220299), np.int64(220891), np.int64(592)), (np.int64(223510), np.int64(223848), np.int64(338)), (np.int64(224297), np.int64(225591), np.int64(1294)), (np.int64(227234), np.int64(227677), np.int64(443)), (np.int64(234270), np.int64(235419), np.int64(1149)), (np.int64(241807), np.int64(245904), np.int64(4097)), (np.int64(246241), np.int64(247943), np.int64(1702)), (np.int64(258112), 261006, np.int64(2894))], 'cumulated_breaks_duration': np.int64(219299), 'events_direction': ([[np.int64(116587), np.int64(116743), np.int64(156)], [np.int64(135918), np.int64(136049), np.int64(131)], [np.int64(192311), np.int64(192988), np.int64(677)], [np.int64(197062), np.int64(197340), np.int64(278)], [np.int64(217847), np.int64(218583), np.int64(736)], [np.int64(220891), np.int64(223510), np.int64(2619)], [np.int64(227677), np.int64(234270), np.int64(6593)]], [[np.int64(211662), np.int64(213193), np.int64(1531)], [np.int64(219231), np.int64(220299), np.int64(1068)], [np.int64(225591), np.int64(227234), np.int64(1643)]]), 'pushed': 7, 'pulled': 3, 'pulling_ratio': 0.3, 'interaction_proportion': np.float64(0.159793261457591), 'distance_moved': np.float64(6031626.427367555)}}\n"
     ]
    }
   ],
   "source": [
    "for fly in TestExp_F1.flies:\n",
    "    print(fly.metrics)\n"
   ]
  },
  {
   "cell_type": "code",
   "execution_count": 56,
   "metadata": {},
   "outputs": [
    {
     "data": {
      "text/plain": [
       "<module 'utils_behavior.Ballpushing_utils' from '/home/durrieu/utils_behavior/utils_behavior/Ballpushing_utils.py'>"
      ]
     },
     "execution_count": 56,
     "metadata": {},
     "output_type": "execute_result"
    }
   ],
   "source": [
    "importlib.reload(Ballpushing_utils)"
   ]
  },
  {
   "cell_type": "code",
   "execution_count": 66,
   "metadata": {},
   "outputs": [],
   "source": [
    "TestDataset = Ballpushing_utils.Dataset(TestExp_F1)"
   ]
  },
  {
   "cell_type": "code",
   "execution_count": 58,
   "metadata": {},
   "outputs": [
    {
     "name": "stdout",
     "output_type": "stream",
     "text": [
      "Dataset with 18 flies and 1 experiments\n",
      "keyword: \n"
     ]
    }
   ],
   "source": [
    "print(TestDataset)"
   ]
  },
  {
   "cell_type": "code",
   "execution_count": 59,
   "metadata": {},
   "outputs": [
    {
     "data": {
      "text/plain": [
       "[]"
      ]
     },
     "execution_count": 59,
     "metadata": {},
     "output_type": "execute_result"
    }
   ],
   "source": [
    "TestDataset.metadata"
   ]
  },
  {
   "cell_type": "code",
   "execution_count": 67,
   "metadata": {},
   "outputs": [],
   "source": [
    "TestDataset_coordinates = TestDataset.generate_dataset()"
   ]
  },
  {
   "cell_type": "code",
   "execution_count": 68,
   "metadata": {},
   "outputs": [
    {
     "data": {
      "text/html": [
       "<div>\n",
       "<style scoped>\n",
       "    .dataframe tbody tr th:only-of-type {\n",
       "        vertical-align: middle;\n",
       "    }\n",
       "\n",
       "    .dataframe tbody tr th {\n",
       "        vertical-align: top;\n",
       "    }\n",
       "\n",
       "    .dataframe thead th {\n",
       "        text-align: right;\n",
       "    }\n",
       "</style>\n",
       "<table border=\"1\" class=\"dataframe\">\n",
       "  <thead>\n",
       "    <tr style=\"text-align: right;\">\n",
       "      <th></th>\n",
       "      <th>time</th>\n",
       "      <th>frame</th>\n",
       "      <th>adjusted_time</th>\n",
       "      <th>x_fly_0</th>\n",
       "      <th>y_fly_0</th>\n",
       "      <th>distance_fly_0</th>\n",
       "      <th>x_ball_0</th>\n",
       "      <th>y_ball_0</th>\n",
       "      <th>distance_ball_0</th>\n",
       "      <th>fly</th>\n",
       "      <th>...</th>\n",
       "      <th>Orientation</th>\n",
       "      <th>Light</th>\n",
       "      <th>Crossing</th>\n",
       "      <th>Pretraining</th>\n",
       "      <th>Unlocked</th>\n",
       "      <th></th>\n",
       "      <th>F1_condition</th>\n",
       "      <th>x_ball_1</th>\n",
       "      <th>y_ball_1</th>\n",
       "      <th>distance_ball_1</th>\n",
       "    </tr>\n",
       "  </thead>\n",
       "  <tbody>\n",
       "    <tr>\n",
       "      <th>0</th>\n",
       "      <td>0.034483</td>\n",
       "      <td>1</td>\n",
       "      <td>-3824.724138</td>\n",
       "      <td>0.000000</td>\n",
       "      <td>0.000000</td>\n",
       "      <td>0.000000</td>\n",
       "      <td>193.522196</td>\n",
       "      <td>-73.328572</td>\n",
       "      <td>0.000000</td>\n",
       "      <td>240821_F1_3mm_ends_Videos_Checked_arena8_Left</td>\n",
       "      <td>...</td>\n",
       "      <td>std</td>\n",
       "      <td>on</td>\n",
       "      <td>1</td>\n",
       "      <td>n</td>\n",
       "      <td>nn</td>\n",
       "      <td></td>\n",
       "      <td>control</td>\n",
       "      <td>NaN</td>\n",
       "      <td>NaN</td>\n",
       "      <td>NaN</td>\n",
       "    </tr>\n",
       "    <tr>\n",
       "      <th>1</th>\n",
       "      <td>0.068966</td>\n",
       "      <td>2</td>\n",
       "      <td>-3824.689655</td>\n",
       "      <td>0.043280</td>\n",
       "      <td>0.044952</td>\n",
       "      <td>0.062401</td>\n",
       "      <td>193.522271</td>\n",
       "      <td>-73.327362</td>\n",
       "      <td>0.001211</td>\n",
       "      <td>240821_F1_3mm_ends_Videos_Checked_arena8_Left</td>\n",
       "      <td>...</td>\n",
       "      <td>std</td>\n",
       "      <td>on</td>\n",
       "      <td>1</td>\n",
       "      <td>n</td>\n",
       "      <td>nn</td>\n",
       "      <td></td>\n",
       "      <td>control</td>\n",
       "      <td>NaN</td>\n",
       "      <td>NaN</td>\n",
       "      <td>NaN</td>\n",
       "    </tr>\n",
       "    <tr>\n",
       "      <th>2</th>\n",
       "      <td>0.103448</td>\n",
       "      <td>3</td>\n",
       "      <td>-3824.655172</td>\n",
       "      <td>0.086561</td>\n",
       "      <td>0.089905</td>\n",
       "      <td>0.124802</td>\n",
       "      <td>193.522346</td>\n",
       "      <td>-73.326153</td>\n",
       "      <td>0.002423</td>\n",
       "      <td>240821_F1_3mm_ends_Videos_Checked_arena8_Left</td>\n",
       "      <td>...</td>\n",
       "      <td>std</td>\n",
       "      <td>on</td>\n",
       "      <td>1</td>\n",
       "      <td>n</td>\n",
       "      <td>nn</td>\n",
       "      <td></td>\n",
       "      <td>control</td>\n",
       "      <td>NaN</td>\n",
       "      <td>NaN</td>\n",
       "      <td>NaN</td>\n",
       "    </tr>\n",
       "    <tr>\n",
       "      <th>3</th>\n",
       "      <td>0.137931</td>\n",
       "      <td>4</td>\n",
       "      <td>-3824.620690</td>\n",
       "      <td>0.129841</td>\n",
       "      <td>0.134857</td>\n",
       "      <td>0.187203</td>\n",
       "      <td>193.522420</td>\n",
       "      <td>-73.324944</td>\n",
       "      <td>0.003634</td>\n",
       "      <td>240821_F1_3mm_ends_Videos_Checked_arena8_Left</td>\n",
       "      <td>...</td>\n",
       "      <td>std</td>\n",
       "      <td>on</td>\n",
       "      <td>1</td>\n",
       "      <td>n</td>\n",
       "      <td>nn</td>\n",
       "      <td></td>\n",
       "      <td>control</td>\n",
       "      <td>NaN</td>\n",
       "      <td>NaN</td>\n",
       "      <td>NaN</td>\n",
       "    </tr>\n",
       "    <tr>\n",
       "      <th>4</th>\n",
       "      <td>0.172414</td>\n",
       "      <td>5</td>\n",
       "      <td>-3824.586207</td>\n",
       "      <td>0.173121</td>\n",
       "      <td>0.179809</td>\n",
       "      <td>0.249604</td>\n",
       "      <td>193.522495</td>\n",
       "      <td>-73.323735</td>\n",
       "      <td>0.004846</td>\n",
       "      <td>240821_F1_3mm_ends_Videos_Checked_arena8_Left</td>\n",
       "      <td>...</td>\n",
       "      <td>std</td>\n",
       "      <td>on</td>\n",
       "      <td>1</td>\n",
       "      <td>n</td>\n",
       "      <td>nn</td>\n",
       "      <td></td>\n",
       "      <td>control</td>\n",
       "      <td>NaN</td>\n",
       "      <td>NaN</td>\n",
       "      <td>NaN</td>\n",
       "    </tr>\n",
       "    <tr>\n",
       "      <th>...</th>\n",
       "      <td>...</td>\n",
       "      <td>...</td>\n",
       "      <td>...</td>\n",
       "      <td>...</td>\n",
       "      <td>...</td>\n",
       "      <td>...</td>\n",
       "      <td>...</td>\n",
       "      <td>...</td>\n",
       "      <td>...</td>\n",
       "      <td>...</td>\n",
       "      <td>...</td>\n",
       "      <td>...</td>\n",
       "      <td>...</td>\n",
       "      <td>...</td>\n",
       "      <td>...</td>\n",
       "      <td>...</td>\n",
       "      <td>...</td>\n",
       "      <td>...</td>\n",
       "      <td>...</td>\n",
       "      <td>...</td>\n",
       "      <td>...</td>\n",
       "    </tr>\n",
       "    <tr>\n",
       "      <th>108499</th>\n",
       "      <td>3741.379310</td>\n",
       "      <td>108500</td>\n",
       "      <td>-47.068966</td>\n",
       "      <td>10.929188</td>\n",
       "      <td>-231.967009</td>\n",
       "      <td>232.224332</td>\n",
       "      <td>13.470580</td>\n",
       "      <td>-408.303889</td>\n",
       "      <td>172.516296</td>\n",
       "      <td>240821_F1_3mm_ends_Videos_Checked_arena9_Left</td>\n",
       "      <td>...</td>\n",
       "      <td>std</td>\n",
       "      <td>on</td>\n",
       "      <td>1</td>\n",
       "      <td>y</td>\n",
       "      <td>yy</td>\n",
       "      <td></td>\n",
       "      <td>pretrained_unlocked</td>\n",
       "      <td>202.075195</td>\n",
       "      <td>-77.317457</td>\n",
       "      <td>1.919479</td>\n",
       "    </tr>\n",
       "    <tr>\n",
       "      <th>108500</th>\n",
       "      <td>3741.413793</td>\n",
       "      <td>108501</td>\n",
       "      <td>-47.034483</td>\n",
       "      <td>10.883633</td>\n",
       "      <td>-233.614116</td>\n",
       "      <td>233.867503</td>\n",
       "      <td>12.597173</td>\n",
       "      <td>-409.852148</td>\n",
       "      <td>174.042649</td>\n",
       "      <td>240821_F1_3mm_ends_Videos_Checked_arena9_Left</td>\n",
       "      <td>...</td>\n",
       "      <td>std</td>\n",
       "      <td>on</td>\n",
       "      <td>1</td>\n",
       "      <td>y</td>\n",
       "      <td>yy</td>\n",
       "      <td></td>\n",
       "      <td>pretrained_unlocked</td>\n",
       "      <td>202.075195</td>\n",
       "      <td>-77.317457</td>\n",
       "      <td>1.919479</td>\n",
       "    </tr>\n",
       "    <tr>\n",
       "      <th>108501</th>\n",
       "      <td>3741.448276</td>\n",
       "      <td>108502</td>\n",
       "      <td>-47.000000</td>\n",
       "      <td>10.839357</td>\n",
       "      <td>-235.281614</td>\n",
       "      <td>235.531165</td>\n",
       "      <td>11.723815</td>\n",
       "      <td>-411.400291</td>\n",
       "      <td>175.573616</td>\n",
       "      <td>240821_F1_3mm_ends_Videos_Checked_arena9_Left</td>\n",
       "      <td>...</td>\n",
       "      <td>std</td>\n",
       "      <td>on</td>\n",
       "      <td>1</td>\n",
       "      <td>y</td>\n",
       "      <td>yy</td>\n",
       "      <td></td>\n",
       "      <td>pretrained_unlocked</td>\n",
       "      <td>202.075195</td>\n",
       "      <td>-77.317457</td>\n",
       "      <td>1.919479</td>\n",
       "    </tr>\n",
       "    <tr>\n",
       "      <th>108502</th>\n",
       "      <td>3741.482759</td>\n",
       "      <td>108503</td>\n",
       "      <td>-46.965517</td>\n",
       "      <td>10.796188</td>\n",
       "      <td>-236.895962</td>\n",
       "      <td>237.141845</td>\n",
       "      <td>10.850425</td>\n",
       "      <td>-412.948344</td>\n",
       "      <td>177.109097</td>\n",
       "      <td>240821_F1_3mm_ends_Videos_Checked_arena9_Left</td>\n",
       "      <td>...</td>\n",
       "      <td>std</td>\n",
       "      <td>on</td>\n",
       "      <td>1</td>\n",
       "      <td>y</td>\n",
       "      <td>yy</td>\n",
       "      <td></td>\n",
       "      <td>pretrained_unlocked</td>\n",
       "      <td>202.075195</td>\n",
       "      <td>-77.317457</td>\n",
       "      <td>1.919479</td>\n",
       "    </tr>\n",
       "    <tr>\n",
       "      <th>108503</th>\n",
       "      <td>3741.517241</td>\n",
       "      <td>108504</td>\n",
       "      <td>-46.931034</td>\n",
       "      <td>10.793801</td>\n",
       "      <td>-238.469227</td>\n",
       "      <td>238.713382</td>\n",
       "      <td>9.977192</td>\n",
       "      <td>-414.496656</td>\n",
       "      <td>178.649325</td>\n",
       "      <td>240821_F1_3mm_ends_Videos_Checked_arena9_Left</td>\n",
       "      <td>...</td>\n",
       "      <td>std</td>\n",
       "      <td>on</td>\n",
       "      <td>1</td>\n",
       "      <td>y</td>\n",
       "      <td>yy</td>\n",
       "      <td></td>\n",
       "      <td>pretrained_unlocked</td>\n",
       "      <td>202.075195</td>\n",
       "      <td>-77.317457</td>\n",
       "      <td>1.919479</td>\n",
       "    </tr>\n",
       "  </tbody>\n",
       "</table>\n",
       "<p>3756021 rows × 28 columns</p>\n",
       "</div>"
      ],
      "text/plain": [
       "               time   frame  adjusted_time    x_fly_0     y_fly_0  \\\n",
       "0          0.034483       1   -3824.724138   0.000000    0.000000   \n",
       "1          0.068966       2   -3824.689655   0.043280    0.044952   \n",
       "2          0.103448       3   -3824.655172   0.086561    0.089905   \n",
       "3          0.137931       4   -3824.620690   0.129841    0.134857   \n",
       "4          0.172414       5   -3824.586207   0.173121    0.179809   \n",
       "...             ...     ...            ...        ...         ...   \n",
       "108499  3741.379310  108500     -47.068966  10.929188 -231.967009   \n",
       "108500  3741.413793  108501     -47.034483  10.883633 -233.614116   \n",
       "108501  3741.448276  108502     -47.000000  10.839357 -235.281614   \n",
       "108502  3741.482759  108503     -46.965517  10.796188 -236.895962   \n",
       "108503  3741.517241  108504     -46.931034  10.793801 -238.469227   \n",
       "\n",
       "        distance_fly_0    x_ball_0    y_ball_0  distance_ball_0  \\\n",
       "0             0.000000  193.522196  -73.328572         0.000000   \n",
       "1             0.062401  193.522271  -73.327362         0.001211   \n",
       "2             0.124802  193.522346  -73.326153         0.002423   \n",
       "3             0.187203  193.522420  -73.324944         0.003634   \n",
       "4             0.249604  193.522495  -73.323735         0.004846   \n",
       "...                ...         ...         ...              ...   \n",
       "108499      232.224332   13.470580 -408.303889       172.516296   \n",
       "108500      233.867503   12.597173 -409.852148       174.042649   \n",
       "108501      235.531165   11.723815 -411.400291       175.573616   \n",
       "108502      237.141845   10.850425 -412.948344       177.109097   \n",
       "108503      238.713382    9.977192 -414.496656       178.649325   \n",
       "\n",
       "                                                  fly  ... Orientation Light  \\\n",
       "0       240821_F1_3mm_ends_Videos_Checked_arena8_Left  ...         std    on   \n",
       "1       240821_F1_3mm_ends_Videos_Checked_arena8_Left  ...         std    on   \n",
       "2       240821_F1_3mm_ends_Videos_Checked_arena8_Left  ...         std    on   \n",
       "3       240821_F1_3mm_ends_Videos_Checked_arena8_Left  ...         std    on   \n",
       "4       240821_F1_3mm_ends_Videos_Checked_arena8_Left  ...         std    on   \n",
       "...                                               ...  ...         ...   ...   \n",
       "108499  240821_F1_3mm_ends_Videos_Checked_arena9_Left  ...         std    on   \n",
       "108500  240821_F1_3mm_ends_Videos_Checked_arena9_Left  ...         std    on   \n",
       "108501  240821_F1_3mm_ends_Videos_Checked_arena9_Left  ...         std    on   \n",
       "108502  240821_F1_3mm_ends_Videos_Checked_arena9_Left  ...         std    on   \n",
       "108503  240821_F1_3mm_ends_Videos_Checked_arena9_Left  ...         std    on   \n",
       "\n",
       "       Crossing Pretraining Unlocked            F1_condition    x_ball_1  \\\n",
       "0             1           n       nn                 control         NaN   \n",
       "1             1           n       nn                 control         NaN   \n",
       "2             1           n       nn                 control         NaN   \n",
       "3             1           n       nn                 control         NaN   \n",
       "4             1           n       nn                 control         NaN   \n",
       "...         ...         ...      ... ..                  ...         ...   \n",
       "108499        1           y       yy     pretrained_unlocked  202.075195   \n",
       "108500        1           y       yy     pretrained_unlocked  202.075195   \n",
       "108501        1           y       yy     pretrained_unlocked  202.075195   \n",
       "108502        1           y       yy     pretrained_unlocked  202.075195   \n",
       "108503        1           y       yy     pretrained_unlocked  202.075195   \n",
       "\n",
       "         y_ball_1 distance_ball_1  \n",
       "0             NaN             NaN  \n",
       "1             NaN             NaN  \n",
       "2             NaN             NaN  \n",
       "3             NaN             NaN  \n",
       "4             NaN             NaN  \n",
       "...           ...             ...  \n",
       "108499 -77.317457        1.919479  \n",
       "108500 -77.317457        1.919479  \n",
       "108501 -77.317457        1.919479  \n",
       "108502 -77.317457        1.919479  \n",
       "108503 -77.317457        1.919479  \n",
       "\n",
       "[3756021 rows x 28 columns]"
      ]
     },
     "execution_count": 68,
     "metadata": {},
     "output_type": "execute_result"
    }
   ],
   "source": [
    "TestDataset_coordinates"
   ]
  },
  {
   "cell_type": "code",
   "execution_count": 62,
   "metadata": {},
   "outputs": [
    {
     "data": {
      "text/plain": [
       "Index(['time', 'frame', 'adjusted_time', 'x_fly_0', 'y_fly_0',\n",
       "       'distance_fly_0', 'x_ball_0', 'y_ball_0', 'distance_ball_0', 'fly',\n",
       "       'flypath', 'experiment', 'Nickname', 'Brain region', 'Date', 'Genotype',\n",
       "       'Period', 'FeedingState', 'Orientation', 'Light', 'Crossing',\n",
       "       'Pretraining', 'Unlocked', '', 'x_ball_1', 'y_ball_1',\n",
       "       'distance_ball_1'],\n",
       "      dtype='object')"
      ]
     },
     "execution_count": 62,
     "metadata": {},
     "output_type": "execute_result"
    }
   ],
   "source": [
    "TestDataset_coordinates.columns"
   ]
  },
  {
   "cell_type": "code",
   "execution_count": null,
   "metadata": {},
   "outputs": [
    {
     "data": {
      "image/png": "[encoded data removed]",
      "text/plain": [
       "<Figure size 640x480 with 1 Axes>"
      ]
     },
     "metadata": {},
     "output_type": "display_data"
    }
   ],
   "source": [
    "import seaborn as sns\n",
    "import matplotlib.pyplot as plt\n",
    "\n",
    "# Define the downsampling factor\n",
    "downsample_factor = (29*5)  # Adjust this value as needed\n",
    "\n",
    "# Reset the index of the DataFrame to avoid duplicate labels\n",
    "TestDataset_coordinates = TestDataset_coordinates.reset_index(drop=True)\n",
    "\n",
    "# Filter the DataFrame to include only rows where adjusted_time is positive\n",
    "filtered_data = TestDataset_coordinates[TestDataset_coordinates[\"adjusted_time\"] >= 0]\n",
    "\n",
    "# Downsample the DataFrame by selecting every nth row\n",
    "downsampled_data = filtered_data.iloc[::downsample_factor, :]\n",
    "\n",
    "# Plot the data\n",
    "sns.lineplot(\n",
    "    x=\"adjusted_time\",\n",
    "    y=\"distance_ball_0\",\n",
    "    hue=\"F1_condition\",\n",
    "    data=downsampled_data[downsampled_data[\"F1_condition\"] == \"control\"],\n",
    ")\n",
    "\n",
    "sns.lineplot(\n",
    "    x=\"adjusted_time\",\n",
    "    y=\"distance_ball_1\",\n",
    "    hue=\"F1_condition\",\n",
    "    data=downsampled_data[downsampled_data[\"F1_condition\"] != \"control\"],\n",
    ")\n",
    "\n",
    "# Set the x-axis limits to start at 0\n",
    "plt.xlim(left=0)\n",
    "\n",
    "# Show the plot\n",
    "plt.show()"
   ]
  },
  {
   "cell_type": "code",
   "execution_count": 38,
   "metadata": {},
   "outputs": [
    {
     "data": {
      "text/html": [
       "<div>\n",
       "<style scoped>\n",
       "    .dataframe tbody tr th:only-of-type {\n",
       "        vertical-align: middle;\n",
       "    }\n",
       "\n",
       "    .dataframe tbody tr th {\n",
       "        vertical-align: top;\n",
       "    }\n",
       "\n",
       "    .dataframe thead th {\n",
       "        text-align: right;\n",
       "    }\n",
       "</style>\n",
       "<table border=\"1\" class=\"dataframe\">\n",
       "  <thead>\n",
       "    <tr style=\"text-align: right;\">\n",
       "      <th></th>\n",
       "      <th>adjusted_time</th>\n",
       "      <th>ball_position</th>\n",
       "      <th>Pretraining</th>\n",
       "    </tr>\n",
       "  </thead>\n",
       "  <tbody>\n",
       "    <tr>\n",
       "      <th>0</th>\n",
       "      <td>-751.517241</td>\n",
       "      <td>0.000000</td>\n",
       "      <td>n</td>\n",
       "    </tr>\n",
       "    <tr>\n",
       "      <th>1</th>\n",
       "      <td>-751.482759</td>\n",
       "      <td>0.000449</td>\n",
       "      <td>n</td>\n",
       "    </tr>\n",
       "    <tr>\n",
       "      <th>2</th>\n",
       "      <td>-751.448276</td>\n",
       "      <td>0.000898</td>\n",
       "      <td>n</td>\n",
       "    </tr>\n",
       "    <tr>\n",
       "      <th>3</th>\n",
       "      <td>-751.413793</td>\n",
       "      <td>0.001347</td>\n",
       "      <td>n</td>\n",
       "    </tr>\n",
       "    <tr>\n",
       "      <th>4</th>\n",
       "      <td>-751.379310</td>\n",
       "      <td>0.001796</td>\n",
       "      <td>n</td>\n",
       "    </tr>\n",
       "    <tr>\n",
       "      <th>...</th>\n",
       "      <td>...</td>\n",
       "      <td>...</td>\n",
       "      <td>...</td>\n",
       "    </tr>\n",
       "    <tr>\n",
       "      <th>261001</th>\n",
       "      <td>5211.620690</td>\n",
       "      <td>96.193105</td>\n",
       "      <td>y</td>\n",
       "    </tr>\n",
       "    <tr>\n",
       "      <th>261002</th>\n",
       "      <td>5211.655172</td>\n",
       "      <td>96.192678</td>\n",
       "      <td>y</td>\n",
       "    </tr>\n",
       "    <tr>\n",
       "      <th>261003</th>\n",
       "      <td>5211.689655</td>\n",
       "      <td>96.192253</td>\n",
       "      <td>y</td>\n",
       "    </tr>\n",
       "    <tr>\n",
       "      <th>261004</th>\n",
       "      <td>5211.724138</td>\n",
       "      <td>96.191827</td>\n",
       "      <td>y</td>\n",
       "    </tr>\n",
       "    <tr>\n",
       "      <th>261005</th>\n",
       "      <td>5211.758621</td>\n",
       "      <td>96.191402</td>\n",
       "      <td>y</td>\n",
       "    </tr>\n",
       "  </tbody>\n",
       "</table>\n",
       "<p>2088048 rows × 3 columns</p>\n",
       "</div>"
      ],
      "text/plain": [
       "        adjusted_time  ball_position Pretraining\n",
       "0         -751.517241       0.000000           n\n",
       "1         -751.482759       0.000449           n\n",
       "2         -751.448276       0.000898           n\n",
       "3         -751.413793       0.001347           n\n",
       "4         -751.379310       0.001796           n\n",
       "...               ...            ...         ...\n",
       "261001    5211.620690      96.193105           y\n",
       "261002    5211.655172      96.192678           y\n",
       "261003    5211.689655      96.192253           y\n",
       "261004    5211.724138      96.191827           y\n",
       "261005    5211.758621      96.191402           y\n",
       "\n",
       "[2088048 rows x 3 columns]"
      ]
     },
     "execution_count": 38,
     "metadata": {},
     "output_type": "execute_result"
    }
   ],
   "source": [
    "# Generate a dataset with adjusted time and relative ball position for all flies\n",
    "\n",
    "Data = []\n",
    "\n",
    "for fly in TestExp_F1.flies:\n",
    "    if fly.Pretraining ==\"y\":\n",
    "\n",
    "        if fly.exit_time:\n",
    "            Adjusted_time = fly.flytrack.objects[0].dataset[\"adjusted_time\"]\n",
    "\n",
    "            Ball_position = fly.balltrack.objects[1].dataset[\"euclidean_distance\"]\n",
    "            \n",
    "            Pretraining = fly.Pretraining\n",
    "\n",
    "            dataset = pd.DataFrame({\"adjusted_time\": Adjusted_time, \"ball_position\": Ball_position, \"Pretraining\": Pretraining})\n",
    "            Data.append(dataset)\n",
    "\n",
    "    else:\n",
    "        Adjusted_time = fly.flytrack.objects[0].dataset[\"adjusted_time\"]\n",
    "\n",
    "        Ball_position = fly.balltrack.objects[0].dataset[\"euclidean_distance\"]\n",
    "        \n",
    "        Pretraining = fly.Pretraining\n",
    "\n",
    "        dataset = pd.DataFrame(\n",
    "            {\"adjusted_time\": Adjusted_time, \"ball_position\": Ball_position, \"Pretraining\": Pretraining}\n",
    "        )\n",
    "        Data.append(dataset)\n",
    "\n",
    "\n",
    "# Concatenate the data\n",
    "\n",
    "Data = pd.concat(Data)\n",
    "\n",
    "Data"
   ]
  },
  {
   "cell_type": "code",
   "execution_count": 41,
   "metadata": {},
   "outputs": [
    {
     "data": {
      "image/png": "[encoded data removed]",
      "text/plain": [
       "<Figure size 640x480 with 1 Axes>"
      ]
     },
     "metadata": {},
     "output_type": "display_data"
    }
   ],
   "source": [
    "# Now plot the the average ball position over adjusted time with scale starting at 0 grouped by pretraining\n",
    "\n",
    "import seaborn as sns\n",
    "import matplotlib.pyplot as plt\n",
    "\n",
    "Avg = Data.groupby([\"adjusted_time\", \"Pretraining\"]).mean().reset_index()\n",
    "\n",
    "# Apply some smoothing to the ball_position\n",
    "\n",
    "Avg[\"ball_position\"] = Avg[\"ball_position\"].rolling(window=10).mean()\n",
    "\n",
    "plt.figure()\n",
    "\n",
    "sns.lineplot(x=\"adjusted_time\", y=\"ball_position\", data=Avg, hue=\"Pretraining\")\n",
    "\n",
    "plt.show()"
   ]
  },
  {
   "cell_type": "code",
   "execution_count": 17,
   "metadata": {},
   "outputs": [
    {
     "name": "stdout",
     "output_type": "stream",
     "text": [
      "Experiment: 240821_F1_3mm_ends_Videos_Checked\n",
      "  Genotypes: PR\n",
      "  Flies: 9\n",
      "  FPS: 29\n"
     ]
    }
   ],
   "source": [
    "print(TestExp_F1)"
   ]
  },
  {
   "cell_type": "code",
   "execution_count": 128,
   "metadata": {},
   "outputs": [],
   "source": [
    "data = Ballpushing_utils.Dataset(TestExp_F1)"
   ]
  },
  {
   "cell_type": "code",
   "execution_count": 129,
   "metadata": {},
   "outputs": [
    {
     "data": {
      "text/plain": [
       "'Dataset with 9 flies and 1 experiments\\nkeyword: '"
      ]
     },
     "execution_count": 129,
     "metadata": {},
     "output_type": "execute_result"
    }
   ],
   "source": [
    "str(data)"
   ]
  },
  {
   "cell_type": "code",
   "execution_count": 133,
   "metadata": {},
   "outputs": [
    {
     "data": {
      "text/plain": [
       "<module 'utils_behavior.Ballpushing_utils' from '/home/durrieu/utils_behavior/utils_behavior/Ballpushing_utils.py'>"
      ]
     },
     "execution_count": 133,
     "metadata": {},
     "output_type": "execute_result"
    }
   ],
   "source": [
    "importlib.reload(Ballpushing_utils)"
   ]
  },
  {
   "cell_type": "code",
   "execution_count": 134,
   "metadata": {},
   "outputs": [
    {
     "name": "stdout",
     "output_type": "stream",
     "text": [
      "An error occurred: The truth value of a DataFrame is ambiguous. Use a.empty, a.bool(), a.item(), a.any() or a.all().\n"
     ]
    },
    {
     "name": "stderr",
     "output_type": "stream",
     "text": [
      "Traceback (most recent call last):\n",
      "  File \"/home/durrieu/utils_behavior/utils_behavior/Ballpushing_utils.py\", line 1842, in generate_dataset\n",
      "    for fly in self.flies:\n",
      "                      ^^^^\n",
      "  File \"/home/durrieu/utils_behavior/utils_behavior/Ballpushing_utils.py\", line 1893, in _prepare_dataset_coordinates\n",
      "    pandas.DataFrame: A DataFrame containing the fly's coordinates and associated metadata.\n",
      "       ^^^^^^^^^^^^\n",
      "  File \"/home/durrieu/miniforge3/envs/tracking_analysis/lib/python3.12/site-packages/pandas/core/generic.py\", line 1577, in __nonzero__\n",
      "    raise ValueError(\n",
      "ValueError: The truth value of a DataFrame is ambiguous. Use a.empty, a.bool(), a.item(), a.any() or a.all().\n"
     ]
    },
    {
     "data": {
      "text/plain": [
       "{}"
      ]
     },
     "execution_count": 134,
     "metadata": {},
     "output_type": "execute_result"
    }
   ],
   "source": [
    "data.generate_dataset()"
   ]
  },
  {
   "cell_type": "code",
   "execution_count": null,
   "metadata": {},
   "outputs": [],
   "source": []
  }
 ],
 "metadata": {
  "kernelspec": {
   "display_name": "tracking_analysis",
   "language": "python",
   "name": "python3"
  },
  "language_info": {
   "codemirror_mode": {
    "name": "ipython",
    "version": 3
   },
   "file_extension": ".py",
   "mimetype": "text/x-python",
   "name": "python",
   "nbconvert_exporter": "python",
   "pygments_lexer": "ipython3",
   "version": "3.12.6"
  }
 },
 "nbformat": 4,
 "nbformat_minor": 2
}
