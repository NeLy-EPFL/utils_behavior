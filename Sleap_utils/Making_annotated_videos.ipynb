{
 "cells": [
  {
   "cell_type": "code",
   "execution_count": 7,
   "metadata": {},
   "outputs": [],
   "source": [
    "import cv2\n",
    "\n",
    "# Get the Sleap_utils module\n",
    "import sys\n",
    "sys.path.append('/home/durrieu/utils_behavior/utils_behavior')\n",
    "\n",
    "from utils_behavior import Sleap_utils\n",
    "\n",
    "from matplotlib import pyplot as plt\n",
    "\n",
    "import importlib\n",
    "\n",
    "from pathlib import Path"
   ]
  },
  {
   "cell_type": "markdown",
   "metadata": {},
   "source": [
    "# Simple sleaptracks annotation"
   ]
  },
  {
   "cell_type": "code",
   "execution_count": 2,
   "metadata": {},
   "outputs": [],
   "source": [
    "# Load the sleap tracks\n",
    "\n",
    "tracks = Sleap_utils.Sleap_Tracks(\"/mnt/upramdya_data/MD/MultiMazeRecorder/Videos/231115_TNT_Fine_2_Videos_Tracked/arena9/corridor6/corridor6_preprocessed_full_body.h5\", smoothed_tracks=False)"
   ]
  },
  {
   "cell_type": "code",
   "execution_count": 10,
   "metadata": {},
   "outputs": [],
   "source": [
    "ball = Sleap_utils.Sleap_Tracks(\"/mnt/upramdya_data/MD/MultiMazeRecorder/Videos/231115_TNT_Fine_2_Videos_Tracked/arena9/corridor6/corridor6_tracked_ball_preprocessed.000_corridor6_preprocessed.analysis.h5\", smoothed_tracks=False)"
   ]
  },
  {
   "cell_type": "code",
   "execution_count": 66,
   "metadata": {},
   "outputs": [
    {
     "data": {
      "text/plain": [
       "<module 'utils_behavior.Sleap_utils' from '/home/durrieu/utils_behavior/utils_behavior/Sleap_utils.py'>"
      ]
     },
     "execution_count": 66,
     "metadata": {},
     "output_type": "execute_result"
    }
   ],
   "source": [
    "importlib.reload(Sleap_utils)"
   ]
  },
  {
   "cell_type": "code",
   "execution_count": 67,
   "metadata": {},
   "outputs": [],
   "source": [
    "frame = Sleap_utils.generate_annotated_frame(tracks.video, [tracks, ball], nodes= [\"centre\", \"Lfront\"], frame=2039, colorby='Nodes')"
   ]
  },
  {
   "cell_type": "code",
   "execution_count": 68,
   "metadata": {},
   "outputs": [
    {
     "data": {
      "text/plain": [
       "<matplotlib.image.AxesImage at 0x77703eb56780>"
      ]
     },
     "execution_count": 68,
     "metadata": {},
     "output_type": "execute_result"
    },
    {
     "data": {
      "image/png": "[encoded data removed]",
      "text/plain": [
       "<Figure size 640x480 with 1 Axes>"
      ]
     },
     "metadata": {},
     "output_type": "display_data"
    }
   ],
   "source": [
    "# Plot the frame\n",
    "plt.imshow(frame)"
   ]
  },
  {
   "cell_type": "code",
   "execution_count": 69,
   "metadata": {},
   "outputs": [
    {
     "name": "stdout",
     "output_type": "stream",
     "text": [
      "No CUDA devices found, falling back to CPU processing.\n"
     ]
    },
    {
     "name": "stderr",
     "output_type": "stream",
     "text": [
      "Processing frames:   0%|          | 0/263 [00:00<?, ?it/s]"
     ]
    },
    {
     "name": "stderr",
     "output_type": "stream",
     "text": [
      "Processing frames: 100%|██████████| 263/263 [00:04<00:00, 56.91it/s]\n"
     ]
    }
   ],
   "source": [
    "Sleap_utils.generate_annotated_video(tracks.video, [tracks, ball], start= 2938, end= 3200, colorby=\"Nodes\")"
   ]
  },
  {
   "cell_type": "code",
   "execution_count": 5,
   "metadata": {},
   "outputs": [
    {
     "data": {
      "text/plain": [
       "<module 'utils_behavior.Sleap_utils' from '/home/matthias/utils_behavior/utils_behavior/Sleap_utils.py'>"
      ]
     },
     "execution_count": 5,
     "metadata": {},
     "output_type": "execute_result"
    }
   ],
   "source": [
    "importlib.reload(Sleap_utils)"
   ]
  },
  {
   "cell_type": "code",
   "execution_count": 12,
   "metadata": {},
   "outputs": [
    {
     "name": "stdout",
     "output_type": "stream",
     "text": [
      "No CUDA devices found, falling back to CPU processing.\n"
     ]
    },
    {
     "name": "stderr",
     "output_type": "stream",
     "text": [
      "Processing frames: 100%|██████████| 104402/104402 [32:55<00:00, 52.85it/s] \n"
     ]
    }
   ],
   "source": [
    "tracks.generate_annotated_video(save=True, output_path='/mnt/upramdya_data/MD/Other_Videos/241031_colortest.mp4', colorby=\"Nodes\")"
   ]
  },
  {
   "cell_type": "code",
   "execution_count": 2,
   "metadata": {},
   "outputs": [],
   "source": [
    "# Get the data path\n",
    "\n",
    "data_path = Path(\"/mnt/upramdya_data/MD/F1_Tracks/Videos/240924_F1_3mm_ends_Videos_Checked/arena2/Right\")"
   ]
  },
  {
   "cell_type": "code",
   "execution_count": 3,
   "metadata": {},
   "outputs": [],
   "source": [
    "# Get the video path, the ball h5 path and the fly h5 path\n",
    "\n",
    "video = list(data_path.glob(\"*.mp4\"))[0]\n",
    "ball = list(data_path.glob(\"*ball*.h5\"))[0]\n",
    "fly = list(data_path.glob(\"*fly*.h5\"))[0]"
   ]
  },
  {
   "cell_type": "code",
   "execution_count": 4,
   "metadata": {},
   "outputs": [
    {
     "name": "stdout",
     "output_type": "stream",
     "text": [
      "Processing object 1/2\n",
      "Processing object 2/2\n",
      "Loaded SLEAP tracking file: /mnt/upramdya_data/MD/F1_Tracks/Videos/240924_F1_3mm_ends_Videos_Checked/arena2/Right/arena2_right_rotated_tracked_ball.000_arena2_right_rotated.analysis.h5\n",
      "N° of objects: 2\n",
      "Nodes: ['centre']\n",
      "Processing object 1/1\n",
      "Loaded SLEAP tracking file: /mnt/upramdya_data/MD/F1_Tracks/Videos/240924_F1_3mm_ends_Videos_Checked/arena2/Right/arena2_right_rotated_tracked_fly.000_arena2_right_rotated.analysis.h5\n",
      "N° of objects: 1\n",
      "Nodes: ['thorax']\n"
     ]
    }
   ],
   "source": [
    "balltracks = Sleap_utils.Sleap_Tracks(ball)\n",
    "flytracks = Sleap_utils.Sleap_Tracks(fly)"
   ]
  },
  {
   "cell_type": "code",
   "execution_count": 5,
   "metadata": {},
   "outputs": [],
   "source": [
    "Combined = Sleap_utils.CombinedSleapTracks(video,[balltracks, flytracks])"
   ]
  },
  {
   "cell_type": "code",
   "execution_count": 6,
   "metadata": {},
   "outputs": [
    {
     "name": "stdout",
     "output_type": "stream",
     "text": [
      "CUDA is enabled, using GPU for video processing.\n"
     ]
    }
   ],
   "source": [
    "Combined.generate_combined_annotated_video(save=True, output_path=data_path/'combined.mp4')"
   ]
  },
  {
   "cell_type": "code",
   "execution_count": null,
   "metadata": {},
   "outputs": [],
   "source": []
  }
 ],
 "metadata": {
  "kernelspec": {
   "display_name": "tracking_analysis",
   "language": "python",
   "name": "python3"
  },
  "language_info": {
   "codemirror_mode": {
    "name": "ipython",
    "version": 3
   },
   "file_extension": ".py",
   "mimetype": "text/x-python",
   "name": "python",
   "nbconvert_exporter": "python",
   "pygments_lexer": "ipython3",
   "version": "3.12.6"
  }
 },
 "nbformat": 4,
 "nbformat_minor": 2
}
