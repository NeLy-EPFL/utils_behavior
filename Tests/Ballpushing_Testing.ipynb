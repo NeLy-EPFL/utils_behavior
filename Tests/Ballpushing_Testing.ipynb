{
 "cells": [
  {
   "cell_type": "code",
   "execution_count": 1,
   "metadata": {},
   "outputs": [],
   "source": [
    "from utils_behavior import Ballpushing_utils\n",
    "\n",
    "from utils_behavior import Sleap_utils\n",
    "\n",
    "from pathlib import Path\n",
    "\n",
    "import pandas as pd\n",
    "\n",
    "import importlib"
   ]
  },
  {
   "cell_type": "code",
   "execution_count": 4,
   "metadata": {},
   "outputs": [
    {
     "data": {
      "text/plain": [
       "<module 'utils_behavior.Ballpushing_utils' from '/home/durrieu/utils_behavior/utils_behavior/Ballpushing_utils.py'>"
      ]
     },
     "execution_count": 4,
     "metadata": {},
     "output_type": "execute_result"
    }
   ],
   "source": [
    "importlib.reload(Ballpushing_utils)"
   ]
  },
  {
   "cell_type": "code",
   "execution_count": 11,
   "metadata": {},
   "outputs": [],
   "source": [
    "TestFly_path = Path(\"/mnt/upramdya_data/MD/MultiMazeRecorder/Videos/240531_MagnetBlock_Videos_Tracked/arena4/corridor4/\")"
   ]
  },
  {
   "cell_type": "code",
   "execution_count": 8,
   "metadata": {},
   "outputs": [],
   "source": [
    "# F1 exp\n",
    "TestFly_path = Path(\"/mnt/upramdya_data/MD/F1_Tracks/Videos/240821_F1_3mm_ends_Videos_Checked/arena4/Left\")\n"
   ]
  },
  {
   "cell_type": "code",
   "execution_count": 2,
   "metadata": {},
   "outputs": [],
   "source": [
    "TestSlp = Sleap_utils.Sleap_Tracks(\"/mnt/upramdya_data/MD/F1_Tracks/Videos/240821_F1_3mm_ends_Videos_Checked/arena4/Left/arena4_left_tracked_ball_processed.000_arena4_left.analysis.h5\")"
   ]
  },
  {
   "cell_type": "code",
   "execution_count": 11,
   "metadata": {},
   "outputs": [
    {
     "data": {
      "text/html": [
       "<div>\n",
       "<style scoped>\n",
       "    .dataframe tbody tr th:only-of-type {\n",
       "        vertical-align: middle;\n",
       "    }\n",
       "\n",
       "    .dataframe tbody tr th {\n",
       "        vertical-align: top;\n",
       "    }\n",
       "\n",
       "    .dataframe thead th {\n",
       "        text-align: right;\n",
       "    }\n",
       "</style>\n",
       "<table border=\"1\" class=\"dataframe\">\n",
       "  <thead>\n",
       "    <tr style=\"text-align: right;\">\n",
       "      <th></th>\n",
       "      <th>frame</th>\n",
       "      <th>time</th>\n",
       "      <th>object</th>\n",
       "      <th>x_centre</th>\n",
       "      <th>y_centre</th>\n",
       "    </tr>\n",
       "  </thead>\n",
       "  <tbody>\n",
       "    <tr>\n",
       "      <th>0</th>\n",
       "      <td>1</td>\n",
       "      <td>0.034483</td>\n",
       "      <td>object_1</td>\n",
       "      <td>46.395609</td>\n",
       "      <td>294.419014</td>\n",
       "    </tr>\n",
       "    <tr>\n",
       "      <th>1</th>\n",
       "      <td>2</td>\n",
       "      <td>0.068966</td>\n",
       "      <td>object_1</td>\n",
       "      <td>46.393454</td>\n",
       "      <td>294.419055</td>\n",
       "    </tr>\n",
       "    <tr>\n",
       "      <th>2</th>\n",
       "      <td>3</td>\n",
       "      <td>0.103448</td>\n",
       "      <td>object_1</td>\n",
       "      <td>46.391299</td>\n",
       "      <td>294.419096</td>\n",
       "    </tr>\n",
       "    <tr>\n",
       "      <th>3</th>\n",
       "      <td>4</td>\n",
       "      <td>0.137931</td>\n",
       "      <td>object_1</td>\n",
       "      <td>46.389143</td>\n",
       "      <td>294.419138</td>\n",
       "    </tr>\n",
       "    <tr>\n",
       "      <th>4</th>\n",
       "      <td>5</td>\n",
       "      <td>0.172414</td>\n",
       "      <td>object_1</td>\n",
       "      <td>46.386988</td>\n",
       "      <td>294.419179</td>\n",
       "    </tr>\n",
       "    <tr>\n",
       "      <th>...</th>\n",
       "      <td>...</td>\n",
       "      <td>...</td>\n",
       "      <td>...</td>\n",
       "      <td>...</td>\n",
       "      <td>...</td>\n",
       "    </tr>\n",
       "    <tr>\n",
       "      <th>261001</th>\n",
       "      <td>261002</td>\n",
       "      <td>9000.068966</td>\n",
       "      <td>object_1</td>\n",
       "      <td>47.371253</td>\n",
       "      <td>175.920539</td>\n",
       "    </tr>\n",
       "    <tr>\n",
       "      <th>261002</th>\n",
       "      <td>261003</td>\n",
       "      <td>9000.103448</td>\n",
       "      <td>object_1</td>\n",
       "      <td>47.371249</td>\n",
       "      <td>175.920624</td>\n",
       "    </tr>\n",
       "    <tr>\n",
       "      <th>261003</th>\n",
       "      <td>261004</td>\n",
       "      <td>9000.137931</td>\n",
       "      <td>object_1</td>\n",
       "      <td>47.371244</td>\n",
       "      <td>175.920710</td>\n",
       "    </tr>\n",
       "    <tr>\n",
       "      <th>261004</th>\n",
       "      <td>261005</td>\n",
       "      <td>9000.172414</td>\n",
       "      <td>object_1</td>\n",
       "      <td>47.371240</td>\n",
       "      <td>175.920796</td>\n",
       "    </tr>\n",
       "    <tr>\n",
       "      <th>261005</th>\n",
       "      <td>261006</td>\n",
       "      <td>9000.206897</td>\n",
       "      <td>object_1</td>\n",
       "      <td>47.371236</td>\n",
       "      <td>175.920881</td>\n",
       "    </tr>\n",
       "  </tbody>\n",
       "</table>\n",
       "<p>261006 rows × 5 columns</p>\n",
       "</div>"
      ],
      "text/plain": [
       "         frame         time    object   x_centre    y_centre\n",
       "0            1     0.034483  object_1  46.395609  294.419014\n",
       "1            2     0.068966  object_1  46.393454  294.419055\n",
       "2            3     0.103448  object_1  46.391299  294.419096\n",
       "3            4     0.137931  object_1  46.389143  294.419138\n",
       "4            5     0.172414  object_1  46.386988  294.419179\n",
       "...        ...          ...       ...        ...         ...\n",
       "261001  261002  9000.068966  object_1  47.371253  175.920539\n",
       "261002  261003  9000.103448  object_1  47.371249  175.920624\n",
       "261003  261004  9000.137931  object_1  47.371244  175.920710\n",
       "261004  261005  9000.172414  object_1  47.371240  175.920796\n",
       "261005  261006  9000.206897  object_1  47.371236  175.920881\n",
       "\n",
       "[261006 rows x 5 columns]"
      ]
     },
     "execution_count": 11,
     "metadata": {},
     "output_type": "execute_result"
    }
   ],
   "source": [
    "TestSlp.objects[0].object_data"
   ]
  },
  {
   "cell_type": "code",
   "execution_count": null,
   "metadata": {},
   "outputs": [
    {
     "ename": "AttributeError",
     "evalue": "'Sleap_Tracks' object has no attribute 'dataset'",
     "output_type": "error",
     "traceback": [
      "\u001b[0;31m---------------------------------------------------------------------------\u001b[0m",
      "\u001b[0;31mAttributeError\u001b[0m                            Traceback (most recent call last)",
      "Cell \u001b[0;32mIn[12], line 1\u001b[0m\n\u001b[0;32m----> 1\u001b[0m \u001b[43mTestSlp\u001b[49m\u001b[38;5;241;43m.\u001b[39;49m\u001b[43mdataset\u001b[49m\n",
      "\u001b[0;31mAttributeError\u001b[0m: 'Sleap_Tracks' object has no attribute 'dataset'"
     ]
    }
   ],
   "source": []
  },
  {
   "cell_type": "code",
   "execution_count": 18,
   "metadata": {},
   "outputs": [
    {
     "data": {
      "text/plain": [
       "<property at 0x73991db47ba0>"
      ]
     },
     "execution_count": 18,
     "metadata": {},
     "output_type": "execute_result"
    }
   ],
   "source": [
    "TestSlp.objects[0].centre"
   ]
  },
  {
   "cell_type": "code",
   "execution_count": 18,
   "metadata": {},
   "outputs": [
    {
     "data": {
      "text/plain": [
       "<module 'utils_behavior.Ballpushing_utils' from '/home/durrieu/utils_behavior/utils_behavior/Ballpushing_utils.py'>"
      ]
     },
     "execution_count": 18,
     "metadata": {},
     "output_type": "execute_result"
    }
   ],
   "source": [
    "importlib.reload(Ballpushing_utils)"
   ]
  },
  {
   "cell_type": "code",
   "execution_count": 19,
   "metadata": {},
   "outputs": [],
   "source": [
    "TestFly = Ballpushing_utils.Fly(TestFly_path, as_individual=True)"
   ]
  },
  {
   "cell_type": "code",
   "execution_count": 20,
   "metadata": {},
   "outputs": [
    {
     "data": {
      "text/plain": [
       "{'Date': '240821',\n",
       " 'Genotype': 'PR',\n",
       " 'Period': 'AM10',\n",
       " 'FeedingState': 'starved_noWater',\n",
       " 'Orientation': 'std',\n",
       " 'Light': 'on',\n",
       " 'Crossing': '1',\n",
       " 'Pretraining': 'y',\n",
       " 'Unlocked': 'yy',\n",
       " '': ''}"
      ]
     },
     "execution_count": 20,
     "metadata": {},
     "output_type": "execute_result"
    }
   ],
   "source": [
    "TestFly.arena_metadata"
   ]
  },
  {
   "cell_type": "code",
   "execution_count": 21,
   "metadata": {},
   "outputs": [
    {
     "data": {
      "text/plain": [
       "'pretrained_unlocked'"
      ]
     },
     "execution_count": 21,
     "metadata": {},
     "output_type": "execute_result"
    }
   ],
   "source": [
    "TestFly.F1_condition"
   ]
  },
  {
   "cell_type": "code",
   "execution_count": 7,
   "metadata": {},
   "outputs": [
    {
     "data": {
      "text/html": [
       "<div>\n",
       "<style scoped>\n",
       "    .dataframe tbody tr th:only-of-type {\n",
       "        vertical-align: middle;\n",
       "    }\n",
       "\n",
       "    .dataframe tbody tr th {\n",
       "        vertical-align: top;\n",
       "    }\n",
       "\n",
       "    .dataframe thead th {\n",
       "        text-align: right;\n",
       "    }\n",
       "</style>\n",
       "<table border=\"1\" class=\"dataframe\">\n",
       "  <thead>\n",
       "    <tr style=\"text-align: right;\">\n",
       "      <th></th>\n",
       "      <th>frame</th>\n",
       "      <th>time</th>\n",
       "      <th>object</th>\n",
       "      <th>x_thorax</th>\n",
       "      <th>y_thorax</th>\n",
       "      <th>adjusted_time</th>\n",
       "    </tr>\n",
       "  </thead>\n",
       "  <tbody>\n",
       "    <tr>\n",
       "      <th>0</th>\n",
       "      <td>1</td>\n",
       "      <td>0.034483</td>\n",
       "      <td>fly_1</td>\n",
       "      <td>46.995866</td>\n",
       "      <td>515.760397</td>\n",
       "      <td>-3795.241379</td>\n",
       "    </tr>\n",
       "    <tr>\n",
       "      <th>1</th>\n",
       "      <td>2</td>\n",
       "      <td>0.068966</td>\n",
       "      <td>fly_1</td>\n",
       "      <td>46.995750</td>\n",
       "      <td>515.733990</td>\n",
       "      <td>-3795.206897</td>\n",
       "    </tr>\n",
       "    <tr>\n",
       "      <th>2</th>\n",
       "      <td>3</td>\n",
       "      <td>0.103448</td>\n",
       "      <td>fly_1</td>\n",
       "      <td>46.995635</td>\n",
       "      <td>515.707583</td>\n",
       "      <td>-3795.172414</td>\n",
       "    </tr>\n",
       "    <tr>\n",
       "      <th>3</th>\n",
       "      <td>4</td>\n",
       "      <td>0.137931</td>\n",
       "      <td>fly_1</td>\n",
       "      <td>46.995519</td>\n",
       "      <td>515.681175</td>\n",
       "      <td>-3795.137931</td>\n",
       "    </tr>\n",
       "    <tr>\n",
       "      <th>4</th>\n",
       "      <td>5</td>\n",
       "      <td>0.172414</td>\n",
       "      <td>fly_1</td>\n",
       "      <td>46.995403</td>\n",
       "      <td>515.654768</td>\n",
       "      <td>-3795.103448</td>\n",
       "    </tr>\n",
       "    <tr>\n",
       "      <th>...</th>\n",
       "      <td>...</td>\n",
       "      <td>...</td>\n",
       "      <td>...</td>\n",
       "      <td>...</td>\n",
       "      <td>...</td>\n",
       "      <td>...</td>\n",
       "    </tr>\n",
       "    <tr>\n",
       "      <th>261001</th>\n",
       "      <td>261002</td>\n",
       "      <td>9000.068966</td>\n",
       "      <td>fly_1</td>\n",
       "      <td>45.539764</td>\n",
       "      <td>500.960535</td>\n",
       "      <td>5204.793103</td>\n",
       "    </tr>\n",
       "    <tr>\n",
       "      <th>261002</th>\n",
       "      <td>261003</td>\n",
       "      <td>9000.103448</td>\n",
       "      <td>fly_1</td>\n",
       "      <td>45.546520</td>\n",
       "      <td>500.943661</td>\n",
       "      <td>5204.827586</td>\n",
       "    </tr>\n",
       "    <tr>\n",
       "      <th>261003</th>\n",
       "      <td>261004</td>\n",
       "      <td>9000.137931</td>\n",
       "      <td>fly_1</td>\n",
       "      <td>45.553275</td>\n",
       "      <td>500.926787</td>\n",
       "      <td>5204.862069</td>\n",
       "    </tr>\n",
       "    <tr>\n",
       "      <th>261004</th>\n",
       "      <td>261005</td>\n",
       "      <td>9000.172414</td>\n",
       "      <td>fly_1</td>\n",
       "      <td>45.560030</td>\n",
       "      <td>500.909913</td>\n",
       "      <td>5204.896552</td>\n",
       "    </tr>\n",
       "    <tr>\n",
       "      <th>261005</th>\n",
       "      <td>261006</td>\n",
       "      <td>9000.206897</td>\n",
       "      <td>fly_1</td>\n",
       "      <td>45.566785</td>\n",
       "      <td>500.893039</td>\n",
       "      <td>5204.931034</td>\n",
       "    </tr>\n",
       "  </tbody>\n",
       "</table>\n",
       "<p>261006 rows × 6 columns</p>\n",
       "</div>"
      ],
      "text/plain": [
       "         frame         time object   x_thorax    y_thorax  adjusted_time\n",
       "0            1     0.034483  fly_1  46.995866  515.760397   -3795.241379\n",
       "1            2     0.068966  fly_1  46.995750  515.733990   -3795.206897\n",
       "2            3     0.103448  fly_1  46.995635  515.707583   -3795.172414\n",
       "3            4     0.137931  fly_1  46.995519  515.681175   -3795.137931\n",
       "4            5     0.172414  fly_1  46.995403  515.654768   -3795.103448\n",
       "...        ...          ...    ...        ...         ...            ...\n",
       "261001  261002  9000.068966  fly_1  45.539764  500.960535    5204.793103\n",
       "261002  261003  9000.103448  fly_1  45.546520  500.943661    5204.827586\n",
       "261003  261004  9000.137931  fly_1  45.553275  500.926787    5204.862069\n",
       "261004  261005  9000.172414  fly_1  45.560030  500.909913    5204.896552\n",
       "261005  261006  9000.206897  fly_1  45.566785  500.893039    5204.931034\n",
       "\n",
       "[261006 rows x 6 columns]"
      ]
     },
     "execution_count": 7,
     "metadata": {},
     "output_type": "execute_result"
    }
   ],
   "source": [
    "TestFly.flytrack.objects[0].dataset"
   ]
  },
  {
   "cell_type": "code",
   "execution_count": 8,
   "metadata": {},
   "outputs": [
    {
     "data": {
      "text/html": [
       "<div>\n",
       "<style scoped>\n",
       "    .dataframe tbody tr th:only-of-type {\n",
       "        vertical-align: middle;\n",
       "    }\n",
       "\n",
       "    .dataframe tbody tr th {\n",
       "        vertical-align: top;\n",
       "    }\n",
       "\n",
       "    .dataframe thead th {\n",
       "        text-align: right;\n",
       "    }\n",
       "</style>\n",
       "<table border=\"1\" class=\"dataframe\">\n",
       "  <thead>\n",
       "    <tr style=\"text-align: right;\">\n",
       "      <th></th>\n",
       "      <th>frame</th>\n",
       "      <th>time</th>\n",
       "      <th>object</th>\n",
       "      <th>x_centre</th>\n",
       "      <th>y_centre</th>\n",
       "      <th>euclidean_distance</th>\n",
       "    </tr>\n",
       "  </thead>\n",
       "  <tbody>\n",
       "    <tr>\n",
       "      <th>0</th>\n",
       "      <td>1</td>\n",
       "      <td>0.034483</td>\n",
       "      <td>ball_2</td>\n",
       "      <td>239.203365</td>\n",
       "      <td>430.395402</td>\n",
       "      <td>0.000000</td>\n",
       "    </tr>\n",
       "    <tr>\n",
       "      <th>1</th>\n",
       "      <td>2</td>\n",
       "      <td>0.068966</td>\n",
       "      <td>ball_2</td>\n",
       "      <td>239.203280</td>\n",
       "      <td>430.395488</td>\n",
       "      <td>0.000121</td>\n",
       "    </tr>\n",
       "    <tr>\n",
       "      <th>2</th>\n",
       "      <td>3</td>\n",
       "      <td>0.103448</td>\n",
       "      <td>ball_2</td>\n",
       "      <td>239.203196</td>\n",
       "      <td>430.395575</td>\n",
       "      <td>0.000241</td>\n",
       "    </tr>\n",
       "    <tr>\n",
       "      <th>3</th>\n",
       "      <td>4</td>\n",
       "      <td>0.137931</td>\n",
       "      <td>ball_2</td>\n",
       "      <td>239.203112</td>\n",
       "      <td>430.395661</td>\n",
       "      <td>0.000362</td>\n",
       "    </tr>\n",
       "    <tr>\n",
       "      <th>4</th>\n",
       "      <td>5</td>\n",
       "      <td>0.172414</td>\n",
       "      <td>ball_2</td>\n",
       "      <td>239.203028</td>\n",
       "      <td>430.395747</td>\n",
       "      <td>0.000482</td>\n",
       "    </tr>\n",
       "    <tr>\n",
       "      <th>...</th>\n",
       "      <td>...</td>\n",
       "      <td>...</td>\n",
       "      <td>...</td>\n",
       "      <td>...</td>\n",
       "      <td>...</td>\n",
       "      <td>...</td>\n",
       "    </tr>\n",
       "    <tr>\n",
       "      <th>261001</th>\n",
       "      <td>261002</td>\n",
       "      <td>9000.068966</td>\n",
       "      <td>ball_2</td>\n",
       "      <td>235.933383</td>\n",
       "      <td>477.956923</td>\n",
       "      <td>47.673799</td>\n",
       "    </tr>\n",
       "    <tr>\n",
       "      <th>261002</th>\n",
       "      <td>261003</td>\n",
       "      <td>9000.103448</td>\n",
       "      <td>ball_2</td>\n",
       "      <td>235.933577</td>\n",
       "      <td>477.956769</td>\n",
       "      <td>47.673631</td>\n",
       "    </tr>\n",
       "    <tr>\n",
       "      <th>261003</th>\n",
       "      <td>261004</td>\n",
       "      <td>9000.137931</td>\n",
       "      <td>ball_2</td>\n",
       "      <td>235.933772</td>\n",
       "      <td>477.956614</td>\n",
       "      <td>47.673463</td>\n",
       "    </tr>\n",
       "    <tr>\n",
       "      <th>261004</th>\n",
       "      <td>261005</td>\n",
       "      <td>9000.172414</td>\n",
       "      <td>ball_2</td>\n",
       "      <td>235.933966</td>\n",
       "      <td>477.956459</td>\n",
       "      <td>47.673296</td>\n",
       "    </tr>\n",
       "    <tr>\n",
       "      <th>261005</th>\n",
       "      <td>261006</td>\n",
       "      <td>9000.206897</td>\n",
       "      <td>ball_2</td>\n",
       "      <td>235.934161</td>\n",
       "      <td>477.956304</td>\n",
       "      <td>47.673128</td>\n",
       "    </tr>\n",
       "  </tbody>\n",
       "</table>\n",
       "<p>261006 rows × 6 columns</p>\n",
       "</div>"
      ],
      "text/plain": [
       "         frame         time  object    x_centre    y_centre  \\\n",
       "0            1     0.034483  ball_2  239.203365  430.395402   \n",
       "1            2     0.068966  ball_2  239.203280  430.395488   \n",
       "2            3     0.103448  ball_2  239.203196  430.395575   \n",
       "3            4     0.137931  ball_2  239.203112  430.395661   \n",
       "4            5     0.172414  ball_2  239.203028  430.395747   \n",
       "...        ...          ...     ...         ...         ...   \n",
       "261001  261002  9000.068966  ball_2  235.933383  477.956923   \n",
       "261002  261003  9000.103448  ball_2  235.933577  477.956769   \n",
       "261003  261004  9000.137931  ball_2  235.933772  477.956614   \n",
       "261004  261005  9000.172414  ball_2  235.933966  477.956459   \n",
       "261005  261006  9000.206897  ball_2  235.934161  477.956304   \n",
       "\n",
       "        euclidean_distance  \n",
       "0                 0.000000  \n",
       "1                 0.000121  \n",
       "2                 0.000241  \n",
       "3                 0.000362  \n",
       "4                 0.000482  \n",
       "...                    ...  \n",
       "261001           47.673799  \n",
       "261002           47.673631  \n",
       "261003           47.673463  \n",
       "261004           47.673296  \n",
       "261005           47.673128  \n",
       "\n",
       "[261006 rows x 6 columns]"
      ]
     },
     "execution_count": 8,
     "metadata": {},
     "output_type": "execute_result"
    }
   ],
   "source": [
    "TestFly.balltrack.objects[1].dataset"
   ]
  },
  {
   "cell_type": "code",
   "execution_count": 10,
   "metadata": {},
   "outputs": [
    {
     "data": {
      "image/png": "[encoded data removed]",
      "text/plain": [
       "<Figure size 640x480 with 1 Axes>"
      ]
     },
     "metadata": {},
     "output_type": "display_data"
    }
   ],
   "source": [
    "# Plot the second ball relative position across adjusted time\n",
    "\n",
    "Adjusted_time = TestFly.flytrack.objects[0].dataset['adjusted_time']\n",
    "\n",
    "Ball_position = TestFly.balltrack.objects[1].dataset['euclidean_distance']\n",
    "\n",
    "# Plot the second ball relative position across adjusted time\n",
    "import seaborn as sns\n",
    "import matplotlib.pyplot as plt\n",
    "\n",
    "plt.figure()\n",
    "sns.lineplot(x=Adjusted_time, y=Ball_position)\n",
    "plt.show()"
   ]
  },
  {
   "cell_type": "code",
   "execution_count": null,
   "metadata": {},
   "outputs": [],
   "source": []
  },
  {
   "cell_type": "code",
   "execution_count": 24,
   "metadata": {},
   "outputs": [],
   "source": [
    "# Let's make 2 annotated videos for each push / pull event\n",
    "\n",
    "# First, let's get the push / pull events\n",
    "\n",
    "pushes = TestFly.metrics[\"fly_1_ball_1\"][\"events_direction\"][0]\n",
    "\n",
    "pulls = TestFly.metrics[\"fly_1_ball_1\"][\"events_direction\"][1]"
   ]
  },
  {
   "cell_type": "code",
   "execution_count": 172,
   "metadata": {},
   "outputs": [
    {
     "name": "stdout",
     "output_type": "stream",
     "text": [
      "No CUDA devices found, falling back to CPU processing.\n"
     ]
    },
    {
     "name": "stderr",
     "output_type": "stream",
     "text": [
      "Processing frames: 100%|██████████| 219/219 [00:05<00:00, 37.80it/s]\n"
     ]
    },
    {
     "name": "stdout",
     "output_type": "stream",
     "text": [
      "No CUDA devices found, falling back to CPU processing.\n"
     ]
    },
    {
     "name": "stderr",
     "output_type": "stream",
     "text": [
      "Processing frames: 100%|██████████| 389/389 [00:09<00:00, 38.91it/s]\n"
     ]
    },
    {
     "name": "stdout",
     "output_type": "stream",
     "text": [
      "No CUDA devices found, falling back to CPU processing.\n"
     ]
    },
    {
     "name": "stderr",
     "output_type": "stream",
     "text": [
      "Processing frames: 100%|██████████| 585/585 [00:15<00:00, 38.98it/s]\n"
     ]
    },
    {
     "name": "stdout",
     "output_type": "stream",
     "text": [
      "No CUDA devices found, falling back to CPU processing.\n"
     ]
    },
    {
     "name": "stderr",
     "output_type": "stream",
     "text": [
      "Processing frames: 100%|██████████| 111/111 [00:03<00:00, 33.20it/s]\n"
     ]
    }
   ],
   "source": [
    "# Now for the two first pushes and pulls, let's make the videos\n",
    "\n",
    "for push in pushes[:2]:\n",
    "    TestFly.flytrack.generate_annotated_video(save=True, output_path = f\"/mnt/upramdya_data/MD/Other_Videos/Events_annotation/push{push}.mp4\"\n",
    "    , start = push[0], end = push[1])\n",
    "for pull in pulls[:2]:\n",
    "    TestFly.flytrack.generate_annotated_video(save=True, output_path = f\"/mnt/upramdya_data/MD/Other_Videos/Events_annotation/pull{pull}.mp4\"\n",
    "    , start = pull[0], end = pull[1])\n",
    "    \n",
    "    "
   ]
  },
  {
   "cell_type": "code",
   "execution_count": 159,
   "metadata": {},
   "outputs": [
    {
     "data": {
      "text/plain": [
       "([[np.int64(53651), np.int64(53869), np.int64(218)],\n",
       "  [np.int64(56493), np.int64(56603), np.int64(110)],\n",
       "  [np.int64(59233), np.int64(59302), np.int64(69)],\n",
       "  [np.int64(59711), np.int64(60034), np.int64(323)],\n",
       "  [np.int64(62187), np.int64(62274), np.int64(87)],\n",
       "  [np.int64(66494), np.int64(66807), np.int64(313)],\n",
       "  [np.int64(69427), np.int64(70538), np.int64(1111)]],\n",
       " [[np.int64(54166), np.int64(54554), np.int64(388)],\n",
       "  [np.int64(55126), np.int64(55710), np.int64(584)],\n",
       "  [np.int64(56022), np.int64(56101), np.int64(79)],\n",
       "  [np.int64(56889), np.int64(57498), np.int64(609)],\n",
       "  [np.int64(58541), np.int64(58654), np.int64(113)],\n",
       "  [np.int64(60964), np.int64(61259), np.int64(295)],\n",
       "  [np.int64(64498), np.int64(64575), np.int64(77)],\n",
       "  [np.int64(67637), np.int64(68002), np.int64(365)],\n",
       "  [np.int64(68769), np.int64(69006), np.int64(237)],\n",
       "  [np.int64(142259), np.int64(142486), np.int64(227)],\n",
       "  [np.int64(145511), np.int64(145866), np.int64(355)]])"
      ]
     },
     "execution_count": 159,
     "metadata": {},
     "output_type": "execute_result"
    }
   ],
   "source": [
    "TestFly.metrics[\"fly_1_ball_1\"][\"events_direction\"]"
   ]
  },
  {
   "cell_type": "code",
   "execution_count": 98,
   "metadata": {},
   "outputs": [
    {
     "data": {
      "text/plain": [
       "2704.0"
      ]
     },
     "execution_count": 98,
     "metadata": {},
     "output_type": "execute_result"
    }
   ],
   "source": [
    "78416 / 29"
   ]
  },
  {
   "cell_type": "code",
   "execution_count": 99,
   "metadata": {},
   "outputs": [
    {
     "data": {
      "text/plain": [
       "45.06666666666667"
      ]
     },
     "execution_count": 99,
     "metadata": {},
     "output_type": "execute_result"
    }
   ],
   "source": [
    "2704 / 60"
   ]
  },
  {
   "cell_type": "code",
   "execution_count": 100,
   "metadata": {},
   "outputs": [
    {
     "data": {
      "text/plain": [
       "'starved_noWater'"
      ]
     },
     "execution_count": 100,
     "metadata": {},
     "output_type": "execute_result"
    }
   ],
   "source": [
    "TestFly.FeedingState"
   ]
  },
  {
   "cell_type": "code",
   "execution_count": 101,
   "metadata": {},
   "outputs": [
    {
     "data": {
      "text/plain": [
       "{1: {1: [[np.int64(52980), np.int64(53066), np.int64(86)],\n",
       "   [np.int64(53651), np.int64(53869), np.int64(218)],\n",
       "   [np.int64(54166), np.int64(54554), np.int64(388)],\n",
       "   [np.int64(55126), np.int64(55710), np.int64(584)],\n",
       "   [np.int64(56022), np.int64(56101), np.int64(79)],\n",
       "   [np.int64(56493), np.int64(56603), np.int64(110)],\n",
       "   [np.int64(56889), np.int64(57498), np.int64(609)],\n",
       "   [np.int64(58191), np.int64(58289), np.int64(98)],\n",
       "   [np.int64(58541), np.int64(58654), np.int64(113)],\n",
       "   [np.int64(59233), np.int64(59302), np.int64(69)],\n",
       "   [np.int64(59711), np.int64(60034), np.int64(323)],\n",
       "   [np.int64(60964), np.int64(61259), np.int64(295)],\n",
       "   [np.int64(62187), np.int64(62274), np.int64(87)],\n",
       "   [np.int64(63039), np.int64(63100), np.int64(61)],\n",
       "   [np.int64(63554), np.int64(63620), np.int64(66)],\n",
       "   [np.int64(64498), np.int64(64575), np.int64(77)],\n",
       "   [np.int64(65043), np.int64(65159), np.int64(116)],\n",
       "   [np.int64(65870), np.int64(66007), np.int64(137)],\n",
       "   [np.int64(66494), np.int64(66807), np.int64(313)],\n",
       "   [np.int64(67637), np.int64(68002), np.int64(365)],\n",
       "   [np.int64(68769), np.int64(69006), np.int64(237)],\n",
       "   [np.int64(69427), np.int64(70538), np.int64(1111)],\n",
       "   [np.int64(72017), np.int64(72217), np.int64(200)],\n",
       "   [np.int64(78416), np.int64(78777), np.int64(361)],\n",
       "   [np.int64(79562), np.int64(79649), np.int64(87)],\n",
       "   [np.int64(79987), np.int64(80211), np.int64(224)],\n",
       "   [np.int64(83167), np.int64(83279), np.int64(112)],\n",
       "   [np.int64(84766), np.int64(84862), np.int64(96)],\n",
       "   [np.int64(85329), np.int64(85396), np.int64(67)],\n",
       "   [np.int64(88215), np.int64(88446), np.int64(231)],\n",
       "   [np.int64(92091), np.int64(92161), np.int64(70)],\n",
       "   [np.int64(93609), np.int64(93718), np.int64(109)],\n",
       "   [np.int64(97803), np.int64(97986), np.int64(183)],\n",
       "   [np.int64(99524), np.int64(99596), np.int64(72)],\n",
       "   [np.int64(103334), np.int64(103610), np.int64(276)],\n",
       "   [np.int64(105021), np.int64(105153), np.int64(132)],\n",
       "   [np.int64(106417), np.int64(107185), np.int64(768)],\n",
       "   [np.int64(113626), np.int64(113932), np.int64(306)],\n",
       "   [np.int64(115173), np.int64(115237), np.int64(64)],\n",
       "   [np.int64(118636), np.int64(118717), np.int64(81)],\n",
       "   [np.int64(121037), np.int64(121146), np.int64(109)],\n",
       "   [np.int64(122403), np.int64(122497), np.int64(94)],\n",
       "   [np.int64(124444), np.int64(125177), np.int64(733)],\n",
       "   [np.int64(125503), np.int64(125698), np.int64(195)],\n",
       "   [np.int64(132525), np.int64(132649), np.int64(124)],\n",
       "   [np.int64(138276), np.int64(138371), np.int64(95)],\n",
       "   [np.int64(138887), np.int64(139047), np.int64(160)],\n",
       "   [np.int64(142259), np.int64(142486), np.int64(227)],\n",
       "   [np.int64(145511), np.int64(145866), np.int64(355)],\n",
       "   [np.int64(149906), np.int64(150000), np.int64(94)],\n",
       "   [np.int64(151292), np.int64(151557), np.int64(265)],\n",
       "   [np.int64(154751), np.int64(154949), np.int64(198)]]}}"
      ]
     },
     "execution_count": 101,
     "metadata": {},
     "output_type": "execute_result"
    }
   ],
   "source": [
    "TestFly.interaction_events"
   ]
  },
  {
   "cell_type": "code",
   "execution_count": 102,
   "metadata": {},
   "outputs": [
    {
     "name": "stdout",
     "output_type": "stream",
     "text": [
      "Number of events for 1: 1\n"
     ]
    },
    {
     "data": {
      "text/plain": [
       "{1: 1}"
      ]
     },
     "execution_count": 102,
     "metadata": {},
     "output_type": "execute_result"
    }
   ],
   "source": [
    "TestFly.get_events_number()"
   ]
  },
  {
   "cell_type": "code",
   "execution_count": 106,
   "metadata": {},
   "outputs": [
    {
     "data": {
      "text/plain": [
       "{'final_event': ([np.int64(78416), np.int64(78777), np.int64(361)], 23),\n",
       " 'significant_events': [[np.int64(53651), np.int64(53869), np.int64(218)],\n",
       "  [np.int64(54166), np.int64(54554), np.int64(388)],\n",
       "  [np.int64(55126), np.int64(55710), np.int64(584)],\n",
       "  [np.int64(56022), np.int64(56101), np.int64(79)],\n",
       "  [np.int64(56493), np.int64(56603), np.int64(110)],\n",
       "  [np.int64(56889), np.int64(57498), np.int64(609)],\n",
       "  [np.int64(58541), np.int64(58654), np.int64(113)],\n",
       "  [np.int64(59233), np.int64(59302), np.int64(69)],\n",
       "  [np.int64(59711), np.int64(60034), np.int64(323)],\n",
       "  [np.int64(60964), np.int64(61259), np.int64(295)],\n",
       "  [np.int64(62187), np.int64(62274), np.int64(87)],\n",
       "  [np.int64(64498), np.int64(64575), np.int64(77)],\n",
       "  [np.int64(66494), np.int64(66807), np.int64(313)],\n",
       "  [np.int64(67637), np.int64(68002), np.int64(365)],\n",
       "  [np.int64(68769), np.int64(69006), np.int64(237)],\n",
       "  [np.int64(69427), np.int64(70538), np.int64(1111)],\n",
       "  [np.int64(142259), np.int64(142486), np.int64(227)],\n",
       "  [np.int64(145511), np.int64(145866), np.int64(355)]],\n",
       " 'breaks': [(0, np.int64(52980), np.int64(52980)),\n",
       "  (np.int64(53066), np.int64(53651), np.int64(585)),\n",
       "  (np.int64(53869), np.int64(54166), np.int64(297)),\n",
       "  (np.int64(54554), np.int64(55126), np.int64(572)),\n",
       "  (np.int64(55710), np.int64(56022), np.int64(312)),\n",
       "  (np.int64(56101), np.int64(56493), np.int64(392)),\n",
       "  (np.int64(56603), np.int64(56889), np.int64(286)),\n",
       "  (np.int64(57498), np.int64(58191), np.int64(693)),\n",
       "  (np.int64(58289), np.int64(58541), np.int64(252)),\n",
       "  (np.int64(58654), np.int64(59233), np.int64(579)),\n",
       "  (np.int64(59302), np.int64(59711), np.int64(409)),\n",
       "  (np.int64(60034), np.int64(60964), np.int64(930)),\n",
       "  (np.int64(61259), np.int64(62187), np.int64(928)),\n",
       "  (np.int64(62274), np.int64(63039), np.int64(765)),\n",
       "  (np.int64(63100), np.int64(63554), np.int64(454)),\n",
       "  (np.int64(63620), np.int64(64498), np.int64(878)),\n",
       "  (np.int64(64575), np.int64(65043), np.int64(468)),\n",
       "  (np.int64(65159), np.int64(65870), np.int64(711)),\n",
       "  (np.int64(66007), np.int64(66494), np.int64(487)),\n",
       "  (np.int64(66807), np.int64(67637), np.int64(830)),\n",
       "  (np.int64(68002), np.int64(68769), np.int64(767)),\n",
       "  (np.int64(69006), np.int64(69427), np.int64(421)),\n",
       "  (np.int64(70538), np.int64(72017), np.int64(1479)),\n",
       "  (np.int64(72217), np.int64(78416), np.int64(6199)),\n",
       "  (np.int64(78777), np.int64(79562), np.int64(785)),\n",
       "  (np.int64(79649), np.int64(79987), np.int64(338)),\n",
       "  (np.int64(80211), np.int64(83167), np.int64(2956)),\n",
       "  (np.int64(83279), np.int64(84766), np.int64(1487)),\n",
       "  (np.int64(84862), np.int64(85329), np.int64(467)),\n",
       "  (np.int64(85396), np.int64(88215), np.int64(2819)),\n",
       "  (np.int64(88446), np.int64(92091), np.int64(3645)),\n",
       "  (np.int64(92161), np.int64(93609), np.int64(1448)),\n",
       "  (np.int64(93718), np.int64(97803), np.int64(4085)),\n",
       "  (np.int64(97986), np.int64(99524), np.int64(1538)),\n",
       "  (np.int64(99596), np.int64(103334), np.int64(3738)),\n",
       "  (np.int64(103610), np.int64(105021), np.int64(1411)),\n",
       "  (np.int64(105153), np.int64(106417), np.int64(1264)),\n",
       "  (np.int64(107185), np.int64(113626), np.int64(6441)),\n",
       "  (np.int64(113932), np.int64(115173), np.int64(1241)),\n",
       "  (np.int64(115237), np.int64(118636), np.int64(3399)),\n",
       "  (np.int64(118717), np.int64(121037), np.int64(2320)),\n",
       "  (np.int64(121146), np.int64(122403), np.int64(1257)),\n",
       "  (np.int64(122497), np.int64(124444), np.int64(1947)),\n",
       "  (np.int64(125177), np.int64(125503), np.int64(326)),\n",
       "  (np.int64(125698), np.int64(132525), np.int64(6827)),\n",
       "  (np.int64(132649), np.int64(138276), np.int64(5627)),\n",
       "  (np.int64(138371), np.int64(138887), np.int64(516)),\n",
       "  (np.int64(139047), np.int64(142259), np.int64(3212)),\n",
       "  (np.int64(142486), np.int64(145511), np.int64(3025)),\n",
       "  (np.int64(145866), np.int64(149906), np.int64(4040)),\n",
       "  (np.int64(150000), np.int64(151292), np.int64(1292)),\n",
       "  (np.int64(151557), np.int64(154751), np.int64(3194)),\n",
       "  (np.int64(154949), 156603, np.int64(1654))],\n",
       " 'cumulated_breaks_duration': np.int64(144973),\n",
       " 'events_direction': ([[np.int64(53651), np.int64(53869), np.int64(218)],\n",
       "   [np.int64(56493), np.int64(56603), np.int64(110)],\n",
       "   [np.int64(59233), np.int64(59302), np.int64(69)],\n",
       "   [np.int64(59711), np.int64(60034), np.int64(323)],\n",
       "   [np.int64(62187), np.int64(62274), np.int64(87)],\n",
       "   [np.int64(66494), np.int64(66807), np.int64(313)],\n",
       "   [np.int64(69427), np.int64(70538), np.int64(1111)]],\n",
       "  [[np.int64(54166), np.int64(54554), np.int64(388)],\n",
       "   [np.int64(55126), np.int64(55710), np.int64(584)],\n",
       "   [np.int64(56022), np.int64(56101), np.int64(79)],\n",
       "   [np.int64(56889), np.int64(57498), np.int64(609)],\n",
       "   [np.int64(58541), np.int64(58654), np.int64(113)],\n",
       "   [np.int64(60964), np.int64(61259), np.int64(295)],\n",
       "   [np.int64(64498), np.int64(64575), np.int64(77)],\n",
       "   [np.int64(67637), np.int64(68002), np.int64(365)],\n",
       "   [np.int64(68769), np.int64(69006), np.int64(237)],\n",
       "   [np.int64(142259), np.int64(142486), np.int64(227)],\n",
       "   [np.int64(145511), np.int64(145866), np.int64(355)]])}"
      ]
     },
     "execution_count": 106,
     "metadata": {},
     "output_type": "execute_result"
    }
   ],
   "source": [
    "TestFly.metrics[\"fly_1_ball_1\"]"
   ]
  },
  {
   "cell_type": "code",
   "execution_count": 115,
   "metadata": {},
   "outputs": [
    {
     "data": {
      "text/plain": [
       "np.int64(78416)"
      ]
     },
     "execution_count": 115,
     "metadata": {},
     "output_type": "execute_result"
    }
   ],
   "source": [
    "final_event[0][0]"
   ]
  },
  {
   "cell_type": "code",
   "execution_count": 141,
   "metadata": {},
   "outputs": [
    {
     "name": "stdout",
     "output_type": "stream",
     "text": [
      "No CUDA devices found, falling back to CPU processing.\n"
     ]
    },
    {
     "name": "stderr",
     "output_type": "stream",
     "text": [
      "Processing frames: 100%|██████████| 610/610 [00:15<00:00, 38.82it/s]\n"
     ]
    }
   ],
   "source": [
    "# Make an annotated video of the final event of the fly\n",
    "final_event = TestFly.metrics[\"fly_1_ball_1\"][\"final_event\"]\n",
    "\n",
    "TestFly.balltrack.generate_annotated_video(\n",
    "    save=True,\n",
    "    output_path = \"/mnt/upramdya_data/MD/Other_Videos/Events_annotation/final_event.mp4\",\n",
    "    start=final_event[0][0],\n",
    "    end = final_event[0][1]\n",
    ")\n"
   ]
  },
  {
   "cell_type": "code",
   "execution_count": 121,
   "metadata": {},
   "outputs": [
    {
     "data": {
      "text/plain": [
       "{1: {1: [[np.int64(52980), np.int64(53066), np.int64(86)],\n",
       "   [np.int64(53651), np.int64(53869), np.int64(218)],\n",
       "   [np.int64(54166), np.int64(54554), np.int64(388)],\n",
       "   [np.int64(55126), np.int64(55710), np.int64(584)],\n",
       "   [np.int64(56022), np.int64(56101), np.int64(79)],\n",
       "   [np.int64(56493), np.int64(56603), np.int64(110)],\n",
       "   [np.int64(56889), np.int64(57498), np.int64(609)],\n",
       "   [np.int64(58191), np.int64(58289), np.int64(98)],\n",
       "   [np.int64(58541), np.int64(58654), np.int64(113)],\n",
       "   [np.int64(59233), np.int64(59302), np.int64(69)],\n",
       "   [np.int64(59711), np.int64(60034), np.int64(323)],\n",
       "   [np.int64(60964), np.int64(61259), np.int64(295)],\n",
       "   [np.int64(62187), np.int64(62274), np.int64(87)],\n",
       "   [np.int64(63039), np.int64(63100), np.int64(61)],\n",
       "   [np.int64(63554), np.int64(63620), np.int64(66)],\n",
       "   [np.int64(64498), np.int64(64575), np.int64(77)],\n",
       "   [np.int64(65043), np.int64(65159), np.int64(116)],\n",
       "   [np.int64(65870), np.int64(66007), np.int64(137)],\n",
       "   [np.int64(66494), np.int64(66807), np.int64(313)],\n",
       "   [np.int64(67637), np.int64(68002), np.int64(365)],\n",
       "   [np.int64(68769), np.int64(69006), np.int64(237)],\n",
       "   [np.int64(69427), np.int64(70538), np.int64(1111)],\n",
       "   [np.int64(72017), np.int64(72217), np.int64(200)],\n",
       "   [np.int64(78416), np.int64(78777), np.int64(361)],\n",
       "   [np.int64(79562), np.int64(79649), np.int64(87)],\n",
       "   [np.int64(79987), np.int64(80211), np.int64(224)],\n",
       "   [np.int64(83167), np.int64(83279), np.int64(112)],\n",
       "   [np.int64(84766), np.int64(84862), np.int64(96)],\n",
       "   [np.int64(85329), np.int64(85396), np.int64(67)],\n",
       "   [np.int64(88215), np.int64(88446), np.int64(231)],\n",
       "   [np.int64(92091), np.int64(92161), np.int64(70)],\n",
       "   [np.int64(93609), np.int64(93718), np.int64(109)],\n",
       "   [np.int64(97803), np.int64(97986), np.int64(183)],\n",
       "   [np.int64(99524), np.int64(99596), np.int64(72)],\n",
       "   [np.int64(103334), np.int64(103610), np.int64(276)],\n",
       "   [np.int64(105021), np.int64(105153), np.int64(132)],\n",
       "   [np.int64(106417), np.int64(107185), np.int64(768)],\n",
       "   [np.int64(113626), np.int64(113932), np.int64(306)],\n",
       "   [np.int64(115173), np.int64(115237), np.int64(64)],\n",
       "   [np.int64(118636), np.int64(118717), np.int64(81)],\n",
       "   [np.int64(121037), np.int64(121146), np.int64(109)],\n",
       "   [np.int64(122403), np.int64(122497), np.int64(94)],\n",
       "   [np.int64(124444), np.int64(125177), np.int64(733)],\n",
       "   [np.int64(125503), np.int64(125698), np.int64(195)],\n",
       "   [np.int64(132525), np.int64(132649), np.int64(124)],\n",
       "   [np.int64(138276), np.int64(138371), np.int64(95)],\n",
       "   [np.int64(138887), np.int64(139047), np.int64(160)],\n",
       "   [np.int64(142259), np.int64(142486), np.int64(227)],\n",
       "   [np.int64(145511), np.int64(145866), np.int64(355)],\n",
       "   [np.int64(149906), np.int64(150000), np.int64(94)],\n",
       "   [np.int64(151292), np.int64(151557), np.int64(265)],\n",
       "   [np.int64(154751), np.int64(154949), np.int64(198)]]}}"
      ]
     },
     "execution_count": 121,
     "metadata": {},
     "output_type": "execute_result"
    }
   ],
   "source": [
    "TestFly.interaction_events"
   ]
  },
  {
   "cell_type": "code",
   "execution_count": 125,
   "metadata": {},
   "outputs": [
    {
     "data": {
      "text/plain": [
       "[19, 20, 21, 22, 23]"
      ]
     },
     "execution_count": 125,
     "metadata": {},
     "output_type": "execute_result"
    }
   ],
   "source": [
    "# Plot the ball position during the final event and the 4 previous events\n",
    "\n",
    "final_event_idx = final_event[1]\n",
    "\n",
    "events = TestFly.interaction_events[1][1]\n",
    " \n",
    "events_idx = [final_event_idx - 4, final_event_idx - 3, final_event_idx - 2, final_event_idx - 1, final_event_idx]\n",
    "\n",
    "events_idx"
   ]
  },
  {
   "cell_type": "code",
   "execution_count": 126,
   "metadata": {},
   "outputs": [
    {
     "data": {
      "text/plain": [
       "[np.int64(67637), np.int64(68002), np.int64(365)]"
      ]
     },
     "execution_count": 126,
     "metadata": {},
     "output_type": "execute_result"
    }
   ],
   "source": [
    "events[19]"
   ]
  },
  {
   "cell_type": "code",
   "execution_count": 129,
   "metadata": {},
   "outputs": [
    {
     "name": "stdout",
     "output_type": "stream",
     "text": [
      "No CUDA devices found, falling back to CPU processing.\n"
     ]
    },
    {
     "name": "stderr",
     "output_type": "stream",
     "text": [
      "Processing frames: 100%|██████████| 366/366 [00:09<00:00, 37.77it/s]\n"
     ]
    },
    {
     "name": "stdout",
     "output_type": "stream",
     "text": [
      "No CUDA devices found, falling back to CPU processing.\n"
     ]
    },
    {
     "name": "stderr",
     "output_type": "stream",
     "text": [
      "Processing frames: 100%|██████████| 238/238 [00:06<00:00, 36.93it/s]\n"
     ]
    },
    {
     "name": "stdout",
     "output_type": "stream",
     "text": [
      "No CUDA devices found, falling back to CPU processing.\n"
     ]
    },
    {
     "name": "stderr",
     "output_type": "stream",
     "text": [
      "Processing frames: 100%|██████████| 1112/1112 [00:32<00:00, 34.37it/s]\n"
     ]
    },
    {
     "name": "stdout",
     "output_type": "stream",
     "text": [
      "No CUDA devices found, falling back to CPU processing.\n"
     ]
    },
    {
     "name": "stderr",
     "output_type": "stream",
     "text": [
      "Processing frames: 100%|██████████| 201/201 [00:05<00:00, 35.84it/s]\n"
     ]
    },
    {
     "name": "stdout",
     "output_type": "stream",
     "text": [
      "No CUDA devices found, falling back to CPU processing.\n"
     ]
    },
    {
     "name": "stderr",
     "output_type": "stream",
     "text": [
      "Processing frames: 100%|██████████| 362/362 [00:09<00:00, 37.90it/s]\n"
     ]
    }
   ],
   "source": [
    "for i in events_idx:\n",
    "    TestFly.balltrack.generate_annotated_video(\n",
    "        start=events[i][0],\n",
    "        end=events[i][1],\n",
    "        save=True,\n",
    "        output_path = f\"/mnt/upramdya_data/MD/Other_Videos/Events_annotation/event_{i}.mp4\"\n",
    "    )"
   ]
  },
  {
   "cell_type": "code",
   "execution_count": null,
   "metadata": {},
   "outputs": [],
   "source": []
  },
  {
   "cell_type": "code",
   "execution_count": 130,
   "metadata": {},
   "outputs": [
    {
     "data": {
      "text/html": [
       "<div>\n",
       "<style scoped>\n",
       "    .dataframe tbody tr th:only-of-type {\n",
       "        vertical-align: middle;\n",
       "    }\n",
       "\n",
       "    .dataframe tbody tr th {\n",
       "        vertical-align: top;\n",
       "    }\n",
       "\n",
       "    .dataframe thead th {\n",
       "        text-align: right;\n",
       "    }\n",
       "</style>\n",
       "<table border=\"1\" class=\"dataframe\">\n",
       "  <thead>\n",
       "    <tr style=\"text-align: right;\">\n",
       "      <th></th>\n",
       "      <th>frame</th>\n",
       "      <th>time</th>\n",
       "      <th>object</th>\n",
       "      <th>x_centre</th>\n",
       "      <th>y_centre</th>\n",
       "    </tr>\n",
       "  </thead>\n",
       "  <tbody>\n",
       "    <tr>\n",
       "      <th>0</th>\n",
       "      <td>1</td>\n",
       "      <td>0.034483</td>\n",
       "      <td>ball_1</td>\n",
       "      <td>48.438969</td>\n",
       "      <td>337.431762</td>\n",
       "    </tr>\n",
       "    <tr>\n",
       "      <th>1</th>\n",
       "      <td>2</td>\n",
       "      <td>0.068966</td>\n",
       "      <td>ball_1</td>\n",
       "      <td>48.439048</td>\n",
       "      <td>337.431753</td>\n",
       "    </tr>\n",
       "    <tr>\n",
       "      <th>2</th>\n",
       "      <td>3</td>\n",
       "      <td>0.103448</td>\n",
       "      <td>ball_1</td>\n",
       "      <td>48.439126</td>\n",
       "      <td>337.431744</td>\n",
       "    </tr>\n",
       "    <tr>\n",
       "      <th>3</th>\n",
       "      <td>4</td>\n",
       "      <td>0.137931</td>\n",
       "      <td>ball_1</td>\n",
       "      <td>48.439205</td>\n",
       "      <td>337.431736</td>\n",
       "    </tr>\n",
       "    <tr>\n",
       "      <th>4</th>\n",
       "      <td>5</td>\n",
       "      <td>0.172414</td>\n",
       "      <td>ball_1</td>\n",
       "      <td>48.439284</td>\n",
       "      <td>337.431727</td>\n",
       "    </tr>\n",
       "    <tr>\n",
       "      <th>...</th>\n",
       "      <td>...</td>\n",
       "      <td>...</td>\n",
       "      <td>...</td>\n",
       "      <td>...</td>\n",
       "      <td>...</td>\n",
       "    </tr>\n",
       "    <tr>\n",
       "      <th>156598</th>\n",
       "      <td>156599</td>\n",
       "      <td>5399.965517</td>\n",
       "      <td>ball_1</td>\n",
       "      <td>47.108495</td>\n",
       "      <td>115.377940</td>\n",
       "    </tr>\n",
       "    <tr>\n",
       "      <th>156599</th>\n",
       "      <td>156600</td>\n",
       "      <td>5400.000000</td>\n",
       "      <td>ball_1</td>\n",
       "      <td>47.103990</td>\n",
       "      <td>115.382139</td>\n",
       "    </tr>\n",
       "    <tr>\n",
       "      <th>156600</th>\n",
       "      <td>156601</td>\n",
       "      <td>5400.034483</td>\n",
       "      <td>ball_1</td>\n",
       "      <td>47.099485</td>\n",
       "      <td>115.386337</td>\n",
       "    </tr>\n",
       "    <tr>\n",
       "      <th>156601</th>\n",
       "      <td>156602</td>\n",
       "      <td>5400.068966</td>\n",
       "      <td>ball_1</td>\n",
       "      <td>47.094980</td>\n",
       "      <td>115.390535</td>\n",
       "    </tr>\n",
       "    <tr>\n",
       "      <th>156602</th>\n",
       "      <td>156603</td>\n",
       "      <td>5400.103448</td>\n",
       "      <td>ball_1</td>\n",
       "      <td>47.090475</td>\n",
       "      <td>115.394733</td>\n",
       "    </tr>\n",
       "  </tbody>\n",
       "</table>\n",
       "<p>156603 rows × 5 columns</p>\n",
       "</div>"
      ],
      "text/plain": [
       "         frame         time  object   x_centre    y_centre\n",
       "0            1     0.034483  ball_1  48.438969  337.431762\n",
       "1            2     0.068966  ball_1  48.439048  337.431753\n",
       "2            3     0.103448  ball_1  48.439126  337.431744\n",
       "3            4     0.137931  ball_1  48.439205  337.431736\n",
       "4            5     0.172414  ball_1  48.439284  337.431727\n",
       "...        ...          ...     ...        ...         ...\n",
       "156598  156599  5399.965517  ball_1  47.108495  115.377940\n",
       "156599  156600  5400.000000  ball_1  47.103990  115.382139\n",
       "156600  156601  5400.034483  ball_1  47.099485  115.386337\n",
       "156601  156602  5400.068966  ball_1  47.094980  115.390535\n",
       "156602  156603  5400.103448  ball_1  47.090475  115.394733\n",
       "\n",
       "[156603 rows x 5 columns]"
      ]
     },
     "execution_count": 130,
     "metadata": {},
     "output_type": "execute_result"
    }
   ],
   "source": [
    "# Plot the ball positions\n",
    "\n",
    "positions = TestFly.balltrack.dataset\n",
    "\n",
    "positions"
   ]
  },
  {
   "cell_type": "code",
   "execution_count": 131,
   "metadata": {},
   "outputs": [
    {
     "data": {
      "image/png": "[encoded data removed]",
      "text/plain": [
       "<Figure size 640x480 with 1 Axes>"
      ]
     },
     "metadata": {},
     "output_type": "display_data"
    }
   ],
   "source": [
    "# Plot the y_centre of the ball over time\n",
    "\n",
    "import matplotlib.pyplot as plt\n",
    "\n",
    "plt.plot(positions[\"y_centre\"])\n",
    "plt.show()"
   ]
  },
  {
   "cell_type": "code",
   "execution_count": 132,
   "metadata": {},
   "outputs": [],
   "source": [
    "# Generate relative positions based on the y_centre\n",
    "\n",
    "positions[\"y_relative\"] = abs(positions[\"y_centre\"] - positions[\"y_centre\"].iloc[0])"
   ]
  },
  {
   "cell_type": "code",
   "execution_count": 133,
   "metadata": {},
   "outputs": [
    {
     "data": {
      "image/png": "[encoded data removed]",
      "text/plain": [
       "<Figure size 640x480 with 1 Axes>"
      ]
     },
     "metadata": {},
     "output_type": "display_data"
    }
   ],
   "source": [
    "plt.plot(positions[\"y_relative\"])\n",
    "plt.show()"
   ]
  },
  {
   "cell_type": "code",
   "execution_count": 134,
   "metadata": {},
   "outputs": [],
   "source": [
    "# get max relative position\n",
    "\n",
    "max_relative = positions[\"y_relative\"].max()"
   ]
  },
  {
   "cell_type": "code",
   "execution_count": 35,
   "metadata": {},
   "outputs": [],
   "source": [
    "TestFly.fly_skeleton"
   ]
  },
  {
   "cell_type": "code",
   "execution_count": 53,
   "metadata": {},
   "outputs": [
    {
     "data": {
      "text/plain": [
       "{'training': ([np.int64(1190), np.int64(1327), np.int64(137)], 1)}"
      ]
     },
     "execution_count": 53,
     "metadata": {},
     "output_type": "execute_result"
    }
   ],
   "source": [
    "TestFly.get_final_event()"
   ]
  },
  {
   "cell_type": "code",
   "execution_count": 54,
   "metadata": {},
   "outputs": [
    {
     "data": {
      "text/plain": [
       "{'training': ([[np.int64(407), np.int64(575), np.int64(168)],\n",
       "   [np.int64(4505), np.int64(4994), np.int64(489)],\n",
       "   [np.int64(54024), np.int64(54403), np.int64(379)],\n",
       "   [np.int64(75614), np.int64(76629), np.int64(1015)],\n",
       "   [np.int64(82840), np.int64(83400), np.int64(560)],\n",
       "   [np.int64(88671), np.int64(88894), np.int64(223)],\n",
       "   [np.int64(94103), np.int64(96361), np.int64(2258)]],\n",
       "  [[np.int64(1848), np.int64(1961), np.int64(113)],\n",
       "   [np.int64(58404), np.int64(59573), np.int64(1169)],\n",
       "   [np.int64(87235), np.int64(88421), np.int64(1186)]])}"
      ]
     },
     "execution_count": 54,
     "metadata": {},
     "output_type": "execute_result"
    }
   ],
   "source": [
    "TestFly.find_events_direction()"
   ]
  },
  {
   "cell_type": "code",
   "execution_count": 46,
   "metadata": {},
   "outputs": [
    {
     "data": {
      "text/plain": [
       "<module 'utils_behavior.Ballpushing_utils' from '/home/durrieu/utils_behavior/utils_behavior/Ballpushing_utils.py'>"
      ]
     },
     "execution_count": 46,
     "metadata": {},
     "output_type": "execute_result"
    }
   ],
   "source": [
    "importlib.reload(Ballpushing_utils)"
   ]
  },
  {
   "cell_type": "code",
   "execution_count": 47,
   "metadata": {},
   "outputs": [
    {
     "name": "stdout",
     "output_type": "stream",
     "text": [
      "Processing fly 1/1\n",
      "smoothing tracks\n",
      "Loaded SLEAP tracking file: /mnt/upramdya_data/MD/F1_Tracks/Videos/240821_F1_3mm_ends_Videos_Checked/arena6/Right/arena6_right_rotated_tracked_fly.000_arena6_right_rotated.analysis.h5\n",
      "N° of objects: 1\n",
      "Nodes: ['thorax']\n",
      "Video FPS: 29.0\n",
      "Processing ball 1/2\n",
      "smoothing tracks\n",
      "Processing ball 2/2\n",
      "smoothing tracks\n",
      "Loaded SLEAP tracking file: /mnt/upramdya_data/MD/F1_Tracks/Videos/240821_F1_3mm_ends_Videos_Checked/arena6/Right/arena6_right_rotated_tracked_ball_processed.000_arena6_right_rotated.analysis.h5\n",
      "N° of objects: 2\n",
      "Nodes: ['centre']\n",
      "Video FPS: 29.0\n",
      "Processing ball index: 1\n",
      "Non-NaN xfly count: 261006, Non-NaN xball count: 261006\n",
      "Initial separation: 176.94497394316858\n",
      "Processing ball index: 2\n",
      "Non-NaN xfly count: 261006, Non-NaN xball count: 0\n",
      "No valid tracking data for xfly or xball for 2\n",
      "Final data_dict keys: ['generalisation']\n",
      "Processing ball type: generalisation\n",
      "        yball       xball        yfly       xfly  Frame      time  ball_idx  \\\n",
      "0  420.198693  230.618558  499.093777  53.673584      1  0.034483         1   \n",
      "1  420.198823  230.617242  499.102395  53.662504      2  0.068966         1   \n",
      "2  420.198952  230.615925  499.111013  53.651423      3  0.103448         1   \n",
      "3  420.199082  230.614609  499.119631  53.640343      4  0.137931         1   \n",
      "4  420.199212  230.613293  499.128249  53.629262      5  0.172414         1   \n",
      "\n",
      "   yfly_relative  yball_relative       ball_type  \n",
      "0       0.000000       78.895084  generalisation  \n",
      "1       0.008618       78.894954  generalisation  \n",
      "2       0.017236       78.894825  generalisation  \n",
      "3       0.025854       78.894695  generalisation  \n",
      "4       0.034472       78.894565  generalisation  \n",
      "Final events_dict: {}\n",
      "start_y: 499.0937770765598, type: <class 'numpy.float64'>\n",
      "240821_F1_3mm_ends_Videos_Checked_arena6_Right is alive based on movement.\n",
      "False\n",
      "Interaction events keys: dict_keys([])\n",
      "Annotating events for ball type: generalisation\n"
     ]
    },
    {
     "ename": "KeyError",
     "evalue": "'generalisation'",
     "output_type": "error",
     "traceback": [
      "\u001b[0;31m---------------------------------------------------------------------------\u001b[0m",
      "\u001b[0;31mKeyError\u001b[0m                                  Traceback (most recent call last)",
      "Cell \u001b[0;32mIn[47], line 1\u001b[0m\n\u001b[0;32m----> 1\u001b[0m TestFly_F1 \u001b[38;5;241m=\u001b[39m \u001b[43mBallpushing_utils\u001b[49m\u001b[38;5;241;43m.\u001b[39;49m\u001b[43mFly\u001b[49m\u001b[43m(\u001b[49m\u001b[38;5;124;43m\"\u001b[39;49m\u001b[38;5;124;43m/mnt/upramdya_data/MD/F1_Tracks/Videos/240821_F1_3mm_ends_Videos_Checked/arena6/Right\u001b[39;49m\u001b[38;5;124;43m\"\u001b[39;49m\u001b[43m,\u001b[49m\u001b[43m \u001b[49m\u001b[43mas_individual\u001b[49m\u001b[38;5;241;43m=\u001b[39;49m\u001b[38;5;28;43;01mTrue\u001b[39;49;00m\u001b[43m)\u001b[49m\n",
      "File \u001b[0;32m~/utils_behavior/utils_behavior/Ballpushing_utils.py:358\u001b[0m, in \u001b[0;36mFly.__init__\u001b[0;34m(self, directory, experiment, as_individual)\u001b[0m\n\u001b[1;32m    355\u001b[0m \u001b[38;5;28mprint\u001b[39m(\u001b[38;5;28mself\u001b[39m\u001b[38;5;241m.\u001b[39mdead_or_empty)\n\u001b[1;32m    357\u001b[0m \u001b[38;5;28;01mif\u001b[39;00m \u001b[38;5;129;01mnot\u001b[39;00m \u001b[38;5;28mself\u001b[39m\u001b[38;5;241m.\u001b[39mdead_or_empty:\n\u001b[0;32m--> 358\u001b[0m     \u001b[38;5;28;43mself\u001b[39;49m\u001b[38;5;241;43m.\u001b[39;49m\u001b[43mannotate_events\u001b[49m\u001b[43m(\u001b[49m\u001b[43m)\u001b[49m\n\u001b[1;32m    360\u001b[0m \u001b[38;5;28mself\u001b[39m\u001b[38;5;241m.\u001b[39mexit_time \u001b[38;5;241m=\u001b[39m \u001b[38;5;28mself\u001b[39m\u001b[38;5;241m.\u001b[39mget_exit_time()\n",
      "File \u001b[0;32m~/utils_behavior/utils_behavior/Ballpushing_utils.py:943\u001b[0m, in \u001b[0;36mFly.annotate_events\u001b[0;34m(self)\u001b[0m\n\u001b[1;32m    940\u001b[0m \u001b[38;5;28mprint\u001b[39m(\u001b[38;5;124m\"\u001b[39m\u001b[38;5;124mAnnotating events for ball type:\u001b[39m\u001b[38;5;124m\"\u001b[39m, ball_type)\n\u001b[1;32m    941\u001b[0m flyball_positions[\u001b[38;5;124m\"\u001b[39m\u001b[38;5;124mevent\u001b[39m\u001b[38;5;124m\"\u001b[39m] \u001b[38;5;241m=\u001b[39m \u001b[38;5;28;01mNone\u001b[39;00m\n\u001b[0;32m--> 943\u001b[0m \u001b[38;5;28;01mfor\u001b[39;00m i, event \u001b[38;5;129;01min\u001b[39;00m \u001b[38;5;28menumerate\u001b[39m(\u001b[38;5;28;43mself\u001b[39;49m\u001b[38;5;241;43m.\u001b[39;49m\u001b[43minteraction_events\u001b[49m\u001b[43m[\u001b[49m\u001b[43mball_type\u001b[49m\u001b[43m]\u001b[49m, start\u001b[38;5;241m=\u001b[39m\u001b[38;5;241m1\u001b[39m):\n\u001b[1;32m    944\u001b[0m     start, end \u001b[38;5;241m=\u001b[39m event[\u001b[38;5;241m0\u001b[39m], event[\u001b[38;5;241m1\u001b[39m]\n\u001b[1;32m    946\u001b[0m     flyball_positions\u001b[38;5;241m.\u001b[39mloc[start:end, \u001b[38;5;124m\"\u001b[39m\u001b[38;5;124mevent\u001b[39m\u001b[38;5;124m\"\u001b[39m] \u001b[38;5;241m=\u001b[39m i\n",
      "\u001b[0;31mKeyError\u001b[0m: 'generalisation'"
     ]
    }
   ],
   "source": [
    "TestFly_F1 = Ballpushing_utils.Fly(\"/mnt/upramdya_data/MD/F1_Tracks/Videos/240821_F1_3mm_ends_Videos_Checked/arena6/Right\", as_individual=True)"
   ]
  },
  {
   "cell_type": "code",
   "execution_count": 23,
   "metadata": {},
   "outputs": [
    {
     "name": "stdout",
     "output_type": "stream",
     "text": [
      "Processing object 1/2\n",
      "smoothing tracks\n",
      "Processing object 2/2\n",
      "smoothing tracks\n",
      "Loaded SLEAP tracking file: /mnt/upramdya_data/MD/F1_Tracks/Videos/240821_F1_3mm_ends_Videos_Checked/arena6/Right/arena6_right_rotated_tracked_ball_processed.000_arena6_right_rotated.analysis.h5\n",
      "N° of objects: 2\n",
      "Nodes: ['centre']\n",
      "Video FPS: 29.0\n"
     ]
    }
   ],
   "source": [
    "# Load the sleaptrack for the ball for this fly\n",
    "\n",
    "Slp_test = Sleap_utils.Sleap_Tracks(\"/mnt/upramdya_data/MD/F1_Tracks/Videos/240821_F1_3mm_ends_Videos_Checked/arena6/Right/arena6_right_rotated_tracked_ball_processed.000_arena6_right_rotated.analysis.h5\")"
   ]
  },
  {
   "cell_type": "code",
   "execution_count": 24,
   "metadata": {},
   "outputs": [],
   "source": [
    "Slp_data = Slp_test.dataset"
   ]
  },
  {
   "cell_type": "code",
   "execution_count": 91,
   "metadata": {},
   "outputs": [
    {
     "data": {
      "text/plain": [
       "{'training': [[np.int64(1462), np.int64(1530), np.int64(68)],\n",
       "  [np.int64(2095), np.int64(2303), np.int64(208)],\n",
       "  [np.int64(10405), np.int64(10715), np.int64(310)],\n",
       "  [np.int64(13479), np.int64(13544), np.int64(65)],\n",
       "  [np.int64(15629), np.int64(15854), np.int64(225)],\n",
       "  [np.int64(25725), np.int64(25807), np.int64(82)],\n",
       "  [np.int64(26775), np.int64(26844), np.int64(69)],\n",
       "  [np.int64(28589), np.int64(28685), np.int64(96)],\n",
       "  [np.int64(31717), np.int64(31822), np.int64(105)],\n",
       "  [np.int64(32033), np.int64(32147), np.int64(114)],\n",
       "  [np.int64(32855), np.int64(33147), np.int64(292)],\n",
       "  [np.int64(34537), np.int64(34715), np.int64(178)],\n",
       "  [np.int64(36221), np.int64(36490), np.int64(269)],\n",
       "  [np.int64(38106), np.int64(38195), np.int64(89)],\n",
       "  [np.int64(38465), np.int64(38592), np.int64(127)],\n",
       "  [np.int64(38827), np.int64(38891), np.int64(64)],\n",
       "  [np.int64(41289), np.int64(42055), np.int64(766)],\n",
       "  [np.int64(43416), np.int64(43479), np.int64(63)],\n",
       "  [np.int64(44527), np.int64(44787), np.int64(260)],\n",
       "  [np.int64(46654), np.int64(46736), np.int64(82)],\n",
       "  [np.int64(47919), np.int64(48239), np.int64(320)],\n",
       "  [np.int64(49148), np.int64(49230), np.int64(82)],\n",
       "  [np.int64(49543), np.int64(49701), np.int64(158)],\n",
       "  [np.int64(51029), np.int64(51159), np.int64(130)],\n",
       "  [np.int64(51993), np.int64(52090), np.int64(97)],\n",
       "  [np.int64(52865), np.int64(53713), np.int64(848)],\n",
       "  [np.int64(55060), np.int64(55414), np.int64(354)],\n",
       "  [np.int64(56631), np.int64(56799), np.int64(168)],\n",
       "  [np.int64(58411), np.int64(58996), np.int64(585)],\n",
       "  [np.int64(59184), np.int64(59329), np.int64(145)],\n",
       "  [np.int64(60315), np.int64(60910), np.int64(595)],\n",
       "  [np.int64(62475), np.int64(62806), np.int64(331)],\n",
       "  [np.int64(63025), np.int64(63427), np.int64(402)],\n",
       "  [np.int64(63810), np.int64(64017), np.int64(207)],\n",
       "  [np.int64(64450), np.int64(64531), np.int64(81)],\n",
       "  [np.int64(64749), np.int64(64825), np.int64(76)],\n",
       "  [np.int64(65199), np.int64(65294), np.int64(95)],\n",
       "  [np.int64(66409), np.int64(67283), np.int64(874)],\n",
       "  [np.int64(67815), np.int64(68053), np.int64(238)],\n",
       "  [np.int64(68802), np.int64(68867), np.int64(65)],\n",
       "  [np.int64(69285), np.int64(69631), np.int64(346)],\n",
       "  [np.int64(69794), np.int64(70066), np.int64(272)],\n",
       "  [np.int64(70420), np.int64(71661), np.int64(1241)],\n",
       "  [np.int64(72118), np.int64(72414), np.int64(296)],\n",
       "  [np.int64(72580), np.int64(72811), np.int64(231)],\n",
       "  [np.int64(74366), np.int64(74495), np.int64(129)],\n",
       "  [np.int64(75098), np.int64(75368), np.int64(270)],\n",
       "  [np.int64(76146), np.int64(76525), np.int64(379)],\n",
       "  [np.int64(77973), np.int64(78081), np.int64(108)],\n",
       "  [np.int64(79216), np.int64(79308), np.int64(92)],\n",
       "  [np.int64(81932), np.int64(82109), np.int64(177)],\n",
       "  [np.int64(83579), np.int64(84001), np.int64(422)],\n",
       "  [np.int64(85202), np.int64(85274), np.int64(72)],\n",
       "  [np.int64(86044), np.int64(86542), np.int64(498)],\n",
       "  [np.int64(87811), np.int64(87932), np.int64(121)],\n",
       "  [np.int64(88164), np.int64(88781), np.int64(617)],\n",
       "  [np.int64(91120), np.int64(92258), np.int64(1138)],\n",
       "  [np.int64(92498), np.int64(92781), np.int64(283)],\n",
       "  [np.int64(93222), np.int64(93801), np.int64(579)],\n",
       "  [np.int64(94378), np.int64(95026), np.int64(648)],\n",
       "  [np.int64(98252), np.int64(98626), np.int64(374)],\n",
       "  [np.int64(101765), np.int64(101908), np.int64(143)],\n",
       "  [np.int64(102030), np.int64(102134), np.int64(104)],\n",
       "  [np.int64(104967), np.int64(105044), np.int64(77)],\n",
       "  [np.int64(105317), np.int64(105433), np.int64(116)],\n",
       "  [np.int64(120326), np.int64(120398), np.int64(72)],\n",
       "  [np.int64(123113), np.int64(123291), np.int64(178)],\n",
       "  [np.int64(130256), np.int64(130446), np.int64(190)],\n",
       "  [np.int64(131805), np.int64(131975), np.int64(170)],\n",
       "  [np.int64(135615), np.int64(135816), np.int64(201)],\n",
       "  [np.int64(138963), np.int64(139214), np.int64(251)],\n",
       "  [np.int64(140184), np.int64(140297), np.int64(113)],\n",
       "  [np.int64(140535), np.int64(141371), np.int64(836)],\n",
       "  [np.int64(141732), np.int64(141916), np.int64(184)],\n",
       "  [np.int64(146127), np.int64(146262), np.int64(135)],\n",
       "  [np.int64(146569), np.int64(146799), np.int64(230)],\n",
       "  [np.int64(150560), np.int64(150715), np.int64(155)],\n",
       "  [np.int64(160935), np.int64(161060), np.int64(125)],\n",
       "  [np.int64(165119), np.int64(165570), np.int64(451)],\n",
       "  [np.int64(167827), np.int64(168148), np.int64(321)],\n",
       "  [np.int64(180317), np.int64(180458), np.int64(141)],\n",
       "  [np.int64(186132), np.int64(186216), np.int64(84)],\n",
       "  [np.int64(188991), np.int64(189118), np.int64(127)],\n",
       "  [np.int64(199093), np.int64(199201), np.int64(108)],\n",
       "  [np.int64(201690), np.int64(202045), np.int64(355)],\n",
       "  [np.int64(207373), np.int64(207930), np.int64(557)],\n",
       "  [np.int64(208532), np.int64(208832), np.int64(300)],\n",
       "  [np.int64(214979), np.int64(215646), np.int64(667)],\n",
       "  [np.int64(224121), np.int64(224552), np.int64(431)],\n",
       "  [np.int64(227569), np.int64(227694), np.int64(125)],\n",
       "  [np.int64(229733), np.int64(229838), np.int64(105)],\n",
       "  [np.int64(234851), np.int64(234933), np.int64(82)],\n",
       "  [np.int64(237124), np.int64(237233), np.int64(109)],\n",
       "  [np.int64(239380), np.int64(239471), np.int64(91)],\n",
       "  [np.int64(240211), np.int64(240621), np.int64(410)],\n",
       "  [np.int64(242524), np.int64(242598), np.int64(74)],\n",
       "  [np.int64(246107), np.int64(246223), np.int64(116)],\n",
       "  [np.int64(249937), np.int64(250132), np.int64(195)],\n",
       "  [np.int64(257408), np.int64(257510), np.int64(102)]],\n",
       " 'generalisation': [[np.int64(96290), np.int64(96391), np.int64(101)],\n",
       "  [np.int64(106822), np.int64(107109), np.int64(287)],\n",
       "  [np.int64(109066), np.int64(109149), np.int64(83)],\n",
       "  [np.int64(109438), np.int64(109771), np.int64(333)],\n",
       "  [np.int64(113385), np.int64(113476), np.int64(91)],\n",
       "  [np.int64(118247), np.int64(118317), np.int64(70)],\n",
       "  [np.int64(125922), np.int64(126016), np.int64(94)],\n",
       "  [np.int64(128134), np.int64(128240), np.int64(106)],\n",
       "  [np.int64(142757), np.int64(143210), np.int64(453)],\n",
       "  [np.int64(144688), np.int64(144935), np.int64(247)],\n",
       "  [np.int64(149177), np.int64(149249), np.int64(72)],\n",
       "  [np.int64(149800), np.int64(149956), np.int64(156)],\n",
       "  [np.int64(150936), np.int64(151212), np.int64(276)],\n",
       "  [np.int64(154980), np.int64(155147), np.int64(167)],\n",
       "  [np.int64(168682), np.int64(168826), np.int64(144)],\n",
       "  [np.int64(169258), np.int64(169425), np.int64(167)],\n",
       "  [np.int64(170879), np.int64(170941), np.int64(62)],\n",
       "  [np.int64(171438), np.int64(171852), np.int64(414)],\n",
       "  [np.int64(189857), np.int64(190013), np.int64(156)],\n",
       "  [np.int64(211371), np.int64(211503), np.int64(132)],\n",
       "  [np.int64(243947), np.int64(244026), np.int64(79)],\n",
       "  [np.int64(254394), np.int64(254462), np.int64(68)],\n",
       "  [np.int64(254664), np.int64(254858), np.int64(194)],\n",
       "  [np.int64(258084), np.int64(258226), np.int64(142)]]}"
      ]
     },
     "execution_count": 91,
     "metadata": {},
     "output_type": "execute_result"
    }
   ],
   "source": [
    "TestFly_F1.find_interaction_events()"
   ]
  },
  {
   "cell_type": "code",
   "execution_count": 94,
   "metadata": {},
   "outputs": [
    {
     "data": {
      "text/plain": [
       "{'training': ({10: np.float64(1059.1333333333334),\n",
       "   20: np.float64(1096.9666666666667),\n",
       "   50: np.float64(3061.633333333333)},\n",
       "  {10: nan, 20: nan, 50: nan}),\n",
       " 'generalisation': ({10: np.float64(5189.133333333333),\n",
       "   20: np.float64(5233.5),\n",
       "   50: np.float64(5644.9)},\n",
       "  {10: np.float64(2020.0333333333333),\n",
       "   20: np.float64(2064.4),\n",
       "   50: np.float64(2475.7999999999997)})}"
      ]
     },
     "execution_count": 94,
     "metadata": {},
     "output_type": "execute_result"
    }
   ],
   "source": [
    "TestFly_F1.find_adjusted_time([10, 20, 50])"
   ]
  },
  {
   "cell_type": "code",
   "execution_count": 63,
   "metadata": {},
   "outputs": [
    {
     "data": {
      "text/plain": [
       "<module 'utils_behavior.Ballpushing_utils' from '/home/durrieu/utils_behavior/utils_behavior/Ballpushing_utils.py'>"
      ]
     },
     "execution_count": 63,
     "metadata": {},
     "output_type": "execute_result"
    }
   ],
   "source": [
    "importlib.reload(Ballpushing_utils)"
   ]
  },
  {
   "cell_type": "code",
   "execution_count": 64,
   "metadata": {},
   "outputs": [],
   "source": [
    "# 2 min with threadpool"
   ]
  },
  {
   "cell_type": "code",
   "execution_count": 65,
   "metadata": {},
   "outputs": [
    {
     "name": "stdout",
     "output_type": "stream",
     "text": [
      "Loading fly from /mnt/upramdya_data/MD/F1_Tracks/Videos/240821_F1_3mm_ends_Videos_Checked/arena2/Right\n",
      "F1_condition for 240821_F1_3mm_ends_Videos_Checked_arena2_Right: control\n",
      "Loading fly from /mnt/upramdya_data/MD/F1_Tracks/Videos/240821_F1_3mm_ends_Videos_Checked/arena2/Left\n",
      "F1_condition for 240821_F1_3mm_ends_Videos_Checked_arena2_Left: control\n",
      "Loading fly from /mnt/upramdya_data/MD/F1_Tracks/Videos/240821_F1_3mm_ends_Videos_Checked/arena7/Right\n",
      "F1_condition for 240821_F1_3mm_ends_Videos_Checked_arena7_Right: pretrained_unlocked\n",
      "Loading fly from /mnt/upramdya_data/MD/F1_Tracks/Videos/240821_F1_3mm_ends_Videos_Checked/arena7/Left\n",
      "F1_condition for 240821_F1_3mm_ends_Videos_Checked_arena7_Left: pretrained_unlocked\n",
      "Loading fly from /mnt/upramdya_data/MD/F1_Tracks/Videos/240821_F1_3mm_ends_Videos_Checked/arena6/Right\n",
      "F1_condition for 240821_F1_3mm_ends_Videos_Checked_arena6_Right: control\n",
      "Loading fly from /mnt/upramdya_data/MD/F1_Tracks/Videos/240821_F1_3mm_ends_Videos_Checked/arena6/Left\n",
      "F1_condition for 240821_F1_3mm_ends_Videos_Checked_arena6_Left: control\n",
      "Loading fly from /mnt/upramdya_data/MD/F1_Tracks/Videos/240821_F1_3mm_ends_Videos_Checked/arena5/Right\n",
      "F1_condition for 240821_F1_3mm_ends_Videos_Checked_arena5_Right: control\n",
      "Loading fly from /mnt/upramdya_data/MD/F1_Tracks/Videos/240821_F1_3mm_ends_Videos_Checked/arena5/Left\n",
      "F1_condition for 240821_F1_3mm_ends_Videos_Checked_arena5_Left: control\n",
      "Loading fly from /mnt/upramdya_data/MD/F1_Tracks/Videos/240821_F1_3mm_ends_Videos_Checked/arena8/Right\n",
      "F1_condition for 240821_F1_3mm_ends_Videos_Checked_arena8_Right: control\n",
      "Loading fly from /mnt/upramdya_data/MD/F1_Tracks/Videos/240821_F1_3mm_ends_Videos_Checked/arena8/Left\n",
      "F1_condition for 240821_F1_3mm_ends_Videos_Checked_arena8_Left: control\n",
      "Loading fly from /mnt/upramdya_data/MD/F1_Tracks/Videos/240821_F1_3mm_ends_Videos_Checked/arena3/Right\n",
      "F1_condition for 240821_F1_3mm_ends_Videos_Checked_arena3_Right: pretrained\n",
      "Loading fly from /mnt/upramdya_data/MD/F1_Tracks/Videos/240821_F1_3mm_ends_Videos_Checked/arena3/Left\n",
      "F1_condition for 240821_F1_3mm_ends_Videos_Checked_arena3_Left: pretrained_unlocked\n",
      "Loading fly from /mnt/upramdya_data/MD/F1_Tracks/Videos/240821_F1_3mm_ends_Videos_Checked/arena4/Right\n",
      "F1_condition for 240821_F1_3mm_ends_Videos_Checked_arena4_Right: pretrained_unlocked\n",
      "Loading fly from /mnt/upramdya_data/MD/F1_Tracks/Videos/240821_F1_3mm_ends_Videos_Checked/arena4/Left\n",
      "F1_condition for 240821_F1_3mm_ends_Videos_Checked_arena4_Left: pretrained_unlocked\n",
      "Loading fly from /mnt/upramdya_data/MD/F1_Tracks/Videos/240821_F1_3mm_ends_Videos_Checked/arena1/Right\n",
      "F1_condition for 240821_F1_3mm_ends_Videos_Checked_arena1_Right: control\n",
      "Loading fly from /mnt/upramdya_data/MD/F1_Tracks/Videos/240821_F1_3mm_ends_Videos_Checked/arena1/Left\n",
      "F1_condition for 240821_F1_3mm_ends_Videos_Checked_arena1_Left: control\n",
      "Loading fly from /mnt/upramdya_data/MD/F1_Tracks/Videos/240821_F1_3mm_ends_Videos_Checked/arena9/Right\n",
      "F1_condition for 240821_F1_3mm_ends_Videos_Checked_arena9_Right: pretrained_unlocked\n",
      "Loading fly from /mnt/upramdya_data/MD/F1_Tracks/Videos/240821_F1_3mm_ends_Videos_Checked/arena9/Left\n",
      "F1_condition for 240821_F1_3mm_ends_Videos_Checked_arena9_Left: pretrained_unlocked\n"
     ]
    }
   ],
   "source": [
    "TestExp_F1 = Ballpushing_utils.Experiment(\"/mnt/upramdya_data/MD/F1_Tracks/Videos/240821_F1_3mm_ends_Videos_Checked\")"
   ]
  },
  {
   "cell_type": "code",
   "execution_count": null,
   "metadata": {},
   "outputs": [],
   "source": [
    "for fly in TestExp_F1.flies:\n",
    "    print(fly.arena_metadata)\n"
   ]
  },
  {
   "cell_type": "code",
   "execution_count": 56,
   "metadata": {},
   "outputs": [
    {
     "data": {
      "text/plain": [
       "<module 'utils_behavior.Ballpushing_utils' from '/home/durrieu/utils_behavior/utils_behavior/Ballpushing_utils.py'>"
      ]
     },
     "execution_count": 56,
     "metadata": {},
     "output_type": "execute_result"
    }
   ],
   "source": [
    "importlib.reload(Ballpushing_utils)"
   ]
  },
  {
   "cell_type": "code",
   "execution_count": 66,
   "metadata": {},
   "outputs": [],
   "source": [
    "TestDataset = Ballpushing_utils.Dataset(TestExp_F1)"
   ]
  },
  {
   "cell_type": "code",
   "execution_count": 58,
   "metadata": {},
   "outputs": [
    {
     "name": "stdout",
     "output_type": "stream",
     "text": [
      "Dataset with 18 flies and 1 experiments\n",
      "keyword: \n"
     ]
    }
   ],
   "source": [
    "print(TestDataset)"
   ]
  },
  {
   "cell_type": "code",
   "execution_count": 59,
   "metadata": {},
   "outputs": [
    {
     "data": {
      "text/plain": [
       "[]"
      ]
     },
     "execution_count": 59,
     "metadata": {},
     "output_type": "execute_result"
    }
   ],
   "source": [
    "TestDataset.metadata"
   ]
  },
  {
   "cell_type": "code",
   "execution_count": 67,
   "metadata": {},
   "outputs": [],
   "source": [
    "TestDataset_coordinates = TestDataset.generate_dataset()"
   ]
  },
  {
   "cell_type": "code",
   "execution_count": 68,
   "metadata": {},
   "outputs": [
    {
     "data": {
      "text/html": [
       "<div>\n",
       "<style scoped>\n",
       "    .dataframe tbody tr th:only-of-type {\n",
       "        vertical-align: middle;\n",
       "    }\n",
       "\n",
       "    .dataframe tbody tr th {\n",
       "        vertical-align: top;\n",
       "    }\n",
       "\n",
       "    .dataframe thead th {\n",
       "        text-align: right;\n",
       "    }\n",
       "</style>\n",
       "<table border=\"1\" class=\"dataframe\">\n",
       "  <thead>\n",
       "    <tr style=\"text-align: right;\">\n",
       "      <th></th>\n",
       "      <th>time</th>\n",
       "      <th>frame</th>\n",
       "      <th>adjusted_time</th>\n",
       "      <th>x_fly_0</th>\n",
       "      <th>y_fly_0</th>\n",
       "      <th>distance_fly_0</th>\n",
       "      <th>x_ball_0</th>\n",
       "      <th>y_ball_0</th>\n",
       "      <th>distance_ball_0</th>\n",
       "      <th>fly</th>\n",
       "      <th>...</th>\n",
       "      <th>Orientation</th>\n",
       "      <th>Light</th>\n",
       "      <th>Crossing</th>\n",
       "      <th>Pretraining</th>\n",
       "      <th>Unlocked</th>\n",
       "      <th></th>\n",
       "      <th>F1_condition</th>\n",
       "      <th>x_ball_1</th>\n",
       "      <th>y_ball_1</th>\n",
       "      <th>distance_ball_1</th>\n",
       "    </tr>\n",
       "  </thead>\n",
       "  <tbody>\n",
       "    <tr>\n",
       "      <th>0</th>\n",
       "      <td>0.034483</td>\n",
       "      <td>1</td>\n",
       "      <td>-3824.724138</td>\n",
       "      <td>0.000000</td>\n",
       "      <td>0.000000</td>\n",
       "      <td>0.000000</td>\n",
       "      <td>193.522196</td>\n",
       "      <td>-73.328572</td>\n",
       "      <td>0.000000</td>\n",
       "      <td>240821_F1_3mm_ends_Videos_Checked_arena8_Left</td>\n",
       "      <td>...</td>\n",
       "      <td>std</td>\n",
       "      <td>on</td>\n",
       "      <td>1</td>\n",
       "      <td>n</td>\n",
       "      <td>nn</td>\n",
       "      <td></td>\n",
       "      <td>control</td>\n",
       "      <td>NaN</td>\n",
       "      <td>NaN</td>\n",
       "      <td>NaN</td>\n",
       "    </tr>\n",
       "    <tr>\n",
       "      <th>1</th>\n",
       "      <td>0.068966</td>\n",
       "      <td>2</td>\n",
       "      <td>-3824.689655</td>\n",
       "      <td>0.043280</td>\n",
       "      <td>0.044952</td>\n",
       "      <td>0.062401</td>\n",
       "      <td>193.522271</td>\n",
       "      <td>-73.327362</td>\n",
       "      <td>0.001211</td>\n",
       "      <td>240821_F1_3mm_ends_Videos_Checked_arena8_Left</td>\n",
       "      <td>...</td>\n",
       "      <td>std</td>\n",
       "      <td>on</td>\n",
       "      <td>1</td>\n",
       "      <td>n</td>\n",
       "      <td>nn</td>\n",
       "      <td></td>\n",
       "      <td>control</td>\n",
       "      <td>NaN</td>\n",
       "      <td>NaN</td>\n",
       "      <td>NaN</td>\n",
       "    </tr>\n",
       "    <tr>\n",
       "      <th>2</th>\n",
       "      <td>0.103448</td>\n",
       "      <td>3</td>\n",
       "      <td>-3824.655172</td>\n",
       "      <td>0.086561</td>\n",
       "      <td>0.089905</td>\n",
       "      <td>0.124802</td>\n",
       "      <td>193.522346</td>\n",
       "      <td>-73.326153</td>\n",
       "      <td>0.002423</td>\n",
       "      <td>240821_F1_3mm_ends_Videos_Checked_arena8_Left</td>\n",
       "      <td>...</td>\n",
       "      <td>std</td>\n",
       "      <td>on</td>\n",
       "      <td>1</td>\n",
       "      <td>n</td>\n",
       "      <td>nn</td>\n",
       "      <td></td>\n",
       "      <td>control</td>\n",
       "      <td>NaN</td>\n",
       "      <td>NaN</td>\n",
       "      <td>NaN</td>\n",
       "    </tr>\n",
       "    <tr>\n",
       "      <th>3</th>\n",
       "      <td>0.137931</td>\n",
       "      <td>4</td>\n",
       "      <td>-3824.620690</td>\n",
       "      <td>0.129841</td>\n",
       "      <td>0.134857</td>\n",
       "      <td>0.187203</td>\n",
       "      <td>193.522420</td>\n",
       "      <td>-73.324944</td>\n",
       "      <td>0.003634</td>\n",
       "      <td>240821_F1_3mm_ends_Videos_Checked_arena8_Left</td>\n",
       "      <td>...</td>\n",
       "      <td>std</td>\n",
       "      <td>on</td>\n",
       "      <td>1</td>\n",
       "      <td>n</td>\n",
       "      <td>nn</td>\n",
       "      <td></td>\n",
       "      <td>control</td>\n",
       "      <td>NaN</td>\n",
       "      <td>NaN</td>\n",
       "      <td>NaN</td>\n",
       "    </tr>\n",
       "    <tr>\n",
       "      <th>4</th>\n",
       "      <td>0.172414</td>\n",
       "      <td>5</td>\n",
       "      <td>-3824.586207</td>\n",
       "      <td>0.173121</td>\n",
       "      <td>0.179809</td>\n",
       "      <td>0.249604</td>\n",
       "      <td>193.522495</td>\n",
       "      <td>-73.323735</td>\n",
       "      <td>0.004846</td>\n",
       "      <td>240821_F1_3mm_ends_Videos_Checked_arena8_Left</td>\n",
       "      <td>...</td>\n",
       "      <td>std</td>\n",
       "      <td>on</td>\n",
       "      <td>1</td>\n",
       "      <td>n</td>\n",
       "      <td>nn</td>\n",
       "      <td></td>\n",
       "      <td>control</td>\n",
       "      <td>NaN</td>\n",
       "      <td>NaN</td>\n",
       "      <td>NaN</td>\n",
       "    </tr>\n",
       "    <tr>\n",
       "      <th>...</th>\n",
       "      <td>...</td>\n",
       "      <td>...</td>\n",
       "      <td>...</td>\n",
       "      <td>...</td>\n",
       "      <td>...</td>\n",
       "      <td>...</td>\n",
       "      <td>...</td>\n",
       "      <td>...</td>\n",
       "      <td>...</td>\n",
       "      <td>...</td>\n",
       "      <td>...</td>\n",
       "      <td>...</td>\n",
       "      <td>...</td>\n",
       "      <td>...</td>\n",
       "      <td>...</td>\n",
       "      <td>...</td>\n",
       "      <td>...</td>\n",
       "      <td>...</td>\n",
       "      <td>...</td>\n",
       "      <td>...</td>\n",
       "      <td>...</td>\n",
       "    </tr>\n",
       "    <tr>\n",
       "      <th>108499</th>\n",
       "      <td>3741.379310</td>\n",
       "      <td>108500</td>\n",
       "      <td>-47.068966</td>\n",
       "      <td>10.929188</td>\n",
       "      <td>-231.967009</td>\n",
       "      <td>232.224332</td>\n",
       "      <td>13.470580</td>\n",
       "      <td>-408.303889</td>\n",
       "      <td>172.516296</td>\n",
       "      <td>240821_F1_3mm_ends_Videos_Checked_arena9_Left</td>\n",
       "      <td>...</td>\n",
       "      <td>std</td>\n",
       "      <td>on</td>\n",
       "      <td>1</td>\n",
       "      <td>y</td>\n",
       "      <td>yy</td>\n",
       "      <td></td>\n",
       "      <td>pretrained_unlocked</td>\n",
       "      <td>202.075195</td>\n",
       "      <td>-77.317457</td>\n",
       "      <td>1.919479</td>\n",
       "    </tr>\n",
       "    <tr>\n",
       "      <th>108500</th>\n",
       "      <td>3741.413793</td>\n",
       "      <td>108501</td>\n",
       "      <td>-47.034483</td>\n",
       "      <td>10.883633</td>\n",
       "      <td>-233.614116</td>\n",
       "      <td>233.867503</td>\n",
       "      <td>12.597173</td>\n",
       "      <td>-409.852148</td>\n",
       "      <td>174.042649</td>\n",
       "      <td>240821_F1_3mm_ends_Videos_Checked_arena9_Left</td>\n",
       "      <td>...</td>\n",
       "      <td>std</td>\n",
       "      <td>on</td>\n",
       "      <td>1</td>\n",
       "      <td>y</td>\n",
       "      <td>yy</td>\n",
       "      <td></td>\n",
       "      <td>pretrained_unlocked</td>\n",
       "      <td>202.075195</td>\n",
       "      <td>-77.317457</td>\n",
       "      <td>1.919479</td>\n",
       "    </tr>\n",
       "    <tr>\n",
       "      <th>108501</th>\n",
       "      <td>3741.448276</td>\n",
       "      <td>108502</td>\n",
       "      <td>-47.000000</td>\n",
       "      <td>10.839357</td>\n",
       "      <td>-235.281614</td>\n",
       "      <td>235.531165</td>\n",
       "      <td>11.723815</td>\n",
       "      <td>-411.400291</td>\n",
       "      <td>175.573616</td>\n",
       "      <td>240821_F1_3mm_ends_Videos_Checked_arena9_Left</td>\n",
       "      <td>...</td>\n",
       "      <td>std</td>\n",
       "      <td>on</td>\n",
       "      <td>1</td>\n",
       "      <td>y</td>\n",
       "      <td>yy</td>\n",
       "      <td></td>\n",
       "      <td>pretrained_unlocked</td>\n",
       "      <td>202.075195</td>\n",
       "      <td>-77.317457</td>\n",
       "      <td>1.919479</td>\n",
       "    </tr>\n",
       "    <tr>\n",
       "      <th>108502</th>\n",
       "      <td>3741.482759</td>\n",
       "      <td>108503</td>\n",
       "      <td>-46.965517</td>\n",
       "      <td>10.796188</td>\n",
       "      <td>-236.895962</td>\n",
       "      <td>237.141845</td>\n",
       "      <td>10.850425</td>\n",
       "      <td>-412.948344</td>\n",
       "      <td>177.109097</td>\n",
       "      <td>240821_F1_3mm_ends_Videos_Checked_arena9_Left</td>\n",
       "      <td>...</td>\n",
       "      <td>std</td>\n",
       "      <td>on</td>\n",
       "      <td>1</td>\n",
       "      <td>y</td>\n",
       "      <td>yy</td>\n",
       "      <td></td>\n",
       "      <td>pretrained_unlocked</td>\n",
       "      <td>202.075195</td>\n",
       "      <td>-77.317457</td>\n",
       "      <td>1.919479</td>\n",
       "    </tr>\n",
       "    <tr>\n",
       "      <th>108503</th>\n",
       "      <td>3741.517241</td>\n",
       "      <td>108504</td>\n",
       "      <td>-46.931034</td>\n",
       "      <td>10.793801</td>\n",
       "      <td>-238.469227</td>\n",
       "      <td>238.713382</td>\n",
       "      <td>9.977192</td>\n",
       "      <td>-414.496656</td>\n",
       "      <td>178.649325</td>\n",
       "      <td>240821_F1_3mm_ends_Videos_Checked_arena9_Left</td>\n",
       "      <td>...</td>\n",
       "      <td>std</td>\n",
       "      <td>on</td>\n",
       "      <td>1</td>\n",
       "      <td>y</td>\n",
       "      <td>yy</td>\n",
       "      <td></td>\n",
       "      <td>pretrained_unlocked</td>\n",
       "      <td>202.075195</td>\n",
       "      <td>-77.317457</td>\n",
       "      <td>1.919479</td>\n",
       "    </tr>\n",
       "  </tbody>\n",
       "</table>\n",
       "<p>3756021 rows × 28 columns</p>\n",
       "</div>"
      ],
      "text/plain": [
       "               time   frame  adjusted_time    x_fly_0     y_fly_0  \\\n",
       "0          0.034483       1   -3824.724138   0.000000    0.000000   \n",
       "1          0.068966       2   -3824.689655   0.043280    0.044952   \n",
       "2          0.103448       3   -3824.655172   0.086561    0.089905   \n",
       "3          0.137931       4   -3824.620690   0.129841    0.134857   \n",
       "4          0.172414       5   -3824.586207   0.173121    0.179809   \n",
       "...             ...     ...            ...        ...         ...   \n",
       "108499  3741.379310  108500     -47.068966  10.929188 -231.967009   \n",
       "108500  3741.413793  108501     -47.034483  10.883633 -233.614116   \n",
       "108501  3741.448276  108502     -47.000000  10.839357 -235.281614   \n",
       "108502  3741.482759  108503     -46.965517  10.796188 -236.895962   \n",
       "108503  3741.517241  108504     -46.931034  10.793801 -238.469227   \n",
       "\n",
       "        distance_fly_0    x_ball_0    y_ball_0  distance_ball_0  \\\n",
       "0             0.000000  193.522196  -73.328572         0.000000   \n",
       "1             0.062401  193.522271  -73.327362         0.001211   \n",
       "2             0.124802  193.522346  -73.326153         0.002423   \n",
       "3             0.187203  193.522420  -73.324944         0.003634   \n",
       "4             0.249604  193.522495  -73.323735         0.004846   \n",
       "...                ...         ...         ...              ...   \n",
       "108499      232.224332   13.470580 -408.303889       172.516296   \n",
       "108500      233.867503   12.597173 -409.852148       174.042649   \n",
       "108501      235.531165   11.723815 -411.400291       175.573616   \n",
       "108502      237.141845   10.850425 -412.948344       177.109097   \n",
       "108503      238.713382    9.977192 -414.496656       178.649325   \n",
       "\n",
       "                                                  fly  ... Orientation Light  \\\n",
       "0       240821_F1_3mm_ends_Videos_Checked_arena8_Left  ...         std    on   \n",
       "1       240821_F1_3mm_ends_Videos_Checked_arena8_Left  ...         std    on   \n",
       "2       240821_F1_3mm_ends_Videos_Checked_arena8_Left  ...         std    on   \n",
       "3       240821_F1_3mm_ends_Videos_Checked_arena8_Left  ...         std    on   \n",
       "4       240821_F1_3mm_ends_Videos_Checked_arena8_Left  ...         std    on   \n",
       "...                                               ...  ...         ...   ...   \n",
       "108499  240821_F1_3mm_ends_Videos_Checked_arena9_Left  ...         std    on   \n",
       "108500  240821_F1_3mm_ends_Videos_Checked_arena9_Left  ...         std    on   \n",
       "108501  240821_F1_3mm_ends_Videos_Checked_arena9_Left  ...         std    on   \n",
       "108502  240821_F1_3mm_ends_Videos_Checked_arena9_Left  ...         std    on   \n",
       "108503  240821_F1_3mm_ends_Videos_Checked_arena9_Left  ...         std    on   \n",
       "\n",
       "       Crossing Pretraining Unlocked            F1_condition    x_ball_1  \\\n",
       "0             1           n       nn                 control         NaN   \n",
       "1             1           n       nn                 control         NaN   \n",
       "2             1           n       nn                 control         NaN   \n",
       "3             1           n       nn                 control         NaN   \n",
       "4             1           n       nn                 control         NaN   \n",
       "...         ...         ...      ... ..                  ...         ...   \n",
       "108499        1           y       yy     pretrained_unlocked  202.075195   \n",
       "108500        1           y       yy     pretrained_unlocked  202.075195   \n",
       "108501        1           y       yy     pretrained_unlocked  202.075195   \n",
       "108502        1           y       yy     pretrained_unlocked  202.075195   \n",
       "108503        1           y       yy     pretrained_unlocked  202.075195   \n",
       "\n",
       "         y_ball_1 distance_ball_1  \n",
       "0             NaN             NaN  \n",
       "1             NaN             NaN  \n",
       "2             NaN             NaN  \n",
       "3             NaN             NaN  \n",
       "4             NaN             NaN  \n",
       "...           ...             ...  \n",
       "108499 -77.317457        1.919479  \n",
       "108500 -77.317457        1.919479  \n",
       "108501 -77.317457        1.919479  \n",
       "108502 -77.317457        1.919479  \n",
       "108503 -77.317457        1.919479  \n",
       "\n",
       "[3756021 rows x 28 columns]"
      ]
     },
     "execution_count": 68,
     "metadata": {},
     "output_type": "execute_result"
    }
   ],
   "source": [
    "TestDataset_coordinates"
   ]
  },
  {
   "cell_type": "code",
   "execution_count": 62,
   "metadata": {},
   "outputs": [
    {
     "data": {
      "text/plain": [
       "Index(['time', 'frame', 'adjusted_time', 'x_fly_0', 'y_fly_0',\n",
       "       'distance_fly_0', 'x_ball_0', 'y_ball_0', 'distance_ball_0', 'fly',\n",
       "       'flypath', 'experiment', 'Nickname', 'Brain region', 'Date', 'Genotype',\n",
       "       'Period', 'FeedingState', 'Orientation', 'Light', 'Crossing',\n",
       "       'Pretraining', 'Unlocked', '', 'x_ball_1', 'y_ball_1',\n",
       "       'distance_ball_1'],\n",
       "      dtype='object')"
      ]
     },
     "execution_count": 62,
     "metadata": {},
     "output_type": "execute_result"
    }
   ],
   "source": [
    "TestDataset_coordinates.columns"
   ]
  },
  {
   "cell_type": "code",
   "execution_count": null,
   "metadata": {},
   "outputs": [],
   "source": [
    "import seaborn as sns\n",
    "import matplotlib.pyplot as plt\n",
    "\n",
    "# Define the downsampling factor\n",
    "downsample_factor = (29*5)  # Adjust this value as needed\n",
    "\n",
    "# Reset the index of the DataFrame to avoid duplicate labels\n",
    "TestDataset_coordinates = TestDataset_coordinates.reset_index(drop=True)\n",
    "\n",
    "# Filter the DataFrame to include only rows where adjusted_time is positive\n",
    "filtered_data = TestDataset_coordinates[TestDataset_coordinates[\"adjusted_time\"] >= 0]\n",
    "\n",
    "# Downsample the DataFrame by selecting every nth row\n",
    "downsampled_data = filtered_data.iloc[::downsample_factor, :]\n",
    "\n",
    "# Plot the data\n",
    "sns.lineplot(\n",
    "    x=\"adjusted_time\",\n",
    "    y=\"distance_ball_0\",\n",
    "    hue=\"F1_condition\",\n",
    "    data=downsampled_data[downsampled_data[\"F1_condition\"] == \"control\"],\n",
    ")\n",
    "\n",
    "sns.lineplot(\n",
    "    x=\"adjusted_time\",\n",
    "    y=\"distance_ball_1\",\n",
    "    hue=\"F1_condition\",\n",
    "    data=downsampled_data[downsampled_data[\"F1_condition\"] != \"control\"],\n",
    ")\n",
    "\n",
    "# Set the x-axis limits to start at 0\n",
    "plt.xlim(left=0)\n",
    "\n",
    "# Show the plot\n",
    "plt.show()"
   ]
  },
  {
   "cell_type": "code",
   "execution_count": 38,
   "metadata": {},
   "outputs": [
    {
     "data": {
      "text/html": [
       "<div>\n",
       "<style scoped>\n",
       "    .dataframe tbody tr th:only-of-type {\n",
       "        vertical-align: middle;\n",
       "    }\n",
       "\n",
       "    .dataframe tbody tr th {\n",
       "        vertical-align: top;\n",
       "    }\n",
       "\n",
       "    .dataframe thead th {\n",
       "        text-align: right;\n",
       "    }\n",
       "</style>\n",
       "<table border=\"1\" class=\"dataframe\">\n",
       "  <thead>\n",
       "    <tr style=\"text-align: right;\">\n",
       "      <th></th>\n",
       "      <th>adjusted_time</th>\n",
       "      <th>ball_position</th>\n",
       "      <th>Pretraining</th>\n",
       "    </tr>\n",
       "  </thead>\n",
       "  <tbody>\n",
       "    <tr>\n",
       "      <th>0</th>\n",
       "      <td>-751.517241</td>\n",
       "      <td>0.000000</td>\n",
       "      <td>n</td>\n",
       "    </tr>\n",
       "    <tr>\n",
       "      <th>1</th>\n",
       "      <td>-751.482759</td>\n",
       "      <td>0.000449</td>\n",
       "      <td>n</td>\n",
       "    </tr>\n",
       "    <tr>\n",
       "      <th>2</th>\n",
       "      <td>-751.448276</td>\n",
       "      <td>0.000898</td>\n",
       "      <td>n</td>\n",
       "    </tr>\n",
       "    <tr>\n",
       "      <th>3</th>\n",
       "      <td>-751.413793</td>\n",
       "      <td>0.001347</td>\n",
       "      <td>n</td>\n",
       "    </tr>\n",
       "    <tr>\n",
       "      <th>4</th>\n",
       "      <td>-751.379310</td>\n",
       "      <td>0.001796</td>\n",
       "      <td>n</td>\n",
       "    </tr>\n",
       "    <tr>\n",
       "      <th>...</th>\n",
       "      <td>...</td>\n",
       "      <td>...</td>\n",
       "      <td>...</td>\n",
       "    </tr>\n",
       "    <tr>\n",
       "      <th>261001</th>\n",
       "      <td>5211.620690</td>\n",
       "      <td>96.193105</td>\n",
       "      <td>y</td>\n",
       "    </tr>\n",
       "    <tr>\n",
       "      <th>261002</th>\n",
       "      <td>5211.655172</td>\n",
       "      <td>96.192678</td>\n",
       "      <td>y</td>\n",
       "    </tr>\n",
       "    <tr>\n",
       "      <th>261003</th>\n",
       "      <td>5211.689655</td>\n",
       "      <td>96.192253</td>\n",
       "      <td>y</td>\n",
       "    </tr>\n",
       "    <tr>\n",
       "      <th>261004</th>\n",
       "      <td>5211.724138</td>\n",
       "      <td>96.191827</td>\n",
       "      <td>y</td>\n",
       "    </tr>\n",
       "    <tr>\n",
       "      <th>261005</th>\n",
       "      <td>5211.758621</td>\n",
       "      <td>96.191402</td>\n",
       "      <td>y</td>\n",
       "    </tr>\n",
       "  </tbody>\n",
       "</table>\n",
       "<p>2088048 rows × 3 columns</p>\n",
       "</div>"
      ],
      "text/plain": [
       "        adjusted_time  ball_position Pretraining\n",
       "0         -751.517241       0.000000           n\n",
       "1         -751.482759       0.000449           n\n",
       "2         -751.448276       0.000898           n\n",
       "3         -751.413793       0.001347           n\n",
       "4         -751.379310       0.001796           n\n",
       "...               ...            ...         ...\n",
       "261001    5211.620690      96.193105           y\n",
       "261002    5211.655172      96.192678           y\n",
       "261003    5211.689655      96.192253           y\n",
       "261004    5211.724138      96.191827           y\n",
       "261005    5211.758621      96.191402           y\n",
       "\n",
       "[2088048 rows x 3 columns]"
      ]
     },
     "execution_count": 38,
     "metadata": {},
     "output_type": "execute_result"
    }
   ],
   "source": [
    "# Generate a dataset with adjusted time and relative ball position for all flies\n",
    "\n",
    "Data = []\n",
    "\n",
    "for fly in TestExp_F1.flies:\n",
    "    if fly.Pretraining ==\"y\":\n",
    "\n",
    "        if fly.exit_time:\n",
    "            Adjusted_time = fly.flytrack.objects[0].dataset[\"adjusted_time\"]\n",
    "\n",
    "            Ball_position = fly.balltrack.objects[1].dataset[\"euclidean_distance\"]\n",
    "            \n",
    "            Pretraining = fly.Pretraining\n",
    "\n",
    "            dataset = pd.DataFrame({\"adjusted_time\": Adjusted_time, \"ball_position\": Ball_position, \"Pretraining\": Pretraining})\n",
    "            Data.append(dataset)\n",
    "\n",
    "    else:\n",
    "        Adjusted_time = fly.flytrack.objects[0].dataset[\"adjusted_time\"]\n",
    "\n",
    "        Ball_position = fly.balltrack.objects[0].dataset[\"euclidean_distance\"]\n",
    "        \n",
    "        Pretraining = fly.Pretraining\n",
    "\n",
    "        dataset = pd.DataFrame(\n",
    "            {\"adjusted_time\": Adjusted_time, \"ball_position\": Ball_position, \"Pretraining\": Pretraining}\n",
    "        )\n",
    "        Data.append(dataset)\n",
    "\n",
    "\n",
    "# Concatenate the data\n",
    "\n",
    "Data = pd.concat(Data)\n",
    "\n",
    "Data"
   ]
  },
  {
   "cell_type": "code",
   "execution_count": 41,
   "metadata": {},
   "outputs": [
    {
     "data": {
      "image/png": "[encoded data removed]",
      "text/plain": [
       "<Figure size 640x480 with 1 Axes>"
      ]
     },
     "metadata": {},
     "output_type": "display_data"
    }
   ],
   "source": [
    "# Now plot the the average ball position over adjusted time with scale starting at 0 grouped by pretraining\n",
    "\n",
    "import seaborn as sns\n",
    "import matplotlib.pyplot as plt\n",
    "\n",
    "Avg = Data.groupby([\"adjusted_time\", \"Pretraining\"]).mean().reset_index()\n",
    "\n",
    "# Apply some smoothing to the ball_position\n",
    "\n",
    "Avg[\"ball_position\"] = Avg[\"ball_position\"].rolling(window=10).mean()\n",
    "\n",
    "plt.figure()\n",
    "\n",
    "sns.lineplot(x=\"adjusted_time\", y=\"ball_position\", data=Avg, hue=\"Pretraining\")\n",
    "\n",
    "plt.show()"
   ]
  },
  {
   "cell_type": "code",
   "execution_count": 17,
   "metadata": {},
   "outputs": [
    {
     "name": "stdout",
     "output_type": "stream",
     "text": [
      "Experiment: 240821_F1_3mm_ends_Videos_Checked\n",
      "  Genotypes: PR\n",
      "  Flies: 9\n",
      "  FPS: 29\n"
     ]
    }
   ],
   "source": [
    "print(TestExp_F1)"
   ]
  },
  {
   "cell_type": "code",
   "execution_count": 128,
   "metadata": {},
   "outputs": [],
   "source": [
    "data = Ballpushing_utils.Dataset(TestExp_F1)"
   ]
  },
  {
   "cell_type": "code",
   "execution_count": 129,
   "metadata": {},
   "outputs": [
    {
     "data": {
      "text/plain": [
       "'Dataset with 9 flies and 1 experiments\\nkeyword: '"
      ]
     },
     "execution_count": 129,
     "metadata": {},
     "output_type": "execute_result"
    }
   ],
   "source": [
    "str(data)"
   ]
  },
  {
   "cell_type": "code",
   "execution_count": 133,
   "metadata": {},
   "outputs": [
    {
     "data": {
      "text/plain": [
       "<module 'utils_behavior.Ballpushing_utils' from '/home/durrieu/utils_behavior/utils_behavior/Ballpushing_utils.py'>"
      ]
     },
     "execution_count": 133,
     "metadata": {},
     "output_type": "execute_result"
    }
   ],
   "source": [
    "importlib.reload(Ballpushing_utils)"
   ]
  },
  {
   "cell_type": "code",
   "execution_count": 134,
   "metadata": {},
   "outputs": [
    {
     "name": "stdout",
     "output_type": "stream",
     "text": [
      "An error occurred: The truth value of a DataFrame is ambiguous. Use a.empty, a.bool(), a.item(), a.any() or a.all().\n"
     ]
    },
    {
     "name": "stderr",
     "output_type": "stream",
     "text": [
      "Traceback (most recent call last):\n",
      "  File \"/home/durrieu/utils_behavior/utils_behavior/Ballpushing_utils.py\", line 1842, in generate_dataset\n",
      "    for fly in self.flies:\n",
      "                      ^^^^\n",
      "  File \"/home/durrieu/utils_behavior/utils_behavior/Ballpushing_utils.py\", line 1893, in _prepare_dataset_coordinates\n",
      "    pandas.DataFrame: A DataFrame containing the fly's coordinates and associated metadata.\n",
      "       ^^^^^^^^^^^^\n",
      "  File \"/home/durrieu/miniforge3/envs/tracking_analysis/lib/python3.12/site-packages/pandas/core/generic.py\", line 1577, in __nonzero__\n",
      "    raise ValueError(\n",
      "ValueError: The truth value of a DataFrame is ambiguous. Use a.empty, a.bool(), a.item(), a.any() or a.all().\n"
     ]
    },
    {
     "data": {
      "text/plain": [
       "{}"
      ]
     },
     "execution_count": 134,
     "metadata": {},
     "output_type": "execute_result"
    }
   ],
   "source": [
    "data.generate_dataset()"
   ]
  },
  {
   "cell_type": "code",
   "execution_count": null,
   "metadata": {},
   "outputs": [],
   "source": []
  }
 ],
 "metadata": {
  "kernelspec": {
   "display_name": "tracking_analysis",
   "language": "python",
   "name": "python3"
  },
  "language_info": {
   "codemirror_mode": {
    "name": "ipython",
    "version": 3
   },
   "file_extension": ".py",
   "mimetype": "text/x-python",
   "name": "python",
   "nbconvert_exporter": "python",
   "pygments_lexer": "ipython3",
   "version": "3.12.6"
  }
 },
 "nbformat": 4,
 "nbformat_minor": 2
}
