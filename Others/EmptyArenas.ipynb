{
 "cells": [
  {
   "cell_type": "markdown",
   "metadata": {},
   "source": [
    "In this notebook I test strategies to quickly identify empty arenas in my ball pushing experiments."
   ]
  },
  {
   "cell_type": "code",
   "execution_count": null,
   "metadata": {},
   "outputs": [],
   "source": [
    "import cv2\n",
    "import platform\n",
    "from pathlib import Path\n",
    "import numpy as np\n",
    "from scipy.signal import find_peaks\n",
    "from matplotlib import pyplot as plt"
   ]
  },
  {
   "cell_type": "code",
   "execution_count": null,
   "metadata": {},
   "outputs": [],
   "source": [
    "# Get the DataFolder\n",
    "\n",
    "if platform.system() == \"Darwin\":\n",
    "    DataPath = Path(\n",
    "        \"/Volumes/Ramdya-Lab/DURRIEU_Matthias/Experimental_data/MultiMazeRecorder/Videos\"\n",
    "    )\n",
    "# Linux Datapath\n",
    "if platform.system() == \"Linux\":\n",
    "    DataPath = Path(\n",
    "        \"/mnt/labserver/DURRIEU_Matthias/Experimental_data/MultiMazeRecorder/Videos\"\n",
    "    )"
   ]
  },
  {
   "cell_type": "code",
   "execution_count": null,
   "metadata": {},
   "outputs": [],
   "source": [
    "Emptypath = (\n",
    "    DataPath / \"230719_TNTscreen_Broad_1_Videos_Tracked/arena2/corridor1/corridor1.mp4\"\n",
    ")\n",
    "\n",
    "Ctrlpath = (\n",
    "    DataPath\n",
    "    / \"230719_TNTscreen_Broad_1_Videos_Tracked/arena4/corridor2/corridor2.mp4\"\n",
    ")"
   ]
  },
  {
   "cell_type": "code",
   "execution_count": null,
   "metadata": {},
   "outputs": [],
   "source": [
    "# Load the first frame of empty video and a non empty one\n",
    "\n",
    "EmptyVid = cv2.VideoCapture(str(Emptypath))\n",
    "EmptyVid.set(cv2.CAP_PROP_POS_FRAMES, 0)\n",
    "ret, frame_empty = EmptyVid.read()\n",
    "EmptyVid.release()\n",
    "\n",
    "CtrlVid = cv2.VideoCapture(str(Ctrlpath))\n",
    "CtrlVid.set(cv2.CAP_PROP_POS_FRAMES, 0)\n",
    "ret, frame_ctrl = CtrlVid.read()\n",
    "CtrlVid.release()\n",
    "\n",
    "# Convert to grayscale\n",
    "EmptyVid = cv2.cvtColor(frame_empty, cv2.COLOR_BGR2GRAY)\n",
    "CtrlVid = cv2.cvtColor(frame_ctrl, cv2.COLOR_BGR2GRAY)\n",
    "\n",
    "# Display them side by side\n",
    "fig, ax = plt.subplots(1, 2, figsize=(20, 10))\n",
    "ax[0].imshow(EmptyVid, cmap=\"gray\")\n",
    "ax[0].set_title(\"Empty Arena\")\n",
    "ax[1].imshow(CtrlVid, cmap=\"gray\")\n",
    "ax[1].set_title(\"Control Arena\")\n",
    "plt.show()"
   ]
  },
  {
   "cell_type": "code",
   "execution_count": null,
   "metadata": {},
   "outputs": [],
   "source": [
    "# Get the chamber location as the image coordinate that are below the start position in coordinates.npy\n",
    "# Load the coordinates.npy file\n",
    "Emptystart, Emptyend = np.load(Emptypath.parent / \"coordinates.npy\")\n",
    "Ctrlstart, Ctrlend = np.load(Ctrlpath.parent / \"coordinates.npy\")\n",
    "\n",
    "print(Emptystart, Ctrlstart)"
   ]
  },
  {
   "cell_type": "code",
   "execution_count": null,
   "metadata": {},
   "outputs": [],
   "source": [
    "# Crop the frames to the chamber location, which is any y value above the start position\n",
    "Emptycrop = EmptyVid[Emptystart+60 :, :]\n",
    "\n",
    "Ctrlcrop = CtrlVid[Ctrlstart+60 :, :]\n",
    "\n",
    "# Display them side by side\n",
    "fig, ax = plt.subplots(1, 2, figsize=(20, 10))\n",
    "ax[0].imshow(Emptycrop, cmap=\"gray\")\n",
    "ax[0].set_title(\"Empty Arena\")\n",
    "ax[1].imshow(Ctrlcrop, cmap=\"gray\")\n",
    "ax[1].set_title(\"Control Arena\")\n",
    "plt.show()"
   ]
  },
  {
   "cell_type": "code",
   "execution_count": null,
   "metadata": {},
   "outputs": [],
   "source": [
    "# Detect the edges of the arena and crop the image to the edges\n",
    "# Empty\n",
    "edges = cv2.Canny(Emptycrop, 100, 200)\n",
    "# Find the non zero pixels\n",
    "nz = np.nonzero(edges)\n",
    "# Crop the image to the edges\n",
    "Emptycrop = Emptycrop[\n",
    "    np.min(nz[0]) : np.max(nz[0]), np.min(nz[1]) : np.max(nz[1])\n",
    "]\n",
    "\n",
    "# Control\n",
    "edges = cv2.Canny(Ctrlcrop, 100, 200)\n",
    "# Find the non zero pixels\n",
    "nz = np.nonzero(edges)\n",
    "# Crop the image to the edges\n",
    "Ctrlcrop = Ctrlcrop[\n",
    "    np.min(nz[0]) : np.max(nz[0]), np.min(nz[1]) : np.max(nz[1])\n",
    "]\n",
    "\n",
    "# Display them side by side\n",
    "\n",
    "fig, ax = plt.subplots(1, 2, figsize=(20, 10))\n",
    "ax[0].imshow(Emptycrop, cmap=\"gray\")\n",
    "ax[0].set_title(\"Empty Arena\")\n",
    "ax[1].imshow(Ctrlcrop, cmap=\"gray\")\n",
    "ax[1].set_title(\"Control Arena\")\n",
    "plt.show()\n"
   ]
  },
  {
   "cell_type": "code",
   "execution_count": null,
   "metadata": {},
   "outputs": [],
   "source": [
    "# Binarise the images with a threshold of 50\n",
    "Emptycrop_bin = Emptycrop > 60\n",
    "Ctrlcrop_bin = Ctrlcrop > 60\n",
    "\n",
    "# Display them side by side\n",
    "\n",
    "fig, ax = plt.subplots(1, 2, figsize=(20, 10))\n",
    "ax[0].imshow(Emptycrop_bin, cmap=\"gray\")\n",
    "ax[0].set_title(\"Empty Arena\")\n",
    "ax[1].imshow(Ctrlcrop_bin, cmap=\"gray\")\n",
    "ax[1].set_title(\"Control Arena\")\n",
    "plt.show()\n"
   ]
  },
  {
   "cell_type": "code",
   "execution_count": null,
   "metadata": {},
   "outputs": [],
   "source": [
    "\n",
    "\n",
    "# Get the sum of the pixel values for each frame column\n",
    "Emptysum = Emptycrop_bin.sum(axis=0)\n",
    "Ctrlsum = Ctrlcrop_bin.sum(axis=0)\n",
    "\n",
    "# Plot the sum of the pixel values for each frame column\n",
    "fig, ax = plt.subplots(1, 2, figsize=(20, 10))\n",
    "ax[0].plot(Emptysum)\n",
    "ax[0].set_title(\"Empty Arena\")\n",
    "ax[1].plot(Ctrlsum)\n",
    "ax[1].set_title(\"Control Arena\")\n",
    "plt.show()"
   ]
  },
  {
   "cell_type": "code",
   "execution_count": null,
   "metadata": {},
   "outputs": [],
   "source": [
    "# Check if there's a peak in the sum of the pixel values for each frame column\n",
    "# Empty\n",
    "Emptypeaks, _ = find_peaks(Emptysum)\n",
    "\n",
    "# If there's a peak, the arena is not empty\n",
    "if len(Emptypeaks) > 0:\n",
    "    print(\"Empty arena is not empty\")\n",
    "else :\n",
    "    print(\"Empty arena is empty\")\n",
    "    \n",
    "# Control\n",
    "Ctrlpeaks, _ = find_peaks(Ctrlsum)\n",
    "\n",
    "# If there's a peak, the arena is not empty\n",
    "if len(Ctrlpeaks) > 0:\n",
    "    print(\"Control arena is not empty\")\n",
    "else :\n",
    "    print(\"Control arena is empty\")"
   ]
  },
  {
   "cell_type": "markdown",
   "metadata": {},
   "source": [
    "Troubelshooting videos that didn't work"
   ]
  },
  {
   "cell_type": "code",
   "execution_count": null,
   "metadata": {},
   "outputs": [],
   "source": [
    "Bad1 = DataPath / \"230719_TNTscreen_Broad_1_Videos_Tracked/arena8/corridor5/corridor5.mp4\"\n",
    "\n"
   ]
  },
  {
   "cell_type": "code",
   "execution_count": null,
   "metadata": {},
   "outputs": [],
   "source": [
    "# Load the first frame of empty video and a non empty one\n",
    "\n",
    "Vid = cv2.VideoCapture(str(Bad1))\n",
    "Vid.set(cv2.CAP_PROP_POS_FRAMES, 0)\n",
    "ret, frame_bad = Vid.read()\n",
    "Vid.release()\n",
    "\n",
    "# Convert to grayscale\n",
    "Vid = cv2.cvtColor(frame_bad, cv2.COLOR_BGR2GRAY)\n",
    "\n",
    "# Get the chamber location as the image coordinate that are below the start position in coordinates.npy\n",
    "# Load the coordinates.npy file\n",
    "start, end = np.load(Bad1.parent / \"coordinates.npy\")\n",
    "\n",
    "# Crop the frames to the chamber location, which is any y value above the start position\n",
    "Vidcrop = Vid[start + 40 :, :]\n",
    "\n",
    "# Display it\n",
    "\n",
    "plt.imshow(Vidcrop, cmap=\"gray\")"
   ]
  },
  {
   "cell_type": "code",
   "execution_count": null,
   "metadata": {},
   "outputs": [],
   "source": [
    "# Detect the edges of the arena and crop the image to the edges\n",
    "# Empty\n",
    "edges = cv2.Canny(Vidcrop, 100, 200)\n",
    "# Find the non zero pixels\n",
    "nz = np.nonzero(edges)\n",
    "# Crop the image to the edges\n",
    "Vidcrop = Vidcrop[np.min(nz[0]) : np.max(nz[0]), np.min(nz[1]) : np.max(nz[1])]\n",
    "\n",
    "# Display it\n",
    "\n",
    "plt.imshow(Vidcrop, cmap=\"gray\")"
   ]
  },
  {
   "cell_type": "code",
   "execution_count": null,
   "metadata": {},
   "outputs": [],
   "source": [
    "# binarise the image\n",
    "\n",
    "Vidcrop_bin = Vidcrop < 60\n",
    "\n",
    "# display it\n",
    "\n",
    "plt.imshow(Vidcrop_bin, cmap=\"gray\")"
   ]
  },
  {
   "cell_type": "code",
   "execution_count": null,
   "metadata": {},
   "outputs": [],
   "source": [
    "# Apply some morphological operations to remove the noise\n",
    "\n",
    "# Create a kernel\n",
    "kernel = np.ones((3, 3), np.uint8)\n",
    "\n",
    "# Apply an opening operation\n",
    "Vidcrop_bin = cv2.morphologyEx(Vidcrop_bin.astype(np.uint8), cv2.MORPH_OPEN, kernel)\n",
    "\n",
    "# Display it\n",
    "plt.imshow(Vidcrop_bin, cmap=\"gray\")"
   ]
  },
  {
   "cell_type": "code",
   "execution_count": null,
   "metadata": {},
   "outputs": [],
   "source": [
    "# Check if there are still white pixels in the image\n",
    "if np.any(Vidcrop_bin>0):\n",
    "    print(\"Arena is not empty\")\n",
    "else:\n",
    "    print(\"Arena is empty\")"
   ]
  }
 ],
 "metadata": {
  "kernelspec": {
   "display_name": "TrackingAnalysis",
   "language": "python",
   "name": "python3"
  },
  "language_info": {
   "codemirror_mode": {
    "name": "ipython",
    "version": 3
   },
   "file_extension": ".py",
   "mimetype": "text/x-python",
   "name": "python",
   "nbconvert_exporter": "python",
   "pygments_lexer": "ipython3",
   "version": "3.10.4"
  }
 },
 "nbformat": 4,
 "nbformat_minor": 2
}
