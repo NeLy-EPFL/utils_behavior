{
 "cells": [
  {
   "cell_type": "code",
   "execution_count": 1,
   "metadata": {},
   "outputs": [
    {
     "name": "stderr",
     "output_type": "stream",
     "text": [
      "/home/durrieu/miniforge3/envs/opencv_cuda/lib/python3.12/site-packages/numpy/_core/getlimits.py:555: UserWarning: The value of the smallest subnormal for <class 'numpy.float32'> type is zero.\n",
      "  setattr(self, word, getattr(machar, word).flat[0])\n",
      "/home/durrieu/miniforge3/envs/opencv_cuda/lib/python3.12/site-packages/numpy/_core/getlimits.py:89: UserWarning: The value of the smallest subnormal for <class 'numpy.float32'> type is zero.\n",
      "  return self._float_to_str(self.smallest_subnormal)\n",
      "/home/durrieu/miniforge3/envs/opencv_cuda/lib/python3.12/site-packages/numpy/_core/getlimits.py:555: UserWarning: The value of the smallest subnormal for <class 'numpy.float64'> type is zero.\n",
      "  setattr(self, word, getattr(machar, word).flat[0])\n",
      "/home/durrieu/miniforge3/envs/opencv_cuda/lib/python3.12/site-packages/numpy/_core/getlimits.py:89: UserWarning: The value of the smallest subnormal for <class 'numpy.float64'> type is zero.\n",
      "  return self._float_to_str(self.smallest_subnormal)\n"
     ]
    }
   ],
   "source": [
    "import cv2\n",
    "\n",
    "# Get the Sleap_utils module\n",
    "import sys\n",
    "sys.path.append('/home/durrieu/utils_behavior/utils_behavior')\n",
    "\n",
    "import Sleap_utils\n",
    "\n",
    "from pathlib import Path"
   ]
  },
  {
   "cell_type": "code",
   "execution_count": 2,
   "metadata": {},
   "outputs": [],
   "source": [
    "# Get the data path\n",
    "\n",
    "data_path = Path(\"/mnt/upramdya_data/MD/F1_Tracks/Videos/240924_F1_3mm_ends_Videos_Checked/arena2/Right\")"
   ]
  },
  {
   "cell_type": "code",
   "execution_count": 3,
   "metadata": {},
   "outputs": [],
   "source": [
    "# Get the video path, the ball h5 path and the fly h5 path\n",
    "\n",
    "video = list(data_path.glob(\"*.mp4\"))[0]\n",
    "ball = list(data_path.glob(\"*ball*.h5\"))[0]\n",
    "fly = list(data_path.glob(\"*fly*.h5\"))[0]"
   ]
  },
  {
   "cell_type": "code",
   "execution_count": 4,
   "metadata": {},
   "outputs": [
    {
     "name": "stdout",
     "output_type": "stream",
     "text": [
      "Processing animal 1/1\n"
     ]
    },
    {
     "name": "stdout",
     "output_type": "stream",
     "text": [
      "Loaded SLEAP tracking file: /mnt/upramdya_data/MD/F1_Tracks/Videos/240924_F1_3mm_ends_Videos_Checked/arena2/Right/arena2_right_rotated_tracked_ball.000_arena2_right_rotated.analysis.h5\n",
      "N° of animals: 1\n",
      "Nodes: ['centre']\n",
      "Processing animal 1/1\n",
      "Loaded SLEAP tracking file: /mnt/upramdya_data/MD/F1_Tracks/Videos/240924_F1_3mm_ends_Videos_Checked/arena2/Right/arena2_right_rotated_tracked_fly.000_arena2_right_rotated.analysis.h5\n",
      "N° of animals: 1\n",
      "Nodes: ['thorax']\n"
     ]
    }
   ],
   "source": [
    "balltracks = Sleap_utils.Sleap_Tracks(ball)\n",
    "flytracks = Sleap_utils.Sleap_Tracks(fly)"
   ]
  },
  {
   "cell_type": "code",
   "execution_count": 5,
   "metadata": {},
   "outputs": [],
   "source": [
    "Combined = Sleap_utils.CombinedSleapTracks(video,[balltracks, flytracks])"
   ]
  },
  {
   "cell_type": "code",
   "execution_count": 6,
   "metadata": {},
   "outputs": [
    {
     "name": "stdout",
     "output_type": "stream",
     "text": [
      "CUDA is enabled, using GPU for video processing.\n"
     ]
    }
   ],
   "source": [
    "Combined.generate_combined_annotated_video(save=True, output_path=data_path/'combined.mp4')"
   ]
  },
  {
   "cell_type": "code",
   "execution_count": null,
   "metadata": {},
   "outputs": [],
   "source": []
  }
 ],
 "metadata": {
  "kernelspec": {
   "display_name": "opencv_cuda",
   "language": "python",
   "name": "python3"
  },
  "language_info": {
   "codemirror_mode": {
    "name": "ipython",
    "version": 3
   },
   "file_extension": ".py",
   "mimetype": "text/x-python",
   "name": "python",
   "nbconvert_exporter": "python",
   "pygments_lexer": "ipython3",
   "version": "3.12.6"
  }
 },
 "nbformat": 4,
 "nbformat_minor": 2
}
