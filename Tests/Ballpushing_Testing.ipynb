{
 "cells": [
  {
   "cell_type": "code",
   "execution_count": null,
   "metadata": {},
   "outputs": [],
   "source": [
    "from utils_behavior import Ballpushing_utils\n",
    "\n",
    "from utils_behavior import Sleap_utils\n",
    "\n",
    "from pathlib import Path\n",
    "\n",
    "import pandas as pd\n",
    "\n",
    "from matplotlib import pyplot as plt\n",
    "\n",
    "import importlib\n",
    "\n",
    "import cv2"
   ]
  },
  {
   "cell_type": "code",
   "execution_count": null,
   "metadata": {},
   "outputs": [],
   "source": [
    "import subprocess\n",
    "\n",
    "\n",
    "def check_imagemagick():\n",
    "    try:\n",
    "        result = subprocess.run([\"magick\", \"-version\"], capture_output=True, text=True)\n",
    "        return result.stdout if result.returncode == 0 else result.stderr\n",
    "    except FileNotFoundError:\n",
    "        return \"'magick' command not found. ImageMagick might not be installed or not in PATH.\"\n",
    "\n",
    "\n",
    "print(check_imagemagick())"
   ]
  },
  {
   "cell_type": "code",
   "execution_count": null,
   "metadata": {},
   "outputs": [],
   "source": [
    "import subprocess\n",
    "\n",
    "\n",
    "def list_fonts():\n",
    "    try:\n",
    "        result = subprocess.run(\n",
    "            [\"magick\", \"identify\", \"-list\", \"font\"], capture_output=True, text=True\n",
    "        )\n",
    "        return result.stdout if result.returncode == 0 else result.stderr\n",
    "    except FileNotFoundError:\n",
    "        return \"ImageMagick 'convert' command not found.\"\n",
    "\n",
    "\n",
    "print(list_fonts())"
   ]
  },
  {
   "cell_type": "code",
   "execution_count": null,
   "metadata": {},
   "outputs": [],
   "source": [
    "importlib.reload(Ballpushing_utils)"
   ]
  },
  {
   "cell_type": "code",
   "execution_count": null,
   "metadata": {},
   "outputs": [],
   "source": [
    "TestFly_path = Path(\n",
    "    \"/mnt/upramdya_data/MD/MultiMazeRecorder/Videos/240710_MagnetBlock_Videos_Tracked/arena9/corridor3\"\n",
    ")"
   ]
  },
  {
   "cell_type": "code",
   "execution_count": null,
   "metadata": {},
   "outputs": [],
   "source": [
    "# F1 exp\n",
    "TestFly_path = Path(\"/mnt/upramdya_data/MD/F1_Tracks/Videos/240821_F1_3mm_ends_Videos_Checked/arena4/Left\")\n"
   ]
  },
  {
   "cell_type": "code",
   "execution_count": null,
   "metadata": {},
   "outputs": [],
   "source": [
    "# TNT exp\n",
    "TestFly_path = Path(\"/mnt/upramdya_data/MD/MultiMazeRecorder/Videos/231130_TNT_Fine_2_Videos_Tracked/arena2/corridor5\")\n"
   ]
  },
  {
   "cell_type": "code",
   "execution_count": null,
   "metadata": {},
   "outputs": [],
   "source": [
    "# Some problematic exp: here swap for whatever fly returned an error\n",
    "\n",
    "TestFly_path = Path(\"/mnt/upramdya_data/MD/MultiMazeRecorder/Videos/240718_Afternoon_FeedingState_Videos_Tracked/arena2/corridor2\")"
   ]
  },
  {
   "cell_type": "code",
   "execution_count": null,
   "metadata": {},
   "outputs": [],
   "source": []
  },
  {
   "cell_type": "code",
   "execution_count": null,
   "metadata": {},
   "outputs": [],
   "source": [
    "TestSlp = Sleap_utils.Sleap_Tracks(\"/mnt/upramdya_data/MD/F1_Tracks/Videos/240821_F1_3mm_ends_Videos_Checked/arena4/Left/arena4_left_tracked_ball_processed.000_arena4_left.analysis.h5\")"
   ]
  },
  {
   "cell_type": "code",
   "execution_count": null,
   "metadata": {},
   "outputs": [],
   "source": [
    "TestSlp.objects[0].object_data"
   ]
  },
  {
   "cell_type": "code",
   "execution_count": null,
   "metadata": {},
   "outputs": [],
   "source": []
  },
  {
   "cell_type": "code",
   "execution_count": null,
   "metadata": {},
   "outputs": [],
   "source": [
    "TestSlp.objects[0].centre"
   ]
  },
  {
   "cell_type": "code",
   "execution_count": null,
   "metadata": {},
   "outputs": [],
   "source": [
    "importlib.reload(Ballpushing_utils)\n",
    "\n",
    "importlib.reload(Sleap_utils)"
   ]
  },
  {
   "cell_type": "code",
   "execution_count": null,
   "metadata": {},
   "outputs": [],
   "source": []
  },
  {
   "cell_type": "code",
   "execution_count": null,
   "metadata": {},
   "outputs": [],
   "source": [
    "TestFly = Ballpushing_utils.Fly(TestFly_path, as_individual=True)"
   ]
  },
  {
   "cell_type": "code",
   "execution_count": null,
   "metadata": {},
   "outputs": [],
   "source": [
    "Test_Contact = TestFly.skeleton_metrics.events_based_contacts\n",
    "\n",
    "Test_Contact"
   ]
  },
  {
   "cell_type": "code",
   "execution_count": null,
   "metadata": {},
   "outputs": [],
   "source": [
    "Event0 = Test_Contact[Test_Contact[\"event_id\"] == 0]\n",
    "\n",
    "Event0"
   ]
  },
  {
   "cell_type": "code",
   "execution_count": null,
   "metadata": {},
   "outputs": [],
   "source": [
    "Event1 = Test_Contact[Test_Contact[\"event_id\"] == 1]\n",
    "\n",
    "Event1"
   ]
  },
  {
   "cell_type": "code",
   "execution_count": null,
   "metadata": {},
   "outputs": [],
   "source": [
    "TestData = Ballpushing_utils.Dataset(TestFly, dataset_type=\"standardized_contacts\")"
   ]
  },
  {
   "cell_type": "code",
   "execution_count": null,
   "metadata": {},
   "outputs": [],
   "source": [
    "TestData.data"
   ]
  },
  {
   "cell_type": "code",
   "execution_count": null,
   "metadata": {},
   "outputs": [],
   "source": [
    "# FlyWith final event:\n",
    "\n",
    "SecondPath = Path(\"/mnt/upramdya_data/MD/MultiMazeRecorder/Videos/230704_FeedingState_1_AM_Videos_Tracked/arena2/corridor5\")\n",
    "\n",
    "SecondTest = Ballpushing_utils.Fly(SecondPath, as_individual=True)\n",
    "\n",
    "SecondTest_Contact = SecondTest.skeleton_metrics.events_based_contacts\n",
    "\n",
    "SecondTest_Contact"
   ]
  },
  {
   "cell_type": "code",
   "execution_count": null,
   "metadata": {},
   "outputs": [],
   "source": [
    "SecondTestData = Ballpushing_utils.Dataset(SecondTest, dataset_type=\"standardized_contacts\")"
   ]
  },
  {
   "cell_type": "code",
   "execution_count": null,
   "metadata": {},
   "outputs": [],
   "source": [
    "SecondTestData.data"
   ]
  },
  {
   "cell_type": "code",
   "execution_count": null,
   "metadata": {},
   "outputs": [],
   "source": [
    "SecondTestData.data.columns"
   ]
  },
  {
   "cell_type": "code",
   "execution_count": null,
   "metadata": {},
   "outputs": [],
   "source": [
    "SecondTestData.data[\"event_id\"]"
   ]
  },
  {
   "cell_type": "code",
   "execution_count": null,
   "metadata": {},
   "outputs": [],
   "source": [
    "SecondTest_Contact.columns"
   ]
  },
  {
   "cell_type": "code",
   "execution_count": null,
   "metadata": {},
   "outputs": [],
   "source": [
    "SecondTest_Contact[\"ball_displacement\"].unique()"
   ]
  },
  {
   "cell_type": "code",
   "execution_count": null,
   "metadata": {},
   "outputs": [],
   "source": [
    "# Let's display the _fly coordinates for one of the frames, say frame 435\n",
    "\n",
    "TestFrame = Test_Contact[Test_Contact[\"frame\"] == 435]"
   ]
  },
  {
   "cell_type": "code",
   "execution_count": null,
   "metadata": {},
   "outputs": [],
   "source": [
    "# Extract the fly centric coordinates, which all end with _fly\n",
    "\n",
    "TestFrame.filter(regex=\".*_fly\")\n",
    "\n",
    "# Plot the fly centric coordinates, each column is either x or y coordinate of a body part so we can plot them as x,y pairs\n",
    "\n",
    "plt.plot(TestFrame.filter(regex=\".*_fly\").values[0][::2], TestFrame.filter(regex=\".*_fly\").values[0][1::2], \"o\")"
   ]
  },
  {
   "cell_type": "code",
   "execution_count": null,
   "metadata": {},
   "outputs": [],
   "source": [
    "# Get the frame from the source video\n",
    "\n",
    "Video = TestFly.metadata.video\n",
    "\n",
    "# Load the video\n",
    "\n",
    "cap = cv2.VideoCapture(str(Video))\n",
    "\n",
    "# Set the frame to the desired frame and store it in a variable\n",
    "\n",
    "cap.set(cv2.CAP_PROP_POS_FRAMES, 435)\n",
    "\n",
    "ret, frame = cap.read()\n",
    "\n",
    "# Display the frame\n",
    "\n",
    "plt.imshow(frame)"
   ]
  },
  {
   "cell_type": "code",
   "execution_count": null,
   "metadata": {},
   "outputs": [],
   "source": [
    "# Add the non fly centric coordinates to the plot, which are in the format \"x_bodypart\" and \"y_bodypart\" without the fly suffix\n",
    "\n",
    "Coordinates = TestFrame.filter(regex=\"x_.*(?<!_fly)\" + \"|y_.*(?<!_fly)\", axis=1)\n",
    "\n",
    "# Filter out the columns whose name ends with _fly\n",
    "\n",
    "NonFlyCoordinates = Coordinates.filter(regex=\".*(?<!_fly)\")\n",
    "NonFlyCoordinates"
   ]
  },
  {
   "cell_type": "code",
   "execution_count": null,
   "metadata": {},
   "outputs": [],
   "source": [
    "\n",
    "# Plot the image with the fly centric coordinates\n",
    "\n",
    "plt.imshow(frame)\n",
    "\n",
    "# Add the non fly centric coordinates to the plot, which are in the format \"x_bodypart\" and \"y_bodypart\" without the fly suffix\n",
    "\n",
    "plt.plot(\n",
    "    NonFlyCoordinates.filter(regex=\".*x\").values[0],\n",
    "    NonFlyCoordinates.filter(regex=\".*y\").values[0],\n",
    "    \"o\",\n",
    ")\n",
    "\n",
    "\n",
    "\n"
   ]
  },
  {
   "cell_type": "code",
   "execution_count": null,
   "metadata": {},
   "outputs": [],
   "source": [
    "Test_Contact.columns"
   ]
  },
  {
   "cell_type": "code",
   "execution_count": null,
   "metadata": {},
   "outputs": [],
   "source": [
    "Test_Contact[\"x_Thorax_fly\"]"
   ]
  },
  {
   "cell_type": "code",
   "execution_count": null,
   "metadata": {},
   "outputs": [],
   "source": [
    "TestFly.skeleton_metrics.generate_contacts_video(\"/home/durrieu/Videos/TestContacts.mp4\")"
   ]
  },
  {
   "cell_type": "code",
   "execution_count": null,
   "metadata": {},
   "outputs": [],
   "source": [
    "TestFly.events_metrics"
   ]
  },
  {
   "cell_type": "code",
   "execution_count": null,
   "metadata": {},
   "outputs": [],
   "source": [
    "len(TestFly.skeleton_metrics.contacts)"
   ]
  },
  {
   "cell_type": "code",
   "execution_count": null,
   "metadata": {},
   "outputs": [],
   "source": [
    "len(TestFly.skeleton_metrics.contacts)"
   ]
  },
  {
   "cell_type": "code",
   "execution_count": null,
   "metadata": {},
   "outputs": [],
   "source": [
    "TestFly.tracking_data.interaction_events"
   ]
  },
  {
   "cell_type": "code",
   "execution_count": null,
   "metadata": {},
   "outputs": [],
   "source": [
    "TestFly.tracking_data.interaction_events[0][0][7][1] / 29"
   ]
  },
  {
   "cell_type": "code",
   "execution_count": null,
   "metadata": {},
   "outputs": [],
   "source": [
    "importlib.reload(Ballpushing_utils)"
   ]
  },
  {
   "cell_type": "code",
   "execution_count": null,
   "metadata": {},
   "outputs": [],
   "source": [
    "TestFly_final = Ballpushing_utils.Fly(TestFly_path, as_individual=True, success_cutoff=True, success_cutoff_method = \"final_event\")"
   ]
  },
  {
   "cell_type": "code",
   "execution_count": null,
   "metadata": {},
   "outputs": [],
   "source": [
    "TestFly_final.events_metrics"
   ]
  },
  {
   "cell_type": "code",
   "execution_count": null,
   "metadata": {},
   "outputs": [],
   "source": [
    "TestFly_final.skeleton_metrics.contacts"
   ]
  },
  {
   "cell_type": "code",
   "execution_count": null,
   "metadata": {},
   "outputs": [],
   "source": []
  },
  {
   "cell_type": "code",
   "execution_count": null,
   "metadata": {},
   "outputs": [],
   "source": [
    "len(TestFly_final.skeleton_metrics.contacts)"
   ]
  },
  {
   "cell_type": "code",
   "execution_count": null,
   "metadata": {},
   "outputs": [],
   "source": [
    "len(TestFly_final.skeleton_metrics.contacts)"
   ]
  },
  {
   "cell_type": "code",
   "execution_count": null,
   "metadata": {},
   "outputs": [],
   "source": [
    "contact_data = Ballpushing_utils.Dataset(TestFly_final, dataset_type=\"contact_data\")"
   ]
  },
  {
   "cell_type": "code",
   "execution_count": null,
   "metadata": {},
   "outputs": [],
   "source": [
    "importlib.reload(Ballpushing_utils)"
   ]
  },
  {
   "cell_type": "code",
   "execution_count": null,
   "metadata": {},
   "outputs": [],
   "source": [
    "TestExp_full = Ballpushing_utils.Experiment(\n",
    "    \"/mnt/upramdya_data/MD/MultiMazeRecorder/Videos/231130_TNT_Fine_2_Videos_Tracked\",\n",
    "    success_cutoff=False,\n",
    ")"
   ]
  },
  {
   "cell_type": "code",
   "execution_count": null,
   "metadata": {},
   "outputs": [],
   "source": [
    "DataFull = Ballpushing_utils.Dataset(TestExp_full, dataset_type=\"contact_data\")"
   ]
  },
  {
   "cell_type": "code",
   "execution_count": null,
   "metadata": {},
   "outputs": [],
   "source": [
    "importlib.reload(Ballpushing_utils)"
   ]
  },
  {
   "cell_type": "code",
   "execution_count": null,
   "metadata": {},
   "outputs": [],
   "source": [
    "Data_StdContacts = Ballpushing_utils.Dataset(TestExp_full, dataset_type=\"standardized_contacts\")"
   ]
  },
  {
   "cell_type": "code",
   "execution_count": null,
   "metadata": {},
   "outputs": [],
   "source": [
    "Data_StdContacts.data"
   ]
  },
  {
   "cell_type": "code",
   "execution_count": null,
   "metadata": {},
   "outputs": [],
   "source": [
    "Data_StdContacts.data.columns"
   ]
  },
  {
   "cell_type": "code",
   "execution_count": null,
   "metadata": {},
   "outputs": [],
   "source": [
    "Data_StdContacts.data[\"event_type\"]"
   ]
  },
  {
   "cell_type": "code",
   "execution_count": null,
   "metadata": {},
   "outputs": [],
   "source": [
    "# Get subset of data with event_type == random\n",
    "\n",
    "Data_random = Data_StdContacts.data[Data_StdContacts.data[\"event_type\"] == \"random\"]\n",
    "\n",
    "# Look at the event_id column\n",
    "\n",
    "Data_random[\"event_id\"]"
   ]
  },
  {
   "cell_type": "code",
   "execution_count": null,
   "metadata": {},
   "outputs": [],
   "source": [
    "# Save the test data\n",
    "\n",
    "Data_StdContacts.data.to_feather(\"/mnt/upramdya_data/MD/Test_Datasets/StandardizedContacts.feather\")"
   ]
  },
  {
   "cell_type": "code",
   "execution_count": null,
   "metadata": {},
   "outputs": [],
   "source": [
    "# Get how many unique values of contact_index we have\n",
    "\n",
    "DataFull.data[\"contact_index\"].nunique()"
   ]
  },
  {
   "cell_type": "code",
   "execution_count": null,
   "metadata": {},
   "outputs": [],
   "source": [
    "TestExp_cutoff = Ballpushing_utils.Experiment(\n",
    "    \"/mnt/upramdya_data/MD/MultiMazeRecorder/Videos/231130_TNT_Fine_2_Videos_Tracked\",\n",
    "    success_cutoff=True,\n",
    "    success_cutoff_method=\"final_event\",\n",
    ")"
   ]
  },
  {
   "cell_type": "code",
   "execution_count": null,
   "metadata": {},
   "outputs": [],
   "source": []
  },
  {
   "cell_type": "code",
   "execution_count": null,
   "metadata": {},
   "outputs": [],
   "source": [
    "DataFull_cutoff = Ballpushing_utils.Dataset(TestExp_cutoff, dataset_type=\"contact_data\")"
   ]
  },
  {
   "cell_type": "code",
   "execution_count": null,
   "metadata": {},
   "outputs": [],
   "source": [
    "DataFull_cutoff.data[\"contact_index\"].nunique()"
   ]
  },
  {
   "cell_type": "code",
   "execution_count": null,
   "metadata": {},
   "outputs": [],
   "source": [
    "contact_data.data.columns"
   ]
  },
  {
   "cell_type": "code",
   "execution_count": null,
   "metadata": {},
   "outputs": [],
   "source": [
    "contact_data.data.contact_index.max()"
   ]
  },
  {
   "cell_type": "code",
   "execution_count": null,
   "metadata": {},
   "outputs": [],
   "source": [
    "importlib.reload(Ballpushing_utils)"
   ]
  },
  {
   "cell_type": "code",
   "execution_count": null,
   "metadata": {},
   "outputs": [],
   "source": [
    "TestFly_max = Ballpushing_utils.Fly(TestFly_path, as_individual=True, success_cutoff=True, success_cutoff_method = \"max_event\")"
   ]
  },
  {
   "cell_type": "code",
   "execution_count": null,
   "metadata": {},
   "outputs": [],
   "source": [
    "TestFly_max.events_metrics"
   ]
  },
  {
   "cell_type": "code",
   "execution_count": null,
   "metadata": {},
   "outputs": [],
   "source": [
    "TestFly.arena_metadata"
   ]
  },
  {
   "cell_type": "code",
   "execution_count": null,
   "metadata": {},
   "outputs": [],
   "source": [
    "TestFly.F1_condition"
   ]
  },
  {
   "cell_type": "code",
   "execution_count": null,
   "metadata": {},
   "outputs": [],
   "source": [
    "TestFly.flytrack.objects[0].dataset"
   ]
  },
  {
   "cell_type": "code",
   "execution_count": null,
   "metadata": {},
   "outputs": [],
   "source": [
    "TestFly.balltrack.objects[1].dataset"
   ]
  },
  {
   "cell_type": "code",
   "execution_count": null,
   "metadata": {},
   "outputs": [],
   "source": [
    "# Plot the second ball relative position across adjusted time\n",
    "\n",
    "Adjusted_time = TestFly.flytrack.objects[0].dataset['adjusted_time']\n",
    "\n",
    "Ball_position = TestFly.balltrack.objects[1].dataset['euclidean_distance']\n",
    "\n",
    "# Plot the second ball relative position across adjusted time\n",
    "import seaborn as sns\n",
    "import matplotlib.pyplot as plt\n",
    "\n",
    "plt.figure()\n",
    "sns.lineplot(x=Adjusted_time, y=Ball_position)\n",
    "plt.show()"
   ]
  },
  {
   "cell_type": "code",
   "execution_count": null,
   "metadata": {},
   "outputs": [],
   "source": []
  },
  {
   "cell_type": "code",
   "execution_count": null,
   "metadata": {},
   "outputs": [],
   "source": [
    "# Let's make 2 annotated videos for each push / pull event\n",
    "\n",
    "# First, let's get the push / pull events\n",
    "\n",
    "pushes = TestFly.metrics[\"fly_1_ball_1\"][\"events_direction\"][0]\n",
    "\n",
    "pulls = TestFly.metrics[\"fly_1_ball_1\"][\"events_direction\"][1]"
   ]
  },
  {
   "cell_type": "code",
   "execution_count": null,
   "metadata": {},
   "outputs": [],
   "source": [
    "# Now for the two first pushes and pulls, let's make the videos\n",
    "\n",
    "for push in pushes[:2]:\n",
    "    TestFly.flytrack.generate_annotated_video(save=True, output_path = f\"/mnt/upramdya_data/MD/Other_Videos/Events_annotation/push{push}.mp4\"\n",
    "    , start = push[0], end = push[1])\n",
    "for pull in pulls[:2]:\n",
    "    TestFly.flytrack.generate_annotated_video(save=True, output_path = f\"/mnt/upramdya_data/MD/Other_Videos/Events_annotation/pull{pull}.mp4\"\n",
    "    , start = pull[0], end = pull[1])\n",
    "    \n",
    "    "
   ]
  },
  {
   "cell_type": "code",
   "execution_count": null,
   "metadata": {},
   "outputs": [],
   "source": [
    "TestFly.metrics[\"fly_1_ball_1\"][\"events_direction\"]"
   ]
  },
  {
   "cell_type": "code",
   "execution_count": null,
   "metadata": {},
   "outputs": [],
   "source": [
    "78416 / 29"
   ]
  },
  {
   "cell_type": "code",
   "execution_count": null,
   "metadata": {},
   "outputs": [],
   "source": [
    "2704 / 60"
   ]
  },
  {
   "cell_type": "code",
   "execution_count": null,
   "metadata": {},
   "outputs": [],
   "source": [
    "TestFly.FeedingState"
   ]
  },
  {
   "cell_type": "code",
   "execution_count": null,
   "metadata": {},
   "outputs": [],
   "source": [
    "TestFly.interaction_events"
   ]
  },
  {
   "cell_type": "code",
   "execution_count": null,
   "metadata": {},
   "outputs": [],
   "source": [
    "TestFly.get_events_number()"
   ]
  },
  {
   "cell_type": "code",
   "execution_count": null,
   "metadata": {},
   "outputs": [],
   "source": [
    "TestFly.metrics[\"fly_1_ball_1\"]"
   ]
  },
  {
   "cell_type": "code",
   "execution_count": null,
   "metadata": {},
   "outputs": [],
   "source": [
    "final_event[0][0]"
   ]
  },
  {
   "cell_type": "code",
   "execution_count": null,
   "metadata": {},
   "outputs": [],
   "source": [
    "# Make an annotated video of the final event of the fly\n",
    "final_event = TestFly.metrics[\"fly_1_ball_1\"][\"final_event\"]\n",
    "\n",
    "TestFly.balltrack.generate_annotated_video(\n",
    "    save=True,\n",
    "    output_path = \"/mnt/upramdya_data/MD/Other_Videos/Events_annotation/final_event.mp4\",\n",
    "    start=final_event[0][0],\n",
    "    end = final_event[0][1]\n",
    ")\n"
   ]
  },
  {
   "cell_type": "code",
   "execution_count": null,
   "metadata": {},
   "outputs": [],
   "source": [
    "TestFly.interaction_events"
   ]
  },
  {
   "cell_type": "code",
   "execution_count": null,
   "metadata": {},
   "outputs": [],
   "source": [
    "# Plot the ball position during the final event and the 4 previous events\n",
    "\n",
    "final_event_idx = final_event[1]\n",
    "\n",
    "events = TestFly.interaction_events[1][1]\n",
    " \n",
    "events_idx = [final_event_idx - 4, final_event_idx - 3, final_event_idx - 2, final_event_idx - 1, final_event_idx]\n",
    "\n",
    "events_idx"
   ]
  },
  {
   "cell_type": "code",
   "execution_count": null,
   "metadata": {},
   "outputs": [],
   "source": [
    "events[19]"
   ]
  },
  {
   "cell_type": "code",
   "execution_count": null,
   "metadata": {},
   "outputs": [],
   "source": [
    "for i in events_idx:\n",
    "    TestFly.balltrack.generate_annotated_video(\n",
    "        start=events[i][0],\n",
    "        end=events[i][1],\n",
    "        save=True,\n",
    "        output_path = f\"/mnt/upramdya_data/MD/Other_Videos/Events_annotation/event_{i}.mp4\"\n",
    "    )"
   ]
  },
  {
   "cell_type": "code",
   "execution_count": null,
   "metadata": {},
   "outputs": [],
   "source": []
  },
  {
   "cell_type": "code",
   "execution_count": null,
   "metadata": {},
   "outputs": [],
   "source": [
    "# Plot the ball positions\n",
    "\n",
    "positions = TestFly.balltrack.dataset\n",
    "\n",
    "positions"
   ]
  },
  {
   "cell_type": "code",
   "execution_count": null,
   "metadata": {},
   "outputs": [],
   "source": [
    "# Plot the y_centre of the ball over time\n",
    "\n",
    "import matplotlib.pyplot as plt\n",
    "\n",
    "plt.plot(positions[\"y_centre\"])\n",
    "plt.show()"
   ]
  },
  {
   "cell_type": "code",
   "execution_count": null,
   "metadata": {},
   "outputs": [],
   "source": [
    "# Generate relative positions based on the y_centre\n",
    "\n",
    "positions[\"y_relative\"] = abs(positions[\"y_centre\"] - positions[\"y_centre\"].iloc[0])"
   ]
  },
  {
   "cell_type": "code",
   "execution_count": null,
   "metadata": {},
   "outputs": [],
   "source": [
    "plt.plot(positions[\"y_relative\"])\n",
    "plt.show()"
   ]
  },
  {
   "cell_type": "code",
   "execution_count": null,
   "metadata": {},
   "outputs": [],
   "source": [
    "# get max relative position\n",
    "\n",
    "max_relative = positions[\"y_relative\"].max()"
   ]
  },
  {
   "cell_type": "code",
   "execution_count": null,
   "metadata": {},
   "outputs": [],
   "source": [
    "TestFly.fly_skeleton"
   ]
  },
  {
   "cell_type": "code",
   "execution_count": null,
   "metadata": {},
   "outputs": [],
   "source": [
    "TestFly.get_final_event()"
   ]
  },
  {
   "cell_type": "code",
   "execution_count": null,
   "metadata": {},
   "outputs": [],
   "source": [
    "TestFly.find_events_direction()"
   ]
  },
  {
   "cell_type": "code",
   "execution_count": null,
   "metadata": {},
   "outputs": [],
   "source": [
    "importlib.reload(Ballpushing_utils)"
   ]
  },
  {
   "cell_type": "code",
   "execution_count": null,
   "metadata": {},
   "outputs": [],
   "source": [
    "TestFly_F1 = Ballpushing_utils.Fly(\"/mnt/upramdya_data/MD/F1_Tracks/Videos/240821_F1_3mm_ends_Videos_Checked/arena6/Right\", as_individual=True)"
   ]
  },
  {
   "cell_type": "code",
   "execution_count": null,
   "metadata": {},
   "outputs": [],
   "source": [
    "# Load the sleaptrack for the ball for this fly\n",
    "\n",
    "Slp_test = Sleap_utils.Sleap_Tracks(\"/mnt/upramdya_data/MD/F1_Tracks/Videos/240821_F1_3mm_ends_Videos_Checked/arena6/Right/arena6_right_rotated_tracked_ball_processed.000_arena6_right_rotated.analysis.h5\")"
   ]
  },
  {
   "cell_type": "code",
   "execution_count": null,
   "metadata": {},
   "outputs": [],
   "source": [
    "Slp_data = Slp_test.dataset"
   ]
  },
  {
   "cell_type": "code",
   "execution_count": null,
   "metadata": {},
   "outputs": [],
   "source": [
    "TestFly_F1.find_interaction_events()"
   ]
  },
  {
   "cell_type": "code",
   "execution_count": null,
   "metadata": {},
   "outputs": [],
   "source": [
    "TestFly_F1.find_adjusted_time([10, 20, 50])"
   ]
  },
  {
   "cell_type": "code",
   "execution_count": null,
   "metadata": {},
   "outputs": [],
   "source": [
    "importlib.reload(Ballpushing_utils)\n"
   ]
  },
  {
   "cell_type": "code",
   "execution_count": null,
   "metadata": {},
   "outputs": [],
   "source": [
    "importlib.reload(Sleap_utils)"
   ]
  },
  {
   "cell_type": "code",
   "execution_count": null,
   "metadata": {},
   "outputs": [],
   "source": [
    "TestFly = Ballpushing_utils.Fly(\"/mnt/upramdya_data/MD/MultiMazeRecorder/Videos/240531_MagnetBlock_Videos_Tracked/arena4/corridor4\", as_individual=True)"
   ]
  },
  {
   "cell_type": "code",
   "execution_count": null,
   "metadata": {},
   "outputs": [],
   "source": [
    "TestFly = Ballpushing_utils.Fly(\"/mnt/upramdya_data/MD/MultiMazeRecorder/Videos/240111_TNT_Fine_1_Videos_Tracked/arena5/corridor5\", as_individual=True)"
   ]
  },
  {
   "cell_type": "code",
   "execution_count": null,
   "metadata": {},
   "outputs": [],
   "source": [
    "TestFly = Ballpushing_utils.Fly(\n",
    "    \"/mnt/upramdya_data/MD/F1_Tracks/Videos/240821_F1_3mm_ends_Videos_Checked/arena2/Right\",\n",
    "    as_individual=True, experiment_type=\"MagnetBlock\"\n",
    ")"
   ]
  },
  {
   "cell_type": "code",
   "execution_count": null,
   "metadata": {},
   "outputs": [],
   "source": [
    "TestFly.metadata.arena_metadata"
   ]
  },
  {
   "cell_type": "code",
   "execution_count": null,
   "metadata": {},
   "outputs": [],
   "source": [
    "print(TestFly.events_metrics)"
   ]
  },
  {
   "cell_type": "code",
   "execution_count": null,
   "metadata": {},
   "outputs": [],
   "source": [
    "TestFly.tracking_data"
   ]
  },
  {
   "cell_type": "code",
   "execution_count": null,
   "metadata": {},
   "outputs": [],
   "source": [
    "TestFly.skeleton_metrics.contacts"
   ]
  },
  {
   "cell_type": "code",
   "execution_count": null,
   "metadata": {},
   "outputs": [],
   "source": [
    "TestFly.skeleton_metrics.plot_skeleton_and_ball(frame=4029)"
   ]
  },
  {
   "cell_type": "code",
   "execution_count": null,
   "metadata": {},
   "outputs": [],
   "source": [
    "TestFly.tracking_data.skeletontrack.objects[0].dataset"
   ]
  },
  {
   "cell_type": "code",
   "execution_count": null,
   "metadata": {},
   "outputs": [],
   "source": [
    "balltracks = TestFly.tracking_data.balltrack\n",
    "\n",
    "skeletontracks  = TestFly.tracking_data.skeletontrack"
   ]
  },
  {
   "cell_type": "code",
   "execution_count": null,
   "metadata": {},
   "outputs": [],
   "source": [
    "sample = Sleap_utils.generate_annotated_frame(balltracks.video, [balltracks], 2039)\n",
    "\n",
    "plt.imshow(sample)"
   ]
  },
  {
   "cell_type": "code",
   "execution_count": null,
   "metadata": {},
   "outputs": [],
   "source": [
    "sample_preresize = Sleap_utils.generate_annotated_frame(skeletontracks.video, [balltracks], 2039)\n",
    "\n",
    "plt.imshow(sample_preresize)"
   ]
  },
  {
   "cell_type": "code",
   "execution_count": null,
   "metadata": {},
   "outputs": [],
   "source": [
    "sampleSkel = Sleap_utils.generate_annotated_frame(skeletontracks.video, [skeletontracks], 2400)\n",
    "\n",
    "plt.imshow(sampleSkel)"
   ]
  },
  {
   "cell_type": "code",
   "execution_count": null,
   "metadata": {},
   "outputs": [],
   "source": [
    "importlib.reload(Sleap_utils)"
   ]
  },
  {
   "cell_type": "code",
   "execution_count": null,
   "metadata": {},
   "outputs": [],
   "source": [
    "slp_skeleton = Sleap_utils.Sleap_Tracks(\"/mnt/upramdya_data/MD/MultiMazeRecorder/Videos/240111_TNT_Fine_1_Videos_Tracked/arena5/corridor5/corridor5_preprocessed_full_body.h5\", smoothed_tracks=False)"
   ]
  },
  {
   "cell_type": "code",
   "execution_count": null,
   "metadata": {},
   "outputs": [],
   "source": [
    "slp_skeleton_sample = Sleap_utils.generate_annotated_frame(slp_skeleton.video, [slp_skeleton], 2400)\n",
    "\n",
    "plt.imshow(slp_skeleton_sample)"
   ]
  },
  {
   "cell_type": "code",
   "execution_count": null,
   "metadata": {},
   "outputs": [],
   "source": [
    "TestFly.f1_metrics"
   ]
  },
  {
   "cell_type": "code",
   "execution_count": null,
   "metadata": {},
   "outputs": [],
   "source": [
    "#TestFly = Ballpushing_utils.Fly(\"/mnt/upramdya_data/MD/MultiMazeRecorder/Videos/240531_MagnetBlock_Videos_Tracked/arena4/corridor4/\", as_individual=True)"
   ]
  },
  {
   "cell_type": "code",
   "execution_count": null,
   "metadata": {},
   "outputs": [],
   "source": [
    "importlib.reload(Sleap_utils)\n",
    "importlib.reload(Ballpushing_utils)"
   ]
  },
  {
   "cell_type": "code",
   "execution_count": null,
   "metadata": {},
   "outputs": [],
   "source": [
    "TestExp_F1 = Ballpushing_utils.Experiment(\"/mnt/upramdya_data/MD/F1_Tracks/Videos/240821_F1_3mm_ends_Videos_Checked\")"
   ]
  },
  {
   "cell_type": "code",
   "execution_count": null,
   "metadata": {},
   "outputs": [],
   "source": [
    "Ballpushing_utils.save_object(TestExp_F1, \"/home/durrieu/Downloads/Experiment_F1.pkl\")"
   ]
  },
  {
   "cell_type": "code",
   "execution_count": null,
   "metadata": {},
   "outputs": [],
   "source": [
    "importlib.reload(Ballpushing_utils)"
   ]
  },
  {
   "cell_type": "code",
   "execution_count": null,
   "metadata": {},
   "outputs": [],
   "source": [
    "# Let's pick 10 random folders that have TNT_Fine in their name\n",
    "\n",
    "import random\n",
    "\n",
    "datafolder = Path(\"/mnt/upramdya_data/MD/MultiMazeRecorder/Videos/\")\n",
    "\n",
    "random_folders = random.sample([folder for folder in datafolder.iterdir() if \"TNT_Fine\" in folder.name], 10)\n",
    "\n",
    "random_folders"
   ]
  },
  {
   "cell_type": "code",
   "execution_count": null,
   "metadata": {},
   "outputs": [],
   "source": [
    "Exps = []\n",
    "\n",
    "for folder in random_folders:\n",
    "    exp = Ballpushing_utils.Experiment(folder)\n",
    "    Exps.append(exp)"
   ]
  },
  {
   "cell_type": "code",
   "execution_count": null,
   "metadata": {},
   "outputs": [],
   "source": [
    "TestExp = Ballpushing_utils.Experiment(\n",
    "    \"/mnt/upramdya_data/MD/MultiMazeRecorder/Videos/240111_TNT_Fine_1_Videos_Tracked/\",\n",
    ")"
   ]
  },
  {
   "cell_type": "code",
   "execution_count": null,
   "metadata": {},
   "outputs": [],
   "source": [
    "DataTest = Ballpushing_utils.Dataset(Exps)"
   ]
  },
  {
   "cell_type": "code",
   "execution_count": null,
   "metadata": {},
   "outputs": [],
   "source": [
    "print(DataTest)"
   ]
  },
  {
   "cell_type": "code",
   "execution_count": null,
   "metadata": {},
   "outputs": [],
   "source": [
    "importlib.reload(Ballpushing_utils)"
   ]
  },
  {
   "cell_type": "code",
   "execution_count": null,
   "metadata": {},
   "outputs": [],
   "source": [
    "Skeleton_data = DataTest.generate_dataset(metrics=\"Skeleton_contacts\")"
   ]
  },
  {
   "cell_type": "code",
   "execution_count": null,
   "metadata": {},
   "outputs": [],
   "source": [
    "Skeleton_data.to_csv(\"/mnt/upramdya_data/MD/F1_Tracks/Datasets/Skeleton_contacts.csv\")"
   ]
  },
  {
   "cell_type": "code",
   "execution_count": null,
   "metadata": {},
   "outputs": [],
   "source": [
    "import seaborn as sns\n",
    "\n",
    "plt.figure(figsize=(20, 10))\n",
    "\n",
    "sns.lineplot(\n",
    "    x=\"contact_index\", y=\"ball_displacement\", data=Skeleton_data, hue=\"Nickname\"\n",
    ")\n",
    "\n",
    "plt.show()"
   ]
  },
  {
   "cell_type": "code",
   "execution_count": null,
   "metadata": {},
   "outputs": [],
   "source": [
    "# Let's only keep data for which we have atleast 3 unique fly grouped by Nickname\n",
    "\n",
    "Skeleton_data_filtered = Skeleton_data.groupby(\"Nickname\").filter(lambda x: x[\"Nickname\"].nunique() > 2)"
   ]
  },
  {
   "cell_type": "code",
   "execution_count": null,
   "metadata": {},
   "outputs": [],
   "source": [
    "# Let's plot each of them with the same scales but separate plots\n",
    "\n",
    "import matplotlib.pyplot as plt\n",
    "\n",
    "Nickames = Skeleton_data[\"Nickname\"].unique()\n",
    "\n",
    "# Set y and x scales\n",
    "# y should be at 90% of the global max\n",
    "#y_max = Skeleton_data[\"ball_displacement\"].max() * 0.8\n",
    "y_max = 0.6\n",
    "# x should also be the global max\n",
    "#x_max = Skeleton_data[\"contact_index\"].max() * 0.8\n",
    "\n",
    "x_max = 150\n",
    "\n",
    "for name in Nickames:\n",
    "    plt.figure()\n",
    "    fig = sns.lineplot(\n",
    "        x=\"contact_index\",\n",
    "        y=\"ball_displacement\",\n",
    "        data=Skeleton_data[Skeleton_data[\"Nickname\"] == name],\n",
    "    )\n",
    "    plt.xlim(0, x_max)\n",
    "    plt.ylim(0, y_max)\n",
    "    plt.title(name)\n",
    "    plt.savefig(f\"/mnt/upramdya_data/MD/F1_Tracks/Plots/241129_TeamMeeting/Single_lines_derivatives/Skeleton_contacts_{name}.png\")\n",
    "    plt.show()\n",
    "    "
   ]
  },
  {
   "cell_type": "code",
   "execution_count": null,
   "metadata": {},
   "outputs": [],
   "source": [
    "# Pick 25 random flies\n",
    "\n",
    "Flies = random.sample(list(Skeleton_data[\"fly\"].unique()), 25)\n",
    "\n"
   ]
  },
  {
   "cell_type": "code",
   "execution_count": null,
   "metadata": {},
   "outputs": [],
   "source": [
    "# Make one plot per fly\n",
    "\n",
    "y_max = 0.6\n",
    "\n",
    "x_max = 25\n",
    "\n",
    "for fly in Flies:\n",
    "    \n",
    "    plt.figure()\n",
    "    fig = sns.lineplot(\n",
    "        x=\"contact_index\",\n",
    "        y=\"ball_displacement\",\n",
    "        data=Skeleton_data[Skeleton_data[\"fly\"] == fly],\n",
    "    )\n",
    "    plt.xlim(0, x_max)\n",
    "    plt.ylim(0, y_max)\n",
    "    plt.title(fly)\n",
    "    plt.savefig(f\"/mnt/upramdya_data/MD/F1_Tracks/Plots/241129_TeamMeeting/Single_fly_derivatives/Skeleton_contacts_{fly}.png\")\n",
    "    plt.show()"
   ]
  },
  {
   "cell_type": "code",
   "execution_count": null,
   "metadata": {},
   "outputs": [],
   "source": [
    "DataTest.flies"
   ]
  },
  {
   "cell_type": "code",
   "execution_count": null,
   "metadata": {},
   "outputs": [],
   "source": [
    "Data = DataTest.compute_behavior_map(pca_components=22, savepath=\"/mnt/upramdya_data/MD/F1_Tracks/Datasets/241128TSNE.csv\")"
   ]
  },
  {
   "cell_type": "code",
   "execution_count": null,
   "metadata": {},
   "outputs": [],
   "source": [
    "Data.head()"
   ]
  },
  {
   "cell_type": "code",
   "execution_count": null,
   "metadata": {},
   "outputs": [],
   "source": [
    "# Load the data\n",
    "\n",
    "#Data = pd.read_csv(\"/mnt/upramdya_data/MD/F1_Tracks/Datasets/241127TSNE.csv\")"
   ]
  },
  {
   "cell_type": "code",
   "execution_count": null,
   "metadata": {},
   "outputs": [],
   "source": []
  },
  {
   "cell_type": "code",
   "execution_count": null,
   "metadata": {},
   "outputs": [],
   "source": [
    "# Plot the behavior map\n",
    "import seaborn as sns \n",
    "import matplotlib.pyplot as plt\n",
    "\n",
    "sns.set_style(\"darkgrid\")\n",
    "\n",
    "plt.figure(\n",
    "    figsize=(16, 10)\n",
    ")\n",
    "\n",
    "fig = sns.scatterplot(\n",
    "    x=\"t-SNE Component 1\", y=\"t-SNE Component 2\", data=Data, hue=\"Brain region\"\n",
    ")\n",
    "\n",
    "plt.savefig(\"/mnt/upramdya_data/MD/F1_Tracks/Plots/241129_TeamMeeting/241128TSNE_BrainRef.png\")\n",
    "\n",
    "plt.show()"
   ]
  },
  {
   "cell_type": "code",
   "execution_count": null,
   "metadata": {},
   "outputs": [],
   "source": [
    "# Let's plot it as a heatmap\n",
    "\n",
    "import numpy as np\n",
    "\n",
    "# Let's make a heatmap of the t-SNE components\n",
    "\n",
    "# First, let's get the data in the right format\n",
    "\n",
    "Data_heatmap = Data[[\"t-SNE Component 1\", \"t-SNE Component 2\"]]\n",
    "\n",
    "Data_heatmap = Data_heatmap.to_numpy()\n",
    "\n",
    "Data_heatmap = np.transpose(Data_heatmap)\n",
    "\n",
    "plt.figure(figsize=(10, 10))\n",
    "\n",
    "sns.heatmap(Data_heatmap, cmap=\"viridis\")"
   ]
  },
  {
   "cell_type": "code",
   "execution_count": null,
   "metadata": {},
   "outputs": [],
   "source": [
    "# Get the behavior map values that are above 200 (x) and 0 (y)\n",
    "\n",
    "Clust1 = Data[(Data[\"t-SNE Component 1\"] > 200) & (Data[\"t-SNE Component 2\"] > 0)]\n",
    "\n",
    "Clust1"
   ]
  },
  {
   "cell_type": "code",
   "execution_count": null,
   "metadata": {},
   "outputs": [],
   "source": [
    "Clust1[\"contact_index\"] = Clust1[\"contact_index\"].astype(\"Int64\")"
   ]
  },
  {
   "cell_type": "code",
   "execution_count": null,
   "metadata": {},
   "outputs": [],
   "source": [
    "Clust1[\"contact_index\"] = Clust1[\"contact_index\"] -1"
   ]
  },
  {
   "cell_type": "code",
   "execution_count": null,
   "metadata": {},
   "outputs": [],
   "source": [
    "Clust1 [\"Identifier\"] = Clust1[\"name\"] + \"_\" + str(Clust1[\"contact_index\"])"
   ]
  },
  {
   "cell_type": "code",
   "execution_count": null,
   "metadata": {},
   "outputs": [],
   "source": [
    "Events = {}\n",
    "\n",
    "Events[\"name\"] = Clust1[\"fly_id\"]\n",
    "\n",
    "Events[\"contact_index\"] = Clust1[\"contact_index\"].astype(\"Int64\")"
   ]
  },
  {
   "cell_type": "code",
   "execution_count": null,
   "metadata": {},
   "outputs": [],
   "source": [
    "# Assuming Clust1 is a DataFrame with columns \"fly_id\" and \"contact_index\"\n",
    "events_dict = [\n",
    "    {\"name\": row[\"name\"], \"event_index\": row[\"contact_index\"]}\n",
    "    for _, row in Clust1.iterrows()\n",
    "]"
   ]
  },
  {
   "cell_type": "code",
   "execution_count": null,
   "metadata": {},
   "outputs": [],
   "source": [
    "# Remove the None values\n",
    "events_dict = [event for event in events_dict if event[\"event_index\"] is not None]"
   ]
  },
  {
   "cell_type": "code",
   "execution_count": null,
   "metadata": {},
   "outputs": [],
   "source": [
    "Events"
   ]
  },
  {
   "cell_type": "code",
   "execution_count": null,
   "metadata": {},
   "outputs": [],
   "source": [
    "importlib.reload(Ballpushing_utils)"
   ]
  },
  {
   "cell_type": "code",
   "execution_count": null,
   "metadata": {},
   "outputs": [],
   "source": [
    "DataTest.make_events_grid(\n",
    "     events_dict, \"/mnt/upramdya_data/MD/F1_Tracks/Other/Events_grid.mp4\"\n",
    ")"
   ]
  },
  {
   "cell_type": "code",
   "execution_count": null,
   "metadata": {},
   "outputs": [],
   "source": [
    "Data_clean = Data.dropna()"
   ]
  },
  {
   "cell_type": "code",
   "execution_count": null,
   "metadata": {},
   "outputs": [],
   "source": [
    "Data_clean.head()"
   ]
  },
  {
   "cell_type": "code",
   "execution_count": null,
   "metadata": {},
   "outputs": [],
   "source": [
    "# Plot the behavior map\n",
    "import seaborn as sns\n",
    "\n",
    "plt.figure(figsize=(16, 10))\n",
    "\n",
    "fig = sns.scatterplot(\n",
    "    x=\"t-SNE Component 1\", y=\"t-SNE Component 2\", data=Data_clean, \n",
    ")\n",
    "\n",
    "plt.show()"
   ]
  },
  {
   "cell_type": "code",
   "execution_count": null,
   "metadata": {},
   "outputs": [],
   "source": [
    "plt.figure(figsize=(16, 10))\n",
    "\n",
    "sns.kdeplot(\n",
    "    x=\"t-SNE Component 1\",\n",
    "    y=\"t-SNE Component 2\",\n",
    "    data=Data_clean,\n",
    "    fill=True,\n",
    "    thresh=0,\n",
    "    levels=500,  # Increase for more contour levels\n",
    "    cmap=\"mako\",  # Choose a suitable color map\n",
    ")\n",
    "\n",
    "plt.title(\"Density Plot of t-SNE Results\")\n",
    "plt.xlabel(\"t-SNE Component 1\")\n",
    "plt.ylabel(\"t-SNE Component 2\")\n",
    "\n",
    "plt.savefig(\"/mnt/upramdya_data/MD/F1_Tracks/Plots/241129_TeamMeeting/241128TSNE_Density.png\")\n",
    "plt.show()"
   ]
  },
  {
   "cell_type": "code",
   "execution_count": null,
   "metadata": {},
   "outputs": [],
   "source": [
    "# Generate the density plot\n",
    "plt.figure(figsize=(16, 10))\n",
    "sns.kdeplot(\n",
    "    x=\"t-SNE Component 1\",\n",
    "    y=\"t-SNE Component 2\",\n",
    "    data=Data_clean,\n",
    "    fill=True,\n",
    "    thresh=0,\n",
    "    levels=500,\n",
    "    cmap=\"mako\",\n",
    ")\n",
    "\n",
    "# Overlay contour lines\n",
    "sns.kdeplot(\n",
    "    x=\"t-SNE Component 1\",\n",
    "    y=\"t-SNE Component 2\",\n",
    "    data=Data_clean,\n",
    "    color=\"white\",  # Contour line color\n",
    "    levels=5,  # Number of contour levels\n",
    "    linewidths=1.5,\n",
    ")\n",
    "\n",
    "plt.title(\"Density Plot with Contours\")\n",
    "plt.xlabel(\"t-SNE Component 1\")\n",
    "plt.ylabel(\"t-SNE Component 2\")\n",
    "\n",
    "#plt.savefig(\"/mnt/upramdya_data/MD/F1_Tracks/Plots/241129_TeamMeeting/241128TSNE_Density_Contours.png\")\n",
    "plt.show()"
   ]
  },
  {
   "cell_type": "code",
   "execution_count": null,
   "metadata": {},
   "outputs": [],
   "source": [
    "from scipy.ndimage import gaussian_filter\n",
    "\n",
    "\n",
    "\n",
    "sigma = 1  # Adjust this value for desired smoothing\n",
    "zi_smooth = gaussian_filter(zi, sigma=sigma)\n",
    "peaks = np.argsort(zi_smooth.flatten())[\n",
    "    -10:\n",
    "]  # Get indices of 10 highest density values\n",
    "peak_values = zi_smooth.flatten()[peaks]  # Density values of the peaks\n",
    "peak_coords = np.array(\n",
    "    np.unravel_index(peaks, zi_smooth.shape)\n",
    ").T  # XY coordinates of the peaks\n",
    "\n",
    "peak_df = pd.DataFrame(data=peak_coords, columns=[\"x\", \"y\"])\n",
    "peak_df[\"Density\"] = peak_values\n",
    "\n",
    "import matplotlib.pyplot as plt\n",
    "\n",
    "plt.figure(figsize=(12, 10))\n",
    "\n",
    "# Plot the overall density\n",
    "plt.contourf(\n",
    "    xi.reshape(zi.shape), yi.reshape(zi.shape), zi_smooth, levels=20, cmap=\"viridis\"\n",
    ")\n",
    "\n",
    "# Highlight the top 10 dense areas\n",
    "plt.scatter(peak_df[\"x\"], peak_df[\"y\"], c=\"red\", s=50, marker=\"x\")\n",
    "\n",
    "# Add labels for each peak\n",
    "for idx, row in peak_df.iterrows():\n",
    "    plt.annotate(\n",
    "        f\"Peak {idx+1}\",\n",
    "        (row[\"x\"], row[\"y\"]),\n",
    "        xytext=(5, 5),\n",
    "        textcoords=\"offset points\",\n",
    "        color=\"white\",\n",
    "    )\n",
    "\n",
    "plt.colorbar(label=\"Density\")\n",
    "plt.title(\"Top 10 Densest Areas in t-SNE Plot\")\n",
    "plt.xlabel(\"t-SNE Component 1\")\n",
    "plt.ylabel(\"t-SNE Component 2\")\n",
    "plt.show()"
   ]
  },
  {
   "cell_type": "code",
   "execution_count": null,
   "metadata": {},
   "outputs": [],
   "source": [
    "# CLustering detection\n",
    "\n",
    "from sklearn.cluster import DBSCAN\n",
    "\n",
    "dbscan = DBSCAN(eps=0.5, min_samples=5)\n",
    "\n",
    "Data_clean[\"Cluster\"] = dbscan.fit_predict(\n",
    "    Data_clean[[\"t-SNE Component 1\", \"t-SNE Component 2\"]]\n",
    ")"
   ]
  },
  {
   "cell_type": "code",
   "execution_count": null,
   "metadata": {},
   "outputs": [],
   "source": [
    "def plot_behavior_map(result_df, savepath=None):\n",
    "    plt.figure(figsize=(12, 10))\n",
    "    sns.scatterplot(\n",
    "        data=result_df,\n",
    "        x=\"t-SNE Component 1\",\n",
    "        y=\"t-SNE Component 2\",\n",
    "        hue=\"Cluster\",\n",
    "        palette=\"deep\",\n",
    "        legend=\"full\",\n",
    "    )\n",
    "    plt.title(\"Behavior Map with Clusters\")\n",
    "    if savepath:\n",
    "        plt.savefig(savepath)\n",
    "    plt.show()\n",
    "\n",
    "plot_behavior_map(\n",
    "    Data_clean,\n",
    "    savepath=\"/mnt/upramdya_data/MD/F1_Tracks/Plots/241129_TeamMeeting/241128TSNE_Clusters.png\",\n",
    ")"
   ]
  },
  {
   "cell_type": "code",
   "execution_count": null,
   "metadata": {},
   "outputs": [],
   "source": [
    "# Get the list of fly x event index for all the contact events in the cluster\n",
    "\n",
    "Fly_Events = []\n",
    "\n",
    "for index, row in Clust1.iterrows()"
   ]
  },
  {
   "cell_type": "code",
   "execution_count": null,
   "metadata": {},
   "outputs": [],
   "source": [
    "for fly in TestExp.flies:\n",
    "    tracks = fly.tracking_data\n",
    "    print(fly._tracking_data.skeletontrack)"
   ]
  },
  {
   "cell_type": "code",
   "execution_count": null,
   "metadata": {},
   "outputs": [],
   "source": [
    "importlib.reload(Ballpushing_utils)"
   ]
  },
  {
   "cell_type": "code",
   "execution_count": null,
   "metadata": {},
   "outputs": [],
   "source": [
    "TestData = Ballpushing_utils.Dataset(TestExp_F1)\n",
    "\n",
    "print(TestData)"
   ]
  },
  {
   "cell_type": "code",
   "execution_count": null,
   "metadata": {},
   "outputs": [],
   "source": [
    "Summary = TestData.generate_dataset(\"summary\")"
   ]
  },
  {
   "cell_type": "code",
   "execution_count": null,
   "metadata": {},
   "outputs": [],
   "source": [
    "Summary.head()"
   ]
  },
  {
   "cell_type": "code",
   "execution_count": null,
   "metadata": {},
   "outputs": [],
   "source": [
    "Coords = TestData.generate_dataset(\"coordinates\")\n",
    "\n",
    "Coords.head()"
   ]
  },
  {
   "cell_type": "code",
   "execution_count": null,
   "metadata": {},
   "outputs": [],
   "source": [
    "F1_coords = TestData.generate_dataset(\"F1_coordinates\")\n",
    "\n",
    "F1_coords.head()"
   ]
  },
  {
   "cell_type": "code",
   "execution_count": null,
   "metadata": {},
   "outputs": [],
   "source": [
    "F1_summary = TestData.generate_dataset(\"F1_checkpoints\")\n",
    "\n",
    "F1_summary.head()"
   ]
  },
  {
   "cell_type": "code",
   "execution_count": null,
   "metadata": {},
   "outputs": [],
   "source": [
    "TroubleFly = Ballpushing_utils.Fly(\n",
    "    \"/mnt/upramdya_data/MD/F1_Tracks/Videos/240821_F1_3mm_ends_Videos_Checked/arena1/Right\",\n",
    "    as_individual=True,\n",
    ")"
   ]
  },
  {
   "cell_type": "code",
   "execution_count": null,
   "metadata": {},
   "outputs": [],
   "source": [
    "TroubleFly.metrics"
   ]
  },
  {
   "cell_type": "code",
   "execution_count": null,
   "metadata": {},
   "outputs": [],
   "source": [
    "for fly in TestExp_F1.flies:\n",
    "    print(fly.metrics)"
   ]
  },
  {
   "cell_type": "code",
   "execution_count": null,
   "metadata": {},
   "outputs": [],
   "source": [
    "importlib.reload(Ballpushing_utils)"
   ]
  },
  {
   "cell_type": "code",
   "execution_count": null,
   "metadata": {},
   "outputs": [],
   "source": [
    "TestDataset = Ballpushing_utils.Dataset(TestExp_F1)"
   ]
  },
  {
   "cell_type": "code",
   "execution_count": null,
   "metadata": {},
   "outputs": [],
   "source": [
    "print(TestDataset)"
   ]
  },
  {
   "cell_type": "code",
   "execution_count": null,
   "metadata": {},
   "outputs": [],
   "source": [
    "TestDataset.metadata"
   ]
  },
  {
   "cell_type": "code",
   "execution_count": null,
   "metadata": {},
   "outputs": [],
   "source": [
    "TestDataset_coordinates = TestDataset.generate_dataset()"
   ]
  },
  {
   "cell_type": "code",
   "execution_count": null,
   "metadata": {},
   "outputs": [],
   "source": [
    "TestDataset_coordinates"
   ]
  },
  {
   "cell_type": "code",
   "execution_count": null,
   "metadata": {},
   "outputs": [],
   "source": [
    "TestDataset_coordinates.columns"
   ]
  },
  {
   "cell_type": "code",
   "execution_count": null,
   "metadata": {},
   "outputs": [],
   "source": [
    "import seaborn as sns\n",
    "import matplotlib.pyplot as plt\n",
    "\n",
    "# Define the downsampling factor\n",
    "downsample_factor = (29*5)  # Adjust this value as needed\n",
    "\n",
    "# Reset the index of the DataFrame to avoid duplicate labels\n",
    "TestDataset_coordinates = TestDataset_coordinates.reset_index(drop=True)\n",
    "\n",
    "# Filter the DataFrame to include only rows where adjusted_time is positive\n",
    "filtered_data = TestDataset_coordinates[TestDataset_coordinates[\"adjusted_time\"] >= 0]\n",
    "\n",
    "# Downsample the DataFrame by selecting every nth row\n",
    "downsampled_data = filtered_data.iloc[::downsample_factor, :]\n",
    "\n",
    "# Plot the data\n",
    "sns.lineplot(\n",
    "    x=\"adjusted_time\",\n",
    "    y=\"distance_ball_0\",\n",
    "    hue=\"F1_condition\",\n",
    "    data=downsampled_data[downsampled_data[\"F1_condition\"] == \"control\"],\n",
    ")\n",
    "\n",
    "sns.lineplot(\n",
    "    x=\"adjusted_time\",\n",
    "    y=\"distance_ball_1\",\n",
    "    hue=\"F1_condition\",\n",
    "    data=downsampled_data[downsampled_data[\"F1_condition\"] != \"control\"],\n",
    ")\n",
    "\n",
    "# Set the x-axis limits to start at 0\n",
    "plt.xlim(left=0)\n",
    "\n",
    "# Show the plot\n",
    "plt.show()"
   ]
  },
  {
   "cell_type": "code",
   "execution_count": null,
   "metadata": {},
   "outputs": [],
   "source": [
    "# Generate a dataset with adjusted time and relative ball position for all flies\n",
    "\n",
    "Data = []\n",
    "\n",
    "for fly in TestExp_F1.flies:\n",
    "    if fly.Pretraining ==\"y\":\n",
    "\n",
    "        if fly.exit_time:\n",
    "            Adjusted_time = fly.flytrack.objects[0].dataset[\"adjusted_time\"]\n",
    "\n",
    "            Ball_position = fly.balltrack.objects[1].dataset[\"euclidean_distance\"]\n",
    "            \n",
    "            Pretraining = fly.Pretraining\n",
    "\n",
    "            dataset = pd.DataFrame({\"adjusted_time\": Adjusted_time, \"ball_position\": Ball_position, \"Pretraining\": Pretraining})\n",
    "            Data.append(dataset)\n",
    "\n",
    "    else:\n",
    "        Adjusted_time = fly.flytrack.objects[0].dataset[\"adjusted_time\"]\n",
    "\n",
    "        Ball_position = fly.balltrack.objects[0].dataset[\"euclidean_distance\"]\n",
    "        \n",
    "        Pretraining = fly.Pretraining\n",
    "\n",
    "        dataset = pd.DataFrame(\n",
    "            {\"adjusted_time\": Adjusted_time, \"ball_position\": Ball_position, \"Pretraining\": Pretraining}\n",
    "        )\n",
    "        Data.append(dataset)\n",
    "\n",
    "\n",
    "# Concatenate the data\n",
    "\n",
    "Data = pd.concat(Data)\n",
    "\n",
    "Data"
   ]
  },
  {
   "cell_type": "code",
   "execution_count": null,
   "metadata": {},
   "outputs": [],
   "source": [
    "# Now plot the the average ball position over adjusted time with scale starting at 0 grouped by pretraining\n",
    "\n",
    "import seaborn as sns\n",
    "import matplotlib.pyplot as plt\n",
    "\n",
    "Avg = Data.groupby([\"adjusted_time\", \"Pretraining\"]).mean().reset_index()\n",
    "\n",
    "# Apply some smoothing to the ball_position\n",
    "\n",
    "Avg[\"ball_position\"] = Avg[\"ball_position\"].rolling(window=10).mean()\n",
    "\n",
    "plt.figure()\n",
    "\n",
    "sns.lineplot(x=\"adjusted_time\", y=\"ball_position\", data=Avg, hue=\"Pretraining\")\n",
    "\n",
    "plt.show()"
   ]
  },
  {
   "cell_type": "code",
   "execution_count": null,
   "metadata": {},
   "outputs": [],
   "source": [
    "print(TestExp_F1)"
   ]
  },
  {
   "cell_type": "code",
   "execution_count": null,
   "metadata": {},
   "outputs": [],
   "source": [
    "TestData = Ballpushing_utils.Dataset(TestExp_F1)"
   ]
  },
  {
   "cell_type": "code",
   "execution_count": null,
   "metadata": {},
   "outputs": [],
   "source": [
    "str(TestData)"
   ]
  },
  {
   "cell_type": "code",
   "execution_count": null,
   "metadata": {},
   "outputs": [],
   "source": [
    "TestData.generate_dataset(\"summary\")"
   ]
  },
  {
   "cell_type": "code",
   "execution_count": null,
   "metadata": {},
   "outputs": [],
   "source": [
    "importlib.reload(Ballpushing_utils)"
   ]
  },
  {
   "cell_type": "code",
   "execution_count": null,
   "metadata": {},
   "outputs": [],
   "source": [
    "data.generate_dataset()"
   ]
  },
  {
   "cell_type": "code",
   "execution_count": null,
   "metadata": {},
   "outputs": [],
   "source": []
  }
 ],
 "metadata": {
  "kernelspec": {
   "display_name": "trackinganalysis",
   "language": "python",
   "name": "python3"
  },
  "language_info": {
   "codemirror_mode": {
    "name": "ipython",
    "version": 3
   },
   "file_extension": ".py",
   "mimetype": "text/x-python",
   "name": "python",
   "nbconvert_exporter": "python",
   "pygments_lexer": "ipython3",
   "version": "3.11.5"
  }
 },
 "nbformat": 4,
 "nbformat_minor": 2
}
