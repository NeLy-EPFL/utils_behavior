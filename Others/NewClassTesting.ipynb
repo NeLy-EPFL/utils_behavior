{
 "cells": [
  {
   "cell_type": "code",
   "execution_count": 95,
   "metadata": {},
   "outputs": [
    {
     "data": {
      "application/javascript": "(function(root) {\n  function now() {\n    return new Date();\n  }\n\n  var force = true;\n  var py_version = '3.3.4'.replace('rc', '-rc.').replace('.dev', '-dev.');\n  var reloading = false;\n  var Bokeh = root.Bokeh;\n\n  if (typeof (root._bokeh_timeout) === \"undefined\" || force) {\n    root._bokeh_timeout = Date.now() + 5000;\n    root._bokeh_failed_load = false;\n  }\n\n  function run_callbacks() {\n    try {\n      root._bokeh_onload_callbacks.forEach(function(callback) {\n        if (callback != null)\n          callback();\n      });\n    } finally {\n      delete root._bokeh_onload_callbacks;\n    }\n    console.debug(\"Bokeh: all callbacks have finished\");\n  }\n\n  function load_libs(css_urls, js_urls, js_modules, js_exports, callback) {\n    if (css_urls == null) css_urls = [];\n    if (js_urls == null) js_urls = [];\n    if (js_modules == null) js_modules = [];\n    if (js_exports == null) js_exports = {};\n\n    root._bokeh_onload_callbacks.push(callback);\n\n    if (root._bokeh_is_loading > 0) {\n      console.debug(\"Bokeh: BokehJS is being loaded, scheduling callback at\", now());\n      return null;\n    }\n    if (js_urls.length === 0 && js_modules.length === 0 && Object.keys(js_exports).length === 0) {\n      run_callbacks();\n      return null;\n    }\n    if (!reloading) {\n      console.debug(\"Bokeh: BokehJS not loaded, scheduling load and callback at\", now());\n    }\n\n    function on_load() {\n      root._bokeh_is_loading--;\n      if (root._bokeh_is_loading === 0) {\n        console.debug(\"Bokeh: all BokehJS libraries/stylesheets loaded\");\n        run_callbacks()\n      }\n    }\n    window._bokeh_on_load = on_load\n\n    function on_error() {\n      console.error(\"failed to load \" + url);\n    }\n\n    var skip = [];\n    if (window.requirejs) {\n      window.requirejs.config({'packages': {}, 'paths': {'jspanel': 'https://cdn.jsdelivr.net/npm/jspanel4@4.12.0/dist/jspanel', 'jspanel-modal': 'https://cdn.jsdelivr.net/npm/jspanel4@4.12.0/dist/extensions/modal/jspanel.modal', 'jspanel-tooltip': 'https://cdn.jsdelivr.net/npm/jspanel4@4.12.0/dist/extensions/tooltip/jspanel.tooltip', 'jspanel-hint': 'https://cdn.jsdelivr.net/npm/jspanel4@4.12.0/dist/extensions/hint/jspanel.hint', 'jspanel-layout': 'https://cdn.jsdelivr.net/npm/jspanel4@4.12.0/dist/extensions/layout/jspanel.layout', 'jspanel-contextmenu': 'https://cdn.jsdelivr.net/npm/jspanel4@4.12.0/dist/extensions/contextmenu/jspanel.contextmenu', 'jspanel-dock': 'https://cdn.jsdelivr.net/npm/jspanel4@4.12.0/dist/extensions/dock/jspanel.dock', 'gridstack': 'https://cdn.jsdelivr.net/npm/gridstack@7.2.3/dist/gridstack-all', 'notyf': 'https://cdn.jsdelivr.net/npm/notyf@3/notyf.min'}, 'shim': {'jspanel': {'exports': 'jsPanel'}, 'gridstack': {'exports': 'GridStack'}}});\n      require([\"jspanel\"], function(jsPanel) {\n\twindow.jsPanel = jsPanel\n\ton_load()\n      })\n      require([\"jspanel-modal\"], function() {\n\ton_load()\n      })\n      require([\"jspanel-tooltip\"], function() {\n\ton_load()\n      })\n      require([\"jspanel-hint\"], function() {\n\ton_load()\n      })\n      require([\"jspanel-layout\"], function() {\n\ton_load()\n      })\n      require([\"jspanel-contextmenu\"], function() {\n\ton_load()\n      })\n      require([\"jspanel-dock\"], function() {\n\ton_load()\n      })\n      require([\"gridstack\"], function(GridStack) {\n\twindow.GridStack = GridStack\n\ton_load()\n      })\n      require([\"notyf\"], function() {\n\ton_load()\n      })\n      root._bokeh_is_loading = css_urls.length + 9;\n    } else {\n      root._bokeh_is_loading = css_urls.length + js_urls.length + js_modules.length + Object.keys(js_exports).length;\n    }\n\n    var existing_stylesheets = []\n    var links = document.getElementsByTagName('link')\n    for (var i = 0; i < links.length; i++) {\n      var link = links[i]\n      if (link.href != null) {\n\texisting_stylesheets.push(link.href)\n      }\n    }\n    for (var i = 0; i < css_urls.length; i++) {\n      var url = css_urls[i];\n      if (existing_stylesheets.indexOf(url) !== -1) {\n\ton_load()\n\tcontinue;\n      }\n      const element = document.createElement(\"link\");\n      element.onload = on_load;\n      element.onerror = on_error;\n      element.rel = \"stylesheet\";\n      element.type = \"text/css\";\n      element.href = url;\n      console.debug(\"Bokeh: injecting link tag for BokehJS stylesheet: \", url);\n      document.body.appendChild(element);\n    }    if (((window['jsPanel'] !== undefined) && (!(window['jsPanel'] instanceof HTMLElement))) || window.requirejs) {\n      var urls = ['https://cdn.holoviz.org/panel/1.3.8/dist/bundled/floatpanel/jspanel4@4.12.0/dist/jspanel.js', 'https://cdn.holoviz.org/panel/1.3.8/dist/bundled/floatpanel/jspanel4@4.12.0/dist/extensions/modal/jspanel.modal.js', 'https://cdn.holoviz.org/panel/1.3.8/dist/bundled/floatpanel/jspanel4@4.12.0/dist/extensions/tooltip/jspanel.tooltip.js', 'https://cdn.holoviz.org/panel/1.3.8/dist/bundled/floatpanel/jspanel4@4.12.0/dist/extensions/hint/jspanel.hint.js', 'https://cdn.holoviz.org/panel/1.3.8/dist/bundled/floatpanel/jspanel4@4.12.0/dist/extensions/layout/jspanel.layout.js', 'https://cdn.holoviz.org/panel/1.3.8/dist/bundled/floatpanel/jspanel4@4.12.0/dist/extensions/contextmenu/jspanel.contextmenu.js', 'https://cdn.holoviz.org/panel/1.3.8/dist/bundled/floatpanel/jspanel4@4.12.0/dist/extensions/dock/jspanel.dock.js'];\n      for (var i = 0; i < urls.length; i++) {\n        skip.push(urls[i])\n      }\n    }    if (((window['GridStack'] !== undefined) && (!(window['GridStack'] instanceof HTMLElement))) || window.requirejs) {\n      var urls = ['https://cdn.holoviz.org/panel/1.3.8/dist/bundled/gridstack/gridstack@7.2.3/dist/gridstack-all.js'];\n      for (var i = 0; i < urls.length; i++) {\n        skip.push(urls[i])\n      }\n    }    if (((window['Notyf'] !== undefined) && (!(window['Notyf'] instanceof HTMLElement))) || window.requirejs) {\n      var urls = ['https://cdn.holoviz.org/panel/1.3.8/dist/bundled/notificationarea/notyf@3/notyf.min.js'];\n      for (var i = 0; i < urls.length; i++) {\n        skip.push(urls[i])\n      }\n    }    var existing_scripts = []\n    var scripts = document.getElementsByTagName('script')\n    for (var i = 0; i < scripts.length; i++) {\n      var script = scripts[i]\n      if (script.src != null) {\n\texisting_scripts.push(script.src)\n      }\n    }\n    for (var i = 0; i < js_urls.length; i++) {\n      var url = js_urls[i];\n      if (skip.indexOf(url) !== -1 || existing_scripts.indexOf(url) !== -1) {\n\tif (!window.requirejs) {\n\t  on_load();\n\t}\n\tcontinue;\n      }\n      var element = document.createElement('script');\n      element.onload = on_load;\n      element.onerror = on_error;\n      element.async = false;\n      element.src = url;\n      console.debug(\"Bokeh: injecting script tag for BokehJS library: \", url);\n      document.head.appendChild(element);\n    }\n    for (var i = 0; i < js_modules.length; i++) {\n      var url = js_modules[i];\n      if (skip.indexOf(url) !== -1 || existing_scripts.indexOf(url) !== -1) {\n\tif (!window.requirejs) {\n\t  on_load();\n\t}\n\tcontinue;\n      }\n      var element = document.createElement('script');\n      element.onload = on_load;\n      element.onerror = on_error;\n      element.async = false;\n      element.src = url;\n      element.type = \"module\";\n      console.debug(\"Bokeh: injecting script tag for BokehJS library: \", url);\n      document.head.appendChild(element);\n    }\n    for (const name in js_exports) {\n      var url = js_exports[name];\n      if (skip.indexOf(url) >= 0 || root[name] != null) {\n\tif (!window.requirejs) {\n\t  on_load();\n\t}\n\tcontinue;\n      }\n      var element = document.createElement('script');\n      element.onerror = on_error;\n      element.async = false;\n      element.type = \"module\";\n      console.debug(\"Bokeh: injecting script tag for BokehJS library: \", url);\n      element.textContent = `\n      import ${name} from \"${url}\"\n      window.${name} = ${name}\n      window._bokeh_on_load()\n      `\n      document.head.appendChild(element);\n    }\n    if (!js_urls.length && !js_modules.length) {\n      on_load()\n    }\n  };\n\n  function inject_raw_css(css) {\n    const element = document.createElement(\"style\");\n    element.appendChild(document.createTextNode(css));\n    document.body.appendChild(element);\n  }\n\n  var js_urls = [\"https://cdn.bokeh.org/bokeh/release/bokeh-3.3.4.min.js\", \"https://cdn.bokeh.org/bokeh/release/bokeh-gl-3.3.4.min.js\", \"https://cdn.bokeh.org/bokeh/release/bokeh-widgets-3.3.4.min.js\", \"https://cdn.bokeh.org/bokeh/release/bokeh-tables-3.3.4.min.js\", \"https://cdn.holoviz.org/panel/1.3.8/dist/panel.min.js\"];\n  var js_modules = [];\n  var js_exports = {};\n  var css_urls = [];\n  var inline_js = [    function(Bokeh) {\n      Bokeh.set_log_level(\"info\");\n    },\nfunction(Bokeh) {} // ensure no trailing comma for IE\n  ];\n\n  function run_inline_js() {\n    if ((root.Bokeh !== undefined) || (force === true)) {\n      for (var i = 0; i < inline_js.length; i++) {\n\ttry {\n          inline_js[i].call(root, root.Bokeh);\n\t} catch(e) {\n\t  if (!reloading) {\n\t    throw e;\n\t  }\n\t}\n      }\n      // Cache old bokeh versions\n      if (Bokeh != undefined && !reloading) {\n\tvar NewBokeh = root.Bokeh;\n\tif (Bokeh.versions === undefined) {\n\t  Bokeh.versions = new Map();\n\t}\n\tif (NewBokeh.version !== Bokeh.version) {\n\t  Bokeh.versions.set(NewBokeh.version, NewBokeh)\n\t}\n\troot.Bokeh = Bokeh;\n      }} else if (Date.now() < root._bokeh_timeout) {\n      setTimeout(run_inline_js, 100);\n    } else if (!root._bokeh_failed_load) {\n      console.log(\"Bokeh: BokehJS failed to load within specified timeout.\");\n      root._bokeh_failed_load = true;\n    }\n    root._bokeh_is_initializing = false\n  }\n\n  function load_or_wait() {\n    // Implement a backoff loop that tries to ensure we do not load multiple\n    // versions of Bokeh and its dependencies at the same time.\n    // In recent versions we use the root._bokeh_is_initializing flag\n    // to determine whether there is an ongoing attempt to initialize\n    // bokeh, however for backward compatibility we also try to ensure\n    // that we do not start loading a newer (Panel>=1.0 and Bokeh>3) version\n    // before older versions are fully initialized.\n    if (root._bokeh_is_initializing && Date.now() > root._bokeh_timeout) {\n      root._bokeh_is_initializing = false;\n      root._bokeh_onload_callbacks = undefined;\n      console.log(\"Bokeh: BokehJS was loaded multiple times but one version failed to initialize.\");\n      load_or_wait();\n    } else if (root._bokeh_is_initializing || (typeof root._bokeh_is_initializing === \"undefined\" && root._bokeh_onload_callbacks !== undefined)) {\n      setTimeout(load_or_wait, 100);\n    } else {\n      root._bokeh_is_initializing = true\n      root._bokeh_onload_callbacks = []\n      var bokeh_loaded = Bokeh != null && (Bokeh.version === py_version || (Bokeh.versions !== undefined && Bokeh.versions.has(py_version)));\n      if (!reloading && !bokeh_loaded) {\n\troot.Bokeh = undefined;\n      }\n      load_libs(css_urls, js_urls, js_modules, js_exports, function() {\n\tconsole.debug(\"Bokeh: BokehJS plotting callback run at\", now());\n\trun_inline_js();\n      });\n    }\n  }\n  // Give older versions of the autoload script a head-start to ensure\n  // they initialize before we start loading newer version.\n  setTimeout(load_or_wait, 100)\n}(window));",
      "application/vnd.holoviews_load.v0+json": ""
     },
     "metadata": {},
     "output_type": "display_data"
    },
    {
     "data": {
      "application/javascript": "\nif ((window.PyViz === undefined) || (window.PyViz instanceof HTMLElement)) {\n  window.PyViz = {comms: {}, comm_status:{}, kernels:{}, receivers: {}, plot_index: []}\n}\n\n\n    function JupyterCommManager() {\n    }\n\n    JupyterCommManager.prototype.register_target = function(plot_id, comm_id, msg_handler) {\n      if (window.comm_manager || ((window.Jupyter !== undefined) && (Jupyter.notebook.kernel != null))) {\n        var comm_manager = window.comm_manager || Jupyter.notebook.kernel.comm_manager;\n        comm_manager.register_target(comm_id, function(comm) {\n          comm.on_msg(msg_handler);\n        });\n      } else if ((plot_id in window.PyViz.kernels) && (window.PyViz.kernels[plot_id])) {\n        window.PyViz.kernels[plot_id].registerCommTarget(comm_id, function(comm) {\n          comm.onMsg = msg_handler;\n        });\n      } else if (typeof google != 'undefined' && google.colab.kernel != null) {\n        google.colab.kernel.comms.registerTarget(comm_id, (comm) => {\n          var messages = comm.messages[Symbol.asyncIterator]();\n          function processIteratorResult(result) {\n            var message = result.value;\n            console.log(message)\n            var content = {data: message.data, comm_id};\n            var buffers = []\n            for (var buffer of message.buffers || []) {\n              buffers.push(new DataView(buffer))\n            }\n            var metadata = message.metadata || {};\n            var msg = {content, buffers, metadata}\n            msg_handler(msg);\n            return messages.next().then(processIteratorResult);\n          }\n          return messages.next().then(processIteratorResult);\n        })\n      }\n    }\n\n    JupyterCommManager.prototype.get_client_comm = function(plot_id, comm_id, msg_handler) {\n      if (comm_id in window.PyViz.comms) {\n        return window.PyViz.comms[comm_id];\n      } else if (window.comm_manager || ((window.Jupyter !== undefined) && (Jupyter.notebook.kernel != null))) {\n        var comm_manager = window.comm_manager || Jupyter.notebook.kernel.comm_manager;\n        var comm = comm_manager.new_comm(comm_id, {}, {}, {}, comm_id);\n        if (msg_handler) {\n          comm.on_msg(msg_handler);\n        }\n      } else if ((plot_id in window.PyViz.kernels) && (window.PyViz.kernels[plot_id])) {\n        var comm = window.PyViz.kernels[plot_id].connectToComm(comm_id);\n        comm.open();\n        if (msg_handler) {\n          comm.onMsg = msg_handler;\n        }\n      } else if (typeof google != 'undefined' && google.colab.kernel != null) {\n        var comm_promise = google.colab.kernel.comms.open(comm_id)\n        comm_promise.then((comm) => {\n          window.PyViz.comms[comm_id] = comm;\n          if (msg_handler) {\n            var messages = comm.messages[Symbol.asyncIterator]();\n            function processIteratorResult(result) {\n              var message = result.value;\n              var content = {data: message.data};\n              var metadata = message.metadata || {comm_id};\n              var msg = {content, metadata}\n              msg_handler(msg);\n              return messages.next().then(processIteratorResult);\n            }\n            return messages.next().then(processIteratorResult);\n          }\n        }) \n        var sendClosure = (data, metadata, buffers, disposeOnDone) => {\n          return comm_promise.then((comm) => {\n            comm.send(data, metadata, buffers, disposeOnDone);\n          });\n        };\n        var comm = {\n          send: sendClosure\n        };\n      }\n      window.PyViz.comms[comm_id] = comm;\n      return comm;\n    }\n    window.PyViz.comm_manager = new JupyterCommManager();\n    \n\n\nvar JS_MIME_TYPE = 'application/javascript';\nvar HTML_MIME_TYPE = 'text/html';\nvar EXEC_MIME_TYPE = 'application/vnd.holoviews_exec.v0+json';\nvar CLASS_NAME = 'output';\n\n/**\n * Render data to the DOM node\n */\nfunction render(props, node) {\n  var div = document.createElement(\"div\");\n  var script = document.createElement(\"script\");\n  node.appendChild(div);\n  node.appendChild(script);\n}\n\n/**\n * Handle when a new output is added\n */\nfunction handle_add_output(event, handle) {\n  var output_area = handle.output_area;\n  var output = handle.output;\n  if ((output.data == undefined) || (!output.data.hasOwnProperty(EXEC_MIME_TYPE))) {\n    return\n  }\n  var id = output.metadata[EXEC_MIME_TYPE][\"id\"];\n  var toinsert = output_area.element.find(\".\" + CLASS_NAME.split(' ')[0]);\n  if (id !== undefined) {\n    var nchildren = toinsert.length;\n    var html_node = toinsert[nchildren-1].children[0];\n    html_node.innerHTML = output.data[HTML_MIME_TYPE];\n    var scripts = [];\n    var nodelist = html_node.querySelectorAll(\"script\");\n    for (var i in nodelist) {\n      if (nodelist.hasOwnProperty(i)) {\n        scripts.push(nodelist[i])\n      }\n    }\n\n    scripts.forEach( function (oldScript) {\n      var newScript = document.createElement(\"script\");\n      var attrs = [];\n      var nodemap = oldScript.attributes;\n      for (var j in nodemap) {\n        if (nodemap.hasOwnProperty(j)) {\n          attrs.push(nodemap[j])\n        }\n      }\n      attrs.forEach(function(attr) { newScript.setAttribute(attr.name, attr.value) });\n      newScript.appendChild(document.createTextNode(oldScript.innerHTML));\n      oldScript.parentNode.replaceChild(newScript, oldScript);\n    });\n    if (JS_MIME_TYPE in output.data) {\n      toinsert[nchildren-1].children[1].textContent = output.data[JS_MIME_TYPE];\n    }\n    output_area._hv_plot_id = id;\n    if ((window.Bokeh !== undefined) && (id in Bokeh.index)) {\n      window.PyViz.plot_index[id] = Bokeh.index[id];\n    } else {\n      window.PyViz.plot_index[id] = null;\n    }\n  } else if (output.metadata[EXEC_MIME_TYPE][\"server_id\"] !== undefined) {\n    var bk_div = document.createElement(\"div\");\n    bk_div.innerHTML = output.data[HTML_MIME_TYPE];\n    var script_attrs = bk_div.children[0].attributes;\n    for (var i = 0; i < script_attrs.length; i++) {\n      toinsert[toinsert.length - 1].childNodes[1].setAttribute(script_attrs[i].name, script_attrs[i].value);\n    }\n    // store reference to server id on output_area\n    output_area._bokeh_server_id = output.metadata[EXEC_MIME_TYPE][\"server_id\"];\n  }\n}\n\n/**\n * Handle when an output is cleared or removed\n */\nfunction handle_clear_output(event, handle) {\n  var id = handle.cell.output_area._hv_plot_id;\n  var server_id = handle.cell.output_area._bokeh_server_id;\n  if (((id === undefined) || !(id in PyViz.plot_index)) && (server_id !== undefined)) { return; }\n  var comm = window.PyViz.comm_manager.get_client_comm(\"hv-extension-comm\", \"hv-extension-comm\", function () {});\n  if (server_id !== null) {\n    comm.send({event_type: 'server_delete', 'id': server_id});\n    return;\n  } else if (comm !== null) {\n    comm.send({event_type: 'delete', 'id': id});\n  }\n  delete PyViz.plot_index[id];\n  if ((window.Bokeh !== undefined) & (id in window.Bokeh.index)) {\n    var doc = window.Bokeh.index[id].model.document\n    doc.clear();\n    const i = window.Bokeh.documents.indexOf(doc);\n    if (i > -1) {\n      window.Bokeh.documents.splice(i, 1);\n    }\n  }\n}\n\n/**\n * Handle kernel restart event\n */\nfunction handle_kernel_cleanup(event, handle) {\n  delete PyViz.comms[\"hv-extension-comm\"];\n  window.PyViz.plot_index = {}\n}\n\n/**\n * Handle update_display_data messages\n */\nfunction handle_update_output(event, handle) {\n  handle_clear_output(event, {cell: {output_area: handle.output_area}})\n  handle_add_output(event, handle)\n}\n\nfunction register_renderer(events, OutputArea) {\n  function append_mime(data, metadata, element) {\n    // create a DOM node to render to\n    var toinsert = this.create_output_subarea(\n    metadata,\n    CLASS_NAME,\n    EXEC_MIME_TYPE\n    );\n    this.keyboard_manager.register_events(toinsert);\n    // Render to node\n    var props = {data: data, metadata: metadata[EXEC_MIME_TYPE]};\n    render(props, toinsert[0]);\n    element.append(toinsert);\n    return toinsert\n  }\n\n  events.on('output_added.OutputArea', handle_add_output);\n  events.on('output_updated.OutputArea', handle_update_output);\n  events.on('clear_output.CodeCell', handle_clear_output);\n  events.on('delete.Cell', handle_clear_output);\n  events.on('kernel_ready.Kernel', handle_kernel_cleanup);\n\n  OutputArea.prototype.register_mime_type(EXEC_MIME_TYPE, append_mime, {\n    safe: true,\n    index: 0\n  });\n}\n\nif (window.Jupyter !== undefined) {\n  try {\n    var events = require('base/js/events');\n    var OutputArea = require('notebook/js/outputarea').OutputArea;\n    if (OutputArea.prototype.mime_types().indexOf(EXEC_MIME_TYPE) == -1) {\n      register_renderer(events, OutputArea);\n    }\n  } catch(err) {\n  }\n}\n",
      "application/vnd.holoviews_load.v0+json": ""
     },
     "metadata": {},
     "output_type": "display_data"
    },
    {
     "data": {
      "text/html": [
       "<style>*[data-root-id],\n",
       "*[data-root-id] > * {\n",
       "  box-sizing: border-box;\n",
       "  font-family: var(--jp-ui-font-family);\n",
       "  font-size: var(--jp-ui-font-size1);\n",
       "  color: var(--vscode-editor-foreground, var(--jp-ui-font-color1));\n",
       "}\n",
       "\n",
       "/* Override VSCode background color */\n",
       ".cell-output-ipywidget-background:has(\n",
       "    > .cell-output-ipywidget-background > .lm-Widget > *[data-root-id]\n",
       "  ),\n",
       ".cell-output-ipywidget-background:has(> .lm-Widget > *[data-root-id]) {\n",
       "  background-color: transparent !important;\n",
       "}\n",
       "</style>"
      ]
     },
     "metadata": {},
     "output_type": "display_data"
    },
    {
     "data": {
      "application/vnd.holoviews_exec.v0+json": "",
      "text/html": [
       "<div id='p1006'>\n",
       "  <div id=\"bf7e75d9-be45-4356-afec-3b542156376b\" data-root-id=\"p1006\" style=\"display: contents;\"></div>\n",
       "</div>\n",
       "<script type=\"application/javascript\">(function(root) {\n",
       "  var docs_json = {\"d5c094ab-f500-4042-af08-bf37c8907f85\":{\"version\":\"3.3.4\",\"title\":\"Bokeh Application\",\"roots\":[{\"type\":\"object\",\"name\":\"panel.models.browser.BrowserInfo\",\"id\":\"p1006\"},{\"type\":\"object\",\"name\":\"panel.models.comm_manager.CommManager\",\"id\":\"p1007\",\"attributes\":{\"plot_id\":\"p1006\",\"comm_id\":\"9286d90100334e77a1874827af307000\",\"client_comm_id\":\"11121ce241714fe5953af2d961d15a42\"}}],\"defs\":[{\"type\":\"model\",\"name\":\"ReactiveHTML1\"},{\"type\":\"model\",\"name\":\"FlexBox1\",\"properties\":[{\"name\":\"align_content\",\"kind\":\"Any\",\"default\":\"flex-start\"},{\"name\":\"align_items\",\"kind\":\"Any\",\"default\":\"flex-start\"},{\"name\":\"flex_direction\",\"kind\":\"Any\",\"default\":\"row\"},{\"name\":\"flex_wrap\",\"kind\":\"Any\",\"default\":\"wrap\"},{\"name\":\"justify_content\",\"kind\":\"Any\",\"default\":\"flex-start\"}]},{\"type\":\"model\",\"name\":\"FloatPanel1\",\"properties\":[{\"name\":\"config\",\"kind\":\"Any\",\"default\":{\"type\":\"map\"}},{\"name\":\"contained\",\"kind\":\"Any\",\"default\":true},{\"name\":\"position\",\"kind\":\"Any\",\"default\":\"right-top\"},{\"name\":\"offsetx\",\"kind\":\"Any\",\"default\":null},{\"name\":\"offsety\",\"kind\":\"Any\",\"default\":null},{\"name\":\"theme\",\"kind\":\"Any\",\"default\":\"primary\"},{\"name\":\"status\",\"kind\":\"Any\",\"default\":\"normalized\"}]},{\"type\":\"model\",\"name\":\"GridStack1\",\"properties\":[{\"name\":\"mode\",\"kind\":\"Any\",\"default\":\"warn\"},{\"name\":\"ncols\",\"kind\":\"Any\",\"default\":null},{\"name\":\"nrows\",\"kind\":\"Any\",\"default\":null},{\"name\":\"allow_resize\",\"kind\":\"Any\",\"default\":true},{\"name\":\"allow_drag\",\"kind\":\"Any\",\"default\":true},{\"name\":\"state\",\"kind\":\"Any\",\"default\":[]}]},{\"type\":\"model\",\"name\":\"drag1\",\"properties\":[{\"name\":\"slider_width\",\"kind\":\"Any\",\"default\":5},{\"name\":\"slider_color\",\"kind\":\"Any\",\"default\":\"black\"},{\"name\":\"value\",\"kind\":\"Any\",\"default\":50}]},{\"type\":\"model\",\"name\":\"click1\",\"properties\":[{\"name\":\"terminal_output\",\"kind\":\"Any\",\"default\":\"\"},{\"name\":\"debug_name\",\"kind\":\"Any\",\"default\":\"\"},{\"name\":\"clears\",\"kind\":\"Any\",\"default\":0}]},{\"type\":\"model\",\"name\":\"copy_to_clipboard1\",\"properties\":[{\"name\":\"fill\",\"kind\":\"Any\",\"default\":\"none\"},{\"name\":\"value\",\"kind\":\"Any\",\"default\":null}]},{\"type\":\"model\",\"name\":\"FastWrapper1\",\"properties\":[{\"name\":\"object\",\"kind\":\"Any\",\"default\":null},{\"name\":\"style\",\"kind\":\"Any\",\"default\":null}]},{\"type\":\"model\",\"name\":\"NotificationAreaBase1\",\"properties\":[{\"name\":\"js_events\",\"kind\":\"Any\",\"default\":{\"type\":\"map\"}},{\"name\":\"position\",\"kind\":\"Any\",\"default\":\"bottom-right\"},{\"name\":\"_clear\",\"kind\":\"Any\",\"default\":0}]},{\"type\":\"model\",\"name\":\"NotificationArea1\",\"properties\":[{\"name\":\"js_events\",\"kind\":\"Any\",\"default\":{\"type\":\"map\"}},{\"name\":\"notifications\",\"kind\":\"Any\",\"default\":[]},{\"name\":\"position\",\"kind\":\"Any\",\"default\":\"bottom-right\"},{\"name\":\"_clear\",\"kind\":\"Any\",\"default\":0},{\"name\":\"types\",\"kind\":\"Any\",\"default\":[{\"type\":\"map\",\"entries\":[[\"type\",\"warning\"],[\"background\",\"#ffc107\"],[\"icon\",{\"type\":\"map\",\"entries\":[[\"className\",\"fas fa-exclamation-triangle\"],[\"tagName\",\"i\"],[\"color\",\"white\"]]}]]},{\"type\":\"map\",\"entries\":[[\"type\",\"info\"],[\"background\",\"#007bff\"],[\"icon\",{\"type\":\"map\",\"entries\":[[\"className\",\"fas fa-info-circle\"],[\"tagName\",\"i\"],[\"color\",\"white\"]]}]]}]}]},{\"type\":\"model\",\"name\":\"Notification\",\"properties\":[{\"name\":\"background\",\"kind\":\"Any\",\"default\":null},{\"name\":\"duration\",\"kind\":\"Any\",\"default\":3000},{\"name\":\"icon\",\"kind\":\"Any\",\"default\":null},{\"name\":\"message\",\"kind\":\"Any\",\"default\":\"\"},{\"name\":\"notification_type\",\"kind\":\"Any\",\"default\":null},{\"name\":\"_destroyed\",\"kind\":\"Any\",\"default\":false}]},{\"type\":\"model\",\"name\":\"TemplateActions1\",\"properties\":[{\"name\":\"open_modal\",\"kind\":\"Any\",\"default\":0},{\"name\":\"close_modal\",\"kind\":\"Any\",\"default\":0}]},{\"type\":\"model\",\"name\":\"BootstrapTemplateActions1\",\"properties\":[{\"name\":\"open_modal\",\"kind\":\"Any\",\"default\":0},{\"name\":\"close_modal\",\"kind\":\"Any\",\"default\":0}]},{\"type\":\"model\",\"name\":\"MaterialTemplateActions1\",\"properties\":[{\"name\":\"open_modal\",\"kind\":\"Any\",\"default\":0},{\"name\":\"close_modal\",\"kind\":\"Any\",\"default\":0}]}]}};\n",
       "  var render_items = [{\"docid\":\"d5c094ab-f500-4042-af08-bf37c8907f85\",\"roots\":{\"p1006\":\"bf7e75d9-be45-4356-afec-3b542156376b\"},\"root_ids\":[\"p1006\"]}];\n",
       "  var docs = Object.values(docs_json)\n",
       "  if (!docs) {\n",
       "    return\n",
       "  }\n",
       "  const py_version = docs[0].version.replace('rc', '-rc.').replace('.dev', '-dev.')\n",
       "  function embed_document(root) {\n",
       "    var Bokeh = get_bokeh(root)\n",
       "    Bokeh.embed.embed_items_notebook(docs_json, render_items);\n",
       "    for (const render_item of render_items) {\n",
       "      for (const root_id of render_item.root_ids) {\n",
       "\tconst id_el = document.getElementById(root_id)\n",
       "\tif (id_el.children.length && (id_el.children[0].className === 'bk-root')) {\n",
       "\t  const root_el = id_el.children[0]\n",
       "\t  root_el.id = root_el.id + '-rendered'\n",
       "\t}\n",
       "      }\n",
       "    }\n",
       "  }\n",
       "  function get_bokeh(root) {\n",
       "    if (root.Bokeh === undefined) {\n",
       "      return null\n",
       "    } else if (root.Bokeh.version !== py_version) {\n",
       "      if (root.Bokeh.versions === undefined || !root.Bokeh.versions.has(py_version)) {\n",
       "\treturn null\n",
       "      }\n",
       "      return root.Bokeh.versions.get(py_version);\n",
       "    } else if (root.Bokeh.version === py_version) {\n",
       "      return root.Bokeh\n",
       "    }\n",
       "    return null\n",
       "  }\n",
       "  function is_loaded(root) {\n",
       "    var Bokeh = get_bokeh(root)\n",
       "    return (Bokeh != null && Bokeh.Panel !== undefined)\n",
       "  }\n",
       "  if (is_loaded(root)) {\n",
       "    embed_document(root);\n",
       "  } else {\n",
       "    var attempts = 0;\n",
       "    var timer = setInterval(function(root) {\n",
       "      if (is_loaded(root)) {\n",
       "        clearInterval(timer);\n",
       "        embed_document(root);\n",
       "      } else if (document.readyState == \"complete\") {\n",
       "        attempts++;\n",
       "        if (attempts > 200) {\n",
       "          clearInterval(timer);\n",
       "\t  var Bokeh = get_bokeh(root)\n",
       "\t  if (Bokeh == null || Bokeh.Panel == null) {\n",
       "            console.warn(\"Panel: ERROR: Unable to run Panel code because Bokeh or Panel library is missing\");\n",
       "\t  } else {\n",
       "\t    console.warn(\"Panel: WARNING: Attempting to render but not all required libraries could be resolved.\")\n",
       "\t    embed_document(root)\n",
       "\t  }\n",
       "        }\n",
       "      }\n",
       "    }, 25, root)\n",
       "  }\n",
       "})(window);</script>"
      ]
     },
     "metadata": {
      "application/vnd.holoviews_exec.v0+json": {
       "id": "p1006"
      }
     },
     "output_type": "display_data"
    },
    {
     "data": {
      "text/html": [
       "\n",
       "<div class=\"logo-block\">\n",
       "<img src='data:image/png;base64,iVBORw0KGgoAAAANSUhEUgAAAEAAAABACAYAAACqaXHeAAAABHNCSVQICAgIfAhkiAAAAAlwSFlz\n",
       "AAAB+wAAAfsBxc2miwAAABl0RVh0U29mdHdhcmUAd3d3Lmlua3NjYXBlLm9yZ5vuPBoAAA6zSURB\n",
       "VHic7ZtpeFRVmsf/5966taWqUlUJ2UioBBJiIBAwCZtog9IOgjqACsogKtqirT2ttt069nQ/zDzt\n",
       "tI4+CrJIREFaFgWhBXpUNhHZQoKBkIUASchWla1S+3ar7r1nPkDaCAnZKoQP/D7mnPOe9/xy76n3\n",
       "nFSAW9ziFoPFNED2LLK5wcyBDObkb8ZkxuaoSYlI6ZcOKq1eWFdedqNzGHQBk9RMEwFAASkk0Xw3\n",
       "ETacDNi2vtvc7L0ROdw0AjoSotQVkKSvHQz/wRO1lScGModBFbDMaNRN1A4tUBCS3lk7BWhQkgpD\n",
       "lG4852/+7DWr1R3uHAZVQDsbh6ZPN7CyxUrCzJMRouusj0ipRwD2uKm0Zn5d2dFwzX1TCGhnmdGo\n",
       "G62Nna+isiUqhkzuKrkQaJlPEv5mFl2fvGg2t/VnzkEV8F5ioioOEWkLG86fvbpthynjdhXYZziQ\n",
       "x1hC9J2NFyi8vCTt91Fh04KGip0AaG9zuCk2wQCVyoNU3Hjezee9bq92duzzTmxsRJoy+jEZZZYo\n",
       "GTKJ6SJngdJqAfRzpze0+jHreUtPc7gpBLQnIYK6BYp/uGhw9YK688eu7v95ysgshcg9qSLMo3JC\n",
       "4jqLKQFBgdKDPoQ+Pltb8dUyQLpeDjeVgI6EgLIQFT5tEl3rn2losHVsexbZ3EyT9wE1uGdkIPcy\n",
       "BGxn8QUq1QrA5nqW5i2tLqvrrM9NK6AdkVIvL9E9bZL/oyfMVd/jqvc8LylzRBKDJSzIExwhQzuL\n",
       "QYGQj4rHfFTc8mUdu3E7yoLtbTe9gI4EqVgVkug2i5+uXGo919ixbRog+3fTbQ8qJe4ZOYNfMoTI\n",
       "OoshUNosgO60AisX15aeI2PSIp5KiFLI9ubb1vV3Qb2ltwLakUCDAkWX7/nHKRmmGIl9VgYsUhJm\n",
       "2NXjKYADtM1ygne9QQDIXlk49FBstMKx66D1v4+XuQr7vqTe0VcBHQlRWiOCbmmSYe2SqtL6q5rJ\n",
       "zsTb7lKx3FKOYC4DoqyS/B5bvLPxvD9Qtf6saxYLQGJErmDOdOMr/zo96km1nElr8bmPOBwI9COv\n",
       "HnFPRIwmkSOv9kcAS4heRsidOkpeWBgZM+UBrTFAXNYL5Vf2ii9c1trNzpYdaoVil3WIc+wdk+gQ\n",
       "noie3ecCcxt9ITcLAPWt/laGEO/9U6PmzZkenTtsSMQ8uYywJVW+grCstAvCIaAdArAsIWkRDDs/\n",
       "KzLm2YcjY1Lv0UdW73HabE9n6V66cxSzfEmuJssTpKGVp+0vHq73FwL46eOjpMpbRAnNmJFrGJNu\n",
       "Ukf9Yrz+3rghiumCKNXXWPhLYcjxGsIpoCMsIRoFITkW8AuyM8jC1+/QLx4bozCEJIq38+1rtpR6\n",
       "V/yzb8eBlRb3fo5l783N0CWolAzJHaVNzkrTzlEp2bQ2q3TC5gn6wpnoQAmwSiGh2GitnTmVMc5O\n",
       "UyfKWUKCIsU7+fZDKwqdT6DDpvkzAX4/+AMFjk0tDp5GRXLpQ2MUmhgDp5gxQT8+Y7hyPsMi8uxF\n",
       "71H0oebujHALECjFKaW9Lm68n18wXp2kVzIcABytD5iXFzg+WVXkegpAsOOYziqo0OkK76GyquC3\n",
       "ltZAzMhhqlSNmmWTE5T6e3IN05ITFLM4GdN0vtZ3ob8Jh1NAKXFbm5PtLU/eqTSlGjkNAJjdgn/N\n",
       "aedXa0tdi7+t9G0FIF49rtMSEgAs1kDLkTPO7ebm4IUWeyh1bKomXqlgMG6kJmHcSM0clYLJ8XtR\n",
       "1GTnbV3F6I5wCGikAb402npp1h1s7LQUZZSMIfALFOuL3UUrfnS8+rez7v9qcold5tilgHbO1fjK\n",
       "9ubb17u9oshxzMiUBKXWqJNxd+fqb0tLVs4lILFnK71H0Ind7uiPgACVcFJlrb0tV6DzxqqTIhUM\n",
       "CwDf1/rrVhTa33/3pGPxJYdQ2l2cbgVcQSosdx8uqnDtbGjh9SlDVSMNWhlnilfqZk42Th2ZpLpf\n",
       "xrHec5e815zrr0dfBZSwzkZfqsv+1FS1KUknUwPARVvItfKUY+cn57yP7qv07UE3p8B2uhUwLk09\n",
       "e0SCOrK+hbdYHYLjRIl71wWzv9jpEoeOHhGRrJAzyEyNiJuUqX0g2sBN5kGK6y2Blp5M3lsB9Qh4\n",
       "y2Ja6x6+i0ucmKgwMATwhSjdUu49tKrQ/pvN5d53ml2CGwCmJipmKjgmyuaXzNeL2a0AkQ01Th5j\n",
       "2DktO3Jyk8f9vcOBQHV94OK+fPumJmvQHxJoWkaKWq9Vs+yUsbq0zGT1I4RgeH2b5wef7+c7bl8F\n",
       "eKgoHVVZa8ZPEORzR6sT1BzDUAD/d9F78e2Tzv99v8D+fLVTqAKAsbGamKey1Mt9Ann4eH3gTXTz\n",
       "idWtAJ8PQWOk7NzSeQn/OTHDuEikVF1R4z8BQCy+6D1aWRfY0tTGG2OM8rRoPaeIj5ZHzJxszElN\n",
       "VM8K8JS5WOfv8mzRnQAKoEhmt8gyPM4lU9SmBK1MCQBnW4KONT86v1hZ1PbwSXPw4JWussVjtH9Y\n",
       "NCoiL9UoH/6PSu8jFrfY2t36erQHXLIEakMi1SydmzB31h3GGXFDFNPaK8Rme9B79Ixrd0WN+1ij\n",
       "NRQ/doRmuFLBkHSTOm5GruG+pFjFdAmorG4IXH1Qua6ASniclfFtDYt+oUjKipPrCQB7QBQ2lrgP\n",
       "fFzm+9XWUtcqJ3/5vDLDpJ79XHZk3u8nGZ42qlj1+ydtbxysCezrydp6ugmipNJ7WBPB5tydY0jP\n",
       "HaVNzs3QzeE4ZpTbI+ZbnSFPbVOw9vsfnVvqWnirPyCNGD08IlqtYkh2hjZ5dErEQzoNm+6ykyOt\n",
       "Lt5/PQEuSRRKo22VkydK+vvS1XEKlhCJAnsqvcVvH7f/ZU2R67eXbMEGAMiIV5oWZWiWvz5Fv2xG\n",
       "sjqNJQRvn3Rs2lji/lNP19VjAQDgD7FHhujZB9OGqYxRkZxixgRDVlqS6uEOFaJUVu0rPFzctrnF\n",
       "JqijImVp8dEKVWyUXDk92zAuMZ6bFwpBU1HrOw6AdhQgUooChb0+ItMbWJitSo5Ws3IAOGEOtL53\n",
       "0vHZih9sC4vtofZ7Qu6523V/fmGcds1TY3V36pUsBwAbSlxnVh2xLfAD/IAIMDf7XYIkNmXfpp2l\n",
       "18rkAJAy9HKFaIr/qULkeQQKy9zf1JgDB2uaeFNGijo5QsUyacNUUTOnGO42xSnv4oOwpDi1zYkc\n",
       "efUc3I5Gk6PhyTuVKaOGyLUAYPGIoY9Pu/atL/L92+4q9wbflRJ2Trpm/jPjdBtfnqB/dIThcl8A\n",
       "KG7hbRuKnb8qsQsVvVlTrwQAQMUlf3kwJI24Z4JhPMtcfng5GcH49GsrxJpGvvHIaeem2ma+KSjQ\n",
       "lIwUdYyCY8j4dE1KzijNnIP2llF2wcXNnsoapw9XxsgYAl6k+KzUXbi2yP3KR2ecf6z3BFsBICdW\n",
       "nvnIaG3eHybqX7vbpEqUMT+9OL4Qpe8VON7dXuFd39v19FoAABRVePbGGuXTszO0P7tu6lghUonE\n",
       "llRdrhArLvmKdh9u29jcFiRRkfLUxBiFNiqSU9icoZQHo5mYBI1MBgBH6wMNb+U7Pnw337H4gi1Y\n",
       "ciWs+uks3Z9fztUvfzxTm9Ne8XXkvQLHNytOOZeiD4e0PgkAIAYCYknKUNUDSXEKzdWNpnil7r4p\n",
       "xqkjTarZMtk/K8TQ6Qve78qqvXurGwIJqcOUKfUWHsm8KGvxSP68YudXq4pcj39X49uOK2X142O0\n",
       "Tz5/u/7TVybqH0rSya6ZBwD21/gubbrgWdDgEOx9WUhfBaC2ibcEBYm7a7x+ukrBMNcEZggyR0TE\n",
       "T8zUPjikQ4VosQZbTpS4vqizBKvqmvjsqnpfzaZyx9JPiz1/bfGKdgD45XB1zoIMzYbfTdS/NClB\n",
       "Gct0USiY3YL/g0LHy/uq/Ef6uo5+n0R/vyhp17Klpge763f8rMu6YU/zrn2nml+2WtH+Z+5IAAFc\n",
       "2bUTdTDOSNa9+cQY7YLsOIXhevEkCvzph7a8laecz/Un/z4/Ae04XeL3UQb57IwU9ZDr9UuKVajv\n",
       "nxp1+1UVIo/LjztZkKH59fO3G/JemqCfmaCRqbqbd90ZZ8FfjtkfAyD0J/9+C2h1hDwsSxvGjNDc\n",
       "b4zk5NfrSwiQblLHzZhg+Jf4aPlUwpDqkQqa9nimbt1/TDH8OitGMaQnj+RJS6B1fbF7SY1TqO5v\n",
       "/v0WAADl1f7zokgS7s7VT2DZ7pegUjBM7mjtiDZbcN4j0YrHH0rXpCtY0qPX0cVL0rv5jv/ZXend\n",
       "0u/EESYBAFBU4T4Qa5TflZOhTe7pmKpaP8kCVUVw1+yhXfJWvn1P3hnXi33JsTN6PnP3hHZ8Z3/h\n",
       "aLHzmkNPuPj7Bc/F/Q38CwjTpSwQXgE4Vmwry9tpfq/ZFgqFMy4AVDtCvi8rvMvOmv0N4YwbVgEA\n",
       "sPM72/KVnzfspmH7HQGCRLG2yL1+z8XwvPcdCbsAANh+xPzstgMtxeGKt+6MK3/tacfvwhWvIwMi\n",
       "oKEBtm0H7W+UVfkc/Y1V0BhoPlDr/w1w/eu1vjIgAgDg22OtX6/eYfnEz/focrZTHAFR+PSs56/7\n",
       "q32nwpjazxgwAQCwcU/T62t3WL7r6/jVRa6/byp1rei+Z98ZUAEAhEPHPc8fKnTU9nbgtnOe8h0l\n",
       "9hcGIqmODLQAHCy2Xti6v/XNRivf43f4fFvIteu854+VHnR7q9tfBlwAAGz+pnndB9vM26UebAe8\n",
       "SLHujPOTPVW+rwY+sxskAAC2HrA8t2Vvc7ffP1r9o+vwR2dcr92InIAbKKC1FZ5tB1tf+/G8p8sv\n",
       "N/9Q5zd/XR34LYCwV5JdccMEAMDBk45DH243r/X4xGvqxFa/GNpS7n6rwOwNWwHVE26oAADYurf1\n",
       "zx/utOzt+DMKYM0p17YtZZ5VNzqfsB2HewG1WXE8PoZ7gOclbTIvynZf9JV+fqZtfgs/8F/Nu5rB\n",
       "EIBmJ+8QRMmpU7EzGRsf2FzuePqYRbzh/zE26EwdrT10f6r6o8HOYzCJB9Dpff8tbnGLG8L/A/WE\n",
       "roTBs2RqAAAAAElFTkSuQmCC'\n",
       "     style='height:25px; border-radius:12px; display: inline-block; float: left; vertical-align: middle'></img>\n",
       "\n",
       "\n",
       "  <img src='data:image/png;base64,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'\n",
       "       style='height:15px; border-radius:12px; display: inline-block; float: left'></img>\n",
       "  \n",
       "\n",
       "\n",
       "\n",
       "\n",
       "</div>\n"
      ]
     },
     "metadata": {},
     "output_type": "display_data"
    }
   ],
   "source": [
    "import Ballpushing_utils\n",
    "import Utils\n",
    "#from Ballpushing_utils import *\n",
    "#from Utils import *\n",
    "import pickle\n",
    "from pathlib import Path\n",
    "import importlib\n",
    "\n",
    "from icecream import ic\n",
    "\n",
    "import holoviews as hv\n",
    "hv.extension('bokeh')"
   ]
  },
  {
   "cell_type": "code",
   "execution_count": 114,
   "metadata": {},
   "outputs": [
    {
     "data": {
      "text/plain": [
       "<module 'Ballpushing_utils' from '/home/durrieu/Tracking_Analysis/Utilities/Ballpushing_utils.py'>"
      ]
     },
     "execution_count": 114,
     "metadata": {},
     "output_type": "execute_result"
    }
   ],
   "source": [
    "importlib.reload(Ballpushing_utils)"
   ]
  },
  {
   "cell_type": "code",
   "execution_count": 115,
   "metadata": {},
   "outputs": [
    {
     "name": "stdout",
     "output_type": "stream",
     "text": [
      "Warning: fps.npy file not found in /mnt/labserver/DURRIEU_Matthias/Experimental_data/MultiMazeRecorder/Videos/230721_Feedingstate_4_PM_Videos_Tracked; Defaulting to 30 fps.\n"
     ]
    }
   ],
   "source": [
    "TestFly = Ballpushing_utils.Fly(\n",
    "    Path(\n",
    "        \"/mnt/labserver/DURRIEU_Matthias/Experimental_data/MultiMazeRecorder/Videos/230721_Feedingstate_4_PM_Videos_Tracked/arena5/corridor3/\"\n",
    "    )\n",
    ")"
   ]
  },
  {
   "cell_type": "code",
   "execution_count": 98,
   "metadata": {},
   "outputs": [
    {
     "data": {
      "text/html": [
       "<div>\n",
       "<style scoped>\n",
       "    .dataframe tbody tr th:only-of-type {\n",
       "        vertical-align: middle;\n",
       "    }\n",
       "\n",
       "    .dataframe tbody tr th {\n",
       "        vertical-align: top;\n",
       "    }\n",
       "\n",
       "    .dataframe thead th {\n",
       "        text-align: right;\n",
       "    }\n",
       "</style>\n",
       "<table border=\"1\" class=\"dataframe\">\n",
       "  <thead>\n",
       "    <tr style=\"text-align: right;\">\n",
       "      <th></th>\n",
       "      <th>yball</th>\n",
       "      <th>xball</th>\n",
       "      <th>yfly</th>\n",
       "      <th>xfly</th>\n",
       "      <th>Frame</th>\n",
       "      <th>time</th>\n",
       "      <th>yball_smooth</th>\n",
       "      <th>xball_smooth</th>\n",
       "      <th>yfly_smooth</th>\n",
       "      <th>xfly_smooth</th>\n",
       "      <th>yfly_relative</th>\n",
       "      <th>yball_relative</th>\n",
       "    </tr>\n",
       "  </thead>\n",
       "  <tbody>\n",
       "    <tr>\n",
       "      <th>0</th>\n",
       "      <td>312.864868</td>\n",
       "      <td>45.656651</td>\n",
       "      <td>461.939789</td>\n",
       "      <td>59.549694</td>\n",
       "      <td>1</td>\n",
       "      <td>0.033333</td>\n",
       "      <td>313.494617</td>\n",
       "      <td>45.107798</td>\n",
       "      <td>465.967944</td>\n",
       "      <td>47.776771</td>\n",
       "      <td>77.967944</td>\n",
       "      <td>74.505383</td>\n",
       "    </tr>\n",
       "    <tr>\n",
       "      <th>1</th>\n",
       "      <td>312.902557</td>\n",
       "      <td>45.720497</td>\n",
       "      <td>462.152802</td>\n",
       "      <td>57.368362</td>\n",
       "      <td>2</td>\n",
       "      <td>0.066667</td>\n",
       "      <td>313.493949</td>\n",
       "      <td>45.108653</td>\n",
       "      <td>466.024429</td>\n",
       "      <td>47.816004</td>\n",
       "      <td>78.024429</td>\n",
       "      <td>74.506051</td>\n",
       "    </tr>\n",
       "    <tr>\n",
       "      <th>2</th>\n",
       "      <td>312.834259</td>\n",
       "      <td>45.741127</td>\n",
       "      <td>459.754120</td>\n",
       "      <td>57.410927</td>\n",
       "      <td>3</td>\n",
       "      <td>0.100000</td>\n",
       "      <td>313.493281</td>\n",
       "      <td>45.109509</td>\n",
       "      <td>466.080914</td>\n",
       "      <td>47.855236</td>\n",
       "      <td>78.080914</td>\n",
       "      <td>74.506719</td>\n",
       "    </tr>\n",
       "    <tr>\n",
       "      <th>3</th>\n",
       "      <td>312.923767</td>\n",
       "      <td>45.717098</td>\n",
       "      <td>459.604584</td>\n",
       "      <td>57.376987</td>\n",
       "      <td>4</td>\n",
       "      <td>0.133333</td>\n",
       "      <td>313.492613</td>\n",
       "      <td>45.110364</td>\n",
       "      <td>466.137399</td>\n",
       "      <td>47.894468</td>\n",
       "      <td>78.137399</td>\n",
       "      <td>74.507387</td>\n",
       "    </tr>\n",
       "    <tr>\n",
       "      <th>4</th>\n",
       "      <td>312.914856</td>\n",
       "      <td>45.724888</td>\n",
       "      <td>459.899689</td>\n",
       "      <td>55.217625</td>\n",
       "      <td>5</td>\n",
       "      <td>0.166667</td>\n",
       "      <td>313.491945</td>\n",
       "      <td>45.111219</td>\n",
       "      <td>466.193885</td>\n",
       "      <td>47.933701</td>\n",
       "      <td>78.193885</td>\n",
       "      <td>74.508055</td>\n",
       "    </tr>\n",
       "    <tr>\n",
       "      <th>...</th>\n",
       "      <td>...</td>\n",
       "      <td>...</td>\n",
       "      <td>...</td>\n",
       "      <td>...</td>\n",
       "      <td>...</td>\n",
       "      <td>...</td>\n",
       "      <td>...</td>\n",
       "      <td>...</td>\n",
       "      <td>...</td>\n",
       "      <td>...</td>\n",
       "      <td>...</td>\n",
       "      <td>...</td>\n",
       "    </tr>\n",
       "    <tr>\n",
       "      <th>215995</th>\n",
       "      <td>184.099503</td>\n",
       "      <td>47.993214</td>\n",
       "      <td>252.713669</td>\n",
       "      <td>39.179916</td>\n",
       "      <td>215996</td>\n",
       "      <td>7199.866667</td>\n",
       "      <td>184.070033</td>\n",
       "      <td>47.897090</td>\n",
       "      <td>196.383883</td>\n",
       "      <td>37.768257</td>\n",
       "      <td>191.616117</td>\n",
       "      <td>203.929967</td>\n",
       "    </tr>\n",
       "    <tr>\n",
       "      <th>215996</th>\n",
       "      <td>184.091660</td>\n",
       "      <td>47.932541</td>\n",
       "      <td>250.331818</td>\n",
       "      <td>47.887543</td>\n",
       "      <td>215997</td>\n",
       "      <td>7199.900000</td>\n",
       "      <td>184.069703</td>\n",
       "      <td>47.897614</td>\n",
       "      <td>194.952059</td>\n",
       "      <td>37.691029</td>\n",
       "      <td>193.047941</td>\n",
       "      <td>203.930297</td>\n",
       "    </tr>\n",
       "    <tr>\n",
       "      <th>215997</th>\n",
       "      <td>184.102997</td>\n",
       "      <td>47.964516</td>\n",
       "      <td>250.341736</td>\n",
       "      <td>45.841553</td>\n",
       "      <td>215998</td>\n",
       "      <td>7199.933333</td>\n",
       "      <td>184.069373</td>\n",
       "      <td>47.898137</td>\n",
       "      <td>193.520236</td>\n",
       "      <td>37.613802</td>\n",
       "      <td>194.479764</td>\n",
       "      <td>203.930627</td>\n",
       "    </tr>\n",
       "    <tr>\n",
       "      <th>215998</th>\n",
       "      <td>184.148651</td>\n",
       "      <td>47.956646</td>\n",
       "      <td>248.473709</td>\n",
       "      <td>43.640476</td>\n",
       "      <td>215999</td>\n",
       "      <td>7199.966667</td>\n",
       "      <td>184.069043</td>\n",
       "      <td>47.898661</td>\n",
       "      <td>192.088413</td>\n",
       "      <td>37.536574</td>\n",
       "      <td>195.911587</td>\n",
       "      <td>203.930957</td>\n",
       "    </tr>\n",
       "    <tr>\n",
       "      <th>215999</th>\n",
       "      <td>184.077240</td>\n",
       "      <td>48.013378</td>\n",
       "      <td>250.483047</td>\n",
       "      <td>43.558868</td>\n",
       "      <td>216000</td>\n",
       "      <td>7200.000000</td>\n",
       "      <td>184.068713</td>\n",
       "      <td>47.899184</td>\n",
       "      <td>190.656589</td>\n",
       "      <td>37.459347</td>\n",
       "      <td>197.343411</td>\n",
       "      <td>203.931287</td>\n",
       "    </tr>\n",
       "  </tbody>\n",
       "</table>\n",
       "<p>216000 rows × 12 columns</p>\n",
       "</div>"
      ],
      "text/plain": [
       "             yball      xball        yfly       xfly   Frame         time  \\\n",
       "0       312.864868  45.656651  461.939789  59.549694       1     0.033333   \n",
       "1       312.902557  45.720497  462.152802  57.368362       2     0.066667   \n",
       "2       312.834259  45.741127  459.754120  57.410927       3     0.100000   \n",
       "3       312.923767  45.717098  459.604584  57.376987       4     0.133333   \n",
       "4       312.914856  45.724888  459.899689  55.217625       5     0.166667   \n",
       "...            ...        ...         ...        ...     ...          ...   \n",
       "215995  184.099503  47.993214  252.713669  39.179916  215996  7199.866667   \n",
       "215996  184.091660  47.932541  250.331818  47.887543  215997  7199.900000   \n",
       "215997  184.102997  47.964516  250.341736  45.841553  215998  7199.933333   \n",
       "215998  184.148651  47.956646  248.473709  43.640476  215999  7199.966667   \n",
       "215999  184.077240  48.013378  250.483047  43.558868  216000  7200.000000   \n",
       "\n",
       "        yball_smooth  xball_smooth  yfly_smooth  xfly_smooth  yfly_relative  \\\n",
       "0         313.494617     45.107798   465.967944    47.776771      77.967944   \n",
       "1         313.493949     45.108653   466.024429    47.816004      78.024429   \n",
       "2         313.493281     45.109509   466.080914    47.855236      78.080914   \n",
       "3         313.492613     45.110364   466.137399    47.894468      78.137399   \n",
       "4         313.491945     45.111219   466.193885    47.933701      78.193885   \n",
       "...              ...           ...          ...          ...            ...   \n",
       "215995    184.070033     47.897090   196.383883    37.768257     191.616117   \n",
       "215996    184.069703     47.897614   194.952059    37.691029     193.047941   \n",
       "215997    184.069373     47.898137   193.520236    37.613802     194.479764   \n",
       "215998    184.069043     47.898661   192.088413    37.536574     195.911587   \n",
       "215999    184.068713     47.899184   190.656589    37.459347     197.343411   \n",
       "\n",
       "        yball_relative  \n",
       "0            74.505383  \n",
       "1            74.506051  \n",
       "2            74.506719  \n",
       "3            74.507387  \n",
       "4            74.508055  \n",
       "...                ...  \n",
       "215995      203.929967  \n",
       "215996      203.930297  \n",
       "215997      203.930627  \n",
       "215998      203.930957  \n",
       "215999      203.931287  \n",
       "\n",
       "[216000 rows x 12 columns]"
      ]
     },
     "execution_count": 98,
     "metadata": {},
     "output_type": "execute_result"
    }
   ],
   "source": [
    "TestFly.flyball_positions"
   ]
  },
  {
   "cell_type": "code",
   "execution_count": 7,
   "metadata": {},
   "outputs": [
    {
     "data": {
      "text/plain": [
       "7200.0"
      ]
     },
     "execution_count": 7,
     "metadata": {},
     "output_type": "execute_result"
    }
   ],
   "source": [
    "len(TestFly.flyball_positions)/30"
   ]
  },
  {
   "cell_type": "code",
   "execution_count": null,
   "metadata": {},
   "outputs": [],
   "source": [
    "TestFly"
   ]
  },
  {
   "cell_type": "code",
   "execution_count": null,
   "metadata": {},
   "outputs": [],
   "source": [
    "print(TestFly)"
   ]
  },
  {
   "cell_type": "code",
   "execution_count": null,
   "metadata": {},
   "outputs": [],
   "source": [
    "TestFly.display_metadata()"
   ]
  },
  {
   "cell_type": "code",
   "execution_count": null,
   "metadata": {},
   "outputs": [],
   "source": [
    "TestFly.arena_metadata()"
   ]
  },
  {
   "cell_type": "code",
   "execution_count": null,
   "metadata": {},
   "outputs": [],
   "source": [
    "help(Fly.find_interaction_events)"
   ]
  },
  {
   "cell_type": "code",
   "execution_count": null,
   "metadata": {},
   "outputs": [],
   "source": [
    "TestFly.directory"
   ]
  },
  {
   "cell_type": "code",
   "execution_count": null,
   "metadata": {},
   "outputs": [],
   "source": [
    "TestFly.name"
   ]
  },
  {
   "cell_type": "code",
   "execution_count": null,
   "metadata": {},
   "outputs": [],
   "source": [
    "TestFly.arena_metadata"
   ]
  },
  {
   "cell_type": "code",
   "execution_count": null,
   "metadata": {},
   "outputs": [],
   "source": [
    "TestFly.directory"
   ]
  },
  {
   "cell_type": "code",
   "execution_count": null,
   "metadata": {},
   "outputs": [],
   "source": [
    "TestFly.video"
   ]
  },
  {
   "cell_type": "code",
   "execution_count": null,
   "metadata": {},
   "outputs": [],
   "source": [
    "TestFly_Interactions = TestFly.find_interaction_events()"
   ]
  },
  {
   "cell_type": "code",
   "execution_count": null,
   "metadata": {},
   "outputs": [],
   "source": [
    "TestFly_Interactions"
   ]
  },
  {
   "cell_type": "code",
   "execution_count": null,
   "metadata": {},
   "outputs": [],
   "source": [
    "TestFly_Interactions_old = TestFly.find_interaction_events(gap_between_events=1, event_min_length=60, thresh=[0,80])"
   ]
  },
  {
   "cell_type": "code",
   "execution_count": null,
   "metadata": {},
   "outputs": [],
   "source": [
    "len(TestFly_Interactions)"
   ]
  },
  {
   "cell_type": "code",
   "execution_count": null,
   "metadata": {},
   "outputs": [],
   "source": [
    "len(TestFly_Interactions_old)"
   ]
  },
  {
   "cell_type": "code",
   "execution_count": null,
   "metadata": {},
   "outputs": [],
   "source": [
    "TestExp = Experiment(Path(\"/mnt/labserver/DURRIEU_Matthias/Experimental_data/MultiMazeRecorder/Videos/230721_Feedingstate_4_PM_Videos_Tracked/\"))"
   ]
  },
  {
   "cell_type": "code",
   "execution_count": null,
   "metadata": {},
   "outputs": [],
   "source": [
    "TestExp"
   ]
  },
  {
   "cell_type": "code",
   "execution_count": null,
   "metadata": {},
   "outputs": [],
   "source": [
    "print(TestExp)"
   ]
  },
  {
   "cell_type": "code",
   "execution_count": null,
   "metadata": {},
   "outputs": [],
   "source": [
    "TestExp.flies"
   ]
  },
  {
   "cell_type": "code",
   "execution_count": null,
   "metadata": {},
   "outputs": [],
   "source": [
    "Fly1 = TestExp.flies[0]"
   ]
  },
  {
   "cell_type": "code",
   "execution_count": null,
   "metadata": {},
   "outputs": [],
   "source": [
    "Fly1.name"
   ]
  },
  {
   "cell_type": "code",
   "execution_count": null,
   "metadata": {},
   "outputs": [],
   "source": []
  },
  {
   "cell_type": "markdown",
   "metadata": {},
   "source": [
    "# Testing the video preview"
   ]
  },
  {
   "cell_type": "code",
   "execution_count": null,
   "metadata": {},
   "outputs": [],
   "source": [
    "TestFly.video"
   ]
  },
  {
   "cell_type": "code",
   "execution_count": null,
   "metadata": {},
   "outputs": [],
   "source": [
    "# Only use with save=Flase if you're working on your machine and not using ssh\n",
    "\n",
    "TestFly.generate_preview(save=True, preview= True, tracks=True)"
   ]
  },
  {
   "cell_type": "code",
   "execution_count": null,
   "metadata": {},
   "outputs": [],
   "source": [
    "print(TestFly.experiment.fps)"
   ]
  },
  {
   "cell_type": "code",
   "execution_count": null,
   "metadata": {},
   "outputs": [],
   "source": [
    "import moviepy\n",
    "help(moviepy.editor.VideoFileClip.fx)"
   ]
  },
  {
   "cell_type": "code",
   "execution_count": null,
   "metadata": {},
   "outputs": [],
   "source": [
    "NewTest = Fly(get_labserver() / \"Experimental_data/MultiMazeRecorder/Videos\" / \"231121_TNT_Fine_1_Videos_Tracked/arena1/corridor1/\")"
   ]
  },
  {
   "cell_type": "code",
   "execution_count": null,
   "metadata": {},
   "outputs": [],
   "source": [
    "NewTest.display_metadata()"
   ]
  },
  {
   "cell_type": "code",
   "execution_count": null,
   "metadata": {},
   "outputs": [],
   "source": [
    "NewTest.generate_preview(save=True)"
   ]
  },
  {
   "cell_type": "markdown",
   "metadata": {},
   "source": [
    "# Generate interaction events video"
   ]
  },
  {
   "cell_type": "code",
   "execution_count": 116,
   "metadata": {},
   "outputs": [
    {
     "name": "stdout",
     "output_type": "stream",
     "text": [
      "Finished processing 230721_Feedingstate_4_PM_Videos_Tracked_arena5_corridor3_PR!\n"
     ]
    }
   ],
   "source": [
    "TestFly.generate_interactions_video(\n",
    "    tracks=True,\n",
    ")"
   ]
  },
  {
   "cell_type": "markdown",
   "metadata": {},
   "source": [
    "# Datasets"
   ]
  },
  {
   "cell_type": "markdown",
   "metadata": {},
   "source": [
    "## Dataset with a list of experiments:"
   ]
  },
  {
   "cell_type": "code",
   "execution_count": null,
   "metadata": {},
   "outputs": [],
   "source": [
    "brain_regions_path"
   ]
  },
  {
   "cell_type": "code",
   "execution_count": null,
   "metadata": {},
   "outputs": [],
   "source": [
    "pd.read_csv(brain_regions_path)\n"
   ]
  },
  {
   "cell_type": "code",
   "execution_count": null,
   "metadata": {},
   "outputs": [],
   "source": [
    "pd.read_csv(\"/mnt/labserver/DURRIEU_Matthias/Experimental_data/Region_map_231215.csv\")"
   ]
  },
  {
   "cell_type": "code",
   "execution_count": null,
   "metadata": {},
   "outputs": [],
   "source": [
    "Exps = [Experiment(Path(\"/mnt/labserver/DURRIEU_Matthias/Experimental_data/MultiMazeRecorder/Videos/230721_Feedingstate_4_PM_Videos_Tracked/\")),\n",
    "        Experiment(Path(\"/mnt/labserver/DURRIEU_Matthias/Experimental_data/MultiMazeRecorder/Videos/231121_TNT_Fine_1_Videos_Tracked/\"))]"
   ]
  },
  {
   "cell_type": "code",
   "execution_count": null,
   "metadata": {},
   "outputs": [],
   "source": [
    "Exps[1].load_metadata()"
   ]
  },
  {
   "cell_type": "code",
   "execution_count": null,
   "metadata": {},
   "outputs": [],
   "source": [
    "filtered = filter_experiments(Exps, Genotype=\"TNTxG78\")\n",
    "\n",
    "len(filtered)"
   ]
  },
  {
   "cell_type": "code",
   "execution_count": null,
   "metadata": {},
   "outputs": [],
   "source": [
    "Data = Ballpushing_utils.Dataset(Exps)"
   ]
  },
  {
   "cell_type": "code",
   "execution_count": null,
   "metadata": {},
   "outputs": [],
   "source": [
    "Data"
   ]
  },
  {
   "cell_type": "code",
   "execution_count": null,
   "metadata": {},
   "outputs": [],
   "source": [
    "print(Data)"
   ]
  },
  {
   "cell_type": "code",
   "execution_count": null,
   "metadata": {},
   "outputs": [],
   "source": [
    "Data.data"
   ]
  },
  {
   "cell_type": "code",
   "execution_count": null,
   "metadata": {},
   "outputs": [],
   "source": [
    "Data.data[\"event\"]"
   ]
  },
  {
   "cell_type": "code",
   "execution_count": null,
   "metadata": {},
   "outputs": [],
   "source": [
    "Data.flies"
   ]
  },
  {
   "cell_type": "code",
   "execution_count": null,
   "metadata": {},
   "outputs": [],
   "source": [
    "importlib.reload(Ballpushing_utils)"
   ]
  },
  {
   "cell_type": "code",
   "execution_count": null,
   "metadata": {},
   "outputs": [],
   "source": [
    "Data.plot_events(show=True, save=True)"
   ]
  },
  {
   "cell_type": "markdown",
   "metadata": {},
   "source": [
    "## Dataset with a list of flies"
   ]
  },
  {
   "cell_type": "code",
   "execution_count": null,
   "metadata": {},
   "outputs": [],
   "source": [
    "FlyList = [Fly(Path(\"/mnt/labserver/DURRIEU_Matthias/Experimental_data/MultiMazeRecorder/Videos/230721_Feedingstate_4_PM_Videos_Tracked/arena5/corridor3/\")),\n",
    "           Fly(Path(\"/mnt/labserver/DURRIEU_Matthias/Experimental_data/MultiMazeRecorder/Videos/231121_TNT_Fine_1_Videos_Tracked/arena1/corridor1/\"))]"
   ]
  },
  {
   "cell_type": "code",
   "execution_count": null,
   "metadata": {},
   "outputs": [],
   "source": [
    "FlyList"
   ]
  },
  {
   "cell_type": "code",
   "execution_count": null,
   "metadata": {},
   "outputs": [],
   "source": [
    "Data = Dataset(FlyList)"
   ]
  },
  {
   "cell_type": "code",
   "execution_count": null,
   "metadata": {},
   "outputs": [],
   "source": [
    "print(Data)"
   ]
  },
  {
   "cell_type": "code",
   "execution_count": null,
   "metadata": {},
   "outputs": [],
   "source": [
    "Data.data"
   ]
  },
  {
   "cell_type": "code",
   "execution_count": null,
   "metadata": {},
   "outputs": [],
   "source": [
    "# Check the unique values of the column fly and experiment\n",
    "Data.data.fly.unique()\n",
    "\n",
    "Data.data.experiment.unique()"
   ]
  },
  {
   "cell_type": "code",
   "execution_count": null,
   "metadata": {},
   "outputs": [],
   "source": [
    "Dpath = get_data_path()"
   ]
  },
  {
   "cell_type": "code",
   "execution_count": null,
   "metadata": {},
   "outputs": [],
   "source": [
    "Dpath = get_data_path()\n",
    "\n",
    "# Get all folders that have TNT and Fine in their name\n",
    "\n",
    "Folders = [f for f in Dpath.iterdir() if \"TNT\" in f.name and \"Fine\" in f.name]\n",
    "\n",
    "Folders\n",
    "\n",
    "# Make them into Experiments\n",
    "\n",
    "Exps = [Experiment(f) for f in Folders]"
   ]
  },
  {
   "cell_type": "code",
   "execution_count": null,
   "metadata": {},
   "outputs": [],
   "source": [
    "Data = Dataset(Exps)\n",
    "\n",
    "print(Data)"
   ]
  },
  {
   "cell_type": "code",
   "execution_count": null,
   "metadata": {},
   "outputs": [],
   "source": [
    "Data.flies"
   ]
  },
  {
   "cell_type": "code",
   "execution_count": null,
   "metadata": {},
   "outputs": [],
   "source": [
    "Data.experiments"
   ]
  },
  {
   "cell_type": "code",
   "execution_count": 20,
   "metadata": {},
   "outputs": [],
   "source": [
    "TestFly.annotate_events()"
   ]
  },
  {
   "cell_type": "code",
   "execution_count": 21,
   "metadata": {},
   "outputs": [
    {
     "data": {
      "text/html": [
       "<div>\n",
       "<style scoped>\n",
       "    .dataframe tbody tr th:only-of-type {\n",
       "        vertical-align: middle;\n",
       "    }\n",
       "\n",
       "    .dataframe tbody tr th {\n",
       "        vertical-align: top;\n",
       "    }\n",
       "\n",
       "    .dataframe thead th {\n",
       "        text-align: right;\n",
       "    }\n",
       "</style>\n",
       "<table border=\"1\" class=\"dataframe\">\n",
       "  <thead>\n",
       "    <tr style=\"text-align: right;\">\n",
       "      <th></th>\n",
       "      <th>yball</th>\n",
       "      <th>xball</th>\n",
       "      <th>yfly</th>\n",
       "      <th>xfly</th>\n",
       "      <th>Frame</th>\n",
       "      <th>time</th>\n",
       "      <th>yball_smooth</th>\n",
       "      <th>xball_smooth</th>\n",
       "      <th>yfly_smooth</th>\n",
       "      <th>xfly_smooth</th>\n",
       "      <th>yfly_relative</th>\n",
       "      <th>yball_relative</th>\n",
       "      <th>event</th>\n",
       "    </tr>\n",
       "  </thead>\n",
       "  <tbody>\n",
       "    <tr>\n",
       "      <th>0</th>\n",
       "      <td>312.864868</td>\n",
       "      <td>45.656651</td>\n",
       "      <td>461.939789</td>\n",
       "      <td>59.549694</td>\n",
       "      <td>1</td>\n",
       "      <td>0.033333</td>\n",
       "      <td>313.494617</td>\n",
       "      <td>45.107798</td>\n",
       "      <td>465.967944</td>\n",
       "      <td>47.776771</td>\n",
       "      <td>77.967944</td>\n",
       "      <td>74.505383</td>\n",
       "      <td>None</td>\n",
       "    </tr>\n",
       "    <tr>\n",
       "      <th>1</th>\n",
       "      <td>312.902557</td>\n",
       "      <td>45.720497</td>\n",
       "      <td>462.152802</td>\n",
       "      <td>57.368362</td>\n",
       "      <td>2</td>\n",
       "      <td>0.066667</td>\n",
       "      <td>313.493949</td>\n",
       "      <td>45.108653</td>\n",
       "      <td>466.024429</td>\n",
       "      <td>47.816004</td>\n",
       "      <td>78.024429</td>\n",
       "      <td>74.506051</td>\n",
       "      <td>None</td>\n",
       "    </tr>\n",
       "    <tr>\n",
       "      <th>2</th>\n",
       "      <td>312.834259</td>\n",
       "      <td>45.741127</td>\n",
       "      <td>459.754120</td>\n",
       "      <td>57.410927</td>\n",
       "      <td>3</td>\n",
       "      <td>0.100000</td>\n",
       "      <td>313.493281</td>\n",
       "      <td>45.109509</td>\n",
       "      <td>466.080914</td>\n",
       "      <td>47.855236</td>\n",
       "      <td>78.080914</td>\n",
       "      <td>74.506719</td>\n",
       "      <td>None</td>\n",
       "    </tr>\n",
       "    <tr>\n",
       "      <th>3</th>\n",
       "      <td>312.923767</td>\n",
       "      <td>45.717098</td>\n",
       "      <td>459.604584</td>\n",
       "      <td>57.376987</td>\n",
       "      <td>4</td>\n",
       "      <td>0.133333</td>\n",
       "      <td>313.492613</td>\n",
       "      <td>45.110364</td>\n",
       "      <td>466.137399</td>\n",
       "      <td>47.894468</td>\n",
       "      <td>78.137399</td>\n",
       "      <td>74.507387</td>\n",
       "      <td>None</td>\n",
       "    </tr>\n",
       "    <tr>\n",
       "      <th>4</th>\n",
       "      <td>312.914856</td>\n",
       "      <td>45.724888</td>\n",
       "      <td>459.899689</td>\n",
       "      <td>55.217625</td>\n",
       "      <td>5</td>\n",
       "      <td>0.166667</td>\n",
       "      <td>313.491945</td>\n",
       "      <td>45.111219</td>\n",
       "      <td>466.193885</td>\n",
       "      <td>47.933701</td>\n",
       "      <td>78.193885</td>\n",
       "      <td>74.508055</td>\n",
       "      <td>None</td>\n",
       "    </tr>\n",
       "    <tr>\n",
       "      <th>...</th>\n",
       "      <td>...</td>\n",
       "      <td>...</td>\n",
       "      <td>...</td>\n",
       "      <td>...</td>\n",
       "      <td>...</td>\n",
       "      <td>...</td>\n",
       "      <td>...</td>\n",
       "      <td>...</td>\n",
       "      <td>...</td>\n",
       "      <td>...</td>\n",
       "      <td>...</td>\n",
       "      <td>...</td>\n",
       "      <td>...</td>\n",
       "    </tr>\n",
       "    <tr>\n",
       "      <th>215995</th>\n",
       "      <td>184.099503</td>\n",
       "      <td>47.993214</td>\n",
       "      <td>252.713669</td>\n",
       "      <td>39.179916</td>\n",
       "      <td>215996</td>\n",
       "      <td>7199.866667</td>\n",
       "      <td>184.070033</td>\n",
       "      <td>47.897090</td>\n",
       "      <td>196.383883</td>\n",
       "      <td>37.768257</td>\n",
       "      <td>191.616117</td>\n",
       "      <td>203.929967</td>\n",
       "      <td>None</td>\n",
       "    </tr>\n",
       "    <tr>\n",
       "      <th>215996</th>\n",
       "      <td>184.091660</td>\n",
       "      <td>47.932541</td>\n",
       "      <td>250.331818</td>\n",
       "      <td>47.887543</td>\n",
       "      <td>215997</td>\n",
       "      <td>7199.900000</td>\n",
       "      <td>184.069703</td>\n",
       "      <td>47.897614</td>\n",
       "      <td>194.952059</td>\n",
       "      <td>37.691029</td>\n",
       "      <td>193.047941</td>\n",
       "      <td>203.930297</td>\n",
       "      <td>None</td>\n",
       "    </tr>\n",
       "    <tr>\n",
       "      <th>215997</th>\n",
       "      <td>184.102997</td>\n",
       "      <td>47.964516</td>\n",
       "      <td>250.341736</td>\n",
       "      <td>45.841553</td>\n",
       "      <td>215998</td>\n",
       "      <td>7199.933333</td>\n",
       "      <td>184.069373</td>\n",
       "      <td>47.898137</td>\n",
       "      <td>193.520236</td>\n",
       "      <td>37.613802</td>\n",
       "      <td>194.479764</td>\n",
       "      <td>203.930627</td>\n",
       "      <td>None</td>\n",
       "    </tr>\n",
       "    <tr>\n",
       "      <th>215998</th>\n",
       "      <td>184.148651</td>\n",
       "      <td>47.956646</td>\n",
       "      <td>248.473709</td>\n",
       "      <td>43.640476</td>\n",
       "      <td>215999</td>\n",
       "      <td>7199.966667</td>\n",
       "      <td>184.069043</td>\n",
       "      <td>47.898661</td>\n",
       "      <td>192.088413</td>\n",
       "      <td>37.536574</td>\n",
       "      <td>195.911587</td>\n",
       "      <td>203.930957</td>\n",
       "      <td>None</td>\n",
       "    </tr>\n",
       "    <tr>\n",
       "      <th>215999</th>\n",
       "      <td>184.077240</td>\n",
       "      <td>48.013378</td>\n",
       "      <td>250.483047</td>\n",
       "      <td>43.558868</td>\n",
       "      <td>216000</td>\n",
       "      <td>7200.000000</td>\n",
       "      <td>184.068713</td>\n",
       "      <td>47.899184</td>\n",
       "      <td>190.656589</td>\n",
       "      <td>37.459347</td>\n",
       "      <td>197.343411</td>\n",
       "      <td>203.931287</td>\n",
       "      <td>None</td>\n",
       "    </tr>\n",
       "  </tbody>\n",
       "</table>\n",
       "<p>216000 rows × 13 columns</p>\n",
       "</div>"
      ],
      "text/plain": [
       "             yball      xball        yfly       xfly   Frame         time  \\\n",
       "0       312.864868  45.656651  461.939789  59.549694       1     0.033333   \n",
       "1       312.902557  45.720497  462.152802  57.368362       2     0.066667   \n",
       "2       312.834259  45.741127  459.754120  57.410927       3     0.100000   \n",
       "3       312.923767  45.717098  459.604584  57.376987       4     0.133333   \n",
       "4       312.914856  45.724888  459.899689  55.217625       5     0.166667   \n",
       "...            ...        ...         ...        ...     ...          ...   \n",
       "215995  184.099503  47.993214  252.713669  39.179916  215996  7199.866667   \n",
       "215996  184.091660  47.932541  250.331818  47.887543  215997  7199.900000   \n",
       "215997  184.102997  47.964516  250.341736  45.841553  215998  7199.933333   \n",
       "215998  184.148651  47.956646  248.473709  43.640476  215999  7199.966667   \n",
       "215999  184.077240  48.013378  250.483047  43.558868  216000  7200.000000   \n",
       "\n",
       "        yball_smooth  xball_smooth  yfly_smooth  xfly_smooth  yfly_relative  \\\n",
       "0         313.494617     45.107798   465.967944    47.776771      77.967944   \n",
       "1         313.493949     45.108653   466.024429    47.816004      78.024429   \n",
       "2         313.493281     45.109509   466.080914    47.855236      78.080914   \n",
       "3         313.492613     45.110364   466.137399    47.894468      78.137399   \n",
       "4         313.491945     45.111219   466.193885    47.933701      78.193885   \n",
       "...              ...           ...          ...          ...            ...   \n",
       "215995    184.070033     47.897090   196.383883    37.768257     191.616117   \n",
       "215996    184.069703     47.897614   194.952059    37.691029     193.047941   \n",
       "215997    184.069373     47.898137   193.520236    37.613802     194.479764   \n",
       "215998    184.069043     47.898661   192.088413    37.536574     195.911587   \n",
       "215999    184.068713     47.899184   190.656589    37.459347     197.343411   \n",
       "\n",
       "        yball_relative event  \n",
       "0            74.505383  None  \n",
       "1            74.506051  None  \n",
       "2            74.506719  None  \n",
       "3            74.507387  None  \n",
       "4            74.508055  None  \n",
       "...                ...   ...  \n",
       "215995      203.929967  None  \n",
       "215996      203.930297  None  \n",
       "215997      203.930627  None  \n",
       "215998      203.930957  None  \n",
       "215999      203.931287  None  \n",
       "\n",
       "[216000 rows x 13 columns]"
      ]
     },
     "execution_count": 21,
     "metadata": {},
     "output_type": "execute_result"
    }
   ],
   "source": [
    "TestFly.flyball_positions"
   ]
  },
  {
   "cell_type": "markdown",
   "metadata": {},
   "source": [
    "## Dataset with one experiment"
   ]
  },
  {
   "cell_type": "code",
   "execution_count": 92,
   "metadata": {},
   "outputs": [
    {
     "data": {
      "text/plain": [
       "<module 'Ballpushing_utils' from '/home/durrieu/Tracking_Analysis/Utilities/Ballpushing_utils.py'>"
      ]
     },
     "execution_count": 92,
     "metadata": {},
     "output_type": "execute_result"
    }
   ],
   "source": [
    "importlib.reload(Ballpushing_utils)"
   ]
  },
  {
   "cell_type": "code",
   "execution_count": 93,
   "metadata": {},
   "outputs": [
    {
     "name": "stderr",
     "output_type": "stream",
     "text": [
      "ic| f\"Warning: fps.npy file not found in {self.directory}; Defaulting to 30 fps.\": ('Warning: fps.npy file not found in '\n",
      "                                                                                    '/mnt/labserver/DURRIEU_Matthias/Experimental_data/MultiMazeRecorder/Videos/230721_Feedingstate_4_PM_Videos_Tracked; '\n",
      "                                                                                    'Defaulting to 30 fps.')\n"
     ]
    }
   ],
   "source": [
    "data = Ballpushing_utils.Dataset(Ballpushing_utils.Experiment(Path(\"/mnt/labserver/DURRIEU_Matthias/Experimental_data/MultiMazeRecorder/Videos/230721_Feedingstate_4_PM_Videos_Tracked/\")))"
   ]
  },
  {
   "cell_type": "code",
   "execution_count": 94,
   "metadata": {},
   "outputs": [],
   "source": [
    "TestSummary = data.generate_dataset(\"summary\", success_cutoff=True)"
   ]
  },
  {
   "cell_type": "code",
   "execution_count": 82,
   "metadata": {},
   "outputs": [
    {
     "data": {
      "text/plain": [
       "int"
      ]
     },
     "execution_count": 82,
     "metadata": {},
     "output_type": "execute_result"
    }
   ],
   "source": [
    "# Find the type of the values in the column \"AhaMomentIndex\"\n",
    "\n",
    "type(TestSummary[\"AhaMomentIndex\"][3])"
   ]
  },
  {
   "cell_type": "code",
   "execution_count": 62,
   "metadata": {},
   "outputs": [],
   "source": [
    "TestSummaryFull = data.generate_dataset(\"summary\", success_cutoff=False)"
   ]
  },
  {
   "cell_type": "code",
   "execution_count": null,
   "metadata": {},
   "outputs": [],
   "source": [
    "data.flies"
   ]
  },
  {
   "cell_type": "code",
   "execution_count": null,
   "metadata": {},
   "outputs": [],
   "source": [
    "data.experiments"
   ]
  },
  {
   "cell_type": "markdown",
   "metadata": {},
   "source": [
    "## Data with one fly"
   ]
  },
  {
   "cell_type": "code",
   "execution_count": null,
   "metadata": {},
   "outputs": [],
   "source": [
    "data = Dataset(Fly(Path(\"/mnt/labserver/DURRIEU_Matthias/Experimental_data/MultiMazeRecorder/Videos/230721_Feedingstate_4_PM_Videos_Tracked/arena5/corridor3/\")))"
   ]
  },
  {
   "cell_type": "code",
   "execution_count": null,
   "metadata": {},
   "outputs": [],
   "source": [
    "data"
   ]
  },
  {
   "cell_type": "code",
   "execution_count": null,
   "metadata": {},
   "outputs": [],
   "source": [
    "print(data)"
   ]
  },
  {
   "cell_type": "code",
   "execution_count": null,
   "metadata": {},
   "outputs": [],
   "source": [
    "data.flies"
   ]
  },
  {
   "cell_type": "code",
   "execution_count": null,
   "metadata": {},
   "outputs": [],
   "source": [
    "data.experiments"
   ]
  },
  {
   "cell_type": "code",
   "execution_count": null,
   "metadata": {},
   "outputs": [],
   "source": [
    "data = Dataset (int(2))"
   ]
  },
  {
   "cell_type": "markdown",
   "metadata": {},
   "source": [
    "# Testing get_folders method"
   ]
  },
  {
   "cell_type": "code",
   "execution_count": null,
   "metadata": {},
   "outputs": [],
   "source": [
    "Exps = get_folders (get_data_path(), [\"TNT\", \"Fine\"])\n",
    "\n",
    "Exps"
   ]
  },
  {
   "cell_type": "markdown",
   "metadata": {},
   "source": [
    "# Testing the filter_experiments"
   ]
  },
  {
   "cell_type": "code",
   "execution_count": null,
   "metadata": {},
   "outputs": [],
   "source": [
    "Filtered_flies = filter_experiments([Path(\"/mnt/labserver/DURRIEU_Matthias/Experimental_data/MultiMazeRecorder/Videos/231121_TNT_Fine_1_Videos_Tracked/\")], {\"Genotype\" : \"PR\"})"
   ]
  },
  {
   "cell_type": "code",
   "execution_count": null,
   "metadata": {},
   "outputs": [],
   "source": [
    "len(Filtered_flies)"
   ]
  },
  {
   "cell_type": "markdown",
   "metadata": {},
   "source": [
    "# Dataset and plotting"
   ]
  },
  {
   "cell_type": "code",
   "execution_count": null,
   "metadata": {},
   "outputs": [],
   "source": [
    "Folders = get_folders(get_data_path(), [\"TNT\", \"Fine\"])\n",
    "\n",
    "Exps = [Experiment(f) for f in Folders]"
   ]
  },
  {
   "cell_type": "code",
   "execution_count": null,
   "metadata": {},
   "outputs": [],
   "source": [
    "# Save the experiments in a pickle file\n",
    "with open (\"/mnt/labserver/DURRIEU_Matthias/Experimental_data/MultiMazeRecorder/Datasets/240122_TNT_Fine_1_Experiments.pkl\", \"wb\") as f:\n",
    "    pickle.dump(Exps, f)"
   ]
  },
  {
   "cell_type": "code",
   "execution_count": null,
   "metadata": {},
   "outputs": [],
   "source": [
    "# Load the experiments from the pickle file\n",
    "Exps = load_object(\"/mnt/labserver/DURRIEU_Matthias/Experimental_data/MultiMazeRecorder/Datasets/240122_TNT_Fine_1_Experiments.pkl\")"
   ]
  },
  {
   "cell_type": "code",
   "execution_count": null,
   "metadata": {},
   "outputs": [],
   "source": [
    "Data = Dataset(Exps)\n",
    "\n",
    "print(Data)"
   ]
  },
  {
   "cell_type": "code",
   "execution_count": null,
   "metadata": {},
   "outputs": [],
   "source": [
    "Data"
   ]
  },
  {
   "cell_type": "markdown",
   "metadata": {},
   "source": [
    "# Testing labelling"
   ]
  },
  {
   "cell_type": "code",
   "execution_count": null,
   "metadata": {},
   "outputs": [],
   "source": [
    "def plot_events(data, plot_options=hv_main, show=True, save=False, outpath=None):\n",
    "    \"\"\"Generate a plot of the number of events per Genotype and Fly, grouped by Simplified region.\n",
    "\n",
    "    Args:\n",
    "        plot_options (dict, optional): A dictionary containing the plot options. Defaults to MD's main holoviews styling options.\n",
    "        show (bool, optional): Whether to display the plot or not. Defaults to True.\n",
    "    \"\"\"\n",
    "    # Check that events have been annotated\n",
    "    if \"event\" not in data.data.columns:\n",
    "        raise ValueError(\n",
    "            \"No events have been annotated. Run the annotate_events method first.\"\n",
    "        )\n",
    "\n",
    "    # Group the data by Fly and Event\n",
    "    GroupedData = (\n",
    "        data.data.groupby([\"fly\", \"Nickname\", \"Simplified region\"])\n",
    "        .nunique([\"event\"])\n",
    "        .reset_index()\n",
    "    )\n",
    "\n",
    "    # Calculate sample size\n",
    "    SampleSize = (\n",
    "        data.data.groupby([\"Nickname\", \"Simplified region\"])\n",
    "        .nunique()[\"fly\"]\n",
    "        .reset_index()\n",
    "        .rename(columns={\"fly\": \"SampleSize\"})\n",
    "    )\n",
    "\n",
    "    # Merge GroupedData and SampleSize\n",
    "    GroupedData = pd.merge(\n",
    "        GroupedData, SampleSize, on=[\"Nickname\", \"Simplified region\"]\n",
    "    )\n",
    "\n",
    "    # Modify Nickname column\n",
    "    GroupedData[\"Nickname\"] = (\n",
    "        GroupedData[\"Nickname\"] + \" (n = \" + GroupedData[\"SampleSize\"].astype(str) + \")\"\n",
    "    )\n",
    "\n",
    "    h_NumbEvents_bp = (\n",
    "        hv.BoxWhisker(\n",
    "            data=GroupedData,\n",
    "            vdims=\"event\",\n",
    "            kdims=[\"Nickname\", \"Simplified region\"],\n",
    "            color=\"Nickname\",\n",
    "        )\n",
    "        .groupby(\"Simplified region\")\n",
    "        .opts(**plot_options[\"boxwhisker\"])\n",
    "    )\n",
    "\n",
    "    h_NumbEvents_sc = (\n",
    "        hv.Scatter(\n",
    "            data=GroupedData,\n",
    "            vdims=\"event\",\n",
    "            kdims=[\"Nickname\", \"Simplified region\"],\n",
    "            color=\"Nickname\",\n",
    "        )\n",
    "        .groupby(\"Simplified region\")\n",
    "        .opts(**plot_options[\"scatter\"])\n",
    "    )\n",
    "\n",
    "    hvplot_NumbEvents = (h_NumbEvents_bp * h_NumbEvents_sc).opts(**plot_options[\"plot\"])\n",
    "\n",
    "    if show:\n",
    "        hv.render(hvplot_NumbEvents)\n",
    "    if save:\n",
    "        if outpath is None:\n",
    "            now = datetime.datetime.now()  # get current date and time\n",
    "            date_time = now.strftime(\"%Y%m%d_%H%M\")  # format as a string\n",
    "\n",
    "            output_path = (\n",
    "                get_labserver()\n",
    "                / \"Experimental_data\"\n",
    "                / \"MultiMazeRecorder\"\n",
    "                / f\"EventsNumber_{date_time}.html\"\n",
    "            )\n",
    "\n",
    "        hv.save(hvplot_NumbEvents, output_path)\n",
    "\n",
    "    return hvplot_NumbEvents\n",
    "\n",
    "\n",
    "plot_events(Data, show=True, save=False)"
   ]
  },
  {
   "cell_type": "markdown",
   "metadata": {},
   "source": [
    "# Testing more generic function with better tooltips"
   ]
  },
  {
   "cell_type": "code",
   "execution_count": null,
   "metadata": {},
   "outputs": [],
   "source": [
    "data = Dataset(\n",
    "    Experiment(\n",
    "        Path(\n",
    "            \"/mnt/labserver/DURRIEU_Matthias/Experimental_data/MultiMazeRecorder/Videos/231121_TNT_Fine_1_Videos_Tracked/\"\n",
    "        )\n",
    "    )\n",
    ")"
   ]
  },
  {
   "cell_type": "code",
   "execution_count": null,
   "metadata": {},
   "outputs": [],
   "source": [
    "print(data)"
   ]
  },
  {
   "cell_type": "code",
   "execution_count": null,
   "metadata": {},
   "outputs": [],
   "source": [
    "data.experiments[0].metadata"
   ]
  },
  {
   "cell_type": "code",
   "execution_count": null,
   "metadata": {},
   "outputs": [],
   "source": [
    "coords = data.generate_dataset()"
   ]
  },
  {
   "cell_type": "code",
   "execution_count": null,
   "metadata": {},
   "outputs": [],
   "source": [
    "coords"
   ]
  },
  {
   "cell_type": "code",
   "execution_count": null,
   "metadata": {},
   "outputs": [],
   "source": [
    "data.generate_dataset(\"summary\")"
   ]
  },
  {
   "cell_type": "code",
   "execution_count": null,
   "metadata": {},
   "outputs": [],
   "source": [
    "summaries"
   ]
  },
  {
   "cell_type": "markdown",
   "metadata": {},
   "source": [
    "# BS CI"
   ]
  },
  {
   "cell_type": "code",
   "execution_count": null,
   "metadata": {},
   "outputs": [],
   "source": [
    "Test_ctrl = ['TNTxG78', 'TNTxG75', 'TNTxG79']"
   ]
  },
  {
   "cell_type": "code",
   "execution_count": null,
   "metadata": {},
   "outputs": [],
   "source": [
    "data.compute_bs_ci(\"SignificantEvents\", Test_ctrl)"
   ]
  },
  {
   "cell_type": "code",
   "execution_count": null,
   "metadata": {},
   "outputs": [],
   "source": [
    "bs = data.compute_bs_ci(\"SignificantEvents\", Test_ctrl)"
   ]
  },
  {
   "cell_type": "code",
   "execution_count": null,
   "metadata": {},
   "outputs": [],
   "source": [
    "bs"
   ]
  },
  {
   "cell_type": "code",
   "execution_count": null,
   "metadata": {},
   "outputs": [],
   "source": [
    "# Get unique 'Brain region' values from your data\n",
    "label = data.data[\"label\"]\n",
    "brain_regions = data.data[\"Brain region\"]\n",
    "\n",
    "# Create a DataFrame from bs_ci that gets the label and brain region from the main dataset and the lower and upper bounds from bs_ci\n",
    "\n",
    "bs_ci_df = pd.DataFrame(\n",
    "    {\n",
    "        \"label\": label,\n",
    "        \"Brain region\": brain_regions,\n",
    "        \"lower\": np.repeat(bs[0], len(label)),\n",
    "        \"upper\": np.repeat(bs[1], len(label)),\n",
    "    }\n",
    ")"
   ]
  },
  {
   "cell_type": "code",
   "execution_count": null,
   "metadata": {},
   "outputs": [],
   "source": [
    "bs_ci_df"
   ]
  },
  {
   "cell_type": "code",
   "execution_count": null,
   "metadata": {},
   "outputs": [],
   "source": [
    "data.jitter_boxplot(data.data, \"SignificantEvents\")"
   ]
  },
  {
   "cell_type": "code",
   "execution_count": null,
   "metadata": {},
   "outputs": [],
   "source": [
    "data"
   ]
  },
  {
   "cell_type": "code",
   "execution_count": null,
   "metadata": {},
   "outputs": [],
   "source": [
    "fly1 = data._prepare_dataset_summary_metrics(data.flies[0])"
   ]
  },
  {
   "cell_type": "code",
   "execution_count": null,
   "metadata": {},
   "outputs": [],
   "source": [
    "fly1.reset_index().head()"
   ]
  },
  {
   "cell_type": "code",
   "execution_count": null,
   "metadata": {},
   "outputs": [],
   "source": [
    "fly1[\"Nickname\"]"
   ]
  },
  {
   "cell_type": "code",
   "execution_count": null,
   "metadata": {},
   "outputs": [],
   "source": [
    "data.flies[0].get_events_number()"
   ]
  },
  {
   "cell_type": "code",
   "execution_count": null,
   "metadata": {},
   "outputs": [],
   "source": [
    "events = data.get_event_numbers()"
   ]
  },
  {
   "cell_type": "code",
   "execution_count": null,
   "metadata": {},
   "outputs": [],
   "source": [
    "data.jitter_boxplot(events, \"event\")"
   ]
  },
  {
   "cell_type": "code",
   "execution_count": null,
   "metadata": {},
   "outputs": [],
   "source": [
    "finalevents = data.get_final_events()"
   ]
  },
  {
   "cell_type": "code",
   "execution_count": null,
   "metadata": {},
   "outputs": [],
   "source": [
    "data.jitter_boxplot(finalevents, \"FinalEvent\")"
   ]
  },
  {
   "cell_type": "markdown",
   "metadata": {},
   "source": [
    "# New Fly centered methods"
   ]
  },
  {
   "cell_type": "markdown",
   "metadata": {},
   "source": [
    "## Final event"
   ]
  },
  {
   "cell_type": "code",
   "execution_count": null,
   "metadata": {},
   "outputs": [],
   "source": [
    "TestFly = Fly(\n",
    "    Path(\n",
    "        \"/mnt/labserver/DURRIEU_Matthias/Experimental_data/MultiMazeRecorder/Videos/230721_Feedingstate_4_PM_Videos_Tracked/arena5/corridor3/\"\n",
    "    )\n",
    ")"
   ]
  },
  {
   "cell_type": "code",
   "execution_count": null,
   "metadata": {},
   "outputs": [],
   "source": [
    "TestFly.dead_or_empty"
   ]
  },
  {
   "cell_type": "code",
   "execution_count": null,
   "metadata": {},
   "outputs": [],
   "source": [
    "TestFly.get_events_number()"
   ]
  },
  {
   "cell_type": "code",
   "execution_count": null,
   "metadata": {},
   "outputs": [],
   "source": [
    "TestFly.interaction_events"
   ]
  },
  {
   "cell_type": "code",
   "execution_count": null,
   "metadata": {},
   "outputs": [],
   "source": [
    "TestFly.get_final_event()"
   ]
  },
  {
   "cell_type": "code",
   "execution_count": null,
   "metadata": {},
   "outputs": [],
   "source": [
    "sig = TestFly.get_significant_events()"
   ]
  },
  {
   "cell_type": "code",
   "execution_count": null,
   "metadata": {},
   "outputs": [],
   "source": [
    "sig"
   ]
  },
  {
   "cell_type": "code",
   "execution_count": null,
   "metadata": {},
   "outputs": [],
   "source": [
    "TestFly.find_breaks()"
   ]
  },
  {
   "cell_type": "code",
   "execution_count": null,
   "metadata": {},
   "outputs": [],
   "source": [
    "len(TestFly.find_breaks())"
   ]
  },
  {
   "cell_type": "code",
   "execution_count": null,
   "metadata": {},
   "outputs": [],
   "source": [
    "TestFly.find_pulling_events()"
   ]
  },
  {
   "cell_type": "code",
   "execution_count": null,
   "metadata": {},
   "outputs": [],
   "source": [
    "len(TestFly.find_pulling_events())"
   ]
  },
  {
   "cell_type": "code",
   "execution_count": null,
   "metadata": {},
   "outputs": [],
   "source": [
    "TestFly.generate_clip(event=1)"
   ]
  },
  {
   "cell_type": "markdown",
   "metadata": {},
   "source": [
    "# Testing the controls CI generation"
   ]
  },
  {
   "cell_type": "code",
   "execution_count": null,
   "metadata": {},
   "outputs": [],
   "source": [
    "# Get a list of experiments that have, TNT, Fine, and 2401 in their name\n",
    "Exps = get_folders(get_data_path(), [\"TNT\", \"Fine\", \"2401\"])\n",
    "\n",
    "Exps"
   ]
  },
  {
   "cell_type": "code",
   "execution_count": null,
   "metadata": {},
   "outputs": [],
   "source": [
    "# Generate a dataset from the experiments\n",
    "Data = Dataset([Experiment(e) for e in Exps])"
   ]
  },
  {
   "cell_type": "code",
   "execution_count": null,
   "metadata": {},
   "outputs": [],
   "source": [
    "summaries = Data.generate_dataset(\"summary\")"
   ]
  },
  {
   "cell_type": "markdown",
   "metadata": {},
   "source": [
    "# JitterBoxplot + CI"
   ]
  },
  {
   "cell_type": "code",
   "execution_count": 8,
   "metadata": {},
   "outputs": [
    {
     "data": {
      "text/plain": [
       "<module 'Ballpushing_utils' from '/home/durrieu/Tracking_Analysis/Utilities/Ballpushing_utils.py'>"
      ]
     },
     "execution_count": 8,
     "metadata": {},
     "output_type": "execute_result"
    }
   ],
   "source": [
    "importlib.reload(Ballpushing_utils)"
   ]
  },
  {
   "cell_type": "code",
   "execution_count": 9,
   "metadata": {},
   "outputs": [
    {
     "name": "stderr",
     "output_type": "stream",
     "text": [
      "ic| f\"No final event found for {self.name}\": 'No final event found for 231121_TNT_Fine_1_Videos_Tracked_arena5_corridor2'\n",
      "ic| f\"No final event found for {self.name}\": 'No final event found for 231121_TNT_Fine_1_Videos_Tracked_arena8_corridor6'\n",
      "ic| f\"No final event found for {self.name}\": 'No final event found for 231121_TNT_Fine_2_Videos_Tracked_arena2_corridor2'\n",
      "ic| 'No flies with control genotypes found in the dataset.'\n",
      "WARNING:param.Scatter: Chart elements should only be supplied a single kdim\n",
      "ic| 'No control data to generate the confidence interval.'\n"
     ]
    },
    {
     "name": "stdout",
     "output_type": "stream",
     "text": [
      "                                             \r"
     ]
    },
    {
     "data": {},
     "metadata": {},
     "output_type": "display_data"
    },
    {
     "data": {
      "application/vnd.holoviews_exec.v0+json": "",
      "text/html": [
       "<div id='p1366'>\n",
       "  <div id=\"b76fbb4c-b4c2-4d76-b9d7-ea5ef6ab4f11\" data-root-id=\"p1366\" style=\"display: contents;\"></div>\n",
       "</div>\n",
       "<script type=\"application/javascript\">(function(root) {\n",
       "  var docs_json = {\"47b4824c-7f79-48d4-8e23-7a7f5dd319e2\":{\"version\":\"3.3.4\",\"title\":\"Bokeh Application\",\"roots\":[{\"type\":\"object\",\"name\":\"Row\",\"id\":\"p1366\",\"attributes\":{\"name\":\"Row02151\",\"tags\":[\"embedded\"],\"stylesheets\":[\"\\n:host(.pn-loading.pn-arc):before, .pn-loading.pn-arc:before {\\n  background-image: url(\\\"data:image/svg+xml;base64,PHN2ZyB4bWxucz0iaHR0cDovL3d3dy53My5vcmcvMjAwMC9zdmciIHN0eWxlPSJtYXJnaW46IGF1dG87IGJhY2tncm91bmQ6IG5vbmU7IGRpc3BsYXk6IGJsb2NrOyBzaGFwZS1yZW5kZXJpbmc6IGF1dG87IiB2aWV3Qm94PSIwIDAgMTAwIDEwMCIgcHJlc2VydmVBc3BlY3RSYXRpbz0ieE1pZFlNaWQiPiAgPGNpcmNsZSBjeD0iNTAiIGN5PSI1MCIgZmlsbD0ibm9uZSIgc3Ryb2tlPSIjYzNjM2MzIiBzdHJva2Utd2lkdGg9IjEwIiByPSIzNSIgc3Ryb2tlLWRhc2hhcnJheT0iMTY0LjkzMzYxNDMxMzQ2NDE1IDU2Ljk3Nzg3MTQzNzgyMTM4Ij4gICAgPGFuaW1hdGVUcmFuc2Zvcm0gYXR0cmlidXRlTmFtZT0idHJhbnNmb3JtIiB0eXBlPSJyb3RhdGUiIHJlcGVhdENvdW50PSJpbmRlZmluaXRlIiBkdXI9IjFzIiB2YWx1ZXM9IjAgNTAgNTA7MzYwIDUwIDUwIiBrZXlUaW1lcz0iMDsxIj48L2FuaW1hdGVUcmFuc2Zvcm0+ICA8L2NpcmNsZT48L3N2Zz4=\\\");\\n  background-size: auto calc(min(50%, 400px));\\n}\",{\"type\":\"object\",\"name\":\"ImportedStyleSheet\",\"id\":\"p1369\",\"attributes\":{\"url\":\"https://cdn.holoviz.org/panel/1.3.8/dist/css/loading.css\"}},{\"type\":\"object\",\"name\":\"ImportedStyleSheet\",\"id\":\"p1531\",\"attributes\":{\"url\":\"https://cdn.holoviz.org/panel/1.3.8/dist/css/listpanel.css\"}},{\"type\":\"object\",\"name\":\"ImportedStyleSheet\",\"id\":\"p1367\",\"attributes\":{\"url\":\"https://cdn.holoviz.org/panel/1.3.8/dist/bundled/theme/default.css\"}},{\"type\":\"object\",\"name\":\"ImportedStyleSheet\",\"id\":\"p1368\",\"attributes\":{\"url\":\"https://cdn.holoviz.org/panel/1.3.8/dist/bundled/theme/native.css\"}}],\"min_width\":750,\"margin\":0,\"sizing_mode\":\"stretch_width\",\"align\":\"start\",\"children\":[{\"type\":\"object\",\"name\":\"Spacer\",\"id\":\"p1370\",\"attributes\":{\"name\":\"HSpacer02160\",\"stylesheets\":[\"\\n:host(.pn-loading.pn-arc):before, .pn-loading.pn-arc:before {\\n  background-image: url(\\\"data:image/svg+xml;base64,PHN2ZyB4bWxucz0iaHR0cDovL3d3dy53My5vcmcvMjAwMC9zdmciIHN0eWxlPSJtYXJnaW46IGF1dG87IGJhY2tncm91bmQ6IG5vbmU7IGRpc3BsYXk6IGJsb2NrOyBzaGFwZS1yZW5kZXJpbmc6IGF1dG87IiB2aWV3Qm94PSIwIDAgMTAwIDEwMCIgcHJlc2VydmVBc3BlY3RSYXRpbz0ieE1pZFlNaWQiPiAgPGNpcmNsZSBjeD0iNTAiIGN5PSI1MCIgZmlsbD0ibm9uZSIgc3Ryb2tlPSIjYzNjM2MzIiBzdHJva2Utd2lkdGg9IjEwIiByPSIzNSIgc3Ryb2tlLWRhc2hhcnJheT0iMTY0LjkzMzYxNDMxMzQ2NDE1IDU2Ljk3Nzg3MTQzNzgyMTM4Ij4gICAgPGFuaW1hdGVUcmFuc2Zvcm0gYXR0cmlidXRlTmFtZT0idHJhbnNmb3JtIiB0eXBlPSJyb3RhdGUiIHJlcGVhdENvdW50PSJpbmRlZmluaXRlIiBkdXI9IjFzIiB2YWx1ZXM9IjAgNTAgNTA7MzYwIDUwIDUwIiBrZXlUaW1lcz0iMDsxIj48L2FuaW1hdGVUcmFuc2Zvcm0+ICA8L2NpcmNsZT48L3N2Zz4=\\\");\\n  background-size: auto calc(min(50%, 400px));\\n}\",{\"id\":\"p1369\"},{\"id\":\"p1367\"},{\"id\":\"p1368\"}],\"margin\":0,\"sizing_mode\":\"stretch_width\",\"align\":\"start\"}},{\"type\":\"object\",\"name\":\"Figure\",\"id\":\"p1381\",\"attributes\":{\"width\":750,\"height\":500,\"margin\":[5,10],\"sizing_mode\":\"fixed\",\"align\":\"start\",\"x_range\":{\"type\":\"object\",\"name\":\"Range1d\",\"id\":\"p1371\",\"attributes\":{\"tags\":[[[\"FinalEvent\",\"FinalEvent\",null]],[]],\"end\":35,\"reset_start\":0,\"reset_end\":35}},\"y_range\":{\"type\":\"object\",\"name\":\"FactorRange\",\"id\":\"p1372\",\"attributes\":{\"tags\":[[[\"label\",\"label\",null]],{\"type\":\"map\",\"entries\":[[\"invert_yaxis\",false],[\"autorange\",false]]}],\"factors\":[\"JON-AB\\nJO-15\\\" (n = 6)\"]}},\"x_scale\":{\"type\":\"object\",\"name\":\"LinearScale\",\"id\":\"p1391\"},\"y_scale\":{\"type\":\"object\",\"name\":\"CategoricalScale\",\"id\":\"p1392\"},\"title\":{\"type\":\"object\",\"name\":\"Title\",\"id\":\"p1384\",\"attributes\":{\"text_color\":\"black\",\"text_font_size\":\"18pt\"}},\"renderers\":[{\"type\":\"object\",\"name\":\"GlyphRenderer\",\"id\":\"p1421\",\"attributes\":{\"data_source\":{\"type\":\"object\",\"name\":\"ColumnDataSource\",\"id\":\"p1412\",\"attributes\":{\"selected\":{\"type\":\"object\",\"name\":\"Selection\",\"id\":\"p1413\",\"attributes\":{\"indices\":[],\"line_indices\":[]}},\"selection_policy\":{\"type\":\"object\",\"name\":\"UnionRenderers\",\"id\":\"p1414\"},\"data\":{\"type\":\"map\",\"entries\":[[\"index\",[\"JON-AB\\nJO-15\\\" (n = 6)\"]],[\"FinalEvent\",{\"type\":\"ndarray\",\"array\":{\"type\":\"bytes\",\"data\":\"EAAAAA==\"},\"shape\":[1],\"dtype\":\"int32\",\"order\":\"little\"}]]}}},\"view\":{\"type\":\"object\",\"name\":\"CDSView\",\"id\":\"p1422\",\"attributes\":{\"filter\":{\"type\":\"object\",\"name\":\"AllIndices\",\"id\":\"p1423\"}}},\"glyph\":{\"type\":\"object\",\"name\":\"Circle\",\"id\":\"p1418\",\"attributes\":{\"x\":{\"type\":\"field\",\"field\":\"FinalEvent\"},\"y\":{\"type\":\"field\",\"field\":\"index\"},\"line_color\":{\"type\":\"value\",\"value\":null},\"fill_color\":{\"type\":\"value\",\"value\":null}}},\"selection_glyph\":{\"type\":\"object\",\"name\":\"Circle\",\"id\":\"p1424\",\"attributes\":{\"x\":{\"type\":\"field\",\"field\":\"FinalEvent\"},\"y\":{\"type\":\"field\",\"field\":\"index\"},\"size\":{\"type\":\"value\",\"value\":4},\"angle\":{\"type\":\"value\",\"value\":0.0},\"line_color\":{\"type\":\"value\",\"value\":null},\"line_alpha\":{\"type\":\"value\",\"value\":1.0},\"line_width\":{\"type\":\"value\",\"value\":1},\"line_join\":{\"type\":\"value\",\"value\":\"bevel\"},\"line_cap\":{\"type\":\"value\",\"value\":\"butt\"},\"line_dash\":{\"type\":\"value\",\"value\":[]},\"line_dash_offset\":{\"type\":\"value\",\"value\":0},\"fill_color\":{\"type\":\"value\",\"value\":null},\"fill_alpha\":{\"type\":\"value\",\"value\":1.0},\"hatch_color\":{\"type\":\"value\",\"value\":\"black\"},\"hatch_alpha\":{\"type\":\"value\",\"value\":1.0},\"hatch_scale\":{\"type\":\"value\",\"value\":12.0},\"hatch_pattern\":{\"type\":\"value\",\"value\":null},\"hatch_weight\":{\"type\":\"value\",\"value\":1.0},\"radius\":{\"type\":\"value\",\"value\":null}}},\"nonselection_glyph\":{\"type\":\"object\",\"name\":\"Circle\",\"id\":\"p1419\",\"attributes\":{\"x\":{\"type\":\"field\",\"field\":\"FinalEvent\"},\"y\":{\"type\":\"field\",\"field\":\"index\"},\"line_color\":{\"type\":\"value\",\"value\":null},\"line_alpha\":{\"type\":\"value\",\"value\":0.1},\"fill_color\":{\"type\":\"value\",\"value\":null},\"fill_alpha\":{\"type\":\"value\",\"value\":0.1},\"hatch_alpha\":{\"type\":\"value\",\"value\":0.1}}},\"muted_glyph\":{\"type\":\"object\",\"name\":\"Circle\",\"id\":\"p1420\",\"attributes\":{\"x\":{\"type\":\"field\",\"field\":\"FinalEvent\"},\"y\":{\"type\":\"field\",\"field\":\"index\"},\"line_color\":{\"type\":\"value\",\"value\":null},\"line_alpha\":{\"type\":\"value\",\"value\":0.2},\"fill_color\":{\"type\":\"value\",\"value\":null},\"fill_alpha\":{\"type\":\"value\",\"value\":0.2},\"hatch_alpha\":{\"type\":\"value\",\"value\":0.2}}}}},{\"type\":\"object\",\"name\":\"GlyphRenderer\",\"id\":\"p1434\",\"attributes\":{\"data_source\":{\"type\":\"object\",\"name\":\"ColumnDataSource\",\"id\":\"p1425\",\"attributes\":{\"selected\":{\"type\":\"object\",\"name\":\"Selection\",\"id\":\"p1426\",\"attributes\":{\"indices\":[],\"line_indices\":[]}},\"selection_policy\":{\"type\":\"object\",\"name\":\"UnionRenderers\",\"id\":\"p1427\"},\"data\":{\"type\":\"map\",\"entries\":[[\"index\",[\"JON-AB\\nJO-15\\\" (n = 6)\"]],[\"top\",{\"type\":\"ndarray\",\"array\":{\"type\":\"bytes\",\"data\":\"AAAAAAAAEEA=\"},\"shape\":[1],\"dtype\":\"float64\",\"order\":\"little\"}],[\"bottom\",{\"type\":\"ndarray\",\"array\":{\"type\":\"bytes\",\"data\":\"AAAAAAAAHEA=\"},\"shape\":[1],\"dtype\":\"float64\",\"order\":\"little\"}]]}}},\"view\":{\"type\":\"object\",\"name\":\"CDSView\",\"id\":\"p1435\",\"attributes\":{\"filter\":{\"type\":\"object\",\"name\":\"AllIndices\",\"id\":\"p1436\"}}},\"glyph\":{\"type\":\"object\",\"name\":\"HBar\",\"id\":\"p1431\",\"attributes\":{\"y\":{\"type\":\"field\",\"field\":\"index\"},\"height\":{\"type\":\"value\",\"value\":0.7},\"left\":{\"type\":\"field\",\"field\":\"top\"},\"right\":{\"type\":\"field\",\"field\":\"bottom\"},\"fill_color\":{\"type\":\"value\",\"value\":null}}},\"selection_glyph\":{\"type\":\"object\",\"name\":\"HBar\",\"id\":\"p1437\",\"attributes\":{\"y\":{\"type\":\"field\",\"field\":\"index\"},\"height\":{\"type\":\"value\",\"value\":0.7},\"left\":{\"type\":\"field\",\"field\":\"top\"},\"right\":{\"type\":\"field\",\"field\":\"bottom\"},\"line_color\":{\"type\":\"value\",\"value\":\"black\"},\"line_alpha\":{\"type\":\"value\",\"value\":1.0},\"line_width\":{\"type\":\"value\",\"value\":1},\"line_join\":{\"type\":\"value\",\"value\":\"bevel\"},\"line_cap\":{\"type\":\"value\",\"value\":\"butt\"},\"line_dash\":{\"type\":\"value\",\"value\":[]},\"line_dash_offset\":{\"type\":\"value\",\"value\":0},\"fill_color\":{\"type\":\"value\",\"value\":null},\"fill_alpha\":{\"type\":\"value\",\"value\":1.0},\"hatch_color\":{\"type\":\"value\",\"value\":\"black\"},\"hatch_alpha\":{\"type\":\"value\",\"value\":1.0},\"hatch_scale\":{\"type\":\"value\",\"value\":12.0},\"hatch_pattern\":{\"type\":\"value\",\"value\":null},\"hatch_weight\":{\"type\":\"value\",\"value\":1.0}}},\"nonselection_glyph\":{\"type\":\"object\",\"name\":\"HBar\",\"id\":\"p1432\",\"attributes\":{\"y\":{\"type\":\"field\",\"field\":\"index\"},\"height\":{\"type\":\"value\",\"value\":0.7},\"left\":{\"type\":\"field\",\"field\":\"top\"},\"right\":{\"type\":\"field\",\"field\":\"bottom\"},\"line_alpha\":{\"type\":\"value\",\"value\":0.1},\"fill_color\":{\"type\":\"value\",\"value\":null},\"fill_alpha\":{\"type\":\"value\",\"value\":0.1},\"hatch_alpha\":{\"type\":\"value\",\"value\":0.1}}},\"muted_glyph\":{\"type\":\"object\",\"name\":\"HBar\",\"id\":\"p1433\",\"attributes\":{\"y\":{\"type\":\"field\",\"field\":\"index\"},\"height\":{\"type\":\"value\",\"value\":0.7},\"left\":{\"type\":\"field\",\"field\":\"top\"},\"right\":{\"type\":\"field\",\"field\":\"bottom\"},\"line_alpha\":{\"type\":\"value\",\"value\":0.2},\"fill_color\":{\"type\":\"value\",\"value\":null},\"fill_alpha\":{\"type\":\"value\",\"value\":0.2},\"hatch_alpha\":{\"type\":\"value\",\"value\":0.2}}}}},{\"type\":\"object\",\"name\":\"GlyphRenderer\",\"id\":\"p1447\",\"attributes\":{\"data_source\":{\"type\":\"object\",\"name\":\"ColumnDataSource\",\"id\":\"p1438\",\"attributes\":{\"selected\":{\"type\":\"object\",\"name\":\"Selection\",\"id\":\"p1439\",\"attributes\":{\"indices\":[],\"line_indices\":[]}},\"selection_policy\":{\"type\":\"object\",\"name\":\"UnionRenderers\",\"id\":\"p1440\"},\"data\":{\"type\":\"map\",\"entries\":[[\"index\",[\"JON-AB\\nJO-15\\\" (n = 6)\"]],[\"top\",{\"type\":\"ndarray\",\"array\":{\"type\":\"bytes\",\"data\":\"AAAAAAAACEA=\"},\"shape\":[1],\"dtype\":\"float64\",\"order\":\"little\"}],[\"bottom\",{\"type\":\"ndarray\",\"array\":{\"type\":\"bytes\",\"data\":\"AAAAAAAAEEA=\"},\"shape\":[1],\"dtype\":\"float64\",\"order\":\"little\"}]]}}},\"view\":{\"type\":\"object\",\"name\":\"CDSView\",\"id\":\"p1448\",\"attributes\":{\"filter\":{\"type\":\"object\",\"name\":\"AllIndices\",\"id\":\"p1449\"}}},\"glyph\":{\"type\":\"object\",\"name\":\"HBar\",\"id\":\"p1444\",\"attributes\":{\"y\":{\"type\":\"field\",\"field\":\"index\"},\"height\":{\"type\":\"value\",\"value\":0.7},\"left\":{\"type\":\"field\",\"field\":\"top\"},\"right\":{\"type\":\"field\",\"field\":\"bottom\"},\"fill_color\":{\"type\":\"value\",\"value\":null}}},\"selection_glyph\":{\"type\":\"object\",\"name\":\"HBar\",\"id\":\"p1450\",\"attributes\":{\"y\":{\"type\":\"field\",\"field\":\"index\"},\"height\":{\"type\":\"value\",\"value\":0.7},\"left\":{\"type\":\"field\",\"field\":\"top\"},\"right\":{\"type\":\"field\",\"field\":\"bottom\"},\"line_color\":{\"type\":\"value\",\"value\":\"black\"},\"line_alpha\":{\"type\":\"value\",\"value\":1.0},\"line_width\":{\"type\":\"value\",\"value\":1},\"line_join\":{\"type\":\"value\",\"value\":\"bevel\"},\"line_cap\":{\"type\":\"value\",\"value\":\"butt\"},\"line_dash\":{\"type\":\"value\",\"value\":[]},\"line_dash_offset\":{\"type\":\"value\",\"value\":0},\"fill_color\":{\"type\":\"value\",\"value\":null},\"fill_alpha\":{\"type\":\"value\",\"value\":1.0},\"hatch_color\":{\"type\":\"value\",\"value\":\"black\"},\"hatch_alpha\":{\"type\":\"value\",\"value\":1.0},\"hatch_scale\":{\"type\":\"value\",\"value\":12.0},\"hatch_pattern\":{\"type\":\"value\",\"value\":null},\"hatch_weight\":{\"type\":\"value\",\"value\":1.0}}},\"nonselection_glyph\":{\"type\":\"object\",\"name\":\"HBar\",\"id\":\"p1445\",\"attributes\":{\"y\":{\"type\":\"field\",\"field\":\"index\"},\"height\":{\"type\":\"value\",\"value\":0.7},\"left\":{\"type\":\"field\",\"field\":\"top\"},\"right\":{\"type\":\"field\",\"field\":\"bottom\"},\"line_alpha\":{\"type\":\"value\",\"value\":0.1},\"fill_color\":{\"type\":\"value\",\"value\":null},\"fill_alpha\":{\"type\":\"value\",\"value\":0.1},\"hatch_alpha\":{\"type\":\"value\",\"value\":0.1}}},\"muted_glyph\":{\"type\":\"object\",\"name\":\"HBar\",\"id\":\"p1446\",\"attributes\":{\"y\":{\"type\":\"field\",\"field\":\"index\"},\"height\":{\"type\":\"value\",\"value\":0.7},\"left\":{\"type\":\"field\",\"field\":\"top\"},\"right\":{\"type\":\"field\",\"field\":\"bottom\"},\"line_alpha\":{\"type\":\"value\",\"value\":0.2},\"fill_color\":{\"type\":\"value\",\"value\":null},\"fill_alpha\":{\"type\":\"value\",\"value\":0.2},\"hatch_alpha\":{\"type\":\"value\",\"value\":0.2}}}}},{\"type\":\"object\",\"name\":\"GlyphRenderer\",\"id\":\"p1460\",\"attributes\":{\"data_source\":{\"type\":\"object\",\"name\":\"ColumnDataSource\",\"id\":\"p1451\",\"attributes\":{\"selected\":{\"type\":\"object\",\"name\":\"Selection\",\"id\":\"p1452\",\"attributes\":{\"indices\":[],\"line_indices\":[]}},\"selection_policy\":{\"type\":\"object\",\"name\":\"UnionRenderers\",\"id\":\"p1453\"},\"data\":{\"type\":\"map\",\"entries\":[[\"x0\",[\"JON-AB\\nJO-15\\\" (n = 6)\"]],[\"y0\",{\"type\":\"ndarray\",\"array\":{\"type\":\"bytes\",\"data\":\"BwAAAA==\"},\"shape\":[1],\"dtype\":\"int32\",\"order\":\"little\"}],[\"x1\",[\"JON-AB\\nJO-15\\\" (n = 6)\"]],[\"y1\",{\"type\":\"ndarray\",\"array\":{\"type\":\"bytes\",\"data\":\"AAAAAAAAHEA=\"},\"shape\":[1],\"dtype\":\"float64\",\"order\":\"little\"}]]}}},\"view\":{\"type\":\"object\",\"name\":\"CDSView\",\"id\":\"p1461\",\"attributes\":{\"filter\":{\"type\":\"object\",\"name\":\"AllIndices\",\"id\":\"p1462\"}}},\"glyph\":{\"type\":\"object\",\"name\":\"Segment\",\"id\":\"p1457\",\"attributes\":{\"x0\":{\"type\":\"field\",\"field\":\"y0\"},\"y0\":{\"type\":\"field\",\"field\":\"x0\"},\"x1\":{\"type\":\"field\",\"field\":\"y1\"},\"y1\":{\"type\":\"field\",\"field\":\"x1\"}}},\"selection_glyph\":{\"type\":\"object\",\"name\":\"Segment\",\"id\":\"p1463\",\"attributes\":{\"x0\":{\"type\":\"field\",\"field\":\"y0\"},\"y0\":{\"type\":\"field\",\"field\":\"x0\"},\"x1\":{\"type\":\"field\",\"field\":\"y1\"},\"y1\":{\"type\":\"field\",\"field\":\"x1\"},\"line_color\":{\"type\":\"value\",\"value\":\"black\"},\"line_alpha\":{\"type\":\"value\",\"value\":1.0},\"line_width\":{\"type\":\"value\",\"value\":1},\"line_join\":{\"type\":\"value\",\"value\":\"bevel\"},\"line_cap\":{\"type\":\"value\",\"value\":\"butt\"},\"line_dash\":{\"type\":\"value\",\"value\":[]},\"line_dash_offset\":{\"type\":\"value\",\"value\":0}}},\"nonselection_glyph\":{\"type\":\"object\",\"name\":\"Segment\",\"id\":\"p1458\",\"attributes\":{\"x0\":{\"type\":\"field\",\"field\":\"y0\"},\"y0\":{\"type\":\"field\",\"field\":\"x0\"},\"x1\":{\"type\":\"field\",\"field\":\"y1\"},\"y1\":{\"type\":\"field\",\"field\":\"x1\"},\"line_alpha\":{\"type\":\"value\",\"value\":0.1}}},\"muted_glyph\":{\"type\":\"object\",\"name\":\"Segment\",\"id\":\"p1459\",\"attributes\":{\"x0\":{\"type\":\"field\",\"field\":\"y0\"},\"y0\":{\"type\":\"field\",\"field\":\"x0\"},\"x1\":{\"type\":\"field\",\"field\":\"y1\"},\"y1\":{\"type\":\"field\",\"field\":\"x1\"},\"line_alpha\":{\"type\":\"value\",\"value\":0.2}}}}},{\"type\":\"object\",\"name\":\"GlyphRenderer\",\"id\":\"p1473\",\"attributes\":{\"data_source\":{\"type\":\"object\",\"name\":\"ColumnDataSource\",\"id\":\"p1464\",\"attributes\":{\"selected\":{\"type\":\"object\",\"name\":\"Selection\",\"id\":\"p1465\",\"attributes\":{\"indices\":[],\"line_indices\":[]}},\"selection_policy\":{\"type\":\"object\",\"name\":\"UnionRenderers\",\"id\":\"p1466\"},\"data\":{\"type\":\"map\",\"entries\":[[\"x0\",[\"JON-AB\\nJO-15\\\" (n = 6)\"]],[\"y0\",{\"type\":\"ndarray\",\"array\":{\"type\":\"bytes\",\"data\":\"AgAAAA==\"},\"shape\":[1],\"dtype\":\"int32\",\"order\":\"little\"}],[\"x1\",[\"JON-AB\\nJO-15\\\" (n = 6)\"]],[\"y1\",{\"type\":\"ndarray\",\"array\":{\"type\":\"bytes\",\"data\":\"AAAAAAAACEA=\"},\"shape\":[1],\"dtype\":\"float64\",\"order\":\"little\"}]]}}},\"view\":{\"type\":\"object\",\"name\":\"CDSView\",\"id\":\"p1474\",\"attributes\":{\"filter\":{\"type\":\"object\",\"name\":\"AllIndices\",\"id\":\"p1475\"}}},\"glyph\":{\"type\":\"object\",\"name\":\"Segment\",\"id\":\"p1470\",\"attributes\":{\"x0\":{\"type\":\"field\",\"field\":\"y0\"},\"y0\":{\"type\":\"field\",\"field\":\"x0\"},\"x1\":{\"type\":\"field\",\"field\":\"y1\"},\"y1\":{\"type\":\"field\",\"field\":\"x1\"}}},\"selection_glyph\":{\"type\":\"object\",\"name\":\"Segment\",\"id\":\"p1476\",\"attributes\":{\"x0\":{\"type\":\"field\",\"field\":\"y0\"},\"y0\":{\"type\":\"field\",\"field\":\"x0\"},\"x1\":{\"type\":\"field\",\"field\":\"y1\"},\"y1\":{\"type\":\"field\",\"field\":\"x1\"},\"line_color\":{\"type\":\"value\",\"value\":\"black\"},\"line_alpha\":{\"type\":\"value\",\"value\":1.0},\"line_width\":{\"type\":\"value\",\"value\":1},\"line_join\":{\"type\":\"value\",\"value\":\"bevel\"},\"line_cap\":{\"type\":\"value\",\"value\":\"butt\"},\"line_dash\":{\"type\":\"value\",\"value\":[]},\"line_dash_offset\":{\"type\":\"value\",\"value\":0}}},\"nonselection_glyph\":{\"type\":\"object\",\"name\":\"Segment\",\"id\":\"p1471\",\"attributes\":{\"x0\":{\"type\":\"field\",\"field\":\"y0\"},\"y0\":{\"type\":\"field\",\"field\":\"x0\"},\"x1\":{\"type\":\"field\",\"field\":\"y1\"},\"y1\":{\"type\":\"field\",\"field\":\"x1\"},\"line_alpha\":{\"type\":\"value\",\"value\":0.1}}},\"muted_glyph\":{\"type\":\"object\",\"name\":\"Segment\",\"id\":\"p1472\",\"attributes\":{\"x0\":{\"type\":\"field\",\"field\":\"y0\"},\"y0\":{\"type\":\"field\",\"field\":\"x0\"},\"x1\":{\"type\":\"field\",\"field\":\"y1\"},\"y1\":{\"type\":\"field\",\"field\":\"x1\"},\"line_alpha\":{\"type\":\"value\",\"value\":0.2}}}}},{\"type\":\"object\",\"name\":\"GlyphRenderer\",\"id\":\"p1486\",\"attributes\":{\"data_source\":{\"type\":\"object\",\"name\":\"ColumnDataSource\",\"id\":\"p1477\",\"attributes\":{\"selected\":{\"type\":\"object\",\"name\":\"Selection\",\"id\":\"p1478\",\"attributes\":{\"indices\":[],\"line_indices\":[]}},\"selection_policy\":{\"type\":\"object\",\"name\":\"UnionRenderers\",\"id\":\"p1479\"},\"data\":{\"type\":\"map\",\"entries\":[[\"x0\",[[\"JON-AB\\nJO-15\\\" (n = 6)\",-0.2]]],[\"y0\",[2]],[\"x1\",[[\"JON-AB\\nJO-15\\\" (n = 6)\",0.2]]],[\"y1\",[2]]]}}},\"view\":{\"type\":\"object\",\"name\":\"CDSView\",\"id\":\"p1487\",\"attributes\":{\"filter\":{\"type\":\"object\",\"name\":\"AllIndices\",\"id\":\"p1488\"}}},\"glyph\":{\"type\":\"object\",\"name\":\"Segment\",\"id\":\"p1483\",\"attributes\":{\"x0\":{\"type\":\"field\",\"field\":\"y0\"},\"y0\":{\"type\":\"field\",\"field\":\"x0\"},\"x1\":{\"type\":\"field\",\"field\":\"y1\"},\"y1\":{\"type\":\"field\",\"field\":\"x1\"}}},\"selection_glyph\":{\"type\":\"object\",\"name\":\"Segment\",\"id\":\"p1489\",\"attributes\":{\"x0\":{\"type\":\"field\",\"field\":\"y0\"},\"y0\":{\"type\":\"field\",\"field\":\"x0\"},\"x1\":{\"type\":\"field\",\"field\":\"y1\"},\"y1\":{\"type\":\"field\",\"field\":\"x1\"},\"line_color\":{\"type\":\"value\",\"value\":\"black\"},\"line_alpha\":{\"type\":\"value\",\"value\":1.0},\"line_width\":{\"type\":\"value\",\"value\":1},\"line_join\":{\"type\":\"value\",\"value\":\"bevel\"},\"line_cap\":{\"type\":\"value\",\"value\":\"butt\"},\"line_dash\":{\"type\":\"value\",\"value\":[]},\"line_dash_offset\":{\"type\":\"value\",\"value\":0}}},\"nonselection_glyph\":{\"type\":\"object\",\"name\":\"Segment\",\"id\":\"p1484\",\"attributes\":{\"x0\":{\"type\":\"field\",\"field\":\"y0\"},\"y0\":{\"type\":\"field\",\"field\":\"x0\"},\"x1\":{\"type\":\"field\",\"field\":\"y1\"},\"y1\":{\"type\":\"field\",\"field\":\"x1\"},\"line_alpha\":{\"type\":\"value\",\"value\":0.1}}},\"muted_glyph\":{\"type\":\"object\",\"name\":\"Segment\",\"id\":\"p1485\",\"attributes\":{\"x0\":{\"type\":\"field\",\"field\":\"y0\"},\"y0\":{\"type\":\"field\",\"field\":\"x0\"},\"x1\":{\"type\":\"field\",\"field\":\"y1\"},\"y1\":{\"type\":\"field\",\"field\":\"x1\"},\"line_alpha\":{\"type\":\"value\",\"value\":0.2}}}}},{\"type\":\"object\",\"name\":\"GlyphRenderer\",\"id\":\"p1499\",\"attributes\":{\"data_source\":{\"type\":\"object\",\"name\":\"ColumnDataSource\",\"id\":\"p1490\",\"attributes\":{\"selected\":{\"type\":\"object\",\"name\":\"Selection\",\"id\":\"p1491\",\"attributes\":{\"indices\":[],\"line_indices\":[]}},\"selection_policy\":{\"type\":\"object\",\"name\":\"UnionRenderers\",\"id\":\"p1492\"},\"data\":{\"type\":\"map\",\"entries\":[[\"x0\",[[\"JON-AB\\nJO-15\\\" (n = 6)\",-0.2]]],[\"y0\",[7]],[\"x1\",[[\"JON-AB\\nJO-15\\\" (n = 6)\",0.2]]],[\"y1\",[7]]]}}},\"view\":{\"type\":\"object\",\"name\":\"CDSView\",\"id\":\"p1500\",\"attributes\":{\"filter\":{\"type\":\"object\",\"name\":\"AllIndices\",\"id\":\"p1501\"}}},\"glyph\":{\"type\":\"object\",\"name\":\"Segment\",\"id\":\"p1496\",\"attributes\":{\"x0\":{\"type\":\"field\",\"field\":\"y0\"},\"y0\":{\"type\":\"field\",\"field\":\"x0\"},\"x1\":{\"type\":\"field\",\"field\":\"y1\"},\"y1\":{\"type\":\"field\",\"field\":\"x1\"}}},\"selection_glyph\":{\"type\":\"object\",\"name\":\"Segment\",\"id\":\"p1502\",\"attributes\":{\"x0\":{\"type\":\"field\",\"field\":\"y0\"},\"y0\":{\"type\":\"field\",\"field\":\"x0\"},\"x1\":{\"type\":\"field\",\"field\":\"y1\"},\"y1\":{\"type\":\"field\",\"field\":\"x1\"},\"line_color\":{\"type\":\"value\",\"value\":\"black\"},\"line_alpha\":{\"type\":\"value\",\"value\":1.0},\"line_width\":{\"type\":\"value\",\"value\":1},\"line_join\":{\"type\":\"value\",\"value\":\"bevel\"},\"line_cap\":{\"type\":\"value\",\"value\":\"butt\"},\"line_dash\":{\"type\":\"value\",\"value\":[]},\"line_dash_offset\":{\"type\":\"value\",\"value\":0}}},\"nonselection_glyph\":{\"type\":\"object\",\"name\":\"Segment\",\"id\":\"p1497\",\"attributes\":{\"x0\":{\"type\":\"field\",\"field\":\"y0\"},\"y0\":{\"type\":\"field\",\"field\":\"x0\"},\"x1\":{\"type\":\"field\",\"field\":\"y1\"},\"y1\":{\"type\":\"field\",\"field\":\"x1\"},\"line_alpha\":{\"type\":\"value\",\"value\":0.1}}},\"muted_glyph\":{\"type\":\"object\",\"name\":\"Segment\",\"id\":\"p1498\",\"attributes\":{\"x0\":{\"type\":\"field\",\"field\":\"y0\"},\"y0\":{\"type\":\"field\",\"field\":\"x0\"},\"x1\":{\"type\":\"field\",\"field\":\"y1\"},\"y1\":{\"type\":\"field\",\"field\":\"x1\"},\"line_alpha\":{\"type\":\"value\",\"value\":0.2}}}}},{\"type\":\"object\",\"name\":\"GlyphRenderer\",\"id\":\"p1516\",\"attributes\":{\"name\":\"color\",\"data_source\":{\"type\":\"object\",\"name\":\"ColumnDataSource\",\"id\":\"p1505\",\"attributes\":{\"selected\":{\"type\":\"object\",\"name\":\"Selection\",\"id\":\"p1506\",\"attributes\":{\"indices\":[],\"line_indices\":[]}},\"selection_policy\":{\"type\":\"object\",\"name\":\"UnionRenderers\",\"id\":\"p1507\"},\"data\":{\"type\":\"map\",\"entries\":[[\"label\",[\"JON-AB\\nJO-15\\\" (n = 6)\",\"JON-AB\\nJO-15\\\" (n = 6)\",\"JON-AB\\nJO-15\\\" (n = 6)\",\"JON-AB\\nJO-15\\\" (n = 6)\",\"JON-AB\\nJO-15\\\" (n = 6)\"]],[\"FinalEvent\",{\"type\":\"ndarray\",\"array\":{\"type\":\"bytes\",\"data\":\"EAAAAAIAAAADAAAABAAAAAcAAAA=\"},\"shape\":[5],\"dtype\":\"int32\",\"order\":\"little\"}],[\"Date\",[\"231121\",\"231121\",\"231121\",\"231121\",\"231121\"]],[\"Genotype\",[\"TNTxG53\",\"TNTxG53\",\"TNTxG53\",\"TNTxG53\",\"TNTxG53\"]],[\"Period\",[\"PM15\",\"PM15\",\"PM15\",\"PM15\",\"PM15\"]],[\"FeedingState\",[\"starved_noWater\",\"starved_noWater\",\"starved_noWater\",\"starved_noWater\",\"starved_noWater\"]],[\"Orientation\",[\"std\",\"std\",\"std\",\"std\",\"std\"]],[\"Light\",[\"on\",\"on\",\"on\",\"on\",\"on\"]],[\"Crossing\",[\"1\",\"1\",\"1\",\"1\",\"1\"]],[\"fly\",[\"231121_TNT_Fine_2_Videos_Tracked_arena2_corridor5\",\"231121_TNT_Fine_2_Videos_Tracked_arena2_corridor1\",\"231121_TNT_Fine_2_Videos_Tracked_arena2_corridor4\",\"231121_TNT_Fine_2_Videos_Tracked_arena2_corridor6\",\"231121_TNT_Fine_2_Videos_Tracked_arena2_corridor3\"]],[\"color\",[\"JON-AB\\nJO-15\\\" (n = 6)\",\"JON-AB\\nJO-15\\\" (n = 6)\",\"JON-AB\\nJO-15\\\" (n = 6)\",\"JON-AB\\nJO-15\\\" (n = 6)\",\"JON-AB\\nJO-15\\\" (n = 6)\"]]]}}},\"view\":{\"type\":\"object\",\"name\":\"CDSView\",\"id\":\"p1517\",\"attributes\":{\"filter\":{\"type\":\"object\",\"name\":\"AllIndices\",\"id\":\"p1518\"}}},\"glyph\":{\"type\":\"object\",\"name\":\"Scatter\",\"id\":\"p1511\",\"attributes\":{\"tags\":[\"apply_ranges\"],\"x\":{\"type\":\"field\",\"field\":\"FinalEvent\"},\"y\":{\"type\":\"field\",\"field\":\"label\",\"transform\":{\"type\":\"object\",\"name\":\"Jitter\",\"id\":\"p1549\",\"attributes\":{\"width\":0.3,\"range\":{\"id\":\"p1372\"}}}},\"size\":{\"type\":\"value\",\"value\":6},\"line_color\":{\"type\":\"field\",\"field\":\"color\",\"transform\":{\"type\":\"object\",\"name\":\"CategoricalColorMapper\",\"id\":\"p1504\",\"attributes\":{\"palette\":[\"#1f77b4\"],\"factors\":[\"JON-AB\\nJO-15\\\" (n = 6)\"]}}},\"line_alpha\":{\"type\":\"value\",\"value\":0.5},\"fill_color\":{\"type\":\"field\",\"field\":\"color\",\"transform\":{\"id\":\"p1504\"}},\"fill_alpha\":{\"type\":\"value\",\"value\":0.5},\"hatch_color\":{\"type\":\"field\",\"field\":\"color\",\"transform\":{\"id\":\"p1504\"}},\"hatch_alpha\":{\"type\":\"value\",\"value\":0.5}}},\"selection_glyph\":{\"type\":\"object\",\"name\":\"Scatter\",\"id\":\"p1513\",\"attributes\":{\"tags\":[\"apply_ranges\"],\"x\":{\"type\":\"field\",\"field\":\"FinalEvent\"},\"y\":{\"type\":\"field\",\"field\":\"label\",\"transform\":{\"id\":\"p1549\"}},\"size\":{\"type\":\"value\",\"value\":6},\"line_color\":{\"type\":\"field\",\"field\":\"color\",\"transform\":{\"id\":\"p1504\"}},\"line_alpha\":{\"type\":\"value\",\"value\":0.5},\"fill_color\":{\"type\":\"field\",\"field\":\"color\",\"transform\":{\"id\":\"p1504\"}},\"fill_alpha\":{\"type\":\"value\",\"value\":0.5},\"hatch_color\":{\"type\":\"field\",\"field\":\"color\",\"transform\":{\"id\":\"p1504\"}},\"hatch_alpha\":{\"type\":\"value\",\"value\":0.5}}},\"nonselection_glyph\":{\"type\":\"object\",\"name\":\"Scatter\",\"id\":\"p1512\",\"attributes\":{\"tags\":[\"apply_ranges\"],\"x\":{\"type\":\"field\",\"field\":\"FinalEvent\"},\"y\":{\"type\":\"field\",\"field\":\"label\",\"transform\":{\"id\":\"p1549\"}},\"size\":{\"type\":\"value\",\"value\":6},\"line_color\":{\"type\":\"field\",\"field\":\"color\",\"transform\":{\"id\":\"p1504\"}},\"line_alpha\":{\"type\":\"value\",\"value\":0.5},\"fill_color\":{\"type\":\"field\",\"field\":\"color\",\"transform\":{\"id\":\"p1504\"}},\"fill_alpha\":{\"type\":\"value\",\"value\":0.5},\"hatch_color\":{\"type\":\"field\",\"field\":\"color\",\"transform\":{\"id\":\"p1504\"}},\"hatch_alpha\":{\"type\":\"value\",\"value\":0.1}}},\"hover_glyph\":{\"type\":\"object\",\"name\":\"Scatter\",\"id\":\"p1514\",\"attributes\":{\"tags\":[\"apply_ranges\"],\"x\":{\"type\":\"field\",\"field\":\"FinalEvent\"},\"y\":{\"type\":\"field\",\"field\":\"label\",\"transform\":{\"id\":\"p1549\"}},\"size\":{\"type\":\"value\",\"value\":6},\"line_color\":{\"type\":\"field\",\"field\":\"color\",\"transform\":{\"id\":\"p1504\"}},\"line_alpha\":{\"type\":\"value\",\"value\":0.5},\"fill_color\":{\"type\":\"field\",\"field\":\"color\",\"transform\":{\"id\":\"p1504\"}},\"fill_alpha\":{\"type\":\"value\",\"value\":0.5},\"hatch_color\":{\"type\":\"field\",\"field\":\"color\",\"transform\":{\"id\":\"p1504\"}},\"hatch_alpha\":{\"type\":\"value\",\"value\":0.5}}},\"muted_glyph\":{\"type\":\"object\",\"name\":\"Scatter\",\"id\":\"p1515\",\"attributes\":{\"tags\":[\"apply_ranges\"],\"x\":{\"type\":\"field\",\"field\":\"FinalEvent\"},\"y\":{\"type\":\"field\",\"field\":\"label\",\"transform\":{\"id\":\"p1549\"}},\"size\":{\"type\":\"value\",\"value\":6},\"line_color\":{\"type\":\"field\",\"field\":\"color\",\"transform\":{\"id\":\"p1504\"}},\"line_alpha\":{\"type\":\"value\",\"value\":0.2},\"fill_color\":{\"type\":\"field\",\"field\":\"color\",\"transform\":{\"id\":\"p1504\"}},\"fill_alpha\":{\"type\":\"value\",\"value\":0.2},\"hatch_color\":{\"type\":\"field\",\"field\":\"color\",\"transform\":{\"id\":\"p1504\"}},\"hatch_alpha\":{\"type\":\"value\",\"value\":0.2}}}}}],\"toolbar\":{\"type\":\"object\",\"name\":\"Toolbar\",\"id\":\"p1390\",\"attributes\":{\"tools\":[{\"type\":\"object\",\"name\":\"WheelZoomTool\",\"id\":\"p1376\",\"attributes\":{\"tags\":[\"hv_created\"],\"renderers\":\"auto\",\"zoom_together\":\"none\"}},{\"type\":\"object\",\"name\":\"HoverTool\",\"id\":\"p1379\",\"attributes\":{\"renderers\":[{\"id\":\"p1516\"}],\"tooltips\":[[\"Fly\",\"@fly\"],[\"Finalevent\",\"@FinalEvent\"],[\"Date\",\"@Date\"],[\"Genotype\",\"@Genotype\"],[\"Period\",\"@Period\"],[\"Feedingstate\",\"@FeedingState\"],[\"Orientation\",\"@Orientation\"],[\"Light\",\"@Light\"],[\"Crossing\",\"@Crossing\"]]}},{\"type\":\"object\",\"name\":\"TapTool\",\"id\":\"p1380\",\"attributes\":{\"renderers\":\"auto\",\"callback\":{\"type\":\"object\",\"name\":\"CustomJS\",\"id\":\"p1007\",\"attributes\":{\"args\":{\"type\":\"map\",\"entries\":[[\"source\",{\"type\":\"ndarray\",\"array\":[51,11,40.41379310344828,3,1,65.51724137931035,2836.2413793103447,3,0,\"231121_TNT_Fine_1_Videos_Tracked_arena2_corridor5\",\"/mnt/labserver/DURRIEU_Matthias/Experimental_data/MultiMazeRecorder/Videos/231121_TNT_Fine_1_Videos_Tracked/arena2/corridor5\",\"231121_TNT_Fine_1_Videos_Tracked\",\"KC-\\u03b1/\\u03b2c-GaL4\",\"MB\",\"231121\",\"TNTxG78\",\"PM14\",\"starved_noWater\",\"std\",\"on\",\"1\",6,\"KC-\\u03b1/\\u03b2c-GaL4 (n = 6)\",40,26,18.20689655172414,3,7,1098.2068965517242,3232.344827586207,3,0,\"231121_TNT_Fine_1_Videos_Tracked_arena2_corridor1\",\"/mnt/labserver/DURRIEU_Matthias/Experimental_data/MultiMazeRecorder/Videos/231121_TNT_Fine_1_Videos_Tracked/arena2/corridor1\",\"231121_TNT_Fine_1_Videos_Tracked\",\"KC-\\u03b1/\\u03b2c-GaL4\",\"MB\",\"231121\",\"TNTxG78\",\"PM14\",\"starved_noWater\",\"std\",\"on\",\"1\",6,\"KC-\\u03b1/\\u03b2c-GaL4 (n = 6)\",58,9,23.896551724137932,8,1,61.10344827586207,2817.4137931034484,8,0,\"231121_TNT_Fine_1_Videos_Tracked_arena2_corridor4\",\"/mnt/labserver/DURRIEU_Matthias/Experimental_data/MultiMazeRecorder/Videos/231121_TNT_Fine_1_Videos_Tracked/arena2/corridor4\",\"231121_TNT_Fine_1_Videos_Tracked\",\"KC-\\u03b1/\\u03b2c-GaL4\",\"MB\",\"231121\",\"TNTxG78\",\"PM14\",\"starved_noWater\",\"std\",\"on\",\"1\",6,\"KC-\\u03b1/\\u03b2c-GaL4 (n = 6)\",33,3,58.827586206896555,4,0,30.96551724137931,3167.689655172414,4,0,\"231121_TNT_Fine_1_Videos_Tracked_arena2_corridor2\",\"/mnt/labserver/DURRIEU_Matthias/Experimental_data/MultiMazeRecorder/Videos/231121_TNT_Fine_1_Videos_Tracked/arena2/corridor2\",\"231121_TNT_Fine_1_Videos_Tracked\",\"KC-\\u03b1/\\u03b2c-GaL4\",\"MB\",\"231121\",\"TNTxG78\",\"PM14\",\"starved_noWater\",\"std\",\"on\",\"1\",6,\"KC-\\u03b1/\\u03b2c-GaL4 (n = 6)\",82,1,57.86206896551724,2,0,60.06896551724138,1829.2758620689656,2,0,\"231121_TNT_Fine_1_Videos_Tracked_arena2_corridor6\",\"/mnt/labserver/DURRIEU_Matthias/Experimental_data/MultiMazeRecorder/Videos/231121_TNT_Fine_1_Videos_Tracked/arena2/corridor6\",\"231121_TNT_Fine_1_Videos_Tracked\",\"KC-\\u03b1/\\u03b2c-GaL4\",\"MB\",\"231121\",\"TNTxG78\",\"PM14\",\"starved_noWater\",\"std\",\"on\",\"1\",6,\"KC-\\u03b1/\\u03b2c-GaL4 (n = 6)\",55,16,19.413793103448278,5,2,716.1379310344828,3176.5172413793102,5,0,\"231121_TNT_Fine_1_Videos_Tracked_arena2_corridor3\",\"/mnt/labserver/DURRIEU_Matthias/Experimental_data/MultiMazeRecorder/Videos/231121_TNT_Fine_1_Videos_Tracked/arena2/corridor3\",\"231121_TNT_Fine_1_Videos_Tracked\",\"KC-\\u03b1/\\u03b2c-GaL4\",\"MB\",\"231121\",\"TNTxG78\",\"PM14\",\"starved_noWater\",\"std\",\"on\",\"1\",6,\"KC-\\u03b1/\\u03b2c-GaL4 (n = 6)\",15,2,98.72413793103448,14,0,129.3448275862069,560.0689655172414,9,5,\"231121_TNT_Fine_1_Videos_Tracked_arena7_corridor5\",\"/mnt/labserver/DURRIEU_Matthias/Experimental_data/MultiMazeRecorder/Videos/231121_TNT_Fine_1_Videos_Tracked/arena7/corridor5\",\"231121_TNT_Fine_1_Videos_Tracked\",\"72D07-GAL4\",\"Vision\",\"231121\",\"TNTxG74\",\"PM14\",\"starved_noWater\",\"std\",\"on\",\"1\",6,\"72D07-GAL4 (n = 6)\",11,0,93.44827586206897,8,0,78.75862068965517,154.44827586206895,5,3,\"231121_TNT_Fine_1_Videos_Tracked_arena7_corridor1\",\"/mnt/labserver/DURRIEU_Matthias/Experimental_data/MultiMazeRecorder/Videos/231121_TNT_Fine_1_Videos_Tracked/arena7/corridor1\",\"231121_TNT_Fine_1_Videos_Tracked\",\"72D07-GAL4\",\"Vision\",\"231121\",\"TNTxG74\",\"PM14\",\"starved_noWater\",\"std\",\"on\",\"1\",6,\"72D07-GAL4 (n = 6)\",33,12,124.06896551724138,14,0,67.03448275862068,1392.8275862068965,9,5,\"231121_TNT_Fine_1_Videos_Tracked_arena7_corridor4\",\"/mnt/labserver/DURRIEU_Matthias/Experimental_data/MultiMazeRecorder/Videos/231121_TNT_Fine_1_Videos_Tracked/arena7/corridor4\",\"231121_TNT_Fine_1_Videos_Tracked\",\"72D07-GAL4\",\"Vision\",\"231121\",\"TNTxG74\",\"PM14\",\"starved_noWater\",\"std\",\"on\",\"1\",6,\"72D07-GAL4 (n = 6)\",20,0,95.96551724137932,12,0,864.9655172413793,2038.6206896551723,6,6,\"231121_TNT_Fine_1_Videos_Tracked_arena7_corridor2\",\"/mnt/labserver/DURRIEU_Matthias/Experimental_data/MultiMazeRecorder/Videos/231121_TNT_Fine_1_Videos_Tracked/arena7/corridor2\",\"231121_TNT_Fine_1_Videos_Tracked\",\"72D07-GAL4\",\"Vision\",\"231121\",\"TNTxG74\",\"PM14\",\"starved_noWater\",\"std\",\"on\",\"1\",6,\"72D07-GAL4 (n = 6)\",33,9,22.344827586206897,12,0,154.58620689655172,2776.689655172414,9,3,\"231121_TNT_Fine_1_Videos_Tracked_arena7_corridor6\",\"/mnt/labserver/DURRIEU_Matthias/Experimental_data/MultiMazeRecorder/Videos/231121_TNT_Fine_1_Videos_Tracked/arena7/corridor6\",\"231121_TNT_Fine_1_Videos_Tracked\",\"72D07-GAL4\",\"Vision\",\"231121\",\"TNTxG74\",\"PM14\",\"starved_noWater\",\"std\",\"on\",\"1\",6,\"72D07-GAL4 (n = 6)\",1,0,3384.551724137931,1,0,215.48275862068965,215.51724137931035,1,0,\"231121_TNT_Fine_1_Videos_Tracked_arena7_corridor3\",\"/mnt/labserver/DURRIEU_Matthias/Experimental_data/MultiMazeRecorder/Videos/231121_TNT_Fine_1_Videos_Tracked/arena7/corridor3\",\"231121_TNT_Fine_1_Videos_Tracked\",\"72D07-GAL4\",\"Vision\",\"231121\",\"TNTxG74\",\"PM14\",\"starved_noWater\",\"std\",\"on\",\"1\",6,\"72D07-GAL4 (n = 6)\",60,4,17.689655172413794,10,3,403.2758620689655,2615.0,9,1,\"231121_TNT_Fine_1_Videos_Tracked_arena6_corridor5\",\"/mnt/labserver/DURRIEU_Matthias/Experimental_data/MultiMazeRecorder/Videos/231121_TNT_Fine_1_Videos_Tracked/arena6/corridor5\",\"231121_TNT_Fine_1_Videos_Tracked\",\"KC-\\u03b3main-GaL4\",\"MB\",\"231121\",\"TNTxG81\",\"PM14\",\"starved_noWater\",\"std\",\"on\",\"1\",6,\"KC-\\u03b3main-GaL4 (n = 6)\",55,9,31.24137931034483,14,0,48.689655172413794,2697.206896551724,11,3,\"231121_TNT_Fine_1_Videos_Tracked_arena6_corridor1\",\"/mnt/labserver/DURRIEU_Matthias/Experimental_data/MultiMazeRecorder/Videos/231121_TNT_Fine_1_Videos_Tracked/arena6/corridor1\",\"231121_TNT_Fine_1_Videos_Tracked\",\"KC-\\u03b3main-GaL4\",\"MB\",\"231121\",\"TNTxG81\",\"PM14\",\"starved_noWater\",\"std\",\"on\",\"1\",6,\"KC-\\u03b3main-GaL4 (n = 6)\",22,7,16.103448275862068,6,4,663.8620689655172,3391.551724137931,6,0,\"231121_TNT_Fine_1_Videos_Tracked_arena6_corridor4\",\"/mnt/labserver/DURRIEU_Matthias/Experimental_data/MultiMazeRecorder/Videos/231121_TNT_Fine_1_Videos_Tracked/arena6/corridor4\",\"231121_TNT_Fine_1_Videos_Tracked\",\"KC-\\u03b3main-GaL4\",\"MB\",\"231121\",\"TNTxG81\",\"PM14\",\"starved_noWater\",\"std\",\"on\",\"1\",6,\"KC-\\u03b3main-GaL4 (n = 6)\",43,2,25.517241379310345,5,1,215.82758620689654,2499.344827586207,5,0,\"231121_TNT_Fine_1_Videos_Tracked_arena6_corridor2\",\"/mnt/labserver/DURRIEU_Matthias/Experimental_data/MultiMazeRecorder/Videos/231121_TNT_Fine_1_Videos_Tracked/arena6/corridor2\",\"231121_TNT_Fine_1_Videos_Tracked\",\"KC-\\u03b3main-GaL4\",\"MB\",\"231121\",\"TNTxG81\",\"PM14\",\"starved_noWater\",\"std\",\"on\",\"1\",6,\"KC-\\u03b3main-GaL4 (n = 6)\",25,5,3.206896551724138,7,2,2122.2413793103447,3342.551724137931,7,0,\"231121_TNT_Fine_1_Videos_Tracked_arena6_corridor6\",\"/mnt/labserver/DURRIEU_Matthias/Experimental_data/MultiMazeRecorder/Videos/231121_TNT_Fine_1_Videos_Tracked/arena6/corridor6\",\"231121_TNT_Fine_1_Videos_Tracked\",\"KC-\\u03b3main-GaL4\",\"MB\",\"231121\",\"TNTxG81\",\"PM14\",\"starved_noWater\",\"std\",\"on\",\"1\",6,\"KC-\\u03b3main-GaL4 (n = 6)\",18,5,15.03448275862069,9,0,111.55172413793103,3419.551724137931,9,0,\"231121_TNT_Fine_1_Videos_Tracked_arena6_corridor3\",\"/mnt/labserver/DURRIEU_Matthias/Experimental_data/MultiMazeRecorder/Videos/231121_TNT_Fine_1_Videos_Tracked/arena6/corridor3\",\"231121_TNT_Fine_1_Videos_Tracked\",\"KC-\\u03b3main-GaL4\",\"MB\",\"231121\",\"TNTxG81\",\"PM14\",\"starved_noWater\",\"std\",\"on\",\"1\",6,\"KC-\\u03b3main-GaL4 (n = 6)\",69,3,29.06896551724138,8,1,509.17241379310343,2787.448275862069,4,4,\"231121_TNT_Fine_1_Videos_Tracked_arena5_corridor5\",\"/mnt/labserver/DURRIEU_Matthias/Experimental_data/MultiMazeRecorder/Videos/231121_TNT_Fine_1_Videos_Tracked/arena5/corridor5\",\"231121_TNT_Fine_1_Videos_Tracked\",\"LC26\",\"Vision\",\"231121\",\"TNTxG71\",\"PM14\",\"starved_noWater\",\"std\",\"on\",\"1\",6,\"LC26 (n = 6)\",23,16,4.206896551724138,4,0,1675.655172413793,3468.137931034483,4,0,\"231121_TNT_Fine_1_Videos_Tracked_arena5_corridor1\",\"/mnt/labserver/DURRIEU_Matthias/Experimental_data/MultiMazeRecorder/Videos/231121_TNT_Fine_1_Videos_Tracked/arena5/corridor1\",\"231121_TNT_Fine_1_Videos_Tracked\",\"LC26\",\"Vision\",\"231121\",\"TNTxG71\",\"PM14\",\"starved_noWater\",\"std\",\"on\",\"1\",6,\"LC26 (n = 6)\",14,3,45.96551724137931,4,0,538.0689655172414,3460.5172413793102,2,2,\"231121_TNT_Fine_1_Videos_Tracked_arena5_corridor4\",\"/mnt/labserver/DURRIEU_Matthias/Experimental_data/MultiMazeRecorder/Videos/231121_TNT_Fine_1_Videos_Tracked/arena5/corridor4\",\"231121_TNT_Fine_1_Videos_Tracked\",\"LC26\",\"Vision\",\"231121\",\"TNTxG71\",\"PM14\",\"starved_noWater\",\"std\",\"on\",\"1\",6,\"LC26 (n = 6)\",31,11,17.93103448275862,3,3,796.0344827586207,3361.896551724138,3,0,\"231121_TNT_Fine_1_Videos_Tracked_arena5_corridor6\",\"/mnt/labserver/DURRIEU_Matthias/Experimental_data/MultiMazeRecorder/Videos/231121_TNT_Fine_1_Videos_Tracked/arena5/corridor6\",\"231121_TNT_Fine_1_Videos_Tracked\",\"LC26\",\"Vision\",\"231121\",\"TNTxG71\",\"PM14\",\"starved_noWater\",\"std\",\"on\",\"1\",6,\"LC26 (n = 6)\",36,35,9.344827586206897,3,1,289.0689655172414,3353.0689655172414,3,0,\"231121_TNT_Fine_1_Videos_Tracked_arena5_corridor3\",\"/mnt/labserver/DURRIEU_Matthias/Experimental_data/MultiMazeRecorder/Videos/231121_TNT_Fine_1_Videos_Tracked/arena5/corridor3\",\"231121_TNT_Fine_1_Videos_Tracked\",\"LC26\",\"Vision\",\"231121\",\"TNTxG71\",\"PM14\",\"starved_noWater\",\"std\",\"on\",\"1\",6,\"LC26 (n = 6)\",6,5,11.068965517241379,3,3,2672.4827586206898,3542.448275862069,3,0,\"231121_TNT_Fine_1_Videos_Tracked_arena8_corridor5\",\"/mnt/labserver/DURRIEU_Matthias/Experimental_data/MultiMazeRecorder/Videos/231121_TNT_Fine_1_Videos_Tracked/arena8/corridor5\",\"231121_TNT_Fine_1_Videos_Tracked\",\"20G07-GAL4\",\"Vision\",\"231121\",\"TNTxG76\",\"PM14\",\"starved_noWater\",\"std\",\"on\",\"1\",6,\"20G07-GAL4 (n = 6)\",9,8,2.310344827586207,4,3,1183.2758620689656,3534.5172413793102,3,1,\"231121_TNT_Fine_1_Videos_Tracked_arena8_corridor1\",\"/mnt/labserver/DURRIEU_Matthias/Experimental_data/MultiMazeRecorder/Videos/231121_TNT_Fine_1_Videos_Tracked/arena8/corridor1\",\"231121_TNT_Fine_1_Videos_Tracked\",\"20G07-GAL4\",\"Vision\",\"231121\",\"TNTxG76\",\"PM14\",\"starved_noWater\",\"std\",\"on\",\"1\",6,\"20G07-GAL4 (n = 6)\",19,7,33.724137931034484,4,3,435.41379310344826,3339.896551724138,3,1,\"231121_TNT_Fine_1_Videos_Tracked_arena8_corridor4\",\"/mnt/labserver/DURRIEU_Matthias/Experimental_data/MultiMazeRecorder/Videos/231121_TNT_Fine_1_Videos_Tracked/arena8/corridor4\",\"231121_TNT_Fine_1_Videos_Tracked\",\"20G07-GAL4\",\"Vision\",\"231121\",\"TNTxG76\",\"PM14\",\"starved_noWater\",\"std\",\"on\",\"1\",6,\"20G07-GAL4 (n = 6)\",1,0,39.0,1,0,3518.9310344827586,3561.0689655172414,1,0,\"231121_TNT_Fine_1_Videos_Tracked_arena8_corridor2\",\"/mnt/labserver/DURRIEU_Matthias/Experimental_data/MultiMazeRecorder/Videos/231121_TNT_Fine_1_Videos_Tracked/arena8/corridor2\",\"231121_TNT_Fine_1_Videos_Tracked\",\"20G07-GAL4\",\"Vision\",\"231121\",\"TNTxG76\",\"PM14\",\"starved_noWater\",\"std\",\"on\",\"1\",6,\"20G07-GAL4 (n = 6)\",20,15,8.931034482758621,8,5,756.1379310344828,3274.448275862069,7,1,\"231121_TNT_Fine_1_Videos_Tracked_arena8_corridor3\",\"/mnt/labserver/DURRIEU_Matthias/Experimental_data/MultiMazeRecorder/Videos/231121_TNT_Fine_1_Videos_Tracked/arena8/corridor3\",\"231121_TNT_Fine_1_Videos_Tracked\",\"20G07-GAL4\",\"Vision\",\"231121\",\"TNTxG76\",\"PM14\",\"starved_noWater\",\"std\",\"on\",\"1\",6,\"20G07-GAL4 (n = 6)\",90,29,27.0,18,0,26.20689655172414,1627.2413793103449,13,5,\"231121_TNT_Fine_1_Videos_Tracked_arena3_corridor5\",\"/mnt/labserver/DURRIEU_Matthias/Experimental_data/MultiMazeRecorder/Videos/231121_TNT_Fine_1_Videos_Tracked/arena3/corridor5\",\"231121_TNT_Fine_1_Videos_Tracked\",\"44H11-GAL4\",\"Vision\",\"231121\",\"TNTxG75\",\"PM14\",\"starved_noWater\",\"std\",\"on\",\"1\",6,\"44H11-GAL4 (n = 6)\",91,2,34.241379310344826,4,0,25.724137931034484,1259.3103448275863,3,1,\"231121_TNT_Fine_1_Videos_Tracked_arena3_corridor1\",\"/mnt/labserver/DURRIEU_Matthias/Experimental_data/MultiMazeRecorder/Videos/231121_TNT_Fine_1_Videos_Tracked/arena3/corridor1\",\"231121_TNT_Fine_1_Videos_Tracked\",\"44H11-GAL4\",\"Vision\",\"231121\",\"TNTxG75\",\"PM14\",\"starved_noWater\",\"std\",\"on\",\"1\",6,\"44H11-GAL4 (n = 6)\",74,1,30.655172413793103,17,1,35.241379310344826,2279.9310344827586,11,6,\"231121_TNT_Fine_1_Videos_Tracked_arena3_corridor4\",\"/mnt/labserver/DURRIEU_Matthias/Experimental_data/MultiMazeRecorder/Videos/231121_TNT_Fine_1_Videos_Tracked/arena3/corridor4\",\"231121_TNT_Fine_1_Videos_Tracked\",\"44H11-GAL4\",\"Vision\",\"231121\",\"TNTxG75\",\"PM14\",\"starved_noWater\",\"std\",\"on\",\"1\",6,\"44H11-GAL4 (n = 6)\",14,10,17.896551724137932,3,4,255.79310344827587,3512.310344827586,2,1,\"231121_TNT_Fine_1_Videos_Tracked_arena3_corridor2\",\"/mnt/labserver/DURRIEU_Matthias/Experimental_data/MultiMazeRecorder/Videos/231121_TNT_Fine_1_Videos_Tracked/arena3/corridor2\",\"231121_TNT_Fine_1_Videos_Tracked\",\"44H11-GAL4\",\"Vision\",\"231121\",\"TNTxG75\",\"PM14\",\"starved_noWater\",\"std\",\"on\",\"1\",6,\"44H11-GAL4 (n = 6)\",18,10,35.06896551724138,4,4,1519.7586206896551,3375.137931034483,4,0,\"231121_TNT_Fine_1_Videos_Tracked_arena3_corridor6\",\"/mnt/labserver/DURRIEU_Matthias/Experimental_data/MultiMazeRecorder/Videos/231121_TNT_Fine_1_Videos_Tracked/arena3/corridor6\",\"231121_TNT_Fine_1_Videos_Tracked\",\"44H11-GAL4\",\"Vision\",\"231121\",\"TNTxG75\",\"PM14\",\"starved_noWater\",\"std\",\"on\",\"1\",6,\"44H11-GAL4 (n = 6)\",47,21,24.448275862068964,14,0,633.448275862069,3123.4137931034484,12,2,\"231121_TNT_Fine_1_Videos_Tracked_arena3_corridor3\",\"/mnt/labserver/DURRIEU_Matthias/Experimental_data/MultiMazeRecorder/Videos/231121_TNT_Fine_1_Videos_Tracked/arena3/corridor3\",\"231121_TNT_Fine_1_Videos_Tracked\",\"44H11-GAL4\",\"Vision\",\"231121\",\"TNTxG75\",\"PM14\",\"starved_noWater\",\"std\",\"on\",\"1\",6,\"44H11-GAL4 (n = 6)\",37,15,31.862068965517242,12,1,949.8620689655172,3192.0344827586205,9,3,\"231121_TNT_Fine_1_Videos_Tracked_arena4_corridor5\",\"/mnt/labserver/DURRIEU_Matthias/Experimental_data/MultiMazeRecorder/Videos/231121_TNT_Fine_1_Videos_Tracked/arena4/corridor5\",\"231121_TNT_Fine_1_Videos_Tracked\",\"KC-\\u03b3d-GaL4\",\"MB\",\"231121\",\"TNTxG79\",\"PM14\",\"starved_noWater\",\"std\",\"on\",\"1\",6,\"KC-\\u03b3d-GaL4 (n = 6)\",16,11,39.241379310344826,4,5,2164.206896551724,3421.2758620689656,4,0,\"231121_TNT_Fine_1_Videos_Tracked_arena4_corridor1\",\"/mnt/labserver/DURRIEU_Matthias/Experimental_data/MultiMazeRecorder/Videos/231121_TNT_Fine_1_Videos_Tracked/arena4/corridor1\",\"231121_TNT_Fine_1_Videos_Tracked\",\"KC-\\u03b3d-GaL4\",\"MB\",\"231121\",\"TNTxG79\",\"PM14\",\"starved_noWater\",\"std\",\"on\",\"1\",6,\"KC-\\u03b3d-GaL4 (n = 6)\",70,2,10.172413793103448,9,0,354.7241379310345,2737.5862068965516,8,1,\"231121_TNT_Fine_1_Videos_Tracked_arena4_corridor4\",\"/mnt/labserver/DURRIEU_Matthias/Experimental_data/MultiMazeRecorder/Videos/231121_TNT_Fine_1_Videos_Tracked/arena4/corridor4\",\"231121_TNT_Fine_1_Videos_Tracked\",\"KC-\\u03b3d-GaL4\",\"MB\",\"231121\",\"TNTxG79\",\"PM14\",\"starved_noWater\",\"std\",\"on\",\"1\",6,\"KC-\\u03b3d-GaL4 (n = 6)\",52,11,2.586206896551724,9,1,282.58620689655174,3215.344827586207,6,3,\"231121_TNT_Fine_1_Videos_Tracked_arena4_corridor2\",\"/mnt/labserver/DURRIEU_Matthias/Experimental_data/MultiMazeRecorder/Videos/231121_TNT_Fine_1_Videos_Tracked/arena4/corridor2\",\"231121_TNT_Fine_1_Videos_Tracked\",\"KC-\\u03b3d-GaL4\",\"MB\",\"231121\",\"TNTxG79\",\"PM14\",\"starved_noWater\",\"std\",\"on\",\"1\",6,\"KC-\\u03b3d-GaL4 (n = 6)\",31,9,24.17241379310345,5,1,1076.9655172413793,3394.5172413793102,4,1,\"231121_TNT_Fine_1_Videos_Tracked_arena4_corridor6\",\"/mnt/labserver/DURRIEU_Matthias/Experimental_data/MultiMazeRecorder/Videos/231121_TNT_Fine_1_Videos_Tracked/arena4/corridor6\",\"231121_TNT_Fine_1_Videos_Tracked\",\"KC-\\u03b3d-GaL4\",\"MB\",\"231121\",\"TNTxG79\",\"PM14\",\"starved_noWater\",\"std\",\"on\",\"1\",6,\"KC-\\u03b3d-GaL4 (n = 6)\",62,1,28.379310344827587,11,1,725.5172413793103,2639.862068965517,7,4,\"231121_TNT_Fine_1_Videos_Tracked_arena4_corridor3\",\"/mnt/labserver/DURRIEU_Matthias/Experimental_data/MultiMazeRecorder/Videos/231121_TNT_Fine_1_Videos_Tracked/arena4/corridor3\",\"231121_TNT_Fine_1_Videos_Tracked\",\"KC-\\u03b3d-GaL4\",\"MB\",\"231121\",\"TNTxG79\",\"PM14\",\"starved_noWater\",\"std\",\"on\",\"1\",6,\"KC-\\u03b3d-GaL4 (n = 6)\",4,2,3.310344827586207,1,0,144.6206896551724,3573.344827586207,1,0,\"231121_TNT_Fine_1_Videos_Tracked_arena1_corridor5\",\"/mnt/labserver/DURRIEU_Matthias/Experimental_data/MultiMazeRecorder/Videos/231121_TNT_Fine_1_Videos_Tracked/arena1/corridor5\",\"231121_TNT_Fine_1_Videos_Tracked\",\"MBON-11-GaL4 (MBON-\\u03b31pedc>\\u03b1/\\u03b2)\",\"MB\",\"231121\",\"TNTxG80\",\"PM14\",\"starved_noWater\",\"std\",\"on\",\"1\",6,\"MBON-11-GaL4 (MBON-\\u03b31pedc>\\u03b1/\\u03b2) (n = 6)\",43,1,122.37931034482759,6,0,42.48275862068966,2884.862068965517,4,2,\"231121_TNT_Fine_1_Videos_Tracked_arena1_corridor1\",\"/mnt/labserver/DURRIEU_Matthias/Experimental_data/MultiMazeRecorder/Videos/231121_TNT_Fine_1_Videos_Tracked/arena1/corridor1\",\"231121_TNT_Fine_1_Videos_Tracked\",\"MBON-11-GaL4 (MBON-\\u03b31pedc>\\u03b1/\\u03b2)\",\"MB\",\"231121\",\"TNTxG80\",\"PM14\",\"starved_noWater\",\"std\",\"on\",\"1\",6,\"MBON-11-GaL4 (MBON-\\u03b31pedc>\\u03b1/\\u03b2) (n = 6)\",92,1,42.96551724137931,3,0,42.62068965517241,2712.448275862069,2,1,\"231121_TNT_Fine_1_Videos_Tracked_arena1_corridor4\",\"/mnt/labserver/DURRIEU_Matthias/Experimental_data/MultiMazeRecorder/Videos/231121_TNT_Fine_1_Videos_Tracked/arena1/corridor4\",\"231121_TNT_Fine_1_Videos_Tracked\",\"MBON-11-GaL4 (MBON-\\u03b31pedc>\\u03b1/\\u03b2)\",\"MB\",\"231121\",\"TNTxG80\",\"PM14\",\"starved_noWater\",\"std\",\"on\",\"1\",6,\"MBON-11-GaL4 (MBON-\\u03b31pedc>\\u03b1/\\u03b2) (n = 6)\",33,23,10.96551724137931,7,4,345.17241379310343,3315.344827586207,5,2,\"231121_TNT_Fine_1_Videos_Tracked_arena1_corridor2\",\"/mnt/labserver/DURRIEU_Matthias/Experimental_data/MultiMazeRecorder/Videos/231121_TNT_Fine_1_Videos_Tracked/arena1/corridor2\",\"231121_TNT_Fine_1_Videos_Tracked\",\"MBON-11-GaL4 (MBON-\\u03b31pedc>\\u03b1/\\u03b2)\",\"MB\",\"231121\",\"TNTxG80\",\"PM14\",\"starved_noWater\",\"std\",\"on\",\"1\",6,\"MBON-11-GaL4 (MBON-\\u03b31pedc>\\u03b1/\\u03b2) (n = 6)\",16,7,16.93103448275862,2,0,469.7241379310345,3460.7241379310344,2,0,\"231121_TNT_Fine_1_Videos_Tracked_arena1_corridor6\",\"/mnt/labserver/DURRIEU_Matthias/Experimental_data/MultiMazeRecorder/Videos/231121_TNT_Fine_1_Videos_Tracked/arena1/corridor6\",\"231121_TNT_Fine_1_Videos_Tracked\",\"MBON-11-GaL4 (MBON-\\u03b31pedc>\\u03b1/\\u03b2)\",\"MB\",\"231121\",\"TNTxG80\",\"PM14\",\"starved_noWater\",\"std\",\"on\",\"1\",6,\"MBON-11-GaL4 (MBON-\\u03b31pedc>\\u03b1/\\u03b2) (n = 6)\",14,7,13.10344827586207,3,0,109.62068965517241,3482.7586206896553,3,0,\"231121_TNT_Fine_1_Videos_Tracked_arena1_corridor3\",\"/mnt/labserver/DURRIEU_Matthias/Experimental_data/MultiMazeRecorder/Videos/231121_TNT_Fine_1_Videos_Tracked/arena1/corridor3\",\"231121_TNT_Fine_1_Videos_Tracked\",\"MBON-11-GaL4 (MBON-\\u03b31pedc>\\u03b1/\\u03b2)\",\"MB\",\"231121\",\"TNTxG80\",\"PM14\",\"starved_noWater\",\"std\",\"on\",\"1\",6,\"MBON-11-GaL4 (MBON-\\u03b31pedc>\\u03b1/\\u03b2) (n = 6)\",19,3,26.0,4,0,51.55172413793103,3336.551724137931,4,0,\"231121_TNT_Fine_1_Videos_Tracked_arena9_corridor5\",\"/mnt/labserver/DURRIEU_Matthias/Experimental_data/MultiMazeRecorder/Videos/231121_TNT_Fine_1_Videos_Tracked/arena9/corridor5\",\"231121_TNT_Fine_1_Videos_Tracked\",\"LPLC2\",\"Vision\",\"231121\",\"TNTxG72\",\"PM14\",\"starved_noWater\",\"std\",\"on\",\"1\",6,\"LPLC2 (n = 6)\",11,7,7.931034482758621,2,3,222.44827586206895,3525.7586206896553,2,0,\"231121_TNT_Fine_1_Videos_Tracked_arena9_corridor1\",\"/mnt/labserver/DURRIEU_Matthias/Experimental_data/MultiMazeRecorder/Videos/231121_TNT_Fine_1_Videos_Tracked/arena9/corridor1\",\"231121_TNT_Fine_1_Videos_Tracked\",\"LPLC2\",\"Vision\",\"231121\",\"TNTxG72\",\"PM14\",\"starved_noWater\",\"std\",\"on\",\"1\",6,\"LPLC2 (n = 6)\",9,1,8.551724137931034,1,0,62.44827586206897,3487.9655172413795,1,0,\"231121_TNT_Fine_1_Videos_Tracked_arena9_corridor4\",\"/mnt/labserver/DURRIEU_Matthias/Experimental_data/MultiMazeRecorder/Videos/231121_TNT_Fine_1_Videos_Tracked/arena9/corridor4\",\"231121_TNT_Fine_1_Videos_Tracked\",\"LPLC2\",\"Vision\",\"231121\",\"TNTxG72\",\"PM14\",\"starved_noWater\",\"std\",\"on\",\"1\",6,\"LPLC2 (n = 6)\",31,6,36.275862068965516,3,0,44.724137931034484,3273.5172413793102,3,0,\"231121_TNT_Fine_1_Videos_Tracked_arena9_corridor2\",\"/mnt/labserver/DURRIEU_Matthias/Experimental_data/MultiMazeRecorder/Videos/231121_TNT_Fine_1_Videos_Tracked/arena9/corridor2\",\"231121_TNT_Fine_1_Videos_Tracked\",\"LPLC2\",\"Vision\",\"231121\",\"TNTxG72\",\"PM14\",\"starved_noWater\",\"std\",\"on\",\"1\",6,\"LPLC2 (n = 6)\",24,2,23.862068965517242,4,0,186.0,3309.1724137931033,4,0,\"231121_TNT_Fine_1_Videos_Tracked_arena9_corridor6\",\"/mnt/labserver/DURRIEU_Matthias/Experimental_data/MultiMazeRecorder/Videos/231121_TNT_Fine_1_Videos_Tracked/arena9/corridor6\",\"231121_TNT_Fine_1_Videos_Tracked\",\"LPLC2\",\"Vision\",\"231121\",\"TNTxG72\",\"PM14\",\"starved_noWater\",\"std\",\"on\",\"1\",6,\"LPLC2 (n = 6)\",58,13,16.517241379310345,3,1,84.89655172413794,2992.5862068965516,3,0,\"231121_TNT_Fine_1_Videos_Tracked_arena9_corridor3\",\"/mnt/labserver/DURRIEU_Matthias/Experimental_data/MultiMazeRecorder/Videos/231121_TNT_Fine_1_Videos_Tracked/arena9/corridor3\",\"231121_TNT_Fine_1_Videos_Tracked\",\"LPLC2\",\"Vision\",\"231121\",\"TNTxG72\",\"PM14\",\"starved_noWater\",\"std\",\"on\",\"1\",6,\"LPLC2 (n = 6)\",54,16,15.551724137931034,11,4,438.3448275862069,3095.7241379310344,9,2,\"231121_TNT_Fine_2_Videos_Tracked_arena2_corridor5\",\"/mnt/labserver/DURRIEU_Matthias/Experimental_data/MultiMazeRecorder/Videos/231121_TNT_Fine_2_Videos_Tracked/arena2/corridor5\",\"231121_TNT_Fine_2_Videos_Tracked\",\"JON-AB\\nJO-15\\\"\",\"JON\",\"231121\",\"TNTxG53\",\"PM15\",\"starved_noWater\",\"std\",\"on\",\"1\",6,\"JON-AB\\nJO-15\\\" (n = 6)\",16,2,29.655172413793103,3,0,408.44827586206895,3431.2413793103447,3,0,\"231121_TNT_Fine_2_Videos_Tracked_arena2_corridor1\",\"/mnt/labserver/DURRIEU_Matthias/Experimental_data/MultiMazeRecorder/Videos/231121_TNT_Fine_2_Videos_Tracked/arena2/corridor1\",\"231121_TNT_Fine_2_Videos_Tracked\",\"JON-AB\\nJO-15\\\"\",\"JON\",\"231121\",\"TNTxG53\",\"PM15\",\"starved_noWater\",\"std\",\"on\",\"1\",6,\"JON-AB\\nJO-15\\\" (n = 6)\",5,3,8.379310344827585,4,0,1737.9655172413793,3565.4827586206898,4,0,\"231121_TNT_Fine_2_Videos_Tracked_arena2_corridor4\",\"/mnt/labserver/DURRIEU_Matthias/Experimental_data/MultiMazeRecorder/Videos/231121_TNT_Fine_2_Videos_Tracked/arena2/corridor4\",\"231121_TNT_Fine_2_Videos_Tracked\",\"JON-AB\\nJO-15\\\"\",\"JON\",\"231121\",\"TNTxG53\",\"PM15\",\"starved_noWater\",\"std\",\"on\",\"1\",6,\"JON-AB\\nJO-15\\\" (n = 6)\",29,4,17.20689655172414,3,2,234.27586206896552,3360.862068965517,3,0,\"231121_TNT_Fine_2_Videos_Tracked_arena2_corridor6\",\"/mnt/labserver/DURRIEU_Matthias/Experimental_data/MultiMazeRecorder/Videos/231121_TNT_Fine_2_Videos_Tracked/arena2/corridor6\",\"231121_TNT_Fine_2_Videos_Tracked\",\"JON-AB\\nJO-15\\\"\",\"JON\",\"231121\",\"TNTxG53\",\"PM15\",\"starved_noWater\",\"std\",\"on\",\"1\",6,\"JON-AB\\nJO-15\\\" (n = 6)\",16,7,12.275862068965518,4,0,178.72413793103448,3455.655172413793,3,1,\"231121_TNT_Fine_2_Videos_Tracked_arena2_corridor3\",\"/mnt/labserver/DURRIEU_Matthias/Experimental_data/MultiMazeRecorder/Videos/231121_TNT_Fine_2_Videos_Tracked/arena2/corridor3\",\"231121_TNT_Fine_2_Videos_Tracked\",\"JON-AB\\nJO-15\\\"\",\"JON\",\"231121\",\"TNTxG53\",\"PM15\",\"starved_noWater\",\"std\",\"on\",\"1\",6,\"JON-AB\\nJO-15\\\" (n = 6)\",25,11,30.310344827586206,5,0,227.86206896551724,3297.310344827586,5,0,\"231121_TNT_Fine_2_Videos_Tracked_arena7_corridor5\",\"/mnt/labserver/DURRIEU_Matthias/Experimental_data/MultiMazeRecorder/Videos/231121_TNT_Fine_2_Videos_Tracked/arena7/corridor5\",\"231121_TNT_Fine_2_Videos_Tracked\",\"LC6\",\"Vision\",\"231121\",\"TNTxG56\",\"PM15\",\"starved_noWater\",\"std\",\"on\",\"1\",6,\"LC6 (n = 6)\",52,6,6.586206896551724,6,1,181.51724137931035,2999.0689655172414,5,1,\"231121_TNT_Fine_2_Videos_Tracked_arena7_corridor1\",\"/mnt/labserver/DURRIEU_Matthias/Experimental_data/MultiMazeRecorder/Videos/231121_TNT_Fine_2_Videos_Tracked/arena7/corridor1\",\"231121_TNT_Fine_2_Videos_Tracked\",\"LC6\",\"Vision\",\"231121\",\"TNTxG56\",\"PM15\",\"starved_noWater\",\"std\",\"on\",\"1\",6,\"LC6 (n = 6)\",12,2,9.137931034482758,2,1,2331.0,3346.4137931034484,2,0,\"231121_TNT_Fine_2_Videos_Tracked_arena7_corridor4\",\"/mnt/labserver/DURRIEU_Matthias/Experimental_data/MultiMazeRecorder/Videos/231121_TNT_Fine_2_Videos_Tracked/arena7/corridor4\",\"231121_TNT_Fine_2_Videos_Tracked\",\"LC6\",\"Vision\",\"231121\",\"TNTxG56\",\"PM15\",\"starved_noWater\",\"std\",\"on\",\"1\",6,\"LC6 (n = 6)\",39,4,31.275862068965516,12,0,106.55172413793103,1791.448275862069,10,2,\"231121_TNT_Fine_2_Videos_Tracked_arena7_corridor2\",\"/mnt/labserver/DURRIEU_Matthias/Experimental_data/MultiMazeRecorder/Videos/231121_TNT_Fine_2_Videos_Tracked/arena7/corridor2\",\"231121_TNT_Fine_2_Videos_Tracked\",\"LC6\",\"Vision\",\"231121\",\"TNTxG56\",\"PM15\",\"starved_noWater\",\"std\",\"on\",\"1\",6,\"LC6 (n = 6)\",35,8,12.310344827586206,11,2,318.82758620689657,3118.4827586206898,9,2,\"231121_TNT_Fine_2_Videos_Tracked_arena7_corridor6\",\"/mnt/labserver/DURRIEU_Matthias/Experimental_data/MultiMazeRecorder/Videos/231121_TNT_Fine_2_Videos_Tracked/arena7/corridor6\",\"231121_TNT_Fine_2_Videos_Tracked\",\"LC6\",\"Vision\",\"231121\",\"TNTxG56\",\"PM15\",\"starved_noWater\",\"std\",\"on\",\"1\",6,\"LC6 (n = 6)\",41,1,2.413793103448276,3,0,26.20689655172414,2635.344827586207,2,1,\"231121_TNT_Fine_2_Videos_Tracked_arena7_corridor3\",\"/mnt/labserver/DURRIEU_Matthias/Experimental_data/MultiMazeRecorder/Videos/231121_TNT_Fine_2_Videos_Tracked/arena7/corridor3\",\"231121_TNT_Fine_2_Videos_Tracked\",\"LC6\",\"Vision\",\"231121\",\"TNTxG56\",\"PM15\",\"starved_noWater\",\"std\",\"on\",\"1\",6,\"LC6 (n = 6)\",12,1,20.448275862068964,2,0,745.7931034482758,3476.862068965517,2,0,\"231121_TNT_Fine_2_Videos_Tracked_arena6_corridor5\",\"/mnt/labserver/DURRIEU_Matthias/Experimental_data/MultiMazeRecorder/Videos/231121_TNT_Fine_2_Videos_Tracked/arena6/corridor5\",\"231121_TNT_Fine_2_Videos_Tracked\",\"LC4\",\"Vision\",\"231121\",\"TNTxG55\",\"PM15\",\"starved_noWater\",\"std\",\"on\",\"1\",6,\"LC4 (n = 6)\",13,3,19.586206896551722,2,2,1866.5862068965516,3460.206896551724,2,0,\"231121_TNT_Fine_2_Videos_Tracked_arena6_corridor1\",\"/mnt/labserver/DURRIEU_Matthias/Experimental_data/MultiMazeRecorder/Videos/231121_TNT_Fine_2_Videos_Tracked/arena6/corridor1\",\"231121_TNT_Fine_2_Videos_Tracked\",\"LC4\",\"Vision\",\"231121\",\"TNTxG55\",\"PM15\",\"starved_noWater\",\"std\",\"on\",\"1\",6,\"LC4 (n = 6)\",4,2,18.448275862068964,2,1,1002.5172413793103,3557.3793103448274,2,0,\"231121_TNT_Fine_2_Videos_Tracked_arena6_corridor4\",\"/mnt/labserver/DURRIEU_Matthias/Experimental_data/MultiMazeRecorder/Videos/231121_TNT_Fine_2_Videos_Tracked/arena6/corridor4\",\"231121_TNT_Fine_2_Videos_Tracked\",\"LC4\",\"Vision\",\"231121\",\"TNTxG55\",\"PM15\",\"starved_noWater\",\"std\",\"on\",\"1\",6,\"LC4 (n = 6)\",56,9,34.55172413793103,6,1,1125.8620689655172,2463.7241379310344,5,1,\"231121_TNT_Fine_2_Videos_Tracked_arena6_corridor2\",\"/mnt/labserver/DURRIEU_Matthias/Experimental_data/MultiMazeRecorder/Videos/231121_TNT_Fine_2_Videos_Tracked/arena6/corridor2\",\"231121_TNT_Fine_2_Videos_Tracked\",\"LC4\",\"Vision\",\"231121\",\"TNTxG55\",\"PM15\",\"starved_noWater\",\"std\",\"on\",\"1\",6,\"LC4 (n = 6)\",4,1,21.655172413793103,2,0,1773.0,3549.689655172414,2,0,\"231121_TNT_Fine_2_Videos_Tracked_arena6_corridor6\",\"/mnt/labserver/DURRIEU_Matthias/Experimental_data/MultiMazeRecorder/Videos/231121_TNT_Fine_2_Videos_Tracked/arena6/corridor6\",\"231121_TNT_Fine_2_Videos_Tracked\",\"LC4\",\"Vision\",\"231121\",\"TNTxG55\",\"PM15\",\"starved_noWater\",\"std\",\"on\",\"1\",6,\"LC4 (n = 6)\",12,2,17.79310344827586,2,0,1557.655172413793,3520.8275862068967,2,0,\"231121_TNT_Fine_2_Videos_Tracked_arena6_corridor3\",\"/mnt/labserver/DURRIEU_Matthias/Experimental_data/MultiMazeRecorder/Videos/231121_TNT_Fine_2_Videos_Tracked/arena6/corridor3\",\"231121_TNT_Fine_2_Videos_Tracked\",\"LC4\",\"Vision\",\"231121\",\"TNTxG55\",\"PM15\",\"starved_noWater\",\"std\",\"on\",\"1\",6,\"LC4 (n = 6)\",33,15,47.62068965517241,7,1,330.17241379310343,3343.9655172413795,4,3,\"231121_TNT_Fine_2_Videos_Tracked_arena5_corridor5\",\"/mnt/labserver/DURRIEU_Matthias/Experimental_data/MultiMazeRecorder/Videos/231121_TNT_Fine_2_Videos_Tracked/arena5/corridor5\",\"231121_TNT_Fine_2_Videos_Tracked\",\"LC10-1\",\"Vision\",\"231121\",\"TNTxG58\",\"PM15\",\"starved_noWater\",\"std\",\"on\",\"1\",6,\"LC10-1 (n = 6)\",22,1,21.448275862068964,2,0,374.48275862068965,3130.862068965517,2,0,\"231121_TNT_Fine_2_Videos_Tracked_arena5_corridor1\",\"/mnt/labserver/DURRIEU_Matthias/Experimental_data/MultiMazeRecorder/Videos/231121_TNT_Fine_2_Videos_Tracked/arena5/corridor1\",\"231121_TNT_Fine_2_Videos_Tracked\",\"LC10-1\",\"Vision\",\"231121\",\"TNTxG58\",\"PM15\",\"starved_noWater\",\"std\",\"on\",\"1\",6,\"LC10-1 (n = 6)\",60,1,22.862068965517242,5,0,267.3103448275862,2560.8275862068967,5,0,\"231121_TNT_Fine_2_Videos_Tracked_arena5_corridor4\",\"/mnt/labserver/DURRIEU_Matthias/Experimental_data/MultiMazeRecorder/Videos/231121_TNT_Fine_2_Videos_Tracked/arena5/corridor4\",\"231121_TNT_Fine_2_Videos_Tracked\",\"LC10-1\",\"Vision\",\"231121\",\"TNTxG58\",\"PM15\",\"starved_noWater\",\"std\",\"on\",\"1\",6,\"LC10-1 (n = 6)\",11,1,31.103448275862068,1,1,1104.0689655172414,3479.896551724138,1,0,\"231121_TNT_Fine_2_Videos_Tracked_arena5_corridor2\",\"/mnt/labserver/DURRIEU_Matthias/Experimental_data/MultiMazeRecorder/Videos/231121_TNT_Fine_2_Videos_Tracked/arena5/corridor2\",\"231121_TNT_Fine_2_Videos_Tracked\",\"LC10-1\",\"Vision\",\"231121\",\"TNTxG58\",\"PM15\",\"starved_noWater\",\"std\",\"on\",\"1\",6,\"LC10-1 (n = 6)\",32,13,38.0,6,1,86.72413793103448,3088.5862068965516,5,1,\"231121_TNT_Fine_2_Videos_Tracked_arena5_corridor6\",\"/mnt/labserver/DURRIEU_Matthias/Experimental_data/MultiMazeRecorder/Videos/231121_TNT_Fine_2_Videos_Tracked/arena5/corridor6\",\"231121_TNT_Fine_2_Videos_Tracked\",\"LC10-1\",\"Vision\",\"231121\",\"TNTxG58\",\"PM15\",\"starved_noWater\",\"std\",\"on\",\"1\",6,\"LC10-1 (n = 6)\",2,0,25.517241379310345,2,0,3168.9655172413795,3557.9310344827586,2,0,\"231121_TNT_Fine_2_Videos_Tracked_arena5_corridor3\",\"/mnt/labserver/DURRIEU_Matthias/Experimental_data/MultiMazeRecorder/Videos/231121_TNT_Fine_2_Videos_Tracked/arena5/corridor3\",\"231121_TNT_Fine_2_Videos_Tracked\",\"LC10-1\",\"Vision\",\"231121\",\"TNTxG58\",\"PM15\",\"starved_noWater\",\"std\",\"on\",\"1\",6,\"LC10-1 (n = 6)\",30,3,45.241379310344826,2,3,901.2758620689655,2914.310344827586,2,0,\"231121_TNT_Fine_2_Videos_Tracked_arena8_corridor5\",\"/mnt/labserver/DURRIEU_Matthias/Experimental_data/MultiMazeRecorder/Videos/231121_TNT_Fine_2_Videos_Tracked/arena8/corridor5\",\"231121_TNT_Fine_2_Videos_Tracked\",\"LC9\",\"Vision\",\"231121\",\"TNTxG57\",\"PM15\",\"starved_noWater\",\"std\",\"on\",\"1\",6,\"LC9 (n = 6)\",15,1,12.10344827586207,1,0,196.31034482758622,3438.0344827586205,1,0,\"231121_TNT_Fine_2_Videos_Tracked_arena8_corridor1\",\"/mnt/labserver/DURRIEU_Matthias/Experimental_data/MultiMazeRecorder/Videos/231121_TNT_Fine_2_Videos_Tracked/arena8/corridor1\",\"231121_TNT_Fine_2_Videos_Tracked\",\"LC9\",\"Vision\",\"231121\",\"TNTxG57\",\"PM15\",\"starved_noWater\",\"std\",\"on\",\"1\",6,\"LC9 (n = 6)\",45,3,28.0,5,0,60.03448275862069,2958.9655172413795,5,0,\"231121_TNT_Fine_2_Videos_Tracked_arena8_corridor4\",\"/mnt/labserver/DURRIEU_Matthias/Experimental_data/MultiMazeRecorder/Videos/231121_TNT_Fine_2_Videos_Tracked/arena8/corridor4\",\"231121_TNT_Fine_2_Videos_Tracked\",\"LC9\",\"Vision\",\"231121\",\"TNTxG57\",\"PM15\",\"starved_noWater\",\"std\",\"on\",\"1\",6,\"LC9 (n = 6)\",62,18,56.96551724137931,15,0,13.793103448275861,2584.206896551724,9,6,\"231121_TNT_Fine_2_Videos_Tracked_arena8_corridor2\",\"/mnt/labserver/DURRIEU_Matthias/Experimental_data/MultiMazeRecorder/Videos/231121_TNT_Fine_2_Videos_Tracked/arena8/corridor2\",\"231121_TNT_Fine_2_Videos_Tracked\",\"LC9\",\"Vision\",\"231121\",\"TNTxG57\",\"PM15\",\"starved_noWater\",\"std\",\"on\",\"1\",6,\"LC9 (n = 6)\",11,3,10.793103448275861,3,2,738.2068965517242,3460.9310344827586,3,0,\"231121_TNT_Fine_2_Videos_Tracked_arena8_corridor6\",\"/mnt/labserver/DURRIEU_Matthias/Experimental_data/MultiMazeRecorder/Videos/231121_TNT_Fine_2_Videos_Tracked/arena8/corridor6\",\"231121_TNT_Fine_2_Videos_Tracked\",\"LC9\",\"Vision\",\"231121\",\"TNTxG57\",\"PM15\",\"starved_noWater\",\"std\",\"on\",\"1\",6,\"LC9 (n = 6)\",18,12,3.0,5,0,15.586206896551724,3489.2758620689656,5,0,\"231121_TNT_Fine_2_Videos_Tracked_arena8_corridor3\",\"/mnt/labserver/DURRIEU_Matthias/Experimental_data/MultiMazeRecorder/Videos/231121_TNT_Fine_2_Videos_Tracked/arena8/corridor3\",\"231121_TNT_Fine_2_Videos_Tracked\",\"LC9\",\"Vision\",\"231121\",\"TNTxG57\",\"PM15\",\"starved_noWater\",\"std\",\"on\",\"1\",6,\"LC9 (n = 6)\",66,3,138.0,8,0,154.44827586206895,1682.7586206896551,6,2,\"231121_TNT_Fine_2_Videos_Tracked_arena3_corridor5\",\"/mnt/labserver/DURRIEU_Matthias/Experimental_data/MultiMazeRecorder/Videos/231121_TNT_Fine_2_Videos_Tracked/arena3/corridor5\",\"231121_TNT_Fine_2_Videos_Tracked\",\"LC10-2\",\"Vision\",\"231121\",\"TNTxG59\",\"PM15\",\"starved_noWater\",\"std\",\"on\",\"1\",6,\"LC10-2 (n = 6)\",25,10,31.586206896551722,2,1,351.7586206896552,3391.103448275862,2,0,\"231121_TNT_Fine_2_Videos_Tracked_arena3_corridor1\",\"/mnt/labserver/DURRIEU_Matthias/Experimental_data/MultiMazeRecorder/Videos/231121_TNT_Fine_2_Videos_Tracked/arena3/corridor1\",\"231121_TNT_Fine_2_Videos_Tracked\",\"LC10-2\",\"Vision\",\"231121\",\"TNTxG59\",\"PM15\",\"starved_noWater\",\"std\",\"on\",\"1\",6,\"LC10-2 (n = 6)\",15,2,2.413793103448276,1,1,439.48275862068965,3385.137931034483,1,0,\"231121_TNT_Fine_2_Videos_Tracked_arena3_corridor4\",\"/mnt/labserver/DURRIEU_Matthias/Experimental_data/MultiMazeRecorder/Videos/231121_TNT_Fine_2_Videos_Tracked/arena3/corridor4\",\"231121_TNT_Fine_2_Videos_Tracked\",\"LC10-2\",\"Vision\",\"231121\",\"TNTxG59\",\"PM15\",\"starved_noWater\",\"std\",\"on\",\"1\",6,\"LC10-2 (n = 6)\",59,0,28.06896551724138,4,0,54.10344827586207,2141.9310344827586,3,1,\"231121_TNT_Fine_2_Videos_Tracked_arena3_corridor2\",\"/mnt/labserver/DURRIEU_Matthias/Experimental_data/MultiMazeRecorder/Videos/231121_TNT_Fine_2_Videos_Tracked/arena3/corridor2\",\"231121_TNT_Fine_2_Videos_Tracked\",\"LC10-2\",\"Vision\",\"231121\",\"TNTxG59\",\"PM15\",\"starved_noWater\",\"std\",\"on\",\"1\",6,\"LC10-2 (n = 6)\",33,5,24.103448275862068,4,1,761.2413793103449,3122.2758620689656,3,1,\"231121_TNT_Fine_2_Videos_Tracked_arena3_corridor6\",\"/mnt/labserver/DURRIEU_Matthias/Experimental_data/MultiMazeRecorder/Videos/231121_TNT_Fine_2_Videos_Tracked/arena3/corridor6\",\"231121_TNT_Fine_2_Videos_Tracked\",\"LC10-2\",\"Vision\",\"231121\",\"TNTxG59\",\"PM15\",\"starved_noWater\",\"std\",\"on\",\"1\",6,\"LC10-2 (n = 6)\",16,7,20.03448275862069,3,2,599.2758620689655,3458.2758620689656,3,0,\"231121_TNT_Fine_2_Videos_Tracked_arena3_corridor3\",\"/mnt/labserver/DURRIEU_Matthias/Experimental_data/MultiMazeRecorder/Videos/231121_TNT_Fine_2_Videos_Tracked/arena3/corridor3\",\"231121_TNT_Fine_2_Videos_Tracked\",\"LC10-2\",\"Vision\",\"231121\",\"TNTxG59\",\"PM15\",\"starved_noWater\",\"std\",\"on\",\"1\",6,\"LC10-2 (n = 6)\",3,2,5.206896551724138,1,1,1828.0689655172414,3584.3793103448274,1,0,\"231121_TNT_Fine_2_Videos_Tracked_arena4_corridor5\",\"/mnt/labserver/DURRIEU_Matthias/Experimental_data/MultiMazeRecorder/Videos/231121_TNT_Fine_2_Videos_Tracked/arena4/corridor5\",\"231121_TNT_Fine_2_Videos_Tracked\",\"LC11\",\"Vision\",\"231121\",\"TNTxG60\",\"PM15\",\"starved_noWater\",\"std\",\"on\",\"1\",6,\"LC11 (n = 6)\",12,1,2.793103448275862,4,0,593.9655172413793,3387.0,4,0,\"231121_TNT_Fine_2_Videos_Tracked_arena4_corridor1\",\"/mnt/labserver/DURRIEU_Matthias/Experimental_data/MultiMazeRecorder/Videos/231121_TNT_Fine_2_Videos_Tracked/arena4/corridor1\",\"231121_TNT_Fine_2_Videos_Tracked\",\"LC11\",\"Vision\",\"231121\",\"TNTxG60\",\"PM15\",\"starved_noWater\",\"std\",\"on\",\"1\",6,\"LC11 (n = 6)\",56,5,12.551724137931034,10,0,23.862068965517242,1223.5862068965516,7,3,\"231121_TNT_Fine_2_Videos_Tracked_arena4_corridor4\",\"/mnt/labserver/DURRIEU_Matthias/Experimental_data/MultiMazeRecorder/Videos/231121_TNT_Fine_2_Videos_Tracked/arena4/corridor4\",\"231121_TNT_Fine_2_Videos_Tracked\",\"LC11\",\"Vision\",\"231121\",\"TNTxG60\",\"PM15\",\"starved_noWater\",\"std\",\"on\",\"1\",6,\"LC11 (n = 6)\",14,1,28.551724137931036,1,1,571.448275862069,3240.103448275862,1,0,\"231121_TNT_Fine_2_Videos_Tracked_arena4_corridor2\",\"/mnt/labserver/DURRIEU_Matthias/Experimental_data/MultiMazeRecorder/Videos/231121_TNT_Fine_2_Videos_Tracked/arena4/corridor2\",\"231121_TNT_Fine_2_Videos_Tracked\",\"LC11\",\"Vision\",\"231121\",\"TNTxG60\",\"PM15\",\"starved_noWater\",\"std\",\"on\",\"1\",6,\"LC11 (n = 6)\",13,5,8.620689655172415,3,3,1277.9310344827586,3401.310344827586,3,0,\"231121_TNT_Fine_2_Videos_Tracked_arena4_corridor6\",\"/mnt/labserver/DURRIEU_Matthias/Experimental_data/MultiMazeRecorder/Videos/231121_TNT_Fine_2_Videos_Tracked/arena4/corridor6\",\"231121_TNT_Fine_2_Videos_Tracked\",\"LC11\",\"Vision\",\"231121\",\"TNTxG60\",\"PM15\",\"starved_noWater\",\"std\",\"on\",\"1\",6,\"LC11 (n = 6)\",22,6,35.96551724137931,2,1,471.6551724137931,3020.2413793103447,2,0,\"231121_TNT_Fine_2_Videos_Tracked_arena4_corridor3\",\"/mnt/labserver/DURRIEU_Matthias/Experimental_data/MultiMazeRecorder/Videos/231121_TNT_Fine_2_Videos_Tracked/arena4/corridor3\",\"231121_TNT_Fine_2_Videos_Tracked\",\"LC11\",\"Vision\",\"231121\",\"TNTxG60\",\"PM15\",\"starved_noWater\",\"std\",\"on\",\"1\",6,\"LC11 (n = 6)\",16,3,66.93103448275862,1,3,613.6551724137931,3297.862068965517,1,0,\"231121_TNT_Fine_2_Videos_Tracked_arena1_corridor5\",\"/mnt/labserver/DURRIEU_Matthias/Experimental_data/MultiMazeRecorder/Videos/231121_TNT_Fine_2_Videos_Tracked/arena1/corridor5\",\"231121_TNT_Fine_2_Videos_Tracked\",\"LC12\",\"Vision\",\"231121\",\"TNTxG61\",\"PM15\",\"starved_noWater\",\"std\",\"on\",\"1\",6,\"LC12 (n = 6)\",25,3,15.344827586206897,7,0,55.10344827586207,3039.896551724138,7,0,\"231121_TNT_Fine_2_Videos_Tracked_arena1_corridor1\",\"/mnt/labserver/DURRIEU_Matthias/Experimental_data/MultiMazeRecorder/Videos/231121_TNT_Fine_2_Videos_Tracked/arena1/corridor1\",\"231121_TNT_Fine_2_Videos_Tracked\",\"LC12\",\"Vision\",\"231121\",\"TNTxG61\",\"PM15\",\"starved_noWater\",\"std\",\"on\",\"1\",6,\"LC12 (n = 6)\",27,3,5.344827586206897,2,0,625.6896551724138,3216.7586206896553,2,0,\"231121_TNT_Fine_2_Videos_Tracked_arena1_corridor4\",\"/mnt/labserver/DURRIEU_Matthias/Experimental_data/MultiMazeRecorder/Videos/231121_TNT_Fine_2_Videos_Tracked/arena1/corridor4\",\"231121_TNT_Fine_2_Videos_Tracked\",\"LC12\",\"Vision\",\"231121\",\"TNTxG61\",\"PM15\",\"starved_noWater\",\"std\",\"on\",\"1\",6,\"LC12 (n = 6)\",32,1,61.62068965517241,4,1,495.0,2805.206896551724,4,0,\"231121_TNT_Fine_2_Videos_Tracked_arena1_corridor2\",\"/mnt/labserver/DURRIEU_Matthias/Experimental_data/MultiMazeRecorder/Videos/231121_TNT_Fine_2_Videos_Tracked/arena1/corridor2\",\"231121_TNT_Fine_2_Videos_Tracked\",\"LC12\",\"Vision\",\"231121\",\"TNTxG61\",\"PM15\",\"starved_noWater\",\"std\",\"on\",\"1\",6,\"LC12 (n = 6)\",65,1,30.620689655172413,3,1,195.86206896551724,2547.9310344827586,2,1,\"231121_TNT_Fine_2_Videos_Tracked_arena1_corridor6\",\"/mnt/labserver/DURRIEU_Matthias/Experimental_data/MultiMazeRecorder/Videos/231121_TNT_Fine_2_Videos_Tracked/arena1/corridor6\",\"231121_TNT_Fine_2_Videos_Tracked\",\"LC12\",\"Vision\",\"231121\",\"TNTxG61\",\"PM15\",\"starved_noWater\",\"std\",\"on\",\"1\",6,\"LC12 (n = 6)\",61,8,36.03448275862069,7,0,595.9655172413793,2005.2068965517242,7,0,\"231121_TNT_Fine_2_Videos_Tracked_arena1_corridor3\",\"/mnt/labserver/DURRIEU_Matthias/Experimental_data/MultiMazeRecorder/Videos/231121_TNT_Fine_2_Videos_Tracked/arena1/corridor3\",\"231121_TNT_Fine_2_Videos_Tracked\",\"LC12\",\"Vision\",\"231121\",\"TNTxG61\",\"PM15\",\"starved_noWater\",\"std\",\"on\",\"1\",6,\"LC12 (n = 6)\",24,19,10.620689655172415,11,0,75.03448275862068,3277.3793103448274,7,4,\"231121_TNT_Fine_2_Videos_Tracked_arena9_corridor5\",\"/mnt/labserver/DURRIEU_Matthias/Experimental_data/MultiMazeRecorder/Videos/231121_TNT_Fine_2_Videos_Tracked/arena9/corridor5\",\"231121_TNT_Fine_2_Videos_Tracked\",\"GMR86D09-GAL4\",\"fchON\",\"231121\",\"TNTxG54\",\"PM15\",\"starved_noWater\",\"std\",\"on\",\"1\",6,\"GMR86D09-GAL4 (n = 6)\",34,14,21.79310344827586,9,1,843.5862068965517,3309.6206896551726,7,2,\"231121_TNT_Fine_2_Videos_Tracked_arena9_corridor1\",\"/mnt/labserver/DURRIEU_Matthias/Experimental_data/MultiMazeRecorder/Videos/231121_TNT_Fine_2_Videos_Tracked/arena9/corridor1\",\"231121_TNT_Fine_2_Videos_Tracked\",\"GMR86D09-GAL4\",\"fchON\",\"231121\",\"TNTxG54\",\"PM15\",\"starved_noWater\",\"std\",\"on\",\"1\",6,\"GMR86D09-GAL4 (n = 6)\",18,4,12.793103448275861,3,0,1562.9310344827586,3444.5172413793102,3,0,\"231121_TNT_Fine_2_Videos_Tracked_arena9_corridor4\",\"/mnt/labserver/DURRIEU_Matthias/Experimental_data/MultiMazeRecorder/Videos/231121_TNT_Fine_2_Videos_Tracked/arena9/corridor4\",\"231121_TNT_Fine_2_Videos_Tracked\",\"GMR86D09-GAL4\",\"fchON\",\"231121\",\"TNTxG54\",\"PM15\",\"starved_noWater\",\"std\",\"on\",\"1\",6,\"GMR86D09-GAL4 (n = 6)\",8,0,4.517241379310345,0,null,{\"type\":\"number\",\"value\":\"nan\"},3552.9655172413795,0,0,\"231121_TNT_Fine_2_Videos_Tracked_arena9_corridor2\",\"/mnt/labserver/DURRIEU_Matthias/Experimental_data/MultiMazeRecorder/Videos/231121_TNT_Fine_2_Videos_Tracked/arena9/corridor2\",\"231121_TNT_Fine_2_Videos_Tracked\",\"GMR86D09-GAL4\",\"fchON\",\"231121\",\"TNTxG54\",\"PM15\",\"starved_noWater\",\"std\",\"on\",\"1\",6,\"GMR86D09-GAL4 (n = 6)\",63,16,30.379310344827587,3,4,384.55172413793105,3143.9310344827586,2,1,\"231121_TNT_Fine_2_Videos_Tracked_arena9_corridor6\",\"/mnt/labserver/DURRIEU_Matthias/Experimental_data/MultiMazeRecorder/Videos/231121_TNT_Fine_2_Videos_Tracked/arena9/corridor6\",\"231121_TNT_Fine_2_Videos_Tracked\",\"GMR86D09-GAL4\",\"fchON\",\"231121\",\"TNTxG54\",\"PM15\",\"starved_noWater\",\"std\",\"on\",\"1\",6,\"GMR86D09-GAL4 (n = 6)\",68,2,32.93103448275862,6,0,22.862068965517242,1634.2758620689656,5,1,\"231121_TNT_Fine_2_Videos_Tracked_arena9_corridor3\",\"/mnt/labserver/DURRIEU_Matthias/Experimental_data/MultiMazeRecorder/Videos/231121_TNT_Fine_2_Videos_Tracked/arena9/corridor3\",\"231121_TNT_Fine_2_Videos_Tracked\",\"GMR86D09-GAL4\",\"fchON\",\"231121\",\"TNTxG54\",\"PM15\",\"starved_noWater\",\"std\",\"on\",\"1\",6,\"GMR86D09-GAL4 (n = 6)\"],\"shape\":[105,23],\"dtype\":\"object\",\"order\":\"little\"}]]},\"code\":\"\\n            console.log('tap event occurred at x-position: ' + cb_data.source.selected.indices);\\n            var indices = cb_data.source.selected.indices;\\n            for (var i = 0; i < indices.length; i++) {\\n                console.log('flypath: ' + source.data['flypath'][indices[i]]);\\n            }\\n        \"}}}},{\"type\":\"object\",\"name\":\"SaveTool\",\"id\":\"p1403\"},{\"type\":\"object\",\"name\":\"PanTool\",\"id\":\"p1404\"},{\"type\":\"object\",\"name\":\"BoxZoomTool\",\"id\":\"p1405\",\"attributes\":{\"overlay\":{\"type\":\"object\",\"name\":\"BoxAnnotation\",\"id\":\"p1406\",\"attributes\":{\"syncable\":false,\"level\":\"overlay\",\"visible\":false,\"left\":{\"type\":\"number\",\"value\":\"nan\"},\"right\":{\"type\":\"number\",\"value\":\"nan\"},\"top\":{\"type\":\"number\",\"value\":\"nan\"},\"bottom\":{\"type\":\"number\",\"value\":\"nan\"},\"left_units\":\"canvas\",\"right_units\":\"canvas\",\"top_units\":\"canvas\",\"bottom_units\":\"canvas\",\"line_color\":\"black\",\"line_alpha\":1.0,\"line_width\":2,\"line_dash\":[4,4],\"fill_color\":\"lightgrey\",\"fill_alpha\":0.5}}}},{\"type\":\"object\",\"name\":\"ResetTool\",\"id\":\"p1411\"}],\"active_drag\":{\"id\":\"p1404\"},\"active_scroll\":{\"id\":\"p1376\"}}},\"toolbar_location\":null,\"left\":[{\"type\":\"object\",\"name\":\"CategoricalAxis\",\"id\":\"p1398\",\"attributes\":{\"ticker\":{\"type\":\"object\",\"name\":\"CategoricalTicker\",\"id\":\"p1399\"},\"formatter\":{\"type\":\"object\",\"name\":\"CategoricalTickFormatter\",\"id\":\"p1400\"},\"axis_label\":\"\",\"axis_label_text_font_size\":\"19.5px\",\"major_label_policy\":{\"type\":\"object\",\"name\":\"AllLabels\",\"id\":\"p1401\"},\"major_label_text_font_size\":\"16.5px\",\"group_text_font_size\":\"16.5px\"}}],\"below\":[{\"type\":\"object\",\"name\":\"LinearAxis\",\"id\":\"p1393\",\"attributes\":{\"ticker\":{\"type\":\"object\",\"name\":\"BasicTicker\",\"id\":\"p1394\",\"attributes\":{\"mantissas\":[1,2,5]}},\"formatter\":{\"type\":\"object\",\"name\":\"BasicTickFormatter\",\"id\":\"p1395\"},\"axis_label\":\"FinalEvent\",\"axis_label_text_font_size\":\"19.5px\",\"major_label_policy\":{\"type\":\"object\",\"name\":\"AllLabels\",\"id\":\"p1396\"},\"major_label_text_font_size\":\"16.5px\"}}],\"center\":[{\"type\":\"object\",\"name\":\"Grid\",\"id\":\"p1397\",\"attributes\":{\"axis\":{\"id\":\"p1393\"},\"ticker\":{\"id\":\"p1394\"}}},{\"type\":\"object\",\"name\":\"Grid\",\"id\":\"p1402\",\"attributes\":{\"dimension\":1,\"axis\":{\"id\":\"p1398\"},\"ticker\":{\"id\":\"p1399\"}}},{\"type\":\"object\",\"name\":\"Legend\",\"id\":\"p1519\",\"attributes\":{\"items\":[]}}],\"min_border_top\":10,\"min_border_bottom\":10,\"min_border_left\":10,\"min_border_right\":10,\"output_backend\":\"webgl\"}},{\"type\":\"object\",\"name\":\"Spacer\",\"id\":\"p1524\",\"attributes\":{\"name\":\"HSpacer02161\",\"stylesheets\":[\"\\n:host(.pn-loading.pn-arc):before, .pn-loading.pn-arc:before {\\n  background-image: url(\\\"data:image/svg+xml;base64,PHN2ZyB4bWxucz0iaHR0cDovL3d3dy53My5vcmcvMjAwMC9zdmciIHN0eWxlPSJtYXJnaW46IGF1dG87IGJhY2tncm91bmQ6IG5vbmU7IGRpc3BsYXk6IGJsb2NrOyBzaGFwZS1yZW5kZXJpbmc6IGF1dG87IiB2aWV3Qm94PSIwIDAgMTAwIDEwMCIgcHJlc2VydmVBc3BlY3RSYXRpbz0ieE1pZFlNaWQiPiAgPGNpcmNsZSBjeD0iNTAiIGN5PSI1MCIgZmlsbD0ibm9uZSIgc3Ryb2tlPSIjYzNjM2MzIiBzdHJva2Utd2lkdGg9IjEwIiByPSIzNSIgc3Ryb2tlLWRhc2hhcnJheT0iMTY0LjkzMzYxNDMxMzQ2NDE1IDU2Ljk3Nzg3MTQzNzgyMTM4Ij4gICAgPGFuaW1hdGVUcmFuc2Zvcm0gYXR0cmlidXRlTmFtZT0idHJhbnNmb3JtIiB0eXBlPSJyb3RhdGUiIHJlcGVhdENvdW50PSJpbmRlZmluaXRlIiBkdXI9IjFzIiB2YWx1ZXM9IjAgNTAgNTA7MzYwIDUwIDUwIiBrZXlUaW1lcz0iMDsxIj48L2FuaW1hdGVUcmFuc2Zvcm0+ICA8L2NpcmNsZT48L3N2Zz4=\\\");\\n  background-size: auto calc(min(50%, 400px));\\n}\",{\"id\":\"p1369\"},{\"id\":\"p1367\"},{\"id\":\"p1368\"}],\"margin\":0,\"sizing_mode\":\"stretch_width\",\"align\":\"start\"}},{\"type\":\"object\",\"name\":\"panel.models.layout.Column\",\"id\":\"p1525\",\"attributes\":{\"name\":\"WidgetBox02152\",\"css_classes\":[\"panel-widget-box\"],\"stylesheets\":[\"\\n:host(.pn-loading.pn-arc):before, .pn-loading.pn-arc:before {\\n  background-image: url(\\\"data:image/svg+xml;base64,PHN2ZyB4bWxucz0iaHR0cDovL3d3dy53My5vcmcvMjAwMC9zdmciIHN0eWxlPSJtYXJnaW46IGF1dG87IGJhY2tncm91bmQ6IG5vbmU7IGRpc3BsYXk6IGJsb2NrOyBzaGFwZS1yZW5kZXJpbmc6IGF1dG87IiB2aWV3Qm94PSIwIDAgMTAwIDEwMCIgcHJlc2VydmVBc3BlY3RSYXRpbz0ieE1pZFlNaWQiPiAgPGNpcmNsZSBjeD0iNTAiIGN5PSI1MCIgZmlsbD0ibm9uZSIgc3Ryb2tlPSIjYzNjM2MzIiBzdHJva2Utd2lkdGg9IjEwIiByPSIzNSIgc3Ryb2tlLWRhc2hhcnJheT0iMTY0LjkzMzYxNDMxMzQ2NDE1IDU2Ljk3Nzg3MTQzNzgyMTM4Ij4gICAgPGFuaW1hdGVUcmFuc2Zvcm0gYXR0cmlidXRlTmFtZT0idHJhbnNmb3JtIiB0eXBlPSJyb3RhdGUiIHJlcGVhdENvdW50PSJpbmRlZmluaXRlIiBkdXI9IjFzIiB2YWx1ZXM9IjAgNTAgNTA7MzYwIDUwIDUwIiBrZXlUaW1lcz0iMDsxIj48L2FuaW1hdGVUcmFuc2Zvcm0+ICA8L2NpcmNsZT48L3N2Zz4=\\\");\\n  background-size: auto calc(min(50%, 400px));\\n}\",{\"id\":\"p1369\"},{\"type\":\"object\",\"name\":\"ImportedStyleSheet\",\"id\":\"p1530\",\"attributes\":{\"url\":\"https://cdn.holoviz.org/panel/1.3.8/dist/css/widgetbox.css\"}},{\"id\":\"p1531\"},{\"id\":\"p1367\"},{\"id\":\"p1368\"}],\"margin\":0,\"align\":[\"end\",\"center\"],\"children\":[{\"type\":\"object\",\"name\":\"panel.models.widgets.CustomSelect\",\"id\":\"p1528\",\"attributes\":{\"js_property_callbacks\":{\"type\":\"map\",\"entries\":[[\"change:value\",[{\"type\":\"object\",\"name\":\"CustomJS\",\"id\":\"p1535\",\"attributes\":{\"code\":\"\\nvar state = null\\nfor (var root of cb_obj.document.roots()) {\\n  if (root.id == 'p1534') {\\n    state = root;\\n    break;\\n  }\\n}\\nif (!state) { return; }\\nstate.set_state(cb_obj, cb_obj.value)\\n\"}}]]]},\"stylesheets\":[\"\\n:host(.pn-loading.pn-arc):before, .pn-loading.pn-arc:before {\\n  background-image: url(\\\"data:image/svg+xml;base64,PHN2ZyB4bWxucz0iaHR0cDovL3d3dy53My5vcmcvMjAwMC9zdmciIHN0eWxlPSJtYXJnaW46IGF1dG87IGJhY2tncm91bmQ6IG5vbmU7IGRpc3BsYXk6IGJsb2NrOyBzaGFwZS1yZW5kZXJpbmc6IGF1dG87IiB2aWV3Qm94PSIwIDAgMTAwIDEwMCIgcHJlc2VydmVBc3BlY3RSYXRpbz0ieE1pZFlNaWQiPiAgPGNpcmNsZSBjeD0iNTAiIGN5PSI1MCIgZmlsbD0ibm9uZSIgc3Ryb2tlPSIjYzNjM2MzIiBzdHJva2Utd2lkdGg9IjEwIiByPSIzNSIgc3Ryb2tlLWRhc2hhcnJheT0iMTY0LjkzMzYxNDMxMzQ2NDE1IDU2Ljk3Nzg3MTQzNzgyMTM4Ij4gICAgPGFuaW1hdGVUcmFuc2Zvcm0gYXR0cmlidXRlTmFtZT0idHJhbnNmb3JtIiB0eXBlPSJyb3RhdGUiIHJlcGVhdENvdW50PSJpbmRlZmluaXRlIiBkdXI9IjFzIiB2YWx1ZXM9IjAgNTAgNTA7MzYwIDUwIDUwIiBrZXlUaW1lcz0iMDsxIj48L2FuaW1hdGVUcmFuc2Zvcm0+ICA8L2NpcmNsZT48L3N2Zz4=\\\");\\n  background-size: auto calc(min(50%, 400px));\\n}\",{\"id\":\"p1369\"},{\"type\":\"object\",\"name\":\"ImportedStyleSheet\",\"id\":\"p1527\",\"attributes\":{\"url\":\"https://cdn.holoviz.org/panel/1.3.8/dist/css/select.css\"}},{\"id\":\"p1367\"},{\"id\":\"p1368\"}],\"width\":250,\"min_width\":250,\"margin\":[20,20,20,20],\"align\":\"start\",\"title\":\"Brain region\",\"options\":[\"JON\",\"MB\",\"Vision\",\"fchON\"],\"value\":\"JON\"}}]}}]}},{\"type\":\"object\",\"name\":\"panel.models.state.State\",\"id\":\"p1534\",\"attributes\":{\"state\":{\"type\":\"map\",\"entries\":[[\"fchON\",{\"type\":\"map\",\"entries\":[[\"header\",\"{\\\"msgid\\\": \\\"p1548\\\", \\\"msgtype\\\": \\\"PATCH-DOC\\\"}\"],[\"metadata\",\"{\\\"use_buffers\\\": false}\"],[\"content\",\"{\\\"events\\\":[{\\\"kind\\\":\\\"ModelChanged\\\",\\\"model\\\":{\\\"id\\\":\\\"p1372\\\"},\\\"attr\\\":\\\"factors\\\",\\\"new\\\":[\\\"GMR86D09-GAL4 (n = 6)\\\"]},{\\\"kind\\\":\\\"ColumnDataChanged\\\",\\\"model\\\":{\\\"id\\\":\\\"p1412\\\"},\\\"attr\\\":\\\"data\\\",\\\"data\\\":{\\\"type\\\":\\\"map\\\",\\\"entries\\\":[[\\\"index\\\",{\\\"type\\\":\\\"ndarray\\\",\\\"array\\\":{\\\"type\\\":\\\"bytes\\\",\\\"data\\\":\\\"\\\"},\\\"shape\\\":[0],\\\"dtype\\\":\\\"float64\\\",\\\"order\\\":\\\"little\\\"}],[\\\"FinalEvent\\\",{\\\"type\\\":\\\"ndarray\\\",\\\"array\\\":{\\\"type\\\":\\\"bytes\\\",\\\"data\\\":\\\"\\\"},\\\"shape\\\":[0],\\\"dtype\\\":\\\"float64\\\",\\\"order\\\":\\\"little\\\"}]]},\\\"cols\\\":[\\\"index\\\",\\\"FinalEvent\\\"]},{\\\"kind\\\":\\\"ColumnDataChanged\\\",\\\"model\\\":{\\\"id\\\":\\\"p1425\\\"},\\\"attr\\\":\\\"data\\\",\\\"data\\\":{\\\"type\\\":\\\"map\\\",\\\"entries\\\":[[\\\"index\\\",[\\\"GMR86D09-GAL4 (n = 6)\\\"]],[\\\"top\\\",{\\\"type\\\":\\\"ndarray\\\",\\\"array\\\":{\\\"type\\\":\\\"bytes\\\",\\\"data\\\":\\\"AAAAAAAAIkA=\\\"},\\\"shape\\\":[1],\\\"dtype\\\":\\\"float64\\\",\\\"order\\\":\\\"little\\\"}],[\\\"bottom\\\",{\\\"type\\\":\\\"ndarray\\\",\\\"array\\\":{\\\"type\\\":\\\"bytes\\\",\\\"data\\\":\\\"AAAAAAAAL0A=\\\"},\\\"shape\\\":[1],\\\"dtype\\\":\\\"float64\\\",\\\"order\\\":\\\"little\\\"}]]},\\\"cols\\\":[\\\"index\\\",\\\"top\\\",\\\"bottom\\\"]},{\\\"kind\\\":\\\"ColumnDataChanged\\\",\\\"model\\\":{\\\"id\\\":\\\"p1438\\\"},\\\"attr\\\":\\\"data\\\",\\\"data\\\":{\\\"type\\\":\\\"map\\\",\\\"entries\\\":[[\\\"index\\\",[\\\"GMR86D09-GAL4 (n = 6)\\\"]],[\\\"top\\\",{\\\"type\\\":\\\"ndarray\\\",\\\"array\\\":{\\\"type\\\":\\\"bytes\\\",\\\"data\\\":\\\"AAAAAAAABEA=\\\"},\\\"shape\\\":[1],\\\"dtype\\\":\\\"float64\\\",\\\"order\\\":\\\"little\\\"}],[\\\"bottom\\\",{\\\"type\\\":\\\"ndarray\\\",\\\"array\\\":{\\\"type\\\":\\\"bytes\\\",\\\"data\\\":\\\"AAAAAAAAIkA=\\\"},\\\"shape\\\":[1],\\\"dtype\\\":\\\"float64\\\",\\\"order\\\":\\\"little\\\"}]]},\\\"cols\\\":[\\\"index\\\",\\\"top\\\",\\\"bottom\\\"]},{\\\"kind\\\":\\\"ColumnDataChanged\\\",\\\"model\\\":{\\\"id\\\":\\\"p1451\\\"},\\\"attr\\\":\\\"data\\\",\\\"data\\\":{\\\"type\\\":\\\"map\\\",\\\"entries\\\":[[\\\"y1\\\",{\\\"type\\\":\\\"ndarray\\\",\\\"array\\\":{\\\"type\\\":\\\"bytes\\\",\\\"data\\\":\\\"AAAAAAAAL0A=\\\"},\\\"shape\\\":[1],\\\"dtype\\\":\\\"float64\\\",\\\"order\\\":\\\"little\\\"}],[\\\"x1\\\",[\\\"GMR86D09-GAL4 (n = 6)\\\"]],[\\\"y0\\\",{\\\"type\\\":\\\"ndarray\\\",\\\"array\\\":{\\\"type\\\":\\\"bytes\\\",\\\"data\\\":\\\"EwAAAA==\\\"},\\\"shape\\\":[1],\\\"dtype\\\":\\\"int32\\\",\\\"order\\\":\\\"little\\\"}],[\\\"x0\\\",[\\\"GMR86D09-GAL4 (n = 6)\\\"]]]},\\\"cols\\\":[\\\"y1\\\",\\\"x1\\\",\\\"y0\\\",\\\"x0\\\"]},{\\\"kind\\\":\\\"ColumnDataChanged\\\",\\\"model\\\":{\\\"id\\\":\\\"p1464\\\"},\\\"attr\\\":\\\"data\\\",\\\"data\\\":{\\\"type\\\":\\\"map\\\",\\\"entries\\\":[[\\\"y1\\\",{\\\"type\\\":\\\"ndarray\\\",\\\"array\\\":{\\\"type\\\":\\\"bytes\\\",\\\"data\\\":\\\"AAAAAAAABEA=\\\"},\\\"shape\\\":[1],\\\"dtype\\\":\\\"float64\\\",\\\"order\\\":\\\"little\\\"}],[\\\"x1\\\",[\\\"GMR86D09-GAL4 (n = 6)\\\"]],[\\\"y0\\\",{\\\"type\\\":\\\"ndarray\\\",\\\"array\\\":{\\\"type\\\":\\\"bytes\\\",\\\"data\\\":\\\"AAAAAA==\\\"},\\\"shape\\\":[1],\\\"dtype\\\":\\\"int32\\\",\\\"order\\\":\\\"little\\\"}],[\\\"x0\\\",[\\\"GMR86D09-GAL4 (n = 6)\\\"]]]},\\\"cols\\\":[\\\"y1\\\",\\\"x1\\\",\\\"y0\\\",\\\"x0\\\"]},{\\\"kind\\\":\\\"ColumnDataChanged\\\",\\\"model\\\":{\\\"id\\\":\\\"p1477\\\"},\\\"attr\\\":\\\"data\\\",\\\"data\\\":{\\\"type\\\":\\\"map\\\",\\\"entries\\\":[[\\\"y1\\\",[0]],[\\\"x1\\\",[[\\\"GMR86D09-GAL4 (n = 6)\\\",0.2]]],[\\\"y0\\\",[0]],[\\\"x0\\\",[[\\\"GMR86D09-GAL4 (n = 6)\\\",-0.2]]]]},\\\"cols\\\":[\\\"y1\\\",\\\"x1\\\",\\\"y0\\\",\\\"x0\\\"]},{\\\"kind\\\":\\\"ColumnDataChanged\\\",\\\"model\\\":{\\\"id\\\":\\\"p1490\\\"},\\\"attr\\\":\\\"data\\\",\\\"data\\\":{\\\"type\\\":\\\"map\\\",\\\"entries\\\":[[\\\"y1\\\",[19]],[\\\"x1\\\",[[\\\"GMR86D09-GAL4 (n = 6)\\\",0.2]]],[\\\"y0\\\",[19]],[\\\"x0\\\",[[\\\"GMR86D09-GAL4 (n = 6)\\\",-0.2]]]]},\\\"cols\\\":[\\\"y1\\\",\\\"x1\\\",\\\"y0\\\",\\\"x0\\\"]},{\\\"kind\\\":\\\"ColumnDataChanged\\\",\\\"model\\\":{\\\"id\\\":\\\"p1425\\\"},\\\"attr\\\":\\\"data\\\",\\\"data\\\":{\\\"type\\\":\\\"map\\\",\\\"entries\\\":[[\\\"index\\\",[\\\"GMR86D09-GAL4 (n = 6)\\\"]]]},\\\"cols\\\":[\\\"index\\\"]},{\\\"kind\\\":\\\"ColumnDataChanged\\\",\\\"model\\\":{\\\"id\\\":\\\"p1438\\\"},\\\"attr\\\":\\\"data\\\",\\\"data\\\":{\\\"type\\\":\\\"map\\\",\\\"entries\\\":[[\\\"index\\\",[\\\"GMR86D09-GAL4 (n = 6)\\\"]]]},\\\"cols\\\":[\\\"index\\\"]},{\\\"kind\\\":\\\"ColumnDataChanged\\\",\\\"model\\\":{\\\"id\\\":\\\"p1451\\\"},\\\"attr\\\":\\\"data\\\",\\\"data\\\":{\\\"type\\\":\\\"map\\\",\\\"entries\\\":[[\\\"x0\\\",[\\\"GMR86D09-GAL4 (n = 6)\\\"]]]},\\\"cols\\\":[\\\"x0\\\"]},{\\\"kind\\\":\\\"ColumnDataChanged\\\",\\\"model\\\":{\\\"id\\\":\\\"p1451\\\"},\\\"attr\\\":\\\"data\\\",\\\"data\\\":{\\\"type\\\":\\\"map\\\",\\\"entries\\\":[[\\\"x1\\\",[\\\"GMR86D09-GAL4 (n = 6)\\\"]]]},\\\"cols\\\":[\\\"x1\\\"]},{\\\"kind\\\":\\\"ColumnDataChanged\\\",\\\"model\\\":{\\\"id\\\":\\\"p1464\\\"},\\\"attr\\\":\\\"data\\\",\\\"data\\\":{\\\"type\\\":\\\"map\\\",\\\"entries\\\":[[\\\"x0\\\",[\\\"GMR86D09-GAL4 (n = 6)\\\"]]]},\\\"cols\\\":[\\\"x0\\\"]},{\\\"kind\\\":\\\"ColumnDataChanged\\\",\\\"model\\\":{\\\"id\\\":\\\"p1464\\\"},\\\"attr\\\":\\\"data\\\",\\\"data\\\":{\\\"type\\\":\\\"map\\\",\\\"entries\\\":[[\\\"x1\\\",[\\\"GMR86D09-GAL4 (n = 6)\\\"]]]},\\\"cols\\\":[\\\"x1\\\"]},{\\\"kind\\\":\\\"ModelChanged\\\",\\\"model\\\":{\\\"id\\\":\\\"p1504\\\"},\\\"attr\\\":\\\"factors\\\",\\\"new\\\":[\\\"GMR86D09-GAL4 (n = 6)\\\"]},{\\\"kind\\\":\\\"ColumnDataChanged\\\",\\\"model\\\":{\\\"id\\\":\\\"p1505\\\"},\\\"attr\\\":\\\"data\\\",\\\"data\\\":{\\\"type\\\":\\\"map\\\",\\\"entries\\\":[[\\\"Crossing\\\",[\\\"1\\\",\\\"1\\\",\\\"1\\\",\\\"1\\\",\\\"1\\\",\\\"1\\\"]],[\\\"Genotype\\\",[\\\"TNTxG54\\\",\\\"TNTxG54\\\",\\\"TNTxG54\\\",\\\"TNTxG54\\\",\\\"TNTxG54\\\",\\\"TNTxG54\\\"]],[\\\"label\\\",[\\\"GMR86D09-GAL4 (n = 6)\\\",\\\"GMR86D09-GAL4 (n = 6)\\\",\\\"GMR86D09-GAL4 (n = 6)\\\",\\\"GMR86D09-GAL4 (n = 6)\\\",\\\"GMR86D09-GAL4 (n = 6)\\\",\\\"GMR86D09-GAL4 (n = 6)\\\"]],[\\\"Light\\\",[\\\"on\\\",\\\"on\\\",\\\"on\\\",\\\"on\\\",\\\"on\\\",\\\"on\\\"]],[\\\"fly\\\",[\\\"231121_TNT_Fine_2_Videos_Tracked_arena9_corridor5\\\",\\\"231121_TNT_Fine_2_Videos_Tracked_arena9_corridor1\\\",\\\"231121_TNT_Fine_2_Videos_Tracked_arena9_corridor4\\\",\\\"231121_TNT_Fine_2_Videos_Tracked_arena9_corridor2\\\",\\\"231121_TNT_Fine_2_Videos_Tracked_arena9_corridor6\\\",\\\"231121_TNT_Fine_2_Videos_Tracked_arena9_corridor3\\\"]],[\\\"FeedingState\\\",[\\\"starved_noWater\\\",\\\"starved_noWater\\\",\\\"starved_noWater\\\",\\\"starved_noWater\\\",\\\"starved_noWater\\\",\\\"starved_noWater\\\"]],[\\\"color\\\",[\\\"GMR86D09-GAL4 (n = 6)\\\",\\\"GMR86D09-GAL4 (n = 6)\\\",\\\"GMR86D09-GAL4 (n = 6)\\\",\\\"GMR86D09-GAL4 (n = 6)\\\",\\\"GMR86D09-GAL4 (n = 6)\\\",\\\"GMR86D09-GAL4 (n = 6)\\\"]],[\\\"Orientation\\\",[\\\"std\\\",\\\"std\\\",\\\"std\\\",\\\"std\\\",\\\"std\\\",\\\"std\\\"]],[\\\"Period\\\",[\\\"PM15\\\",\\\"PM15\\\",\\\"PM15\\\",\\\"PM15\\\",\\\"PM15\\\",\\\"PM15\\\"]],[\\\"Date\\\",[\\\"231121\\\",\\\"231121\\\",\\\"231121\\\",\\\"231121\\\",\\\"231121\\\",\\\"231121\\\"]],[\\\"FinalEvent\\\",{\\\"type\\\":\\\"ndarray\\\",\\\"array\\\":{\\\"type\\\":\\\"bytes\\\",\\\"data\\\":\\\"EwAAAA4AAAAEAAAAAAAAABAAAAACAAAA\\\"},\\\"shape\\\":[6],\\\"dtype\\\":\\\"int32\\\",\\\"order\\\":\\\"little\\\"}]]},\\\"cols\\\":[\\\"Crossing\\\",\\\"Genotype\\\",\\\"label\\\",\\\"Light\\\",\\\"fly\\\",\\\"FeedingState\\\",\\\"color\\\",\\\"Orientation\\\",\\\"Period\\\",\\\"Date\\\",\\\"FinalEvent\\\"]},{\\\"kind\\\":\\\"ModelChanged\\\",\\\"model\\\":{\\\"id\\\":\\\"p1511\\\"},\\\"attr\\\":\\\"y\\\",\\\"new\\\":{\\\"type\\\":\\\"field\\\",\\\"field\\\":\\\"label\\\",\\\"transform\\\":{\\\"type\\\":\\\"object\\\",\\\"name\\\":\\\"Jitter\\\",\\\"id\\\":\\\"p1536\\\",\\\"attributes\\\":{\\\"width\\\":0.3,\\\"range\\\":{\\\"type\\\":\\\"object\\\",\\\"name\\\":\\\"FactorRange\\\",\\\"id\\\":\\\"p1372\\\",\\\"attributes\\\":{\\\"tags\\\":[[[\\\"label\\\",\\\"label\\\",null]],{\\\"type\\\":\\\"map\\\",\\\"entries\\\":[[\\\"invert_yaxis\\\",false],[\\\"autorange\\\",false]]}],\\\"factors\\\":[\\\"GMR86D09-GAL4 (n = 6)\\\"]}}}}}},{\\\"kind\\\":\\\"ModelChanged\\\",\\\"model\\\":{\\\"id\\\":\\\"p1513\\\"},\\\"attr\\\":\\\"y\\\",\\\"new\\\":{\\\"type\\\":\\\"field\\\",\\\"field\\\":\\\"label\\\",\\\"transform\\\":{\\\"id\\\":\\\"p1536\\\"}}},{\\\"kind\\\":\\\"ModelChanged\\\",\\\"model\\\":{\\\"id\\\":\\\"p1512\\\"},\\\"attr\\\":\\\"y\\\",\\\"new\\\":{\\\"type\\\":\\\"field\\\",\\\"field\\\":\\\"label\\\",\\\"transform\\\":{\\\"id\\\":\\\"p1536\\\"}}},{\\\"kind\\\":\\\"ModelChanged\\\",\\\"model\\\":{\\\"id\\\":\\\"p1514\\\"},\\\"attr\\\":\\\"y\\\",\\\"new\\\":{\\\"type\\\":\\\"field\\\",\\\"field\\\":\\\"label\\\",\\\"transform\\\":{\\\"id\\\":\\\"p1536\\\"}}},{\\\"kind\\\":\\\"ModelChanged\\\",\\\"model\\\":{\\\"id\\\":\\\"p1515\\\"},\\\"attr\\\":\\\"y\\\",\\\"new\\\":{\\\"type\\\":\\\"field\\\",\\\"field\\\":\\\"label\\\",\\\"transform\\\":{\\\"id\\\":\\\"p1536\\\"}}},{\\\"kind\\\":\\\"ColumnDataChanged\\\",\\\"model\\\":{\\\"id\\\":\\\"p1505\\\"},\\\"attr\\\":\\\"data\\\",\\\"data\\\":{\\\"type\\\":\\\"map\\\",\\\"entries\\\":[[\\\"Genotype\\\",[\\\"TNTxG54\\\",\\\"TNTxG54\\\",\\\"TNTxG54\\\",\\\"TNTxG54\\\",\\\"TNTxG54\\\",\\\"TNTxG54\\\"]]]},\\\"cols\\\":[\\\"Genotype\\\"]},{\\\"kind\\\":\\\"ColumnDataChanged\\\",\\\"model\\\":{\\\"id\\\":\\\"p1505\\\"},\\\"attr\\\":\\\"data\\\",\\\"data\\\":{\\\"type\\\":\\\"map\\\",\\\"entries\\\":[[\\\"Period\\\",[\\\"PM15\\\",\\\"PM15\\\",\\\"PM15\\\",\\\"PM15\\\",\\\"PM15\\\",\\\"PM15\\\"]]]},\\\"cols\\\":[\\\"Period\\\"]},{\\\"kind\\\":\\\"ColumnDataChanged\\\",\\\"model\\\":{\\\"id\\\":\\\"p1505\\\"},\\\"attr\\\":\\\"data\\\",\\\"data\\\":{\\\"type\\\":\\\"map\\\",\\\"entries\\\":[[\\\"fly\\\",[\\\"231121_TNT_Fine_2_Videos_Tracked_arena9_corridor5\\\",\\\"231121_TNT_Fine_2_Videos_Tracked_arena9_corridor1\\\",\\\"231121_TNT_Fine_2_Videos_Tracked_arena9_corridor4\\\",\\\"231121_TNT_Fine_2_Videos_Tracked_arena9_corridor2\\\",\\\"231121_TNT_Fine_2_Videos_Tracked_arena9_corridor6\\\",\\\"231121_TNT_Fine_2_Videos_Tracked_arena9_corridor3\\\"]]]},\\\"cols\\\":[\\\"fly\\\"]},{\\\"kind\\\":\\\"ColumnDataChanged\\\",\\\"model\\\":{\\\"id\\\":\\\"p1505\\\"},\\\"attr\\\":\\\"data\\\",\\\"data\\\":{\\\"type\\\":\\\"map\\\",\\\"entries\\\":[[\\\"color\\\",[\\\"GMR86D09-GAL4 (n = 6)\\\",\\\"GMR86D09-GAL4 (n = 6)\\\",\\\"GMR86D09-GAL4 (n = 6)\\\",\\\"GMR86D09-GAL4 (n = 6)\\\",\\\"GMR86D09-GAL4 (n = 6)\\\",\\\"GMR86D09-GAL4 (n = 6)\\\"]]]},\\\"cols\\\":[\\\"color\\\"]}]}\"]]}],[\"JON\",{\"type\":\"map\",\"entries\":[[\"header\",\"{\\\"msgid\\\": \\\"p1560\\\", \\\"msgtype\\\": \\\"PATCH-DOC\\\"}\"],[\"metadata\",\"{\\\"use_buffers\\\": false}\"],[\"content\",\"{\\\"events\\\":[{\\\"kind\\\":\\\"ModelChanged\\\",\\\"model\\\":{\\\"id\\\":\\\"p1372\\\"},\\\"attr\\\":\\\"factors\\\",\\\"new\\\":[\\\"JON-AB\\\\nJO-15\\\\\\\" (n = 6)\\\"]},{\\\"kind\\\":\\\"ColumnDataChanged\\\",\\\"model\\\":{\\\"id\\\":\\\"p1412\\\"},\\\"attr\\\":\\\"data\\\",\\\"data\\\":{\\\"type\\\":\\\"map\\\",\\\"entries\\\":[[\\\"index\\\",[\\\"JON-AB\\\\nJO-15\\\\\\\" (n = 6)\\\"]],[\\\"FinalEvent\\\",{\\\"type\\\":\\\"ndarray\\\",\\\"array\\\":{\\\"type\\\":\\\"bytes\\\",\\\"data\\\":\\\"EAAAAA==\\\"},\\\"shape\\\":[1],\\\"dtype\\\":\\\"int32\\\",\\\"order\\\":\\\"little\\\"}]]},\\\"cols\\\":[\\\"index\\\",\\\"FinalEvent\\\"]},{\\\"kind\\\":\\\"ColumnDataChanged\\\",\\\"model\\\":{\\\"id\\\":\\\"p1425\\\"},\\\"attr\\\":\\\"data\\\",\\\"data\\\":{\\\"type\\\":\\\"map\\\",\\\"entries\\\":[[\\\"index\\\",[\\\"JON-AB\\\\nJO-15\\\\\\\" (n = 6)\\\"]],[\\\"top\\\",{\\\"type\\\":\\\"ndarray\\\",\\\"array\\\":{\\\"type\\\":\\\"bytes\\\",\\\"data\\\":\\\"AAAAAAAAEEA=\\\"},\\\"shape\\\":[1],\\\"dtype\\\":\\\"float64\\\",\\\"order\\\":\\\"little\\\"}],[\\\"bottom\\\",{\\\"type\\\":\\\"ndarray\\\",\\\"array\\\":{\\\"type\\\":\\\"bytes\\\",\\\"data\\\":\\\"AAAAAAAAHEA=\\\"},\\\"shape\\\":[1],\\\"dtype\\\":\\\"float64\\\",\\\"order\\\":\\\"little\\\"}]]},\\\"cols\\\":[\\\"index\\\",\\\"top\\\",\\\"bottom\\\"]},{\\\"kind\\\":\\\"ColumnDataChanged\\\",\\\"model\\\":{\\\"id\\\":\\\"p1438\\\"},\\\"attr\\\":\\\"data\\\",\\\"data\\\":{\\\"type\\\":\\\"map\\\",\\\"entries\\\":[[\\\"index\\\",[\\\"JON-AB\\\\nJO-15\\\\\\\" (n = 6)\\\"]],[\\\"top\\\",{\\\"type\\\":\\\"ndarray\\\",\\\"array\\\":{\\\"type\\\":\\\"bytes\\\",\\\"data\\\":\\\"AAAAAAAACEA=\\\"},\\\"shape\\\":[1],\\\"dtype\\\":\\\"float64\\\",\\\"order\\\":\\\"little\\\"}],[\\\"bottom\\\",{\\\"type\\\":\\\"ndarray\\\",\\\"array\\\":{\\\"type\\\":\\\"bytes\\\",\\\"data\\\":\\\"AAAAAAAAEEA=\\\"},\\\"shape\\\":[1],\\\"dtype\\\":\\\"float64\\\",\\\"order\\\":\\\"little\\\"}]]},\\\"cols\\\":[\\\"index\\\",\\\"top\\\",\\\"bottom\\\"]},{\\\"kind\\\":\\\"ColumnDataChanged\\\",\\\"model\\\":{\\\"id\\\":\\\"p1451\\\"},\\\"attr\\\":\\\"data\\\",\\\"data\\\":{\\\"type\\\":\\\"map\\\",\\\"entries\\\":[[\\\"y1\\\",{\\\"type\\\":\\\"ndarray\\\",\\\"array\\\":{\\\"type\\\":\\\"bytes\\\",\\\"data\\\":\\\"AAAAAAAAHEA=\\\"},\\\"shape\\\":[1],\\\"dtype\\\":\\\"float64\\\",\\\"order\\\":\\\"little\\\"}],[\\\"x1\\\",[\\\"JON-AB\\\\nJO-15\\\\\\\" (n = 6)\\\"]],[\\\"y0\\\",{\\\"type\\\":\\\"ndarray\\\",\\\"array\\\":{\\\"type\\\":\\\"bytes\\\",\\\"data\\\":\\\"BwAAAA==\\\"},\\\"shape\\\":[1],\\\"dtype\\\":\\\"int32\\\",\\\"order\\\":\\\"little\\\"}],[\\\"x0\\\",[\\\"JON-AB\\\\nJO-15\\\\\\\" (n = 6)\\\"]]]},\\\"cols\\\":[\\\"y1\\\",\\\"x1\\\",\\\"y0\\\",\\\"x0\\\"]},{\\\"kind\\\":\\\"ColumnDataChanged\\\",\\\"model\\\":{\\\"id\\\":\\\"p1464\\\"},\\\"attr\\\":\\\"data\\\",\\\"data\\\":{\\\"type\\\":\\\"map\\\",\\\"entries\\\":[[\\\"y1\\\",{\\\"type\\\":\\\"ndarray\\\",\\\"array\\\":{\\\"type\\\":\\\"bytes\\\",\\\"data\\\":\\\"AAAAAAAACEA=\\\"},\\\"shape\\\":[1],\\\"dtype\\\":\\\"float64\\\",\\\"order\\\":\\\"little\\\"}],[\\\"x1\\\",[\\\"JON-AB\\\\nJO-15\\\\\\\" (n = 6)\\\"]],[\\\"y0\\\",{\\\"type\\\":\\\"ndarray\\\",\\\"array\\\":{\\\"type\\\":\\\"bytes\\\",\\\"data\\\":\\\"AgAAAA==\\\"},\\\"shape\\\":[1],\\\"dtype\\\":\\\"int32\\\",\\\"order\\\":\\\"little\\\"}],[\\\"x0\\\",[\\\"JON-AB\\\\nJO-15\\\\\\\" (n = 6)\\\"]]]},\\\"cols\\\":[\\\"y1\\\",\\\"x1\\\",\\\"y0\\\",\\\"x0\\\"]},{\\\"kind\\\":\\\"ColumnDataChanged\\\",\\\"model\\\":{\\\"id\\\":\\\"p1477\\\"},\\\"attr\\\":\\\"data\\\",\\\"data\\\":{\\\"type\\\":\\\"map\\\",\\\"entries\\\":[[\\\"y1\\\",[2]],[\\\"x1\\\",[[\\\"JON-AB\\\\nJO-15\\\\\\\" (n = 6)\\\",0.2]]],[\\\"y0\\\",[2]],[\\\"x0\\\",[[\\\"JON-AB\\\\nJO-15\\\\\\\" (n = 6)\\\",-0.2]]]]},\\\"cols\\\":[\\\"y1\\\",\\\"x1\\\",\\\"y0\\\",\\\"x0\\\"]},{\\\"kind\\\":\\\"ColumnDataChanged\\\",\\\"model\\\":{\\\"id\\\":\\\"p1490\\\"},\\\"attr\\\":\\\"data\\\",\\\"data\\\":{\\\"type\\\":\\\"map\\\",\\\"entries\\\":[[\\\"y1\\\",[7]],[\\\"x1\\\",[[\\\"JON-AB\\\\nJO-15\\\\\\\" (n = 6)\\\",0.2]]],[\\\"y0\\\",[7]],[\\\"x0\\\",[[\\\"JON-AB\\\\nJO-15\\\\\\\" (n = 6)\\\",-0.2]]]]},\\\"cols\\\":[\\\"y1\\\",\\\"x1\\\",\\\"y0\\\",\\\"x0\\\"]},{\\\"kind\\\":\\\"ColumnDataChanged\\\",\\\"model\\\":{\\\"id\\\":\\\"p1412\\\"},\\\"attr\\\":\\\"data\\\",\\\"data\\\":{\\\"type\\\":\\\"map\\\",\\\"entries\\\":[[\\\"index\\\",[\\\"JON-AB\\\\nJO-15\\\\\\\" (n = 6)\\\"]]]},\\\"cols\\\":[\\\"index\\\"]},{\\\"kind\\\":\\\"ColumnDataChanged\\\",\\\"model\\\":{\\\"id\\\":\\\"p1425\\\"},\\\"attr\\\":\\\"data\\\",\\\"data\\\":{\\\"type\\\":\\\"map\\\",\\\"entries\\\":[[\\\"index\\\",[\\\"JON-AB\\\\nJO-15\\\\\\\" (n = 6)\\\"]]]},\\\"cols\\\":[\\\"index\\\"]},{\\\"kind\\\":\\\"ColumnDataChanged\\\",\\\"model\\\":{\\\"id\\\":\\\"p1438\\\"},\\\"attr\\\":\\\"data\\\",\\\"data\\\":{\\\"type\\\":\\\"map\\\",\\\"entries\\\":[[\\\"index\\\",[\\\"JON-AB\\\\nJO-15\\\\\\\" (n = 6)\\\"]]]},\\\"cols\\\":[\\\"index\\\"]},{\\\"kind\\\":\\\"ColumnDataChanged\\\",\\\"model\\\":{\\\"id\\\":\\\"p1451\\\"},\\\"attr\\\":\\\"data\\\",\\\"data\\\":{\\\"type\\\":\\\"map\\\",\\\"entries\\\":[[\\\"x0\\\",[\\\"JON-AB\\\\nJO-15\\\\\\\" (n = 6)\\\"]]]},\\\"cols\\\":[\\\"x0\\\"]},{\\\"kind\\\":\\\"ColumnDataChanged\\\",\\\"model\\\":{\\\"id\\\":\\\"p1451\\\"},\\\"attr\\\":\\\"data\\\",\\\"data\\\":{\\\"type\\\":\\\"map\\\",\\\"entries\\\":[[\\\"x1\\\",[\\\"JON-AB\\\\nJO-15\\\\\\\" (n = 6)\\\"]]]},\\\"cols\\\":[\\\"x1\\\"]},{\\\"kind\\\":\\\"ColumnDataChanged\\\",\\\"model\\\":{\\\"id\\\":\\\"p1464\\\"},\\\"attr\\\":\\\"data\\\",\\\"data\\\":{\\\"type\\\":\\\"map\\\",\\\"entries\\\":[[\\\"x0\\\",[\\\"JON-AB\\\\nJO-15\\\\\\\" (n = 6)\\\"]]]},\\\"cols\\\":[\\\"x0\\\"]},{\\\"kind\\\":\\\"ColumnDataChanged\\\",\\\"model\\\":{\\\"id\\\":\\\"p1464\\\"},\\\"attr\\\":\\\"data\\\",\\\"data\\\":{\\\"type\\\":\\\"map\\\",\\\"entries\\\":[[\\\"x1\\\",[\\\"JON-AB\\\\nJO-15\\\\\\\" (n = 6)\\\"]]]},\\\"cols\\\":[\\\"x1\\\"]},{\\\"kind\\\":\\\"ModelChanged\\\",\\\"model\\\":{\\\"id\\\":\\\"p1504\\\"},\\\"attr\\\":\\\"factors\\\",\\\"new\\\":[\\\"JON-AB\\\\nJO-15\\\\\\\" (n = 6)\\\"]},{\\\"kind\\\":\\\"ColumnDataChanged\\\",\\\"model\\\":{\\\"id\\\":\\\"p1505\\\"},\\\"attr\\\":\\\"data\\\",\\\"data\\\":{\\\"type\\\":\\\"map\\\",\\\"entries\\\":[[\\\"Crossing\\\",[\\\"1\\\",\\\"1\\\",\\\"1\\\",\\\"1\\\",\\\"1\\\"]],[\\\"Genotype\\\",[\\\"TNTxG53\\\",\\\"TNTxG53\\\",\\\"TNTxG53\\\",\\\"TNTxG53\\\",\\\"TNTxG53\\\"]],[\\\"label\\\",[\\\"JON-AB\\\\nJO-15\\\\\\\" (n = 6)\\\",\\\"JON-AB\\\\nJO-15\\\\\\\" (n = 6)\\\",\\\"JON-AB\\\\nJO-15\\\\\\\" (n = 6)\\\",\\\"JON-AB\\\\nJO-15\\\\\\\" (n = 6)\\\",\\\"JON-AB\\\\nJO-15\\\\\\\" (n = 6)\\\"]],[\\\"Light\\\",[\\\"on\\\",\\\"on\\\",\\\"on\\\",\\\"on\\\",\\\"on\\\"]],[\\\"fly\\\",[\\\"231121_TNT_Fine_2_Videos_Tracked_arena2_corridor5\\\",\\\"231121_TNT_Fine_2_Videos_Tracked_arena2_corridor1\\\",\\\"231121_TNT_Fine_2_Videos_Tracked_arena2_corridor4\\\",\\\"231121_TNT_Fine_2_Videos_Tracked_arena2_corridor6\\\",\\\"231121_TNT_Fine_2_Videos_Tracked_arena2_corridor3\\\"]],[\\\"FeedingState\\\",[\\\"starved_noWater\\\",\\\"starved_noWater\\\",\\\"starved_noWater\\\",\\\"starved_noWater\\\",\\\"starved_noWater\\\"]],[\\\"color\\\",[\\\"JON-AB\\\\nJO-15\\\\\\\" (n = 6)\\\",\\\"JON-AB\\\\nJO-15\\\\\\\" (n = 6)\\\",\\\"JON-AB\\\\nJO-15\\\\\\\" (n = 6)\\\",\\\"JON-AB\\\\nJO-15\\\\\\\" (n = 6)\\\",\\\"JON-AB\\\\nJO-15\\\\\\\" (n = 6)\\\"]],[\\\"Orientation\\\",[\\\"std\\\",\\\"std\\\",\\\"std\\\",\\\"std\\\",\\\"std\\\"]],[\\\"Period\\\",[\\\"PM15\\\",\\\"PM15\\\",\\\"PM15\\\",\\\"PM15\\\",\\\"PM15\\\"]],[\\\"Date\\\",[\\\"231121\\\",\\\"231121\\\",\\\"231121\\\",\\\"231121\\\",\\\"231121\\\"]],[\\\"FinalEvent\\\",{\\\"type\\\":\\\"ndarray\\\",\\\"array\\\":{\\\"type\\\":\\\"bytes\\\",\\\"data\\\":\\\"EAAAAAIAAAADAAAABAAAAAcAAAA=\\\"},\\\"shape\\\":[5],\\\"dtype\\\":\\\"int32\\\",\\\"order\\\":\\\"little\\\"}]]},\\\"cols\\\":[\\\"Crossing\\\",\\\"Genotype\\\",\\\"label\\\",\\\"Light\\\",\\\"fly\\\",\\\"FeedingState\\\",\\\"color\\\",\\\"Orientation\\\",\\\"Period\\\",\\\"Date\\\",\\\"FinalEvent\\\"]},{\\\"kind\\\":\\\"ModelChanged\\\",\\\"model\\\":{\\\"id\\\":\\\"p1511\\\"},\\\"attr\\\":\\\"y\\\",\\\"new\\\":{\\\"type\\\":\\\"field\\\",\\\"field\\\":\\\"label\\\",\\\"transform\\\":{\\\"type\\\":\\\"object\\\",\\\"name\\\":\\\"Jitter\\\",\\\"id\\\":\\\"p1549\\\",\\\"attributes\\\":{\\\"width\\\":0.3,\\\"range\\\":{\\\"id\\\":\\\"p1372\\\"}}}}},{\\\"kind\\\":\\\"ModelChanged\\\",\\\"model\\\":{\\\"id\\\":\\\"p1513\\\"},\\\"attr\\\":\\\"y\\\",\\\"new\\\":{\\\"type\\\":\\\"field\\\",\\\"field\\\":\\\"label\\\",\\\"transform\\\":{\\\"id\\\":\\\"p1549\\\"}}},{\\\"kind\\\":\\\"ModelChanged\\\",\\\"model\\\":{\\\"id\\\":\\\"p1512\\\"},\\\"attr\\\":\\\"y\\\",\\\"new\\\":{\\\"type\\\":\\\"field\\\",\\\"field\\\":\\\"label\\\",\\\"transform\\\":{\\\"id\\\":\\\"p1549\\\"}}},{\\\"kind\\\":\\\"ModelChanged\\\",\\\"model\\\":{\\\"id\\\":\\\"p1514\\\"},\\\"attr\\\":\\\"y\\\",\\\"new\\\":{\\\"type\\\":\\\"field\\\",\\\"field\\\":\\\"label\\\",\\\"transform\\\":{\\\"id\\\":\\\"p1549\\\"}}},{\\\"kind\\\":\\\"ModelChanged\\\",\\\"model\\\":{\\\"id\\\":\\\"p1515\\\"},\\\"attr\\\":\\\"y\\\",\\\"new\\\":{\\\"type\\\":\\\"field\\\",\\\"field\\\":\\\"label\\\",\\\"transform\\\":{\\\"id\\\":\\\"p1549\\\"}}},{\\\"kind\\\":\\\"ColumnDataChanged\\\",\\\"model\\\":{\\\"id\\\":\\\"p1505\\\"},\\\"attr\\\":\\\"data\\\",\\\"data\\\":{\\\"type\\\":\\\"map\\\",\\\"entries\\\":[[\\\"Genotype\\\",[\\\"TNTxG53\\\",\\\"TNTxG53\\\",\\\"TNTxG53\\\",\\\"TNTxG53\\\",\\\"TNTxG53\\\"]]]},\\\"cols\\\":[\\\"Genotype\\\"]},{\\\"kind\\\":\\\"ColumnDataChanged\\\",\\\"model\\\":{\\\"id\\\":\\\"p1505\\\"},\\\"attr\\\":\\\"data\\\",\\\"data\\\":{\\\"type\\\":\\\"map\\\",\\\"entries\\\":[[\\\"Period\\\",[\\\"PM15\\\",\\\"PM15\\\",\\\"PM15\\\",\\\"PM15\\\",\\\"PM15\\\"]]]},\\\"cols\\\":[\\\"Period\\\"]},{\\\"kind\\\":\\\"ColumnDataChanged\\\",\\\"model\\\":{\\\"id\\\":\\\"p1505\\\"},\\\"attr\\\":\\\"data\\\",\\\"data\\\":{\\\"type\\\":\\\"map\\\",\\\"entries\\\":[[\\\"fly\\\",[\\\"231121_TNT_Fine_2_Videos_Tracked_arena2_corridor5\\\",\\\"231121_TNT_Fine_2_Videos_Tracked_arena2_corridor1\\\",\\\"231121_TNT_Fine_2_Videos_Tracked_arena2_corridor4\\\",\\\"231121_TNT_Fine_2_Videos_Tracked_arena2_corridor6\\\",\\\"231121_TNT_Fine_2_Videos_Tracked_arena2_corridor3\\\"]]]},\\\"cols\\\":[\\\"fly\\\"]},{\\\"kind\\\":\\\"ColumnDataChanged\\\",\\\"model\\\":{\\\"id\\\":\\\"p1505\\\"},\\\"attr\\\":\\\"data\\\",\\\"data\\\":{\\\"type\\\":\\\"map\\\",\\\"entries\\\":[[\\\"color\\\",[\\\"JON-AB\\\\nJO-15\\\\\\\" (n = 6)\\\",\\\"JON-AB\\\\nJO-15\\\\\\\" (n = 6)\\\",\\\"JON-AB\\\\nJO-15\\\\\\\" (n = 6)\\\",\\\"JON-AB\\\\nJO-15\\\\\\\" (n = 6)\\\",\\\"JON-AB\\\\nJO-15\\\\\\\" (n = 6)\\\"]]]},\\\"cols\\\":[\\\"color\\\"]}]}\"]]}]]},\"widgets\":{\"type\":\"map\",\"entries\":[[\"p1528\",0]]},\"values\":[\"JON\"]}}],\"defs\":[{\"type\":\"model\",\"name\":\"ReactiveHTML1\"},{\"type\":\"model\",\"name\":\"FlexBox1\",\"properties\":[{\"name\":\"align_content\",\"kind\":\"Any\",\"default\":\"flex-start\"},{\"name\":\"align_items\",\"kind\":\"Any\",\"default\":\"flex-start\"},{\"name\":\"flex_direction\",\"kind\":\"Any\",\"default\":\"row\"},{\"name\":\"flex_wrap\",\"kind\":\"Any\",\"default\":\"wrap\"},{\"name\":\"justify_content\",\"kind\":\"Any\",\"default\":\"flex-start\"}]},{\"type\":\"model\",\"name\":\"FloatPanel1\",\"properties\":[{\"name\":\"config\",\"kind\":\"Any\",\"default\":{\"type\":\"map\"}},{\"name\":\"contained\",\"kind\":\"Any\",\"default\":true},{\"name\":\"position\",\"kind\":\"Any\",\"default\":\"right-top\"},{\"name\":\"offsetx\",\"kind\":\"Any\",\"default\":null},{\"name\":\"offsety\",\"kind\":\"Any\",\"default\":null},{\"name\":\"theme\",\"kind\":\"Any\",\"default\":\"primary\"},{\"name\":\"status\",\"kind\":\"Any\",\"default\":\"normalized\"}]},{\"type\":\"model\",\"name\":\"GridStack1\",\"properties\":[{\"name\":\"mode\",\"kind\":\"Any\",\"default\":\"warn\"},{\"name\":\"ncols\",\"kind\":\"Any\",\"default\":null},{\"name\":\"nrows\",\"kind\":\"Any\",\"default\":null},{\"name\":\"allow_resize\",\"kind\":\"Any\",\"default\":true},{\"name\":\"allow_drag\",\"kind\":\"Any\",\"default\":true},{\"name\":\"state\",\"kind\":\"Any\",\"default\":[]}]},{\"type\":\"model\",\"name\":\"drag1\",\"properties\":[{\"name\":\"slider_width\",\"kind\":\"Any\",\"default\":5},{\"name\":\"slider_color\",\"kind\":\"Any\",\"default\":\"black\"},{\"name\":\"value\",\"kind\":\"Any\",\"default\":50}]},{\"type\":\"model\",\"name\":\"click1\",\"properties\":[{\"name\":\"terminal_output\",\"kind\":\"Any\",\"default\":\"\"},{\"name\":\"debug_name\",\"kind\":\"Any\",\"default\":\"\"},{\"name\":\"clears\",\"kind\":\"Any\",\"default\":0}]},{\"type\":\"model\",\"name\":\"copy_to_clipboard1\",\"properties\":[{\"name\":\"fill\",\"kind\":\"Any\",\"default\":\"none\"},{\"name\":\"value\",\"kind\":\"Any\",\"default\":null}]},{\"type\":\"model\",\"name\":\"FastWrapper1\",\"properties\":[{\"name\":\"object\",\"kind\":\"Any\",\"default\":null},{\"name\":\"style\",\"kind\":\"Any\",\"default\":null}]},{\"type\":\"model\",\"name\":\"NotificationAreaBase1\",\"properties\":[{\"name\":\"js_events\",\"kind\":\"Any\",\"default\":{\"type\":\"map\"}},{\"name\":\"position\",\"kind\":\"Any\",\"default\":\"bottom-right\"},{\"name\":\"_clear\",\"kind\":\"Any\",\"default\":0}]},{\"type\":\"model\",\"name\":\"NotificationArea1\",\"properties\":[{\"name\":\"js_events\",\"kind\":\"Any\",\"default\":{\"type\":\"map\"}},{\"name\":\"notifications\",\"kind\":\"Any\",\"default\":[]},{\"name\":\"position\",\"kind\":\"Any\",\"default\":\"bottom-right\"},{\"name\":\"_clear\",\"kind\":\"Any\",\"default\":0},{\"name\":\"types\",\"kind\":\"Any\",\"default\":[{\"type\":\"map\",\"entries\":[[\"type\",\"warning\"],[\"background\",\"#ffc107\"],[\"icon\",{\"type\":\"map\",\"entries\":[[\"className\",\"fas fa-exclamation-triangle\"],[\"tagName\",\"i\"],[\"color\",\"white\"]]}]]},{\"type\":\"map\",\"entries\":[[\"type\",\"info\"],[\"background\",\"#007bff\"],[\"icon\",{\"type\":\"map\",\"entries\":[[\"className\",\"fas fa-info-circle\"],[\"tagName\",\"i\"],[\"color\",\"white\"]]}]]}]}]},{\"type\":\"model\",\"name\":\"Notification\",\"properties\":[{\"name\":\"background\",\"kind\":\"Any\",\"default\":null},{\"name\":\"duration\",\"kind\":\"Any\",\"default\":3000},{\"name\":\"icon\",\"kind\":\"Any\",\"default\":null},{\"name\":\"message\",\"kind\":\"Any\",\"default\":\"\"},{\"name\":\"notification_type\",\"kind\":\"Any\",\"default\":null},{\"name\":\"_destroyed\",\"kind\":\"Any\",\"default\":false}]},{\"type\":\"model\",\"name\":\"TemplateActions1\",\"properties\":[{\"name\":\"open_modal\",\"kind\":\"Any\",\"default\":0},{\"name\":\"close_modal\",\"kind\":\"Any\",\"default\":0}]},{\"type\":\"model\",\"name\":\"BootstrapTemplateActions1\",\"properties\":[{\"name\":\"open_modal\",\"kind\":\"Any\",\"default\":0},{\"name\":\"close_modal\",\"kind\":\"Any\",\"default\":0}]},{\"type\":\"model\",\"name\":\"MaterialTemplateActions1\",\"properties\":[{\"name\":\"open_modal\",\"kind\":\"Any\",\"default\":0},{\"name\":\"close_modal\",\"kind\":\"Any\",\"default\":0}]}]}};\n",
       "  var render_items = [{\"docid\":\"47b4824c-7f79-48d4-8e23-7a7f5dd319e2\",\"roots\":{\"p1366\":\"b76fbb4c-b4c2-4d76-b9d7-ea5ef6ab4f11\"},\"root_ids\":[\"p1366\"]}];\n",
       "  var docs = Object.values(docs_json)\n",
       "  if (!docs) {\n",
       "    return\n",
       "  }\n",
       "  const py_version = docs[0].version.replace('rc', '-rc.').replace('.dev', '-dev.')\n",
       "  function embed_document(root) {\n",
       "    var Bokeh = get_bokeh(root)\n",
       "    Bokeh.embed.embed_items_notebook(docs_json, render_items);\n",
       "    for (const render_item of render_items) {\n",
       "      for (const root_id of render_item.root_ids) {\n",
       "\tconst id_el = document.getElementById(root_id)\n",
       "\tif (id_el.children.length && (id_el.children[0].className === 'bk-root')) {\n",
       "\t  const root_el = id_el.children[0]\n",
       "\t  root_el.id = root_el.id + '-rendered'\n",
       "\t}\n",
       "      }\n",
       "    }\n",
       "  }\n",
       "  function get_bokeh(root) {\n",
       "    if (root.Bokeh === undefined) {\n",
       "      return null\n",
       "    } else if (root.Bokeh.version !== py_version) {\n",
       "      if (root.Bokeh.versions === undefined || !root.Bokeh.versions.has(py_version)) {\n",
       "\treturn null\n",
       "      }\n",
       "      return root.Bokeh.versions.get(py_version);\n",
       "    } else if (root.Bokeh.version === py_version) {\n",
       "      return root.Bokeh\n",
       "    }\n",
       "    return null\n",
       "  }\n",
       "  function is_loaded(root) {\n",
       "    var Bokeh = get_bokeh(root)\n",
       "    return (Bokeh != null && Bokeh.Panel !== undefined)\n",
       "  }\n",
       "  if (is_loaded(root)) {\n",
       "    embed_document(root);\n",
       "  } else {\n",
       "    var attempts = 0;\n",
       "    var timer = setInterval(function(root) {\n",
       "      if (is_loaded(root)) {\n",
       "        clearInterval(timer);\n",
       "        embed_document(root);\n",
       "      } else if (document.readyState == \"complete\") {\n",
       "        attempts++;\n",
       "        if (attempts > 200) {\n",
       "          clearInterval(timer);\n",
       "\t  var Bokeh = get_bokeh(root)\n",
       "\t  if (Bokeh == null || Bokeh.Panel == null) {\n",
       "            console.warn(\"Panel: ERROR: Unable to run Panel code because Bokeh or Panel library is missing\");\n",
       "\t  } else {\n",
       "\t    console.warn(\"Panel: WARNING: Attempting to render but not all required libraries could be resolved.\")\n",
       "\t    embed_document(root)\n",
       "\t  }\n",
       "        }\n",
       "      }\n",
       "    }, 25, root)\n",
       "  }\n",
       "})(window);</script>"
      ],
      "text/plain": [
       ":HoloMap   [Brain region]\n",
       "   :Overlay\n",
       "      .BoxWhisker.I :BoxWhisker   [label]   (FinalEvent)\n",
       "      .Scatter.I    :Scatter   [label]   (FinalEvent,Date,Genotype,Period,FeedingState,Orientation,Light,Crossing,fly)"
      ]
     },
     "execution_count": 9,
     "metadata": {
      "application/vnd.holoviews_exec.v0+json": {
       "id": "p1366"
      }
     },
     "output_type": "execute_result"
    }
   ],
   "source": [
    "data = Ballpushing_utils.Dataset(\n",
    "    [\n",
    "        Ballpushing_utils.Experiment(\n",
    "            Path(\n",
    "                \"/mnt/labserver/DURRIEU_Matthias/Experimental_data/MultiMazeRecorder/Videos/231121_TNT_Fine_1_Videos_Tracked/\"\n",
    "            )\n",
    "        ),\n",
    "        Ballpushing_utils.Experiment(\n",
    "            Path(\n",
    "                \"/mnt/labserver/DURRIEU_Matthias/Experimental_data/MultiMazeRecorder/Videos/231121_TNT_Fine_2_Videos_Tracked/\"\n",
    "            )\n",
    "        ),\n",
    "    ]\n",
    ")\n",
    "\n",
    "data.generate_dataset(\"summary\")\n",
    "\n",
    "data.jitter_boxplot(data.data, \"FinalEvent\", save=True)"
   ]
  },
  {
   "cell_type": "code",
   "execution_count": null,
   "metadata": {},
   "outputs": [],
   "source": [
    "mydata = data.data"
   ]
  },
  {
   "cell_type": "code",
   "execution_count": null,
   "metadata": {},
   "outputs": [],
   "source": [
    "data.jitter_boxplot(data.data, \"SignificantEvents\", save=True)"
   ]
  },
  {
   "cell_type": "code",
   "execution_count": null,
   "metadata": {},
   "outputs": [],
   "source": [
    "data.data"
   ]
  },
  {
   "cell_type": "code",
   "execution_count": null,
   "metadata": {},
   "outputs": [],
   "source": [
    "def jitter_boxplot(\n",
    "    dataset, data, vdim, plot_options=hv_main, show=True, save=False, outpath=None\n",
    "):\n",
    "    # Get the metadata for the tooltips\n",
    "    tooltips = [\n",
    "        (\"Fly\", \"@fly\"),\n",
    "        (vdim.capitalize(), f\"@{vdim}\"),\n",
    "    ]\n",
    "\n",
    "    # Add the metadata to the tooltips\n",
    "    for var in dataset.metadata:\n",
    "        tooltips.append((var.capitalize(), f\"@{var}\"))\n",
    "\n",
    "    hover = HoverTool(tooltips=tooltips)\n",
    "\n",
    "    # Compute the bootstrap confidence interval for the metric\n",
    "    bs_ci = dataset.compute_bs_ci(vdim, [\"TNTxG78\", \"TNTxG75\", \"TNTxG79\"])\n",
    "\n",
    "    y_min = data[vdim].min()\n",
    "    y_max = data[vdim].max()\n",
    "\n",
    "    hv_boxplot = (\n",
    "        hv.BoxWhisker(\n",
    "            data=data,\n",
    "            vdims=vdim,\n",
    "            kdims=[\"label\", \"Brain region\"],\n",
    "        )\n",
    "        .groupby([\"Brain region\"])\n",
    "        .opts(\n",
    "            box_fill_color=None,\n",
    "            box_line_color=\"black\",\n",
    "            outlier_fill_color=None,\n",
    "            outlier_line_color=None,\n",
    "            framewise=True,\n",
    "        )\n",
    "    )\n",
    "    hv_boxplot.opts(ylim=(y_min, y_max))\n",
    "\n",
    "    hv_scatterplot = (\n",
    "        hv.Scatter(\n",
    "            data=data,\n",
    "            vdims=[vdim] + dataset.metadata + [\"fly\"],\n",
    "            kdims=[\"label\", \"Brain region\"],\n",
    "        )\n",
    "        .groupby(\"Brain region\")\n",
    "        .opts(jitter=0.3,\n",
    "        color=\"label\",\n",
    "        alpha=0.5,\n",
    "        size=6,\n",
    "        cmap=\"Category10\",\n",
    "        framewise=True, tools=[hover])\n",
    "    )\n",
    "    hv_scatterplot.opts(ylim=(y_min, y_max))\n",
    "\n",
    "    # Create an Area plot for the confidence interval\n",
    "    hv_bs_ci = hv.HSpan(bs_ci[0], bs_ci[1]).opts(fill_alpha=0.2, color=\"red\")\n",
    "\n",
    "    hv_jitter_boxplot = (hv_boxplot * hv_scatterplot * hv_bs_ci).opts(\n",
    "        **plot_options[\"plot\"]\n",
    "    )\n",
    "\n",
    "    if show:\n",
    "        hv.render(hv_jitter_boxplot)\n",
    "    if save:\n",
    "        if outpath is None:\n",
    "            now = datetime.datetime.now()  # get current date and time\n",
    "            date_time = now.strftime(\"%Y%m%d_%H%M\")  # format as a string\n",
    "\n",
    "            output_path = (\n",
    "                get_labserver()\n",
    "                / \"Experimental_data\"\n",
    "                / \"MultiMazeRecorder\"\n",
    "                / \"Plots\"\n",
    "                / f\"{vdim}Number_{date_time}.html\"\n",
    "            )\n",
    "\n",
    "        hv.save(hv_jitter_boxplot, output_path)\n",
    "\n",
    "    return hv_jitter_boxplot"
   ]
  },
  {
   "cell_type": "code",
   "execution_count": null,
   "metadata": {},
   "outputs": [],
   "source": [
    "plot = jitter_boxplot(data, data.data, \"NumberEvents\", show=True, save=True)\n",
    "\n",
    "plot"
   ]
  },
  {
   "cell_type": "code",
   "execution_count": null,
   "metadata": {},
   "outputs": [],
   "source": [
    "# Assuming 'df' is your DataFrame and 'grouped' is the grouped data\n",
    "grouped = data.data.groupby(\"Brain region\")\n",
    "\n",
    "# To inspect a particular group, say 'Group_Name'\n",
    "#specific_group = grouped.get_group(\"Group_Name\")\n",
    "\n",
    "# Now 'specific_group' is a DataFrame that contains only the data for 'Group_Name'\n",
    "#print(specific_group)"
   ]
  },
  {
   "cell_type": "code",
   "execution_count": null,
   "metadata": {},
   "outputs": [],
   "source": [
    "for name, group in grouped:\n",
    "    print(f\"Group: {name}\")\n",
    "    print(group)"
   ]
  },
  {
   "cell_type": "code",
   "execution_count": null,
   "metadata": {},
   "outputs": [],
   "source": [
    "print(grouped.groups)"
   ]
  },
  {
   "cell_type": "code",
   "execution_count": null,
   "metadata": {},
   "outputs": [],
   "source": [
    "grouped.get_group(\"MB\")"
   ]
  },
  {
   "cell_type": "markdown",
   "metadata": {},
   "source": [
    "# Fixing the metrics not plotting correctly"
   ]
  },
  {
   "cell_type": "code",
   "execution_count": null,
   "metadata": {},
   "outputs": [],
   "source": [
    "data.jitter_boxplot(data.data, \"FinalTime\")"
   ]
  },
  {
   "cell_type": "markdown",
   "metadata": {},
   "source": [
    "# Improving experiments loading\n",
    "\n",
    "In particular, I have the 240201_TNT_Fine_2_Videos_Tracked_arena7 that seems to have issues. I guess it does not detect the arena as empty although it is, and then cannot find the fly."
   ]
  },
  {
   "cell_type": "code",
   "execution_count": 3,
   "metadata": {},
   "outputs": [
    {
     "data": {
      "text/plain": [
       "<module 'Ballpushing_utils' from '/home/durrieu/Tracking_Analysis/Utilities/Ballpushing_utils.py'>"
      ]
     },
     "execution_count": 3,
     "metadata": {},
     "output_type": "execute_result"
    }
   ],
   "source": [
    "# Reload Ballpushing_utils\n",
    "importlib.reload(Ballpushing_utils)"
   ]
  },
  {
   "cell_type": "code",
   "execution_count": 11,
   "metadata": {},
   "outputs": [],
   "source": [
    "# Import the experiment\n",
    "\n",
    "TestExp = Ballpushing_utils.Experiment(\n",
    "    Path(\n",
    "        \"/mnt/labserver/DURRIEU_Matthias/Experimental_data/MultiMazeRecorder/Videos/231128_TNT_Fine_1_Videos_Tracked\"\n",
    "    )\n",
    ")"
   ]
  },
  {
   "cell_type": "code",
   "execution_count": 7,
   "metadata": {},
   "outputs": [
    {
     "name": "stderr",
     "output_type": "stream",
     "text": [
      "ic| TestExp: Experiment(/mnt/labserver/DURRIEU_Matthias/Experimental_data/MultiMazeRecorder/Videos/240201_TNT_Fine_2_Videos_Tracked)\n"
     ]
    },
    {
     "data": {
      "text/plain": [
       "Experiment(/mnt/labserver/DURRIEU_Matthias/Experimental_data/MultiMazeRecorder/Videos/240201_TNT_Fine_2_Videos_Tracked)"
      ]
     },
     "execution_count": 7,
     "metadata": {},
     "output_type": "execute_result"
    }
   ],
   "source": [
    "ic(TestExp)"
   ]
  },
  {
   "cell_type": "code",
   "execution_count": 12,
   "metadata": {},
   "outputs": [
    {
     "data": {
      "text/plain": [
       "'MB371B'"
      ]
     },
     "execution_count": 12,
     "metadata": {},
     "output_type": "execute_result"
    }
   ],
   "source": [
    "TestExp.flies[1].nickname"
   ]
  },
  {
   "cell_type": "code",
   "execution_count": null,
   "metadata": {},
   "outputs": [],
   "source": []
  },
  {
   "cell_type": "markdown",
   "metadata": {},
   "source": [
    "# "
   ]
  }
 ],
 "metadata": {
  "kernelspec": {
   "display_name": "Main",
   "language": "python",
   "name": "python3"
  },
  "language_info": {
   "codemirror_mode": {
    "name": "ipython",
    "version": 3
   },
   "file_extension": ".py",
   "mimetype": "text/x-python",
   "name": "python",
   "nbconvert_exporter": "python",
   "pygments_lexer": "ipython3",
   "version": "3.10.13"
  }
 },
 "nbformat": 4,
 "nbformat_minor": 2
}
