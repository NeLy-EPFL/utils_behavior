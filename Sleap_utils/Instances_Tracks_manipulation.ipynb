{
 "cells": [
  {
   "cell_type": "code",
   "execution_count": 2,
   "metadata": {},
   "outputs": [],
   "source": [
    "\n",
    "import sleap_io\n",
    "\n",
    "from concurrent.futures import ThreadPoolExecutor\n",
    "import tqdm\n",
    "\n",
    "from pathlib import Path\n",
    "\n",
    "import subprocess\n",
    "import os"
   ]
  },
  {
   "cell_type": "code",
   "execution_count": 75,
   "metadata": {},
   "outputs": [],
   "source": [
    "Test_labels = sleap_io.load_slp(\"/mnt/upramdya_data/MD/F1_Tracks/Videos/240924_F1_3mm_ends_Videos_Checked/arena2/Right/arena2_right_rotated_tracked_ball.slp\")"
   ]
  },
  {
   "cell_type": "code",
   "execution_count": 76,
   "metadata": {},
   "outputs": [
    {
     "data": {
      "text/plain": [
       "Labels(labeled_frames=261006, videos=1, skeletons=1, tracks=0, suggestions=0)"
      ]
     },
     "execution_count": 76,
     "metadata": {},
     "output_type": "execute_result"
    }
   ],
   "source": [
    "Test_labels"
   ]
  },
  {
   "cell_type": "code",
   "execution_count": 5,
   "metadata": {
    "notebookRunGroups": {
     "groupValue": "2"
    }
   },
   "outputs": [
    {
     "data": {
      "text/plain": [
       "[PredictedInstance(points=[[46.98500442504883, 287.9368591308594]], track=None, score=0.51, tracking_score=0.00),\n",
       " PredictedInstance(points=[[239.2644805908203, 439.47406005859375]], track=None, score=0.42, tracking_score=0.00)]"
      ]
     },
     "execution_count": 5,
     "metadata": {},
     "output_type": "execute_result"
    }
   ],
   "source": [
    "# Frame 1\n",
    "\n",
    "Test_labels[0].instances"
   ]
  },
  {
   "cell_type": "code",
   "execution_count": 9,
   "metadata": {},
   "outputs": [],
   "source": [
    "Test_labels[0].instances[0].track = \"track_1\""
   ]
  },
  {
   "cell_type": "code",
   "execution_count": 10,
   "metadata": {},
   "outputs": [
    {
     "data": {
      "text/plain": [
       "'track_1'"
      ]
     },
     "execution_count": 10,
     "metadata": {},
     "output_type": "execute_result"
    }
   ],
   "source": [
    "Test_labels[0].instances[0].track"
   ]
  },
  {
   "cell_type": "code",
   "execution_count": 40,
   "metadata": {},
   "outputs": [
    {
     "data": {
      "text/plain": [
       "46.98500442504883"
      ]
     },
     "execution_count": 40,
     "metadata": {},
     "output_type": "execute_result"
    }
   ],
   "source": [
    "next(iter(Test_labels[0].instances[0].points.items()))[1].x"
   ]
  },
  {
   "cell_type": "code",
   "execution_count": 49,
   "metadata": {},
   "outputs": [
    {
     "data": {
      "text/plain": [
       "{Node(name='centre'): PredictedPoint(x=46.98500442504883, y=287.9368591308594, visible=True, complete=False, score=0.7572789192199707)}"
      ]
     },
     "execution_count": 49,
     "metadata": {},
     "output_type": "execute_result"
    }
   ],
   "source": [
    "Test_labels[0].instances[0].points\n"
   ]
  },
  {
   "cell_type": "code",
   "execution_count": 77,
   "metadata": {},
   "outputs": [],
   "source": [
    "Test_labels.tracks.append(sleap_io.Track(name=\"track_1\"))\n",
    "Test_labels.tracks.append(sleap_io.Track(name=\"track_2\"))"
   ]
  },
  {
   "cell_type": "code",
   "execution_count": 78,
   "metadata": {},
   "outputs": [],
   "source": [
    "Subset_Test_labels = Test_labels[0:10]"
   ]
  },
  {
   "cell_type": "code",
   "execution_count": 80,
   "metadata": {},
   "outputs": [
    {
     "data": {
      "text/plain": [
       "[LabeledFrame(video=Video(filename=\"/mnt/upramdya_data/MD/F1_Tracks/Videos/240924_F1_3mm_ends_Videos_Checked/arena2/Right/arena2_right_rotated.mp4\", shape=(261006, 570, 260, 1), backend=MediaVideo), frame_idx=0, instances=[PredictedInstance(points=[[46.98500442504883, 287.9368591308594]], track=None, score=0.51, tracking_score=0.00), PredictedInstance(points=[[239.2644805908203, 439.47406005859375]], track=None, score=0.42, tracking_score=0.00)]),\n",
       " LabeledFrame(video=Video(filename=\"/mnt/upramdya_data/MD/F1_Tracks/Videos/240924_F1_3mm_ends_Videos_Checked/arena2/Right/arena2_right_rotated.mp4\", shape=(261006, 570, 260, 1), backend=MediaVideo), frame_idx=1, instances=[PredictedInstance(points=[[46.986419677734375, 287.9563903808594]], track=None, score=0.51, tracking_score=0.00), PredictedInstance(points=[[239.25283813476562, 439.4856872558594]], track=None, score=0.43, tracking_score=0.00)]),\n",
       " LabeledFrame(video=Video(filename=\"/mnt/upramdya_data/MD/F1_Tracks/Videos/240924_F1_3mm_ends_Videos_Checked/arena2/Right/arena2_right_rotated.mp4\", shape=(261006, 570, 260, 1), backend=MediaVideo), frame_idx=2, instances=[PredictedInstance(points=[[46.99557113647461, 287.9620056152344]], track=None, score=0.50, tracking_score=0.00), PredictedInstance(points=[[239.26498413085938, 439.48291015625]], track=None, score=0.43, tracking_score=0.00)]),\n",
       " LabeledFrame(video=Video(filename=\"/mnt/upramdya_data/MD/F1_Tracks/Videos/240924_F1_3mm_ends_Videos_Checked/arena2/Right/arena2_right_rotated.mp4\", shape=(261006, 570, 260, 1), backend=MediaVideo), frame_idx=3, instances=[PredictedInstance(points=[[47.0070686340332, 287.9851379394531]], track=None, score=0.50, tracking_score=0.00), PredictedInstance(points=[[239.27386474609375, 439.4814147949219]], track=None, score=0.42, tracking_score=0.00)]),\n",
       " LabeledFrame(video=Video(filename=\"/mnt/upramdya_data/MD/F1_Tracks/Videos/240924_F1_3mm_ends_Videos_Checked/arena2/Right/arena2_right_rotated.mp4\", shape=(261006, 570, 260, 1), backend=MediaVideo), frame_idx=4, instances=[PredictedInstance(points=[[47.0084342956543, 287.9640808105469]], track=None, score=0.50, tracking_score=0.00), PredictedInstance(points=[[239.27218627929688, 439.4779968261719]], track=None, score=0.42, tracking_score=0.00)]),\n",
       " LabeledFrame(video=Video(filename=\"/mnt/upramdya_data/MD/F1_Tracks/Videos/240924_F1_3mm_ends_Videos_Checked/arena2/Right/arena2_right_rotated.mp4\", shape=(261006, 570, 260, 1), backend=MediaVideo), frame_idx=5, instances=[PredictedInstance(points=[[47.00271224975586, 287.9929504394531]], track=None, score=0.50, tracking_score=0.00), PredictedInstance(points=[[239.2682647705078, 439.49462890625]], track=None, score=0.42, tracking_score=0.00)]),\n",
       " LabeledFrame(video=Video(filename=\"/mnt/upramdya_data/MD/F1_Tracks/Videos/240924_F1_3mm_ends_Videos_Checked/arena2/Right/arena2_right_rotated.mp4\", shape=(261006, 570, 260, 1), backend=MediaVideo), frame_idx=6, instances=[PredictedInstance(points=[[46.984920501708984, 287.99041748046875]], track=None, score=0.49, tracking_score=0.00), PredictedInstance(points=[[239.26194763183594, 439.4810791015625]], track=None, score=0.40, tracking_score=0.00)]),\n",
       " LabeledFrame(video=Video(filename=\"/mnt/upramdya_data/MD/F1_Tracks/Videos/240924_F1_3mm_ends_Videos_Checked/arena2/Right/arena2_right_rotated.mp4\", shape=(261006, 570, 260, 1), backend=MediaVideo), frame_idx=7, instances=[PredictedInstance(points=[[46.980712890625, 287.95794677734375]], track=None, score=0.49, tracking_score=0.00), PredictedInstance(points=[[239.2611541748047, 439.4808044433594]], track=None, score=0.41, tracking_score=0.00)]),\n",
       " LabeledFrame(video=Video(filename=\"/mnt/upramdya_data/MD/F1_Tracks/Videos/240924_F1_3mm_ends_Videos_Checked/arena2/Right/arena2_right_rotated.mp4\", shape=(261006, 570, 260, 1), backend=MediaVideo), frame_idx=8, instances=[PredictedInstance(points=[[46.97996520996094, 287.9604187011719]], track=None, score=0.49, tracking_score=0.00), PredictedInstance(points=[[239.2673797607422, 439.4952087402344]], track=None, score=0.40, tracking_score=0.00)]),\n",
       " LabeledFrame(video=Video(filename=\"/mnt/upramdya_data/MD/F1_Tracks/Videos/240924_F1_3mm_ends_Videos_Checked/arena2/Right/arena2_right_rotated.mp4\", shape=(261006, 570, 260, 1), backend=MediaVideo), frame_idx=9, instances=[PredictedInstance(points=[[46.98493194580078, 287.9424743652344]], track=None, score=0.50, tracking_score=0.00), PredictedInstance(points=[[238.4387969970703, 439.4781799316406]], track=None, score=0.40, tracking_score=0.00)])]"
      ]
     },
     "execution_count": 80,
     "metadata": {},
     "output_type": "execute_result"
    }
   ],
   "source": [
    "Subset_Test_labels"
   ]
  },
  {
   "cell_type": "code",
   "execution_count": 91,
   "metadata": {},
   "outputs": [
    {
     "data": {
      "text/plain": [
       "[Track(name='track_1'), Track(name='track_2')]"
      ]
     },
     "execution_count": 91,
     "metadata": {},
     "output_type": "execute_result"
    }
   ],
   "source": [
    "Test_labels.tracks"
   ]
  },
  {
   "cell_type": "code",
   "execution_count": 3,
   "metadata": {},
   "outputs": [],
   "source": [
    "def prune_instances_tracks(input, verbose=False):\n",
    "    # Load the SLP file\n",
    "    print(\"Loading labels\")\n",
    "    \n",
    "    input_path = Path(input)\n",
    "    \n",
    "    # Check if the file has already been processed\n",
    "    if \"_processed\" in input_path.stem:\n",
    "        print(\"File already processed, skipping\")\n",
    "        return\n",
    "    \n",
    "    Labels = sleap_io.load_slp(input)\n",
    "    \n",
    "    if len(Labels.tracks) > 2:\n",
    "        print(\"Too many tracks defined, removing all\")\n",
    "        for frame in Labels:\n",
    "            for instance in frame.instances:\n",
    "                instance.track = None\n",
    "        Labels.tracks = []\n",
    "    \n",
    "    if len(Labels.tracks) == 0:\n",
    "        Labels.tracks.append(sleap_io.Track(name=\"track_1\"))\n",
    "        Labels.tracks.append(sleap_io.Track(name=\"track_2\"))\n",
    "    \n",
    "    for frame in Labels:\n",
    "        if verbose:\n",
    "            print(f\"Processing frame {frame.frame_idx}\")\n",
    "        \n",
    "        # Sort by confidence\n",
    "        frame.instances.sort(key=lambda x: x.score, reverse=True)\n",
    "        if verbose:\n",
    "            print(f\"Instances sorted by confidence: {frame.instances}\")\n",
    "        \n",
    "        # Keep the 2 highest confidence that are not too close in x\n",
    "        kept_instances = []\n",
    "        for instance in frame.instances:\n",
    "            if len(kept_instances) == 0:\n",
    "                kept_instances.append(instance)\n",
    "                x1 = next(iter(kept_instances[0].points.items()))[1].x\n",
    "                if verbose:\n",
    "                    print(f\"First kept instance x: {x1}\")\n",
    "            elif len(kept_instances) == 1:\n",
    "                first_x = next(iter(kept_instances[0].points.items()))[1].x\n",
    "                inst_x = next(iter(instance.points.items()))[1].x\n",
    "                if verbose:\n",
    "                    print(f\"Comparing x values: first_x={first_x}, inst_x={inst_x}\")\n",
    "                \n",
    "                if abs(first_x - inst_x) > 90:\n",
    "                    kept_instances.append(instance)\n",
    "                    x2 = next(iter(kept_instances[1].points.items()))[1].x\n",
    "                    if verbose:\n",
    "                        print(f\"Second kept instance x: {x2}\")\n",
    "            else:\n",
    "                break\n",
    "        \n",
    "        # Sort by x\n",
    "        kept_instances.sort(key=lambda x: next(iter(x.points.items()))[1].x)\n",
    "        if verbose:\n",
    "            print(f\"Kept instances sorted by x: {kept_instances}\")\n",
    "        \n",
    "        # Update the frame instances\n",
    "        frame.instances = kept_instances\n",
    "        if verbose:\n",
    "            print(f\"Updated frame instances: {frame.instances}\")\n",
    "        \n",
    "        # Ensure track_1 is always left (lower x value) and track_2 is always right (higher x value)\n",
    "        frame.instances.sort(key=lambda x: next(iter(x.points.items()))[1].x)\n",
    "        for n, instance in enumerate(frame.instances):\n",
    "            if verbose:\n",
    "                print(f\"Frame {frame.frame_idx}, instance {n}\")\n",
    "            instance_x = next(iter(instance.points.items()))[1].x\n",
    "            if verbose:\n",
    "                print(f\"Instance x: {instance_x}\")\n",
    "            # Add track names\n",
    "            instance.track = Labels.tracks[n]\n",
    "            if verbose:\n",
    "                print(f\"Assigned track name: {instance.track}\")\n",
    "        \n",
    "        if verbose:\n",
    "            print(\"Updated frame instances\")\n",
    "            print(frame.instances)\n",
    "                \n",
    "    print(\"Saving updated labels\")\n",
    "    sleap_io.save_slp(Labels, input)\n",
    "    \n",
    "    # # Rename the file to indicate it has been processed\n",
    "    processed_filename = input_path.stem + \"_processed\" + input_path.suffix\n",
    "    processed_path = input_path.with_name(processed_filename)\n",
    "    try:\n",
    "        os.rename(input, processed_path)\n",
    "        print(f\"Renamed file to {processed_path}\")\n",
    "    except OSError as e:\n",
    "        print(f\"Error renaming file: {e}\")\n"
   ]
  },
  {
   "cell_type": "code",
   "execution_count": 84,
   "metadata": {},
   "outputs": [
    {
     "data": {
      "text/plain": [
       "Labels(labeled_frames=261006, videos=1, skeletons=1, tracks=2, suggestions=0)"
      ]
     },
     "execution_count": 84,
     "metadata": {},
     "output_type": "execute_result"
    }
   ],
   "source": [
    "Test_labels"
   ]
  },
  {
   "cell_type": "code",
   "execution_count": 86,
   "metadata": {},
   "outputs": [
    {
     "data": {
      "text/plain": [
       "[PredictedInstance(points=[[46.944915771484375, 287.9378356933594]], track=\"track_1\", score=0.50, tracking_score=0.00),\n",
       " PredictedInstance(points=[[239.24050903320312, 439.6255187988281]], track=\"track_2\", score=0.42, tracking_score=0.00)]"
      ]
     },
     "execution_count": 86,
     "metadata": {},
     "output_type": "execute_result"
    }
   ],
   "source": [
    "Test_labels[145].instances"
   ]
  },
  {
   "cell_type": "code",
   "execution_count": 83,
   "metadata": {},
   "outputs": [
    {
     "data": {
      "text/plain": [
       "[Track(name='track_1'), Track(name='track_2')]"
      ]
     },
     "execution_count": 83,
     "metadata": {},
     "output_type": "execute_result"
    }
   ],
   "source": [
    "Test_labels\n",
    "\n",
    "Test_labels.tracks"
   ]
  },
  {
   "cell_type": "code",
   "execution_count": 88,
   "metadata": {},
   "outputs": [],
   "source": [
    "# Save the updated labels\n",
    "sleap_io.save_slp(filename=\"/mnt/upramdya_data/MD/F1_Tracks/Videos/240924_F1_3mm_ends_Videos_Checked/arena2/Right/arena2_right_rotated_tracked_ball.slp\", labels=Test_labels)"
   ]
  },
  {
   "cell_type": "code",
   "execution_count": 13,
   "metadata": {},
   "outputs": [],
   "source": [
    "def reassign_tracks_based_on_x(input, verbose=False):\n",
    "    # Load the SLP file\n",
    "    print(\"Loading labels\")\n",
    "    \n",
    "    Labels = sleap_io.load_slp(input)\n",
    "    \n",
    "    if len(Labels.tracks) != 2:\n",
    "        print(\"There should be exactly 2 tracks defined\")\n",
    "        return\n",
    "    \n",
    "    for frame in tqdm.tqdm(Labels, desc=\"Reassigning tracks\"):\n",
    "        if verbose:\n",
    "            print(f\"Processing frame {frame.frame_idx}\")\n",
    "        \n",
    "        # Sort instances by x value\n",
    "        frame.instances.sort(key=lambda x: next(iter(x.points.items()))[1].x)\n",
    "        \n",
    "        for n, instance in enumerate(frame.instances):\n",
    "            if verbose:\n",
    "                print(f\"Frame {frame.frame_idx}, instance {n}\")\n",
    "            instance_x = next(iter(instance.points.items()))[1].x\n",
    "            if verbose:\n",
    "                print(f\"Instance x: {instance_x}\")\n",
    "            # Reassign track names\n",
    "            instance.track = Labels.tracks[n]\n",
    "            if verbose:\n",
    "                print(f\"Reassigned track name: {instance.track}\")\n",
    "        \n",
    "        if verbose:\n",
    "            print(\"Updated frame instances\")\n",
    "            print(frame.instances)\n",
    "                \n",
    "    print(\"Saving updated labels\")\n",
    "    sleap_io.save_slp(Labels, input)"
   ]
  },
  {
   "cell_type": "code",
   "execution_count": 97,
   "metadata": {},
   "outputs": [
    {
     "name": "stdout",
     "output_type": "stream",
     "text": [
      "Too many tracks defined, removing all\n"
     ]
    },
    {
     "name": "stderr",
     "output_type": "stream",
     "text": [
      "Processing frames: 100%|██████████| 261006/261006 [00:01<00:00, 182425.31it/s]\n"
     ]
    },
    {
     "name": "stdout",
     "output_type": "stream",
     "text": [
      "Saving updated labels\n"
     ]
    }
   ],
   "source": [
    "prune_instances_tracks(\"/mnt/upramdya_data/MD/F1_Tracks/Videos/240924_F1_3mm_ends_Videos_Checked/arena4/Right/arena4_right_rotated_tracked_ball.slp\", verbose=False)"
   ]
  },
  {
   "cell_type": "code",
   "execution_count": 99,
   "metadata": {},
   "outputs": [
    {
     "name": "stdout",
     "output_type": "stream",
     "text": [
      "Loading labels\n"
     ]
    },
    {
     "name": "stderr",
     "output_type": "stream",
     "text": [
      "Reassigning tracks: 100%|██████████| 261006/261006 [00:01<00:00, 145025.56it/s]\n"
     ]
    },
    {
     "name": "stdout",
     "output_type": "stream",
     "text": [
      "Saving updated labels\n"
     ]
    }
   ],
   "source": [
    "reassign_tracks_based_on_x(\"/mnt/upramdya_data/MD/F1_Tracks/Videos/240924_F1_3mm_ends_Videos_Checked/arena4/Right/arena4_right_rotated_tracked_ball.slp\", verbose=False)"
   ]
  },
  {
   "cell_type": "code",
   "execution_count": 16,
   "metadata": {},
   "outputs": [],
   "source": [
    "def process_dataset_in_parallel(datasets, verbose=False):\n",
    "    with ThreadPoolExecutor() as executor:\n",
    "        futures = [executor.submit(prune_instances_tracks, dataset, verbose) for dataset in datasets]\n",
    "        for future in tqdm.tqdm(futures, desc=\"Processing datasets\"):\n",
    "            future.result()"
   ]
  },
  {
   "cell_type": "code",
   "execution_count": 5,
   "metadata": {},
   "outputs": [
    {
     "data": {
      "text/plain": [
       "[PosixPath('/mnt/upramdya_data/MD/F1_Tracks/Videos/240926_F1_3mm_ends_Videos_Checked/arena6/Left/arena6_left_tracked_ball.slp'),\n",
       " PosixPath('/mnt/upramdya_data/MD/F1_Tracks/Videos/240926_F1_3mm_ends_Videos_Checked/arena5/Right/arena5_right_rotated_tracked_ball.slp'),\n",
       " PosixPath('/mnt/upramdya_data/MD/F1_Tracks/Videos/240926_F1_3mm_ends_Videos_Checked/arena5/Left/arena5_left_tracked_ball.slp'),\n",
       " PosixPath('/mnt/upramdya_data/MD/F1_Tracks/Videos/240926_F1_3mm_ends_Videos_Checked/arena8/Right/arena8_right_rotated_tracked_ball.slp'),\n",
       " PosixPath('/mnt/upramdya_data/MD/F1_Tracks/Videos/240926_F1_3mm_ends_Videos_Checked/arena8/Left/arena8_left_tracked_ball.slp'),\n",
       " PosixPath('/mnt/upramdya_data/MD/F1_Tracks/Videos/240926_F1_3mm_ends_Videos_Checked/arena3/Right/arena3_right_rotated_tracked_ball.slp'),\n",
       " PosixPath('/mnt/upramdya_data/MD/F1_Tracks/Videos/240926_F1_3mm_ends_Videos_Checked/arena3/Left/arena3_left_tracked_ball.slp'),\n",
       " PosixPath('/mnt/upramdya_data/MD/F1_Tracks/Videos/240926_F1_3mm_ends_Videos_Checked/arena4/Right/arena4_right_rotated_tracked_ball.slp'),\n",
       " PosixPath('/mnt/upramdya_data/MD/F1_Tracks/Videos/240926_F1_3mm_ends_Videos_Checked/arena4/Left/arena4_left_tracked_ball.slp'),\n",
       " PosixPath('/mnt/upramdya_data/MD/F1_Tracks/Videos/240926_F1_3mm_ends_Videos_Checked/arena1/Right/arena1_right_rotated_tracked_ball.slp'),\n",
       " PosixPath('/mnt/upramdya_data/MD/F1_Tracks/Videos/240926_F1_3mm_ends_Videos_Checked/arena1/Left/arena1_left_tracked_ball.slp'),\n",
       " PosixPath('/mnt/upramdya_data/MD/F1_Tracks/Videos/240926_F1_3mm_ends_Videos_Checked/arena9/Right/arena9_right_rotated_tracked_ball.slp'),\n",
       " PosixPath('/mnt/upramdya_data/MD/F1_Tracks/Videos/240926_F1_3mm_ends_Videos_Checked/arena9/Left/arena9_left_tracked_ball.slp'),\n",
       " PosixPath('/mnt/upramdya_data/MD/F1_Tracks/Videos/240830_F1_3mm_ends_Videos_Checked/arena2/Right/arena2_right_rotated_tracked_ball.slp'),\n",
       " PosixPath('/mnt/upramdya_data/MD/F1_Tracks/Videos/240830_F1_3mm_ends_Videos_Checked/arena2/Left/arena2_left_tracked_ball.slp'),\n",
       " PosixPath('/mnt/upramdya_data/MD/F1_Tracks/Videos/240830_F1_3mm_ends_Videos_Checked/arena7/Right/arena7_right_rotated_tracked_ball.slp'),\n",
       " PosixPath('/mnt/upramdya_data/MD/F1_Tracks/Videos/240830_F1_3mm_ends_Videos_Checked/arena7/Left/arena7_left_tracked_ball.slp'),\n",
       " PosixPath('/mnt/upramdya_data/MD/F1_Tracks/Videos/240830_F1_3mm_ends_Videos_Checked/arena6/Right/arena6_right_rotated_tracked_ball.slp'),\n",
       " PosixPath('/mnt/upramdya_data/MD/F1_Tracks/Videos/240830_F1_3mm_ends_Videos_Checked/arena6/Left/arena6_left_tracked_ball.slp'),\n",
       " PosixPath('/mnt/upramdya_data/MD/F1_Tracks/Videos/240830_F1_3mm_ends_Videos_Checked/arena5/Right/arena5_right_rotated_tracked_ball.slp')]"
      ]
     },
     "execution_count": 5,
     "metadata": {},
     "output_type": "execute_result"
    }
   ],
   "source": [
    "Data_dir = Path(\"/mnt/upramdya_data/MD/F1_Tracks/Videos/\")\n",
    "\n",
    "# Find all SLP files that have \"ball\" in their name in the data directory\n",
    "\n",
    "SLP_files = list(Data_dir.rglob(\"*ball*.slp\"))\n",
    "\n",
    "# Prune out the processed files\n",
    "SLP_files = [file for file in SLP_files if \"_processed\" not in file.stem]\n",
    "\n",
    "SLP_files"
   ]
  },
  {
   "cell_type": "code",
   "execution_count": 6,
   "metadata": {},
   "outputs": [
    {
     "name": "stdout",
     "output_type": "stream",
     "text": [
      "Loading labels\n",
      "Saving updated labels\n",
      "Renamed file to /mnt/upramdya_data/MD/F1_Tracks/Videos/240926_F1_3mm_ends_Videos_Checked/arena6/Left/arena6_left_tracked_ball_processed.slp\n",
      "Loading labels\n",
      "Saving updated labels\n",
      "Renamed file to /mnt/upramdya_data/MD/F1_Tracks/Videos/240926_F1_3mm_ends_Videos_Checked/arena5/Right/arena5_right_rotated_tracked_ball_processed.slp\n",
      "Loading labels\n",
      "Saving updated labels\n",
      "Renamed file to /mnt/upramdya_data/MD/F1_Tracks/Videos/240926_F1_3mm_ends_Videos_Checked/arena5/Left/arena5_left_tracked_ball_processed.slp\n",
      "Loading labels\n",
      "Saving updated labels\n",
      "Renamed file to /mnt/upramdya_data/MD/F1_Tracks/Videos/240926_F1_3mm_ends_Videos_Checked/arena8/Right/arena8_right_rotated_tracked_ball_processed.slp\n",
      "Loading labels\n",
      "Saving updated labels\n",
      "Renamed file to /mnt/upramdya_data/MD/F1_Tracks/Videos/240926_F1_3mm_ends_Videos_Checked/arena8/Left/arena8_left_tracked_ball_processed.slp\n",
      "Loading labels\n",
      "Saving updated labels\n",
      "Renamed file to /mnt/upramdya_data/MD/F1_Tracks/Videos/240926_F1_3mm_ends_Videos_Checked/arena3/Right/arena3_right_rotated_tracked_ball_processed.slp\n",
      "Loading labels\n",
      "Saving updated labels\n",
      "Renamed file to /mnt/upramdya_data/MD/F1_Tracks/Videos/240926_F1_3mm_ends_Videos_Checked/arena3/Left/arena3_left_tracked_ball_processed.slp\n",
      "Loading labels\n",
      "Saving updated labels\n",
      "Renamed file to /mnt/upramdya_data/MD/F1_Tracks/Videos/240926_F1_3mm_ends_Videos_Checked/arena4/Right/arena4_right_rotated_tracked_ball_processed.slp\n",
      "Loading labels\n",
      "Saving updated labels\n",
      "Renamed file to /mnt/upramdya_data/MD/F1_Tracks/Videos/240926_F1_3mm_ends_Videos_Checked/arena4/Left/arena4_left_tracked_ball_processed.slp\n",
      "Loading labels\n",
      "Saving updated labels\n",
      "Renamed file to /mnt/upramdya_data/MD/F1_Tracks/Videos/240926_F1_3mm_ends_Videos_Checked/arena1/Right/arena1_right_rotated_tracked_ball_processed.slp\n",
      "Loading labels\n",
      "Saving updated labels\n",
      "Renamed file to /mnt/upramdya_data/MD/F1_Tracks/Videos/240926_F1_3mm_ends_Videos_Checked/arena1/Left/arena1_left_tracked_ball_processed.slp\n",
      "Loading labels\n",
      "Saving updated labels\n",
      "Renamed file to /mnt/upramdya_data/MD/F1_Tracks/Videos/240926_F1_3mm_ends_Videos_Checked/arena9/Right/arena9_right_rotated_tracked_ball_processed.slp\n",
      "Loading labels\n",
      "Saving updated labels\n",
      "Renamed file to /mnt/upramdya_data/MD/F1_Tracks/Videos/240926_F1_3mm_ends_Videos_Checked/arena9/Left/arena9_left_tracked_ball_processed.slp\n",
      "Loading labels\n",
      "Saving updated labels\n",
      "Renamed file to /mnt/upramdya_data/MD/F1_Tracks/Videos/240830_F1_3mm_ends_Videos_Checked/arena2/Right/arena2_right_rotated_tracked_ball_processed.slp\n",
      "Loading labels\n",
      "Saving updated labels\n",
      "Renamed file to /mnt/upramdya_data/MD/F1_Tracks/Videos/240830_F1_3mm_ends_Videos_Checked/arena2/Left/arena2_left_tracked_ball_processed.slp\n",
      "Loading labels\n",
      "Saving updated labels\n",
      "Renamed file to /mnt/upramdya_data/MD/F1_Tracks/Videos/240830_F1_3mm_ends_Videos_Checked/arena7/Right/arena7_right_rotated_tracked_ball_processed.slp\n",
      "Loading labels\n",
      "Saving updated labels\n",
      "Renamed file to /mnt/upramdya_data/MD/F1_Tracks/Videos/240830_F1_3mm_ends_Videos_Checked/arena7/Left/arena7_left_tracked_ball_processed.slp\n",
      "Loading labels\n",
      "Saving updated labels\n",
      "Renamed file to /mnt/upramdya_data/MD/F1_Tracks/Videos/240830_F1_3mm_ends_Videos_Checked/arena6/Right/arena6_right_rotated_tracked_ball_processed.slp\n",
      "Loading labels\n",
      "Saving updated labels\n",
      "Renamed file to /mnt/upramdya_data/MD/F1_Tracks/Videos/240830_F1_3mm_ends_Videos_Checked/arena6/Left/arena6_left_tracked_ball_processed.slp\n",
      "Loading labels\n",
      "Saving updated labels\n",
      "Renamed file to /mnt/upramdya_data/MD/F1_Tracks/Videos/240830_F1_3mm_ends_Videos_Checked/arena5/Right/arena5_right_rotated_tracked_ball_processed.slp\n"
     ]
    }
   ],
   "source": [
    "for slp in SLP_files:\n",
    "\n",
    "    prune_instances_tracks(slp, verbose=False)"
   ]
  },
  {
   "cell_type": "code",
   "execution_count": 19,
   "metadata": {},
   "outputs": [
    {
     "name": "stdout",
     "output_type": "stream",
     "text": [
      "Renamed file to /mnt/upramdya_data/MD/F1_Tracks/Videos/240924_F1_3mm_ends_Videos_Checked/arena2/Right/arena2_right_rotated_tracked_ball_processed.slp\n",
      "Renamed file to /mnt/upramdya_data/MD/F1_Tracks/Videos/240924_F1_3mm_ends_Videos_Checked/arena2/Left/arena2_left_tracked_ball_processed.slp\n",
      "Renamed file to /mnt/upramdya_data/MD/F1_Tracks/Videos/240924_F1_3mm_ends_Videos_Checked/arena7/Right/arena7_right_rotated_tracked_ball_processed.slp\n",
      "Renamed file to /mnt/upramdya_data/MD/F1_Tracks/Videos/240924_F1_3mm_ends_Videos_Checked/arena7/Left/arena7_left_tracked_ball_processed.slp\n",
      "Renamed file to /mnt/upramdya_data/MD/F1_Tracks/Videos/240924_F1_3mm_ends_Videos_Checked/arena6/Right/arena6_right_rotated_tracked_ball_processed.slp\n",
      "Renamed file to /mnt/upramdya_data/MD/F1_Tracks/Videos/240924_F1_3mm_ends_Videos_Checked/arena6/Left/arena6_left_tracked_ball_processed.slp\n",
      "Renamed file to /mnt/upramdya_data/MD/F1_Tracks/Videos/240924_F1_3mm_ends_Videos_Checked/arena5/Right/arena5_right_rotated_tracked_ball_processed.slp\n",
      "Renamed file to /mnt/upramdya_data/MD/F1_Tracks/Videos/240924_F1_3mm_ends_Videos_Checked/arena5/Left/arena5_left_tracked_ball_processed.slp\n",
      "Renamed file to /mnt/upramdya_data/MD/F1_Tracks/Videos/240924_F1_3mm_ends_Videos_Checked/arena8/Right/arena8_right_rotated_tracked_ball_processed.slp\n",
      "Renamed file to /mnt/upramdya_data/MD/F1_Tracks/Videos/240924_F1_3mm_ends_Videos_Checked/arena8/Left/arena8_left_tracked_ball_processed.slp\n",
      "Renamed file to /mnt/upramdya_data/MD/F1_Tracks/Videos/240924_F1_3mm_ends_Videos_Checked/arena3/Right/arena3_right_rotated_tracked_ball_processed.slp\n",
      "Renamed file to /mnt/upramdya_data/MD/F1_Tracks/Videos/240924_F1_3mm_ends_Videos_Checked/arena3/Left/arena3_left_tracked_ball_processed.slp\n",
      "Renamed file to /mnt/upramdya_data/MD/F1_Tracks/Videos/240924_F1_3mm_ends_Videos_Checked/arena4/Right/arena4_right_rotated_tracked_ball_processed.slp\n",
      "Renamed file to /mnt/upramdya_data/MD/F1_Tracks/Videos/240924_F1_3mm_ends_Videos_Checked/arena4/Left/arena4_left_tracked_ball_processed.slp\n",
      "Renamed file to /mnt/upramdya_data/MD/F1_Tracks/Videos/240924_F1_3mm_ends_Videos_Checked/arena1/Right/arena1_right_rotated_tracked_ball_processed.slp\n",
      "Renamed file to /mnt/upramdya_data/MD/F1_Tracks/Videos/240924_F1_3mm_ends_Videos_Checked/arena1/Left/arena1_left_tracked_ball_processed.slp\n",
      "Renamed file to /mnt/upramdya_data/MD/F1_Tracks/Videos/240924_F1_3mm_ends_Videos_Checked/arena9/Right/arena9_right_rotated_tracked_ball_processed.slp\n",
      "Renamed file to /mnt/upramdya_data/MD/F1_Tracks/Videos/240924_F1_3mm_ends_Videos_Checked/arena9/Left/arena9_left_tracked_ball_processed.slp\n",
      "Renamed file to /mnt/upramdya_data/MD/F1_Tracks/Videos/240919_F1_3mm_ends_Videos_Checked/arena2/Right/arena2_right_rotated_tracked_ball_processed.slp\n",
      "Renamed file to /mnt/upramdya_data/MD/F1_Tracks/Videos/240919_F1_3mm_ends_Videos_Checked/arena2/Left/arena2_left_tracked_ball_processed.slp\n",
      "Renamed file to /mnt/upramdya_data/MD/F1_Tracks/Videos/240919_F1_3mm_ends_Videos_Checked/arena7/Right/arena7_right_rotated_tracked_ball_processed.slp\n",
      "Renamed file to /mnt/upramdya_data/MD/F1_Tracks/Videos/240919_F1_3mm_ends_Videos_Checked/arena7/Left/arena7_left_tracked_ball_processed.slp\n",
      "Renamed file to /mnt/upramdya_data/MD/F1_Tracks/Videos/240919_F1_3mm_ends_Videos_Checked/arena6/Right/arena6_right_rotated_tracked_ball_processed.slp\n",
      "Renamed file to /mnt/upramdya_data/MD/F1_Tracks/Videos/240919_F1_3mm_ends_Videos_Checked/arena6/Left/arena6_left_tracked_ball_processed.slp\n",
      "Renamed file to /mnt/upramdya_data/MD/F1_Tracks/Videos/240919_F1_3mm_ends_Videos_Checked/arena5/Right/arena5_right_rotated_tracked_ball_processed.slp\n",
      "Renamed file to /mnt/upramdya_data/MD/F1_Tracks/Videos/240919_F1_3mm_ends_Videos_Checked/arena5/Left/arena5_left_tracked_ball_processed.slp\n",
      "Renamed file to /mnt/upramdya_data/MD/F1_Tracks/Videos/240919_F1_3mm_ends_Videos_Checked/arena8/Right/arena8_right_rotated_tracked_ball_processed.slp\n",
      "Renamed file to /mnt/upramdya_data/MD/F1_Tracks/Videos/240919_F1_3mm_ends_Videos_Checked/arena8/Left/arena8_left_tracked_ball_processed.slp\n",
      "Renamed file to /mnt/upramdya_data/MD/F1_Tracks/Videos/240919_F1_3mm_ends_Videos_Checked/arena3/Right/arena3_right_rotated_tracked_ball_processed.slp\n",
      "Renamed file to /mnt/upramdya_data/MD/F1_Tracks/Videos/240919_F1_3mm_ends_Videos_Checked/arena3/Left/arena3_left_tracked_ball_processed.slp\n",
      "Renamed file to /mnt/upramdya_data/MD/F1_Tracks/Videos/240919_F1_3mm_ends_Videos_Checked/arena4/Right/arena4_right_rotated_tracked_ball_processed.slp\n",
      "Renamed file to /mnt/upramdya_data/MD/F1_Tracks/Videos/240919_F1_3mm_ends_Videos_Checked/arena4/Left/arena4_left_tracked_ball_processed.slp\n",
      "Renamed file to /mnt/upramdya_data/MD/F1_Tracks/Videos/240919_F1_3mm_ends_Videos_Checked/arena1/Right/arena1_right_rotated_tracked_ball_processed.slp\n",
      "Renamed file to /mnt/upramdya_data/MD/F1_Tracks/Videos/240919_F1_3mm_ends_Videos_Checked/arena1/Left/arena1_left_tracked_ball_processed.slp\n",
      "Renamed file to /mnt/upramdya_data/MD/F1_Tracks/Videos/240919_F1_3mm_ends_Videos_Checked/arena9/Right/arena9_right_rotated_tracked_ball_processed.slp\n",
      "Renamed file to /mnt/upramdya_data/MD/F1_Tracks/Videos/240919_F1_3mm_ends_Videos_Checked/arena9/Left/arena9_left_tracked_ball_processed.slp\n",
      "Renamed file to /mnt/upramdya_data/MD/F1_Tracks/Videos/240925_F1_3mm_ends_Videos_Checked/arena2/Right/arena2_right_rotated_tracked_ball_processed.slp\n",
      "Renamed file to /mnt/upramdya_data/MD/F1_Tracks/Videos/240925_F1_3mm_ends_Videos_Checked/arena2/Left/arena2_left_tracked_ball_processed.slp\n",
      "Renamed file to /mnt/upramdya_data/MD/F1_Tracks/Videos/240925_F1_3mm_ends_Videos_Checked/arena7/Right/arena7_right_rotated_tracked_ball_processed.slp\n",
      "Renamed file to /mnt/upramdya_data/MD/F1_Tracks/Videos/240925_F1_3mm_ends_Videos_Checked/arena7/Left/arena7_left_tracked_ball_processed.slp\n",
      "Renamed file to /mnt/upramdya_data/MD/F1_Tracks/Videos/240925_F1_3mm_ends_Videos_Checked/arena6/Right/arena6_right_rotated_tracked_ball_processed.slp\n",
      "Renamed file to /mnt/upramdya_data/MD/F1_Tracks/Videos/240925_F1_3mm_ends_Videos_Checked/arena6/Left/arena6_left_tracked_ball_processed.slp\n",
      "Renamed file to /mnt/upramdya_data/MD/F1_Tracks/Videos/240925_F1_3mm_ends_Videos_Checked/arena5/Right/arena5_right_rotated_tracked_ball_processed.slp\n",
      "Renamed file to /mnt/upramdya_data/MD/F1_Tracks/Videos/240925_F1_3mm_ends_Videos_Checked/arena5/Left/arena5_left_tracked_ball_processed.slp\n",
      "Renamed file to /mnt/upramdya_data/MD/F1_Tracks/Videos/240925_F1_3mm_ends_Videos_Checked/arena8/Right/arena8_right_rotated_tracked_ball_processed.slp\n",
      "Renamed file to /mnt/upramdya_data/MD/F1_Tracks/Videos/240925_F1_3mm_ends_Videos_Checked/arena8/Left/arena8_left_tracked_ball_processed.slp\n",
      "Renamed file to /mnt/upramdya_data/MD/F1_Tracks/Videos/240925_F1_3mm_ends_Videos_Checked/arena3/Right/arena3_right_rotated_tracked_ball_processed.slp\n",
      "Renamed file to /mnt/upramdya_data/MD/F1_Tracks/Videos/240925_F1_3mm_ends_Videos_Checked/arena3/Left/arena3_left_tracked_ball_processed.slp\n",
      "Renamed file to /mnt/upramdya_data/MD/F1_Tracks/Videos/240925_F1_3mm_ends_Videos_Checked/arena4/Right/arena4_right_rotated_tracked_ball_processed.slp\n",
      "Renamed file to /mnt/upramdya_data/MD/F1_Tracks/Videos/240925_F1_3mm_ends_Videos_Checked/arena4/Left/arena4_left_tracked_ball_processed.slp\n",
      "Renamed file to /mnt/upramdya_data/MD/F1_Tracks/Videos/240925_F1_3mm_ends_Videos_Checked/arena1/Right/arena1_right_rotated_tracked_ball_processed.slp\n",
      "Renamed file to /mnt/upramdya_data/MD/F1_Tracks/Videos/240925_F1_3mm_ends_Videos_Checked/arena1/Left/arena1_left_tracked_ball_processed.slp\n",
      "Renamed file to /mnt/upramdya_data/MD/F1_Tracks/Videos/240925_F1_3mm_ends_Videos_Checked/arena9/Right/arena9_right_rotated_tracked_ball_processed.slp\n",
      "Renamed file to /mnt/upramdya_data/MD/F1_Tracks/Videos/240925_F1_3mm_ends_Videos_Checked/arena9/Left/arena9_left_tracked_ball_processed.slp\n",
      "Renamed file to /mnt/upramdya_data/MD/F1_Tracks/Videos/240926_F1_3mm_ends_Videos_Checked/arena2/Right/arena2_right_rotated_tracked_ball_processed.slp\n",
      "Renamed file to /mnt/upramdya_data/MD/F1_Tracks/Videos/240926_F1_3mm_ends_Videos_Checked/arena2/Left/arena2_left_tracked_ball_processed.slp\n"
     ]
    }
   ],
   "source": [
    "# Rename all processed file to add \"_processed\" to the filename\n",
    "\n",
    "for slp_file in SLP_files:\n",
    "    slp_file = Path(slp_file)  # Ensure slp_file is a Path object\n",
    "    processed_filename = slp_file.stem + \"_processed\" + slp_file.suffix\n",
    "    processed_path = slp_file.with_name(processed_filename)\n",
    "    os.rename(slp_file, processed_path)\n",
    "    print(f\"Renamed file to {processed_path}\")"
   ]
  },
  {
   "cell_type": "code",
   "execution_count": null,
   "metadata": {},
   "outputs": [],
   "source": [
    "# remove the \"_processed\" from the filename"
   ]
  },
  {
   "cell_type": "code",
   "execution_count": 7,
   "metadata": {},
   "outputs": [],
   "source": [
    "# Finally we need to call sleap-convert to convert the newly edited slp files to h5\n",
    "def convert_slp_to_h5(input, conda_env=\"sleap\"):\n",
    "    # Call a subprocess to run sleap-convert within the specified Conda environment\n",
    "    \n",
    "    # Convert the .slp file to .h5 format for analysis\n",
    "    sleap_convert_cmd = f\"\"\"\n",
    "    source $(conda info --base)/etc/profile.d/conda.sh && \\\n",
    "    conda activate {conda_env} && \\\n",
    "    sleap-convert \"{input}\" --format analysis\n",
    "    \"\"\"\n",
    "    \n",
    "    # Print the command for debugging\n",
    "    print(\"Running command:\", sleap_convert_cmd)\n",
    "    \n",
    "    # Check if the input file exists\n",
    "    if not os.path.exists(input):\n",
    "        print(f\"Input file does not exist: {input}\")\n",
    "        return\n",
    "    \n",
    "    # Run the command\n",
    "    try:\n",
    "        subprocess.run(sleap_convert_cmd, shell=True, check=True, executable='/bin/bash')\n",
    "        print(\"Conversion to .h5 format complete.\")\n",
    "    except subprocess.CalledProcessError as e:\n",
    "        print(f\"Error during conversion: {e}\")\n",
    "    except OSError as e:\n",
    "        print(f\"OS error: {e}\")\n",
    "\n"
   ]
  },
  {
   "cell_type": "code",
   "execution_count": 8,
   "metadata": {},
   "outputs": [
    {
     "name": "stdout",
     "output_type": "stream",
     "text": [
      "Running command: \n",
      "    source $(conda info --base)/etc/profile.d/conda.sh &&     conda activate sleap &&     sleap-convert \"/mnt/upramdya_data/MD/F1_Tracks/Videos/240924_F1_3mm_ends_Videos_Checked/arena2/Right/arena2_right_rotated_tracked_ball.slp\" --format analysis\n",
      "    \n"
     ]
    },
    {
     "name": "stderr",
     "output_type": "stream",
     "text": [
      "Traceback (most recent call last):\n",
      "  File \"/home/durrieu/miniforge3/envs/sleap/bin/sleap-convert\", line 33, in <module>\n",
      "    sys.exit(load_entry_point('sleap==1.3.4', 'console_scripts', 'sleap-convert')())\n",
      "  File \"/home/durrieu/miniforge3/envs/sleap/lib/python3.7/site-packages/sleap/io/convert.py\", line 170, in main\n",
      "    video=video,\n",
      "  File \"/home/durrieu/miniforge3/envs/sleap/lib/python3.7/site-packages/sleap/info/write_tracking_h5.py\", line 440, in main\n",
      "    write_occupancy_file(output_path, data_dict, transpose=True)\n",
      "  File \"/home/durrieu/miniforge3/envs/sleap/lib/python3.7/site-packages/sleap/info/write_tracking_h5.py\", line 261, in write_occupancy_file\n",
      "    with h5.File(output_path, \"w\") as f:\n",
      "  File \"/home/durrieu/miniforge3/envs/sleap/lib/python3.7/site-packages/h5py/_hl/files.py\", line 427, in __init__\n",
      "    swmr=swmr)\n",
      "  File \"/home/durrieu/miniforge3/envs/sleap/lib/python3.7/site-packages/h5py/_hl/files.py\", line 196, in make_fid\n",
      "    fid = h5f.create(name, h5f.ACC_TRUNC, fapl=fapl, fcpl=fcpl)\n",
      "  File \"h5py/_objects.pyx\", line 54, in h5py._objects.with_phil.wrapper\n",
      "  File \"h5py/_objects.pyx\", line 55, in h5py._objects.with_phil.wrapper\n",
      "  File \"h5py/h5f.pyx\", line 116, in h5py.h5f.create\n",
      "OSError: Unable to create file (unable to lock file, errno = 13, error message = 'Permission denied')\n"
     ]
    },
    {
     "name": "stdout",
     "output_type": "stream",
     "text": [
      "Error during conversion: Command '\n",
      "    source $(conda info --base)/etc/profile.d/conda.sh &&     conda activate sleap &&     sleap-convert \"/mnt/upramdya_data/MD/F1_Tracks/Videos/240924_F1_3mm_ends_Videos_Checked/arena2/Right/arena2_right_rotated_tracked_ball.slp\" --format analysis\n",
      "    ' returned non-zero exit status 1.\n",
      "Running command: \n",
      "    source $(conda info --base)/etc/profile.d/conda.sh &&     conda activate sleap &&     sleap-convert \"/mnt/upramdya_data/MD/F1_Tracks/Videos/240924_F1_3mm_ends_Videos_Checked/arena2/Left/arena2_left_tracked_ball.slp\" --format analysis\n",
      "    \n"
     ]
    },
    {
     "ename": "KeyboardInterrupt",
     "evalue": "",
     "output_type": "error",
     "traceback": [
      "\u001b[0;31m---------------------------------------------------------------------------\u001b[0m",
      "\u001b[0;31mKeyboardInterrupt\u001b[0m                         Traceback (most recent call last)",
      "\u001b[0;32m/tmp/ipykernel_8637/2958443654.py\u001b[0m in \u001b[0;36m<module>\u001b[0;34m\u001b[0m\n\u001b[0;32m----> 1\u001b[0;31m \u001b[0;34m[\u001b[0m\u001b[0mconvert_slp_to_h5\u001b[0m\u001b[0;34m(\u001b[0m\u001b[0mfile\u001b[0m\u001b[0;34m)\u001b[0m \u001b[0;32mfor\u001b[0m \u001b[0mfile\u001b[0m \u001b[0;32min\u001b[0m \u001b[0mSLP_files\u001b[0m\u001b[0;34m]\u001b[0m\u001b[0;34m\u001b[0m\u001b[0;34m\u001b[0m\u001b[0m\n\u001b[0m",
      "\u001b[0;32m/tmp/ipykernel_8637/2958443654.py\u001b[0m in \u001b[0;36m<listcomp>\u001b[0;34m(.0)\u001b[0m\n\u001b[0;32m----> 1\u001b[0;31m \u001b[0;34m[\u001b[0m\u001b[0mconvert_slp_to_h5\u001b[0m\u001b[0;34m(\u001b[0m\u001b[0mfile\u001b[0m\u001b[0;34m)\u001b[0m \u001b[0;32mfor\u001b[0m \u001b[0mfile\u001b[0m \u001b[0;32min\u001b[0m \u001b[0mSLP_files\u001b[0m\u001b[0;34m]\u001b[0m\u001b[0;34m\u001b[0m\u001b[0;34m\u001b[0m\u001b[0m\n\u001b[0m",
      "\u001b[0;32m/tmp/ipykernel_8637/71472423.py\u001b[0m in \u001b[0;36mconvert_slp_to_h5\u001b[0;34m(input, conda_env)\u001b[0m\n\u001b[1;32m     20\u001b[0m     \u001b[0;31m# Run the command\u001b[0m\u001b[0;34m\u001b[0m\u001b[0;34m\u001b[0m\u001b[0;34m\u001b[0m\u001b[0m\n\u001b[1;32m     21\u001b[0m     \u001b[0;32mtry\u001b[0m\u001b[0;34m:\u001b[0m\u001b[0;34m\u001b[0m\u001b[0;34m\u001b[0m\u001b[0m\n\u001b[0;32m---> 22\u001b[0;31m         \u001b[0msubprocess\u001b[0m\u001b[0;34m.\u001b[0m\u001b[0mrun\u001b[0m\u001b[0;34m(\u001b[0m\u001b[0msleap_convert_cmd\u001b[0m\u001b[0;34m,\u001b[0m \u001b[0mshell\u001b[0m\u001b[0;34m=\u001b[0m\u001b[0;32mTrue\u001b[0m\u001b[0;34m,\u001b[0m \u001b[0mcheck\u001b[0m\u001b[0;34m=\u001b[0m\u001b[0;32mTrue\u001b[0m\u001b[0;34m,\u001b[0m \u001b[0mexecutable\u001b[0m\u001b[0;34m=\u001b[0m\u001b[0;34m'/bin/bash'\u001b[0m\u001b[0;34m)\u001b[0m\u001b[0;34m\u001b[0m\u001b[0;34m\u001b[0m\u001b[0m\n\u001b[0m\u001b[1;32m     23\u001b[0m         \u001b[0mprint\u001b[0m\u001b[0;34m(\u001b[0m\u001b[0;34m\"Conversion to .h5 format complete.\"\u001b[0m\u001b[0;34m)\u001b[0m\u001b[0;34m\u001b[0m\u001b[0;34m\u001b[0m\u001b[0m\n\u001b[1;32m     24\u001b[0m     \u001b[0;32mexcept\u001b[0m \u001b[0msubprocess\u001b[0m\u001b[0;34m.\u001b[0m\u001b[0mCalledProcessError\u001b[0m \u001b[0;32mas\u001b[0m \u001b[0me\u001b[0m\u001b[0;34m:\u001b[0m\u001b[0;34m\u001b[0m\u001b[0;34m\u001b[0m\u001b[0m\n",
      "\u001b[0;32m~/miniforge3/envs/sleap_dev/lib/python3.7/subprocess.py\u001b[0m in \u001b[0;36mrun\u001b[0;34m(input, capture_output, timeout, check, *popenargs, **kwargs)\u001b[0m\n\u001b[1;32m    488\u001b[0m     \u001b[0;32mwith\u001b[0m \u001b[0mPopen\u001b[0m\u001b[0;34m(\u001b[0m\u001b[0;34m*\u001b[0m\u001b[0mpopenargs\u001b[0m\u001b[0;34m,\u001b[0m \u001b[0;34m**\u001b[0m\u001b[0mkwargs\u001b[0m\u001b[0;34m)\u001b[0m \u001b[0;32mas\u001b[0m \u001b[0mprocess\u001b[0m\u001b[0;34m:\u001b[0m\u001b[0;34m\u001b[0m\u001b[0;34m\u001b[0m\u001b[0m\n\u001b[1;32m    489\u001b[0m         \u001b[0;32mtry\u001b[0m\u001b[0;34m:\u001b[0m\u001b[0;34m\u001b[0m\u001b[0;34m\u001b[0m\u001b[0m\n\u001b[0;32m--> 490\u001b[0;31m             \u001b[0mstdout\u001b[0m\u001b[0;34m,\u001b[0m \u001b[0mstderr\u001b[0m \u001b[0;34m=\u001b[0m \u001b[0mprocess\u001b[0m\u001b[0;34m.\u001b[0m\u001b[0mcommunicate\u001b[0m\u001b[0;34m(\u001b[0m\u001b[0minput\u001b[0m\u001b[0;34m,\u001b[0m \u001b[0mtimeout\u001b[0m\u001b[0;34m=\u001b[0m\u001b[0mtimeout\u001b[0m\u001b[0;34m)\u001b[0m\u001b[0;34m\u001b[0m\u001b[0;34m\u001b[0m\u001b[0m\n\u001b[0m\u001b[1;32m    491\u001b[0m         \u001b[0;32mexcept\u001b[0m \u001b[0mTimeoutExpired\u001b[0m \u001b[0;32mas\u001b[0m \u001b[0mexc\u001b[0m\u001b[0;34m:\u001b[0m\u001b[0;34m\u001b[0m\u001b[0;34m\u001b[0m\u001b[0m\n\u001b[1;32m    492\u001b[0m             \u001b[0mprocess\u001b[0m\u001b[0;34m.\u001b[0m\u001b[0mkill\u001b[0m\u001b[0;34m(\u001b[0m\u001b[0;34m)\u001b[0m\u001b[0;34m\u001b[0m\u001b[0;34m\u001b[0m\u001b[0m\n",
      "\u001b[0;32m~/miniforge3/envs/sleap_dev/lib/python3.7/subprocess.py\u001b[0m in \u001b[0;36mcommunicate\u001b[0;34m(self, input, timeout)\u001b[0m\n\u001b[1;32m    954\u001b[0m                 \u001b[0mstderr\u001b[0m \u001b[0;34m=\u001b[0m \u001b[0mself\u001b[0m\u001b[0;34m.\u001b[0m\u001b[0mstderr\u001b[0m\u001b[0;34m.\u001b[0m\u001b[0mread\u001b[0m\u001b[0;34m(\u001b[0m\u001b[0;34m)\u001b[0m\u001b[0;34m\u001b[0m\u001b[0;34m\u001b[0m\u001b[0m\n\u001b[1;32m    955\u001b[0m                 \u001b[0mself\u001b[0m\u001b[0;34m.\u001b[0m\u001b[0mstderr\u001b[0m\u001b[0;34m.\u001b[0m\u001b[0mclose\u001b[0m\u001b[0;34m(\u001b[0m\u001b[0;34m)\u001b[0m\u001b[0;34m\u001b[0m\u001b[0;34m\u001b[0m\u001b[0m\n\u001b[0;32m--> 956\u001b[0;31m             \u001b[0mself\u001b[0m\u001b[0;34m.\u001b[0m\u001b[0mwait\u001b[0m\u001b[0;34m(\u001b[0m\u001b[0;34m)\u001b[0m\u001b[0;34m\u001b[0m\u001b[0;34m\u001b[0m\u001b[0m\n\u001b[0m\u001b[1;32m    957\u001b[0m         \u001b[0;32melse\u001b[0m\u001b[0;34m:\u001b[0m\u001b[0;34m\u001b[0m\u001b[0;34m\u001b[0m\u001b[0m\n\u001b[1;32m    958\u001b[0m             \u001b[0;32mif\u001b[0m \u001b[0mtimeout\u001b[0m \u001b[0;32mis\u001b[0m \u001b[0;32mnot\u001b[0m \u001b[0;32mNone\u001b[0m\u001b[0;34m:\u001b[0m\u001b[0;34m\u001b[0m\u001b[0;34m\u001b[0m\u001b[0m\n",
      "\u001b[0;32m~/miniforge3/envs/sleap_dev/lib/python3.7/subprocess.py\u001b[0m in \u001b[0;36mwait\u001b[0;34m(self, timeout)\u001b[0m\n\u001b[1;32m   1017\u001b[0m             \u001b[0mendtime\u001b[0m \u001b[0;34m=\u001b[0m \u001b[0m_time\u001b[0m\u001b[0;34m(\u001b[0m\u001b[0;34m)\u001b[0m \u001b[0;34m+\u001b[0m \u001b[0mtimeout\u001b[0m\u001b[0;34m\u001b[0m\u001b[0;34m\u001b[0m\u001b[0m\n\u001b[1;32m   1018\u001b[0m         \u001b[0;32mtry\u001b[0m\u001b[0;34m:\u001b[0m\u001b[0;34m\u001b[0m\u001b[0;34m\u001b[0m\u001b[0m\n\u001b[0;32m-> 1019\u001b[0;31m             \u001b[0;32mreturn\u001b[0m \u001b[0mself\u001b[0m\u001b[0;34m.\u001b[0m\u001b[0m_wait\u001b[0m\u001b[0;34m(\u001b[0m\u001b[0mtimeout\u001b[0m\u001b[0;34m=\u001b[0m\u001b[0mtimeout\u001b[0m\u001b[0;34m)\u001b[0m\u001b[0;34m\u001b[0m\u001b[0;34m\u001b[0m\u001b[0m\n\u001b[0m\u001b[1;32m   1020\u001b[0m         \u001b[0;32mexcept\u001b[0m \u001b[0mKeyboardInterrupt\u001b[0m\u001b[0;34m:\u001b[0m\u001b[0;34m\u001b[0m\u001b[0;34m\u001b[0m\u001b[0m\n\u001b[1;32m   1021\u001b[0m             \u001b[0;31m# https://bugs.python.org/issue25942\u001b[0m\u001b[0;34m\u001b[0m\u001b[0;34m\u001b[0m\u001b[0;34m\u001b[0m\u001b[0m\n",
      "\u001b[0;32m~/miniforge3/envs/sleap_dev/lib/python3.7/subprocess.py\u001b[0m in \u001b[0;36m_wait\u001b[0;34m(self, timeout)\u001b[0m\n\u001b[1;32m   1651\u001b[0m                         \u001b[0;32mif\u001b[0m \u001b[0mself\u001b[0m\u001b[0;34m.\u001b[0m\u001b[0mreturncode\u001b[0m \u001b[0;32mis\u001b[0m \u001b[0;32mnot\u001b[0m \u001b[0;32mNone\u001b[0m\u001b[0;34m:\u001b[0m\u001b[0;34m\u001b[0m\u001b[0;34m\u001b[0m\u001b[0m\n\u001b[1;32m   1652\u001b[0m                             \u001b[0;32mbreak\u001b[0m  \u001b[0;31m# Another thread waited.\u001b[0m\u001b[0;34m\u001b[0m\u001b[0;34m\u001b[0m\u001b[0m\n\u001b[0;32m-> 1653\u001b[0;31m                         \u001b[0;34m(\u001b[0m\u001b[0mpid\u001b[0m\u001b[0;34m,\u001b[0m \u001b[0msts\u001b[0m\u001b[0;34m)\u001b[0m \u001b[0;34m=\u001b[0m \u001b[0mself\u001b[0m\u001b[0;34m.\u001b[0m\u001b[0m_try_wait\u001b[0m\u001b[0;34m(\u001b[0m\u001b[0;36m0\u001b[0m\u001b[0;34m)\u001b[0m\u001b[0;34m\u001b[0m\u001b[0;34m\u001b[0m\u001b[0m\n\u001b[0m\u001b[1;32m   1654\u001b[0m                         \u001b[0;31m# Check the pid and loop as waitpid has been known to\u001b[0m\u001b[0;34m\u001b[0m\u001b[0;34m\u001b[0m\u001b[0;34m\u001b[0m\u001b[0m\n\u001b[1;32m   1655\u001b[0m                         \u001b[0;31m# return 0 even without WNOHANG in odd situations.\u001b[0m\u001b[0;34m\u001b[0m\u001b[0;34m\u001b[0m\u001b[0;34m\u001b[0m\u001b[0m\n",
      "\u001b[0;32m~/miniforge3/envs/sleap_dev/lib/python3.7/subprocess.py\u001b[0m in \u001b[0;36m_try_wait\u001b[0;34m(self, wait_flags)\u001b[0m\n\u001b[1;32m   1609\u001b[0m             \u001b[0;34m\"\"\"All callers to this function MUST hold self._waitpid_lock.\"\"\"\u001b[0m\u001b[0;34m\u001b[0m\u001b[0;34m\u001b[0m\u001b[0m\n\u001b[1;32m   1610\u001b[0m             \u001b[0;32mtry\u001b[0m\u001b[0;34m:\u001b[0m\u001b[0;34m\u001b[0m\u001b[0;34m\u001b[0m\u001b[0m\n\u001b[0;32m-> 1611\u001b[0;31m                 \u001b[0;34m(\u001b[0m\u001b[0mpid\u001b[0m\u001b[0;34m,\u001b[0m \u001b[0msts\u001b[0m\u001b[0;34m)\u001b[0m \u001b[0;34m=\u001b[0m \u001b[0mos\u001b[0m\u001b[0;34m.\u001b[0m\u001b[0mwaitpid\u001b[0m\u001b[0;34m(\u001b[0m\u001b[0mself\u001b[0m\u001b[0;34m.\u001b[0m\u001b[0mpid\u001b[0m\u001b[0;34m,\u001b[0m \u001b[0mwait_flags\u001b[0m\u001b[0;34m)\u001b[0m\u001b[0;34m\u001b[0m\u001b[0;34m\u001b[0m\u001b[0m\n\u001b[0m\u001b[1;32m   1612\u001b[0m             \u001b[0;32mexcept\u001b[0m \u001b[0mChildProcessError\u001b[0m\u001b[0;34m:\u001b[0m\u001b[0;34m\u001b[0m\u001b[0;34m\u001b[0m\u001b[0m\n\u001b[1;32m   1613\u001b[0m                 \u001b[0;31m# This happens if SIGCLD is set to be ignored or waiting\u001b[0m\u001b[0;34m\u001b[0m\u001b[0;34m\u001b[0m\u001b[0;34m\u001b[0m\u001b[0m\n",
      "\u001b[0;31mKeyboardInterrupt\u001b[0m: "
     ]
    }
   ],
   "source": [
    "[convert_slp_to_h5(file) for file in SLP_files]"
   ]
  },
  {
   "cell_type": "code",
   "execution_count": null,
   "metadata": {},
   "outputs": [],
   "source": []
  }
 ],
 "metadata": {
  "kernelspec": {
   "display_name": "sleap_dev",
   "language": "python",
   "name": "python3"
  },
  "language_info": {
   "codemirror_mode": {
    "name": "ipython",
    "version": 3
   },
   "file_extension": ".py",
   "mimetype": "text/x-python",
   "name": "python",
   "nbconvert_exporter": "python",
   "pygments_lexer": "ipython3",
   "version": "3.7.12"
  }
 },
 "nbformat": 4,
 "nbformat_minor": 2
}
