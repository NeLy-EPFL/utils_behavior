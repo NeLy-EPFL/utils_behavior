{
 "cells": [
  {
   "cell_type": "code",
   "execution_count": 65,
   "metadata": {},
   "outputs": [],
   "source": [
    "from utils_behavior import Ballpushing_utils\n",
    "\n",
    "from utils_behavior import Sleap_utils\n",
    "\n",
    "from pathlib import Path\n",
    "\n",
    "import pandas as pd\n",
    "\n",
    "from matplotlib import pyplot as plt\n",
    "\n",
    "import importlib"
   ]
  },
  {
   "cell_type": "code",
   "execution_count": 4,
   "metadata": {},
   "outputs": [
    {
     "data": {
      "text/plain": [
       "<module 'utils_behavior.Ballpushing_utils' from '/home/durrieu/utils_behavior/utils_behavior/Ballpushing_utils.py'>"
      ]
     },
     "execution_count": 4,
     "metadata": {},
     "output_type": "execute_result"
    }
   ],
   "source": [
    "importlib.reload(Ballpushing_utils)"
   ]
  },
  {
   "cell_type": "code",
   "execution_count": 11,
   "metadata": {},
   "outputs": [],
   "source": [
    "TestFly_path = Path(\"/mnt/upramdya_data/MD/MultiMazeRecorder/Videos/240531_MagnetBlock_Videos_Tracked/arena4/corridor4/\")"
   ]
  },
  {
   "cell_type": "code",
   "execution_count": 8,
   "metadata": {},
   "outputs": [],
   "source": [
    "# F1 exp\n",
    "TestFly_path = Path(\"/mnt/upramdya_data/MD/F1_Tracks/Videos/240821_F1_3mm_ends_Videos_Checked/arena4/Left\")\n"
   ]
  },
  {
   "cell_type": "code",
   "execution_count": 2,
   "metadata": {},
   "outputs": [],
   "source": [
    "TestSlp = Sleap_utils.Sleap_Tracks(\"/mnt/upramdya_data/MD/F1_Tracks/Videos/240821_F1_3mm_ends_Videos_Checked/arena4/Left/arena4_left_tracked_ball_processed.000_arena4_left.analysis.h5\")"
   ]
  },
  {
   "cell_type": "code",
   "execution_count": 11,
   "metadata": {},
   "outputs": [
    {
     "data": {
      "text/html": [
       "<div>\n",
       "<style scoped>\n",
       "    .dataframe tbody tr th:only-of-type {\n",
       "        vertical-align: middle;\n",
       "    }\n",
       "\n",
       "    .dataframe tbody tr th {\n",
       "        vertical-align: top;\n",
       "    }\n",
       "\n",
       "    .dataframe thead th {\n",
       "        text-align: right;\n",
       "    }\n",
       "</style>\n",
       "<table border=\"1\" class=\"dataframe\">\n",
       "  <thead>\n",
       "    <tr style=\"text-align: right;\">\n",
       "      <th></th>\n",
       "      <th>frame</th>\n",
       "      <th>time</th>\n",
       "      <th>object</th>\n",
       "      <th>x_centre</th>\n",
       "      <th>y_centre</th>\n",
       "    </tr>\n",
       "  </thead>\n",
       "  <tbody>\n",
       "    <tr>\n",
       "      <th>0</th>\n",
       "      <td>1</td>\n",
       "      <td>0.034483</td>\n",
       "      <td>object_1</td>\n",
       "      <td>46.395609</td>\n",
       "      <td>294.419014</td>\n",
       "    </tr>\n",
       "    <tr>\n",
       "      <th>1</th>\n",
       "      <td>2</td>\n",
       "      <td>0.068966</td>\n",
       "      <td>object_1</td>\n",
       "      <td>46.393454</td>\n",
       "      <td>294.419055</td>\n",
       "    </tr>\n",
       "    <tr>\n",
       "      <th>2</th>\n",
       "      <td>3</td>\n",
       "      <td>0.103448</td>\n",
       "      <td>object_1</td>\n",
       "      <td>46.391299</td>\n",
       "      <td>294.419096</td>\n",
       "    </tr>\n",
       "    <tr>\n",
       "      <th>3</th>\n",
       "      <td>4</td>\n",
       "      <td>0.137931</td>\n",
       "      <td>object_1</td>\n",
       "      <td>46.389143</td>\n",
       "      <td>294.419138</td>\n",
       "    </tr>\n",
       "    <tr>\n",
       "      <th>4</th>\n",
       "      <td>5</td>\n",
       "      <td>0.172414</td>\n",
       "      <td>object_1</td>\n",
       "      <td>46.386988</td>\n",
       "      <td>294.419179</td>\n",
       "    </tr>\n",
       "    <tr>\n",
       "      <th>...</th>\n",
       "      <td>...</td>\n",
       "      <td>...</td>\n",
       "      <td>...</td>\n",
       "      <td>...</td>\n",
       "      <td>...</td>\n",
       "    </tr>\n",
       "    <tr>\n",
       "      <th>261001</th>\n",
       "      <td>261002</td>\n",
       "      <td>9000.068966</td>\n",
       "      <td>object_1</td>\n",
       "      <td>47.371253</td>\n",
       "      <td>175.920539</td>\n",
       "    </tr>\n",
       "    <tr>\n",
       "      <th>261002</th>\n",
       "      <td>261003</td>\n",
       "      <td>9000.103448</td>\n",
       "      <td>object_1</td>\n",
       "      <td>47.371249</td>\n",
       "      <td>175.920624</td>\n",
       "    </tr>\n",
       "    <tr>\n",
       "      <th>261003</th>\n",
       "      <td>261004</td>\n",
       "      <td>9000.137931</td>\n",
       "      <td>object_1</td>\n",
       "      <td>47.371244</td>\n",
       "      <td>175.920710</td>\n",
       "    </tr>\n",
       "    <tr>\n",
       "      <th>261004</th>\n",
       "      <td>261005</td>\n",
       "      <td>9000.172414</td>\n",
       "      <td>object_1</td>\n",
       "      <td>47.371240</td>\n",
       "      <td>175.920796</td>\n",
       "    </tr>\n",
       "    <tr>\n",
       "      <th>261005</th>\n",
       "      <td>261006</td>\n",
       "      <td>9000.206897</td>\n",
       "      <td>object_1</td>\n",
       "      <td>47.371236</td>\n",
       "      <td>175.920881</td>\n",
       "    </tr>\n",
       "  </tbody>\n",
       "</table>\n",
       "<p>261006 rows × 5 columns</p>\n",
       "</div>"
      ],
      "text/plain": [
       "         frame         time    object   x_centre    y_centre\n",
       "0            1     0.034483  object_1  46.395609  294.419014\n",
       "1            2     0.068966  object_1  46.393454  294.419055\n",
       "2            3     0.103448  object_1  46.391299  294.419096\n",
       "3            4     0.137931  object_1  46.389143  294.419138\n",
       "4            5     0.172414  object_1  46.386988  294.419179\n",
       "...        ...          ...       ...        ...         ...\n",
       "261001  261002  9000.068966  object_1  47.371253  175.920539\n",
       "261002  261003  9000.103448  object_1  47.371249  175.920624\n",
       "261003  261004  9000.137931  object_1  47.371244  175.920710\n",
       "261004  261005  9000.172414  object_1  47.371240  175.920796\n",
       "261005  261006  9000.206897  object_1  47.371236  175.920881\n",
       "\n",
       "[261006 rows x 5 columns]"
      ]
     },
     "execution_count": 11,
     "metadata": {},
     "output_type": "execute_result"
    }
   ],
   "source": [
    "TestSlp.objects[0].object_data"
   ]
  },
  {
   "cell_type": "code",
   "execution_count": null,
   "metadata": {},
   "outputs": [
    {
     "ename": "AttributeError",
     "evalue": "'Sleap_Tracks' object has no attribute 'dataset'",
     "output_type": "error",
     "traceback": [
      "\u001b[0;31m---------------------------------------------------------------------------\u001b[0m",
      "\u001b[0;31mAttributeError\u001b[0m                            Traceback (most recent call last)",
      "Cell \u001b[0;32mIn[12], line 1\u001b[0m\n\u001b[0;32m----> 1\u001b[0m \u001b[43mTestSlp\u001b[49m\u001b[38;5;241;43m.\u001b[39;49m\u001b[43mdataset\u001b[49m\n",
      "\u001b[0;31mAttributeError\u001b[0m: 'Sleap_Tracks' object has no attribute 'dataset'"
     ]
    }
   ],
   "source": []
  },
  {
   "cell_type": "code",
   "execution_count": 18,
   "metadata": {},
   "outputs": [
    {
     "data": {
      "text/plain": [
       "<property at 0x73991db47ba0>"
      ]
     },
     "execution_count": 18,
     "metadata": {},
     "output_type": "execute_result"
    }
   ],
   "source": [
    "TestSlp.objects[0].centre"
   ]
  },
  {
   "cell_type": "code",
   "execution_count": 18,
   "metadata": {},
   "outputs": [
    {
     "data": {
      "text/plain": [
       "<module 'utils_behavior.Ballpushing_utils' from '/home/durrieu/utils_behavior/utils_behavior/Ballpushing_utils.py'>"
      ]
     },
     "execution_count": 18,
     "metadata": {},
     "output_type": "execute_result"
    }
   ],
   "source": [
    "importlib.reload(Ballpushing_utils)"
   ]
  },
  {
   "cell_type": "code",
   "execution_count": 19,
   "metadata": {},
   "outputs": [],
   "source": [
    "TestFly = Ballpushing_utils.Fly(TestFly_path, as_individual=True)"
   ]
  },
  {
   "cell_type": "code",
   "execution_count": 20,
   "metadata": {},
   "outputs": [
    {
     "data": {
      "text/plain": [
       "{'Date': '240821',\n",
       " 'Genotype': 'PR',\n",
       " 'Period': 'AM10',\n",
       " 'FeedingState': 'starved_noWater',\n",
       " 'Orientation': 'std',\n",
       " 'Light': 'on',\n",
       " 'Crossing': '1',\n",
       " 'Pretraining': 'y',\n",
       " 'Unlocked': 'yy',\n",
       " '': ''}"
      ]
     },
     "execution_count": 20,
     "metadata": {},
     "output_type": "execute_result"
    }
   ],
   "source": [
    "TestFly.arena_metadata"
   ]
  },
  {
   "cell_type": "code",
   "execution_count": 21,
   "metadata": {},
   "outputs": [
    {
     "data": {
      "text/plain": [
       "'pretrained_unlocked'"
      ]
     },
     "execution_count": 21,
     "metadata": {},
     "output_type": "execute_result"
    }
   ],
   "source": [
    "TestFly.F1_condition"
   ]
  },
  {
   "cell_type": "code",
   "execution_count": 7,
   "metadata": {},
   "outputs": [
    {
     "data": {
      "text/html": [
       "<div>\n",
       "<style scoped>\n",
       "    .dataframe tbody tr th:only-of-type {\n",
       "        vertical-align: middle;\n",
       "    }\n",
       "\n",
       "    .dataframe tbody tr th {\n",
       "        vertical-align: top;\n",
       "    }\n",
       "\n",
       "    .dataframe thead th {\n",
       "        text-align: right;\n",
       "    }\n",
       "</style>\n",
       "<table border=\"1\" class=\"dataframe\">\n",
       "  <thead>\n",
       "    <tr style=\"text-align: right;\">\n",
       "      <th></th>\n",
       "      <th>frame</th>\n",
       "      <th>time</th>\n",
       "      <th>object</th>\n",
       "      <th>x_thorax</th>\n",
       "      <th>y_thorax</th>\n",
       "      <th>adjusted_time</th>\n",
       "    </tr>\n",
       "  </thead>\n",
       "  <tbody>\n",
       "    <tr>\n",
       "      <th>0</th>\n",
       "      <td>1</td>\n",
       "      <td>0.034483</td>\n",
       "      <td>fly_1</td>\n",
       "      <td>46.995866</td>\n",
       "      <td>515.760397</td>\n",
       "      <td>-3795.241379</td>\n",
       "    </tr>\n",
       "    <tr>\n",
       "      <th>1</th>\n",
       "      <td>2</td>\n",
       "      <td>0.068966</td>\n",
       "      <td>fly_1</td>\n",
       "      <td>46.995750</td>\n",
       "      <td>515.733990</td>\n",
       "      <td>-3795.206897</td>\n",
       "    </tr>\n",
       "    <tr>\n",
       "      <th>2</th>\n",
       "      <td>3</td>\n",
       "      <td>0.103448</td>\n",
       "      <td>fly_1</td>\n",
       "      <td>46.995635</td>\n",
       "      <td>515.707583</td>\n",
       "      <td>-3795.172414</td>\n",
       "    </tr>\n",
       "    <tr>\n",
       "      <th>3</th>\n",
       "      <td>4</td>\n",
       "      <td>0.137931</td>\n",
       "      <td>fly_1</td>\n",
       "      <td>46.995519</td>\n",
       "      <td>515.681175</td>\n",
       "      <td>-3795.137931</td>\n",
       "    </tr>\n",
       "    <tr>\n",
       "      <th>4</th>\n",
       "      <td>5</td>\n",
       "      <td>0.172414</td>\n",
       "      <td>fly_1</td>\n",
       "      <td>46.995403</td>\n",
       "      <td>515.654768</td>\n",
       "      <td>-3795.103448</td>\n",
       "    </tr>\n",
       "    <tr>\n",
       "      <th>...</th>\n",
       "      <td>...</td>\n",
       "      <td>...</td>\n",
       "      <td>...</td>\n",
       "      <td>...</td>\n",
       "      <td>...</td>\n",
       "      <td>...</td>\n",
       "    </tr>\n",
       "    <tr>\n",
       "      <th>261001</th>\n",
       "      <td>261002</td>\n",
       "      <td>9000.068966</td>\n",
       "      <td>fly_1</td>\n",
       "      <td>45.539764</td>\n",
       "      <td>500.960535</td>\n",
       "      <td>5204.793103</td>\n",
       "    </tr>\n",
       "    <tr>\n",
       "      <th>261002</th>\n",
       "      <td>261003</td>\n",
       "      <td>9000.103448</td>\n",
       "      <td>fly_1</td>\n",
       "      <td>45.546520</td>\n",
       "      <td>500.943661</td>\n",
       "      <td>5204.827586</td>\n",
       "    </tr>\n",
       "    <tr>\n",
       "      <th>261003</th>\n",
       "      <td>261004</td>\n",
       "      <td>9000.137931</td>\n",
       "      <td>fly_1</td>\n",
       "      <td>45.553275</td>\n",
       "      <td>500.926787</td>\n",
       "      <td>5204.862069</td>\n",
       "    </tr>\n",
       "    <tr>\n",
       "      <th>261004</th>\n",
       "      <td>261005</td>\n",
       "      <td>9000.172414</td>\n",
       "      <td>fly_1</td>\n",
       "      <td>45.560030</td>\n",
       "      <td>500.909913</td>\n",
       "      <td>5204.896552</td>\n",
       "    </tr>\n",
       "    <tr>\n",
       "      <th>261005</th>\n",
       "      <td>261006</td>\n",
       "      <td>9000.206897</td>\n",
       "      <td>fly_1</td>\n",
       "      <td>45.566785</td>\n",
       "      <td>500.893039</td>\n",
       "      <td>5204.931034</td>\n",
       "    </tr>\n",
       "  </tbody>\n",
       "</table>\n",
       "<p>261006 rows × 6 columns</p>\n",
       "</div>"
      ],
      "text/plain": [
       "         frame         time object   x_thorax    y_thorax  adjusted_time\n",
       "0            1     0.034483  fly_1  46.995866  515.760397   -3795.241379\n",
       "1            2     0.068966  fly_1  46.995750  515.733990   -3795.206897\n",
       "2            3     0.103448  fly_1  46.995635  515.707583   -3795.172414\n",
       "3            4     0.137931  fly_1  46.995519  515.681175   -3795.137931\n",
       "4            5     0.172414  fly_1  46.995403  515.654768   -3795.103448\n",
       "...        ...          ...    ...        ...         ...            ...\n",
       "261001  261002  9000.068966  fly_1  45.539764  500.960535    5204.793103\n",
       "261002  261003  9000.103448  fly_1  45.546520  500.943661    5204.827586\n",
       "261003  261004  9000.137931  fly_1  45.553275  500.926787    5204.862069\n",
       "261004  261005  9000.172414  fly_1  45.560030  500.909913    5204.896552\n",
       "261005  261006  9000.206897  fly_1  45.566785  500.893039    5204.931034\n",
       "\n",
       "[261006 rows x 6 columns]"
      ]
     },
     "execution_count": 7,
     "metadata": {},
     "output_type": "execute_result"
    }
   ],
   "source": [
    "TestFly.flytrack.objects[0].dataset"
   ]
  },
  {
   "cell_type": "code",
   "execution_count": 8,
   "metadata": {},
   "outputs": [
    {
     "data": {
      "text/html": [
       "<div>\n",
       "<style scoped>\n",
       "    .dataframe tbody tr th:only-of-type {\n",
       "        vertical-align: middle;\n",
       "    }\n",
       "\n",
       "    .dataframe tbody tr th {\n",
       "        vertical-align: top;\n",
       "    }\n",
       "\n",
       "    .dataframe thead th {\n",
       "        text-align: right;\n",
       "    }\n",
       "</style>\n",
       "<table border=\"1\" class=\"dataframe\">\n",
       "  <thead>\n",
       "    <tr style=\"text-align: right;\">\n",
       "      <th></th>\n",
       "      <th>frame</th>\n",
       "      <th>time</th>\n",
       "      <th>object</th>\n",
       "      <th>x_centre</th>\n",
       "      <th>y_centre</th>\n",
       "      <th>euclidean_distance</th>\n",
       "    </tr>\n",
       "  </thead>\n",
       "  <tbody>\n",
       "    <tr>\n",
       "      <th>0</th>\n",
       "      <td>1</td>\n",
       "      <td>0.034483</td>\n",
       "      <td>ball_2</td>\n",
       "      <td>239.203365</td>\n",
       "      <td>430.395402</td>\n",
       "      <td>0.000000</td>\n",
       "    </tr>\n",
       "    <tr>\n",
       "      <th>1</th>\n",
       "      <td>2</td>\n",
       "      <td>0.068966</td>\n",
       "      <td>ball_2</td>\n",
       "      <td>239.203280</td>\n",
       "      <td>430.395488</td>\n",
       "      <td>0.000121</td>\n",
       "    </tr>\n",
       "    <tr>\n",
       "      <th>2</th>\n",
       "      <td>3</td>\n",
       "      <td>0.103448</td>\n",
       "      <td>ball_2</td>\n",
       "      <td>239.203196</td>\n",
       "      <td>430.395575</td>\n",
       "      <td>0.000241</td>\n",
       "    </tr>\n",
       "    <tr>\n",
       "      <th>3</th>\n",
       "      <td>4</td>\n",
       "      <td>0.137931</td>\n",
       "      <td>ball_2</td>\n",
       "      <td>239.203112</td>\n",
       "      <td>430.395661</td>\n",
       "      <td>0.000362</td>\n",
       "    </tr>\n",
       "    <tr>\n",
       "      <th>4</th>\n",
       "      <td>5</td>\n",
       "      <td>0.172414</td>\n",
       "      <td>ball_2</td>\n",
       "      <td>239.203028</td>\n",
       "      <td>430.395747</td>\n",
       "      <td>0.000482</td>\n",
       "    </tr>\n",
       "    <tr>\n",
       "      <th>...</th>\n",
       "      <td>...</td>\n",
       "      <td>...</td>\n",
       "      <td>...</td>\n",
       "      <td>...</td>\n",
       "      <td>...</td>\n",
       "      <td>...</td>\n",
       "    </tr>\n",
       "    <tr>\n",
       "      <th>261001</th>\n",
       "      <td>261002</td>\n",
       "      <td>9000.068966</td>\n",
       "      <td>ball_2</td>\n",
       "      <td>235.933383</td>\n",
       "      <td>477.956923</td>\n",
       "      <td>47.673799</td>\n",
       "    </tr>\n",
       "    <tr>\n",
       "      <th>261002</th>\n",
       "      <td>261003</td>\n",
       "      <td>9000.103448</td>\n",
       "      <td>ball_2</td>\n",
       "      <td>235.933577</td>\n",
       "      <td>477.956769</td>\n",
       "      <td>47.673631</td>\n",
       "    </tr>\n",
       "    <tr>\n",
       "      <th>261003</th>\n",
       "      <td>261004</td>\n",
       "      <td>9000.137931</td>\n",
       "      <td>ball_2</td>\n",
       "      <td>235.933772</td>\n",
       "      <td>477.956614</td>\n",
       "      <td>47.673463</td>\n",
       "    </tr>\n",
       "    <tr>\n",
       "      <th>261004</th>\n",
       "      <td>261005</td>\n",
       "      <td>9000.172414</td>\n",
       "      <td>ball_2</td>\n",
       "      <td>235.933966</td>\n",
       "      <td>477.956459</td>\n",
       "      <td>47.673296</td>\n",
       "    </tr>\n",
       "    <tr>\n",
       "      <th>261005</th>\n",
       "      <td>261006</td>\n",
       "      <td>9000.206897</td>\n",
       "      <td>ball_2</td>\n",
       "      <td>235.934161</td>\n",
       "      <td>477.956304</td>\n",
       "      <td>47.673128</td>\n",
       "    </tr>\n",
       "  </tbody>\n",
       "</table>\n",
       "<p>261006 rows × 6 columns</p>\n",
       "</div>"
      ],
      "text/plain": [
       "         frame         time  object    x_centre    y_centre  \\\n",
       "0            1     0.034483  ball_2  239.203365  430.395402   \n",
       "1            2     0.068966  ball_2  239.203280  430.395488   \n",
       "2            3     0.103448  ball_2  239.203196  430.395575   \n",
       "3            4     0.137931  ball_2  239.203112  430.395661   \n",
       "4            5     0.172414  ball_2  239.203028  430.395747   \n",
       "...        ...          ...     ...         ...         ...   \n",
       "261001  261002  9000.068966  ball_2  235.933383  477.956923   \n",
       "261002  261003  9000.103448  ball_2  235.933577  477.956769   \n",
       "261003  261004  9000.137931  ball_2  235.933772  477.956614   \n",
       "261004  261005  9000.172414  ball_2  235.933966  477.956459   \n",
       "261005  261006  9000.206897  ball_2  235.934161  477.956304   \n",
       "\n",
       "        euclidean_distance  \n",
       "0                 0.000000  \n",
       "1                 0.000121  \n",
       "2                 0.000241  \n",
       "3                 0.000362  \n",
       "4                 0.000482  \n",
       "...                    ...  \n",
       "261001           47.673799  \n",
       "261002           47.673631  \n",
       "261003           47.673463  \n",
       "261004           47.673296  \n",
       "261005           47.673128  \n",
       "\n",
       "[261006 rows x 6 columns]"
      ]
     },
     "execution_count": 8,
     "metadata": {},
     "output_type": "execute_result"
    }
   ],
   "source": [
    "TestFly.balltrack.objects[1].dataset"
   ]
  },
  {
   "cell_type": "code",
   "execution_count": 10,
   "metadata": {},
   "outputs": [
    {
     "data": {
      "image/png": "[encoded data removed]",
      "text/plain": [
       "<Figure size 640x480 with 1 Axes>"
      ]
     },
     "metadata": {},
     "output_type": "display_data"
    }
   ],
   "source": [
    "# Plot the second ball relative position across adjusted time\n",
    "\n",
    "Adjusted_time = TestFly.flytrack.objects[0].dataset['adjusted_time']\n",
    "\n",
    "Ball_position = TestFly.balltrack.objects[1].dataset['euclidean_distance']\n",
    "\n",
    "# Plot the second ball relative position across adjusted time\n",
    "import seaborn as sns\n",
    "import matplotlib.pyplot as plt\n",
    "\n",
    "plt.figure()\n",
    "sns.lineplot(x=Adjusted_time, y=Ball_position)\n",
    "plt.show()"
   ]
  },
  {
   "cell_type": "code",
   "execution_count": null,
   "metadata": {},
   "outputs": [],
   "source": []
  },
  {
   "cell_type": "code",
   "execution_count": 24,
   "metadata": {},
   "outputs": [],
   "source": [
    "# Let's make 2 annotated videos for each push / pull event\n",
    "\n",
    "# First, let's get the push / pull events\n",
    "\n",
    "pushes = TestFly.metrics[\"fly_1_ball_1\"][\"events_direction\"][0]\n",
    "\n",
    "pulls = TestFly.metrics[\"fly_1_ball_1\"][\"events_direction\"][1]"
   ]
  },
  {
   "cell_type": "code",
   "execution_count": 172,
   "metadata": {},
   "outputs": [
    {
     "name": "stdout",
     "output_type": "stream",
     "text": [
      "No CUDA devices found, falling back to CPU processing.\n"
     ]
    },
    {
     "name": "stderr",
     "output_type": "stream",
     "text": [
      "Processing frames: 100%|██████████| 219/219 [00:05<00:00, 37.80it/s]\n"
     ]
    },
    {
     "name": "stdout",
     "output_type": "stream",
     "text": [
      "No CUDA devices found, falling back to CPU processing.\n"
     ]
    },
    {
     "name": "stderr",
     "output_type": "stream",
     "text": [
      "Processing frames: 100%|██████████| 389/389 [00:09<00:00, 38.91it/s]\n"
     ]
    },
    {
     "name": "stdout",
     "output_type": "stream",
     "text": [
      "No CUDA devices found, falling back to CPU processing.\n"
     ]
    },
    {
     "name": "stderr",
     "output_type": "stream",
     "text": [
      "Processing frames: 100%|██████████| 585/585 [00:15<00:00, 38.98it/s]\n"
     ]
    },
    {
     "name": "stdout",
     "output_type": "stream",
     "text": [
      "No CUDA devices found, falling back to CPU processing.\n"
     ]
    },
    {
     "name": "stderr",
     "output_type": "stream",
     "text": [
      "Processing frames: 100%|██████████| 111/111 [00:03<00:00, 33.20it/s]\n"
     ]
    }
   ],
   "source": [
    "# Now for the two first pushes and pulls, let's make the videos\n",
    "\n",
    "for push in pushes[:2]:\n",
    "    TestFly.flytrack.generate_annotated_video(save=True, output_path = f\"/mnt/upramdya_data/MD/Other_Videos/Events_annotation/push{push}.mp4\"\n",
    "    , start = push[0], end = push[1])\n",
    "for pull in pulls[:2]:\n",
    "    TestFly.flytrack.generate_annotated_video(save=True, output_path = f\"/mnt/upramdya_data/MD/Other_Videos/Events_annotation/pull{pull}.mp4\"\n",
    "    , start = pull[0], end = pull[1])\n",
    "    \n",
    "    "
   ]
  },
  {
   "cell_type": "code",
   "execution_count": 159,
   "metadata": {},
   "outputs": [
    {
     "data": {
      "text/plain": [
       "([[np.int64(53651), np.int64(53869), np.int64(218)],\n",
       "  [np.int64(56493), np.int64(56603), np.int64(110)],\n",
       "  [np.int64(59233), np.int64(59302), np.int64(69)],\n",
       "  [np.int64(59711), np.int64(60034), np.int64(323)],\n",
       "  [np.int64(62187), np.int64(62274), np.int64(87)],\n",
       "  [np.int64(66494), np.int64(66807), np.int64(313)],\n",
       "  [np.int64(69427), np.int64(70538), np.int64(1111)]],\n",
       " [[np.int64(54166), np.int64(54554), np.int64(388)],\n",
       "  [np.int64(55126), np.int64(55710), np.int64(584)],\n",
       "  [np.int64(56022), np.int64(56101), np.int64(79)],\n",
       "  [np.int64(56889), np.int64(57498), np.int64(609)],\n",
       "  [np.int64(58541), np.int64(58654), np.int64(113)],\n",
       "  [np.int64(60964), np.int64(61259), np.int64(295)],\n",
       "  [np.int64(64498), np.int64(64575), np.int64(77)],\n",
       "  [np.int64(67637), np.int64(68002), np.int64(365)],\n",
       "  [np.int64(68769), np.int64(69006), np.int64(237)],\n",
       "  [np.int64(142259), np.int64(142486), np.int64(227)],\n",
       "  [np.int64(145511), np.int64(145866), np.int64(355)]])"
      ]
     },
     "execution_count": 159,
     "metadata": {},
     "output_type": "execute_result"
    }
   ],
   "source": [
    "TestFly.metrics[\"fly_1_ball_1\"][\"events_direction\"]"
   ]
  },
  {
   "cell_type": "code",
   "execution_count": 98,
   "metadata": {},
   "outputs": [
    {
     "data": {
      "text/plain": [
       "2704.0"
      ]
     },
     "execution_count": 98,
     "metadata": {},
     "output_type": "execute_result"
    }
   ],
   "source": [
    "78416 / 29"
   ]
  },
  {
   "cell_type": "code",
   "execution_count": 99,
   "metadata": {},
   "outputs": [
    {
     "data": {
      "text/plain": [
       "45.06666666666667"
      ]
     },
     "execution_count": 99,
     "metadata": {},
     "output_type": "execute_result"
    }
   ],
   "source": [
    "2704 / 60"
   ]
  },
  {
   "cell_type": "code",
   "execution_count": 100,
   "metadata": {},
   "outputs": [
    {
     "data": {
      "text/plain": [
       "'starved_noWater'"
      ]
     },
     "execution_count": 100,
     "metadata": {},
     "output_type": "execute_result"
    }
   ],
   "source": [
    "TestFly.FeedingState"
   ]
  },
  {
   "cell_type": "code",
   "execution_count": 101,
   "metadata": {},
   "outputs": [
    {
     "data": {
      "text/plain": [
       "{1: {1: [[np.int64(52980), np.int64(53066), np.int64(86)],\n",
       "   [np.int64(53651), np.int64(53869), np.int64(218)],\n",
       "   [np.int64(54166), np.int64(54554), np.int64(388)],\n",
       "   [np.int64(55126), np.int64(55710), np.int64(584)],\n",
       "   [np.int64(56022), np.int64(56101), np.int64(79)],\n",
       "   [np.int64(56493), np.int64(56603), np.int64(110)],\n",
       "   [np.int64(56889), np.int64(57498), np.int64(609)],\n",
       "   [np.int64(58191), np.int64(58289), np.int64(98)],\n",
       "   [np.int64(58541), np.int64(58654), np.int64(113)],\n",
       "   [np.int64(59233), np.int64(59302), np.int64(69)],\n",
       "   [np.int64(59711), np.int64(60034), np.int64(323)],\n",
       "   [np.int64(60964), np.int64(61259), np.int64(295)],\n",
       "   [np.int64(62187), np.int64(62274), np.int64(87)],\n",
       "   [np.int64(63039), np.int64(63100), np.int64(61)],\n",
       "   [np.int64(63554), np.int64(63620), np.int64(66)],\n",
       "   [np.int64(64498), np.int64(64575), np.int64(77)],\n",
       "   [np.int64(65043), np.int64(65159), np.int64(116)],\n",
       "   [np.int64(65870), np.int64(66007), np.int64(137)],\n",
       "   [np.int64(66494), np.int64(66807), np.int64(313)],\n",
       "   [np.int64(67637), np.int64(68002), np.int64(365)],\n",
       "   [np.int64(68769), np.int64(69006), np.int64(237)],\n",
       "   [np.int64(69427), np.int64(70538), np.int64(1111)],\n",
       "   [np.int64(72017), np.int64(72217), np.int64(200)],\n",
       "   [np.int64(78416), np.int64(78777), np.int64(361)],\n",
       "   [np.int64(79562), np.int64(79649), np.int64(87)],\n",
       "   [np.int64(79987), np.int64(80211), np.int64(224)],\n",
       "   [np.int64(83167), np.int64(83279), np.int64(112)],\n",
       "   [np.int64(84766), np.int64(84862), np.int64(96)],\n",
       "   [np.int64(85329), np.int64(85396), np.int64(67)],\n",
       "   [np.int64(88215), np.int64(88446), np.int64(231)],\n",
       "   [np.int64(92091), np.int64(92161), np.int64(70)],\n",
       "   [np.int64(93609), np.int64(93718), np.int64(109)],\n",
       "   [np.int64(97803), np.int64(97986), np.int64(183)],\n",
       "   [np.int64(99524), np.int64(99596), np.int64(72)],\n",
       "   [np.int64(103334), np.int64(103610), np.int64(276)],\n",
       "   [np.int64(105021), np.int64(105153), np.int64(132)],\n",
       "   [np.int64(106417), np.int64(107185), np.int64(768)],\n",
       "   [np.int64(113626), np.int64(113932), np.int64(306)],\n",
       "   [np.int64(115173), np.int64(115237), np.int64(64)],\n",
       "   [np.int64(118636), np.int64(118717), np.int64(81)],\n",
       "   [np.int64(121037), np.int64(121146), np.int64(109)],\n",
       "   [np.int64(122403), np.int64(122497), np.int64(94)],\n",
       "   [np.int64(124444), np.int64(125177), np.int64(733)],\n",
       "   [np.int64(125503), np.int64(125698), np.int64(195)],\n",
       "   [np.int64(132525), np.int64(132649), np.int64(124)],\n",
       "   [np.int64(138276), np.int64(138371), np.int64(95)],\n",
       "   [np.int64(138887), np.int64(139047), np.int64(160)],\n",
       "   [np.int64(142259), np.int64(142486), np.int64(227)],\n",
       "   [np.int64(145511), np.int64(145866), np.int64(355)],\n",
       "   [np.int64(149906), np.int64(150000), np.int64(94)],\n",
       "   [np.int64(151292), np.int64(151557), np.int64(265)],\n",
       "   [np.int64(154751), np.int64(154949), np.int64(198)]]}}"
      ]
     },
     "execution_count": 101,
     "metadata": {},
     "output_type": "execute_result"
    }
   ],
   "source": [
    "TestFly.interaction_events"
   ]
  },
  {
   "cell_type": "code",
   "execution_count": 102,
   "metadata": {},
   "outputs": [
    {
     "name": "stdout",
     "output_type": "stream",
     "text": [
      "Number of events for 1: 1\n"
     ]
    },
    {
     "data": {
      "text/plain": [
       "{1: 1}"
      ]
     },
     "execution_count": 102,
     "metadata": {},
     "output_type": "execute_result"
    }
   ],
   "source": [
    "TestFly.get_events_number()"
   ]
  },
  {
   "cell_type": "code",
   "execution_count": 106,
   "metadata": {},
   "outputs": [
    {
     "data": {
      "text/plain": [
       "{'final_event': ([np.int64(78416), np.int64(78777), np.int64(361)], 23),\n",
       " 'significant_events': [[np.int64(53651), np.int64(53869), np.int64(218)],\n",
       "  [np.int64(54166), np.int64(54554), np.int64(388)],\n",
       "  [np.int64(55126), np.int64(55710), np.int64(584)],\n",
       "  [np.int64(56022), np.int64(56101), np.int64(79)],\n",
       "  [np.int64(56493), np.int64(56603), np.int64(110)],\n",
       "  [np.int64(56889), np.int64(57498), np.int64(609)],\n",
       "  [np.int64(58541), np.int64(58654), np.int64(113)],\n",
       "  [np.int64(59233), np.int64(59302), np.int64(69)],\n",
       "  [np.int64(59711), np.int64(60034), np.int64(323)],\n",
       "  [np.int64(60964), np.int64(61259), np.int64(295)],\n",
       "  [np.int64(62187), np.int64(62274), np.int64(87)],\n",
       "  [np.int64(64498), np.int64(64575), np.int64(77)],\n",
       "  [np.int64(66494), np.int64(66807), np.int64(313)],\n",
       "  [np.int64(67637), np.int64(68002), np.int64(365)],\n",
       "  [np.int64(68769), np.int64(69006), np.int64(237)],\n",
       "  [np.int64(69427), np.int64(70538), np.int64(1111)],\n",
       "  [np.int64(142259), np.int64(142486), np.int64(227)],\n",
       "  [np.int64(145511), np.int64(145866), np.int64(355)]],\n",
       " 'breaks': [(0, np.int64(52980), np.int64(52980)),\n",
       "  (np.int64(53066), np.int64(53651), np.int64(585)),\n",
       "  (np.int64(53869), np.int64(54166), np.int64(297)),\n",
       "  (np.int64(54554), np.int64(55126), np.int64(572)),\n",
       "  (np.int64(55710), np.int64(56022), np.int64(312)),\n",
       "  (np.int64(56101), np.int64(56493), np.int64(392)),\n",
       "  (np.int64(56603), np.int64(56889), np.int64(286)),\n",
       "  (np.int64(57498), np.int64(58191), np.int64(693)),\n",
       "  (np.int64(58289), np.int64(58541), np.int64(252)),\n",
       "  (np.int64(58654), np.int64(59233), np.int64(579)),\n",
       "  (np.int64(59302), np.int64(59711), np.int64(409)),\n",
       "  (np.int64(60034), np.int64(60964), np.int64(930)),\n",
       "  (np.int64(61259), np.int64(62187), np.int64(928)),\n",
       "  (np.int64(62274), np.int64(63039), np.int64(765)),\n",
       "  (np.int64(63100), np.int64(63554), np.int64(454)),\n",
       "  (np.int64(63620), np.int64(64498), np.int64(878)),\n",
       "  (np.int64(64575), np.int64(65043), np.int64(468)),\n",
       "  (np.int64(65159), np.int64(65870), np.int64(711)),\n",
       "  (np.int64(66007), np.int64(66494), np.int64(487)),\n",
       "  (np.int64(66807), np.int64(67637), np.int64(830)),\n",
       "  (np.int64(68002), np.int64(68769), np.int64(767)),\n",
       "  (np.int64(69006), np.int64(69427), np.int64(421)),\n",
       "  (np.int64(70538), np.int64(72017), np.int64(1479)),\n",
       "  (np.int64(72217), np.int64(78416), np.int64(6199)),\n",
       "  (np.int64(78777), np.int64(79562), np.int64(785)),\n",
       "  (np.int64(79649), np.int64(79987), np.int64(338)),\n",
       "  (np.int64(80211), np.int64(83167), np.int64(2956)),\n",
       "  (np.int64(83279), np.int64(84766), np.int64(1487)),\n",
       "  (np.int64(84862), np.int64(85329), np.int64(467)),\n",
       "  (np.int64(85396), np.int64(88215), np.int64(2819)),\n",
       "  (np.int64(88446), np.int64(92091), np.int64(3645)),\n",
       "  (np.int64(92161), np.int64(93609), np.int64(1448)),\n",
       "  (np.int64(93718), np.int64(97803), np.int64(4085)),\n",
       "  (np.int64(97986), np.int64(99524), np.int64(1538)),\n",
       "  (np.int64(99596), np.int64(103334), np.int64(3738)),\n",
       "  (np.int64(103610), np.int64(105021), np.int64(1411)),\n",
       "  (np.int64(105153), np.int64(106417), np.int64(1264)),\n",
       "  (np.int64(107185), np.int64(113626), np.int64(6441)),\n",
       "  (np.int64(113932), np.int64(115173), np.int64(1241)),\n",
       "  (np.int64(115237), np.int64(118636), np.int64(3399)),\n",
       "  (np.int64(118717), np.int64(121037), np.int64(2320)),\n",
       "  (np.int64(121146), np.int64(122403), np.int64(1257)),\n",
       "  (np.int64(122497), np.int64(124444), np.int64(1947)),\n",
       "  (np.int64(125177), np.int64(125503), np.int64(326)),\n",
       "  (np.int64(125698), np.int64(132525), np.int64(6827)),\n",
       "  (np.int64(132649), np.int64(138276), np.int64(5627)),\n",
       "  (np.int64(138371), np.int64(138887), np.int64(516)),\n",
       "  (np.int64(139047), np.int64(142259), np.int64(3212)),\n",
       "  (np.int64(142486), np.int64(145511), np.int64(3025)),\n",
       "  (np.int64(145866), np.int64(149906), np.int64(4040)),\n",
       "  (np.int64(150000), np.int64(151292), np.int64(1292)),\n",
       "  (np.int64(151557), np.int64(154751), np.int64(3194)),\n",
       "  (np.int64(154949), 156603, np.int64(1654))],\n",
       " 'cumulated_breaks_duration': np.int64(144973),\n",
       " 'events_direction': ([[np.int64(53651), np.int64(53869), np.int64(218)],\n",
       "   [np.int64(56493), np.int64(56603), np.int64(110)],\n",
       "   [np.int64(59233), np.int64(59302), np.int64(69)],\n",
       "   [np.int64(59711), np.int64(60034), np.int64(323)],\n",
       "   [np.int64(62187), np.int64(62274), np.int64(87)],\n",
       "   [np.int64(66494), np.int64(66807), np.int64(313)],\n",
       "   [np.int64(69427), np.int64(70538), np.int64(1111)]],\n",
       "  [[np.int64(54166), np.int64(54554), np.int64(388)],\n",
       "   [np.int64(55126), np.int64(55710), np.int64(584)],\n",
       "   [np.int64(56022), np.int64(56101), np.int64(79)],\n",
       "   [np.int64(56889), np.int64(57498), np.int64(609)],\n",
       "   [np.int64(58541), np.int64(58654), np.int64(113)],\n",
       "   [np.int64(60964), np.int64(61259), np.int64(295)],\n",
       "   [np.int64(64498), np.int64(64575), np.int64(77)],\n",
       "   [np.int64(67637), np.int64(68002), np.int64(365)],\n",
       "   [np.int64(68769), np.int64(69006), np.int64(237)],\n",
       "   [np.int64(142259), np.int64(142486), np.int64(227)],\n",
       "   [np.int64(145511), np.int64(145866), np.int64(355)]])}"
      ]
     },
     "execution_count": 106,
     "metadata": {},
     "output_type": "execute_result"
    }
   ],
   "source": [
    "TestFly.metrics[\"fly_1_ball_1\"]"
   ]
  },
  {
   "cell_type": "code",
   "execution_count": 115,
   "metadata": {},
   "outputs": [
    {
     "data": {
      "text/plain": [
       "np.int64(78416)"
      ]
     },
     "execution_count": 115,
     "metadata": {},
     "output_type": "execute_result"
    }
   ],
   "source": [
    "final_event[0][0]"
   ]
  },
  {
   "cell_type": "code",
   "execution_count": 141,
   "metadata": {},
   "outputs": [
    {
     "name": "stdout",
     "output_type": "stream",
     "text": [
      "No CUDA devices found, falling back to CPU processing.\n"
     ]
    },
    {
     "name": "stderr",
     "output_type": "stream",
     "text": [
      "Processing frames: 100%|██████████| 610/610 [00:15<00:00, 38.82it/s]\n"
     ]
    }
   ],
   "source": [
    "# Make an annotated video of the final event of the fly\n",
    "final_event = TestFly.metrics[\"fly_1_ball_1\"][\"final_event\"]\n",
    "\n",
    "TestFly.balltrack.generate_annotated_video(\n",
    "    save=True,\n",
    "    output_path = \"/mnt/upramdya_data/MD/Other_Videos/Events_annotation/final_event.mp4\",\n",
    "    start=final_event[0][0],\n",
    "    end = final_event[0][1]\n",
    ")\n"
   ]
  },
  {
   "cell_type": "code",
   "execution_count": 121,
   "metadata": {},
   "outputs": [
    {
     "data": {
      "text/plain": [
       "{1: {1: [[np.int64(52980), np.int64(53066), np.int64(86)],\n",
       "   [np.int64(53651), np.int64(53869), np.int64(218)],\n",
       "   [np.int64(54166), np.int64(54554), np.int64(388)],\n",
       "   [np.int64(55126), np.int64(55710), np.int64(584)],\n",
       "   [np.int64(56022), np.int64(56101), np.int64(79)],\n",
       "   [np.int64(56493), np.int64(56603), np.int64(110)],\n",
       "   [np.int64(56889), np.int64(57498), np.int64(609)],\n",
       "   [np.int64(58191), np.int64(58289), np.int64(98)],\n",
       "   [np.int64(58541), np.int64(58654), np.int64(113)],\n",
       "   [np.int64(59233), np.int64(59302), np.int64(69)],\n",
       "   [np.int64(59711), np.int64(60034), np.int64(323)],\n",
       "   [np.int64(60964), np.int64(61259), np.int64(295)],\n",
       "   [np.int64(62187), np.int64(62274), np.int64(87)],\n",
       "   [np.int64(63039), np.int64(63100), np.int64(61)],\n",
       "   [np.int64(63554), np.int64(63620), np.int64(66)],\n",
       "   [np.int64(64498), np.int64(64575), np.int64(77)],\n",
       "   [np.int64(65043), np.int64(65159), np.int64(116)],\n",
       "   [np.int64(65870), np.int64(66007), np.int64(137)],\n",
       "   [np.int64(66494), np.int64(66807), np.int64(313)],\n",
       "   [np.int64(67637), np.int64(68002), np.int64(365)],\n",
       "   [np.int64(68769), np.int64(69006), np.int64(237)],\n",
       "   [np.int64(69427), np.int64(70538), np.int64(1111)],\n",
       "   [np.int64(72017), np.int64(72217), np.int64(200)],\n",
       "   [np.int64(78416), np.int64(78777), np.int64(361)],\n",
       "   [np.int64(79562), np.int64(79649), np.int64(87)],\n",
       "   [np.int64(79987), np.int64(80211), np.int64(224)],\n",
       "   [np.int64(83167), np.int64(83279), np.int64(112)],\n",
       "   [np.int64(84766), np.int64(84862), np.int64(96)],\n",
       "   [np.int64(85329), np.int64(85396), np.int64(67)],\n",
       "   [np.int64(88215), np.int64(88446), np.int64(231)],\n",
       "   [np.int64(92091), np.int64(92161), np.int64(70)],\n",
       "   [np.int64(93609), np.int64(93718), np.int64(109)],\n",
       "   [np.int64(97803), np.int64(97986), np.int64(183)],\n",
       "   [np.int64(99524), np.int64(99596), np.int64(72)],\n",
       "   [np.int64(103334), np.int64(103610), np.int64(276)],\n",
       "   [np.int64(105021), np.int64(105153), np.int64(132)],\n",
       "   [np.int64(106417), np.int64(107185), np.int64(768)],\n",
       "   [np.int64(113626), np.int64(113932), np.int64(306)],\n",
       "   [np.int64(115173), np.int64(115237), np.int64(64)],\n",
       "   [np.int64(118636), np.int64(118717), np.int64(81)],\n",
       "   [np.int64(121037), np.int64(121146), np.int64(109)],\n",
       "   [np.int64(122403), np.int64(122497), np.int64(94)],\n",
       "   [np.int64(124444), np.int64(125177), np.int64(733)],\n",
       "   [np.int64(125503), np.int64(125698), np.int64(195)],\n",
       "   [np.int64(132525), np.int64(132649), np.int64(124)],\n",
       "   [np.int64(138276), np.int64(138371), np.int64(95)],\n",
       "   [np.int64(138887), np.int64(139047), np.int64(160)],\n",
       "   [np.int64(142259), np.int64(142486), np.int64(227)],\n",
       "   [np.int64(145511), np.int64(145866), np.int64(355)],\n",
       "   [np.int64(149906), np.int64(150000), np.int64(94)],\n",
       "   [np.int64(151292), np.int64(151557), np.int64(265)],\n",
       "   [np.int64(154751), np.int64(154949), np.int64(198)]]}}"
      ]
     },
     "execution_count": 121,
     "metadata": {},
     "output_type": "execute_result"
    }
   ],
   "source": [
    "TestFly.interaction_events"
   ]
  },
  {
   "cell_type": "code",
   "execution_count": 125,
   "metadata": {},
   "outputs": [
    {
     "data": {
      "text/plain": [
       "[19, 20, 21, 22, 23]"
      ]
     },
     "execution_count": 125,
     "metadata": {},
     "output_type": "execute_result"
    }
   ],
   "source": [
    "# Plot the ball position during the final event and the 4 previous events\n",
    "\n",
    "final_event_idx = final_event[1]\n",
    "\n",
    "events = TestFly.interaction_events[1][1]\n",
    " \n",
    "events_idx = [final_event_idx - 4, final_event_idx - 3, final_event_idx - 2, final_event_idx - 1, final_event_idx]\n",
    "\n",
    "events_idx"
   ]
  },
  {
   "cell_type": "code",
   "execution_count": 126,
   "metadata": {},
   "outputs": [
    {
     "data": {
      "text/plain": [
       "[np.int64(67637), np.int64(68002), np.int64(365)]"
      ]
     },
     "execution_count": 126,
     "metadata": {},
     "output_type": "execute_result"
    }
   ],
   "source": [
    "events[19]"
   ]
  },
  {
   "cell_type": "code",
   "execution_count": 129,
   "metadata": {},
   "outputs": [
    {
     "name": "stdout",
     "output_type": "stream",
     "text": [
      "No CUDA devices found, falling back to CPU processing.\n"
     ]
    },
    {
     "name": "stderr",
     "output_type": "stream",
     "text": [
      "Processing frames: 100%|██████████| 366/366 [00:09<00:00, 37.77it/s]\n"
     ]
    },
    {
     "name": "stdout",
     "output_type": "stream",
     "text": [
      "No CUDA devices found, falling back to CPU processing.\n"
     ]
    },
    {
     "name": "stderr",
     "output_type": "stream",
     "text": [
      "Processing frames: 100%|██████████| 238/238 [00:06<00:00, 36.93it/s]\n"
     ]
    },
    {
     "name": "stdout",
     "output_type": "stream",
     "text": [
      "No CUDA devices found, falling back to CPU processing.\n"
     ]
    },
    {
     "name": "stderr",
     "output_type": "stream",
     "text": [
      "Processing frames: 100%|██████████| 1112/1112 [00:32<00:00, 34.37it/s]\n"
     ]
    },
    {
     "name": "stdout",
     "output_type": "stream",
     "text": [
      "No CUDA devices found, falling back to CPU processing.\n"
     ]
    },
    {
     "name": "stderr",
     "output_type": "stream",
     "text": [
      "Processing frames: 100%|██████████| 201/201 [00:05<00:00, 35.84it/s]\n"
     ]
    },
    {
     "name": "stdout",
     "output_type": "stream",
     "text": [
      "No CUDA devices found, falling back to CPU processing.\n"
     ]
    },
    {
     "name": "stderr",
     "output_type": "stream",
     "text": [
      "Processing frames: 100%|██████████| 362/362 [00:09<00:00, 37.90it/s]\n"
     ]
    }
   ],
   "source": [
    "for i in events_idx:\n",
    "    TestFly.balltrack.generate_annotated_video(\n",
    "        start=events[i][0],\n",
    "        end=events[i][1],\n",
    "        save=True,\n",
    "        output_path = f\"/mnt/upramdya_data/MD/Other_Videos/Events_annotation/event_{i}.mp4\"\n",
    "    )"
   ]
  },
  {
   "cell_type": "code",
   "execution_count": null,
   "metadata": {},
   "outputs": [],
   "source": []
  },
  {
   "cell_type": "code",
   "execution_count": 130,
   "metadata": {},
   "outputs": [
    {
     "data": {
      "text/html": [
       "<div>\n",
       "<style scoped>\n",
       "    .dataframe tbody tr th:only-of-type {\n",
       "        vertical-align: middle;\n",
       "    }\n",
       "\n",
       "    .dataframe tbody tr th {\n",
       "        vertical-align: top;\n",
       "    }\n",
       "\n",
       "    .dataframe thead th {\n",
       "        text-align: right;\n",
       "    }\n",
       "</style>\n",
       "<table border=\"1\" class=\"dataframe\">\n",
       "  <thead>\n",
       "    <tr style=\"text-align: right;\">\n",
       "      <th></th>\n",
       "      <th>frame</th>\n",
       "      <th>time</th>\n",
       "      <th>object</th>\n",
       "      <th>x_centre</th>\n",
       "      <th>y_centre</th>\n",
       "    </tr>\n",
       "  </thead>\n",
       "  <tbody>\n",
       "    <tr>\n",
       "      <th>0</th>\n",
       "      <td>1</td>\n",
       "      <td>0.034483</td>\n",
       "      <td>ball_1</td>\n",
       "      <td>48.438969</td>\n",
       "      <td>337.431762</td>\n",
       "    </tr>\n",
       "    <tr>\n",
       "      <th>1</th>\n",
       "      <td>2</td>\n",
       "      <td>0.068966</td>\n",
       "      <td>ball_1</td>\n",
       "      <td>48.439048</td>\n",
       "      <td>337.431753</td>\n",
       "    </tr>\n",
       "    <tr>\n",
       "      <th>2</th>\n",
       "      <td>3</td>\n",
       "      <td>0.103448</td>\n",
       "      <td>ball_1</td>\n",
       "      <td>48.439126</td>\n",
       "      <td>337.431744</td>\n",
       "    </tr>\n",
       "    <tr>\n",
       "      <th>3</th>\n",
       "      <td>4</td>\n",
       "      <td>0.137931</td>\n",
       "      <td>ball_1</td>\n",
       "      <td>48.439205</td>\n",
       "      <td>337.431736</td>\n",
       "    </tr>\n",
       "    <tr>\n",
       "      <th>4</th>\n",
       "      <td>5</td>\n",
       "      <td>0.172414</td>\n",
       "      <td>ball_1</td>\n",
       "      <td>48.439284</td>\n",
       "      <td>337.431727</td>\n",
       "    </tr>\n",
       "    <tr>\n",
       "      <th>...</th>\n",
       "      <td>...</td>\n",
       "      <td>...</td>\n",
       "      <td>...</td>\n",
       "      <td>...</td>\n",
       "      <td>...</td>\n",
       "    </tr>\n",
       "    <tr>\n",
       "      <th>156598</th>\n",
       "      <td>156599</td>\n",
       "      <td>5399.965517</td>\n",
       "      <td>ball_1</td>\n",
       "      <td>47.108495</td>\n",
       "      <td>115.377940</td>\n",
       "    </tr>\n",
       "    <tr>\n",
       "      <th>156599</th>\n",
       "      <td>156600</td>\n",
       "      <td>5400.000000</td>\n",
       "      <td>ball_1</td>\n",
       "      <td>47.103990</td>\n",
       "      <td>115.382139</td>\n",
       "    </tr>\n",
       "    <tr>\n",
       "      <th>156600</th>\n",
       "      <td>156601</td>\n",
       "      <td>5400.034483</td>\n",
       "      <td>ball_1</td>\n",
       "      <td>47.099485</td>\n",
       "      <td>115.386337</td>\n",
       "    </tr>\n",
       "    <tr>\n",
       "      <th>156601</th>\n",
       "      <td>156602</td>\n",
       "      <td>5400.068966</td>\n",
       "      <td>ball_1</td>\n",
       "      <td>47.094980</td>\n",
       "      <td>115.390535</td>\n",
       "    </tr>\n",
       "    <tr>\n",
       "      <th>156602</th>\n",
       "      <td>156603</td>\n",
       "      <td>5400.103448</td>\n",
       "      <td>ball_1</td>\n",
       "      <td>47.090475</td>\n",
       "      <td>115.394733</td>\n",
       "    </tr>\n",
       "  </tbody>\n",
       "</table>\n",
       "<p>156603 rows × 5 columns</p>\n",
       "</div>"
      ],
      "text/plain": [
       "         frame         time  object   x_centre    y_centre\n",
       "0            1     0.034483  ball_1  48.438969  337.431762\n",
       "1            2     0.068966  ball_1  48.439048  337.431753\n",
       "2            3     0.103448  ball_1  48.439126  337.431744\n",
       "3            4     0.137931  ball_1  48.439205  337.431736\n",
       "4            5     0.172414  ball_1  48.439284  337.431727\n",
       "...        ...          ...     ...        ...         ...\n",
       "156598  156599  5399.965517  ball_1  47.108495  115.377940\n",
       "156599  156600  5400.000000  ball_1  47.103990  115.382139\n",
       "156600  156601  5400.034483  ball_1  47.099485  115.386337\n",
       "156601  156602  5400.068966  ball_1  47.094980  115.390535\n",
       "156602  156603  5400.103448  ball_1  47.090475  115.394733\n",
       "\n",
       "[156603 rows x 5 columns]"
      ]
     },
     "execution_count": 130,
     "metadata": {},
     "output_type": "execute_result"
    }
   ],
   "source": [
    "# Plot the ball positions\n",
    "\n",
    "positions = TestFly.balltrack.dataset\n",
    "\n",
    "positions"
   ]
  },
  {
   "cell_type": "code",
   "execution_count": 131,
   "metadata": {},
   "outputs": [
    {
     "data": {
      "image/png": "[encoded data removed]",
      "text/plain": [
       "<Figure size 640x480 with 1 Axes>"
      ]
     },
     "metadata": {},
     "output_type": "display_data"
    }
   ],
   "source": [
    "# Plot the y_centre of the ball over time\n",
    "\n",
    "import matplotlib.pyplot as plt\n",
    "\n",
    "plt.plot(positions[\"y_centre\"])\n",
    "plt.show()"
   ]
  },
  {
   "cell_type": "code",
   "execution_count": 132,
   "metadata": {},
   "outputs": [],
   "source": [
    "# Generate relative positions based on the y_centre\n",
    "\n",
    "positions[\"y_relative\"] = abs(positions[\"y_centre\"] - positions[\"y_centre\"].iloc[0])"
   ]
  },
  {
   "cell_type": "code",
   "execution_count": 133,
   "metadata": {},
   "outputs": [
    {
     "data": {
      "image/png": "[encoded data removed]",
      "text/plain": [
       "<Figure size 640x480 with 1 Axes>"
      ]
     },
     "metadata": {},
     "output_type": "display_data"
    }
   ],
   "source": [
    "plt.plot(positions[\"y_relative\"])\n",
    "plt.show()"
   ]
  },
  {
   "cell_type": "code",
   "execution_count": 134,
   "metadata": {},
   "outputs": [],
   "source": [
    "# get max relative position\n",
    "\n",
    "max_relative = positions[\"y_relative\"].max()"
   ]
  },
  {
   "cell_type": "code",
   "execution_count": 35,
   "metadata": {},
   "outputs": [],
   "source": [
    "TestFly.fly_skeleton"
   ]
  },
  {
   "cell_type": "code",
   "execution_count": 53,
   "metadata": {},
   "outputs": [
    {
     "data": {
      "text/plain": [
       "{'training': ([np.int64(1190), np.int64(1327), np.int64(137)], 1)}"
      ]
     },
     "execution_count": 53,
     "metadata": {},
     "output_type": "execute_result"
    }
   ],
   "source": [
    "TestFly.get_final_event()"
   ]
  },
  {
   "cell_type": "code",
   "execution_count": 54,
   "metadata": {},
   "outputs": [
    {
     "data": {
      "text/plain": [
       "{'training': ([[np.int64(407), np.int64(575), np.int64(168)],\n",
       "   [np.int64(4505), np.int64(4994), np.int64(489)],\n",
       "   [np.int64(54024), np.int64(54403), np.int64(379)],\n",
       "   [np.int64(75614), np.int64(76629), np.int64(1015)],\n",
       "   [np.int64(82840), np.int64(83400), np.int64(560)],\n",
       "   [np.int64(88671), np.int64(88894), np.int64(223)],\n",
       "   [np.int64(94103), np.int64(96361), np.int64(2258)]],\n",
       "  [[np.int64(1848), np.int64(1961), np.int64(113)],\n",
       "   [np.int64(58404), np.int64(59573), np.int64(1169)],\n",
       "   [np.int64(87235), np.int64(88421), np.int64(1186)]])}"
      ]
     },
     "execution_count": 54,
     "metadata": {},
     "output_type": "execute_result"
    }
   ],
   "source": [
    "TestFly.find_events_direction()"
   ]
  },
  {
   "cell_type": "code",
   "execution_count": 46,
   "metadata": {},
   "outputs": [
    {
     "data": {
      "text/plain": [
       "<module 'utils_behavior.Ballpushing_utils' from '/home/durrieu/utils_behavior/utils_behavior/Ballpushing_utils.py'>"
      ]
     },
     "execution_count": 46,
     "metadata": {},
     "output_type": "execute_result"
    }
   ],
   "source": [
    "importlib.reload(Ballpushing_utils)"
   ]
  },
  {
   "cell_type": "code",
   "execution_count": 47,
   "metadata": {},
   "outputs": [
    {
     "name": "stdout",
     "output_type": "stream",
     "text": [
      "Processing fly 1/1\n",
      "smoothing tracks\n",
      "Loaded SLEAP tracking file: /mnt/upramdya_data/MD/F1_Tracks/Videos/240821_F1_3mm_ends_Videos_Checked/arena6/Right/arena6_right_rotated_tracked_fly.000_arena6_right_rotated.analysis.h5\n",
      "N° of objects: 1\n",
      "Nodes: ['thorax']\n",
      "Video FPS: 29.0\n",
      "Processing ball 1/2\n",
      "smoothing tracks\n",
      "Processing ball 2/2\n",
      "smoothing tracks\n",
      "Loaded SLEAP tracking file: /mnt/upramdya_data/MD/F1_Tracks/Videos/240821_F1_3mm_ends_Videos_Checked/arena6/Right/arena6_right_rotated_tracked_ball_processed.000_arena6_right_rotated.analysis.h5\n",
      "N° of objects: 2\n",
      "Nodes: ['centre']\n",
      "Video FPS: 29.0\n",
      "Processing ball index: 1\n",
      "Non-NaN xfly count: 261006, Non-NaN xball count: 261006\n",
      "Initial separation: 176.94497394316858\n",
      "Processing ball index: 2\n",
      "Non-NaN xfly count: 261006, Non-NaN xball count: 0\n",
      "No valid tracking data for xfly or xball for 2\n",
      "Final data_dict keys: ['generalisation']\n",
      "Processing ball type: generalisation\n",
      "        yball       xball        yfly       xfly  Frame      time  ball_idx  \\\n",
      "0  420.198693  230.618558  499.093777  53.673584      1  0.034483         1   \n",
      "1  420.198823  230.617242  499.102395  53.662504      2  0.068966         1   \n",
      "2  420.198952  230.615925  499.111013  53.651423      3  0.103448         1   \n",
      "3  420.199082  230.614609  499.119631  53.640343      4  0.137931         1   \n",
      "4  420.199212  230.613293  499.128249  53.629262      5  0.172414         1   \n",
      "\n",
      "   yfly_relative  yball_relative       ball_type  \n",
      "0       0.000000       78.895084  generalisation  \n",
      "1       0.008618       78.894954  generalisation  \n",
      "2       0.017236       78.894825  generalisation  \n",
      "3       0.025854       78.894695  generalisation  \n",
      "4       0.034472       78.894565  generalisation  \n",
      "Final events_dict: {}\n",
      "start_y: 499.0937770765598, type: <class 'numpy.float64'>\n",
      "240821_F1_3mm_ends_Videos_Checked_arena6_Right is alive based on movement.\n",
      "False\n",
      "Interaction events keys: dict_keys([])\n",
      "Annotating events for ball type: generalisation\n"
     ]
    },
    {
     "ename": "KeyError",
     "evalue": "'generalisation'",
     "output_type": "error",
     "traceback": [
      "\u001b[0;31m---------------------------------------------------------------------------\u001b[0m",
      "\u001b[0;31mKeyError\u001b[0m                                  Traceback (most recent call last)",
      "Cell \u001b[0;32mIn[47], line 1\u001b[0m\n\u001b[0;32m----> 1\u001b[0m TestFly_F1 \u001b[38;5;241m=\u001b[39m \u001b[43mBallpushing_utils\u001b[49m\u001b[38;5;241;43m.\u001b[39;49m\u001b[43mFly\u001b[49m\u001b[43m(\u001b[49m\u001b[38;5;124;43m\"\u001b[39;49m\u001b[38;5;124;43m/mnt/upramdya_data/MD/F1_Tracks/Videos/240821_F1_3mm_ends_Videos_Checked/arena6/Right\u001b[39;49m\u001b[38;5;124;43m\"\u001b[39;49m\u001b[43m,\u001b[49m\u001b[43m \u001b[49m\u001b[43mas_individual\u001b[49m\u001b[38;5;241;43m=\u001b[39;49m\u001b[38;5;28;43;01mTrue\u001b[39;49;00m\u001b[43m)\u001b[49m\n",
      "File \u001b[0;32m~/utils_behavior/utils_behavior/Ballpushing_utils.py:358\u001b[0m, in \u001b[0;36mFly.__init__\u001b[0;34m(self, directory, experiment, as_individual)\u001b[0m\n\u001b[1;32m    355\u001b[0m \u001b[38;5;28mprint\u001b[39m(\u001b[38;5;28mself\u001b[39m\u001b[38;5;241m.\u001b[39mdead_or_empty)\n\u001b[1;32m    357\u001b[0m \u001b[38;5;28;01mif\u001b[39;00m \u001b[38;5;129;01mnot\u001b[39;00m \u001b[38;5;28mself\u001b[39m\u001b[38;5;241m.\u001b[39mdead_or_empty:\n\u001b[0;32m--> 358\u001b[0m     \u001b[38;5;28;43mself\u001b[39;49m\u001b[38;5;241;43m.\u001b[39;49m\u001b[43mannotate_events\u001b[49m\u001b[43m(\u001b[49m\u001b[43m)\u001b[49m\n\u001b[1;32m    360\u001b[0m \u001b[38;5;28mself\u001b[39m\u001b[38;5;241m.\u001b[39mexit_time \u001b[38;5;241m=\u001b[39m \u001b[38;5;28mself\u001b[39m\u001b[38;5;241m.\u001b[39mget_exit_time()\n",
      "File \u001b[0;32m~/utils_behavior/utils_behavior/Ballpushing_utils.py:943\u001b[0m, in \u001b[0;36mFly.annotate_events\u001b[0;34m(self)\u001b[0m\n\u001b[1;32m    940\u001b[0m \u001b[38;5;28mprint\u001b[39m(\u001b[38;5;124m\"\u001b[39m\u001b[38;5;124mAnnotating events for ball type:\u001b[39m\u001b[38;5;124m\"\u001b[39m, ball_type)\n\u001b[1;32m    941\u001b[0m flyball_positions[\u001b[38;5;124m\"\u001b[39m\u001b[38;5;124mevent\u001b[39m\u001b[38;5;124m\"\u001b[39m] \u001b[38;5;241m=\u001b[39m \u001b[38;5;28;01mNone\u001b[39;00m\n\u001b[0;32m--> 943\u001b[0m \u001b[38;5;28;01mfor\u001b[39;00m i, event \u001b[38;5;129;01min\u001b[39;00m \u001b[38;5;28menumerate\u001b[39m(\u001b[38;5;28;43mself\u001b[39;49m\u001b[38;5;241;43m.\u001b[39;49m\u001b[43minteraction_events\u001b[49m\u001b[43m[\u001b[49m\u001b[43mball_type\u001b[49m\u001b[43m]\u001b[49m, start\u001b[38;5;241m=\u001b[39m\u001b[38;5;241m1\u001b[39m):\n\u001b[1;32m    944\u001b[0m     start, end \u001b[38;5;241m=\u001b[39m event[\u001b[38;5;241m0\u001b[39m], event[\u001b[38;5;241m1\u001b[39m]\n\u001b[1;32m    946\u001b[0m     flyball_positions\u001b[38;5;241m.\u001b[39mloc[start:end, \u001b[38;5;124m\"\u001b[39m\u001b[38;5;124mevent\u001b[39m\u001b[38;5;124m\"\u001b[39m] \u001b[38;5;241m=\u001b[39m i\n",
      "\u001b[0;31mKeyError\u001b[0m: 'generalisation'"
     ]
    }
   ],
   "source": [
    "TestFly_F1 = Ballpushing_utils.Fly(\"/mnt/upramdya_data/MD/F1_Tracks/Videos/240821_F1_3mm_ends_Videos_Checked/arena6/Right\", as_individual=True)"
   ]
  },
  {
   "cell_type": "code",
   "execution_count": 23,
   "metadata": {},
   "outputs": [
    {
     "name": "stdout",
     "output_type": "stream",
     "text": [
      "Processing object 1/2\n",
      "smoothing tracks\n",
      "Processing object 2/2\n",
      "smoothing tracks\n",
      "Loaded SLEAP tracking file: /mnt/upramdya_data/MD/F1_Tracks/Videos/240821_F1_3mm_ends_Videos_Checked/arena6/Right/arena6_right_rotated_tracked_ball_processed.000_arena6_right_rotated.analysis.h5\n",
      "N° of objects: 2\n",
      "Nodes: ['centre']\n",
      "Video FPS: 29.0\n"
     ]
    }
   ],
   "source": [
    "# Load the sleaptrack for the ball for this fly\n",
    "\n",
    "Slp_test = Sleap_utils.Sleap_Tracks(\"/mnt/upramdya_data/MD/F1_Tracks/Videos/240821_F1_3mm_ends_Videos_Checked/arena6/Right/arena6_right_rotated_tracked_ball_processed.000_arena6_right_rotated.analysis.h5\")"
   ]
  },
  {
   "cell_type": "code",
   "execution_count": 24,
   "metadata": {},
   "outputs": [],
   "source": [
    "Slp_data = Slp_test.dataset"
   ]
  },
  {
   "cell_type": "code",
   "execution_count": 91,
   "metadata": {},
   "outputs": [
    {
     "data": {
      "text/plain": [
       "{'training': [[np.int64(1462), np.int64(1530), np.int64(68)],\n",
       "  [np.int64(2095), np.int64(2303), np.int64(208)],\n",
       "  [np.int64(10405), np.int64(10715), np.int64(310)],\n",
       "  [np.int64(13479), np.int64(13544), np.int64(65)],\n",
       "  [np.int64(15629), np.int64(15854), np.int64(225)],\n",
       "  [np.int64(25725), np.int64(25807), np.int64(82)],\n",
       "  [np.int64(26775), np.int64(26844), np.int64(69)],\n",
       "  [np.int64(28589), np.int64(28685), np.int64(96)],\n",
       "  [np.int64(31717), np.int64(31822), np.int64(105)],\n",
       "  [np.int64(32033), np.int64(32147), np.int64(114)],\n",
       "  [np.int64(32855), np.int64(33147), np.int64(292)],\n",
       "  [np.int64(34537), np.int64(34715), np.int64(178)],\n",
       "  [np.int64(36221), np.int64(36490), np.int64(269)],\n",
       "  [np.int64(38106), np.int64(38195), np.int64(89)],\n",
       "  [np.int64(38465), np.int64(38592), np.int64(127)],\n",
       "  [np.int64(38827), np.int64(38891), np.int64(64)],\n",
       "  [np.int64(41289), np.int64(42055), np.int64(766)],\n",
       "  [np.int64(43416), np.int64(43479), np.int64(63)],\n",
       "  [np.int64(44527), np.int64(44787), np.int64(260)],\n",
       "  [np.int64(46654), np.int64(46736), np.int64(82)],\n",
       "  [np.int64(47919), np.int64(48239), np.int64(320)],\n",
       "  [np.int64(49148), np.int64(49230), np.int64(82)],\n",
       "  [np.int64(49543), np.int64(49701), np.int64(158)],\n",
       "  [np.int64(51029), np.int64(51159), np.int64(130)],\n",
       "  [np.int64(51993), np.int64(52090), np.int64(97)],\n",
       "  [np.int64(52865), np.int64(53713), np.int64(848)],\n",
       "  [np.int64(55060), np.int64(55414), np.int64(354)],\n",
       "  [np.int64(56631), np.int64(56799), np.int64(168)],\n",
       "  [np.int64(58411), np.int64(58996), np.int64(585)],\n",
       "  [np.int64(59184), np.int64(59329), np.int64(145)],\n",
       "  [np.int64(60315), np.int64(60910), np.int64(595)],\n",
       "  [np.int64(62475), np.int64(62806), np.int64(331)],\n",
       "  [np.int64(63025), np.int64(63427), np.int64(402)],\n",
       "  [np.int64(63810), np.int64(64017), np.int64(207)],\n",
       "  [np.int64(64450), np.int64(64531), np.int64(81)],\n",
       "  [np.int64(64749), np.int64(64825), np.int64(76)],\n",
       "  [np.int64(65199), np.int64(65294), np.int64(95)],\n",
       "  [np.int64(66409), np.int64(67283), np.int64(874)],\n",
       "  [np.int64(67815), np.int64(68053), np.int64(238)],\n",
       "  [np.int64(68802), np.int64(68867), np.int64(65)],\n",
       "  [np.int64(69285), np.int64(69631), np.int64(346)],\n",
       "  [np.int64(69794), np.int64(70066), np.int64(272)],\n",
       "  [np.int64(70420), np.int64(71661), np.int64(1241)],\n",
       "  [np.int64(72118), np.int64(72414), np.int64(296)],\n",
       "  [np.int64(72580), np.int64(72811), np.int64(231)],\n",
       "  [np.int64(74366), np.int64(74495), np.int64(129)],\n",
       "  [np.int64(75098), np.int64(75368), np.int64(270)],\n",
       "  [np.int64(76146), np.int64(76525), np.int64(379)],\n",
       "  [np.int64(77973), np.int64(78081), np.int64(108)],\n",
       "  [np.int64(79216), np.int64(79308), np.int64(92)],\n",
       "  [np.int64(81932), np.int64(82109), np.int64(177)],\n",
       "  [np.int64(83579), np.int64(84001), np.int64(422)],\n",
       "  [np.int64(85202), np.int64(85274), np.int64(72)],\n",
       "  [np.int64(86044), np.int64(86542), np.int64(498)],\n",
       "  [np.int64(87811), np.int64(87932), np.int64(121)],\n",
       "  [np.int64(88164), np.int64(88781), np.int64(617)],\n",
       "  [np.int64(91120), np.int64(92258), np.int64(1138)],\n",
       "  [np.int64(92498), np.int64(92781), np.int64(283)],\n",
       "  [np.int64(93222), np.int64(93801), np.int64(579)],\n",
       "  [np.int64(94378), np.int64(95026), np.int64(648)],\n",
       "  [np.int64(98252), np.int64(98626), np.int64(374)],\n",
       "  [np.int64(101765), np.int64(101908), np.int64(143)],\n",
       "  [np.int64(102030), np.int64(102134), np.int64(104)],\n",
       "  [np.int64(104967), np.int64(105044), np.int64(77)],\n",
       "  [np.int64(105317), np.int64(105433), np.int64(116)],\n",
       "  [np.int64(120326), np.int64(120398), np.int64(72)],\n",
       "  [np.int64(123113), np.int64(123291), np.int64(178)],\n",
       "  [np.int64(130256), np.int64(130446), np.int64(190)],\n",
       "  [np.int64(131805), np.int64(131975), np.int64(170)],\n",
       "  [np.int64(135615), np.int64(135816), np.int64(201)],\n",
       "  [np.int64(138963), np.int64(139214), np.int64(251)],\n",
       "  [np.int64(140184), np.int64(140297), np.int64(113)],\n",
       "  [np.int64(140535), np.int64(141371), np.int64(836)],\n",
       "  [np.int64(141732), np.int64(141916), np.int64(184)],\n",
       "  [np.int64(146127), np.int64(146262), np.int64(135)],\n",
       "  [np.int64(146569), np.int64(146799), np.int64(230)],\n",
       "  [np.int64(150560), np.int64(150715), np.int64(155)],\n",
       "  [np.int64(160935), np.int64(161060), np.int64(125)],\n",
       "  [np.int64(165119), np.int64(165570), np.int64(451)],\n",
       "  [np.int64(167827), np.int64(168148), np.int64(321)],\n",
       "  [np.int64(180317), np.int64(180458), np.int64(141)],\n",
       "  [np.int64(186132), np.int64(186216), np.int64(84)],\n",
       "  [np.int64(188991), np.int64(189118), np.int64(127)],\n",
       "  [np.int64(199093), np.int64(199201), np.int64(108)],\n",
       "  [np.int64(201690), np.int64(202045), np.int64(355)],\n",
       "  [np.int64(207373), np.int64(207930), np.int64(557)],\n",
       "  [np.int64(208532), np.int64(208832), np.int64(300)],\n",
       "  [np.int64(214979), np.int64(215646), np.int64(667)],\n",
       "  [np.int64(224121), np.int64(224552), np.int64(431)],\n",
       "  [np.int64(227569), np.int64(227694), np.int64(125)],\n",
       "  [np.int64(229733), np.int64(229838), np.int64(105)],\n",
       "  [np.int64(234851), np.int64(234933), np.int64(82)],\n",
       "  [np.int64(237124), np.int64(237233), np.int64(109)],\n",
       "  [np.int64(239380), np.int64(239471), np.int64(91)],\n",
       "  [np.int64(240211), np.int64(240621), np.int64(410)],\n",
       "  [np.int64(242524), np.int64(242598), np.int64(74)],\n",
       "  [np.int64(246107), np.int64(246223), np.int64(116)],\n",
       "  [np.int64(249937), np.int64(250132), np.int64(195)],\n",
       "  [np.int64(257408), np.int64(257510), np.int64(102)]],\n",
       " 'generalisation': [[np.int64(96290), np.int64(96391), np.int64(101)],\n",
       "  [np.int64(106822), np.int64(107109), np.int64(287)],\n",
       "  [np.int64(109066), np.int64(109149), np.int64(83)],\n",
       "  [np.int64(109438), np.int64(109771), np.int64(333)],\n",
       "  [np.int64(113385), np.int64(113476), np.int64(91)],\n",
       "  [np.int64(118247), np.int64(118317), np.int64(70)],\n",
       "  [np.int64(125922), np.int64(126016), np.int64(94)],\n",
       "  [np.int64(128134), np.int64(128240), np.int64(106)],\n",
       "  [np.int64(142757), np.int64(143210), np.int64(453)],\n",
       "  [np.int64(144688), np.int64(144935), np.int64(247)],\n",
       "  [np.int64(149177), np.int64(149249), np.int64(72)],\n",
       "  [np.int64(149800), np.int64(149956), np.int64(156)],\n",
       "  [np.int64(150936), np.int64(151212), np.int64(276)],\n",
       "  [np.int64(154980), np.int64(155147), np.int64(167)],\n",
       "  [np.int64(168682), np.int64(168826), np.int64(144)],\n",
       "  [np.int64(169258), np.int64(169425), np.int64(167)],\n",
       "  [np.int64(170879), np.int64(170941), np.int64(62)],\n",
       "  [np.int64(171438), np.int64(171852), np.int64(414)],\n",
       "  [np.int64(189857), np.int64(190013), np.int64(156)],\n",
       "  [np.int64(211371), np.int64(211503), np.int64(132)],\n",
       "  [np.int64(243947), np.int64(244026), np.int64(79)],\n",
       "  [np.int64(254394), np.int64(254462), np.int64(68)],\n",
       "  [np.int64(254664), np.int64(254858), np.int64(194)],\n",
       "  [np.int64(258084), np.int64(258226), np.int64(142)]]}"
      ]
     },
     "execution_count": 91,
     "metadata": {},
     "output_type": "execute_result"
    }
   ],
   "source": [
    "TestFly_F1.find_interaction_events()"
   ]
  },
  {
   "cell_type": "code",
   "execution_count": 94,
   "metadata": {},
   "outputs": [
    {
     "data": {
      "text/plain": [
       "{'training': ({10: np.float64(1059.1333333333334),\n",
       "   20: np.float64(1096.9666666666667),\n",
       "   50: np.float64(3061.633333333333)},\n",
       "  {10: nan, 20: nan, 50: nan}),\n",
       " 'generalisation': ({10: np.float64(5189.133333333333),\n",
       "   20: np.float64(5233.5),\n",
       "   50: np.float64(5644.9)},\n",
       "  {10: np.float64(2020.0333333333333),\n",
       "   20: np.float64(2064.4),\n",
       "   50: np.float64(2475.7999999999997)})}"
      ]
     },
     "execution_count": 94,
     "metadata": {},
     "output_type": "execute_result"
    }
   ],
   "source": [
    "TestFly_F1.find_adjusted_time([10, 20, 50])"
   ]
  },
  {
   "cell_type": "code",
   "execution_count": 104,
   "metadata": {},
   "outputs": [
    {
     "data": {
      "text/plain": [
       "<module 'utils_behavior.Ballpushing_utils' from '/home/durrieu/utils_behavior/utils_behavior/Ballpushing_utils.py'>"
      ]
     },
     "execution_count": 104,
     "metadata": {},
     "output_type": "execute_result"
    }
   ],
   "source": [
    "importlib.reload(Ballpushing_utils)\n"
   ]
  },
  {
   "cell_type": "code",
   "execution_count": 105,
   "metadata": {},
   "outputs": [
    {
     "data": {
      "text/plain": [
       "<module 'utils_behavior.Sleap_utils' from '/home/durrieu/utils_behavior/utils_behavior/Sleap_utils.py'>"
      ]
     },
     "execution_count": 105,
     "metadata": {},
     "output_type": "execute_result"
    }
   ],
   "source": [
    "importlib.reload(Sleap_utils)"
   ]
  },
  {
   "cell_type": "code",
   "execution_count": 43,
   "metadata": {},
   "outputs": [],
   "source": [
    "TestFly = Ballpushing_utils.Fly(\"/mnt/upramdya_data/MD/MultiMazeRecorder/Videos/240531_MagnetBlock_Videos_Tracked/arena4/corridor4\", as_individual=True)"
   ]
  },
  {
   "cell_type": "code",
   "execution_count": 106,
   "metadata": {},
   "outputs": [],
   "source": [
    "TestFly = Ballpushing_utils.Fly(\"/mnt/upramdya_data/MD/MultiMazeRecorder/Videos/240111_TNT_Fine_1_Videos_Tracked/arena5/corridor5\", as_individual=True)"
   ]
  },
  {
   "cell_type": "code",
   "execution_count": 51,
   "metadata": {},
   "outputs": [],
   "source": [
    "TestFly = Ballpushing_utils.Fly(\n",
    "    \"/mnt/upramdya_data/MD/F1_Tracks/Videos/240821_F1_3mm_ends_Videos_Checked/arena2/Right\",\n",
    "    as_individual=True, experiment_type=\"MagnetBlock\"\n",
    ")"
   ]
  },
  {
   "cell_type": "code",
   "execution_count": 30,
   "metadata": {},
   "outputs": [
    {
     "data": {
      "text/plain": [
       "{'Date': '240531',\n",
       " 'Genotype': 'TNTxM7',\n",
       " 'Period': 'PM15',\n",
       " 'FeedingState': 'starved_noWater',\n",
       " 'Orientation': 'std',\n",
       " 'Light': 'on',\n",
       " 'Crossing': '1',\n",
       " 'BallType': 'steel',\n",
       " 'Magnet': 'n'}"
      ]
     },
     "execution_count": 30,
     "metadata": {},
     "output_type": "execute_result"
    }
   ],
   "source": [
    "TestFly.metadata.arena_metadata"
   ]
  },
  {
   "cell_type": "code",
   "execution_count": 31,
   "metadata": {},
   "outputs": [
    {
     "name": "stdout",
     "output_type": "stream",
     "text": [
      "{'fly_0_ball_0': {'nb_events': 52, 'max_event': 6, 'max_event_time': np.float64(1961.6896551724137), 'max_distance': np.float64(223.39644344286796), 'final_event': 6, 'final_event_time': np.float64(1961.6896551724137), 'nb_significant_events': 12, 'significant_ratio': 0.23076923076923078, 'first_significant_event': 1, 'first_significant_event_time': np.float64(1850.0344827586207), 'aha_moment': 1, 'aha_moment_time': np.float64(1850.0344827586207), 'insight_effect': np.float64(0.08841779807514609), 'cumulated_breaks_duration': np.int64(144973), 'pushed': 8, 'pulled': 4, 'pulling_ratio': 0.3333333333333333, 'success_direction': 'push', 'interaction_proportion': np.float64(0.07426422226904976), 'distance_moved': np.float64(20036492.771718197), 'exit_time': None}}\n"
     ]
    }
   ],
   "source": [
    "print(TestFly.events_metrics)"
   ]
  },
  {
   "cell_type": "code",
   "execution_count": 32,
   "metadata": {},
   "outputs": [
    {
     "data": {
      "text/plain": [
       "<utils_behavior.Ballpushing_utils.FlyTrackingData at 0x7935d8f2acc0>"
      ]
     },
     "execution_count": 32,
     "metadata": {},
     "output_type": "execute_result"
    }
   ],
   "source": [
    "TestFly.tracking_data"
   ]
  },
  {
   "cell_type": "code",
   "execution_count": 59,
   "metadata": {},
   "outputs": [
    {
     "data": {
      "image/png": "[encoded data removed]",
      "text/plain": [
       "<Figure size 640x480 with 1 Axes>"
      ]
     },
     "metadata": {},
     "output_type": "display_data"
    },
    {
     "data": {
      "text/plain": [
       "array([[[0, 0, 0],\n",
       "        [0, 0, 0],\n",
       "        [0, 0, 0],\n",
       "        ...,\n",
       "        [0, 0, 0],\n",
       "        [0, 0, 0],\n",
       "        [0, 0, 0]],\n",
       "\n",
       "       [[0, 0, 0],\n",
       "        [0, 0, 0],\n",
       "        [0, 0, 0],\n",
       "        ...,\n",
       "        [0, 0, 0],\n",
       "        [0, 0, 0],\n",
       "        [0, 0, 0]],\n",
       "\n",
       "       [[0, 0, 0],\n",
       "        [0, 0, 0],\n",
       "        [0, 0, 0],\n",
       "        ...,\n",
       "        [0, 0, 0],\n",
       "        [0, 0, 0],\n",
       "        [0, 0, 0]],\n",
       "\n",
       "       ...,\n",
       "\n",
       "       [[0, 0, 0],\n",
       "        [0, 0, 0],\n",
       "        [0, 0, 0],\n",
       "        ...,\n",
       "        [0, 0, 0],\n",
       "        [0, 0, 0],\n",
       "        [0, 0, 0]],\n",
       "\n",
       "       [[0, 0, 0],\n",
       "        [0, 0, 0],\n",
       "        [0, 0, 0],\n",
       "        ...,\n",
       "        [0, 0, 0],\n",
       "        [0, 0, 0],\n",
       "        [0, 0, 0]],\n",
       "\n",
       "       [[0, 0, 0],\n",
       "        [0, 0, 0],\n",
       "        [0, 0, 0],\n",
       "        ...,\n",
       "        [0, 0, 0],\n",
       "        [0, 0, 0],\n",
       "        [0, 0, 0]]], dtype=uint8)"
      ]
     },
     "execution_count": 59,
     "metadata": {},
     "output_type": "execute_result"
    }
   ],
   "source": [
    "TestFly.skeleton_metrics.plot_skeleton_and_ball()"
   ]
  },
  {
   "cell_type": "code",
   "execution_count": 107,
   "metadata": {},
   "outputs": [
    {
     "name": "stdout",
     "output_type": "stream",
     "text": [
      "Warning: 240111_TNT_Fine_1_Videos_Tracked_arena5_corridor5 is dying at 2266.793103448276\n"
     ]
    }
   ],
   "source": [
    "balltracks = TestFly.tracking_data.balltrack\n",
    "\n",
    "skeletontracks  = TestFly.tracking_data.skeletontrack"
   ]
  },
  {
   "cell_type": "code",
   "execution_count": 108,
   "metadata": {},
   "outputs": [
    {
     "data": {
      "text/plain": [
       "<matplotlib.image.AxesImage at 0x7935cc915820>"
      ]
     },
     "execution_count": 108,
     "metadata": {},
     "output_type": "execute_result"
    },
    {
     "data": {
      "image/png": "[encoded data removed]",
      "text/plain": [
       "<Figure size 640x480 with 1 Axes>"
      ]
     },
     "metadata": {},
     "output_type": "display_data"
    }
   ],
   "source": [
    "sample = Sleap_utils.generate_annotated_frame(balltracks.video, [balltracks], 2039)\n",
    "\n",
    "plt.imshow(sample)"
   ]
  },
  {
   "cell_type": "code",
   "execution_count": 109,
   "metadata": {},
   "outputs": [
    {
     "data": {
      "text/plain": [
       "<matplotlib.image.AxesImage at 0x7935cc850d70>"
      ]
     },
     "execution_count": 109,
     "metadata": {},
     "output_type": "execute_result"
    },
    {
     "data": {
      "image/png": "[encoded data removed]",
      "text/plain": [
       "<Figure size 640x480 with 1 Axes>"
      ]
     },
     "metadata": {},
     "output_type": "display_data"
    }
   ],
   "source": [
    "sample_preresize = Sleap_utils.generate_annotated_frame(skeletontracks.video, [balltracks], 2039)\n",
    "\n",
    "plt.imshow(sample_preresize)"
   ]
  },
  {
   "cell_type": "code",
   "execution_count": 112,
   "metadata": {},
   "outputs": [
    {
     "data": {
      "text/plain": [
       "<matplotlib.image.AxesImage at 0x7935cc88fcb0>"
      ]
     },
     "execution_count": 112,
     "metadata": {},
     "output_type": "execute_result"
    },
    {
     "data": {
      "image/png": "[encoded data removed]",
      "text/plain": [
       "<Figure size 640x480 with 1 Axes>"
      ]
     },
     "metadata": {},
     "output_type": "display_data"
    }
   ],
   "source": [
    "sampleSkel = Sleap_utils.generate_annotated_frame(skeletontracks.video, [skeletontracks], 2400)\n",
    "\n",
    "plt.imshow(sampleSkel)"
   ]
  },
  {
   "cell_type": "code",
   "execution_count": 84,
   "metadata": {},
   "outputs": [
    {
     "data": {
      "text/plain": [
       "<module 'utils_behavior.Sleap_utils' from '/home/durrieu/utils_behavior/utils_behavior/Sleap_utils.py'>"
      ]
     },
     "execution_count": 84,
     "metadata": {},
     "output_type": "execute_result"
    }
   ],
   "source": [
    "importlib.reload(Sleap_utils)"
   ]
  },
  {
   "cell_type": "code",
   "execution_count": 95,
   "metadata": {},
   "outputs": [],
   "source": [
    "slp_skeleton = Sleap_utils.Sleap_Tracks(\"/mnt/upramdya_data/MD/MultiMazeRecorder/Videos/240111_TNT_Fine_1_Videos_Tracked/arena5/corridor5/corridor5_preprocessed_full_body.h5\", smoothed_tracks=False)"
   ]
  },
  {
   "cell_type": "code",
   "execution_count": 96,
   "metadata": {},
   "outputs": [
    {
     "data": {
      "text/plain": [
       "<matplotlib.image.AxesImage at 0x7935ccb3ccb0>"
      ]
     },
     "execution_count": 96,
     "metadata": {},
     "output_type": "execute_result"
    },
    {
     "data": {
      "image/png": "[encoded data removed]",
      "text/plain": [
       "<Figure size 640x480 with 1 Axes>"
      ]
     },
     "metadata": {},
     "output_type": "display_data"
    }
   ],
   "source": [
    "slp_skeleton_sample = Sleap_utils.generate_annotated_frame(slp_skeleton.video, [slp_skeleton], 2400)\n",
    "\n",
    "plt.imshow(slp_skeleton_sample)"
   ]
  },
  {
   "cell_type": "code",
   "execution_count": 33,
   "metadata": {},
   "outputs": [],
   "source": [
    "TestFly.f1_metrics"
   ]
  },
  {
   "cell_type": "code",
   "execution_count": null,
   "metadata": {},
   "outputs": [],
   "source": [
    "#TestFly = Ballpushing_utils.Fly(\"/mnt/upramdya_data/MD/MultiMazeRecorder/Videos/240531_MagnetBlock_Videos_Tracked/arena4/corridor4/\", as_individual=True)"
   ]
  },
  {
   "cell_type": "code",
   "execution_count": 157,
   "metadata": {},
   "outputs": [
    {
     "name": "stdout",
     "output_type": "stream",
     "text": [
      "Loading fly from /mnt/upramdya_data/MD/F1_Tracks/Videos/240821_F1_3mm_ends_Videos_Checked/arena2/Right\n",
      "Loading fly from /mnt/upramdya_data/MD/F1_Tracks/Videos/240821_F1_3mm_ends_Videos_Checked/arena2/Left\n",
      "Loading fly from /mnt/upramdya_data/MD/F1_Tracks/Videos/240821_F1_3mm_ends_Videos_Checked/arena7/Right\n",
      "Loading fly from /mnt/upramdya_data/MD/F1_Tracks/Videos/240821_F1_3mm_ends_Videos_Checked/arena7/Left\n",
      "Loading fly from /mnt/upramdya_data/MD/F1_Tracks/Videos/240821_F1_3mm_ends_Videos_Checked/arena6/Right\n",
      "Loading fly from /mnt/upramdya_data/MD/F1_Tracks/Videos/240821_F1_3mm_ends_Videos_Checked/arena6/Left\n",
      "Loading fly from /mnt/upramdya_data/MD/F1_Tracks/Videos/240821_F1_3mm_ends_Videos_Checked/arena5/Right\n",
      "Loading fly from /mnt/upramdya_data/MD/F1_Tracks/Videos/240821_F1_3mm_ends_Videos_Checked/arena5/Left\n",
      "Loading fly from /mnt/upramdya_data/MD/F1_Tracks/Videos/240821_F1_3mm_ends_Videos_Checked/arena8/Right\n",
      "Loading fly from /mnt/upramdya_data/MD/F1_Tracks/Videos/240821_F1_3mm_ends_Videos_Checked/arena8/Left\n",
      "Loading fly from /mnt/upramdya_data/MD/F1_Tracks/Videos/240821_F1_3mm_ends_Videos_Checked/arena3/Right\n",
      "Loading fly from /mnt/upramdya_data/MD/F1_Tracks/Videos/240821_F1_3mm_ends_Videos_Checked/arena3/Left\n",
      "Loading fly from /mnt/upramdya_data/MD/F1_Tracks/Videos/240821_F1_3mm_ends_Videos_Checked/arena4/Right\n",
      "Loading fly from /mnt/upramdya_data/MD/F1_Tracks/Videos/240821_F1_3mm_ends_Videos_Checked/arena4/Left\n",
      "Loading fly from /mnt/upramdya_data/MD/F1_Tracks/Videos/240821_F1_3mm_ends_Videos_Checked/arena1/Right\n",
      "Loading fly from /mnt/upramdya_data/MD/F1_Tracks/Videos/240821_F1_3mm_ends_Videos_Checked/arena1/Left\n",
      "Loading fly from /mnt/upramdya_data/MD/F1_Tracks/Videos/240821_F1_3mm_ends_Videos_Checked/arena9/Right\n",
      "Loading fly from /mnt/upramdya_data/MD/F1_Tracks/Videos/240821_F1_3mm_ends_Videos_Checked/arena9/Left\n"
     ]
    }
   ],
   "source": [
    "TestExp_F1 = Ballpushing_utils.Experiment(\"/mnt/upramdya_data/MD/F1_Tracks/Videos/240821_F1_3mm_ends_Videos_Checked\")"
   ]
  },
  {
   "cell_type": "code",
   "execution_count": null,
   "metadata": {},
   "outputs": [],
   "source": []
  },
  {
   "cell_type": "code",
   "execution_count": 199,
   "metadata": {},
   "outputs": [
    {
     "data": {
      "text/plain": [
       "<module 'utils_behavior.Ballpushing_utils' from '/home/durrieu/utils_behavior/utils_behavior/Ballpushing_utils.py'>"
      ]
     },
     "execution_count": 199,
     "metadata": {},
     "output_type": "execute_result"
    }
   ],
   "source": [
    "importlib.reload(Ballpushing_utils)"
   ]
  },
  {
   "cell_type": "code",
   "execution_count": 200,
   "metadata": {},
   "outputs": [
    {
     "name": "stdout",
     "output_type": "stream",
     "text": [
      "Dataset with 18 flies and 1 experiments\n",
      "keyword: \n"
     ]
    }
   ],
   "source": [
    "TestData = Ballpushing_utils.Dataset(TestExp_F1)\n",
    "\n",
    "print(TestData)"
   ]
  },
  {
   "cell_type": "code",
   "execution_count": 178,
   "metadata": {},
   "outputs": [],
   "source": [
    "Summary = TestData.generate_dataset(\"summary\")"
   ]
  },
  {
   "cell_type": "code",
   "execution_count": 179,
   "metadata": {},
   "outputs": [
    {
     "data": {
      "text/html": [
       "<div>\n",
       "<style scoped>\n",
       "    .dataframe tbody tr th:only-of-type {\n",
       "        vertical-align: middle;\n",
       "    }\n",
       "\n",
       "    .dataframe tbody tr th {\n",
       "        vertical-align: top;\n",
       "    }\n",
       "\n",
       "    .dataframe thead th {\n",
       "        text-align: right;\n",
       "    }\n",
       "</style>\n",
       "<table border=\"1\" class=\"dataframe\">\n",
       "  <thead>\n",
       "    <tr style=\"text-align: right;\">\n",
       "      <th></th>\n",
       "      <th>index</th>\n",
       "      <th>nb_events</th>\n",
       "      <th>max_event</th>\n",
       "      <th>max_event_time</th>\n",
       "      <th>max_distance</th>\n",
       "      <th>final_event</th>\n",
       "      <th>final_event_time</th>\n",
       "      <th>nb_significant_events</th>\n",
       "      <th>significant_ratio</th>\n",
       "      <th>first_significant_event</th>\n",
       "      <th>...</th>\n",
       "      <th>Period</th>\n",
       "      <th>FeedingState</th>\n",
       "      <th>Orientation</th>\n",
       "      <th>Light</th>\n",
       "      <th>Crossing</th>\n",
       "      <th>Pretraining</th>\n",
       "      <th>Unlocked</th>\n",
       "      <th></th>\n",
       "      <th>F1_condition</th>\n",
       "      <th>ball_condition</th>\n",
       "    </tr>\n",
       "  </thead>\n",
       "  <tbody>\n",
       "    <tr>\n",
       "      <th>0</th>\n",
       "      <td>fly_0_ball_0</td>\n",
       "      <td>4.473341</td>\n",
       "      <td>19.0</td>\n",
       "      <td>3816.689655</td>\n",
       "      <td>104.370425</td>\n",
       "      <td>19.0</td>\n",
       "      <td>3816.689655</td>\n",
       "      <td>0.447334</td>\n",
       "      <td>0.100000</td>\n",
       "      <td>8.0</td>\n",
       "      <td>...</td>\n",
       "      <td>AM10</td>\n",
       "      <td>starved_noWater</td>\n",
       "      <td>std</td>\n",
       "      <td>on</td>\n",
       "      <td>1</td>\n",
       "      <td>n</td>\n",
       "      <td>nn</td>\n",
       "      <td></td>\n",
       "      <td>control</td>\n",
       "      <td>test</td>\n",
       "    </tr>\n",
       "    <tr>\n",
       "      <th>1</th>\n",
       "      <td>fly_0_ball_0</td>\n",
       "      <td>2.545870</td>\n",
       "      <td>13.0</td>\n",
       "      <td>5465.793103</td>\n",
       "      <td>98.338295</td>\n",
       "      <td>NaN</td>\n",
       "      <td>NaN</td>\n",
       "      <td>0.121232</td>\n",
       "      <td>0.047619</td>\n",
       "      <td>11.0</td>\n",
       "      <td>...</td>\n",
       "      <td>AM10</td>\n",
       "      <td>starved_noWater</td>\n",
       "      <td>std</td>\n",
       "      <td>on</td>\n",
       "      <td>1</td>\n",
       "      <td>n</td>\n",
       "      <td>nn</td>\n",
       "      <td></td>\n",
       "      <td>control</td>\n",
       "      <td>test</td>\n",
       "    </tr>\n",
       "    <tr>\n",
       "      <th>2</th>\n",
       "      <td>fly_0_ball_0</td>\n",
       "      <td>15.267669</td>\n",
       "      <td>50.0</td>\n",
       "      <td>7655.827586</td>\n",
       "      <td>225.628619</td>\n",
       "      <td>49.0</td>\n",
       "      <td>6764.172414</td>\n",
       "      <td>0.803562</td>\n",
       "      <td>0.052632</td>\n",
       "      <td>49.0</td>\n",
       "      <td>...</td>\n",
       "      <td>AM10</td>\n",
       "      <td>starved_noWater</td>\n",
       "      <td>std</td>\n",
       "      <td>on</td>\n",
       "      <td>1</td>\n",
       "      <td>y</td>\n",
       "      <td>yy</td>\n",
       "      <td></td>\n",
       "      <td>pretrained_unlocked</td>\n",
       "      <td>training</td>\n",
       "    </tr>\n",
       "    <tr>\n",
       "      <th>3</th>\n",
       "      <td>fly_0_ball_1</td>\n",
       "      <td>23.353717</td>\n",
       "      <td>19.0</td>\n",
       "      <td>1789.517241</td>\n",
       "      <td>87.217265</td>\n",
       "      <td>NaN</td>\n",
       "      <td>NaN</td>\n",
       "      <td>0.569603</td>\n",
       "      <td>0.024390</td>\n",
       "      <td>19.0</td>\n",
       "      <td>...</td>\n",
       "      <td>AM10</td>\n",
       "      <td>starved_noWater</td>\n",
       "      <td>std</td>\n",
       "      <td>on</td>\n",
       "      <td>1</td>\n",
       "      <td>y</td>\n",
       "      <td>yy</td>\n",
       "      <td></td>\n",
       "      <td>pretrained_unlocked</td>\n",
       "      <td>test</td>\n",
       "    </tr>\n",
       "    <tr>\n",
       "      <th>4</th>\n",
       "      <td>fly_0_ball_0</td>\n",
       "      <td>20.302137</td>\n",
       "      <td>62.0</td>\n",
       "      <td>5242.931034</td>\n",
       "      <td>177.716481</td>\n",
       "      <td>62.0</td>\n",
       "      <td>5242.931034</td>\n",
       "      <td>1.602800</td>\n",
       "      <td>0.078947</td>\n",
       "      <td>0.0</td>\n",
       "      <td>...</td>\n",
       "      <td>AM10</td>\n",
       "      <td>starved_noWater</td>\n",
       "      <td>std</td>\n",
       "      <td>on</td>\n",
       "      <td>1</td>\n",
       "      <td>y</td>\n",
       "      <td>yy</td>\n",
       "      <td></td>\n",
       "      <td>pretrained_unlocked</td>\n",
       "      <td>training</td>\n",
       "    </tr>\n",
       "  </tbody>\n",
       "</table>\n",
       "<p>5 rows × 40 columns</p>\n",
       "</div>"
      ],
      "text/plain": [
       "          index  nb_events max_event max_event_time  max_distance  \\\n",
       "0  fly_0_ball_0   4.473341      19.0    3816.689655    104.370425   \n",
       "1  fly_0_ball_0   2.545870      13.0    5465.793103     98.338295   \n",
       "2  fly_0_ball_0  15.267669      50.0    7655.827586    225.628619   \n",
       "3  fly_0_ball_1  23.353717      19.0    1789.517241     87.217265   \n",
       "4  fly_0_ball_0  20.302137      62.0    5242.931034    177.716481   \n",
       "\n",
       "   final_event  final_event_time  nb_significant_events  significant_ratio  \\\n",
       "0         19.0       3816.689655               0.447334           0.100000   \n",
       "1          NaN               NaN               0.121232           0.047619   \n",
       "2         49.0       6764.172414               0.803562           0.052632   \n",
       "3          NaN               NaN               0.569603           0.024390   \n",
       "4         62.0       5242.931034               1.602800           0.078947   \n",
       "\n",
       "   first_significant_event  ...  Period     FeedingState  Orientation  Light  \\\n",
       "0                      8.0  ...    AM10  starved_noWater          std     on   \n",
       "1                     11.0  ...    AM10  starved_noWater          std     on   \n",
       "2                     49.0  ...    AM10  starved_noWater          std     on   \n",
       "3                     19.0  ...    AM10  starved_noWater          std     on   \n",
       "4                      0.0  ...    AM10  starved_noWater          std     on   \n",
       "\n",
       "   Crossing  Pretraining  Unlocked           F1_condition  ball_condition  \n",
       "0         1            n        nn                control            test  \n",
       "1         1            n        nn                control            test  \n",
       "2         1            y        yy    pretrained_unlocked        training  \n",
       "3         1            y        yy    pretrained_unlocked            test  \n",
       "4         1            y        yy    pretrained_unlocked        training  \n",
       "\n",
       "[5 rows x 40 columns]"
      ]
     },
     "execution_count": 179,
     "metadata": {},
     "output_type": "execute_result"
    }
   ],
   "source": [
    "Summary.head()"
   ]
  },
  {
   "cell_type": "code",
   "execution_count": 186,
   "metadata": {},
   "outputs": [
    {
     "data": {
      "text/html": [
       "<div>\n",
       "<style scoped>\n",
       "    .dataframe tbody tr th:only-of-type {\n",
       "        vertical-align: middle;\n",
       "    }\n",
       "\n",
       "    .dataframe tbody tr th {\n",
       "        vertical-align: top;\n",
       "    }\n",
       "\n",
       "    .dataframe thead th {\n",
       "        text-align: right;\n",
       "    }\n",
       "</style>\n",
       "<table border=\"1\" class=\"dataframe\">\n",
       "  <thead>\n",
       "    <tr style=\"text-align: right;\">\n",
       "      <th></th>\n",
       "      <th>index</th>\n",
       "      <th>time</th>\n",
       "      <th>frame</th>\n",
       "      <th>adjusted_time</th>\n",
       "      <th>x_fly_0</th>\n",
       "      <th>y_fly_0</th>\n",
       "      <th>distance_fly_0</th>\n",
       "      <th>x_ball_0</th>\n",
       "      <th>y_ball_0</th>\n",
       "      <th>distance_ball_0</th>\n",
       "      <th>...</th>\n",
       "      <th>Orientation</th>\n",
       "      <th>Light</th>\n",
       "      <th>Crossing</th>\n",
       "      <th>Pretraining</th>\n",
       "      <th>Unlocked</th>\n",
       "      <th></th>\n",
       "      <th>F1_condition</th>\n",
       "      <th>x_ball_1</th>\n",
       "      <th>y_ball_1</th>\n",
       "      <th>distance_ball_1</th>\n",
       "    </tr>\n",
       "  </thead>\n",
       "  <tbody>\n",
       "    <tr>\n",
       "      <th>0</th>\n",
       "      <td>0</td>\n",
       "      <td>0.034483</td>\n",
       "      <td>1</td>\n",
       "      <td>-58.310345</td>\n",
       "      <td>0.000000</td>\n",
       "      <td>0.000000</td>\n",
       "      <td>0.000000</td>\n",
       "      <td>186.195970</td>\n",
       "      <td>-70.496026</td>\n",
       "      <td>0.000000</td>\n",
       "      <td>...</td>\n",
       "      <td>std</td>\n",
       "      <td>on</td>\n",
       "      <td>1</td>\n",
       "      <td>n</td>\n",
       "      <td>nn</td>\n",
       "      <td></td>\n",
       "      <td>control</td>\n",
       "      <td>NaN</td>\n",
       "      <td>NaN</td>\n",
       "      <td>NaN</td>\n",
       "    </tr>\n",
       "    <tr>\n",
       "      <th>1</th>\n",
       "      <td>145</td>\n",
       "      <td>5.034483</td>\n",
       "      <td>146</td>\n",
       "      <td>-53.310345</td>\n",
       "      <td>-1.843770</td>\n",
       "      <td>11.472749</td>\n",
       "      <td>11.619959</td>\n",
       "      <td>186.118208</td>\n",
       "      <td>-70.495962</td>\n",
       "      <td>0.077761</td>\n",
       "      <td>...</td>\n",
       "      <td>std</td>\n",
       "      <td>on</td>\n",
       "      <td>1</td>\n",
       "      <td>n</td>\n",
       "      <td>nn</td>\n",
       "      <td></td>\n",
       "      <td>control</td>\n",
       "      <td>NaN</td>\n",
       "      <td>NaN</td>\n",
       "      <td>NaN</td>\n",
       "    </tr>\n",
       "    <tr>\n",
       "      <th>2</th>\n",
       "      <td>290</td>\n",
       "      <td>10.034483</td>\n",
       "      <td>291</td>\n",
       "      <td>-48.310345</td>\n",
       "      <td>-3.740782</td>\n",
       "      <td>19.193105</td>\n",
       "      <td>19.554251</td>\n",
       "      <td>186.096450</td>\n",
       "      <td>-70.451823</td>\n",
       "      <td>0.108895</td>\n",
       "      <td>...</td>\n",
       "      <td>std</td>\n",
       "      <td>on</td>\n",
       "      <td>1</td>\n",
       "      <td>n</td>\n",
       "      <td>nn</td>\n",
       "      <td></td>\n",
       "      <td>control</td>\n",
       "      <td>NaN</td>\n",
       "      <td>NaN</td>\n",
       "      <td>NaN</td>\n",
       "    </tr>\n",
       "    <tr>\n",
       "      <th>3</th>\n",
       "      <td>435</td>\n",
       "      <td>15.034483</td>\n",
       "      <td>436</td>\n",
       "      <td>-43.310345</td>\n",
       "      <td>1.275389</td>\n",
       "      <td>12.687442</td>\n",
       "      <td>12.751384</td>\n",
       "      <td>186.096450</td>\n",
       "      <td>-70.451823</td>\n",
       "      <td>0.108895</td>\n",
       "      <td>...</td>\n",
       "      <td>std</td>\n",
       "      <td>on</td>\n",
       "      <td>1</td>\n",
       "      <td>n</td>\n",
       "      <td>nn</td>\n",
       "      <td></td>\n",
       "      <td>control</td>\n",
       "      <td>NaN</td>\n",
       "      <td>NaN</td>\n",
       "      <td>NaN</td>\n",
       "    </tr>\n",
       "    <tr>\n",
       "      <th>4</th>\n",
       "      <td>580</td>\n",
       "      <td>20.034483</td>\n",
       "      <td>581</td>\n",
       "      <td>-38.310345</td>\n",
       "      <td>-3.033532</td>\n",
       "      <td>-105.275476</td>\n",
       "      <td>105.319173</td>\n",
       "      <td>186.115901</td>\n",
       "      <td>-70.387670</td>\n",
       "      <td>0.134730</td>\n",
       "      <td>...</td>\n",
       "      <td>std</td>\n",
       "      <td>on</td>\n",
       "      <td>1</td>\n",
       "      <td>n</td>\n",
       "      <td>nn</td>\n",
       "      <td></td>\n",
       "      <td>control</td>\n",
       "      <td>NaN</td>\n",
       "      <td>NaN</td>\n",
       "      <td>NaN</td>\n",
       "    </tr>\n",
       "  </tbody>\n",
       "</table>\n",
       "<p>5 rows × 29 columns</p>\n",
       "</div>"
      ],
      "text/plain": [
       "   index       time  frame  adjusted_time   x_fly_0     y_fly_0  \\\n",
       "0      0   0.034483      1     -58.310345  0.000000    0.000000   \n",
       "1    145   5.034483    146     -53.310345 -1.843770   11.472749   \n",
       "2    290  10.034483    291     -48.310345 -3.740782   19.193105   \n",
       "3    435  15.034483    436     -43.310345  1.275389   12.687442   \n",
       "4    580  20.034483    581     -38.310345 -3.033532 -105.275476   \n",
       "\n",
       "   distance_fly_0    x_ball_0   y_ball_0  distance_ball_0  ... Orientation  \\\n",
       "0        0.000000  186.195970 -70.496026         0.000000  ...         std   \n",
       "1       11.619959  186.118208 -70.495962         0.077761  ...         std   \n",
       "2       19.554251  186.096450 -70.451823         0.108895  ...         std   \n",
       "3       12.751384  186.096450 -70.451823         0.108895  ...         std   \n",
       "4      105.319173  186.115901 -70.387670         0.134730  ...         std   \n",
       "\n",
       "  Light Crossing Pretraining Unlocked   F1_condition x_ball_1 y_ball_1  \\\n",
       "0    on        1           n       nn        control      NaN      NaN   \n",
       "1    on        1           n       nn        control      NaN      NaN   \n",
       "2    on        1           n       nn        control      NaN      NaN   \n",
       "3    on        1           n       nn        control      NaN      NaN   \n",
       "4    on        1           n       nn        control      NaN      NaN   \n",
       "\n",
       "  distance_ball_1  \n",
       "0             NaN  \n",
       "1             NaN  \n",
       "2             NaN  \n",
       "3             NaN  \n",
       "4             NaN  \n",
       "\n",
       "[5 rows x 29 columns]"
      ]
     },
     "execution_count": 186,
     "metadata": {},
     "output_type": "execute_result"
    }
   ],
   "source": [
    "Coords = TestData.generate_dataset(\"coordinates\")\n",
    "\n",
    "Coords.head()"
   ]
  },
  {
   "cell_type": "code",
   "execution_count": 194,
   "metadata": {},
   "outputs": [
    {
     "name": "stdout",
     "output_type": "stream",
     "text": [
      "Fly 240821_F1_3mm_ends_Videos_Checked_arena6_Right never exits the corridor\n",
      "Fly 240821_F1_3mm_ends_Videos_Checked_arena3_Left never exits the corridor\n"
     ]
    },
    {
     "data": {
      "text/html": [
       "<div>\n",
       "<style scoped>\n",
       "    .dataframe tbody tr th:only-of-type {\n",
       "        vertical-align: middle;\n",
       "    }\n",
       "\n",
       "    .dataframe tbody tr th {\n",
       "        vertical-align: top;\n",
       "    }\n",
       "\n",
       "    .dataframe thead th {\n",
       "        text-align: right;\n",
       "    }\n",
       "</style>\n",
       "<table border=\"1\" class=\"dataframe\">\n",
       "  <thead>\n",
       "    <tr style=\"text-align: right;\">\n",
       "      <th></th>\n",
       "      <th>index</th>\n",
       "      <th>time</th>\n",
       "      <th>frame</th>\n",
       "      <th>adjusted_time</th>\n",
       "      <th>test_ball</th>\n",
       "      <th>fly</th>\n",
       "      <th>flypath</th>\n",
       "      <th>experiment</th>\n",
       "      <th>Nickname</th>\n",
       "      <th>Brain region</th>\n",
       "      <th>...</th>\n",
       "      <th>Period</th>\n",
       "      <th>FeedingState</th>\n",
       "      <th>Orientation</th>\n",
       "      <th>Light</th>\n",
       "      <th>Crossing</th>\n",
       "      <th>Pretraining</th>\n",
       "      <th>Unlocked</th>\n",
       "      <th></th>\n",
       "      <th>F1_condition</th>\n",
       "      <th>training_ball</th>\n",
       "    </tr>\n",
       "  </thead>\n",
       "  <tbody>\n",
       "    <tr>\n",
       "      <th>0</th>\n",
       "      <td>0</td>\n",
       "      <td>0.034483</td>\n",
       "      <td>1</td>\n",
       "      <td>-58.310345</td>\n",
       "      <td>0.000000</td>\n",
       "      <td>240821_F1_3mm_ends_Videos_Checked_arena2_Right</td>\n",
       "      <td>/mnt/upramdya_data/MD/F1_Tracks/Videos/240821_...</td>\n",
       "      <td>240821_F1_3mm_ends_Videos_Checked</td>\n",
       "      <td>PR</td>\n",
       "      <td>Control</td>\n",
       "      <td>...</td>\n",
       "      <td>AM10</td>\n",
       "      <td>starved_noWater</td>\n",
       "      <td>std</td>\n",
       "      <td>on</td>\n",
       "      <td>1</td>\n",
       "      <td>n</td>\n",
       "      <td>nn</td>\n",
       "      <td></td>\n",
       "      <td>control</td>\n",
       "      <td>NaN</td>\n",
       "    </tr>\n",
       "    <tr>\n",
       "      <th>1</th>\n",
       "      <td>145</td>\n",
       "      <td>5.034483</td>\n",
       "      <td>146</td>\n",
       "      <td>-53.310345</td>\n",
       "      <td>0.077761</td>\n",
       "      <td>240821_F1_3mm_ends_Videos_Checked_arena2_Right</td>\n",
       "      <td>/mnt/upramdya_data/MD/F1_Tracks/Videos/240821_...</td>\n",
       "      <td>240821_F1_3mm_ends_Videos_Checked</td>\n",
       "      <td>PR</td>\n",
       "      <td>Control</td>\n",
       "      <td>...</td>\n",
       "      <td>AM10</td>\n",
       "      <td>starved_noWater</td>\n",
       "      <td>std</td>\n",
       "      <td>on</td>\n",
       "      <td>1</td>\n",
       "      <td>n</td>\n",
       "      <td>nn</td>\n",
       "      <td></td>\n",
       "      <td>control</td>\n",
       "      <td>NaN</td>\n",
       "    </tr>\n",
       "    <tr>\n",
       "      <th>2</th>\n",
       "      <td>290</td>\n",
       "      <td>10.034483</td>\n",
       "      <td>291</td>\n",
       "      <td>-48.310345</td>\n",
       "      <td>0.108895</td>\n",
       "      <td>240821_F1_3mm_ends_Videos_Checked_arena2_Right</td>\n",
       "      <td>/mnt/upramdya_data/MD/F1_Tracks/Videos/240821_...</td>\n",
       "      <td>240821_F1_3mm_ends_Videos_Checked</td>\n",
       "      <td>PR</td>\n",
       "      <td>Control</td>\n",
       "      <td>...</td>\n",
       "      <td>AM10</td>\n",
       "      <td>starved_noWater</td>\n",
       "      <td>std</td>\n",
       "      <td>on</td>\n",
       "      <td>1</td>\n",
       "      <td>n</td>\n",
       "      <td>nn</td>\n",
       "      <td></td>\n",
       "      <td>control</td>\n",
       "      <td>NaN</td>\n",
       "    </tr>\n",
       "    <tr>\n",
       "      <th>3</th>\n",
       "      <td>435</td>\n",
       "      <td>15.034483</td>\n",
       "      <td>436</td>\n",
       "      <td>-43.310345</td>\n",
       "      <td>0.108895</td>\n",
       "      <td>240821_F1_3mm_ends_Videos_Checked_arena2_Right</td>\n",
       "      <td>/mnt/upramdya_data/MD/F1_Tracks/Videos/240821_...</td>\n",
       "      <td>240821_F1_3mm_ends_Videos_Checked</td>\n",
       "      <td>PR</td>\n",
       "      <td>Control</td>\n",
       "      <td>...</td>\n",
       "      <td>AM10</td>\n",
       "      <td>starved_noWater</td>\n",
       "      <td>std</td>\n",
       "      <td>on</td>\n",
       "      <td>1</td>\n",
       "      <td>n</td>\n",
       "      <td>nn</td>\n",
       "      <td></td>\n",
       "      <td>control</td>\n",
       "      <td>NaN</td>\n",
       "    </tr>\n",
       "    <tr>\n",
       "      <th>4</th>\n",
       "      <td>580</td>\n",
       "      <td>20.034483</td>\n",
       "      <td>581</td>\n",
       "      <td>-38.310345</td>\n",
       "      <td>0.134730</td>\n",
       "      <td>240821_F1_3mm_ends_Videos_Checked_arena2_Right</td>\n",
       "      <td>/mnt/upramdya_data/MD/F1_Tracks/Videos/240821_...</td>\n",
       "      <td>240821_F1_3mm_ends_Videos_Checked</td>\n",
       "      <td>PR</td>\n",
       "      <td>Control</td>\n",
       "      <td>...</td>\n",
       "      <td>AM10</td>\n",
       "      <td>starved_noWater</td>\n",
       "      <td>std</td>\n",
       "      <td>on</td>\n",
       "      <td>1</td>\n",
       "      <td>n</td>\n",
       "      <td>nn</td>\n",
       "      <td></td>\n",
       "      <td>control</td>\n",
       "      <td>NaN</td>\n",
       "    </tr>\n",
       "  </tbody>\n",
       "</table>\n",
       "<p>5 rows × 22 columns</p>\n",
       "</div>"
      ],
      "text/plain": [
       "   index       time  frame  adjusted_time  test_ball  \\\n",
       "0      0   0.034483      1     -58.310345   0.000000   \n",
       "1    145   5.034483    146     -53.310345   0.077761   \n",
       "2    290  10.034483    291     -48.310345   0.108895   \n",
       "3    435  15.034483    436     -43.310345   0.108895   \n",
       "4    580  20.034483    581     -38.310345   0.134730   \n",
       "\n",
       "                                              fly  \\\n",
       "0  240821_F1_3mm_ends_Videos_Checked_arena2_Right   \n",
       "1  240821_F1_3mm_ends_Videos_Checked_arena2_Right   \n",
       "2  240821_F1_3mm_ends_Videos_Checked_arena2_Right   \n",
       "3  240821_F1_3mm_ends_Videos_Checked_arena2_Right   \n",
       "4  240821_F1_3mm_ends_Videos_Checked_arena2_Right   \n",
       "\n",
       "                                             flypath  \\\n",
       "0  /mnt/upramdya_data/MD/F1_Tracks/Videos/240821_...   \n",
       "1  /mnt/upramdya_data/MD/F1_Tracks/Videos/240821_...   \n",
       "2  /mnt/upramdya_data/MD/F1_Tracks/Videos/240821_...   \n",
       "3  /mnt/upramdya_data/MD/F1_Tracks/Videos/240821_...   \n",
       "4  /mnt/upramdya_data/MD/F1_Tracks/Videos/240821_...   \n",
       "\n",
       "                          experiment Nickname Brain region  ... Period  \\\n",
       "0  240821_F1_3mm_ends_Videos_Checked       PR      Control  ...   AM10   \n",
       "1  240821_F1_3mm_ends_Videos_Checked       PR      Control  ...   AM10   \n",
       "2  240821_F1_3mm_ends_Videos_Checked       PR      Control  ...   AM10   \n",
       "3  240821_F1_3mm_ends_Videos_Checked       PR      Control  ...   AM10   \n",
       "4  240821_F1_3mm_ends_Videos_Checked       PR      Control  ...   AM10   \n",
       "\n",
       "      FeedingState Orientation Light Crossing Pretraining Unlocked    \\\n",
       "0  starved_noWater         std    on        1           n       nn     \n",
       "1  starved_noWater         std    on        1           n       nn     \n",
       "2  starved_noWater         std    on        1           n       nn     \n",
       "3  starved_noWater         std    on        1           n       nn     \n",
       "4  starved_noWater         std    on        1           n       nn     \n",
       "\n",
       "  F1_condition training_ball  \n",
       "0      control           NaN  \n",
       "1      control           NaN  \n",
       "2      control           NaN  \n",
       "3      control           NaN  \n",
       "4      control           NaN  \n",
       "\n",
       "[5 rows x 22 columns]"
      ]
     },
     "execution_count": 194,
     "metadata": {},
     "output_type": "execute_result"
    }
   ],
   "source": [
    "F1_coords = TestData.generate_dataset(\"F1_coordinates\")\n",
    "\n",
    "F1_coords.head()"
   ]
  },
  {
   "cell_type": "code",
   "execution_count": 201,
   "metadata": {},
   "outputs": [
    {
     "name": "stdout",
     "output_type": "stream",
     "text": [
      "Fly 240821_F1_3mm_ends_Videos_Checked_arena6_Right never exits the corridor\n",
      "Fly 240821_F1_3mm_ends_Videos_Checked_arena3_Left never exits the corridor\n"
     ]
    },
    {
     "data": {
      "text/html": [
       "<div>\n",
       "<style scoped>\n",
       "    .dataframe tbody tr th:only-of-type {\n",
       "        vertical-align: middle;\n",
       "    }\n",
       "\n",
       "    .dataframe tbody tr th {\n",
       "        vertical-align: top;\n",
       "    }\n",
       "\n",
       "    .dataframe thead th {\n",
       "        text-align: right;\n",
       "    }\n",
       "</style>\n",
       "<table border=\"1\" class=\"dataframe\">\n",
       "  <thead>\n",
       "    <tr style=\"text-align: right;\">\n",
       "      <th></th>\n",
       "      <th>index</th>\n",
       "      <th>fly_exit_time</th>\n",
       "      <th>distance</th>\n",
       "      <th>adjusted_time</th>\n",
       "      <th>fly</th>\n",
       "      <th>flypath</th>\n",
       "      <th>experiment</th>\n",
       "      <th>Nickname</th>\n",
       "      <th>Brain region</th>\n",
       "      <th>Date</th>\n",
       "      <th>...</th>\n",
       "      <th>Period</th>\n",
       "      <th>FeedingState</th>\n",
       "      <th>Orientation</th>\n",
       "      <th>Light</th>\n",
       "      <th>Crossing</th>\n",
       "      <th>Pretraining</th>\n",
       "      <th>Unlocked</th>\n",
       "      <th></th>\n",
       "      <th>F1_condition</th>\n",
       "      <th>success_direction</th>\n",
       "    </tr>\n",
       "  </thead>\n",
       "  <tbody>\n",
       "    <tr>\n",
       "      <th>0</th>\n",
       "      <td>0</td>\n",
       "      <td>58.344828</td>\n",
       "      <td>10</td>\n",
       "      <td>488.275862</td>\n",
       "      <td>240821_F1_3mm_ends_Videos_Checked_arena2_Right</td>\n",
       "      <td>/mnt/upramdya_data/MD/F1_Tracks/Videos/240821_...</td>\n",
       "      <td>240821_F1_3mm_ends_Videos_Checked</td>\n",
       "      <td>PR</td>\n",
       "      <td>Control</td>\n",
       "      <td>240821</td>\n",
       "      <td>...</td>\n",
       "      <td>AM10</td>\n",
       "      <td>starved_noWater</td>\n",
       "      <td>std</td>\n",
       "      <td>on</td>\n",
       "      <td>1</td>\n",
       "      <td>n</td>\n",
       "      <td>nn</td>\n",
       "      <td></td>\n",
       "      <td>control</td>\n",
       "      <td>push</td>\n",
       "    </tr>\n",
       "    <tr>\n",
       "      <th>1</th>\n",
       "      <td>1</td>\n",
       "      <td>58.344828</td>\n",
       "      <td>25</td>\n",
       "      <td>492.034483</td>\n",
       "      <td>240821_F1_3mm_ends_Videos_Checked_arena2_Right</td>\n",
       "      <td>/mnt/upramdya_data/MD/F1_Tracks/Videos/240821_...</td>\n",
       "      <td>240821_F1_3mm_ends_Videos_Checked</td>\n",
       "      <td>PR</td>\n",
       "      <td>Control</td>\n",
       "      <td>240821</td>\n",
       "      <td>...</td>\n",
       "      <td>AM10</td>\n",
       "      <td>starved_noWater</td>\n",
       "      <td>std</td>\n",
       "      <td>on</td>\n",
       "      <td>1</td>\n",
       "      <td>n</td>\n",
       "      <td>nn</td>\n",
       "      <td></td>\n",
       "      <td>control</td>\n",
       "      <td>push</td>\n",
       "    </tr>\n",
       "    <tr>\n",
       "      <th>2</th>\n",
       "      <td>2</td>\n",
       "      <td>58.344828</td>\n",
       "      <td>35</td>\n",
       "      <td>494.586207</td>\n",
       "      <td>240821_F1_3mm_ends_Videos_Checked_arena2_Right</td>\n",
       "      <td>/mnt/upramdya_data/MD/F1_Tracks/Videos/240821_...</td>\n",
       "      <td>240821_F1_3mm_ends_Videos_Checked</td>\n",
       "      <td>PR</td>\n",
       "      <td>Control</td>\n",
       "      <td>240821</td>\n",
       "      <td>...</td>\n",
       "      <td>AM10</td>\n",
       "      <td>starved_noWater</td>\n",
       "      <td>std</td>\n",
       "      <td>on</td>\n",
       "      <td>1</td>\n",
       "      <td>n</td>\n",
       "      <td>nn</td>\n",
       "      <td></td>\n",
       "      <td>control</td>\n",
       "      <td>push</td>\n",
       "    </tr>\n",
       "    <tr>\n",
       "      <th>3</th>\n",
       "      <td>3</td>\n",
       "      <td>58.344828</td>\n",
       "      <td>50</td>\n",
       "      <td>3109.344828</td>\n",
       "      <td>240821_F1_3mm_ends_Videos_Checked_arena2_Right</td>\n",
       "      <td>/mnt/upramdya_data/MD/F1_Tracks/Videos/240821_...</td>\n",
       "      <td>240821_F1_3mm_ends_Videos_Checked</td>\n",
       "      <td>PR</td>\n",
       "      <td>Control</td>\n",
       "      <td>240821</td>\n",
       "      <td>...</td>\n",
       "      <td>AM10</td>\n",
       "      <td>starved_noWater</td>\n",
       "      <td>std</td>\n",
       "      <td>on</td>\n",
       "      <td>1</td>\n",
       "      <td>n</td>\n",
       "      <td>nn</td>\n",
       "      <td></td>\n",
       "      <td>control</td>\n",
       "      <td>push</td>\n",
       "    </tr>\n",
       "    <tr>\n",
       "      <th>4</th>\n",
       "      <td>4</td>\n",
       "      <td>58.344828</td>\n",
       "      <td>60</td>\n",
       "      <td>3110.448276</td>\n",
       "      <td>240821_F1_3mm_ends_Videos_Checked_arena2_Right</td>\n",
       "      <td>/mnt/upramdya_data/MD/F1_Tracks/Videos/240821_...</td>\n",
       "      <td>240821_F1_3mm_ends_Videos_Checked</td>\n",
       "      <td>PR</td>\n",
       "      <td>Control</td>\n",
       "      <td>240821</td>\n",
       "      <td>...</td>\n",
       "      <td>AM10</td>\n",
       "      <td>starved_noWater</td>\n",
       "      <td>std</td>\n",
       "      <td>on</td>\n",
       "      <td>1</td>\n",
       "      <td>n</td>\n",
       "      <td>nn</td>\n",
       "      <td></td>\n",
       "      <td>control</td>\n",
       "      <td>push</td>\n",
       "    </tr>\n",
       "  </tbody>\n",
       "</table>\n",
       "<p>5 rows × 21 columns</p>\n",
       "</div>"
      ],
      "text/plain": [
       "   index  fly_exit_time distance  adjusted_time  \\\n",
       "0      0      58.344828       10     488.275862   \n",
       "1      1      58.344828       25     492.034483   \n",
       "2      2      58.344828       35     494.586207   \n",
       "3      3      58.344828       50    3109.344828   \n",
       "4      4      58.344828       60    3110.448276   \n",
       "\n",
       "                                              fly  \\\n",
       "0  240821_F1_3mm_ends_Videos_Checked_arena2_Right   \n",
       "1  240821_F1_3mm_ends_Videos_Checked_arena2_Right   \n",
       "2  240821_F1_3mm_ends_Videos_Checked_arena2_Right   \n",
       "3  240821_F1_3mm_ends_Videos_Checked_arena2_Right   \n",
       "4  240821_F1_3mm_ends_Videos_Checked_arena2_Right   \n",
       "\n",
       "                                             flypath  \\\n",
       "0  /mnt/upramdya_data/MD/F1_Tracks/Videos/240821_...   \n",
       "1  /mnt/upramdya_data/MD/F1_Tracks/Videos/240821_...   \n",
       "2  /mnt/upramdya_data/MD/F1_Tracks/Videos/240821_...   \n",
       "3  /mnt/upramdya_data/MD/F1_Tracks/Videos/240821_...   \n",
       "4  /mnt/upramdya_data/MD/F1_Tracks/Videos/240821_...   \n",
       "\n",
       "                          experiment Nickname Brain region    Date  ...  \\\n",
       "0  240821_F1_3mm_ends_Videos_Checked       PR      Control  240821  ...   \n",
       "1  240821_F1_3mm_ends_Videos_Checked       PR      Control  240821  ...   \n",
       "2  240821_F1_3mm_ends_Videos_Checked       PR      Control  240821  ...   \n",
       "3  240821_F1_3mm_ends_Videos_Checked       PR      Control  240821  ...   \n",
       "4  240821_F1_3mm_ends_Videos_Checked       PR      Control  240821  ...   \n",
       "\n",
       "  Period     FeedingState Orientation Light Crossing Pretraining Unlocked    \\\n",
       "0   AM10  starved_noWater         std    on        1           n       nn     \n",
       "1   AM10  starved_noWater         std    on        1           n       nn     \n",
       "2   AM10  starved_noWater         std    on        1           n       nn     \n",
       "3   AM10  starved_noWater         std    on        1           n       nn     \n",
       "4   AM10  starved_noWater         std    on        1           n       nn     \n",
       "\n",
       "  F1_condition success_direction  \n",
       "0      control              push  \n",
       "1      control              push  \n",
       "2      control              push  \n",
       "3      control              push  \n",
       "4      control              push  \n",
       "\n",
       "[5 rows x 21 columns]"
      ]
     },
     "execution_count": 201,
     "metadata": {},
     "output_type": "execute_result"
    }
   ],
   "source": [
    "F1_summary = TestData.generate_dataset(\"F1_checkpoints\")\n",
    "\n",
    "F1_summary.head()"
   ]
  },
  {
   "cell_type": "code",
   "execution_count": 39,
   "metadata": {},
   "outputs": [
    {
     "name": "stdout",
     "output_type": "stream",
     "text": [
      "Aha moment: None\n"
     ]
    }
   ],
   "source": [
    "TroubleFly = Ballpushing_utils.Fly(\n",
    "    \"/mnt/upramdya_data/MD/F1_Tracks/Videos/240821_F1_3mm_ends_Videos_Checked/arena1/Right\",\n",
    "    as_individual=True,\n",
    ")"
   ]
  },
  {
   "cell_type": "code",
   "execution_count": 16,
   "metadata": {},
   "outputs": [
    {
     "data": {
      "text/plain": [
       "{'fly_0_ball_0': {'nb_events': 120,\n",
       "  'max_event': ([np.int64(114445), np.int64(114882), np.int64(437)], 74),\n",
       "  'max_event_time': array([3946.37931034, 3961.44827586,   15.06896552]),\n",
       "  'final_event': ([np.int64(114445), np.int64(114882), np.int64(437)], 74),\n",
       "  'final_event_time': array([3946.37931034, 3961.44827586,   15.06896552]),\n",
       "  'significant_events': [[np.int64(27124), np.int64(27184), np.int64(60)],\n",
       "   [np.int64(30305), np.int64(30396), np.int64(91)],\n",
       "   [np.int64(30543), np.int64(30802), np.int64(259)],\n",
       "   [np.int64(38969), np.int64(39184), np.int64(215)],\n",
       "   [np.int64(44909), np.int64(45157), np.int64(248)],\n",
       "   [np.int64(51267), np.int64(51577), np.int64(310)],\n",
       "   [np.int64(54624), np.int64(54875), np.int64(251)],\n",
       "   [np.int64(55138), np.int64(55543), np.int64(405)],\n",
       "   [np.int64(55694), np.int64(56071), np.int64(377)],\n",
       "   [np.int64(61292), np.int64(61481), np.int64(189)],\n",
       "   [np.int64(63306), np.int64(63545), np.int64(239)],\n",
       "   [np.int64(65909), np.int64(66161), np.int64(252)],\n",
       "   [np.int64(66380), np.int64(66592), np.int64(212)],\n",
       "   [np.int64(73280), np.int64(73593), np.int64(313)],\n",
       "   [np.int64(74595), np.int64(74796), np.int64(201)],\n",
       "   [np.int64(75978), np.int64(76162), np.int64(184)],\n",
       "   [np.int64(76388), np.int64(76593), np.int64(205)],\n",
       "   [np.int64(77129), np.int64(77382), np.int64(253)],\n",
       "   [np.int64(79831), np.int64(80433), np.int64(602)],\n",
       "   [np.int64(80927), np.int64(81147), np.int64(220)],\n",
       "   [np.int64(83998), np.int64(84232), np.int64(234)],\n",
       "   [np.int64(84837), np.int64(85138), np.int64(301)],\n",
       "   [np.int64(85569), np.int64(85778), np.int64(209)],\n",
       "   [np.int64(89102), np.int64(89325), np.int64(223)],\n",
       "   [np.int64(89490), np.int64(89639), np.int64(149)],\n",
       "   [np.int64(91445), np.int64(91774), np.int64(329)],\n",
       "   [np.int64(92788), np.int64(93144), np.int64(356)],\n",
       "   [np.int64(93972), np.int64(94259), np.int64(287)],\n",
       "   [np.int64(101129), np.int64(101308), np.int64(179)],\n",
       "   [np.int64(102466), np.int64(102698), np.int64(232)],\n",
       "   [np.int64(105691), np.int64(106068), np.int64(377)],\n",
       "   [np.int64(106802), np.int64(106867), np.int64(65)],\n",
       "   [np.int64(107789), np.int64(107853), np.int64(64)],\n",
       "   [np.int64(128418), np.int64(129033), np.int64(615)],\n",
       "   [np.int64(133321), np.int64(133699), np.int64(378)],\n",
       "   [np.int64(139591), np.int64(139886), np.int64(295)],\n",
       "   [np.int64(144858), np.int64(145043), np.int64(185)],\n",
       "   [np.int64(148257), np.int64(148496), np.int64(239)],\n",
       "   [np.int64(149124), np.int64(149801), np.int64(677)],\n",
       "   [np.int64(150230), np.int64(150739), np.int64(509)],\n",
       "   [np.int64(155000), np.int64(155330), np.int64(330)],\n",
       "   [np.int64(163860), np.int64(164179), np.int64(319)],\n",
       "   [np.int64(175921), np.int64(176593), np.int64(672)],\n",
       "   [np.int64(178835), np.int64(179125), np.int64(290)],\n",
       "   [np.int64(185873), np.int64(186140), np.int64(267)],\n",
       "   [np.int64(202468), np.int64(203333), np.int64(865)],\n",
       "   [np.int64(203459), np.int64(207001), np.int64(3542)],\n",
       "   [np.int64(207229), np.int64(211077), np.int64(3848)]],\n",
       "  'nb_significant_events': 48,\n",
       "  'first_significant_event': [np.int64(27124), np.int64(27184), np.int64(60)],\n",
       "  'first_significant_event_time': np.float64(935.3103448275862),\n",
       "  'aha_moment': np.int64(27124),\n",
       "  'aha_moment_time': np.float64(935.3103448275862),\n",
       "  'insight_effect': np.float64(0.0),\n",
       "  'breaks': [(0, np.int64(8914), np.int64(8914)),\n",
       "   (np.int64(9189), np.int64(9584), np.int64(395)),\n",
       "   (np.int64(9913), np.int64(13609), np.int64(3696)),\n",
       "   (np.int64(13814), np.int64(24145), np.int64(10331)),\n",
       "   (np.int64(24205), np.int64(27124), np.int64(2919)),\n",
       "   (np.int64(27184), np.int64(28785), np.int64(1601)),\n",
       "   (np.int64(28904), np.int64(30305), np.int64(1401)),\n",
       "   (np.int64(30396), np.int64(30543), np.int64(147)),\n",
       "   (np.int64(30802), np.int64(34136), np.int64(3334)),\n",
       "   (np.int64(34311), np.int64(35226), np.int64(915)),\n",
       "   (np.int64(35349), np.int64(36557), np.int64(1208)),\n",
       "   (np.int64(36706), np.int64(36995), np.int64(289)),\n",
       "   (np.int64(37162), np.int64(38280), np.int64(1118)),\n",
       "   (np.int64(38439), np.int64(38969), np.int64(530)),\n",
       "   (np.int64(39184), np.int64(40107), np.int64(923)),\n",
       "   (np.int64(40239), np.int64(42199), np.int64(1960)),\n",
       "   (np.int64(42281), np.int64(42991), np.int64(710)),\n",
       "   (np.int64(43061), np.int64(43401), np.int64(340)),\n",
       "   (np.int64(43517), np.int64(43713), np.int64(196)),\n",
       "   (np.int64(43852), np.int64(44909), np.int64(1057)),\n",
       "   (np.int64(45157), np.int64(47639), np.int64(2482)),\n",
       "   (np.int64(47762), np.int64(48316), np.int64(554)),\n",
       "   (np.int64(48419), np.int64(49826), np.int64(1407)),\n",
       "   (np.int64(49935), np.int64(50232), np.int64(297)),\n",
       "   (np.int64(50312), np.int64(50645), np.int64(333)),\n",
       "   (np.int64(50712), np.int64(51267), np.int64(555)),\n",
       "   (np.int64(51577), np.int64(53347), np.int64(1770)),\n",
       "   (np.int64(53528), np.int64(54624), np.int64(1096)),\n",
       "   (np.int64(54875), np.int64(55138), np.int64(263)),\n",
       "   (np.int64(55543), np.int64(55694), np.int64(151)),\n",
       "   (np.int64(56071), np.int64(57549), np.int64(1478)),\n",
       "   (np.int64(57613), np.int64(59335), np.int64(1722)),\n",
       "   (np.int64(59436), np.int64(61292), np.int64(1856)),\n",
       "   (np.int64(61481), np.int64(61737), np.int64(256)),\n",
       "   (np.int64(61865), np.int64(62869), np.int64(1004)),\n",
       "   (np.int64(63026), np.int64(63306), np.int64(280)),\n",
       "   (np.int64(63545), np.int64(65909), np.int64(2364)),\n",
       "   (np.int64(66161), np.int64(66380), np.int64(219)),\n",
       "   (np.int64(66592), np.int64(68884), np.int64(2292)),\n",
       "   (np.int64(69038), np.int64(71256), np.int64(2218)),\n",
       "   (np.int64(71425), np.int64(71807), np.int64(382)),\n",
       "   (np.int64(72097), np.int64(73280), np.int64(1183)),\n",
       "   (np.int64(73593), np.int64(74595), np.int64(1002)),\n",
       "   (np.int64(74796), np.int64(75978), np.int64(1182)),\n",
       "   (np.int64(76162), np.int64(76388), np.int64(226)),\n",
       "   (np.int64(76593), np.int64(77129), np.int64(536)),\n",
       "   (np.int64(77382), np.int64(77933), np.int64(551)),\n",
       "   (np.int64(78014), np.int64(78866), np.int64(852)),\n",
       "   (np.int64(79068), np.int64(79252), np.int64(184)),\n",
       "   (np.int64(79447), np.int64(79831), np.int64(384)),\n",
       "   (np.int64(80433), np.int64(80927), np.int64(494)),\n",
       "   (np.int64(81147), np.int64(81972), np.int64(825)),\n",
       "   (np.int64(82051), np.int64(82271), np.int64(220)),\n",
       "   (np.int64(82427), np.int64(83998), np.int64(1571)),\n",
       "   (np.int64(84232), np.int64(84837), np.int64(605)),\n",
       "   (np.int64(85138), np.int64(85569), np.int64(431)),\n",
       "   (np.int64(85778), np.int64(87778), np.int64(2000)),\n",
       "   (np.int64(87995), np.int64(88640), np.int64(645)),\n",
       "   (np.int64(88743), np.int64(89102), np.int64(359)),\n",
       "   (np.int64(89325), np.int64(89490), np.int64(165)),\n",
       "   (np.int64(89639), np.int64(90069), np.int64(430)),\n",
       "   (np.int64(90622), np.int64(90922), np.int64(300)),\n",
       "   (np.int64(91073), np.int64(91445), np.int64(372)),\n",
       "   (np.int64(91774), np.int64(92788), np.int64(1014)),\n",
       "   (np.int64(93144), np.int64(93972), np.int64(828)),\n",
       "   (np.int64(94259), np.int64(94585), np.int64(326)),\n",
       "   (np.int64(94697), np.int64(96568), np.int64(1871)),\n",
       "   (np.int64(96756), np.int64(97448), np.int64(692)),\n",
       "   (np.int64(97548), np.int64(101129), np.int64(3581)),\n",
       "   (np.int64(101308), np.int64(102466), np.int64(1158)),\n",
       "   (np.int64(102698), np.int64(104728), np.int64(2030)),\n",
       "   (np.int64(104912), np.int64(105691), np.int64(779)),\n",
       "   (np.int64(106068), np.int64(106802), np.int64(734)),\n",
       "   (np.int64(106867), np.int64(107789), np.int64(922)),\n",
       "   (np.int64(107853), np.int64(114445), np.int64(6592)),\n",
       "   (np.int64(114882), np.int64(115702), np.int64(820)),\n",
       "   (np.int64(115840), np.int64(118688), np.int64(2848)),\n",
       "   (np.int64(118748), np.int64(119753), np.int64(1005)),\n",
       "   (np.int64(119856), np.int64(121668), np.int64(1812)),\n",
       "   (np.int64(122044), np.int64(122570), np.int64(526)),\n",
       "   (np.int64(122652), np.int64(123108), np.int64(456)),\n",
       "   (np.int64(123232), np.int64(123673), np.int64(441)),\n",
       "   (np.int64(123940), np.int64(126516), np.int64(2576)),\n",
       "   (np.int64(126780), np.int64(128418), np.int64(1638)),\n",
       "   (np.int64(129033), np.int64(131186), np.int64(2153)),\n",
       "   (np.int64(131341), np.int64(132506), np.int64(1165)),\n",
       "   (np.int64(133026), np.int64(133321), np.int64(295)),\n",
       "   (np.int64(133699), np.int64(137618), np.int64(3919)),\n",
       "   (np.int64(137730), np.int64(139591), np.int64(1861)),\n",
       "   (np.int64(139886), np.int64(140122), np.int64(236)),\n",
       "   (np.int64(140425), np.int64(141693), np.int64(1268)),\n",
       "   (np.int64(141860), np.int64(144858), np.int64(2998)),\n",
       "   (np.int64(145043), np.int64(148257), np.int64(3214)),\n",
       "   (np.int64(148496), np.int64(148704), np.int64(208)),\n",
       "   (np.int64(148914), np.int64(149124), np.int64(210)),\n",
       "   (np.int64(149801), np.int64(150230), np.int64(429)),\n",
       "   (np.int64(150739), np.int64(155000), np.int64(4261)),\n",
       "   (np.int64(155330), np.int64(160801), np.int64(5471)),\n",
       "   (np.int64(161010), np.int64(163860), np.int64(2850)),\n",
       "   (np.int64(164179), np.int64(167062), np.int64(2883)),\n",
       "   (np.int64(167338), np.int64(170763), np.int64(3425)),\n",
       "   (np.int64(170959), np.int64(172570), np.int64(1611)),\n",
       "   (np.int64(172837), np.int64(173618), np.int64(781)),\n",
       "   (np.int64(174101), np.int64(175921), np.int64(1820)),\n",
       "   (np.int64(176593), np.int64(177078), np.int64(485)),\n",
       "   (np.int64(177438), np.int64(178835), np.int64(1397)),\n",
       "   (np.int64(179125), np.int64(181220), np.int64(2095)),\n",
       "   (np.int64(181975), np.int64(183453), np.int64(1478)),\n",
       "   (np.int64(183569), np.int64(184342), np.int64(773)),\n",
       "   (np.int64(184612), np.int64(185873), np.int64(1261)),\n",
       "   (np.int64(186140), np.int64(186781), np.int64(641)),\n",
       "   (np.int64(186948), np.int64(187311), np.int64(363)),\n",
       "   (np.int64(188067), np.int64(188712), np.int64(645)),\n",
       "   (np.int64(188869), np.int64(190576), np.int64(1707)),\n",
       "   (np.int64(190722), np.int64(202468), np.int64(11746)),\n",
       "   (np.int64(203333), np.int64(203459), np.int64(126)),\n",
       "   (np.int64(207001), np.int64(207229), np.int64(228)),\n",
       "   (np.int64(211077), np.int64(214165), np.int64(3088)),\n",
       "   (np.int64(214685), np.int64(216177), np.int64(1492)),\n",
       "   (np.int64(217606), np.int64(247577), np.int64(29971)),\n",
       "   (np.int64(247695), 261006, np.int64(13311))],\n",
       "  'cumulated_breaks_duration': np.int64(223994),\n",
       "  'events_direction': ([[np.int64(38969), np.int64(39184), np.int64(215)],\n",
       "    [np.int64(44909), np.int64(45157), np.int64(248)],\n",
       "    [np.int64(61292), np.int64(61481), np.int64(189)],\n",
       "    [np.int64(63306), np.int64(63545), np.int64(239)],\n",
       "    [np.int64(76388), np.int64(76593), np.int64(205)],\n",
       "    [np.int64(80927), np.int64(81147), np.int64(220)],\n",
       "    [np.int64(89490), np.int64(89639), np.int64(149)],\n",
       "    [np.int64(91445), np.int64(91774), np.int64(329)],\n",
       "    [np.int64(92788), np.int64(93144), np.int64(356)],\n",
       "    [np.int64(102466), np.int64(102698), np.int64(232)],\n",
       "    [np.int64(144858), np.int64(145043), np.int64(185)],\n",
       "    [np.int64(148257), np.int64(148496), np.int64(239)],\n",
       "    [np.int64(149124), np.int64(149801), np.int64(677)],\n",
       "    [np.int64(175921), np.int64(176593), np.int64(672)],\n",
       "    [np.int64(202468), np.int64(203333), np.int64(865)]],\n",
       "   [[np.int64(27124), np.int64(27184), np.int64(60)],\n",
       "    [np.int64(30305), np.int64(30396), np.int64(91)],\n",
       "    [np.int64(30543), np.int64(30802), np.int64(259)],\n",
       "    [np.int64(51267), np.int64(51577), np.int64(310)],\n",
       "    [np.int64(54624), np.int64(54875), np.int64(251)],\n",
       "    [np.int64(55138), np.int64(55543), np.int64(405)],\n",
       "    [np.int64(55694), np.int64(56071), np.int64(377)],\n",
       "    [np.int64(65909), np.int64(66161), np.int64(252)],\n",
       "    [np.int64(66380), np.int64(66592), np.int64(212)],\n",
       "    [np.int64(73280), np.int64(73593), np.int64(313)],\n",
       "    [np.int64(74595), np.int64(74796), np.int64(201)],\n",
       "    [np.int64(75978), np.int64(76162), np.int64(184)],\n",
       "    [np.int64(77129), np.int64(77382), np.int64(253)],\n",
       "    [np.int64(79831), np.int64(80433), np.int64(602)],\n",
       "    [np.int64(83998), np.int64(84232), np.int64(234)],\n",
       "    [np.int64(84837), np.int64(85138), np.int64(301)],\n",
       "    [np.int64(85569), np.int64(85778), np.int64(209)],\n",
       "    [np.int64(89102), np.int64(89325), np.int64(223)],\n",
       "    [np.int64(93972), np.int64(94259), np.int64(287)],\n",
       "    [np.int64(101129), np.int64(101308), np.int64(179)],\n",
       "    [np.int64(105691), np.int64(106068), np.int64(377)],\n",
       "    [np.int64(106802), np.int64(106867), np.int64(65)],\n",
       "    [np.int64(107789), np.int64(107853), np.int64(64)],\n",
       "    [np.int64(128418), np.int64(129033), np.int64(615)],\n",
       "    [np.int64(133321), np.int64(133699), np.int64(378)],\n",
       "    [np.int64(139591), np.int64(139886), np.int64(295)],\n",
       "    [np.int64(150230), np.int64(150739), np.int64(509)],\n",
       "    [np.int64(155000), np.int64(155330), np.int64(330)],\n",
       "    [np.int64(163860), np.int64(164179), np.int64(319)],\n",
       "    [np.int64(178835), np.int64(179125), np.int64(290)],\n",
       "    [np.int64(185873), np.int64(186140), np.int64(267)],\n",
       "    [np.int64(203459), np.int64(207001), np.int64(3542)],\n",
       "    [np.int64(207229), np.int64(211077), np.int64(3848)]]),\n",
       "  'pushed': 15,\n",
       "  'pulled': 33,\n",
       "  'pulling_ratio': 0.6875,\n",
       "  'interaction_proportion': np.float64(0.14180516922982614),\n",
       "  'distance_moved': np.float64(42435490.38593846)},\n",
       " 'fly_0_ball_1': {'nb_events': 55,\n",
       "  'max_event': ([np.int64(197062), np.int64(197340), np.int64(278)], 41),\n",
       "  'max_event_time': array([6795.24137931, 6804.82758621,    9.5862069 ]),\n",
       "  'final_event': ([np.int64(114445), np.int64(114882), np.int64(437)], 74),\n",
       "  'final_event_time': array([3946.37931034, 3961.44827586,   15.06896552]),\n",
       "  'significant_events': [[np.int64(116587), np.int64(116743), np.int64(156)],\n",
       "   [np.int64(135918), np.int64(136049), np.int64(131)],\n",
       "   [np.int64(192311), np.int64(192988), np.int64(677)],\n",
       "   [np.int64(197062), np.int64(197340), np.int64(278)],\n",
       "   [np.int64(211662), np.int64(213193), np.int64(1531)],\n",
       "   [np.int64(217847), np.int64(218583), np.int64(736)],\n",
       "   [np.int64(219231), np.int64(220299), np.int64(1068)],\n",
       "   [np.int64(220891), np.int64(223510), np.int64(2619)],\n",
       "   [np.int64(225591), np.int64(227234), np.int64(1643)],\n",
       "   [np.int64(227677), np.int64(234270), np.int64(6593)]],\n",
       "  'nb_significant_events': 10,\n",
       "  'first_significant_event': [np.int64(116587),\n",
       "   np.int64(116743),\n",
       "   np.int64(156)],\n",
       "  'first_significant_event_time': np.float64(4020.2413793103447),\n",
       "  'aha_moment': np.int64(192311),\n",
       "  'aha_moment_time': np.float64(6631.413793103448),\n",
       "  'insight_effect': np.float64(0.2130553458446833),\n",
       "  'breaks': [(0, np.int64(108697), np.int64(108697)),\n",
       "   (np.int64(108820), np.int64(111155), np.int64(2335)),\n",
       "   (np.int64(111774), np.int64(112096), np.int64(322)),\n",
       "   (np.int64(112189), np.int64(113159), np.int64(970)),\n",
       "   (np.int64(113224), np.int64(116587), np.int64(3363)),\n",
       "   (np.int64(116743), np.int64(118239), np.int64(1496)),\n",
       "   (np.int64(118328), np.int64(127014), np.int64(8686)),\n",
       "   (np.int64(127093), np.int64(129726), np.int64(2633)),\n",
       "   (np.int64(129917), np.int64(133929), np.int64(4012)),\n",
       "   (np.int64(134135), np.int64(135918), np.int64(1783)),\n",
       "   (np.int64(136049), np.int64(136381), np.int64(332)),\n",
       "   (np.int64(136445), np.int64(137975), np.int64(1530)),\n",
       "   (np.int64(138061), np.int64(139052), np.int64(991)),\n",
       "   (np.int64(139144), np.int64(142511), np.int64(3367)),\n",
       "   (np.int64(142666), np.int64(144358), np.int64(1692)),\n",
       "   (np.int64(144531), np.int64(145498), np.int64(967)),\n",
       "   (np.int64(145638), np.int64(146677), np.int64(1039)),\n",
       "   (np.int64(146751), np.int64(151796), np.int64(5045)),\n",
       "   (np.int64(152416), np.int64(153423), np.int64(1007)),\n",
       "   (np.int64(153738), np.int64(156147), np.int64(2409)),\n",
       "   (np.int64(156277), np.int64(156717), np.int64(440)),\n",
       "   (np.int64(156852), np.int64(157387), np.int64(535)),\n",
       "   (np.int64(157487), np.int64(157808), np.int64(321)),\n",
       "   (np.int64(157941), np.int64(158621), np.int64(680)),\n",
       "   (np.int64(158765), np.int64(159148), np.int64(383)),\n",
       "   (np.int64(159707), np.int64(162797), np.int64(3090)),\n",
       "   (np.int64(162911), np.int64(163303), np.int64(392)),\n",
       "   (np.int64(163426), np.int64(164991), np.int64(1565)),\n",
       "   (np.int64(165313), np.int64(165723), np.int64(410)),\n",
       "   (np.int64(165830), np.int64(167564), np.int64(1734)),\n",
       "   (np.int64(167711), np.int64(168134), np.int64(423)),\n",
       "   (np.int64(168311), np.int64(171449), np.int64(3138)),\n",
       "   (np.int64(171593), np.int64(174362), np.int64(2769)),\n",
       "   (np.int64(174580), np.int64(178200), np.int64(3620)),\n",
       "   (np.int64(178377), np.int64(180034), np.int64(1657)),\n",
       "   (np.int64(180119), np.int64(189213), np.int64(9094)),\n",
       "   (np.int64(189741), np.int64(192311), np.int64(2570)),\n",
       "   (np.int64(192988), np.int64(193946), np.int64(958)),\n",
       "   (np.int64(194136), np.int64(194750), np.int64(614)),\n",
       "   (np.int64(194930), np.int64(195596), np.int64(666)),\n",
       "   (np.int64(195731), np.int64(196343), np.int64(612)),\n",
       "   (np.int64(196455), np.int64(197062), np.int64(607)),\n",
       "   (np.int64(197340), np.int64(197984), np.int64(644)),\n",
       "   (np.int64(198119), np.int64(198849), np.int64(730)),\n",
       "   (np.int64(199077), np.int64(200130), np.int64(1053)),\n",
       "   (np.int64(201555), np.int64(211662), np.int64(10107)),\n",
       "   (np.int64(213193), np.int64(217847), np.int64(4654)),\n",
       "   (np.int64(218583), np.int64(219231), np.int64(648)),\n",
       "   (np.int64(220299), np.int64(220891), np.int64(592)),\n",
       "   (np.int64(223510), np.int64(223848), np.int64(338)),\n",
       "   (np.int64(224297), np.int64(225591), np.int64(1294)),\n",
       "   (np.int64(227234), np.int64(227677), np.int64(443)),\n",
       "   (np.int64(234270), np.int64(235419), np.int64(1149)),\n",
       "   (np.int64(241807), np.int64(245904), np.int64(4097)),\n",
       "   (np.int64(246241), np.int64(247943), np.int64(1702)),\n",
       "   (np.int64(258112), 261006, np.int64(2894))],\n",
       "  'cumulated_breaks_duration': np.int64(219299),\n",
       "  'events_direction': ([[np.int64(116587), np.int64(116743), np.int64(156)],\n",
       "    [np.int64(135918), np.int64(136049), np.int64(131)],\n",
       "    [np.int64(192311), np.int64(192988), np.int64(677)],\n",
       "    [np.int64(197062), np.int64(197340), np.int64(278)],\n",
       "    [np.int64(217847), np.int64(218583), np.int64(736)],\n",
       "    [np.int64(220891), np.int64(223510), np.int64(2619)],\n",
       "    [np.int64(227677), np.int64(234270), np.int64(6593)]],\n",
       "   [[np.int64(211662), np.int64(213193), np.int64(1531)],\n",
       "    [np.int64(219231), np.int64(220299), np.int64(1068)],\n",
       "    [np.int64(225591), np.int64(227234), np.int64(1643)]]),\n",
       "  'pushed': 7,\n",
       "  'pulled': 3,\n",
       "  'pulling_ratio': 0.3,\n",
       "  'interaction_proportion': np.float64(0.159793261457591),\n",
       "  'distance_moved': np.float64(6031626.427367555)}}"
      ]
     },
     "execution_count": 16,
     "metadata": {},
     "output_type": "execute_result"
    }
   ],
   "source": [
    "TroubleFly.metrics"
   ]
  },
  {
   "cell_type": "code",
   "execution_count": 19,
   "metadata": {},
   "outputs": [
    {
     "name": "stdout",
     "output_type": "stream",
     "text": [
      "{'fly_0_ball_0': {'nb_events': np.float64(4.47334120024372), 'max_event': 19, 'max_event_time': np.float64(3816.6896551724135), 'max_distance': np.float64(104.37042494256008), 'final_event': 19, 'final_event_time': np.float64(3816.6896551724135), 'nb_significant_events': np.float64(0.44733412002437195), 'significant_ratio': np.float64(0.09999999999999999), 'first_significant_event': 8, 'first_significant_event_time': np.float64(490.4482758620689), 'aha_moment': 13, 'aha_moment_time': np.float64(1898.8620689655172), 'insight_effect': np.float64(inf), 'cumulated_breaks_duration': np.int64(254507), 'pushed': 3, 'pulled': 1, 'pulling_ratio': 0.25, 'success_direction': 'push', 'interaction_proportion': np.float64(0.02489981073232033), 'distance_moved': np.float64(18401644.959510148), 'exit_time': np.float64(58.3448275862069)}}\n",
      "{'fly_0_ball_0': {'nb_events': np.float64(2.545869546132912), 'max_event': 13, 'max_event_time': np.float64(5465.793103448275), 'max_distance': np.float64(98.33829454701147), 'final_event': None, 'final_event_time': None, 'nb_significant_events': np.float64(0.12123188314918627), 'significant_ratio': np.float64(0.047619047619047616), 'first_significant_event': 11, 'first_significant_event_time': np.float64(1095.1034482758619), 'aha_moment': 11, 'aha_moment_time': np.float64(1095.1034482758619), 'insight_effect': np.float64(inf), 'cumulated_breaks_duration': np.int64(246796), 'pushed': 1, 'pulled': 0, 'pulling_ratio': 0.0, 'success_direction': 'push', 'interaction_proportion': np.float64(0.054443192876792106), 'distance_moved': np.float64(15532144.782425703), 'exit_time': np.float64(751.551724137931)}}\n",
      "{'fly_0_ball_0': {'nb_events': np.float64(15.267669117375402), 'max_event': 50, 'max_event_time': np.float64(7655.827586206897), 'max_distance': np.float64(225.6286186189034), 'final_event': 49, 'final_event_time': np.float64(6764.172413793103), 'nb_significant_events': np.float64(0.8035615324934422), 'significant_ratio': np.float64(0.052631578947368425), 'first_significant_event': 49, 'first_significant_event_time': np.float64(6764.172413793103), 'aha_moment': 50, 'aha_moment_time': np.float64(7655.827586206897), 'insight_effect': np.float64(inf), 'cumulated_breaks_duration': np.int64(251679), 'pushed': 2, 'pulled': 1, 'pulling_ratio': 0.3333333333333333, 'success_direction': 'both', 'interaction_proportion': np.float64(0.03573481069400703), 'distance_moved': np.float64(26562811.2635347), 'exit_time': np.float64(3733.3793103448274)}, 'fly_0_ball_1': {'nb_events': np.float64(23.353716822270815), 'max_event': 19, 'max_event_time': np.float64(1789.5172413793102), 'max_distance': np.float64(87.21726538862053), 'final_event': None, 'final_event_time': None, 'nb_significant_events': np.float64(0.5696028493236784), 'significant_ratio': np.float64(0.024390243902439025), 'first_significant_event': 19, 'first_significant_event_time': np.float64(1789.5172413793102), 'aha_moment': None, 'aha_moment_time': None, 'insight_effect': np.float64(1.0), 'cumulated_breaks_duration': np.int64(236881), 'pushed': 1, 'pulled': 2, 'pulling_ratio': 0.6666666666666666, 'success_direction': 'pull', 'interaction_proportion': np.float64(0.09243082534501122), 'distance_moved': np.float64(6417956.668376966), 'exit_time': np.float64(3733.3793103448274)}}\n",
      "{'fly_0_ball_0': {'nb_events': np.float64(20.30213706705969), 'max_event': 62, 'max_event_time': np.float64(5242.931034482759), 'max_distance': np.float64(177.71648113826015), 'final_event': 62, 'final_event_time': np.float64(5242.931034482759), 'nb_significant_events': np.float64(1.6028002947678703), 'significant_ratio': np.float64(0.07894736842105264), 'first_significant_event': 0, 'first_significant_event_time': np.float64(250.75862068965517), 'aha_moment': 61, 'aha_moment_time': np.float64(5153.137931034483), 'insight_effect': np.float64(inf), 'cumulated_breaks_duration': np.int64(246871), 'pushed': 2, 'pulled': 4, 'pulling_ratio': 0.6666666666666666, 'success_direction': 'both', 'interaction_proportion': np.float64(0.05415584316069363), 'distance_moved': np.float64(29351235.4444186), 'exit_time': np.float64(3743.448275862069)}, 'fly_0_ball_1': {'nb_events': np.float64(6.658095325557902), 'max_event': 9, 'max_event_time': np.float64(1243.9655172413795), 'max_distance': np.float64(25.87426013324386), 'final_event': None, 'final_event_time': None, 'nb_significant_events': np.float64(0.9511564750797002), 'significant_ratio': np.float64(0.14285714285714285), 'first_significant_event': 10, 'first_significant_event_time': np.float64(1281.8965517241377), 'aha_moment': None, 'aha_moment_time': None, 'insight_effect': np.float64(1.0), 'cumulated_breaks_duration': np.int64(254278), 'pushed': 1, 'pulled': 4, 'pulling_ratio': 0.8, 'success_direction': 'push', 'interaction_proportion': np.float64(0.02577718519880769), 'distance_moved': np.float64(1988689.8114251418), 'exit_time': np.float64(3743.448275862069)}}\n",
      "{'fly_0_ball_0': {'nb_events': 0, 'max_event': None, 'max_event_time': None, 'max_distance': np.float64(2.026683948294573), 'final_event': None, 'final_event_time': None, 'nb_significant_events': 0, 'significant_ratio': None, 'first_significant_event': None, 'first_significant_event_time': None, 'aha_moment': None, 'aha_moment_time': None, 'insight_effect': np.float64(nan), 'cumulated_breaks_duration': 261006, 'pushed': 0, 'pulled': 0, 'pulling_ratio': None, 'success_direction': None, 'interaction_proportion': 0.0, 'distance_moved': np.float64(230422.70213576258), 'exit_time': None}}\n",
      "{'fly_0_ball_0': {'nb_events': np.float64(10.373650655654567), 'max_event': 48, 'max_event_time': np.float64(4215.827586206897), 'max_distance': np.float64(83.18939739897071), 'final_event': None, 'final_event_time': None, 'nb_significant_events': np.float64(1.5757444033905672), 'significant_ratio': np.float64(0.1518987341772152), 'first_significant_event': 1, 'first_significant_event_time': np.float64(44.0), 'aha_moment': 15, 'aha_moment_time': np.float64(847.3103448275863), 'insight_effect': np.float64(inf), 'cumulated_breaks_duration': np.int64(237119), 'pushed': 5, 'pulled': 7, 'pulling_ratio': 0.5833333333333334, 'success_direction': 'pull', 'interaction_proportion': np.float64(0.09151896891259205), 'distance_moved': np.float64(12685469.510100106), 'exit_time': np.float64(1384.7586206896551)}}\n",
      "{'fly_0_ball_0': {'nb_events': np.float64(1.7231339647529973), 'max_event': 1, 'max_event_time': np.float64(1335.103448275862), 'max_distance': np.float64(55.695518402115766), 'final_event': None, 'final_event_time': None, 'nb_significant_events': np.float64(0.0), 'significant_ratio': np.float64(0.0), 'first_significant_event': None, 'first_significant_event_time': None, 'aha_moment': None, 'aha_moment_time': None, 'insight_effect': np.float64(nan), 'cumulated_breaks_duration': np.int64(256822), 'pushed': 0, 'pulled': 0, 'pulling_ratio': None, 'success_direction': 'push', 'interaction_proportion': np.float64(0.01603028282874723), 'distance_moved': np.float64(10063447.206625812), 'exit_time': np.float64(295.13793103448273)}}\n",
      "{'fly_0_ball_0': {'nb_events': np.float64(21.17931764655042), 'max_event': 24, 'max_event_time': np.float64(1893.344827586207), 'max_distance': np.float64(69.95861618296522), 'final_event': None, 'final_event_time': None, 'nb_significant_events': np.float64(0.5012856247704242), 'significant_ratio': np.float64(0.023668639053254437), 'first_significant_event': 6, 'first_significant_event_time': np.float64(727.4137931034483), 'aha_moment': None, 'aha_moment_time': None, 'insight_effect': np.float64(1.0), 'cumulated_breaks_duration': np.int64(220843), 'pushed': 1, 'pulled': 3, 'pulling_ratio': 0.75, 'success_direction': 'pull', 'interaction_proportion': np.float64(0.1538776886355103), 'distance_moved': np.float64(10378687.993775344), 'exit_time': np.float64(1020.7241379310345)}}\n",
      "{'fly_0_ball_0': {'nb_events': np.float64(2.7099004812409473), 'max_event': 16, 'max_event_time': np.float64(5239.689655172414), 'max_distance': np.float64(103.54601495698807), 'final_event': 17, 'final_event_time': np.float64(5381.931034482758), 'nb_significant_events': np.float64(0.12317729460186125), 'significant_ratio': np.float64(0.045454545454545456), 'first_significant_event': 16, 'first_significant_event_time': np.float64(5239.689655172414), 'aha_moment': 16, 'aha_moment_time': np.float64(5239.689655172414), 'insight_effect': np.float64(inf), 'cumulated_breaks_duration': np.int64(257401), 'pushed': 1, 'pulled': 0, 'pulling_ratio': 0.0, 'success_direction': 'push', 'interaction_proportion': np.float64(0.013811943020466962), 'distance_moved': np.float64(8805640.233702635), 'exit_time': np.float64(881.8275862068965)}}\n",
      "{'fly_0_ball_0': {'nb_events': np.float64(3.8643995522626726), 'max_event': 0, 'max_event_time': np.float64(358.9655172413791), 'max_distance': np.float64(1.422051713517558), 'final_event': None, 'final_event_time': None, 'nb_significant_events': np.float64(0.0), 'significant_ratio': np.float64(0.0), 'first_significant_event': None, 'first_significant_event_time': None, 'aha_moment': None, 'aha_moment_time': None, 'insight_effect': np.float64(nan), 'cumulated_breaks_duration': np.int64(236128), 'pushed': 0, 'pulled': 0, 'pulling_ratio': None, 'success_direction': None, 'interaction_proportion': np.float64(0.09531581649463997), 'distance_moved': np.float64(247469.87641062326), 'exit_time': np.float64(3824.7586206896553)}}\n",
      "{'fly_0_ball_0': {'nb_events': np.float64(33.5535173342309), 'max_event': None, 'max_event_time': None, 'max_distance': np.float64(279.31390287886603), 'final_event': 64, 'final_event_time': np.float64(3254.4137931034484), 'nb_significant_events': np.float64(8.845927297206327), 'significant_ratio': np.float64(0.2636363636363636), 'first_significant_event': 8, 'first_significant_event_time': np.float64(1093.655172413793), 'aha_moment': 26, 'aha_moment_time': np.float64(1822.9310344827586), 'insight_effect': np.float64(8.628215914215144), 'cumulated_breaks_duration': np.int64(232611), 'pushed': 14, 'pulled': 15, 'pulling_ratio': 0.5172413793103449, 'success_direction': 'both', 'interaction_proportion': np.float64(0.10879060251488472), 'distance_moved': np.float64(33006525.649870377), 'exit_time': np.float64(3278.344827586207)}, 'fly_0_ball_1': {'nb_events': np.float64(4.19443875275712), 'max_event': 16, 'max_event_time': np.float64(2614.034482758621), 'max_distance': np.float64(101.91729100078835), 'final_event': 21, 'final_event_time': np.float64(5493.862068965518), 'nb_significant_events': np.float64(0.34953656272975997), 'significant_ratio': np.float64(0.08333333333333333), 'first_significant_event': 8, 'first_significant_event_time': np.float64(1644.3103448275865), 'aha_moment': 15, 'aha_moment_time': np.float64(2558.1379310344823), 'insight_effect': np.float64(inf), 'cumulated_breaks_duration': np.int64(256912), 'pushed': 1, 'pulled': 1, 'pulling_ratio': 0.5, 'success_direction': 'push', 'interaction_proportion': np.float64(0.015685463169429054), 'distance_moved': np.float64(9207874.670023452), 'exit_time': np.float64(3278.344827586207)}}\n",
      "{'fly_0_ball_0': {'nb_events': np.float64(3.5554738205251986), 'max_event': 31, 'max_event_time': np.float64(3779.7586206896553), 'max_distance': np.float64(250.08486079529095), 'final_event': 31, 'final_event_time': np.float64(3779.7586206896553), 'nb_significant_events': np.float64(1.2221941258055369), 'significant_ratio': np.float64(0.34374999999999994), 'first_significant_event': 8, 'first_significant_event_time': np.float64(1582.9310344827586), 'aha_moment': 8, 'aha_moment_time': np.float64(1582.9310344827586), 'insight_effect': np.float64(0.43467522102463096), 'cumulated_breaks_duration': np.int64(83273), 'pushed': 6, 'pulled': 5, 'pulling_ratio': 0.45454545454545453, 'success_direction': 'both', 'interaction_proportion': np.float64(0.6809536945510831), 'distance_moved': np.float64(6361993.333513403), 'exit_time': None}, 'fly_0_ball_1': {'nb_events': 0, 'max_event': None, 'max_event_time': None, 'max_distance': np.float64(2.0930945723223413), 'final_event': None, 'final_event_time': None, 'nb_significant_events': 0, 'significant_ratio': None, 'first_significant_event': None, 'first_significant_event_time': None, 'aha_moment': None, 'aha_moment_time': None, 'insight_effect': np.float64(nan), 'cumulated_breaks_duration': 261006, 'pushed': 0, 'pulled': 0, 'pulling_ratio': None, 'success_direction': None, 'interaction_proportion': 0.0, 'distance_moved': np.float64(384127.1491419052), 'exit_time': None}}\n",
      "{'fly_0_ball_0': {'nb_events': np.float64(15.813405335045426), 'max_event': 41, 'max_event_time': np.float64(4083.0689655172414), 'max_distance': np.float64(236.5850330657165), 'final_event': 39, 'final_event_time': np.float64(3823.137931034483), 'nb_significant_events': np.float64(0.2550549247587972), 'significant_ratio': np.float64(0.01612903225806452), 'first_significant_event': 30, 'first_significant_event_time': np.float64(3162.2758620689656), 'aha_moment': None, 'aha_moment_time': None, 'insight_effect': np.float64(1.0), 'cumulated_breaks_duration': np.int64(250816), 'pushed': 1, 'pulled': 0, 'pulling_ratio': 0.0, 'success_direction': 'both', 'interaction_proportion': np.float64(0.03904124809391355), 'distance_moved': np.float64(35189219.81350714), 'exit_time': np.float64(3920.7241379310344)}, 'fly_0_ball_1': {'nb_events': np.float64(10.040392383150605), 'max_event': 25, 'max_event_time': np.float64(3221.8965517241377), 'max_distance': np.float64(76.810968222962), 'final_event': None, 'final_event_time': None, 'nb_significant_events': np.float64(0.9843521944265299), 'significant_ratio': np.float64(0.09803921568627451), 'first_significant_event': 1, 'first_significant_event_time': np.float64(373.5172413793107), 'aha_moment': None, 'aha_moment_time': None, 'insight_effect': np.float64(1.0), 'cumulated_breaks_duration': np.int64(252106), 'pushed': 2, 'pulled': 3, 'pulling_ratio': 0.6, 'success_direction': 'pull', 'interaction_proportion': np.float64(0.03409883297701968), 'distance_moved': np.float64(8319948.089091347), 'exit_time': np.float64(3920.7241379310344)}}\n",
      "{'fly_0_ball_0': {'nb_events': np.float64(35.04356595767878), 'max_event': 100, 'max_event_time': np.float64(4122.689655172414), 'max_distance': np.float64(233.67670696422488), 'final_event': 100, 'final_event_time': np.float64(4122.689655172414), 'nb_significant_events': np.float64(4.742738249911414), 'significant_ratio': np.float64(0.13533834586466167), 'first_significant_event': 35, 'first_significant_event_time': np.float64(1976.3103448275863), 'aha_moment': 99, 'aha_moment_time': np.float64(3697.4827586206898), 'insight_effect': np.float64(inf), 'cumulated_breaks_duration': np.int64(233860), 'pushed': 8, 'pulled': 10, 'pulling_ratio': 0.5555555555555556, 'success_direction': 'both', 'interaction_proportion': np.float64(0.10400527190945802), 'distance_moved': np.float64(28649878.494956315), 'exit_time': np.float64(3795.2758620689656)}, 'fly_0_ball_1': {'nb_events': np.float64(2.8818825649417326), 'max_event': 10, 'max_event_time': np.float64(3162.7931034482754), 'max_distance': np.float64(50.73636722098872), 'final_event': None, 'final_event_time': None, 'nb_significant_events': np.float64(0.0), 'significant_ratio': np.float64(0.0), 'first_significant_event': None, 'first_significant_event_time': None, 'aha_moment': None, 'aha_moment_time': None, 'insight_effect': np.float64(nan), 'cumulated_breaks_duration': np.int64(259017), 'pushed': 0, 'pulled': 0, 'pulling_ratio': None, 'success_direction': 'push', 'interaction_proportion': np.float64(0.007620514470931703), 'distance_moved': np.float64(5813140.734457008), 'exit_time': np.float64(3795.2758620689656)}}\n",
      "{'fly_0_ball_0': {'nb_events': np.float64(27.633808535408143), 'max_event': 9, 'max_event_time': np.float64(578.8275862068965), 'max_distance': np.float64(69.05790592672076), 'final_event': None, 'final_event_time': None, 'nb_significant_events': np.float64(0.12014699363220932), 'significant_ratio': np.float64(0.004347826086956522), 'first_significant_event': 30, 'first_significant_event_time': np.float64(1356.5862068965516), 'aha_moment': None, 'aha_moment_time': None, 'insight_effect': np.float64(1.0), 'cumulated_breaks_duration': np.int64(221752), 'pushed': 0, 'pulled': 1, 'pulling_ratio': 1.0, 'success_direction': 'pull', 'interaction_proportion': np.float64(0.15039501007639672), 'distance_moved': np.float64(12092108.649417114), 'exit_time': np.float64(677.0689655172414)}}\n",
      "{'fly_0_ball_0': {'nb_events': np.float64(4.414356673609999), 'max_event': 0, 'max_event_time': np.float64(234.62068965517244), 'max_distance': np.float64(11.300323759286854), 'final_event': None, 'final_event_time': None, 'nb_significant_events': np.float64(0.0), 'significant_ratio': np.float64(0.0), 'first_significant_event': None, 'first_significant_event_time': None, 'aha_moment': None, 'aha_moment_time': None, 'insight_effect': np.float64(nan), 'cumulated_breaks_duration': np.int64(251450), 'pushed': 0, 'pulled': 0, 'pulling_ratio': None, 'success_direction': None, 'interaction_proportion': np.float64(0.036612185160494394), 'distance_moved': np.float64(1214869.4830390005), 'exit_time': np.float64(391.9310344827586)}}\n",
      "{'fly_0_ball_0': {'nb_events': np.float64(32.13682159446656), 'max_event': 74, 'max_event_time': np.float64(3946.3793103448274), 'max_distance': np.float64(235.80045716788922), 'final_event': 74, 'final_event_time': np.float64(3946.3793103448274), 'nb_significant_events': np.float64(12.854728637786623), 'significant_ratio': np.float64(0.39999999999999997), 'first_significant_event': 4, 'first_significant_event_time': np.float64(935.3103448275862), 'aha_moment': 4, 'aha_moment_time': np.float64(935.3103448275862), 'insight_effect': np.float64(0.08471978163013608), 'cumulated_breaks_duration': np.int64(223994), 'pushed': 15, 'pulled': 33, 'pulling_ratio': 0.6875, 'success_direction': 'both', 'interaction_proportion': np.float64(0.14180516922982614), 'distance_moved': np.float64(42435490.38593846), 'exit_time': np.float64(3734.0344827586205)}, 'fly_0_ball_1': {'nb_events': np.float64(10.444018098599386), 'max_event': 41, 'max_event_time': np.float64(3061.2068965517246), 'max_distance': np.float64(103.59608422475348), 'final_event': 41, 'final_event_time': np.float64(3061.2068965517246), 'nb_significant_events': np.float64(1.898912381563525), 'significant_ratio': np.float64(0.18181818181818182), 'first_significant_event': 4, 'first_significant_event_time': np.float64(286.2068965517242), 'aha_moment': 36, 'aha_moment_time': np.float64(2897.379310344828), 'insight_effect': np.float64(inf), 'cumulated_breaks_duration': np.int64(219299), 'pushed': 7, 'pulled': 3, 'pulling_ratio': 0.3, 'success_direction': 'push', 'interaction_proportion': np.float64(0.159793261457591), 'distance_moved': np.float64(6031626.427367555), 'exit_time': np.float64(3734.0344827586205)}}\n",
      "{'fly_0_ball_0': {'nb_events': np.float64(16.893460155645567), 'max_event': 48, 'max_event_time': np.float64(3744.9310344827586), 'max_distance': np.float64(183.77360720902544), 'final_event': 48, 'final_event_time': np.float64(3744.9310344827586), 'nb_significant_events': np.float64(1.055841259727848), 'significant_ratio': np.float64(0.0625), 'first_significant_event': 1, 'first_significant_event_time': np.float64(85.06896551724138), 'aha_moment': None, 'aha_moment_time': None, 'insight_effect': np.float64(1.0), 'cumulated_breaks_duration': np.int64(252400), 'pushed': 1, 'pulled': 3, 'pulling_ratio': 0.75, 'success_direction': 'both', 'interaction_proportion': np.float64(0.03297242208991364), 'distance_moved': np.float64(29136293.087413616), 'exit_time': np.float64(3788.448275862069)}, 'fly_0_ball_1': {'nb_events': np.float64(6.907457274994871), 'max_event': 24, 'max_event_time': np.float64(2824.8965517241377), 'max_distance': np.float64(104.07574080664341), 'final_event': 24, 'final_event_time': np.float64(2824.8965517241377), 'nb_significant_events': np.float64(1.151242879165812), 'significant_ratio': np.float64(0.16666666666666669), 'first_significant_event': 0, 'first_significant_event_time': np.float64(38.310344827586505), 'aha_moment': None, 'aha_moment_time': None, 'insight_effect': np.float64(1.0), 'cumulated_breaks_duration': np.int64(253757), 'pushed': 3, 'pulled': 3, 'pulling_ratio': 0.5, 'success_direction': 'push', 'interaction_proportion': np.float64(0.027773307893305135), 'distance_moved': np.float64(8572532.007879289), 'exit_time': np.float64(3788.448275862069)}}\n"
     ]
    }
   ],
   "source": [
    "for fly in TestExp_F1.flies:\n",
    "    print(fly.metrics)"
   ]
  },
  {
   "cell_type": "code",
   "execution_count": 56,
   "metadata": {},
   "outputs": [
    {
     "data": {
      "text/plain": [
       "<module 'utils_behavior.Ballpushing_utils' from '/home/durrieu/utils_behavior/utils_behavior/Ballpushing_utils.py'>"
      ]
     },
     "execution_count": 56,
     "metadata": {},
     "output_type": "execute_result"
    }
   ],
   "source": [
    "importlib.reload(Ballpushing_utils)"
   ]
  },
  {
   "cell_type": "code",
   "execution_count": 66,
   "metadata": {},
   "outputs": [],
   "source": [
    "TestDataset = Ballpushing_utils.Dataset(TestExp_F1)"
   ]
  },
  {
   "cell_type": "code",
   "execution_count": 58,
   "metadata": {},
   "outputs": [
    {
     "name": "stdout",
     "output_type": "stream",
     "text": [
      "Dataset with 18 flies and 1 experiments\n",
      "keyword: \n"
     ]
    }
   ],
   "source": [
    "print(TestDataset)"
   ]
  },
  {
   "cell_type": "code",
   "execution_count": 59,
   "metadata": {},
   "outputs": [
    {
     "data": {
      "text/plain": [
       "[]"
      ]
     },
     "execution_count": 59,
     "metadata": {},
     "output_type": "execute_result"
    }
   ],
   "source": [
    "TestDataset.metadata"
   ]
  },
  {
   "cell_type": "code",
   "execution_count": 67,
   "metadata": {},
   "outputs": [],
   "source": [
    "TestDataset_coordinates = TestDataset.generate_dataset()"
   ]
  },
  {
   "cell_type": "code",
   "execution_count": 68,
   "metadata": {},
   "outputs": [
    {
     "data": {
      "text/html": [
       "<div>\n",
       "<style scoped>\n",
       "    .dataframe tbody tr th:only-of-type {\n",
       "        vertical-align: middle;\n",
       "    }\n",
       "\n",
       "    .dataframe tbody tr th {\n",
       "        vertical-align: top;\n",
       "    }\n",
       "\n",
       "    .dataframe thead th {\n",
       "        text-align: right;\n",
       "    }\n",
       "</style>\n",
       "<table border=\"1\" class=\"dataframe\">\n",
       "  <thead>\n",
       "    <tr style=\"text-align: right;\">\n",
       "      <th></th>\n",
       "      <th>time</th>\n",
       "      <th>frame</th>\n",
       "      <th>adjusted_time</th>\n",
       "      <th>x_fly_0</th>\n",
       "      <th>y_fly_0</th>\n",
       "      <th>distance_fly_0</th>\n",
       "      <th>x_ball_0</th>\n",
       "      <th>y_ball_0</th>\n",
       "      <th>distance_ball_0</th>\n",
       "      <th>fly</th>\n",
       "      <th>...</th>\n",
       "      <th>Orientation</th>\n",
       "      <th>Light</th>\n",
       "      <th>Crossing</th>\n",
       "      <th>Pretraining</th>\n",
       "      <th>Unlocked</th>\n",
       "      <th></th>\n",
       "      <th>F1_condition</th>\n",
       "      <th>x_ball_1</th>\n",
       "      <th>y_ball_1</th>\n",
       "      <th>distance_ball_1</th>\n",
       "    </tr>\n",
       "  </thead>\n",
       "  <tbody>\n",
       "    <tr>\n",
       "      <th>0</th>\n",
       "      <td>0.034483</td>\n",
       "      <td>1</td>\n",
       "      <td>-3824.724138</td>\n",
       "      <td>0.000000</td>\n",
       "      <td>0.000000</td>\n",
       "      <td>0.000000</td>\n",
       "      <td>193.522196</td>\n",
       "      <td>-73.328572</td>\n",
       "      <td>0.000000</td>\n",
       "      <td>240821_F1_3mm_ends_Videos_Checked_arena8_Left</td>\n",
       "      <td>...</td>\n",
       "      <td>std</td>\n",
       "      <td>on</td>\n",
       "      <td>1</td>\n",
       "      <td>n</td>\n",
       "      <td>nn</td>\n",
       "      <td></td>\n",
       "      <td>control</td>\n",
       "      <td>NaN</td>\n",
       "      <td>NaN</td>\n",
       "      <td>NaN</td>\n",
       "    </tr>\n",
       "    <tr>\n",
       "      <th>1</th>\n",
       "      <td>0.068966</td>\n",
       "      <td>2</td>\n",
       "      <td>-3824.689655</td>\n",
       "      <td>0.043280</td>\n",
       "      <td>0.044952</td>\n",
       "      <td>0.062401</td>\n",
       "      <td>193.522271</td>\n",
       "      <td>-73.327362</td>\n",
       "      <td>0.001211</td>\n",
       "      <td>240821_F1_3mm_ends_Videos_Checked_arena8_Left</td>\n",
       "      <td>...</td>\n",
       "      <td>std</td>\n",
       "      <td>on</td>\n",
       "      <td>1</td>\n",
       "      <td>n</td>\n",
       "      <td>nn</td>\n",
       "      <td></td>\n",
       "      <td>control</td>\n",
       "      <td>NaN</td>\n",
       "      <td>NaN</td>\n",
       "      <td>NaN</td>\n",
       "    </tr>\n",
       "    <tr>\n",
       "      <th>2</th>\n",
       "      <td>0.103448</td>\n",
       "      <td>3</td>\n",
       "      <td>-3824.655172</td>\n",
       "      <td>0.086561</td>\n",
       "      <td>0.089905</td>\n",
       "      <td>0.124802</td>\n",
       "      <td>193.522346</td>\n",
       "      <td>-73.326153</td>\n",
       "      <td>0.002423</td>\n",
       "      <td>240821_F1_3mm_ends_Videos_Checked_arena8_Left</td>\n",
       "      <td>...</td>\n",
       "      <td>std</td>\n",
       "      <td>on</td>\n",
       "      <td>1</td>\n",
       "      <td>n</td>\n",
       "      <td>nn</td>\n",
       "      <td></td>\n",
       "      <td>control</td>\n",
       "      <td>NaN</td>\n",
       "      <td>NaN</td>\n",
       "      <td>NaN</td>\n",
       "    </tr>\n",
       "    <tr>\n",
       "      <th>3</th>\n",
       "      <td>0.137931</td>\n",
       "      <td>4</td>\n",
       "      <td>-3824.620690</td>\n",
       "      <td>0.129841</td>\n",
       "      <td>0.134857</td>\n",
       "      <td>0.187203</td>\n",
       "      <td>193.522420</td>\n",
       "      <td>-73.324944</td>\n",
       "      <td>0.003634</td>\n",
       "      <td>240821_F1_3mm_ends_Videos_Checked_arena8_Left</td>\n",
       "      <td>...</td>\n",
       "      <td>std</td>\n",
       "      <td>on</td>\n",
       "      <td>1</td>\n",
       "      <td>n</td>\n",
       "      <td>nn</td>\n",
       "      <td></td>\n",
       "      <td>control</td>\n",
       "      <td>NaN</td>\n",
       "      <td>NaN</td>\n",
       "      <td>NaN</td>\n",
       "    </tr>\n",
       "    <tr>\n",
       "      <th>4</th>\n",
       "      <td>0.172414</td>\n",
       "      <td>5</td>\n",
       "      <td>-3824.586207</td>\n",
       "      <td>0.173121</td>\n",
       "      <td>0.179809</td>\n",
       "      <td>0.249604</td>\n",
       "      <td>193.522495</td>\n",
       "      <td>-73.323735</td>\n",
       "      <td>0.004846</td>\n",
       "      <td>240821_F1_3mm_ends_Videos_Checked_arena8_Left</td>\n",
       "      <td>...</td>\n",
       "      <td>std</td>\n",
       "      <td>on</td>\n",
       "      <td>1</td>\n",
       "      <td>n</td>\n",
       "      <td>nn</td>\n",
       "      <td></td>\n",
       "      <td>control</td>\n",
       "      <td>NaN</td>\n",
       "      <td>NaN</td>\n",
       "      <td>NaN</td>\n",
       "    </tr>\n",
       "    <tr>\n",
       "      <th>...</th>\n",
       "      <td>...</td>\n",
       "      <td>...</td>\n",
       "      <td>...</td>\n",
       "      <td>...</td>\n",
       "      <td>...</td>\n",
       "      <td>...</td>\n",
       "      <td>...</td>\n",
       "      <td>...</td>\n",
       "      <td>...</td>\n",
       "      <td>...</td>\n",
       "      <td>...</td>\n",
       "      <td>...</td>\n",
       "      <td>...</td>\n",
       "      <td>...</td>\n",
       "      <td>...</td>\n",
       "      <td>...</td>\n",
       "      <td>...</td>\n",
       "      <td>...</td>\n",
       "      <td>...</td>\n",
       "      <td>...</td>\n",
       "      <td>...</td>\n",
       "    </tr>\n",
       "    <tr>\n",
       "      <th>108499</th>\n",
       "      <td>3741.379310</td>\n",
       "      <td>108500</td>\n",
       "      <td>-47.068966</td>\n",
       "      <td>10.929188</td>\n",
       "      <td>-231.967009</td>\n",
       "      <td>232.224332</td>\n",
       "      <td>13.470580</td>\n",
       "      <td>-408.303889</td>\n",
       "      <td>172.516296</td>\n",
       "      <td>240821_F1_3mm_ends_Videos_Checked_arena9_Left</td>\n",
       "      <td>...</td>\n",
       "      <td>std</td>\n",
       "      <td>on</td>\n",
       "      <td>1</td>\n",
       "      <td>y</td>\n",
       "      <td>yy</td>\n",
       "      <td></td>\n",
       "      <td>pretrained_unlocked</td>\n",
       "      <td>202.075195</td>\n",
       "      <td>-77.317457</td>\n",
       "      <td>1.919479</td>\n",
       "    </tr>\n",
       "    <tr>\n",
       "      <th>108500</th>\n",
       "      <td>3741.413793</td>\n",
       "      <td>108501</td>\n",
       "      <td>-47.034483</td>\n",
       "      <td>10.883633</td>\n",
       "      <td>-233.614116</td>\n",
       "      <td>233.867503</td>\n",
       "      <td>12.597173</td>\n",
       "      <td>-409.852148</td>\n",
       "      <td>174.042649</td>\n",
       "      <td>240821_F1_3mm_ends_Videos_Checked_arena9_Left</td>\n",
       "      <td>...</td>\n",
       "      <td>std</td>\n",
       "      <td>on</td>\n",
       "      <td>1</td>\n",
       "      <td>y</td>\n",
       "      <td>yy</td>\n",
       "      <td></td>\n",
       "      <td>pretrained_unlocked</td>\n",
       "      <td>202.075195</td>\n",
       "      <td>-77.317457</td>\n",
       "      <td>1.919479</td>\n",
       "    </tr>\n",
       "    <tr>\n",
       "      <th>108501</th>\n",
       "      <td>3741.448276</td>\n",
       "      <td>108502</td>\n",
       "      <td>-47.000000</td>\n",
       "      <td>10.839357</td>\n",
       "      <td>-235.281614</td>\n",
       "      <td>235.531165</td>\n",
       "      <td>11.723815</td>\n",
       "      <td>-411.400291</td>\n",
       "      <td>175.573616</td>\n",
       "      <td>240821_F1_3mm_ends_Videos_Checked_arena9_Left</td>\n",
       "      <td>...</td>\n",
       "      <td>std</td>\n",
       "      <td>on</td>\n",
       "      <td>1</td>\n",
       "      <td>y</td>\n",
       "      <td>yy</td>\n",
       "      <td></td>\n",
       "      <td>pretrained_unlocked</td>\n",
       "      <td>202.075195</td>\n",
       "      <td>-77.317457</td>\n",
       "      <td>1.919479</td>\n",
       "    </tr>\n",
       "    <tr>\n",
       "      <th>108502</th>\n",
       "      <td>3741.482759</td>\n",
       "      <td>108503</td>\n",
       "      <td>-46.965517</td>\n",
       "      <td>10.796188</td>\n",
       "      <td>-236.895962</td>\n",
       "      <td>237.141845</td>\n",
       "      <td>10.850425</td>\n",
       "      <td>-412.948344</td>\n",
       "      <td>177.109097</td>\n",
       "      <td>240821_F1_3mm_ends_Videos_Checked_arena9_Left</td>\n",
       "      <td>...</td>\n",
       "      <td>std</td>\n",
       "      <td>on</td>\n",
       "      <td>1</td>\n",
       "      <td>y</td>\n",
       "      <td>yy</td>\n",
       "      <td></td>\n",
       "      <td>pretrained_unlocked</td>\n",
       "      <td>202.075195</td>\n",
       "      <td>-77.317457</td>\n",
       "      <td>1.919479</td>\n",
       "    </tr>\n",
       "    <tr>\n",
       "      <th>108503</th>\n",
       "      <td>3741.517241</td>\n",
       "      <td>108504</td>\n",
       "      <td>-46.931034</td>\n",
       "      <td>10.793801</td>\n",
       "      <td>-238.469227</td>\n",
       "      <td>238.713382</td>\n",
       "      <td>9.977192</td>\n",
       "      <td>-414.496656</td>\n",
       "      <td>178.649325</td>\n",
       "      <td>240821_F1_3mm_ends_Videos_Checked_arena9_Left</td>\n",
       "      <td>...</td>\n",
       "      <td>std</td>\n",
       "      <td>on</td>\n",
       "      <td>1</td>\n",
       "      <td>y</td>\n",
       "      <td>yy</td>\n",
       "      <td></td>\n",
       "      <td>pretrained_unlocked</td>\n",
       "      <td>202.075195</td>\n",
       "      <td>-77.317457</td>\n",
       "      <td>1.919479</td>\n",
       "    </tr>\n",
       "  </tbody>\n",
       "</table>\n",
       "<p>3756021 rows × 28 columns</p>\n",
       "</div>"
      ],
      "text/plain": [
       "               time   frame  adjusted_time    x_fly_0     y_fly_0  \\\n",
       "0          0.034483       1   -3824.724138   0.000000    0.000000   \n",
       "1          0.068966       2   -3824.689655   0.043280    0.044952   \n",
       "2          0.103448       3   -3824.655172   0.086561    0.089905   \n",
       "3          0.137931       4   -3824.620690   0.129841    0.134857   \n",
       "4          0.172414       5   -3824.586207   0.173121    0.179809   \n",
       "...             ...     ...            ...        ...         ...   \n",
       "108499  3741.379310  108500     -47.068966  10.929188 -231.967009   \n",
       "108500  3741.413793  108501     -47.034483  10.883633 -233.614116   \n",
       "108501  3741.448276  108502     -47.000000  10.839357 -235.281614   \n",
       "108502  3741.482759  108503     -46.965517  10.796188 -236.895962   \n",
       "108503  3741.517241  108504     -46.931034  10.793801 -238.469227   \n",
       "\n",
       "        distance_fly_0    x_ball_0    y_ball_0  distance_ball_0  \\\n",
       "0             0.000000  193.522196  -73.328572         0.000000   \n",
       "1             0.062401  193.522271  -73.327362         0.001211   \n",
       "2             0.124802  193.522346  -73.326153         0.002423   \n",
       "3             0.187203  193.522420  -73.324944         0.003634   \n",
       "4             0.249604  193.522495  -73.323735         0.004846   \n",
       "...                ...         ...         ...              ...   \n",
       "108499      232.224332   13.470580 -408.303889       172.516296   \n",
       "108500      233.867503   12.597173 -409.852148       174.042649   \n",
       "108501      235.531165   11.723815 -411.400291       175.573616   \n",
       "108502      237.141845   10.850425 -412.948344       177.109097   \n",
       "108503      238.713382    9.977192 -414.496656       178.649325   \n",
       "\n",
       "                                                  fly  ... Orientation Light  \\\n",
       "0       240821_F1_3mm_ends_Videos_Checked_arena8_Left  ...         std    on   \n",
       "1       240821_F1_3mm_ends_Videos_Checked_arena8_Left  ...         std    on   \n",
       "2       240821_F1_3mm_ends_Videos_Checked_arena8_Left  ...         std    on   \n",
       "3       240821_F1_3mm_ends_Videos_Checked_arena8_Left  ...         std    on   \n",
       "4       240821_F1_3mm_ends_Videos_Checked_arena8_Left  ...         std    on   \n",
       "...                                               ...  ...         ...   ...   \n",
       "108499  240821_F1_3mm_ends_Videos_Checked_arena9_Left  ...         std    on   \n",
       "108500  240821_F1_3mm_ends_Videos_Checked_arena9_Left  ...         std    on   \n",
       "108501  240821_F1_3mm_ends_Videos_Checked_arena9_Left  ...         std    on   \n",
       "108502  240821_F1_3mm_ends_Videos_Checked_arena9_Left  ...         std    on   \n",
       "108503  240821_F1_3mm_ends_Videos_Checked_arena9_Left  ...         std    on   \n",
       "\n",
       "       Crossing Pretraining Unlocked            F1_condition    x_ball_1  \\\n",
       "0             1           n       nn                 control         NaN   \n",
       "1             1           n       nn                 control         NaN   \n",
       "2             1           n       nn                 control         NaN   \n",
       "3             1           n       nn                 control         NaN   \n",
       "4             1           n       nn                 control         NaN   \n",
       "...         ...         ...      ... ..                  ...         ...   \n",
       "108499        1           y       yy     pretrained_unlocked  202.075195   \n",
       "108500        1           y       yy     pretrained_unlocked  202.075195   \n",
       "108501        1           y       yy     pretrained_unlocked  202.075195   \n",
       "108502        1           y       yy     pretrained_unlocked  202.075195   \n",
       "108503        1           y       yy     pretrained_unlocked  202.075195   \n",
       "\n",
       "         y_ball_1 distance_ball_1  \n",
       "0             NaN             NaN  \n",
       "1             NaN             NaN  \n",
       "2             NaN             NaN  \n",
       "3             NaN             NaN  \n",
       "4             NaN             NaN  \n",
       "...           ...             ...  \n",
       "108499 -77.317457        1.919479  \n",
       "108500 -77.317457        1.919479  \n",
       "108501 -77.317457        1.919479  \n",
       "108502 -77.317457        1.919479  \n",
       "108503 -77.317457        1.919479  \n",
       "\n",
       "[3756021 rows x 28 columns]"
      ]
     },
     "execution_count": 68,
     "metadata": {},
     "output_type": "execute_result"
    }
   ],
   "source": [
    "TestDataset_coordinates"
   ]
  },
  {
   "cell_type": "code",
   "execution_count": 62,
   "metadata": {},
   "outputs": [
    {
     "data": {
      "text/plain": [
       "Index(['time', 'frame', 'adjusted_time', 'x_fly_0', 'y_fly_0',\n",
       "       'distance_fly_0', 'x_ball_0', 'y_ball_0', 'distance_ball_0', 'fly',\n",
       "       'flypath', 'experiment', 'Nickname', 'Brain region', 'Date', 'Genotype',\n",
       "       'Period', 'FeedingState', 'Orientation', 'Light', 'Crossing',\n",
       "       'Pretraining', 'Unlocked', '', 'x_ball_1', 'y_ball_1',\n",
       "       'distance_ball_1'],\n",
       "      dtype='object')"
      ]
     },
     "execution_count": 62,
     "metadata": {},
     "output_type": "execute_result"
    }
   ],
   "source": [
    "TestDataset_coordinates.columns"
   ]
  },
  {
   "cell_type": "code",
   "execution_count": null,
   "metadata": {},
   "outputs": [
    {
     "data": {
      "image/png": "[encoded data removed]",
      "text/plain": [
       "<Figure size 640x480 with 1 Axes>"
      ]
     },
     "metadata": {},
     "output_type": "display_data"
    }
   ],
   "source": [
    "import seaborn as sns\n",
    "import matplotlib.pyplot as plt\n",
    "\n",
    "# Define the downsampling factor\n",
    "downsample_factor = (29*5)  # Adjust this value as needed\n",
    "\n",
    "# Reset the index of the DataFrame to avoid duplicate labels\n",
    "TestDataset_coordinates = TestDataset_coordinates.reset_index(drop=True)\n",
    "\n",
    "# Filter the DataFrame to include only rows where adjusted_time is positive\n",
    "filtered_data = TestDataset_coordinates[TestDataset_coordinates[\"adjusted_time\"] >= 0]\n",
    "\n",
    "# Downsample the DataFrame by selecting every nth row\n",
    "downsampled_data = filtered_data.iloc[::downsample_factor, :]\n",
    "\n",
    "# Plot the data\n",
    "sns.lineplot(\n",
    "    x=\"adjusted_time\",\n",
    "    y=\"distance_ball_0\",\n",
    "    hue=\"F1_condition\",\n",
    "    data=downsampled_data[downsampled_data[\"F1_condition\"] == \"control\"],\n",
    ")\n",
    "\n",
    "sns.lineplot(\n",
    "    x=\"adjusted_time\",\n",
    "    y=\"distance_ball_1\",\n",
    "    hue=\"F1_condition\",\n",
    "    data=downsampled_data[downsampled_data[\"F1_condition\"] != \"control\"],\n",
    ")\n",
    "\n",
    "# Set the x-axis limits to start at 0\n",
    "plt.xlim(left=0)\n",
    "\n",
    "# Show the plot\n",
    "plt.show()"
   ]
  },
  {
   "cell_type": "code",
   "execution_count": 38,
   "metadata": {},
   "outputs": [
    {
     "data": {
      "text/html": [
       "<div>\n",
       "<style scoped>\n",
       "    .dataframe tbody tr th:only-of-type {\n",
       "        vertical-align: middle;\n",
       "    }\n",
       "\n",
       "    .dataframe tbody tr th {\n",
       "        vertical-align: top;\n",
       "    }\n",
       "\n",
       "    .dataframe thead th {\n",
       "        text-align: right;\n",
       "    }\n",
       "</style>\n",
       "<table border=\"1\" class=\"dataframe\">\n",
       "  <thead>\n",
       "    <tr style=\"text-align: right;\">\n",
       "      <th></th>\n",
       "      <th>adjusted_time</th>\n",
       "      <th>ball_position</th>\n",
       "      <th>Pretraining</th>\n",
       "    </tr>\n",
       "  </thead>\n",
       "  <tbody>\n",
       "    <tr>\n",
       "      <th>0</th>\n",
       "      <td>-751.517241</td>\n",
       "      <td>0.000000</td>\n",
       "      <td>n</td>\n",
       "    </tr>\n",
       "    <tr>\n",
       "      <th>1</th>\n",
       "      <td>-751.482759</td>\n",
       "      <td>0.000449</td>\n",
       "      <td>n</td>\n",
       "    </tr>\n",
       "    <tr>\n",
       "      <th>2</th>\n",
       "      <td>-751.448276</td>\n",
       "      <td>0.000898</td>\n",
       "      <td>n</td>\n",
       "    </tr>\n",
       "    <tr>\n",
       "      <th>3</th>\n",
       "      <td>-751.413793</td>\n",
       "      <td>0.001347</td>\n",
       "      <td>n</td>\n",
       "    </tr>\n",
       "    <tr>\n",
       "      <th>4</th>\n",
       "      <td>-751.379310</td>\n",
       "      <td>0.001796</td>\n",
       "      <td>n</td>\n",
       "    </tr>\n",
       "    <tr>\n",
       "      <th>...</th>\n",
       "      <td>...</td>\n",
       "      <td>...</td>\n",
       "      <td>...</td>\n",
       "    </tr>\n",
       "    <tr>\n",
       "      <th>261001</th>\n",
       "      <td>5211.620690</td>\n",
       "      <td>96.193105</td>\n",
       "      <td>y</td>\n",
       "    </tr>\n",
       "    <tr>\n",
       "      <th>261002</th>\n",
       "      <td>5211.655172</td>\n",
       "      <td>96.192678</td>\n",
       "      <td>y</td>\n",
       "    </tr>\n",
       "    <tr>\n",
       "      <th>261003</th>\n",
       "      <td>5211.689655</td>\n",
       "      <td>96.192253</td>\n",
       "      <td>y</td>\n",
       "    </tr>\n",
       "    <tr>\n",
       "      <th>261004</th>\n",
       "      <td>5211.724138</td>\n",
       "      <td>96.191827</td>\n",
       "      <td>y</td>\n",
       "    </tr>\n",
       "    <tr>\n",
       "      <th>261005</th>\n",
       "      <td>5211.758621</td>\n",
       "      <td>96.191402</td>\n",
       "      <td>y</td>\n",
       "    </tr>\n",
       "  </tbody>\n",
       "</table>\n",
       "<p>2088048 rows × 3 columns</p>\n",
       "</div>"
      ],
      "text/plain": [
       "        adjusted_time  ball_position Pretraining\n",
       "0         -751.517241       0.000000           n\n",
       "1         -751.482759       0.000449           n\n",
       "2         -751.448276       0.000898           n\n",
       "3         -751.413793       0.001347           n\n",
       "4         -751.379310       0.001796           n\n",
       "...               ...            ...         ...\n",
       "261001    5211.620690      96.193105           y\n",
       "261002    5211.655172      96.192678           y\n",
       "261003    5211.689655      96.192253           y\n",
       "261004    5211.724138      96.191827           y\n",
       "261005    5211.758621      96.191402           y\n",
       "\n",
       "[2088048 rows x 3 columns]"
      ]
     },
     "execution_count": 38,
     "metadata": {},
     "output_type": "execute_result"
    }
   ],
   "source": [
    "# Generate a dataset with adjusted time and relative ball position for all flies\n",
    "\n",
    "Data = []\n",
    "\n",
    "for fly in TestExp_F1.flies:\n",
    "    if fly.Pretraining ==\"y\":\n",
    "\n",
    "        if fly.exit_time:\n",
    "            Adjusted_time = fly.flytrack.objects[0].dataset[\"adjusted_time\"]\n",
    "\n",
    "            Ball_position = fly.balltrack.objects[1].dataset[\"euclidean_distance\"]\n",
    "            \n",
    "            Pretraining = fly.Pretraining\n",
    "\n",
    "            dataset = pd.DataFrame({\"adjusted_time\": Adjusted_time, \"ball_position\": Ball_position, \"Pretraining\": Pretraining})\n",
    "            Data.append(dataset)\n",
    "\n",
    "    else:\n",
    "        Adjusted_time = fly.flytrack.objects[0].dataset[\"adjusted_time\"]\n",
    "\n",
    "        Ball_position = fly.balltrack.objects[0].dataset[\"euclidean_distance\"]\n",
    "        \n",
    "        Pretraining = fly.Pretraining\n",
    "\n",
    "        dataset = pd.DataFrame(\n",
    "            {\"adjusted_time\": Adjusted_time, \"ball_position\": Ball_position, \"Pretraining\": Pretraining}\n",
    "        )\n",
    "        Data.append(dataset)\n",
    "\n",
    "\n",
    "# Concatenate the data\n",
    "\n",
    "Data = pd.concat(Data)\n",
    "\n",
    "Data"
   ]
  },
  {
   "cell_type": "code",
   "execution_count": 41,
   "metadata": {},
   "outputs": [
    {
     "data": {
      "image/png": "[encoded data removed]",
      "text/plain": [
       "<Figure size 640x480 with 1 Axes>"
      ]
     },
     "metadata": {},
     "output_type": "display_data"
    }
   ],
   "source": [
    "# Now plot the the average ball position over adjusted time with scale starting at 0 grouped by pretraining\n",
    "\n",
    "import seaborn as sns\n",
    "import matplotlib.pyplot as plt\n",
    "\n",
    "Avg = Data.groupby([\"adjusted_time\", \"Pretraining\"]).mean().reset_index()\n",
    "\n",
    "# Apply some smoothing to the ball_position\n",
    "\n",
    "Avg[\"ball_position\"] = Avg[\"ball_position\"].rolling(window=10).mean()\n",
    "\n",
    "plt.figure()\n",
    "\n",
    "sns.lineplot(x=\"adjusted_time\", y=\"ball_position\", data=Avg, hue=\"Pretraining\")\n",
    "\n",
    "plt.show()"
   ]
  },
  {
   "cell_type": "code",
   "execution_count": 17,
   "metadata": {},
   "outputs": [
    {
     "name": "stdout",
     "output_type": "stream",
     "text": [
      "Experiment: 240821_F1_3mm_ends_Videos_Checked\n",
      "  Genotypes: PR\n",
      "  Flies: 9\n",
      "  FPS: 29\n"
     ]
    }
   ],
   "source": [
    "print(TestExp_F1)"
   ]
  },
  {
   "cell_type": "code",
   "execution_count": 3,
   "metadata": {},
   "outputs": [],
   "source": [
    "TestData = Ballpushing_utils.Dataset(TestExp_F1)"
   ]
  },
  {
   "cell_type": "code",
   "execution_count": 5,
   "metadata": {},
   "outputs": [
    {
     "data": {
      "text/plain": [
       "'Dataset with 18 flies and 1 experiments\\nkeyword: '"
      ]
     },
     "execution_count": 5,
     "metadata": {},
     "output_type": "execute_result"
    }
   ],
   "source": [
    "str(TestData)"
   ]
  },
  {
   "cell_type": "code",
   "execution_count": 6,
   "metadata": {},
   "outputs": [
    {
     "name": "stdout",
     "output_type": "stream",
     "text": [
      "An error occurred: Must have equal len keys and value when setting with an ndarray\n"
     ]
    },
    {
     "name": "stderr",
     "output_type": "stream",
     "text": [
      "Traceback (most recent call last):\n",
      "  File \"/home/durrieu/miniforge3/envs/tracking_analysis/lib/python3.12/site-packages/pandas/core/indexes/base.py\", line 3805, in get_loc\n",
      "    return self._engine.get_loc(casted_key)\n",
      "           ^^^^^^^^^^^^^^^^^^^^^^^^^^^^^^^^\n",
      "  File \"index.pyx\", line 167, in pandas._libs.index.IndexEngine.get_loc\n",
      "  File \"index.pyx\", line 196, in pandas._libs.index.IndexEngine.get_loc\n",
      "  File \"pandas/_libs/hashtable_class_helper.pxi\", line 7081, in pandas._libs.hashtable.PyObjectHashTable.get_item\n",
      "  File \"pandas/_libs/hashtable_class_helper.pxi\", line 7089, in pandas._libs.hashtable.PyObjectHashTable.get_item\n",
      "KeyError: 'breaks'\n",
      "\n",
      "The above exception was the direct cause of the following exception:\n",
      "\n",
      "Traceback (most recent call last):\n",
      "  File \"/home/durrieu/miniforge3/envs/tracking_analysis/lib/python3.12/site-packages/pandas/core/frame.py\", line 4561, in _set_value\n",
      "    icol = self.columns.get_loc(col)\n",
      "           ^^^^^^^^^^^^^^^^^^^^^^^^^\n",
      "  File \"/home/durrieu/miniforge3/envs/tracking_analysis/lib/python3.12/site-packages/pandas/core/indexes/base.py\", line 3812, in get_loc\n",
      "    raise KeyError(key) from err\n",
      "KeyError: 'breaks'\n",
      "\n",
      "During handling of the above exception, another exception occurred:\n",
      "\n",
      "Traceback (most recent call last):\n",
      "  File \"/home/durrieu/utils_behavior/utils_behavior/Ballpushing_utils.py\", line 1950, in generate_dataset\n",
      "    data = self._prepare_dataset_summary_metrics(fly)\n",
      "           ^^^^^^^^^^^^^^^^^^^^^^^^^^^^^^^^^^^^^^^^^^\n",
      "  File \"/home/durrieu/utils_behavior/utils_behavior/Ballpushing_utils.py\", line 2058, in _prepare_dataset_summary_metrics\n",
      "    dataset.at[key, metric] = metric_dict[metric]\n",
      "    ~~~~~~~~~~^^^^^^^^^^^^^\n",
      "  File \"/home/durrieu/miniforge3/envs/tracking_analysis/lib/python3.12/site-packages/pandas/core/indexing.py\", line 2586, in __setitem__\n",
      "    return super().__setitem__(key, value)\n",
      "           ^^^^^^^^^^^^^^^^^^^^^^^^^^^^^^^\n",
      "  File \"/home/durrieu/miniforge3/envs/tracking_analysis/lib/python3.12/site-packages/pandas/core/indexing.py\", line 2542, in __setitem__\n",
      "    self.obj._set_value(*key, value=value, takeable=self._takeable)\n",
      "  File \"/home/durrieu/miniforge3/envs/tracking_analysis/lib/python3.12/site-packages/pandas/core/frame.py\", line 4575, in _set_value\n",
      "    self.loc[index, col] = value\n",
      "    ~~~~~~~~^^^^^^^^^^^^\n",
      "  File \"/home/durrieu/miniforge3/envs/tracking_analysis/lib/python3.12/site-packages/pandas/core/indexing.py\", line 911, in __setitem__\n",
      "    iloc._setitem_with_indexer(indexer, value, self.name)\n",
      "  File \"/home/durrieu/miniforge3/envs/tracking_analysis/lib/python3.12/site-packages/pandas/core/indexing.py\", line 1890, in _setitem_with_indexer\n",
      "    self._setitem_with_indexer(new_indexer, value, name)\n",
      "  File \"/home/durrieu/miniforge3/envs/tracking_analysis/lib/python3.12/site-packages/pandas/core/indexing.py\", line 1942, in _setitem_with_indexer\n",
      "    self._setitem_with_indexer_split_path(indexer, value, name)\n",
      "  File \"/home/durrieu/miniforge3/envs/tracking_analysis/lib/python3.12/site-packages/pandas/core/indexing.py\", line 1982, in _setitem_with_indexer_split_path\n",
      "    self._setitem_with_indexer_2d_value(indexer, value)\n",
      "  File \"/home/durrieu/miniforge3/envs/tracking_analysis/lib/python3.12/site-packages/pandas/core/indexing.py\", line 2048, in _setitem_with_indexer_2d_value\n",
      "    raise ValueError(\n",
      "ValueError: Must have equal len keys and value when setting with an ndarray\n"
     ]
    },
    {
     "data": {
      "text/plain": [
       "{}"
      ]
     },
     "execution_count": 6,
     "metadata": {},
     "output_type": "execute_result"
    }
   ],
   "source": [
    "TestData.generate_dataset(\"summary\")"
   ]
  },
  {
   "cell_type": "code",
   "execution_count": 133,
   "metadata": {},
   "outputs": [
    {
     "data": {
      "text/plain": [
       "<module 'utils_behavior.Ballpushing_utils' from '/home/durrieu/utils_behavior/utils_behavior/Ballpushing_utils.py'>"
      ]
     },
     "execution_count": 133,
     "metadata": {},
     "output_type": "execute_result"
    }
   ],
   "source": [
    "importlib.reload(Ballpushing_utils)"
   ]
  },
  {
   "cell_type": "code",
   "execution_count": 134,
   "metadata": {},
   "outputs": [
    {
     "name": "stdout",
     "output_type": "stream",
     "text": [
      "An error occurred: The truth value of a DataFrame is ambiguous. Use a.empty, a.bool(), a.item(), a.any() or a.all().\n"
     ]
    },
    {
     "name": "stderr",
     "output_type": "stream",
     "text": [
      "Traceback (most recent call last):\n",
      "  File \"/home/durrieu/utils_behavior/utils_behavior/Ballpushing_utils.py\", line 1842, in generate_dataset\n",
      "    for fly in self.flies:\n",
      "                      ^^^^\n",
      "  File \"/home/durrieu/utils_behavior/utils_behavior/Ballpushing_utils.py\", line 1893, in _prepare_dataset_coordinates\n",
      "    pandas.DataFrame: A DataFrame containing the fly's coordinates and associated metadata.\n",
      "       ^^^^^^^^^^^^\n",
      "  File \"/home/durrieu/miniforge3/envs/tracking_analysis/lib/python3.12/site-packages/pandas/core/generic.py\", line 1577, in __nonzero__\n",
      "    raise ValueError(\n",
      "ValueError: The truth value of a DataFrame is ambiguous. Use a.empty, a.bool(), a.item(), a.any() or a.all().\n"
     ]
    },
    {
     "data": {
      "text/plain": [
       "{}"
      ]
     },
     "execution_count": 134,
     "metadata": {},
     "output_type": "execute_result"
    }
   ],
   "source": [
    "data.generate_dataset()"
   ]
  },
  {
   "cell_type": "code",
   "execution_count": null,
   "metadata": {},
   "outputs": [],
   "source": []
  }
 ],
 "metadata": {
  "kernelspec": {
   "display_name": "tracking_analysis",
   "language": "python",
   "name": "python3"
  },
  "language_info": {
   "codemirror_mode": {
    "name": "ipython",
    "version": 3
   },
   "file_extension": ".py",
   "mimetype": "text/x-python",
   "name": "python",
   "nbconvert_exporter": "python",
   "pygments_lexer": "ipython3",
   "version": "3.12.6"
  }
 },
 "nbformat": 4,
 "nbformat_minor": 2
}
