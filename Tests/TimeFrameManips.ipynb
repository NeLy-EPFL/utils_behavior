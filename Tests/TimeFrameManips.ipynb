{
 "cells": [
  {
   "cell_type": "code",
   "execution_count": null,
   "metadata": {},
   "outputs": [],
   "source": [
    "import datetime"
   ]
  },
  {
   "cell_type": "markdown",
   "metadata": {},
   "source": [
    "# Original function to convert frames to time and vice versa"
   ]
  },
  {
   "cell_type": "code",
   "execution_count": null,
   "metadata": {},
   "outputs": [],
   "source": [
    "def frame2time(time, fps, reverse=False, clockformat=False):\n",
    "    \"\"\"Converts a framecount to time and vice-versa\n",
    "    Arguments:\n",
    "        time: Either an integer (framecount or seconds) or a string of format '%Hours:%Minutes:%Seconds'.\n",
    "        fps: integer. Frames per second of the video\n",
    "        reverse: Boolean. determine if you are trying to convert frames to time or time to frame.\n",
    "        clockformat: Boolean. If True, will deal with time as hours, minutes, seconds. else, will deal with time as seconds.\n",
    "\n",
    "    Returns:\n",
    "        A timestamp, which can be in the form of an integer (seconds or frames) or a tuple of hours, minutes, seconds.\n",
    "\n",
    "    \"\"\"\n",
    "    if reverse is False:\n",
    "\n",
    "        if clockformat is False:\n",
    "\n",
    "            try:\n",
    "                timestamp = round(time / fps)\n",
    "                print(timestamp)\n",
    "            except TypeError:\n",
    "                print('Wrong variable type entered. Provide integers values.')\n",
    "\n",
    "\n",
    "        else:\n",
    "            try:\n",
    "                s = time / fps\n",
    "                hours, remainder = divmod(s, 3600)\n",
    "                minutes, seconds = divmod(remainder, 60)\n",
    "\n",
    "                timestamp = (int(hours), int(minutes), round(seconds))\n",
    "                print('%s:%s:%s' % (timestamp[0], timestamp[1], timestamp[2]))\n",
    "            except TypeError:\n",
    "                print('Wrong variable type entered. Provide integers values.')\n",
    "\n",
    "    else:\n",
    "        if clockformat is False:\n",
    "\n",
    "            try:\n",
    "                timestamp = round(time * fps)\n",
    "                print(timestamp)\n",
    "            except TypeError:\n",
    "                print('Wrong variable type entered. Provide integers values.')\n",
    "\n",
    "        else:\n",
    "\n",
    "            try:\n",
    "                transtime = datetime.datetime.strptime(time, '%H:%M:%S')\n",
    "                timestamp = ((transtime.hour * 3600) + (transtime.minute * 60) + transtime.second) * fps\n",
    "                print(timestamp)\n",
    "            except TypeError:\n",
    "                print('Wrong variable type entered. Provide a string with \"%Hours:%Minutes:%Seconds\" format.')\n",
    "\n",
    "    return timestamp"
   ]
  },
  {
   "cell_type": "markdown",
   "metadata": {},
   "source": [
    "## Test space"
   ]
  },
  {
   "cell_type": "code",
   "execution_count": null,
   "metadata": {},
   "outputs": [],
   "source": [
    "TestTime = frame2time(\"10:23:34\", 80, clockformat=True, reverse=True)"
   ]
  }
 ],
 "metadata": {
  "kernelspec": {
   "display_name": "Python 3",
   "language": "python",
   "name": "python3"
  },
  "language_info": {
   "codemirror_mode": {
    "name": "ipython",
    "version": 2
   },
   "file_extension": ".py",
   "mimetype": "text/x-python",
   "name": "python",
   "nbconvert_exporter": "python",
   "pygments_lexer": "ipython2",
   "version": "2.7.6"
  }
 },
 "nbformat": 4,
 "nbformat_minor": 0
}
