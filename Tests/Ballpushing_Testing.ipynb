{
 "cells": [
  {
   "cell_type": "code",
   "execution_count": 1,
   "metadata": {},
   "outputs": [],
   "source": [
    "from utils_behavior import Ballpushing_utils\n",
    "\n",
    "from utils_behavior import Sleap_utils\n",
    "\n",
    "from pathlib import Path\n",
    "\n",
    "import importlib"
   ]
  },
  {
   "cell_type": "code",
   "execution_count": 10,
   "metadata": {},
   "outputs": [
    {
     "data": {
      "text/plain": [
       "<module 'utils_behavior.Ballpushing_utils' from '/home/durrieu/utils_behavior/utils_behavior/Ballpushing_utils.py'>"
      ]
     },
     "execution_count": 10,
     "metadata": {},
     "output_type": "execute_result"
    }
   ],
   "source": [
    "importlib.reload(Ballpushing_utils)"
   ]
  },
  {
   "cell_type": "code",
   "execution_count": 11,
   "metadata": {},
   "outputs": [],
   "source": [
    "TestFly_path = Path(\"/mnt/upramdya_data/MD/MultiMazeRecorder/Videos/240531_MagnetBlock_Videos_Tracked/arena4/corridor4/\")"
   ]
  },
  {
   "cell_type": "code",
   "execution_count": 12,
   "metadata": {},
   "outputs": [],
   "source": [
    "# F1 exp\n",
    "TestFly_path = Path(\"/mnt/upramdya_data/MD/F1_Tracks/Videos/240821_F1_3mm_ends_Videos_Checked/arena4/Left\")\n"
   ]
  },
  {
   "cell_type": "code",
   "execution_count": 15,
   "metadata": {},
   "outputs": [],
   "source": [
    "TestSlp = Sleap_utils.Sleap_Tracks(\"/mnt/upramdya_data/MD/F1_Tracks/Videos/240821_F1_3mm_ends_Videos_Checked/arena4/Left/arena4_left_tracked_ball_processed.000_arena4_left.analysis.h5\")"
   ]
  },
  {
   "cell_type": "code",
   "execution_count": 18,
   "metadata": {},
   "outputs": [
    {
     "data": {
      "text/plain": [
       "<property at 0x73991db47ba0>"
      ]
     },
     "execution_count": 18,
     "metadata": {},
     "output_type": "execute_result"
    }
   ],
   "source": [
    "TestSlp.objects[0].centre"
   ]
  },
  {
   "cell_type": "code",
   "execution_count": 13,
   "metadata": {},
   "outputs": [
    {
     "name": "stdout",
     "output_type": "stream",
     "text": [
      "y2: 0         294.419014\n",
      "1         294.419055\n",
      "2         294.419096\n",
      "3         294.419138\n",
      "4         294.419179\n",
      "             ...    \n",
      "261001    175.920539\n",
      "261002    175.920624\n",
      "261003    175.920710\n",
      "261004    175.920796\n",
      "261005    175.920881\n",
      "Name: y_centre, Length: 261006, dtype: float64\n",
      "Interaction events for fly 1 and ball 1: [[np.int64(6162), np.int64(6305), np.int64(143)], [np.int64(9107), np.int64(9208), np.int64(101)], [np.int64(10667), np.int64(10881), np.int64(214)], [np.int64(18523), np.int64(18625), np.int64(102)], [np.int64(21321), np.int64(21421), np.int64(100)], [np.int64(21833), np.int64(21960), np.int64(127)], [np.int64(27976), np.int64(28045), np.int64(69)], [np.int64(29650), np.int64(29909), np.int64(259)], [np.int64(30792), np.int64(31029), np.int64(237)], [np.int64(32784), np.int64(33044), np.int64(260)], [np.int64(33536), np.int64(33601), np.int64(65)], [np.int64(34444), np.int64(34577), np.int64(133)], [np.int64(35487), np.int64(35603), np.int64(116)], [np.int64(36519), np.int64(36617), np.int64(98)], [np.int64(37249), np.int64(37333), np.int64(84)], [np.int64(38460), np.int64(38547), np.int64(87)], [np.int64(39769), np.int64(39855), np.int64(86)], [np.int64(40236), np.int64(40423), np.int64(187)], [np.int64(40860), np.int64(41049), np.int64(189)], [np.int64(41728), np.int64(42462), np.int64(734)], [np.int64(42950), np.int64(43243), np.int64(293)], [np.int64(43717), np.int64(43791), np.int64(74)], [np.int64(44305), np.int64(45259), np.int64(954)], [np.int64(46317), np.int64(46582), np.int64(265)], [np.int64(46715), np.int64(46975), np.int64(260)], [np.int64(47803), np.int64(47943), np.int64(140)], [np.int64(48281), np.int64(48340), np.int64(59)], [np.int64(48656), np.int64(48778), np.int64(122)], [np.int64(49777), np.int64(50057), np.int64(280)], [np.int64(50439), np.int64(50500), np.int64(61)], [np.int64(52670), np.int64(52770), np.int64(100)], [np.int64(53072), np.int64(53269), np.int64(197)], [np.int64(54305), np.int64(54435), np.int64(130)], [np.int64(55560), np.int64(55806), np.int64(246)], [np.int64(56760), np.int64(56872), np.int64(112)], [np.int64(57313), np.int64(57638), np.int64(325)], [np.int64(58137), np.int64(58242), np.int64(105)], [np.int64(58612), np.int64(58694), np.int64(82)], [np.int64(59042), np.int64(59371), np.int64(329)], [np.int64(59931), np.int64(60083), np.int64(152)], [np.int64(60534), np.int64(60915), np.int64(381)], [np.int64(61369), np.int64(61442), np.int64(73)], [np.int64(61877), np.int64(62195), np.int64(318)], [np.int64(62526), np.int64(62597), np.int64(71)], [np.int64(63081), np.int64(63192), np.int64(111)], [np.int64(63706), np.int64(64006), np.int64(300)], [np.int64(65205), np.int64(65435), np.int64(230)], [np.int64(65739), np.int64(66114), np.int64(375)], [np.int64(66475), np.int64(66639), np.int64(164)], [np.int64(67071), np.int64(67356), np.int64(285)], [np.int64(68317), np.int64(68611), np.int64(294)], [np.int64(68959), np.int64(69226), np.int64(267)], [np.int64(69598), np.int64(70166), np.int64(568)], [np.int64(70533), np.int64(70650), np.int64(117)], [np.int64(71006), np.int64(71320), np.int64(314)], [np.int64(72459), np.int64(72862), np.int64(403)], [np.int64(74100), np.int64(74280), np.int64(180)], [np.int64(74626), np.int64(74695), np.int64(69)], [np.int64(76330), np.int64(76671), np.int64(341)], [np.int64(77093), np.int64(77477), np.int64(384)], [np.int64(77806), np.int64(77911), np.int64(105)], [np.int64(78711), np.int64(78800), np.int64(89)], [np.int64(79625), np.int64(79799), np.int64(174)], [np.int64(79969), np.int64(80117), np.int64(148)], [np.int64(80436), np.int64(80985), np.int64(549)], [np.int64(82000), np.int64(82271), np.int64(271)], [np.int64(82582), np.int64(82882), np.int64(300)], [np.int64(84037), np.int64(84627), np.int64(590)], [np.int64(84921), np.int64(84998), np.int64(77)], [np.int64(85322), np.int64(85545), np.int64(223)], [np.int64(85824), np.int64(85967), np.int64(143)], [np.int64(86271), np.int64(86624), np.int64(353)], [np.int64(86966), np.int64(87110), np.int64(144)], [np.int64(87361), np.int64(87629), np.int64(268)], [np.int64(88141), np.int64(88432), np.int64(291)], [np.int64(88750), np.int64(88866), np.int64(116)], [np.int64(89140), np.int64(89750), np.int64(610)], [np.int64(91005), np.int64(91281), np.int64(276)], [np.int64(91625), np.int64(91726), np.int64(101)], [np.int64(92124), np.int64(92450), np.int64(326)], [np.int64(92776), np.int64(92944), np.int64(168)], [np.int64(93883), np.int64(93981), np.int64(98)], [np.int64(94757), np.int64(95020), np.int64(263)], [np.int64(95320), np.int64(95407), np.int64(87)], [np.int64(95702), np.int64(95814), np.int64(112)], [np.int64(96154), np.int64(96328), np.int64(174)], [np.int64(96780), np.int64(96977), np.int64(197)], [np.int64(97290), np.int64(97381), np.int64(91)], [np.int64(98383), np.int64(98781), np.int64(398)], [np.int64(99124), np.int64(99448), np.int64(324)], [np.int64(99720), np.int64(100118), np.int64(398)], [np.int64(100481), np.int64(100764), np.int64(283)], [np.int64(102325), np.int64(102757), np.int64(432)], [np.int64(103190), np.int64(103275), np.int64(85)], [np.int64(103494), np.int64(103578), np.int64(84)], [np.int64(103825), np.int64(104062), np.int64(237)], [np.int64(104873), np.int64(104968), np.int64(95)], [np.int64(105262), np.int64(105337), np.int64(75)], [np.int64(106864), np.int64(106959), np.int64(95)], [np.int64(107227), np.int64(107500), np.int64(273)], [np.int64(119558), np.int64(119620), np.int64(62)], [np.int64(119993), np.int64(120126), np.int64(133)], [np.int64(121920), np.int64(122036), np.int64(116)], [np.int64(123759), np.int64(123854), np.int64(95)], [np.int64(124141), np.int64(124201), np.int64(60)], [np.int64(128843), np.int64(128938), np.int64(95)], [np.int64(138378), np.int64(138677), np.int64(299)], [np.int64(146235), np.int64(146330), np.int64(95)], [np.int64(148748), np.int64(148852), np.int64(104)], [np.int64(149976), np.int64(150094), np.int64(118)], [np.int64(150695), np.int64(150795), np.int64(100)], [np.int64(153929), np.int64(154082), np.int64(153)], [np.int64(154349), np.int64(154536), np.int64(187)], [np.int64(154823), np.int64(154910), np.int64(87)], [np.int64(159695), np.int64(160124), np.int64(429)], [np.int64(162633), np.int64(162933), np.int64(300)], [np.int64(168043), np.int64(168249), np.int64(206)], [np.int64(168996), np.int64(169068), np.int64(72)], [np.int64(170153), np.int64(170365), np.int64(212)], [np.int64(175767), np.int64(175949), np.int64(182)], [np.int64(185711), np.int64(185833), np.int64(122)], [np.int64(186516), np.int64(186665), np.int64(149)], [np.int64(191488), np.int64(191656), np.int64(168)], [np.int64(196188), np.int64(196407), np.int64(219)], [np.int64(199930), np.int64(200105), np.int64(175)], [np.int64(213253), np.int64(213435), np.int64(182)], [np.int64(215772), np.int64(215906), np.int64(134)], [np.int64(219967), np.int64(220109), np.int64(142)], [np.int64(235309), np.int64(235440), np.int64(131)], [np.int64(236079), np.int64(236151), np.int64(72)], [np.int64(252272), np.int64(252525), np.int64(253)], [np.int64(256657), np.int64(256770), np.int64(113)], [np.int64(256965), np.int64(257101), np.int64(136)]]\n",
      "y2: 261006    430.395402\n",
      "261007    430.395488\n",
      "261008    430.395575\n",
      "261009    430.395661\n",
      "261010    430.395747\n",
      "             ...    \n",
      "522007    477.956923\n",
      "522008    477.956769\n",
      "522009    477.956614\n",
      "522010    477.956459\n",
      "522011    477.956304\n",
      "Name: y_centre, Length: 261006, dtype: float64\n",
      "Interaction events for fly 1 and ball 2: []\n",
      "240821_F1_3mm_ends_Videos_Checked_arena4_Left is alive and interacted with the ball.\n",
      "Computing metrics for fly_1_ball_1\n",
      "{'max_event': ([np.int64(119558), np.int64(119620), np.int64(62)], 100), 'final_event': ([np.int64(119558), np.int64(119620), np.int64(62)], 100), 'significant_events': [[np.int64(21833), np.int64(21960), np.int64(127)], [np.int64(47803), np.int64(47943), np.int64(140)], [np.int64(49777), np.int64(50057), np.int64(280)], [np.int64(57313), np.int64(57638), np.int64(325)], [np.int64(61369), np.int64(61442), np.int64(73)], [np.int64(65739), np.int64(66114), np.int64(375)], [np.int64(66475), np.int64(66639), np.int64(164)], [np.int64(67071), np.int64(67356), np.int64(285)], [np.int64(69598), np.int64(70166), np.int64(568)], [np.int64(72459), np.int64(72862), np.int64(403)], [np.int64(76330), np.int64(76671), np.int64(341)], [np.int64(77093), np.int64(77477), np.int64(384)], [np.int64(79969), np.int64(80117), np.int64(148)], [np.int64(80436), np.int64(80985), np.int64(549)], [np.int64(85824), np.int64(85967), np.int64(143)], [np.int64(86271), np.int64(86624), np.int64(353)], [np.int64(86966), np.int64(87110), np.int64(144)], [np.int64(87361), np.int64(87629), np.int64(268)], [np.int64(88141), np.int64(88432), np.int64(291)], [np.int64(88750), np.int64(88866), np.int64(116)], [np.int64(89140), np.int64(89750), np.int64(610)], [np.int64(91005), np.int64(91281), np.int64(276)], [np.int64(95702), np.int64(95814), np.int64(112)], [np.int64(96154), np.int64(96328), np.int64(174)], [np.int64(98383), np.int64(98781), np.int64(398)], [np.int64(99720), np.int64(100118), np.int64(398)], [np.int64(100481), np.int64(100764), np.int64(283)], [np.int64(102325), np.int64(102757), np.int64(432)], [np.int64(103825), np.int64(104062), np.int64(237)], [np.int64(107227), np.int64(107500), np.int64(273)], [np.int64(119993), np.int64(120126), np.int64(133)], [np.int64(149976), np.int64(150094), np.int64(118)], [np.int64(153929), np.int64(154082), np.int64(153)], [np.int64(154349), np.int64(154536), np.int64(187)], [np.int64(159695), np.int64(160124), np.int64(429)], [np.int64(162633), np.int64(162933), np.int64(300)], [np.int64(168996), np.int64(169068), np.int64(72)], [np.int64(186516), np.int64(186665), np.int64(149)], [np.int64(213253), np.int64(213435), np.int64(182)], [np.int64(235309), np.int64(235440), np.int64(131)], [np.int64(252272), np.int64(252525), np.int64(253)]], 'breaks': [(0, np.int64(6162), np.int64(6162)), (np.int64(6305), np.int64(9107), np.int64(2802)), (np.int64(9208), np.int64(10667), np.int64(1459)), (np.int64(10881), np.int64(18523), np.int64(7642)), (np.int64(18625), np.int64(21321), np.int64(2696)), (np.int64(21421), np.int64(21833), np.int64(412)), (np.int64(21960), np.int64(27976), np.int64(6016)), (np.int64(28045), np.int64(29650), np.int64(1605)), (np.int64(29909), np.int64(30792), np.int64(883)), (np.int64(31029), np.int64(32784), np.int64(1755)), (np.int64(33044), np.int64(33536), np.int64(492)), (np.int64(33601), np.int64(34444), np.int64(843)), (np.int64(34577), np.int64(35487), np.int64(910)), (np.int64(35603), np.int64(36519), np.int64(916)), (np.int64(36617), np.int64(37249), np.int64(632)), (np.int64(37333), np.int64(38460), np.int64(1127)), (np.int64(38547), np.int64(39769), np.int64(1222)), (np.int64(39855), np.int64(40236), np.int64(381)), (np.int64(40423), np.int64(40860), np.int64(437)), (np.int64(41049), np.int64(41728), np.int64(679)), (np.int64(42462), np.int64(42950), np.int64(488)), (np.int64(43243), np.int64(43717), np.int64(474)), (np.int64(43791), np.int64(44305), np.int64(514)), (np.int64(45259), np.int64(46317), np.int64(1058)), (np.int64(46582), np.int64(46715), np.int64(133)), (np.int64(46975), np.int64(47803), np.int64(828)), (np.int64(47943), np.int64(48281), np.int64(338)), (np.int64(48340), np.int64(48656), np.int64(316)), (np.int64(48778), np.int64(49777), np.int64(999)), (np.int64(50057), np.int64(50439), np.int64(382)), (np.int64(50500), np.int64(52670), np.int64(2170)), (np.int64(52770), np.int64(53072), np.int64(302)), (np.int64(53269), np.int64(54305), np.int64(1036)), (np.int64(54435), np.int64(55560), np.int64(1125)), (np.int64(55806), np.int64(56760), np.int64(954)), (np.int64(56872), np.int64(57313), np.int64(441)), (np.int64(57638), np.int64(58137), np.int64(499)), (np.int64(58242), np.int64(58612), np.int64(370)), (np.int64(58694), np.int64(59042), np.int64(348)), (np.int64(59371), np.int64(59931), np.int64(560)), (np.int64(60083), np.int64(60534), np.int64(451)), (np.int64(60915), np.int64(61369), np.int64(454)), (np.int64(61442), np.int64(61877), np.int64(435)), (np.int64(62195), np.int64(62526), np.int64(331)), (np.int64(62597), np.int64(63081), np.int64(484)), (np.int64(63192), np.int64(63706), np.int64(514)), (np.int64(64006), np.int64(65205), np.int64(1199)), (np.int64(65435), np.int64(65739), np.int64(304)), (np.int64(66114), np.int64(66475), np.int64(361)), (np.int64(66639), np.int64(67071), np.int64(432)), (np.int64(67356), np.int64(68317), np.int64(961)), (np.int64(68611), np.int64(68959), np.int64(348)), (np.int64(69226), np.int64(69598), np.int64(372)), (np.int64(70166), np.int64(70533), np.int64(367)), (np.int64(70650), np.int64(71006), np.int64(356)), (np.int64(71320), np.int64(72459), np.int64(1139)), (np.int64(72862), np.int64(74100), np.int64(1238)), (np.int64(74280), np.int64(74626), np.int64(346)), (np.int64(74695), np.int64(76330), np.int64(1635)), (np.int64(76671), np.int64(77093), np.int64(422)), (np.int64(77477), np.int64(77806), np.int64(329)), (np.int64(77911), np.int64(78711), np.int64(800)), (np.int64(78800), np.int64(79625), np.int64(825)), (np.int64(79799), np.int64(79969), np.int64(170)), (np.int64(80117), np.int64(80436), np.int64(319)), (np.int64(80985), np.int64(82000), np.int64(1015)), (np.int64(82271), np.int64(82582), np.int64(311)), (np.int64(82882), np.int64(84037), np.int64(1155)), (np.int64(84627), np.int64(84921), np.int64(294)), (np.int64(84998), np.int64(85322), np.int64(324)), (np.int64(85545), np.int64(85824), np.int64(279)), (np.int64(85967), np.int64(86271), np.int64(304)), (np.int64(86624), np.int64(86966), np.int64(342)), (np.int64(87110), np.int64(87361), np.int64(251)), (np.int64(87629), np.int64(88141), np.int64(512)), (np.int64(88432), np.int64(88750), np.int64(318)), (np.int64(88866), np.int64(89140), np.int64(274)), (np.int64(89750), np.int64(91005), np.int64(1255)), (np.int64(91281), np.int64(91625), np.int64(344)), (np.int64(91726), np.int64(92124), np.int64(398)), (np.int64(92450), np.int64(92776), np.int64(326)), (np.int64(92944), np.int64(93883), np.int64(939)), (np.int64(93981), np.int64(94757), np.int64(776)), (np.int64(95020), np.int64(95320), np.int64(300)), (np.int64(95407), np.int64(95702), np.int64(295)), (np.int64(95814), np.int64(96154), np.int64(340)), (np.int64(96328), np.int64(96780), np.int64(452)), (np.int64(96977), np.int64(97290), np.int64(313)), (np.int64(97381), np.int64(98383), np.int64(1002)), (np.int64(98781), np.int64(99124), np.int64(343)), (np.int64(99448), np.int64(99720), np.int64(272)), (np.int64(100118), np.int64(100481), np.int64(363)), (np.int64(100764), np.int64(102325), np.int64(1561)), (np.int64(102757), np.int64(103190), np.int64(433)), (np.int64(103275), np.int64(103494), np.int64(219)), (np.int64(103578), np.int64(103825), np.int64(247)), (np.int64(104062), np.int64(104873), np.int64(811)), (np.int64(104968), np.int64(105262), np.int64(294)), (np.int64(105337), np.int64(106864), np.int64(1527)), (np.int64(106959), np.int64(107227), np.int64(268)), (np.int64(107500), np.int64(119558), np.int64(12058)), (np.int64(119620), np.int64(119993), np.int64(373)), (np.int64(120126), np.int64(121920), np.int64(1794)), (np.int64(122036), np.int64(123759), np.int64(1723)), (np.int64(123854), np.int64(124141), np.int64(287)), (np.int64(124201), np.int64(128843), np.int64(4642)), (np.int64(128938), np.int64(138378), np.int64(9440)), (np.int64(138677), np.int64(146235), np.int64(7558)), (np.int64(146330), np.int64(148748), np.int64(2418)), (np.int64(148852), np.int64(149976), np.int64(1124)), (np.int64(150094), np.int64(150695), np.int64(601)), (np.int64(150795), np.int64(153929), np.int64(3134)), (np.int64(154082), np.int64(154349), np.int64(267)), (np.int64(154536), np.int64(154823), np.int64(287)), (np.int64(154910), np.int64(159695), np.int64(4785)), (np.int64(160124), np.int64(162633), np.int64(2509)), (np.int64(162933), np.int64(168043), np.int64(5110)), (np.int64(168249), np.int64(168996), np.int64(747)), (np.int64(169068), np.int64(170153), np.int64(1085)), (np.int64(170365), np.int64(175767), np.int64(5402)), (np.int64(175949), np.int64(185711), np.int64(9762)), (np.int64(185833), np.int64(186516), np.int64(683)), (np.int64(186665), np.int64(191488), np.int64(4823)), (np.int64(191656), np.int64(196188), np.int64(4532)), (np.int64(196407), np.int64(199930), np.int64(3523)), (np.int64(200105), np.int64(213253), np.int64(13148)), (np.int64(213435), np.int64(215772), np.int64(2337)), (np.int64(215906), np.int64(219967), np.int64(4061)), (np.int64(220109), np.int64(235309), np.int64(15200)), (np.int64(235440), np.int64(236079), np.int64(639)), (np.int64(236151), np.int64(252272), np.int64(16121)), (np.int64(252525), np.int64(256657), np.int64(4132)), (np.int64(256770), np.int64(256965), np.int64(195)), (np.int64(257101), 261006, np.int64(3905))], 'cumulated_breaks_duration': np.int64(233860), 'events_direction': ([[np.int64(47803), np.int64(47943), np.int64(140)], [np.int64(49777), np.int64(50057), np.int64(280)], [np.int64(57313), np.int64(57638), np.int64(325)], [np.int64(65739), np.int64(66114), np.int64(375)], [np.int64(69598), np.int64(70166), np.int64(568)], [np.int64(87361), np.int64(87629), np.int64(268)], [np.int64(88141), np.int64(88432), np.int64(291)], [np.int64(88750), np.int64(88866), np.int64(116)], [np.int64(96154), np.int64(96328), np.int64(174)], [np.int64(102325), np.int64(102757), np.int64(432)], [np.int64(103825), np.int64(104062), np.int64(237)], [np.int64(107227), np.int64(107500), np.int64(273)], [np.int64(149976), np.int64(150094), np.int64(118)], [np.int64(153929), np.int64(154082), np.int64(153)], [np.int64(159695), np.int64(160124), np.int64(429)], [np.int64(162633), np.int64(162933), np.int64(300)], [np.int64(213253), np.int64(213435), np.int64(182)], [np.int64(252272), np.int64(252525), np.int64(253)]], [[np.int64(21833), np.int64(21960), np.int64(127)], [np.int64(61369), np.int64(61442), np.int64(73)], [np.int64(66475), np.int64(66639), np.int64(164)], [np.int64(67071), np.int64(67356), np.int64(285)], [np.int64(72459), np.int64(72862), np.int64(403)], [np.int64(76330), np.int64(76671), np.int64(341)], [np.int64(77093), np.int64(77477), np.int64(384)], [np.int64(79969), np.int64(80117), np.int64(148)], [np.int64(80436), np.int64(80985), np.int64(549)], [np.int64(85824), np.int64(85967), np.int64(143)], [np.int64(86271), np.int64(86624), np.int64(353)], [np.int64(86966), np.int64(87110), np.int64(144)], [np.int64(89140), np.int64(89750), np.int64(610)], [np.int64(91005), np.int64(91281), np.int64(276)], [np.int64(95702), np.int64(95814), np.int64(112)], [np.int64(98383), np.int64(98781), np.int64(398)], [np.int64(99720), np.int64(100118), np.int64(398)], [np.int64(100481), np.int64(100764), np.int64(283)], [np.int64(119993), np.int64(120126), np.int64(133)], [np.int64(154349), np.int64(154536), np.int64(187)], [np.int64(168996), np.int64(169068), np.int64(72)], [np.int64(186516), np.int64(186665), np.int64(149)], [np.int64(235309), np.int64(235440), np.int64(131)]])}\n",
      "Computing metrics for fly_1_ball_2\n",
      "{'max_event': (None, None), 'final_event': (None, None), 'significant_events': [], 'breaks': [(0, 261006, 261006)], 'cumulated_breaks_duration': 261006, 'events_direction': ([], [])}\n"
     ]
    }
   ],
   "source": [
    "TestFly = Ballpushing_utils.Fly(TestFly_path, as_individual=True)"
   ]
  },
  {
   "cell_type": "code",
   "execution_count": 24,
   "metadata": {},
   "outputs": [],
   "source": [
    "# Let's make 2 annotated videos for each push / pull event\n",
    "\n",
    "# First, let's get the push / pull events\n",
    "\n",
    "pushes = TestFly.metrics[\"fly_1_ball_1\"][\"events_direction\"][0]\n",
    "\n",
    "pulls = TestFly.metrics[\"fly_1_ball_1\"][\"events_direction\"][1]"
   ]
  },
  {
   "cell_type": "code",
   "execution_count": 172,
   "metadata": {},
   "outputs": [
    {
     "name": "stdout",
     "output_type": "stream",
     "text": [
      "No CUDA devices found, falling back to CPU processing.\n"
     ]
    },
    {
     "name": "stderr",
     "output_type": "stream",
     "text": [
      "Processing frames: 100%|██████████| 219/219 [00:05<00:00, 37.80it/s]\n"
     ]
    },
    {
     "name": "stdout",
     "output_type": "stream",
     "text": [
      "No CUDA devices found, falling back to CPU processing.\n"
     ]
    },
    {
     "name": "stderr",
     "output_type": "stream",
     "text": [
      "Processing frames: 100%|██████████| 389/389 [00:09<00:00, 38.91it/s]\n"
     ]
    },
    {
     "name": "stdout",
     "output_type": "stream",
     "text": [
      "No CUDA devices found, falling back to CPU processing.\n"
     ]
    },
    {
     "name": "stderr",
     "output_type": "stream",
     "text": [
      "Processing frames: 100%|██████████| 585/585 [00:15<00:00, 38.98it/s]\n"
     ]
    },
    {
     "name": "stdout",
     "output_type": "stream",
     "text": [
      "No CUDA devices found, falling back to CPU processing.\n"
     ]
    },
    {
     "name": "stderr",
     "output_type": "stream",
     "text": [
      "Processing frames: 100%|██████████| 111/111 [00:03<00:00, 33.20it/s]\n"
     ]
    }
   ],
   "source": [
    "# Now for the two first pushes and pulls, let's make the videos\n",
    "\n",
    "for push in pushes[:2]:\n",
    "    TestFly.flytrack.generate_annotated_video(save=True, output_path = f\"/mnt/upramdya_data/MD/Other_Videos/Events_annotation/push{push}.mp4\"\n",
    "    , start = push[0], end = push[1])\n",
    "for pull in pulls[:2]:\n",
    "    TestFly.flytrack.generate_annotated_video(save=True, output_path = f\"/mnt/upramdya_data/MD/Other_Videos/Events_annotation/pull{pull}.mp4\"\n",
    "    , start = pull[0], end = pull[1])\n",
    "    \n",
    "    "
   ]
  },
  {
   "cell_type": "code",
   "execution_count": 159,
   "metadata": {},
   "outputs": [
    {
     "data": {
      "text/plain": [
       "([[np.int64(53651), np.int64(53869), np.int64(218)],\n",
       "  [np.int64(56493), np.int64(56603), np.int64(110)],\n",
       "  [np.int64(59233), np.int64(59302), np.int64(69)],\n",
       "  [np.int64(59711), np.int64(60034), np.int64(323)],\n",
       "  [np.int64(62187), np.int64(62274), np.int64(87)],\n",
       "  [np.int64(66494), np.int64(66807), np.int64(313)],\n",
       "  [np.int64(69427), np.int64(70538), np.int64(1111)]],\n",
       " [[np.int64(54166), np.int64(54554), np.int64(388)],\n",
       "  [np.int64(55126), np.int64(55710), np.int64(584)],\n",
       "  [np.int64(56022), np.int64(56101), np.int64(79)],\n",
       "  [np.int64(56889), np.int64(57498), np.int64(609)],\n",
       "  [np.int64(58541), np.int64(58654), np.int64(113)],\n",
       "  [np.int64(60964), np.int64(61259), np.int64(295)],\n",
       "  [np.int64(64498), np.int64(64575), np.int64(77)],\n",
       "  [np.int64(67637), np.int64(68002), np.int64(365)],\n",
       "  [np.int64(68769), np.int64(69006), np.int64(237)],\n",
       "  [np.int64(142259), np.int64(142486), np.int64(227)],\n",
       "  [np.int64(145511), np.int64(145866), np.int64(355)]])"
      ]
     },
     "execution_count": 159,
     "metadata": {},
     "output_type": "execute_result"
    }
   ],
   "source": [
    "TestFly.metrics[\"fly_1_ball_1\"][\"events_direction\"]"
   ]
  },
  {
   "cell_type": "code",
   "execution_count": 98,
   "metadata": {},
   "outputs": [
    {
     "data": {
      "text/plain": [
       "2704.0"
      ]
     },
     "execution_count": 98,
     "metadata": {},
     "output_type": "execute_result"
    }
   ],
   "source": [
    "78416 / 29"
   ]
  },
  {
   "cell_type": "code",
   "execution_count": 99,
   "metadata": {},
   "outputs": [
    {
     "data": {
      "text/plain": [
       "45.06666666666667"
      ]
     },
     "execution_count": 99,
     "metadata": {},
     "output_type": "execute_result"
    }
   ],
   "source": [
    "2704 / 60"
   ]
  },
  {
   "cell_type": "code",
   "execution_count": 100,
   "metadata": {},
   "outputs": [
    {
     "data": {
      "text/plain": [
       "'starved_noWater'"
      ]
     },
     "execution_count": 100,
     "metadata": {},
     "output_type": "execute_result"
    }
   ],
   "source": [
    "TestFly.FeedingState"
   ]
  },
  {
   "cell_type": "code",
   "execution_count": 101,
   "metadata": {},
   "outputs": [
    {
     "data": {
      "text/plain": [
       "{1: {1: [[np.int64(52980), np.int64(53066), np.int64(86)],\n",
       "   [np.int64(53651), np.int64(53869), np.int64(218)],\n",
       "   [np.int64(54166), np.int64(54554), np.int64(388)],\n",
       "   [np.int64(55126), np.int64(55710), np.int64(584)],\n",
       "   [np.int64(56022), np.int64(56101), np.int64(79)],\n",
       "   [np.int64(56493), np.int64(56603), np.int64(110)],\n",
       "   [np.int64(56889), np.int64(57498), np.int64(609)],\n",
       "   [np.int64(58191), np.int64(58289), np.int64(98)],\n",
       "   [np.int64(58541), np.int64(58654), np.int64(113)],\n",
       "   [np.int64(59233), np.int64(59302), np.int64(69)],\n",
       "   [np.int64(59711), np.int64(60034), np.int64(323)],\n",
       "   [np.int64(60964), np.int64(61259), np.int64(295)],\n",
       "   [np.int64(62187), np.int64(62274), np.int64(87)],\n",
       "   [np.int64(63039), np.int64(63100), np.int64(61)],\n",
       "   [np.int64(63554), np.int64(63620), np.int64(66)],\n",
       "   [np.int64(64498), np.int64(64575), np.int64(77)],\n",
       "   [np.int64(65043), np.int64(65159), np.int64(116)],\n",
       "   [np.int64(65870), np.int64(66007), np.int64(137)],\n",
       "   [np.int64(66494), np.int64(66807), np.int64(313)],\n",
       "   [np.int64(67637), np.int64(68002), np.int64(365)],\n",
       "   [np.int64(68769), np.int64(69006), np.int64(237)],\n",
       "   [np.int64(69427), np.int64(70538), np.int64(1111)],\n",
       "   [np.int64(72017), np.int64(72217), np.int64(200)],\n",
       "   [np.int64(78416), np.int64(78777), np.int64(361)],\n",
       "   [np.int64(79562), np.int64(79649), np.int64(87)],\n",
       "   [np.int64(79987), np.int64(80211), np.int64(224)],\n",
       "   [np.int64(83167), np.int64(83279), np.int64(112)],\n",
       "   [np.int64(84766), np.int64(84862), np.int64(96)],\n",
       "   [np.int64(85329), np.int64(85396), np.int64(67)],\n",
       "   [np.int64(88215), np.int64(88446), np.int64(231)],\n",
       "   [np.int64(92091), np.int64(92161), np.int64(70)],\n",
       "   [np.int64(93609), np.int64(93718), np.int64(109)],\n",
       "   [np.int64(97803), np.int64(97986), np.int64(183)],\n",
       "   [np.int64(99524), np.int64(99596), np.int64(72)],\n",
       "   [np.int64(103334), np.int64(103610), np.int64(276)],\n",
       "   [np.int64(105021), np.int64(105153), np.int64(132)],\n",
       "   [np.int64(106417), np.int64(107185), np.int64(768)],\n",
       "   [np.int64(113626), np.int64(113932), np.int64(306)],\n",
       "   [np.int64(115173), np.int64(115237), np.int64(64)],\n",
       "   [np.int64(118636), np.int64(118717), np.int64(81)],\n",
       "   [np.int64(121037), np.int64(121146), np.int64(109)],\n",
       "   [np.int64(122403), np.int64(122497), np.int64(94)],\n",
       "   [np.int64(124444), np.int64(125177), np.int64(733)],\n",
       "   [np.int64(125503), np.int64(125698), np.int64(195)],\n",
       "   [np.int64(132525), np.int64(132649), np.int64(124)],\n",
       "   [np.int64(138276), np.int64(138371), np.int64(95)],\n",
       "   [np.int64(138887), np.int64(139047), np.int64(160)],\n",
       "   [np.int64(142259), np.int64(142486), np.int64(227)],\n",
       "   [np.int64(145511), np.int64(145866), np.int64(355)],\n",
       "   [np.int64(149906), np.int64(150000), np.int64(94)],\n",
       "   [np.int64(151292), np.int64(151557), np.int64(265)],\n",
       "   [np.int64(154751), np.int64(154949), np.int64(198)]]}}"
      ]
     },
     "execution_count": 101,
     "metadata": {},
     "output_type": "execute_result"
    }
   ],
   "source": [
    "TestFly.interaction_events"
   ]
  },
  {
   "cell_type": "code",
   "execution_count": 102,
   "metadata": {},
   "outputs": [
    {
     "name": "stdout",
     "output_type": "stream",
     "text": [
      "Number of events for 1: 1\n"
     ]
    },
    {
     "data": {
      "text/plain": [
       "{1: 1}"
      ]
     },
     "execution_count": 102,
     "metadata": {},
     "output_type": "execute_result"
    }
   ],
   "source": [
    "TestFly.get_events_number()"
   ]
  },
  {
   "cell_type": "code",
   "execution_count": 106,
   "metadata": {},
   "outputs": [
    {
     "data": {
      "text/plain": [
       "{'final_event': ([np.int64(78416), np.int64(78777), np.int64(361)], 23),\n",
       " 'significant_events': [[np.int64(53651), np.int64(53869), np.int64(218)],\n",
       "  [np.int64(54166), np.int64(54554), np.int64(388)],\n",
       "  [np.int64(55126), np.int64(55710), np.int64(584)],\n",
       "  [np.int64(56022), np.int64(56101), np.int64(79)],\n",
       "  [np.int64(56493), np.int64(56603), np.int64(110)],\n",
       "  [np.int64(56889), np.int64(57498), np.int64(609)],\n",
       "  [np.int64(58541), np.int64(58654), np.int64(113)],\n",
       "  [np.int64(59233), np.int64(59302), np.int64(69)],\n",
       "  [np.int64(59711), np.int64(60034), np.int64(323)],\n",
       "  [np.int64(60964), np.int64(61259), np.int64(295)],\n",
       "  [np.int64(62187), np.int64(62274), np.int64(87)],\n",
       "  [np.int64(64498), np.int64(64575), np.int64(77)],\n",
       "  [np.int64(66494), np.int64(66807), np.int64(313)],\n",
       "  [np.int64(67637), np.int64(68002), np.int64(365)],\n",
       "  [np.int64(68769), np.int64(69006), np.int64(237)],\n",
       "  [np.int64(69427), np.int64(70538), np.int64(1111)],\n",
       "  [np.int64(142259), np.int64(142486), np.int64(227)],\n",
       "  [np.int64(145511), np.int64(145866), np.int64(355)]],\n",
       " 'breaks': [(0, np.int64(52980), np.int64(52980)),\n",
       "  (np.int64(53066), np.int64(53651), np.int64(585)),\n",
       "  (np.int64(53869), np.int64(54166), np.int64(297)),\n",
       "  (np.int64(54554), np.int64(55126), np.int64(572)),\n",
       "  (np.int64(55710), np.int64(56022), np.int64(312)),\n",
       "  (np.int64(56101), np.int64(56493), np.int64(392)),\n",
       "  (np.int64(56603), np.int64(56889), np.int64(286)),\n",
       "  (np.int64(57498), np.int64(58191), np.int64(693)),\n",
       "  (np.int64(58289), np.int64(58541), np.int64(252)),\n",
       "  (np.int64(58654), np.int64(59233), np.int64(579)),\n",
       "  (np.int64(59302), np.int64(59711), np.int64(409)),\n",
       "  (np.int64(60034), np.int64(60964), np.int64(930)),\n",
       "  (np.int64(61259), np.int64(62187), np.int64(928)),\n",
       "  (np.int64(62274), np.int64(63039), np.int64(765)),\n",
       "  (np.int64(63100), np.int64(63554), np.int64(454)),\n",
       "  (np.int64(63620), np.int64(64498), np.int64(878)),\n",
       "  (np.int64(64575), np.int64(65043), np.int64(468)),\n",
       "  (np.int64(65159), np.int64(65870), np.int64(711)),\n",
       "  (np.int64(66007), np.int64(66494), np.int64(487)),\n",
       "  (np.int64(66807), np.int64(67637), np.int64(830)),\n",
       "  (np.int64(68002), np.int64(68769), np.int64(767)),\n",
       "  (np.int64(69006), np.int64(69427), np.int64(421)),\n",
       "  (np.int64(70538), np.int64(72017), np.int64(1479)),\n",
       "  (np.int64(72217), np.int64(78416), np.int64(6199)),\n",
       "  (np.int64(78777), np.int64(79562), np.int64(785)),\n",
       "  (np.int64(79649), np.int64(79987), np.int64(338)),\n",
       "  (np.int64(80211), np.int64(83167), np.int64(2956)),\n",
       "  (np.int64(83279), np.int64(84766), np.int64(1487)),\n",
       "  (np.int64(84862), np.int64(85329), np.int64(467)),\n",
       "  (np.int64(85396), np.int64(88215), np.int64(2819)),\n",
       "  (np.int64(88446), np.int64(92091), np.int64(3645)),\n",
       "  (np.int64(92161), np.int64(93609), np.int64(1448)),\n",
       "  (np.int64(93718), np.int64(97803), np.int64(4085)),\n",
       "  (np.int64(97986), np.int64(99524), np.int64(1538)),\n",
       "  (np.int64(99596), np.int64(103334), np.int64(3738)),\n",
       "  (np.int64(103610), np.int64(105021), np.int64(1411)),\n",
       "  (np.int64(105153), np.int64(106417), np.int64(1264)),\n",
       "  (np.int64(107185), np.int64(113626), np.int64(6441)),\n",
       "  (np.int64(113932), np.int64(115173), np.int64(1241)),\n",
       "  (np.int64(115237), np.int64(118636), np.int64(3399)),\n",
       "  (np.int64(118717), np.int64(121037), np.int64(2320)),\n",
       "  (np.int64(121146), np.int64(122403), np.int64(1257)),\n",
       "  (np.int64(122497), np.int64(124444), np.int64(1947)),\n",
       "  (np.int64(125177), np.int64(125503), np.int64(326)),\n",
       "  (np.int64(125698), np.int64(132525), np.int64(6827)),\n",
       "  (np.int64(132649), np.int64(138276), np.int64(5627)),\n",
       "  (np.int64(138371), np.int64(138887), np.int64(516)),\n",
       "  (np.int64(139047), np.int64(142259), np.int64(3212)),\n",
       "  (np.int64(142486), np.int64(145511), np.int64(3025)),\n",
       "  (np.int64(145866), np.int64(149906), np.int64(4040)),\n",
       "  (np.int64(150000), np.int64(151292), np.int64(1292)),\n",
       "  (np.int64(151557), np.int64(154751), np.int64(3194)),\n",
       "  (np.int64(154949), 156603, np.int64(1654))],\n",
       " 'cumulated_breaks_duration': np.int64(144973),\n",
       " 'events_direction': ([[np.int64(53651), np.int64(53869), np.int64(218)],\n",
       "   [np.int64(56493), np.int64(56603), np.int64(110)],\n",
       "   [np.int64(59233), np.int64(59302), np.int64(69)],\n",
       "   [np.int64(59711), np.int64(60034), np.int64(323)],\n",
       "   [np.int64(62187), np.int64(62274), np.int64(87)],\n",
       "   [np.int64(66494), np.int64(66807), np.int64(313)],\n",
       "   [np.int64(69427), np.int64(70538), np.int64(1111)]],\n",
       "  [[np.int64(54166), np.int64(54554), np.int64(388)],\n",
       "   [np.int64(55126), np.int64(55710), np.int64(584)],\n",
       "   [np.int64(56022), np.int64(56101), np.int64(79)],\n",
       "   [np.int64(56889), np.int64(57498), np.int64(609)],\n",
       "   [np.int64(58541), np.int64(58654), np.int64(113)],\n",
       "   [np.int64(60964), np.int64(61259), np.int64(295)],\n",
       "   [np.int64(64498), np.int64(64575), np.int64(77)],\n",
       "   [np.int64(67637), np.int64(68002), np.int64(365)],\n",
       "   [np.int64(68769), np.int64(69006), np.int64(237)],\n",
       "   [np.int64(142259), np.int64(142486), np.int64(227)],\n",
       "   [np.int64(145511), np.int64(145866), np.int64(355)]])}"
      ]
     },
     "execution_count": 106,
     "metadata": {},
     "output_type": "execute_result"
    }
   ],
   "source": [
    "TestFly.metrics[\"fly_1_ball_1\"]"
   ]
  },
  {
   "cell_type": "code",
   "execution_count": 115,
   "metadata": {},
   "outputs": [
    {
     "data": {
      "text/plain": [
       "np.int64(78416)"
      ]
     },
     "execution_count": 115,
     "metadata": {},
     "output_type": "execute_result"
    }
   ],
   "source": [
    "final_event[0][0]"
   ]
  },
  {
   "cell_type": "code",
   "execution_count": 141,
   "metadata": {},
   "outputs": [
    {
     "name": "stdout",
     "output_type": "stream",
     "text": [
      "No CUDA devices found, falling back to CPU processing.\n"
     ]
    },
    {
     "name": "stderr",
     "output_type": "stream",
     "text": [
      "Processing frames: 100%|██████████| 610/610 [00:15<00:00, 38.82it/s]\n"
     ]
    }
   ],
   "source": [
    "# Make an annotated video of the final event of the fly\n",
    "final_event = TestFly.metrics[\"fly_1_ball_1\"][\"final_event\"]\n",
    "\n",
    "TestFly.balltrack.generate_annotated_video(\n",
    "    save=True,\n",
    "    output_path = \"/mnt/upramdya_data/MD/Other_Videos/Events_annotation/final_event.mp4\",\n",
    "    start=final_event[0][0],\n",
    "    end = final_event[0][1]\n",
    ")\n"
   ]
  },
  {
   "cell_type": "code",
   "execution_count": 121,
   "metadata": {},
   "outputs": [
    {
     "data": {
      "text/plain": [
       "{1: {1: [[np.int64(52980), np.int64(53066), np.int64(86)],\n",
       "   [np.int64(53651), np.int64(53869), np.int64(218)],\n",
       "   [np.int64(54166), np.int64(54554), np.int64(388)],\n",
       "   [np.int64(55126), np.int64(55710), np.int64(584)],\n",
       "   [np.int64(56022), np.int64(56101), np.int64(79)],\n",
       "   [np.int64(56493), np.int64(56603), np.int64(110)],\n",
       "   [np.int64(56889), np.int64(57498), np.int64(609)],\n",
       "   [np.int64(58191), np.int64(58289), np.int64(98)],\n",
       "   [np.int64(58541), np.int64(58654), np.int64(113)],\n",
       "   [np.int64(59233), np.int64(59302), np.int64(69)],\n",
       "   [np.int64(59711), np.int64(60034), np.int64(323)],\n",
       "   [np.int64(60964), np.int64(61259), np.int64(295)],\n",
       "   [np.int64(62187), np.int64(62274), np.int64(87)],\n",
       "   [np.int64(63039), np.int64(63100), np.int64(61)],\n",
       "   [np.int64(63554), np.int64(63620), np.int64(66)],\n",
       "   [np.int64(64498), np.int64(64575), np.int64(77)],\n",
       "   [np.int64(65043), np.int64(65159), np.int64(116)],\n",
       "   [np.int64(65870), np.int64(66007), np.int64(137)],\n",
       "   [np.int64(66494), np.int64(66807), np.int64(313)],\n",
       "   [np.int64(67637), np.int64(68002), np.int64(365)],\n",
       "   [np.int64(68769), np.int64(69006), np.int64(237)],\n",
       "   [np.int64(69427), np.int64(70538), np.int64(1111)],\n",
       "   [np.int64(72017), np.int64(72217), np.int64(200)],\n",
       "   [np.int64(78416), np.int64(78777), np.int64(361)],\n",
       "   [np.int64(79562), np.int64(79649), np.int64(87)],\n",
       "   [np.int64(79987), np.int64(80211), np.int64(224)],\n",
       "   [np.int64(83167), np.int64(83279), np.int64(112)],\n",
       "   [np.int64(84766), np.int64(84862), np.int64(96)],\n",
       "   [np.int64(85329), np.int64(85396), np.int64(67)],\n",
       "   [np.int64(88215), np.int64(88446), np.int64(231)],\n",
       "   [np.int64(92091), np.int64(92161), np.int64(70)],\n",
       "   [np.int64(93609), np.int64(93718), np.int64(109)],\n",
       "   [np.int64(97803), np.int64(97986), np.int64(183)],\n",
       "   [np.int64(99524), np.int64(99596), np.int64(72)],\n",
       "   [np.int64(103334), np.int64(103610), np.int64(276)],\n",
       "   [np.int64(105021), np.int64(105153), np.int64(132)],\n",
       "   [np.int64(106417), np.int64(107185), np.int64(768)],\n",
       "   [np.int64(113626), np.int64(113932), np.int64(306)],\n",
       "   [np.int64(115173), np.int64(115237), np.int64(64)],\n",
       "   [np.int64(118636), np.int64(118717), np.int64(81)],\n",
       "   [np.int64(121037), np.int64(121146), np.int64(109)],\n",
       "   [np.int64(122403), np.int64(122497), np.int64(94)],\n",
       "   [np.int64(124444), np.int64(125177), np.int64(733)],\n",
       "   [np.int64(125503), np.int64(125698), np.int64(195)],\n",
       "   [np.int64(132525), np.int64(132649), np.int64(124)],\n",
       "   [np.int64(138276), np.int64(138371), np.int64(95)],\n",
       "   [np.int64(138887), np.int64(139047), np.int64(160)],\n",
       "   [np.int64(142259), np.int64(142486), np.int64(227)],\n",
       "   [np.int64(145511), np.int64(145866), np.int64(355)],\n",
       "   [np.int64(149906), np.int64(150000), np.int64(94)],\n",
       "   [np.int64(151292), np.int64(151557), np.int64(265)],\n",
       "   [np.int64(154751), np.int64(154949), np.int64(198)]]}}"
      ]
     },
     "execution_count": 121,
     "metadata": {},
     "output_type": "execute_result"
    }
   ],
   "source": [
    "TestFly.interaction_events"
   ]
  },
  {
   "cell_type": "code",
   "execution_count": 125,
   "metadata": {},
   "outputs": [
    {
     "data": {
      "text/plain": [
       "[19, 20, 21, 22, 23]"
      ]
     },
     "execution_count": 125,
     "metadata": {},
     "output_type": "execute_result"
    }
   ],
   "source": [
    "# Plot the ball position during the final event and the 4 previous events\n",
    "\n",
    "final_event_idx = final_event[1]\n",
    "\n",
    "events = TestFly.interaction_events[1][1]\n",
    " \n",
    "events_idx = [final_event_idx - 4, final_event_idx - 3, final_event_idx - 2, final_event_idx - 1, final_event_idx]\n",
    "\n",
    "events_idx"
   ]
  },
  {
   "cell_type": "code",
   "execution_count": 126,
   "metadata": {},
   "outputs": [
    {
     "data": {
      "text/plain": [
       "[np.int64(67637), np.int64(68002), np.int64(365)]"
      ]
     },
     "execution_count": 126,
     "metadata": {},
     "output_type": "execute_result"
    }
   ],
   "source": [
    "events[19]"
   ]
  },
  {
   "cell_type": "code",
   "execution_count": 129,
   "metadata": {},
   "outputs": [
    {
     "name": "stdout",
     "output_type": "stream",
     "text": [
      "No CUDA devices found, falling back to CPU processing.\n"
     ]
    },
    {
     "name": "stderr",
     "output_type": "stream",
     "text": [
      "Processing frames: 100%|██████████| 366/366 [00:09<00:00, 37.77it/s]\n"
     ]
    },
    {
     "name": "stdout",
     "output_type": "stream",
     "text": [
      "No CUDA devices found, falling back to CPU processing.\n"
     ]
    },
    {
     "name": "stderr",
     "output_type": "stream",
     "text": [
      "Processing frames: 100%|██████████| 238/238 [00:06<00:00, 36.93it/s]\n"
     ]
    },
    {
     "name": "stdout",
     "output_type": "stream",
     "text": [
      "No CUDA devices found, falling back to CPU processing.\n"
     ]
    },
    {
     "name": "stderr",
     "output_type": "stream",
     "text": [
      "Processing frames: 100%|██████████| 1112/1112 [00:32<00:00, 34.37it/s]\n"
     ]
    },
    {
     "name": "stdout",
     "output_type": "stream",
     "text": [
      "No CUDA devices found, falling back to CPU processing.\n"
     ]
    },
    {
     "name": "stderr",
     "output_type": "stream",
     "text": [
      "Processing frames: 100%|██████████| 201/201 [00:05<00:00, 35.84it/s]\n"
     ]
    },
    {
     "name": "stdout",
     "output_type": "stream",
     "text": [
      "No CUDA devices found, falling back to CPU processing.\n"
     ]
    },
    {
     "name": "stderr",
     "output_type": "stream",
     "text": [
      "Processing frames: 100%|██████████| 362/362 [00:09<00:00, 37.90it/s]\n"
     ]
    }
   ],
   "source": [
    "for i in events_idx:\n",
    "    TestFly.balltrack.generate_annotated_video(\n",
    "        start=events[i][0],\n",
    "        end=events[i][1],\n",
    "        save=True,\n",
    "        output_path = f\"/mnt/upramdya_data/MD/Other_Videos/Events_annotation/event_{i}.mp4\"\n",
    "    )"
   ]
  },
  {
   "cell_type": "code",
   "execution_count": null,
   "metadata": {},
   "outputs": [],
   "source": []
  },
  {
   "cell_type": "code",
   "execution_count": 130,
   "metadata": {},
   "outputs": [
    {
     "data": {
      "text/html": [
       "<div>\n",
       "<style scoped>\n",
       "    .dataframe tbody tr th:only-of-type {\n",
       "        vertical-align: middle;\n",
       "    }\n",
       "\n",
       "    .dataframe tbody tr th {\n",
       "        vertical-align: top;\n",
       "    }\n",
       "\n",
       "    .dataframe thead th {\n",
       "        text-align: right;\n",
       "    }\n",
       "</style>\n",
       "<table border=\"1\" class=\"dataframe\">\n",
       "  <thead>\n",
       "    <tr style=\"text-align: right;\">\n",
       "      <th></th>\n",
       "      <th>frame</th>\n",
       "      <th>time</th>\n",
       "      <th>object</th>\n",
       "      <th>x_centre</th>\n",
       "      <th>y_centre</th>\n",
       "    </tr>\n",
       "  </thead>\n",
       "  <tbody>\n",
       "    <tr>\n",
       "      <th>0</th>\n",
       "      <td>1</td>\n",
       "      <td>0.034483</td>\n",
       "      <td>ball_1</td>\n",
       "      <td>48.438969</td>\n",
       "      <td>337.431762</td>\n",
       "    </tr>\n",
       "    <tr>\n",
       "      <th>1</th>\n",
       "      <td>2</td>\n",
       "      <td>0.068966</td>\n",
       "      <td>ball_1</td>\n",
       "      <td>48.439048</td>\n",
       "      <td>337.431753</td>\n",
       "    </tr>\n",
       "    <tr>\n",
       "      <th>2</th>\n",
       "      <td>3</td>\n",
       "      <td>0.103448</td>\n",
       "      <td>ball_1</td>\n",
       "      <td>48.439126</td>\n",
       "      <td>337.431744</td>\n",
       "    </tr>\n",
       "    <tr>\n",
       "      <th>3</th>\n",
       "      <td>4</td>\n",
       "      <td>0.137931</td>\n",
       "      <td>ball_1</td>\n",
       "      <td>48.439205</td>\n",
       "      <td>337.431736</td>\n",
       "    </tr>\n",
       "    <tr>\n",
       "      <th>4</th>\n",
       "      <td>5</td>\n",
       "      <td>0.172414</td>\n",
       "      <td>ball_1</td>\n",
       "      <td>48.439284</td>\n",
       "      <td>337.431727</td>\n",
       "    </tr>\n",
       "    <tr>\n",
       "      <th>...</th>\n",
       "      <td>...</td>\n",
       "      <td>...</td>\n",
       "      <td>...</td>\n",
       "      <td>...</td>\n",
       "      <td>...</td>\n",
       "    </tr>\n",
       "    <tr>\n",
       "      <th>156598</th>\n",
       "      <td>156599</td>\n",
       "      <td>5399.965517</td>\n",
       "      <td>ball_1</td>\n",
       "      <td>47.108495</td>\n",
       "      <td>115.377940</td>\n",
       "    </tr>\n",
       "    <tr>\n",
       "      <th>156599</th>\n",
       "      <td>156600</td>\n",
       "      <td>5400.000000</td>\n",
       "      <td>ball_1</td>\n",
       "      <td>47.103990</td>\n",
       "      <td>115.382139</td>\n",
       "    </tr>\n",
       "    <tr>\n",
       "      <th>156600</th>\n",
       "      <td>156601</td>\n",
       "      <td>5400.034483</td>\n",
       "      <td>ball_1</td>\n",
       "      <td>47.099485</td>\n",
       "      <td>115.386337</td>\n",
       "    </tr>\n",
       "    <tr>\n",
       "      <th>156601</th>\n",
       "      <td>156602</td>\n",
       "      <td>5400.068966</td>\n",
       "      <td>ball_1</td>\n",
       "      <td>47.094980</td>\n",
       "      <td>115.390535</td>\n",
       "    </tr>\n",
       "    <tr>\n",
       "      <th>156602</th>\n",
       "      <td>156603</td>\n",
       "      <td>5400.103448</td>\n",
       "      <td>ball_1</td>\n",
       "      <td>47.090475</td>\n",
       "      <td>115.394733</td>\n",
       "    </tr>\n",
       "  </tbody>\n",
       "</table>\n",
       "<p>156603 rows × 5 columns</p>\n",
       "</div>"
      ],
      "text/plain": [
       "         frame         time  object   x_centre    y_centre\n",
       "0            1     0.034483  ball_1  48.438969  337.431762\n",
       "1            2     0.068966  ball_1  48.439048  337.431753\n",
       "2            3     0.103448  ball_1  48.439126  337.431744\n",
       "3            4     0.137931  ball_1  48.439205  337.431736\n",
       "4            5     0.172414  ball_1  48.439284  337.431727\n",
       "...        ...          ...     ...        ...         ...\n",
       "156598  156599  5399.965517  ball_1  47.108495  115.377940\n",
       "156599  156600  5400.000000  ball_1  47.103990  115.382139\n",
       "156600  156601  5400.034483  ball_1  47.099485  115.386337\n",
       "156601  156602  5400.068966  ball_1  47.094980  115.390535\n",
       "156602  156603  5400.103448  ball_1  47.090475  115.394733\n",
       "\n",
       "[156603 rows x 5 columns]"
      ]
     },
     "execution_count": 130,
     "metadata": {},
     "output_type": "execute_result"
    }
   ],
   "source": [
    "# Plot the ball positions\n",
    "\n",
    "positions = TestFly.balltrack.dataset\n",
    "\n",
    "positions"
   ]
  },
  {
   "cell_type": "code",
   "execution_count": 131,
   "metadata": {},
   "outputs": [
    {
     "data": {
      "image/png": "[encoded data removed]",
      "text/plain": [
       "<Figure size 640x480 with 1 Axes>"
      ]
     },
     "metadata": {},
     "output_type": "display_data"
    }
   ],
   "source": [
    "# Plot the y_centre of the ball over time\n",
    "\n",
    "import matplotlib.pyplot as plt\n",
    "\n",
    "plt.plot(positions[\"y_centre\"])\n",
    "plt.show()"
   ]
  },
  {
   "cell_type": "code",
   "execution_count": 132,
   "metadata": {},
   "outputs": [],
   "source": [
    "# Generate relative positions based on the y_centre\n",
    "\n",
    "positions[\"y_relative\"] = abs(positions[\"y_centre\"] - positions[\"y_centre\"].iloc[0])"
   ]
  },
  {
   "cell_type": "code",
   "execution_count": 133,
   "metadata": {},
   "outputs": [
    {
     "data": {
      "image/png": "[encoded data removed]",
      "text/plain": [
       "<Figure size 640x480 with 1 Axes>"
      ]
     },
     "metadata": {},
     "output_type": "display_data"
    }
   ],
   "source": [
    "plt.plot(positions[\"y_relative\"])\n",
    "plt.show()"
   ]
  },
  {
   "cell_type": "code",
   "execution_count": 134,
   "metadata": {},
   "outputs": [],
   "source": [
    "# get max relative position\n",
    "\n",
    "max_relative = positions[\"y_relative\"].max()"
   ]
  },
  {
   "cell_type": "code",
   "execution_count": 35,
   "metadata": {},
   "outputs": [],
   "source": [
    "TestFly.fly_skeleton"
   ]
  },
  {
   "cell_type": "code",
   "execution_count": 53,
   "metadata": {},
   "outputs": [
    {
     "data": {
      "text/plain": [
       "{'training': ([np.int64(1190), np.int64(1327), np.int64(137)], 1)}"
      ]
     },
     "execution_count": 53,
     "metadata": {},
     "output_type": "execute_result"
    }
   ],
   "source": [
    "TestFly.get_final_event()"
   ]
  },
  {
   "cell_type": "code",
   "execution_count": 54,
   "metadata": {},
   "outputs": [
    {
     "data": {
      "text/plain": [
       "{'training': ([[np.int64(407), np.int64(575), np.int64(168)],\n",
       "   [np.int64(4505), np.int64(4994), np.int64(489)],\n",
       "   [np.int64(54024), np.int64(54403), np.int64(379)],\n",
       "   [np.int64(75614), np.int64(76629), np.int64(1015)],\n",
       "   [np.int64(82840), np.int64(83400), np.int64(560)],\n",
       "   [np.int64(88671), np.int64(88894), np.int64(223)],\n",
       "   [np.int64(94103), np.int64(96361), np.int64(2258)]],\n",
       "  [[np.int64(1848), np.int64(1961), np.int64(113)],\n",
       "   [np.int64(58404), np.int64(59573), np.int64(1169)],\n",
       "   [np.int64(87235), np.int64(88421), np.int64(1186)]])}"
      ]
     },
     "execution_count": 54,
     "metadata": {},
     "output_type": "execute_result"
    }
   ],
   "source": [
    "TestFly.find_events_direction()"
   ]
  },
  {
   "cell_type": "code",
   "execution_count": 46,
   "metadata": {},
   "outputs": [
    {
     "data": {
      "text/plain": [
       "<module 'utils_behavior.Ballpushing_utils' from '/home/durrieu/utils_behavior/utils_behavior/Ballpushing_utils.py'>"
      ]
     },
     "execution_count": 46,
     "metadata": {},
     "output_type": "execute_result"
    }
   ],
   "source": [
    "importlib.reload(Ballpushing_utils)"
   ]
  },
  {
   "cell_type": "code",
   "execution_count": 47,
   "metadata": {},
   "outputs": [
    {
     "name": "stdout",
     "output_type": "stream",
     "text": [
      "Processing fly 1/1\n",
      "smoothing tracks\n",
      "Loaded SLEAP tracking file: /mnt/upramdya_data/MD/F1_Tracks/Videos/240821_F1_3mm_ends_Videos_Checked/arena6/Right/arena6_right_rotated_tracked_fly.000_arena6_right_rotated.analysis.h5\n",
      "N° of objects: 1\n",
      "Nodes: ['thorax']\n",
      "Video FPS: 29.0\n",
      "Processing ball 1/2\n",
      "smoothing tracks\n",
      "Processing ball 2/2\n",
      "smoothing tracks\n",
      "Loaded SLEAP tracking file: /mnt/upramdya_data/MD/F1_Tracks/Videos/240821_F1_3mm_ends_Videos_Checked/arena6/Right/arena6_right_rotated_tracked_ball_processed.000_arena6_right_rotated.analysis.h5\n",
      "N° of objects: 2\n",
      "Nodes: ['centre']\n",
      "Video FPS: 29.0\n",
      "Processing ball index: 1\n",
      "Non-NaN xfly count: 261006, Non-NaN xball count: 261006\n",
      "Initial separation: 176.94497394316858\n",
      "Processing ball index: 2\n",
      "Non-NaN xfly count: 261006, Non-NaN xball count: 0\n",
      "No valid tracking data for xfly or xball for 2\n",
      "Final data_dict keys: ['generalisation']\n",
      "Processing ball type: generalisation\n",
      "        yball       xball        yfly       xfly  Frame      time  ball_idx  \\\n",
      "0  420.198693  230.618558  499.093777  53.673584      1  0.034483         1   \n",
      "1  420.198823  230.617242  499.102395  53.662504      2  0.068966         1   \n",
      "2  420.198952  230.615925  499.111013  53.651423      3  0.103448         1   \n",
      "3  420.199082  230.614609  499.119631  53.640343      4  0.137931         1   \n",
      "4  420.199212  230.613293  499.128249  53.629262      5  0.172414         1   \n",
      "\n",
      "   yfly_relative  yball_relative       ball_type  \n",
      "0       0.000000       78.895084  generalisation  \n",
      "1       0.008618       78.894954  generalisation  \n",
      "2       0.017236       78.894825  generalisation  \n",
      "3       0.025854       78.894695  generalisation  \n",
      "4       0.034472       78.894565  generalisation  \n",
      "Final events_dict: {}\n",
      "start_y: 499.0937770765598, type: <class 'numpy.float64'>\n",
      "240821_F1_3mm_ends_Videos_Checked_arena6_Right is alive based on movement.\n",
      "False\n",
      "Interaction events keys: dict_keys([])\n",
      "Annotating events for ball type: generalisation\n"
     ]
    },
    {
     "ename": "KeyError",
     "evalue": "'generalisation'",
     "output_type": "error",
     "traceback": [
      "\u001b[0;31m---------------------------------------------------------------------------\u001b[0m",
      "\u001b[0;31mKeyError\u001b[0m                                  Traceback (most recent call last)",
      "Cell \u001b[0;32mIn[47], line 1\u001b[0m\n\u001b[0;32m----> 1\u001b[0m TestFly_F1 \u001b[38;5;241m=\u001b[39m \u001b[43mBallpushing_utils\u001b[49m\u001b[38;5;241;43m.\u001b[39;49m\u001b[43mFly\u001b[49m\u001b[43m(\u001b[49m\u001b[38;5;124;43m\"\u001b[39;49m\u001b[38;5;124;43m/mnt/upramdya_data/MD/F1_Tracks/Videos/240821_F1_3mm_ends_Videos_Checked/arena6/Right\u001b[39;49m\u001b[38;5;124;43m\"\u001b[39;49m\u001b[43m,\u001b[49m\u001b[43m \u001b[49m\u001b[43mas_individual\u001b[49m\u001b[38;5;241;43m=\u001b[39;49m\u001b[38;5;28;43;01mTrue\u001b[39;49;00m\u001b[43m)\u001b[49m\n",
      "File \u001b[0;32m~/utils_behavior/utils_behavior/Ballpushing_utils.py:358\u001b[0m, in \u001b[0;36mFly.__init__\u001b[0;34m(self, directory, experiment, as_individual)\u001b[0m\n\u001b[1;32m    355\u001b[0m \u001b[38;5;28mprint\u001b[39m(\u001b[38;5;28mself\u001b[39m\u001b[38;5;241m.\u001b[39mdead_or_empty)\n\u001b[1;32m    357\u001b[0m \u001b[38;5;28;01mif\u001b[39;00m \u001b[38;5;129;01mnot\u001b[39;00m \u001b[38;5;28mself\u001b[39m\u001b[38;5;241m.\u001b[39mdead_or_empty:\n\u001b[0;32m--> 358\u001b[0m     \u001b[38;5;28;43mself\u001b[39;49m\u001b[38;5;241;43m.\u001b[39;49m\u001b[43mannotate_events\u001b[49m\u001b[43m(\u001b[49m\u001b[43m)\u001b[49m\n\u001b[1;32m    360\u001b[0m \u001b[38;5;28mself\u001b[39m\u001b[38;5;241m.\u001b[39mexit_time \u001b[38;5;241m=\u001b[39m \u001b[38;5;28mself\u001b[39m\u001b[38;5;241m.\u001b[39mget_exit_time()\n",
      "File \u001b[0;32m~/utils_behavior/utils_behavior/Ballpushing_utils.py:943\u001b[0m, in \u001b[0;36mFly.annotate_events\u001b[0;34m(self)\u001b[0m\n\u001b[1;32m    940\u001b[0m \u001b[38;5;28mprint\u001b[39m(\u001b[38;5;124m\"\u001b[39m\u001b[38;5;124mAnnotating events for ball type:\u001b[39m\u001b[38;5;124m\"\u001b[39m, ball_type)\n\u001b[1;32m    941\u001b[0m flyball_positions[\u001b[38;5;124m\"\u001b[39m\u001b[38;5;124mevent\u001b[39m\u001b[38;5;124m\"\u001b[39m] \u001b[38;5;241m=\u001b[39m \u001b[38;5;28;01mNone\u001b[39;00m\n\u001b[0;32m--> 943\u001b[0m \u001b[38;5;28;01mfor\u001b[39;00m i, event \u001b[38;5;129;01min\u001b[39;00m \u001b[38;5;28menumerate\u001b[39m(\u001b[38;5;28;43mself\u001b[39;49m\u001b[38;5;241;43m.\u001b[39;49m\u001b[43minteraction_events\u001b[49m\u001b[43m[\u001b[49m\u001b[43mball_type\u001b[49m\u001b[43m]\u001b[49m, start\u001b[38;5;241m=\u001b[39m\u001b[38;5;241m1\u001b[39m):\n\u001b[1;32m    944\u001b[0m     start, end \u001b[38;5;241m=\u001b[39m event[\u001b[38;5;241m0\u001b[39m], event[\u001b[38;5;241m1\u001b[39m]\n\u001b[1;32m    946\u001b[0m     flyball_positions\u001b[38;5;241m.\u001b[39mloc[start:end, \u001b[38;5;124m\"\u001b[39m\u001b[38;5;124mevent\u001b[39m\u001b[38;5;124m\"\u001b[39m] \u001b[38;5;241m=\u001b[39m i\n",
      "\u001b[0;31mKeyError\u001b[0m: 'generalisation'"
     ]
    }
   ],
   "source": [
    "TestFly_F1 = Ballpushing_utils.Fly(\"/mnt/upramdya_data/MD/F1_Tracks/Videos/240821_F1_3mm_ends_Videos_Checked/arena6/Right\", as_individual=True)"
   ]
  },
  {
   "cell_type": "code",
   "execution_count": 23,
   "metadata": {},
   "outputs": [
    {
     "name": "stdout",
     "output_type": "stream",
     "text": [
      "Processing object 1/2\n",
      "smoothing tracks\n",
      "Processing object 2/2\n",
      "smoothing tracks\n",
      "Loaded SLEAP tracking file: /mnt/upramdya_data/MD/F1_Tracks/Videos/240821_F1_3mm_ends_Videos_Checked/arena6/Right/arena6_right_rotated_tracked_ball_processed.000_arena6_right_rotated.analysis.h5\n",
      "N° of objects: 2\n",
      "Nodes: ['centre']\n",
      "Video FPS: 29.0\n"
     ]
    }
   ],
   "source": [
    "# Load the sleaptrack for the ball for this fly\n",
    "\n",
    "Slp_test = Sleap_utils.Sleap_Tracks(\"/mnt/upramdya_data/MD/F1_Tracks/Videos/240821_F1_3mm_ends_Videos_Checked/arena6/Right/arena6_right_rotated_tracked_ball_processed.000_arena6_right_rotated.analysis.h5\")"
   ]
  },
  {
   "cell_type": "code",
   "execution_count": 24,
   "metadata": {},
   "outputs": [],
   "source": [
    "Slp_data = Slp_test.dataset"
   ]
  },
  {
   "cell_type": "code",
   "execution_count": 91,
   "metadata": {},
   "outputs": [
    {
     "data": {
      "text/plain": [
       "{'training': [[np.int64(1462), np.int64(1530), np.int64(68)],\n",
       "  [np.int64(2095), np.int64(2303), np.int64(208)],\n",
       "  [np.int64(10405), np.int64(10715), np.int64(310)],\n",
       "  [np.int64(13479), np.int64(13544), np.int64(65)],\n",
       "  [np.int64(15629), np.int64(15854), np.int64(225)],\n",
       "  [np.int64(25725), np.int64(25807), np.int64(82)],\n",
       "  [np.int64(26775), np.int64(26844), np.int64(69)],\n",
       "  [np.int64(28589), np.int64(28685), np.int64(96)],\n",
       "  [np.int64(31717), np.int64(31822), np.int64(105)],\n",
       "  [np.int64(32033), np.int64(32147), np.int64(114)],\n",
       "  [np.int64(32855), np.int64(33147), np.int64(292)],\n",
       "  [np.int64(34537), np.int64(34715), np.int64(178)],\n",
       "  [np.int64(36221), np.int64(36490), np.int64(269)],\n",
       "  [np.int64(38106), np.int64(38195), np.int64(89)],\n",
       "  [np.int64(38465), np.int64(38592), np.int64(127)],\n",
       "  [np.int64(38827), np.int64(38891), np.int64(64)],\n",
       "  [np.int64(41289), np.int64(42055), np.int64(766)],\n",
       "  [np.int64(43416), np.int64(43479), np.int64(63)],\n",
       "  [np.int64(44527), np.int64(44787), np.int64(260)],\n",
       "  [np.int64(46654), np.int64(46736), np.int64(82)],\n",
       "  [np.int64(47919), np.int64(48239), np.int64(320)],\n",
       "  [np.int64(49148), np.int64(49230), np.int64(82)],\n",
       "  [np.int64(49543), np.int64(49701), np.int64(158)],\n",
       "  [np.int64(51029), np.int64(51159), np.int64(130)],\n",
       "  [np.int64(51993), np.int64(52090), np.int64(97)],\n",
       "  [np.int64(52865), np.int64(53713), np.int64(848)],\n",
       "  [np.int64(55060), np.int64(55414), np.int64(354)],\n",
       "  [np.int64(56631), np.int64(56799), np.int64(168)],\n",
       "  [np.int64(58411), np.int64(58996), np.int64(585)],\n",
       "  [np.int64(59184), np.int64(59329), np.int64(145)],\n",
       "  [np.int64(60315), np.int64(60910), np.int64(595)],\n",
       "  [np.int64(62475), np.int64(62806), np.int64(331)],\n",
       "  [np.int64(63025), np.int64(63427), np.int64(402)],\n",
       "  [np.int64(63810), np.int64(64017), np.int64(207)],\n",
       "  [np.int64(64450), np.int64(64531), np.int64(81)],\n",
       "  [np.int64(64749), np.int64(64825), np.int64(76)],\n",
       "  [np.int64(65199), np.int64(65294), np.int64(95)],\n",
       "  [np.int64(66409), np.int64(67283), np.int64(874)],\n",
       "  [np.int64(67815), np.int64(68053), np.int64(238)],\n",
       "  [np.int64(68802), np.int64(68867), np.int64(65)],\n",
       "  [np.int64(69285), np.int64(69631), np.int64(346)],\n",
       "  [np.int64(69794), np.int64(70066), np.int64(272)],\n",
       "  [np.int64(70420), np.int64(71661), np.int64(1241)],\n",
       "  [np.int64(72118), np.int64(72414), np.int64(296)],\n",
       "  [np.int64(72580), np.int64(72811), np.int64(231)],\n",
       "  [np.int64(74366), np.int64(74495), np.int64(129)],\n",
       "  [np.int64(75098), np.int64(75368), np.int64(270)],\n",
       "  [np.int64(76146), np.int64(76525), np.int64(379)],\n",
       "  [np.int64(77973), np.int64(78081), np.int64(108)],\n",
       "  [np.int64(79216), np.int64(79308), np.int64(92)],\n",
       "  [np.int64(81932), np.int64(82109), np.int64(177)],\n",
       "  [np.int64(83579), np.int64(84001), np.int64(422)],\n",
       "  [np.int64(85202), np.int64(85274), np.int64(72)],\n",
       "  [np.int64(86044), np.int64(86542), np.int64(498)],\n",
       "  [np.int64(87811), np.int64(87932), np.int64(121)],\n",
       "  [np.int64(88164), np.int64(88781), np.int64(617)],\n",
       "  [np.int64(91120), np.int64(92258), np.int64(1138)],\n",
       "  [np.int64(92498), np.int64(92781), np.int64(283)],\n",
       "  [np.int64(93222), np.int64(93801), np.int64(579)],\n",
       "  [np.int64(94378), np.int64(95026), np.int64(648)],\n",
       "  [np.int64(98252), np.int64(98626), np.int64(374)],\n",
       "  [np.int64(101765), np.int64(101908), np.int64(143)],\n",
       "  [np.int64(102030), np.int64(102134), np.int64(104)],\n",
       "  [np.int64(104967), np.int64(105044), np.int64(77)],\n",
       "  [np.int64(105317), np.int64(105433), np.int64(116)],\n",
       "  [np.int64(120326), np.int64(120398), np.int64(72)],\n",
       "  [np.int64(123113), np.int64(123291), np.int64(178)],\n",
       "  [np.int64(130256), np.int64(130446), np.int64(190)],\n",
       "  [np.int64(131805), np.int64(131975), np.int64(170)],\n",
       "  [np.int64(135615), np.int64(135816), np.int64(201)],\n",
       "  [np.int64(138963), np.int64(139214), np.int64(251)],\n",
       "  [np.int64(140184), np.int64(140297), np.int64(113)],\n",
       "  [np.int64(140535), np.int64(141371), np.int64(836)],\n",
       "  [np.int64(141732), np.int64(141916), np.int64(184)],\n",
       "  [np.int64(146127), np.int64(146262), np.int64(135)],\n",
       "  [np.int64(146569), np.int64(146799), np.int64(230)],\n",
       "  [np.int64(150560), np.int64(150715), np.int64(155)],\n",
       "  [np.int64(160935), np.int64(161060), np.int64(125)],\n",
       "  [np.int64(165119), np.int64(165570), np.int64(451)],\n",
       "  [np.int64(167827), np.int64(168148), np.int64(321)],\n",
       "  [np.int64(180317), np.int64(180458), np.int64(141)],\n",
       "  [np.int64(186132), np.int64(186216), np.int64(84)],\n",
       "  [np.int64(188991), np.int64(189118), np.int64(127)],\n",
       "  [np.int64(199093), np.int64(199201), np.int64(108)],\n",
       "  [np.int64(201690), np.int64(202045), np.int64(355)],\n",
       "  [np.int64(207373), np.int64(207930), np.int64(557)],\n",
       "  [np.int64(208532), np.int64(208832), np.int64(300)],\n",
       "  [np.int64(214979), np.int64(215646), np.int64(667)],\n",
       "  [np.int64(224121), np.int64(224552), np.int64(431)],\n",
       "  [np.int64(227569), np.int64(227694), np.int64(125)],\n",
       "  [np.int64(229733), np.int64(229838), np.int64(105)],\n",
       "  [np.int64(234851), np.int64(234933), np.int64(82)],\n",
       "  [np.int64(237124), np.int64(237233), np.int64(109)],\n",
       "  [np.int64(239380), np.int64(239471), np.int64(91)],\n",
       "  [np.int64(240211), np.int64(240621), np.int64(410)],\n",
       "  [np.int64(242524), np.int64(242598), np.int64(74)],\n",
       "  [np.int64(246107), np.int64(246223), np.int64(116)],\n",
       "  [np.int64(249937), np.int64(250132), np.int64(195)],\n",
       "  [np.int64(257408), np.int64(257510), np.int64(102)]],\n",
       " 'generalisation': [[np.int64(96290), np.int64(96391), np.int64(101)],\n",
       "  [np.int64(106822), np.int64(107109), np.int64(287)],\n",
       "  [np.int64(109066), np.int64(109149), np.int64(83)],\n",
       "  [np.int64(109438), np.int64(109771), np.int64(333)],\n",
       "  [np.int64(113385), np.int64(113476), np.int64(91)],\n",
       "  [np.int64(118247), np.int64(118317), np.int64(70)],\n",
       "  [np.int64(125922), np.int64(126016), np.int64(94)],\n",
       "  [np.int64(128134), np.int64(128240), np.int64(106)],\n",
       "  [np.int64(142757), np.int64(143210), np.int64(453)],\n",
       "  [np.int64(144688), np.int64(144935), np.int64(247)],\n",
       "  [np.int64(149177), np.int64(149249), np.int64(72)],\n",
       "  [np.int64(149800), np.int64(149956), np.int64(156)],\n",
       "  [np.int64(150936), np.int64(151212), np.int64(276)],\n",
       "  [np.int64(154980), np.int64(155147), np.int64(167)],\n",
       "  [np.int64(168682), np.int64(168826), np.int64(144)],\n",
       "  [np.int64(169258), np.int64(169425), np.int64(167)],\n",
       "  [np.int64(170879), np.int64(170941), np.int64(62)],\n",
       "  [np.int64(171438), np.int64(171852), np.int64(414)],\n",
       "  [np.int64(189857), np.int64(190013), np.int64(156)],\n",
       "  [np.int64(211371), np.int64(211503), np.int64(132)],\n",
       "  [np.int64(243947), np.int64(244026), np.int64(79)],\n",
       "  [np.int64(254394), np.int64(254462), np.int64(68)],\n",
       "  [np.int64(254664), np.int64(254858), np.int64(194)],\n",
       "  [np.int64(258084), np.int64(258226), np.int64(142)]]}"
      ]
     },
     "execution_count": 91,
     "metadata": {},
     "output_type": "execute_result"
    }
   ],
   "source": [
    "TestFly_F1.find_interaction_events()"
   ]
  },
  {
   "cell_type": "code",
   "execution_count": 94,
   "metadata": {},
   "outputs": [
    {
     "data": {
      "text/plain": [
       "{'training': ({10: np.float64(1059.1333333333334),\n",
       "   20: np.float64(1096.9666666666667),\n",
       "   50: np.float64(3061.633333333333)},\n",
       "  {10: nan, 20: nan, 50: nan}),\n",
       " 'generalisation': ({10: np.float64(5189.133333333333),\n",
       "   20: np.float64(5233.5),\n",
       "   50: np.float64(5644.9)},\n",
       "  {10: np.float64(2020.0333333333333),\n",
       "   20: np.float64(2064.4),\n",
       "   50: np.float64(2475.7999999999997)})}"
      ]
     },
     "execution_count": 94,
     "metadata": {},
     "output_type": "execute_result"
    }
   ],
   "source": [
    "TestFly_F1.find_adjusted_time([10, 20, 50])"
   ]
  },
  {
   "cell_type": "code",
   "execution_count": 21,
   "metadata": {},
   "outputs": [
    {
     "data": {
      "text/plain": [
       "<module 'utils_behavior.Ballpushing_utils' from '/home/durrieu/utils_behavior/utils_behavior/Ballpushing_utils.py'>"
      ]
     },
     "execution_count": 21,
     "metadata": {},
     "output_type": "execute_result"
    }
   ],
   "source": [
    "importlib.reload(Ballpushing_utils)"
   ]
  },
  {
   "cell_type": "code",
   "execution_count": 22,
   "metadata": {},
   "outputs": [
    {
     "name": "stdout",
     "output_type": "stream",
     "text": [
      "[PosixPath('/mnt/upramdya_data/MD/F1_Tracks/Videos/240821_F1_3mm_ends_Videos_Checked/arena2/Right/arena2_right_rotated.mp4'), PosixPath('/mnt/upramdya_data/MD/F1_Tracks/Videos/240821_F1_3mm_ends_Videos_Checked/arena7/Right/arena7_right_rotated.mp4'), PosixPath('/mnt/upramdya_data/MD/F1_Tracks/Videos/240821_F1_3mm_ends_Videos_Checked/arena6/Right/arena6_right_rotated.mp4'), PosixPath('/mnt/upramdya_data/MD/F1_Tracks/Videos/240821_F1_3mm_ends_Videos_Checked/arena5/Right/arena5_right_rotated.mp4'), PosixPath('/mnt/upramdya_data/MD/F1_Tracks/Videos/240821_F1_3mm_ends_Videos_Checked/arena8/Right/arena8_right_rotated.mp4'), PosixPath('/mnt/upramdya_data/MD/F1_Tracks/Videos/240821_F1_3mm_ends_Videos_Checked/arena3/Right/arena3_right_rotated.mp4'), PosixPath('/mnt/upramdya_data/MD/F1_Tracks/Videos/240821_F1_3mm_ends_Videos_Checked/arena4/Right/arena4_right_rotated.mp4'), PosixPath('/mnt/upramdya_data/MD/F1_Tracks/Videos/240821_F1_3mm_ends_Videos_Checked/arena1/Right/arena1_right_rotated.mp4'), PosixPath('/mnt/upramdya_data/MD/F1_Tracks/Videos/240821_F1_3mm_ends_Videos_Checked/arena9/Right/arena9_right_rotated.mp4')]\n",
      "Loading fly from /mnt/upramdya_data/MD/F1_Tracks/Videos/240821_F1_3mm_ends_Videos_Checked/arena2/Right\n",
      "Processing fly 1/1\n",
      "smoothing tracks\n",
      "Loaded SLEAP tracking file: /mnt/upramdya_data/MD/F1_Tracks/Videos/240821_F1_3mm_ends_Videos_Checked/arena2/Right/arena2_right_rotated_tracked_fly.000_arena2_right_rotated.analysis.h5\n",
      "N° of objects: 1\n",
      "Nodes: ['thorax']\n",
      "Video FPS: 29.0\n",
      "Processing ball 1/2\n",
      "smoothing tracks\n",
      "Processing ball 2/2\n",
      "smoothing tracks\n",
      "Loaded SLEAP tracking file: /mnt/upramdya_data/MD/F1_Tracks/Videos/240821_F1_3mm_ends_Videos_Checked/arena2/Right/arena2_right_rotated_tracked_ball_processed.000_arena2_right_rotated.analysis.h5\n",
      "N° of objects: 2\n",
      "Nodes: ['centre']\n",
      "Video FPS: 29.0\n",
      "Initial separation: 186.19596966406067\n",
      "No valid tracking data for xfly or xball for 2\n",
      "Processing ball type: generalisation\n",
      "             yball       xball        yfly        xfly   Frame         time  \\\n",
      "0       433.044616  234.137649  503.540642   47.941679       1     0.034483   \n",
      "1       433.044596  234.137146  503.603722   47.930752       2     0.068966   \n",
      "2       433.044576  234.136643  503.666802   47.919825       3     0.103448   \n",
      "3       433.044555  234.136140  503.729882   47.908898       4     0.137931   \n",
      "4       433.044535  234.135636  503.792962   47.897971       5     0.172414   \n",
      "...            ...         ...         ...         ...     ...          ...   \n",
      "261001  536.120747  236.840789   25.537958  178.473829  261002  9000.068966   \n",
      "261002  536.118151  236.840608   24.181040  178.153946  261003  9000.103448   \n",
      "261003  536.115555  236.840426   22.824123  177.834062  261004  9000.137931   \n",
      "261004  536.112960  236.840245   21.467206  177.514179  261005  9000.172414   \n",
      "261005  536.110364  236.840063   20.110288  177.194295  261006  9000.206897   \n",
      "\n",
      "        ball_idx  yfly_relative  yball_relative       ball_type  \n",
      "0              1       0.000000       70.496026  generalisation  \n",
      "1              1       0.063080       70.496047  generalisation  \n",
      "2              1       0.126160       70.496067  generalisation  \n",
      "3              1       0.189240       70.496087  generalisation  \n",
      "4              1       0.252320       70.496107  generalisation  \n",
      "...          ...            ...             ...             ...  \n",
      "261001         1     478.002685       32.580105  generalisation  \n",
      "261002         1     479.359602       32.577509  generalisation  \n",
      "261003         1     480.716519       32.574913  generalisation  \n",
      "261004         1     482.073437       32.572318  generalisation  \n",
      "261005         1     483.430354       32.569722  generalisation  \n",
      "\n",
      "[261006 rows x 10 columns]\n",
      "Events for generalisation: [[np.int64(2424), np.int64(2649), np.int64(225)], [np.int64(4128), np.int64(4451), np.int64(323)], [np.int64(5226), np.int64(5304), np.int64(78)], [np.int64(6442), np.int64(6629), np.int64(187)], [np.int64(8697), np.int64(8912), np.int64(215)], [np.int64(9253), np.int64(9445), np.int64(192)], [np.int64(10384), np.int64(10458), np.int64(74)], [np.int64(13627), np.int64(13819), np.int64(192)], [np.int64(15915), np.int64(16062), np.int64(147)], [np.int64(30317), np.int64(30451), np.int64(134)], [np.int64(37873), np.int64(37939), np.int64(66)], [np.int64(48140), np.int64(48232), np.int64(92)], [np.int64(48890), np.int64(48964), np.int64(74)], [np.int64(56759), np.int64(57094), np.int64(335)], [np.int64(75894), np.int64(75966), np.int64(72)], [np.int64(80806), np.int64(80873), np.int64(67)], [np.int64(83676), np.int64(83839), np.int64(163)], [np.int64(87041), np.int64(87122), np.int64(81)], [np.int64(91842), np.int64(91940), np.int64(98)], [np.int64(112376), np.int64(112468), np.int64(92)], [np.int64(118921), np.int64(119023), np.int64(102)], [np.int64(121075), np.int64(121201), np.int64(126)], [np.int64(133641), np.int64(133769), np.int64(128)], [np.int64(135621), np.int64(135713), np.int64(92)], [np.int64(163614), np.int64(163733), np.int64(119)], [np.int64(174985), np.int64(175052), np.int64(67)], [np.int64(219838), np.int64(219959), np.int64(121)], [np.int64(221294), np.int64(221407), np.int64(113)], [np.int64(222874), np.int64(222947), np.int64(73)], [np.int64(234077), np.int64(234269), np.int64(192)], [np.int64(235577), np.int64(235844), np.int64(267)], [np.int64(236006), np.int64(236384), np.int64(378)], [np.int64(238817), np.int64(239157), np.int64(340)], [np.int64(243985), np.int64(244138), np.int64(153)], [np.int64(252165), np.int64(252255), np.int64(90)], [np.int64(252783), np.int64(252973), np.int64(190)], [np.int64(256045), np.int64(256153), np.int64(108)], [np.int64(256983), np.int64(257084), np.int64(101)], [np.int64(259099), np.int64(259595), np.int64(496)], [np.int64(260363), np.int64(260699), np.int64(336)]]\n",
      "{'generalisation': [[np.int64(2424), np.int64(2649), np.int64(225)], [np.int64(4128), np.int64(4451), np.int64(323)], [np.int64(5226), np.int64(5304), np.int64(78)], [np.int64(6442), np.int64(6629), np.int64(187)], [np.int64(8697), np.int64(8912), np.int64(215)], [np.int64(9253), np.int64(9445), np.int64(192)], [np.int64(10384), np.int64(10458), np.int64(74)], [np.int64(13627), np.int64(13819), np.int64(192)], [np.int64(15915), np.int64(16062), np.int64(147)], [np.int64(30317), np.int64(30451), np.int64(134)], [np.int64(37873), np.int64(37939), np.int64(66)], [np.int64(48140), np.int64(48232), np.int64(92)], [np.int64(48890), np.int64(48964), np.int64(74)], [np.int64(56759), np.int64(57094), np.int64(335)], [np.int64(75894), np.int64(75966), np.int64(72)], [np.int64(80806), np.int64(80873), np.int64(67)], [np.int64(83676), np.int64(83839), np.int64(163)], [np.int64(87041), np.int64(87122), np.int64(81)], [np.int64(91842), np.int64(91940), np.int64(98)], [np.int64(112376), np.int64(112468), np.int64(92)], [np.int64(118921), np.int64(119023), np.int64(102)], [np.int64(121075), np.int64(121201), np.int64(126)], [np.int64(133641), np.int64(133769), np.int64(128)], [np.int64(135621), np.int64(135713), np.int64(92)], [np.int64(163614), np.int64(163733), np.int64(119)], [np.int64(174985), np.int64(175052), np.int64(67)], [np.int64(219838), np.int64(219959), np.int64(121)], [np.int64(221294), np.int64(221407), np.int64(113)], [np.int64(222874), np.int64(222947), np.int64(73)], [np.int64(234077), np.int64(234269), np.int64(192)], [np.int64(235577), np.int64(235844), np.int64(267)], [np.int64(236006), np.int64(236384), np.int64(378)], [np.int64(238817), np.int64(239157), np.int64(340)], [np.int64(243985), np.int64(244138), np.int64(153)], [np.int64(252165), np.int64(252255), np.int64(90)], [np.int64(252783), np.int64(252973), np.int64(190)], [np.int64(256045), np.int64(256153), np.int64(108)], [np.int64(256983), np.int64(257084), np.int64(101)], [np.int64(259099), np.int64(259595), np.int64(496)], [np.int64(260363), np.int64(260699), np.int64(336)]]}\n",
      "Interaction events keys: dict_keys(['generalisation'])\n",
      "Annotating events for ball type: generalisation\n",
      "start_y: 503.5406422073309, type: <class 'numpy.float64'>\n",
      "Loading fly from /mnt/upramdya_data/MD/F1_Tracks/Videos/240821_F1_3mm_ends_Videos_Checked/arena7/Right\n",
      "Processing fly 1/1\n",
      "smoothing tracks\n",
      "Loaded SLEAP tracking file: /mnt/upramdya_data/MD/F1_Tracks/Videos/240821_F1_3mm_ends_Videos_Checked/arena7/Right/arena7_right_rotated_tracked_fly.000_arena7_right_rotated.analysis.h5\n",
      "N° of objects: 1\n",
      "Nodes: ['thorax']\n",
      "Video FPS: 29.0\n",
      "Processing ball 1/2\n",
      "smoothing tracks\n",
      "Processing ball 2/2\n",
      "smoothing tracks\n",
      "Loaded SLEAP tracking file: /mnt/upramdya_data/MD/F1_Tracks/Videos/240821_F1_3mm_ends_Videos_Checked/arena7/Right/arena7_right_rotated_tracked_ball_processed.000_arena7_right_rotated.analysis.h5\n",
      "N° of objects: 2\n",
      "Nodes: ['centre']\n",
      "Video FPS: 29.0\n",
      "Initial separation: 0.719404971204483\n",
      "Initial separation: 187.42402093329144\n",
      "Processing ball type: training\n",
      "             yball      xball        yfly        xfly   Frame         time  \\\n",
      "0       261.604088  43.084545  488.277308   42.365140       1     0.034483   \n",
      "1       261.604513  43.084699  488.266653   42.342526       2     0.068966   \n",
      "2       261.604938  43.084852  488.255998   42.319913       3     0.103448   \n",
      "3       261.605363  43.085006  488.245343   42.297299       4     0.137931   \n",
      "4       261.605788  43.085160  488.234688   42.274686       5     0.172414   \n",
      "...            ...        ...         ...         ...     ...          ...   \n",
      "261001   63.868592  43.652832   79.936818  226.187016  261002  9000.068966   \n",
      "261002   63.868578  43.653074   80.038896  226.349328  261003  9000.103448   \n",
      "261003   63.868563  43.653316   80.140973  226.511640  261004  9000.137931   \n",
      "261004   63.868549  43.653557   80.243051  226.673953  261005  9000.172414   \n",
      "261005   63.868535  43.653799   80.345129  226.836265  261006  9000.206897   \n",
      "\n",
      "        ball_idx  yfly_relative  yball_relative ball_type  \n",
      "0              1       0.000000      226.673220  training  \n",
      "1              1       0.010655      226.672795  training  \n",
      "2              1       0.021310      226.672370  training  \n",
      "3              1       0.031965      226.671945  training  \n",
      "4              1       0.042620      226.671520  training  \n",
      "...          ...            ...             ...       ...  \n",
      "261001         1     408.340490      424.408716  training  \n",
      "261002         1     408.238412      424.408730  training  \n",
      "261003         1     408.136335      424.408745  training  \n",
      "261004         1     408.034257      424.408759  training  \n",
      "261005         1     407.932179      424.408773  training  \n",
      "\n",
      "[261006 rows x 10 columns]\n",
      "Events for training: [[np.int64(6307), np.int64(6552), np.int64(245)], [np.int64(11796), np.int64(12046), np.int64(250)], [np.int64(15574), np.int64(15739), np.int64(165)], [np.int64(16775), np.int64(16934), np.int64(159)], [np.int64(17624), np.int64(17724), np.int64(100)], [np.int64(19151), np.int64(19362), np.int64(211)], [np.int64(20049), np.int64(20264), np.int64(215)], [np.int64(21218), np.int64(21306), np.int64(88)], [np.int64(22272), np.int64(22401), np.int64(129)], [np.int64(22736), np.int64(22807), np.int64(71)], [np.int64(23117), np.int64(23322), np.int64(205)], [np.int64(24361), np.int64(24525), np.int64(164)], [np.int64(25013), np.int64(25249), np.int64(236)], [np.int64(26215), np.int64(26414), np.int64(199)], [np.int64(27042), np.int64(27170), np.int64(128)], [np.int64(27565), np.int64(27638), np.int64(73)], [np.int64(28810), np.int64(29011), np.int64(201)], [np.int64(31499), np.int64(31619), np.int64(120)], [np.int64(32792), np.int64(33003), np.int64(211)], [np.int64(33598), np.int64(33716), np.int64(118)], [np.int64(37725), np.int64(37879), np.int64(154)], [np.int64(39328), np.int64(39542), np.int64(214)], [np.int64(42074), np.int64(42143), np.int64(69)], [np.int64(42771), np.int64(42907), np.int64(136)], [np.int64(43882), np.int64(44080), np.int64(198)], [np.int64(49529), np.int64(49762), np.int64(233)], [np.int64(53672), np.int64(53761), np.int64(89)], [np.int64(54690), np.int64(54843), np.int64(153)], [np.int64(57281), np.int64(57433), np.int64(152)], [np.int64(58017), np.int64(58140), np.int64(123)], [np.int64(62456), np.int64(62547), np.int64(91)], [np.int64(65897), np.int64(66021), np.int64(124)], [np.int64(68859), np.int64(69011), np.int64(152)], [np.int64(70539), np.int64(70634), np.int64(95)], [np.int64(71430), np.int64(71491), np.int64(61)], [np.int64(72390), np.int64(72456), np.int64(66)], [np.int64(73647), np.int64(73785), np.int64(138)], [np.int64(77483), np.int64(77573), np.int64(90)], [np.int64(78676), np.int64(78783), np.int64(107)], [np.int64(80152), np.int64(80280), np.int64(128)], [np.int64(80873), np.int64(80946), np.int64(73)], [np.int64(84306), np.int64(84395), np.int64(89)], [np.int64(85486), np.int64(85643), np.int64(157)], [np.int64(97977), np.int64(98112), np.int64(135)], [np.int64(100387), np.int64(100492), np.int64(105)], [np.int64(105472), np.int64(105535), np.int64(63)], [np.int64(140695), np.int64(140822), np.int64(127)], [np.int64(154516), np.int64(154681), np.int64(165)], [np.int64(177899), np.int64(177999), np.int64(100)], [np.int64(196171), np.int64(196316), np.int64(145)], [np.int64(222021), np.int64(222290), np.int64(269)], [np.int64(223657), np.int64(223990), np.int64(333)], [np.int64(235031), np.int64(235141), np.int64(110)], [np.int64(243294), np.int64(243529), np.int64(235)], [np.int64(248468), np.int64(248748), np.int64(280)], [np.int64(251952), np.int64(252894), np.int64(942)], [np.int64(257544), np.int64(257670), np.int64(126)]]\n",
      "Processing ball type: generalisation\n",
      "             yball       xball        yfly        xfly   Frame         time  \\\n",
      "0       404.091343  229.789161  488.277308   42.365140       1     0.034483   \n",
      "1       404.091567  229.789411  488.266653   42.342526       2     0.068966   \n",
      "2       404.091791  229.789661  488.255998   42.319913       3     0.103448   \n",
      "3       404.092015  229.789910  488.245343   42.297299       4     0.137931   \n",
      "4       404.092238  229.790160  488.234688   42.274686       5     0.172414   \n",
      "...            ...         ...         ...         ...     ...          ...   \n",
      "261001  382.554874  174.079992   79.936818  226.187016  261002  9000.068966   \n",
      "261002  382.556167  174.079872   80.038896  226.349328  261003  9000.103448   \n",
      "261003  382.557459  174.079753   80.140973  226.511640  261004  9000.137931   \n",
      "261004  382.558752  174.079634   80.243051  226.673953  261005  9000.172414   \n",
      "261005  382.560044  174.079515   80.345129  226.836265  261006  9000.206897   \n",
      "\n",
      "        ball_idx  yfly_relative  yball_relative       ball_type  \n",
      "0              2       0.000000       84.185965  generalisation  \n",
      "1              2       0.010655       84.185741  generalisation  \n",
      "2              2       0.021310       84.185517  generalisation  \n",
      "3              2       0.031965       84.185293  generalisation  \n",
      "4              2       0.042620       84.185069  generalisation  \n",
      "...          ...            ...             ...             ...  \n",
      "261001         2     408.340490      105.722434  generalisation  \n",
      "261002         2     408.238412      105.721141  generalisation  \n",
      "261003         2     408.136335      105.719849  generalisation  \n",
      "261004         2     408.034257      105.718556  generalisation  \n",
      "261005         2     407.932179      105.717264  generalisation  \n",
      "\n",
      "[261006 rows x 10 columns]\n",
      "Events for generalisation: [[np.int64(129176), np.int64(129271), np.int64(95)], [np.int64(129626), np.int64(129724), np.int64(98)], [np.int64(141617), np.int64(141726), np.int64(109)], [np.int64(146548), np.int64(146735), np.int64(187)], [np.int64(147012), np.int64(147153), np.int64(141)], [np.int64(147357), np.int64(147498), np.int64(141)], [np.int64(147811), np.int64(148185), np.int64(374)], [np.int64(150299), np.int64(150487), np.int64(188)], [np.int64(150691), np.int64(151607), np.int64(916)], [np.int64(152905), np.int64(153063), np.int64(158)], [np.int64(153281), np.int64(153818), np.int64(537)], [np.int64(156442), np.int64(156607), np.int64(165)], [np.int64(156832), np.int64(157009), np.int64(177)], [np.int64(158119), np.int64(158287), np.int64(168)], [np.int64(158743), np.int64(158897), np.int64(154)], [np.int64(159114), np.int64(159291), np.int64(177)], [np.int64(159526), np.int64(159701), np.int64(175)], [np.int64(160164), np.int64(161016), np.int64(852)], [np.int64(161210), np.int64(161413), np.int64(203)], [np.int64(161593), np.int64(161667), np.int64(74)], [np.int64(161793), np.int64(161867), np.int64(74)], [np.int64(163256), np.int64(163421), np.int64(165)], [np.int64(165114), np.int64(165636), np.int64(522)], [np.int64(167014), np.int64(167108), np.int64(94)], [np.int64(171260), np.int64(171404), np.int64(144)], [np.int64(173163), np.int64(173325), np.int64(162)], [np.int64(173781), np.int64(173961), np.int64(180)], [np.int64(174587), np.int64(174648), np.int64(61)], [np.int64(174780), np.int64(174848), np.int64(68)], [np.int64(177377), np.int64(177572), np.int64(195)], [np.int64(179127), np.int64(179497), np.int64(370)], [np.int64(180264), np.int64(180357), np.int64(93)], [np.int64(180489), np.int64(180972), np.int64(483)], [np.int64(183300), np.int64(183504), np.int64(204)], [np.int64(185373), np.int64(185455), np.int64(82)], [np.int64(186179), np.int64(186255), np.int64(76)], [np.int64(186839), np.int64(186913), np.int64(74)], [np.int64(187103), np.int64(187187), np.int64(84)], [np.int64(190088), np.int64(190302), np.int64(214)], [np.int64(191715), np.int64(191844), np.int64(129)], [np.int64(191974), np.int64(192045), np.int64(71)], [np.int64(192509), np.int64(192751), np.int64(242)], [np.int64(192995), np.int64(193206), np.int64(211)], [np.int64(193408), np.int64(193502), np.int64(94)], [np.int64(193620), np.int64(193723), np.int64(103)], [np.int64(194263), np.int64(194405), np.int64(142)], [np.int64(194613), np.int64(195011), np.int64(398)], [np.int64(195205), np.int64(195385), np.int64(180)], [np.int64(196942), np.int64(197148), np.int64(206)], [np.int64(197920), np.int64(197992), np.int64(72)], [np.int64(198294), np.int64(198361), np.int64(67)], [np.int64(198897), np.int64(198981), np.int64(84)], [np.int64(199113), np.int64(199215), np.int64(102)], [np.int64(199925), np.int64(199989), np.int64(64)], [np.int64(200487), np.int64(200630), np.int64(143)], [np.int64(201137), np.int64(201445), np.int64(308)], [np.int64(201999), np.int64(202118), np.int64(119)], [np.int64(203614), np.int64(203790), np.int64(176)], [np.int64(204553), np.int64(204680), np.int64(127)], [np.int64(206239), np.int64(206488), np.int64(249)], [np.int64(206774), np.int64(206879), np.int64(105)], [np.int64(207143), np.int64(207278), np.int64(135)], [np.int64(207555), np.int64(207818), np.int64(263)], [np.int64(208388), np.int64(208484), np.int64(96)], [np.int64(209277), np.int64(209400), np.int64(123)], [np.int64(209695), np.int64(209773), np.int64(78)], [np.int64(213721), np.int64(213800), np.int64(79)], [np.int64(214882), np.int64(215327), np.int64(445)], [np.int64(215592), np.int64(215706), np.int64(114)], [np.int64(215978), np.int64(216321), np.int64(343)], [np.int64(217460), np.int64(217537), np.int64(77)], [np.int64(218069), np.int64(218381), np.int64(312)], [np.int64(219505), np.int64(219681), np.int64(176)], [np.int64(220498), np.int64(221253), np.int64(755)], [np.int64(221761), np.int64(221829), np.int64(68)], [np.int64(225012), np.int64(225131), np.int64(119)], [np.int64(225456), np.int64(226025), np.int64(569)], [np.int64(227258), np.int64(227471), np.int64(213)], [np.int64(227748), np.int64(227852), np.int64(104)], [np.int64(228128), np.int64(228218), np.int64(90)], [np.int64(229874), np.int64(230128), np.int64(254)], [np.int64(230970), np.int64(231066), np.int64(96)], [np.int64(231806), np.int64(231903), np.int64(97)], [np.int64(232115), np.int64(232397), np.int64(282)], [np.int64(232674), np.int64(232777), np.int64(103)], [np.int64(233325), np.int64(233823), np.int64(498)], [np.int64(235282), np.int64(235411), np.int64(129)], [np.int64(235796), np.int64(235906), np.int64(110)], [np.int64(236152), np.int64(236303), np.int64(151)], [np.int64(236822), np.int64(236909), np.int64(87)], [np.int64(237203), np.int64(237312), np.int64(109)], [np.int64(237572), np.int64(237679), np.int64(107)], [np.int64(237952), np.int64(238102), np.int64(150)], [np.int64(238982), np.int64(239223), np.int64(241)], [np.int64(239726), np.int64(239996), np.int64(270)], [np.int64(240331), np.int64(240482), np.int64(151)], [np.int64(240789), np.int64(240861), np.int64(72)], [np.int64(243682), np.int64(243789), np.int64(107)], [np.int64(244355), np.int64(244513), np.int64(158)], [np.int64(244852), np.int64(244951), np.int64(99)], [np.int64(245209), np.int64(245297), np.int64(88)], [np.int64(246591), np.int64(246760), np.int64(169)], [np.int64(248962), np.int64(249147), np.int64(185)], [np.int64(254304), np.int64(254444), np.int64(140)], [np.int64(254710), np.int64(254780), np.int64(70)], [np.int64(254938), np.int64(254998), np.int64(60)], [np.int64(255468), np.int64(255641), np.int64(173)], [np.int64(255907), np.int64(256003), np.int64(96)], [np.int64(256333), np.int64(256409), np.int64(76)], [np.int64(260449), np.int64(260509), np.int64(60)]]\n",
      "{'training': [[np.int64(6307), np.int64(6552), np.int64(245)], [np.int64(11796), np.int64(12046), np.int64(250)], [np.int64(15574), np.int64(15739), np.int64(165)], [np.int64(16775), np.int64(16934), np.int64(159)], [np.int64(17624), np.int64(17724), np.int64(100)], [np.int64(19151), np.int64(19362), np.int64(211)], [np.int64(20049), np.int64(20264), np.int64(215)], [np.int64(21218), np.int64(21306), np.int64(88)], [np.int64(22272), np.int64(22401), np.int64(129)], [np.int64(22736), np.int64(22807), np.int64(71)], [np.int64(23117), np.int64(23322), np.int64(205)], [np.int64(24361), np.int64(24525), np.int64(164)], [np.int64(25013), np.int64(25249), np.int64(236)], [np.int64(26215), np.int64(26414), np.int64(199)], [np.int64(27042), np.int64(27170), np.int64(128)], [np.int64(27565), np.int64(27638), np.int64(73)], [np.int64(28810), np.int64(29011), np.int64(201)], [np.int64(31499), np.int64(31619), np.int64(120)], [np.int64(32792), np.int64(33003), np.int64(211)], [np.int64(33598), np.int64(33716), np.int64(118)], [np.int64(37725), np.int64(37879), np.int64(154)], [np.int64(39328), np.int64(39542), np.int64(214)], [np.int64(42074), np.int64(42143), np.int64(69)], [np.int64(42771), np.int64(42907), np.int64(136)], [np.int64(43882), np.int64(44080), np.int64(198)], [np.int64(49529), np.int64(49762), np.int64(233)], [np.int64(53672), np.int64(53761), np.int64(89)], [np.int64(54690), np.int64(54843), np.int64(153)], [np.int64(57281), np.int64(57433), np.int64(152)], [np.int64(58017), np.int64(58140), np.int64(123)], [np.int64(62456), np.int64(62547), np.int64(91)], [np.int64(65897), np.int64(66021), np.int64(124)], [np.int64(68859), np.int64(69011), np.int64(152)], [np.int64(70539), np.int64(70634), np.int64(95)], [np.int64(71430), np.int64(71491), np.int64(61)], [np.int64(72390), np.int64(72456), np.int64(66)], [np.int64(73647), np.int64(73785), np.int64(138)], [np.int64(77483), np.int64(77573), np.int64(90)], [np.int64(78676), np.int64(78783), np.int64(107)], [np.int64(80152), np.int64(80280), np.int64(128)], [np.int64(80873), np.int64(80946), np.int64(73)], [np.int64(84306), np.int64(84395), np.int64(89)], [np.int64(85486), np.int64(85643), np.int64(157)], [np.int64(97977), np.int64(98112), np.int64(135)], [np.int64(100387), np.int64(100492), np.int64(105)], [np.int64(105472), np.int64(105535), np.int64(63)], [np.int64(140695), np.int64(140822), np.int64(127)], [np.int64(154516), np.int64(154681), np.int64(165)], [np.int64(177899), np.int64(177999), np.int64(100)], [np.int64(196171), np.int64(196316), np.int64(145)], [np.int64(222021), np.int64(222290), np.int64(269)], [np.int64(223657), np.int64(223990), np.int64(333)], [np.int64(235031), np.int64(235141), np.int64(110)], [np.int64(243294), np.int64(243529), np.int64(235)], [np.int64(248468), np.int64(248748), np.int64(280)], [np.int64(251952), np.int64(252894), np.int64(942)], [np.int64(257544), np.int64(257670), np.int64(126)]], 'generalisation': [[np.int64(129176), np.int64(129271), np.int64(95)], [np.int64(129626), np.int64(129724), np.int64(98)], [np.int64(141617), np.int64(141726), np.int64(109)], [np.int64(146548), np.int64(146735), np.int64(187)], [np.int64(147012), np.int64(147153), np.int64(141)], [np.int64(147357), np.int64(147498), np.int64(141)], [np.int64(147811), np.int64(148185), np.int64(374)], [np.int64(150299), np.int64(150487), np.int64(188)], [np.int64(150691), np.int64(151607), np.int64(916)], [np.int64(152905), np.int64(153063), np.int64(158)], [np.int64(153281), np.int64(153818), np.int64(537)], [np.int64(156442), np.int64(156607), np.int64(165)], [np.int64(156832), np.int64(157009), np.int64(177)], [np.int64(158119), np.int64(158287), np.int64(168)], [np.int64(158743), np.int64(158897), np.int64(154)], [np.int64(159114), np.int64(159291), np.int64(177)], [np.int64(159526), np.int64(159701), np.int64(175)], [np.int64(160164), np.int64(161016), np.int64(852)], [np.int64(161210), np.int64(161413), np.int64(203)], [np.int64(161593), np.int64(161667), np.int64(74)], [np.int64(161793), np.int64(161867), np.int64(74)], [np.int64(163256), np.int64(163421), np.int64(165)], [np.int64(165114), np.int64(165636), np.int64(522)], [np.int64(167014), np.int64(167108), np.int64(94)], [np.int64(171260), np.int64(171404), np.int64(144)], [np.int64(173163), np.int64(173325), np.int64(162)], [np.int64(173781), np.int64(173961), np.int64(180)], [np.int64(174587), np.int64(174648), np.int64(61)], [np.int64(174780), np.int64(174848), np.int64(68)], [np.int64(177377), np.int64(177572), np.int64(195)], [np.int64(179127), np.int64(179497), np.int64(370)], [np.int64(180264), np.int64(180357), np.int64(93)], [np.int64(180489), np.int64(180972), np.int64(483)], [np.int64(183300), np.int64(183504), np.int64(204)], [np.int64(185373), np.int64(185455), np.int64(82)], [np.int64(186179), np.int64(186255), np.int64(76)], [np.int64(186839), np.int64(186913), np.int64(74)], [np.int64(187103), np.int64(187187), np.int64(84)], [np.int64(190088), np.int64(190302), np.int64(214)], [np.int64(191715), np.int64(191844), np.int64(129)], [np.int64(191974), np.int64(192045), np.int64(71)], [np.int64(192509), np.int64(192751), np.int64(242)], [np.int64(192995), np.int64(193206), np.int64(211)], [np.int64(193408), np.int64(193502), np.int64(94)], [np.int64(193620), np.int64(193723), np.int64(103)], [np.int64(194263), np.int64(194405), np.int64(142)], [np.int64(194613), np.int64(195011), np.int64(398)], [np.int64(195205), np.int64(195385), np.int64(180)], [np.int64(196942), np.int64(197148), np.int64(206)], [np.int64(197920), np.int64(197992), np.int64(72)], [np.int64(198294), np.int64(198361), np.int64(67)], [np.int64(198897), np.int64(198981), np.int64(84)], [np.int64(199113), np.int64(199215), np.int64(102)], [np.int64(199925), np.int64(199989), np.int64(64)], [np.int64(200487), np.int64(200630), np.int64(143)], [np.int64(201137), np.int64(201445), np.int64(308)], [np.int64(201999), np.int64(202118), np.int64(119)], [np.int64(203614), np.int64(203790), np.int64(176)], [np.int64(204553), np.int64(204680), np.int64(127)], [np.int64(206239), np.int64(206488), np.int64(249)], [np.int64(206774), np.int64(206879), np.int64(105)], [np.int64(207143), np.int64(207278), np.int64(135)], [np.int64(207555), np.int64(207818), np.int64(263)], [np.int64(208388), np.int64(208484), np.int64(96)], [np.int64(209277), np.int64(209400), np.int64(123)], [np.int64(209695), np.int64(209773), np.int64(78)], [np.int64(213721), np.int64(213800), np.int64(79)], [np.int64(214882), np.int64(215327), np.int64(445)], [np.int64(215592), np.int64(215706), np.int64(114)], [np.int64(215978), np.int64(216321), np.int64(343)], [np.int64(217460), np.int64(217537), np.int64(77)], [np.int64(218069), np.int64(218381), np.int64(312)], [np.int64(219505), np.int64(219681), np.int64(176)], [np.int64(220498), np.int64(221253), np.int64(755)], [np.int64(221761), np.int64(221829), np.int64(68)], [np.int64(225012), np.int64(225131), np.int64(119)], [np.int64(225456), np.int64(226025), np.int64(569)], [np.int64(227258), np.int64(227471), np.int64(213)], [np.int64(227748), np.int64(227852), np.int64(104)], [np.int64(228128), np.int64(228218), np.int64(90)], [np.int64(229874), np.int64(230128), np.int64(254)], [np.int64(230970), np.int64(231066), np.int64(96)], [np.int64(231806), np.int64(231903), np.int64(97)], [np.int64(232115), np.int64(232397), np.int64(282)], [np.int64(232674), np.int64(232777), np.int64(103)], [np.int64(233325), np.int64(233823), np.int64(498)], [np.int64(235282), np.int64(235411), np.int64(129)], [np.int64(235796), np.int64(235906), np.int64(110)], [np.int64(236152), np.int64(236303), np.int64(151)], [np.int64(236822), np.int64(236909), np.int64(87)], [np.int64(237203), np.int64(237312), np.int64(109)], [np.int64(237572), np.int64(237679), np.int64(107)], [np.int64(237952), np.int64(238102), np.int64(150)], [np.int64(238982), np.int64(239223), np.int64(241)], [np.int64(239726), np.int64(239996), np.int64(270)], [np.int64(240331), np.int64(240482), np.int64(151)], [np.int64(240789), np.int64(240861), np.int64(72)], [np.int64(243682), np.int64(243789), np.int64(107)], [np.int64(244355), np.int64(244513), np.int64(158)], [np.int64(244852), np.int64(244951), np.int64(99)], [np.int64(245209), np.int64(245297), np.int64(88)], [np.int64(246591), np.int64(246760), np.int64(169)], [np.int64(248962), np.int64(249147), np.int64(185)], [np.int64(254304), np.int64(254444), np.int64(140)], [np.int64(254710), np.int64(254780), np.int64(70)], [np.int64(254938), np.int64(254998), np.int64(60)], [np.int64(255468), np.int64(255641), np.int64(173)], [np.int64(255907), np.int64(256003), np.int64(96)], [np.int64(256333), np.int64(256409), np.int64(76)], [np.int64(260449), np.int64(260509), np.int64(60)]]}\n",
      "Interaction events keys: dict_keys(['training', 'generalisation'])\n",
      "Annotating events for ball type: training\n",
      "Annotating events for ball type: generalisation\n",
      "start_y: 488.27730792534146, type: <class 'numpy.float64'>\n",
      "Loading fly from /mnt/upramdya_data/MD/F1_Tracks/Videos/240821_F1_3mm_ends_Videos_Checked/arena6/Right\n",
      "Processing fly 1/1\n",
      "smoothing tracks\n",
      "Loaded SLEAP tracking file: /mnt/upramdya_data/MD/F1_Tracks/Videos/240821_F1_3mm_ends_Videos_Checked/arena6/Right/arena6_right_rotated_tracked_fly.000_arena6_right_rotated.analysis.h5\n",
      "N° of objects: 1\n",
      "Nodes: ['thorax']\n",
      "Video FPS: 29.0\n",
      "Processing ball 1/2\n",
      "smoothing tracks\n",
      "Processing ball 2/2\n",
      "smoothing tracks\n",
      "Loaded SLEAP tracking file: /mnt/upramdya_data/MD/F1_Tracks/Videos/240821_F1_3mm_ends_Videos_Checked/arena6/Right/arena6_right_rotated_tracked_ball_processed.000_arena6_right_rotated.analysis.h5\n",
      "N° of objects: 2\n",
      "Nodes: ['centre']\n",
      "Video FPS: 29.0\n",
      "Initial separation: 176.94497394316858\n",
      "No valid tracking data for xfly or xball for 2\n",
      "Processing ball type: generalisation\n",
      "             yball       xball        yfly       xfly   Frame         time  \\\n",
      "0       420.198693  230.618558  499.093777  53.673584       1     0.034483   \n",
      "1       420.198823  230.617242  499.102395  53.662504       2     0.068966   \n",
      "2       420.198952  230.615925  499.111013  53.651423       3     0.103448   \n",
      "3       420.199082  230.614609  499.119631  53.640343       4     0.137931   \n",
      "4       420.199212  230.613293  499.128249  53.629262       5     0.172414   \n",
      "...            ...         ...         ...        ...     ...          ...   \n",
      "261001  420.443946  229.847889  491.255622  25.210432  261002  9000.068966   \n",
      "261002  420.443925  229.850361  491.256357  25.212056  261003  9000.103448   \n",
      "261003  420.443903  229.852834  491.257091  25.213681  261004  9000.137931   \n",
      "261004  420.443882  229.855307  491.257826  25.215305  261005  9000.172414   \n",
      "261005  420.443860  229.857779  491.258560  25.216930  261006  9000.206897   \n",
      "\n",
      "        ball_idx  yfly_relative  yball_relative       ball_type  \n",
      "0              1       0.000000       78.895084  generalisation  \n",
      "1              1       0.008618       78.894954  generalisation  \n",
      "2              1       0.017236       78.894825  generalisation  \n",
      "3              1       0.025854       78.894695  generalisation  \n",
      "4              1       0.034472       78.894565  generalisation  \n",
      "...          ...            ...             ...             ...  \n",
      "261001         1       7.838155       78.649831  generalisation  \n",
      "261002         1       7.837420       78.649852  generalisation  \n",
      "261003         1       7.836686       78.649874  generalisation  \n",
      "261004         1       7.835951       78.649895  generalisation  \n",
      "261005         1       7.835217       78.649917  generalisation  \n",
      "\n",
      "[261006 rows x 10 columns]\n",
      "{}\n",
      "Interaction events keys: dict_keys([])\n",
      "Annotating events for ball type: generalisation\n"
     ]
    },
    {
     "ename": "KeyError",
     "evalue": "'generalisation'",
     "output_type": "error",
     "traceback": [
      "\u001b[0;31m---------------------------------------------------------------------------\u001b[0m",
      "\u001b[0;31mKeyError\u001b[0m                                  Traceback (most recent call last)",
      "Cell \u001b[0;32mIn[22], line 1\u001b[0m\n\u001b[0;32m----> 1\u001b[0m TestExp_F1 \u001b[38;5;241m=\u001b[39m \u001b[43mBallpushing_utils\u001b[49m\u001b[38;5;241;43m.\u001b[39;49m\u001b[43mExperiment\u001b[49m\u001b[43m(\u001b[49m\u001b[38;5;124;43m\"\u001b[39;49m\u001b[38;5;124;43m/mnt/upramdya_data/MD/F1_Tracks/Videos/240821_F1_3mm_ends_Videos_Checked\u001b[39;49m\u001b[38;5;124;43m\"\u001b[39;49m\u001b[43m)\u001b[49m\n",
      "File \u001b[0;32m~/utils_behavior/utils_behavior/Ballpushing_utils.py:1546\u001b[0m, in \u001b[0;36mExperiment.__init__\u001b[0;34m(self, directory, metadata_only)\u001b[0m\n\u001b[1;32m   1544\u001b[0m \u001b[38;5;66;03m# If metadata_only is True, don't load the flies\u001b[39;00m\n\u001b[1;32m   1545\u001b[0m \u001b[38;5;28;01mif\u001b[39;00m \u001b[38;5;129;01mnot\u001b[39;00m metadata_only:\n\u001b[0;32m-> 1546\u001b[0m     \u001b[38;5;28mself\u001b[39m\u001b[38;5;241m.\u001b[39mflies \u001b[38;5;241m=\u001b[39m \u001b[38;5;28;43mself\u001b[39;49m\u001b[38;5;241;43m.\u001b[39;49m\u001b[43mload_flies\u001b[49m\u001b[43m(\u001b[49m\u001b[43m)\u001b[49m\n\u001b[1;32m   1548\u001b[0m \u001b[38;5;66;03m# Check if the experiment directory contains a grid image and if there is \"corridor\" in sub subfolder names. if no grid, generate it\u001b[39;00m\n\u001b[1;32m   1549\u001b[0m \u001b[38;5;28;01mif\u001b[39;00m \u001b[38;5;129;01mnot\u001b[39;00m (\u001b[38;5;28mself\u001b[39m\u001b[38;5;241m.\u001b[39mdirectory \u001b[38;5;241m/\u001b[39m \u001b[38;5;124m\"\u001b[39m\u001b[38;5;124mgrid.png\u001b[39m\u001b[38;5;124m\"\u001b[39m)\u001b[38;5;241m.\u001b[39mexists() \u001b[38;5;129;01mand\u001b[39;00m \u001b[38;5;28many\u001b[39m(\u001b[38;5;124m\"\u001b[39m\u001b[38;5;124mcorridor\u001b[39m\u001b[38;5;124m\"\u001b[39m \u001b[38;5;129;01min\u001b[39;00m \u001b[38;5;28mstr\u001b[39m(subdir) \u001b[38;5;28;01mfor\u001b[39;00m subdir \u001b[38;5;129;01min\u001b[39;00m \u001b[38;5;28mself\u001b[39m\u001b[38;5;241m.\u001b[39mdirectory\u001b[38;5;241m.\u001b[39mrglob(\u001b[38;5;124m'\u001b[39m\u001b[38;5;124m*\u001b[39m\u001b[38;5;124m'\u001b[39m)):\n",
      "File \u001b[0;32m~/utils_behavior/utils_behavior/Ballpushing_utils.py:1653\u001b[0m, in \u001b[0;36mExperiment.load_flies\u001b[0;34m(self)\u001b[0m\n\u001b[1;32m   1651\u001b[0m \u001b[38;5;28mprint\u001b[39m(\u001b[38;5;124mf\u001b[39m\u001b[38;5;124m\"\u001b[39m\u001b[38;5;124mLoading fly from \u001b[39m\u001b[38;5;132;01m{\u001b[39;00mmp4_file\u001b[38;5;241m.\u001b[39mparent\u001b[38;5;132;01m}\u001b[39;00m\u001b[38;5;124m\"\u001b[39m)\n\u001b[1;32m   1652\u001b[0m \u001b[38;5;28;01mtry\u001b[39;00m:\n\u001b[0;32m-> 1653\u001b[0m     fly \u001b[38;5;241m=\u001b[39m \u001b[43mFly\u001b[49m\u001b[43m(\u001b[49m\u001b[43mmp4_file\u001b[49m\u001b[38;5;241;43m.\u001b[39;49m\u001b[43mparent\u001b[49m\u001b[43m,\u001b[49m\u001b[43m \u001b[49m\u001b[43mexperiment\u001b[49m\u001b[38;5;241;43m=\u001b[39;49m\u001b[38;5;28;43mself\u001b[39;49m\u001b[43m)\u001b[49m\n\u001b[1;32m   1654\u001b[0m     flies\u001b[38;5;241m.\u001b[39mappend(fly)\n\u001b[1;32m   1655\u001b[0m \u001b[38;5;28;01mexcept\u001b[39;00m \u001b[38;5;167;01mTypeError\u001b[39;00m \u001b[38;5;28;01mas\u001b[39;00m e:\n",
      "File \u001b[0;32m~/utils_behavior/utils_behavior/Ballpushing_utils.py:347\u001b[0m, in \u001b[0;36mFly.__init__\u001b[0;34m(self, directory, experiment, as_individual)\u001b[0m\n\u001b[1;32m    344\u001b[0m \u001b[38;5;28;01melse\u001b[39;00m:\n\u001b[1;32m    345\u001b[0m     \u001b[38;5;28mself\u001b[39m\u001b[38;5;241m.\u001b[39mflyball_positions \u001b[38;5;241m=\u001b[39m \u001b[38;5;28;01mNone\u001b[39;00m\n\u001b[0;32m--> 347\u001b[0m \u001b[38;5;28;43mself\u001b[39;49m\u001b[38;5;241;43m.\u001b[39;49m\u001b[43mannotate_events\u001b[49m\u001b[43m(\u001b[49m\u001b[43m)\u001b[49m\n\u001b[1;32m    349\u001b[0m \u001b[38;5;66;03m# Compute the skeleton tracking data\u001b[39;00m\n\u001b[1;32m    350\u001b[0m \u001b[38;5;28mself\u001b[39m\u001b[38;5;241m.\u001b[39mfly_skeleton \u001b[38;5;241m=\u001b[39m \u001b[38;5;28mself\u001b[39m\u001b[38;5;241m.\u001b[39mget_skeleton()\n",
      "File \u001b[0;32m~/utils_behavior/utils_behavior/Ballpushing_utils.py:923\u001b[0m, in \u001b[0;36mFly.annotate_events\u001b[0;34m(self)\u001b[0m\n\u001b[1;32m    920\u001b[0m \u001b[38;5;28mprint\u001b[39m(\u001b[38;5;124m\"\u001b[39m\u001b[38;5;124mAnnotating events for ball type:\u001b[39m\u001b[38;5;124m\"\u001b[39m, ball_type)\n\u001b[1;32m    921\u001b[0m flyball_positions[\u001b[38;5;124m\"\u001b[39m\u001b[38;5;124mevent\u001b[39m\u001b[38;5;124m\"\u001b[39m] \u001b[38;5;241m=\u001b[39m \u001b[38;5;28;01mNone\u001b[39;00m\n\u001b[0;32m--> 923\u001b[0m \u001b[38;5;28;01mfor\u001b[39;00m i, event \u001b[38;5;129;01min\u001b[39;00m \u001b[38;5;28menumerate\u001b[39m(\u001b[38;5;28;43mself\u001b[39;49m\u001b[38;5;241;43m.\u001b[39;49m\u001b[43minteraction_events\u001b[49m\u001b[43m[\u001b[49m\u001b[43mball_type\u001b[49m\u001b[43m]\u001b[49m, start\u001b[38;5;241m=\u001b[39m\u001b[38;5;241m1\u001b[39m):\n\u001b[1;32m    924\u001b[0m     start, end \u001b[38;5;241m=\u001b[39m event[\u001b[38;5;241m0\u001b[39m], event[\u001b[38;5;241m1\u001b[39m]\n\u001b[1;32m    926\u001b[0m     flyball_positions\u001b[38;5;241m.\u001b[39mloc[start:end, \u001b[38;5;124m\"\u001b[39m\u001b[38;5;124mevent\u001b[39m\u001b[38;5;124m\"\u001b[39m] \u001b[38;5;241m=\u001b[39m i\n",
      "\u001b[0;31mKeyError\u001b[0m: 'generalisation'"
     ]
    }
   ],
   "source": [
    "TestExp_F1 = Ballpushing_utils.Experiment(\"/mnt/upramdya_data/MD/F1_Tracks/Videos/240821_F1_3mm_ends_Videos_Checked\")"
   ]
  },
  {
   "cell_type": "code",
   "execution_count": 128,
   "metadata": {},
   "outputs": [],
   "source": [
    "data = Ballpushing_utils.Dataset(TestExp_F1)"
   ]
  },
  {
   "cell_type": "code",
   "execution_count": 129,
   "metadata": {},
   "outputs": [
    {
     "data": {
      "text/plain": [
       "'Dataset with 9 flies and 1 experiments\\nkeyword: '"
      ]
     },
     "execution_count": 129,
     "metadata": {},
     "output_type": "execute_result"
    }
   ],
   "source": [
    "str(data)"
   ]
  },
  {
   "cell_type": "code",
   "execution_count": 133,
   "metadata": {},
   "outputs": [
    {
     "data": {
      "text/plain": [
       "<module 'utils_behavior.Ballpushing_utils' from '/home/durrieu/utils_behavior/utils_behavior/Ballpushing_utils.py'>"
      ]
     },
     "execution_count": 133,
     "metadata": {},
     "output_type": "execute_result"
    }
   ],
   "source": [
    "importlib.reload(Ballpushing_utils)"
   ]
  },
  {
   "cell_type": "code",
   "execution_count": 134,
   "metadata": {},
   "outputs": [
    {
     "name": "stdout",
     "output_type": "stream",
     "text": [
      "An error occurred: The truth value of a DataFrame is ambiguous. Use a.empty, a.bool(), a.item(), a.any() or a.all().\n"
     ]
    },
    {
     "name": "stderr",
     "output_type": "stream",
     "text": [
      "Traceback (most recent call last):\n",
      "  File \"/home/durrieu/utils_behavior/utils_behavior/Ballpushing_utils.py\", line 1842, in generate_dataset\n",
      "    for fly in self.flies:\n",
      "                      ^^^^\n",
      "  File \"/home/durrieu/utils_behavior/utils_behavior/Ballpushing_utils.py\", line 1893, in _prepare_dataset_coordinates\n",
      "    pandas.DataFrame: A DataFrame containing the fly's coordinates and associated metadata.\n",
      "       ^^^^^^^^^^^^\n",
      "  File \"/home/durrieu/miniforge3/envs/tracking_analysis/lib/python3.12/site-packages/pandas/core/generic.py\", line 1577, in __nonzero__\n",
      "    raise ValueError(\n",
      "ValueError: The truth value of a DataFrame is ambiguous. Use a.empty, a.bool(), a.item(), a.any() or a.all().\n"
     ]
    },
    {
     "data": {
      "text/plain": [
       "{}"
      ]
     },
     "execution_count": 134,
     "metadata": {},
     "output_type": "execute_result"
    }
   ],
   "source": [
    "data.generate_dataset()"
   ]
  },
  {
   "cell_type": "code",
   "execution_count": null,
   "metadata": {},
   "outputs": [],
   "source": []
  }
 ],
 "metadata": {
  "kernelspec": {
   "display_name": "tracking_analysis",
   "language": "python",
   "name": "python3"
  },
  "language_info": {
   "codemirror_mode": {
    "name": "ipython",
    "version": 3
   },
   "file_extension": ".py",
   "mimetype": "text/x-python",
   "name": "python",
   "nbconvert_exporter": "python",
   "pygments_lexer": "ipython3",
   "version": "3.12.6"
  }
 },
 "nbformat": 4,
 "nbformat_minor": 2
}
